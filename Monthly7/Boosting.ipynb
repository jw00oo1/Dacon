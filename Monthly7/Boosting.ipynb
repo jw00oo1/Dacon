{
  "nbformat": 4,
  "nbformat_minor": 0,
  "metadata": {
    "colab": {
      "name": "Boosting.ipynb",
      "provenance": [],
      "include_colab_link": true
    },
    "kernelspec": {
      "name": "python3",
      "display_name": "Python 3"
    },
    "accelerator": "GPU"
  },
  "cells": [
    {
      "cell_type": "markdown",
      "metadata": {
        "id": "view-in-github",
        "colab_type": "text"
      },
      "source": [
        "<a href=\"https://colab.research.google.com/github/jw00oo1/Dacon/blob/main/Boosting.ipynb\" target=\"_parent\"><img src=\"https://colab.research.google.com/assets/colab-badge.svg\" alt=\"Open In Colab\"/></a>"
      ]
    },
    {
      "cell_type": "code",
      "metadata": {
        "id": "l7Jvm-JESoCV",
        "colab": {
          "base_uri": "https://localhost:8080/",
          "height": 35
        },
        "outputId": "77ab7b4a-4fa8-49e3-da3d-eef501f3f7aa"
      },
      "source": [
        "import tensorflow as tf\n",
        "import numpy as np\n",
        "import pandas as pd\n",
        "import os\n",
        "import matplotlib.pyplot as plt\n",
        "from pathlib import Path\n",
        "from tensorflow.keras.callbacks import ModelCheckpoint\n",
        "from datetime import datetime\n",
        "\n",
        "gpus = tf.config.experimental.list_physical_devices('GPU')\n",
        "if gpus:\n",
        "    try:\n",
        "        tf.config.experimental.set_memory_growth(gpus[0], True)\n",
        "    except RuntimeError as e:\n",
        "        print(e)\n",
        "\n",
        "data_url = {'train': 'https://bit.ly/34zEKdv',\n",
        "            'test': 'https://bit.ly/2YGZ0WJ',\n",
        "            'submission': 'https://bit.ly/3hDT2xi'}\n",
        "\n",
        "cwd = Path(os.getcwd())\n",
        "\n",
        "now = datetime.now()\n",
        "\n",
        "suffix = '2020_9_13__7_20_27'\n",
        "def set_suffix():\n",
        "  global suffix\n",
        "  now = datetime.now()\n",
        "  year, month, day, hour, minute, second = now.year, now.month, now.day, now.hour, now.minute, now.second\n",
        "  suffix = f'{year}_{month}_{day}__{hour}_{minute}_{second}'\n",
        "suffix"
      ],
      "execution_count": null,
      "outputs": [
        {
          "output_type": "execute_result",
          "data": {
            "application/vnd.google.colaboratory.intrinsic+json": {
              "type": "string"
            },
            "text/plain": [
              "'2020_9_13__7_20_27'"
            ]
          },
          "metadata": {
            "tags": []
          },
          "execution_count": 4
        }
      ]
    },
    {
      "cell_type": "code",
      "metadata": {
        "id": "zmCt8mHkfVl4"
      },
      "source": [
        "def check_res():\n",
        "  global cwd\n",
        "  if not (cwd / 'res').exists():\n",
        "    os.mkdir(cwd / 'res')\n",
        "    for key in data_url.keys():\n",
        "      download_url = data_url[key]\n",
        "      from urllib.request import urlopen \n",
        "      file = urlopen(download_url)\n",
        "      file_data = file.read()\n",
        "      with open(cwd / 'res' / f'{key}.csv', 'wb') as f:\n",
        "        f.write(file_data)\n",
        "        f.close()"
      ],
      "execution_count": null,
      "outputs": []
    },
    {
      "cell_type": "code",
      "metadata": {
        "id": "iDy2Ugelf-W5"
      },
      "source": [
        "check_res()\n",
        "\n",
        "train_path, test_path = [cwd / 'res' / f'{file}.csv' for file in ['train', 'test']]\n",
        "train_csv = pd.read_csv(train_path)\n",
        "test_csv = pd.read_csv(test_path)"
      ],
      "execution_count": null,
      "outputs": []
    },
    {
      "cell_type": "code",
      "metadata": {
        "id": "dabmQY0ugSFs"
      },
      "source": [
        "train_img = np.array(train_csv[train_csv.keys()[3:]])\n",
        "train_img = train_img/255.0\n",
        "train_digit = np.array(train_csv['digit'])"
      ],
      "execution_count": null,
      "outputs": []
    },
    {
      "cell_type": "code",
      "metadata": {
        "id": "8rjiJK5bhN45",
        "colab": {
          "base_uri": "https://localhost:8080/",
          "height": 50
        },
        "outputId": "c1782c13-5cff-4fe2-d18f-41fac09865b8"
      },
      "source": [
        "print(train_img.shape)\n",
        "print(train_digit.shape)"
      ],
      "execution_count": null,
      "outputs": [
        {
          "output_type": "stream",
          "text": [
            "(2048, 784)\n",
            "(2048,)\n"
          ],
          "name": "stdout"
        }
      ]
    },
    {
      "cell_type": "code",
      "metadata": {
        "id": "XdQnZLJ1hVLN"
      },
      "source": [
        "from sklearn.model_selection import train_test_split\n",
        "\n",
        "validation_split = 0.2\n",
        "train_img, val_img, train_digit, val_digit = train_test_split(train_img, train_digit, test_size = validation_split, random_state = 1004)\n"
      ],
      "execution_count": null,
      "outputs": []
    },
    {
      "cell_type": "code",
      "metadata": {
        "id": "7gTNIYWN02Me",
        "colab": {
          "base_uri": "https://localhost:8080/",
          "height": 50
        },
        "outputId": "d94b1ed0-7f44-4412-c915-2ff00bd15687"
      },
      "source": [
        "print(train_digit.shape)\n",
        "print(train_img.shape)"
      ],
      "execution_count": null,
      "outputs": [
        {
          "output_type": "stream",
          "text": [
            "(1638,)\n",
            "(1638, 784)\n"
          ],
          "name": "stdout"
        }
      ]
    },
    {
      "cell_type": "code",
      "metadata": {
        "id": "Inog5MLCh3y9"
      },
      "source": [
        "\"\"\"from sklearn.preprocessing import OneHotEncoder\n",
        "\n",
        "encoder = OneHotEncoder(sparse=False, categories='auto')\n",
        "yy = [[0],[1],[2],[3],[4],[5],[6],[7],[8],[9]]\n",
        "encoder.fit(yy)\n",
        "\n",
        "train_encoder = encoder.transform(train_digit.reshape(-1,1))\n",
        "val_encoder = encoder.transform(val_digit.reshape(-1,1))\"\"\""
      ],
      "execution_count": null,
      "outputs": []
    },
    {
      "cell_type": "code",
      "metadata": {
        "id": "VlDzD5vRiumu"
      },
      "source": [
        "\"\"\"print(train_encoder.shape)\n",
        "print(val_encoder.shape)\"\"\""
      ],
      "execution_count": null,
      "outputs": []
    },
    {
      "cell_type": "code",
      "metadata": {
        "id": "UX7FQCkji6Wx"
      },
      "source": [
        "from tensorflow.keras import Model, Input, layers\n",
        "from tensorflow.keras.layers import BatchNormalization, Conv2D, concatenate, Flatten, MaxPooling2D, Dropout\n",
        "from tensorflow.keras.callbacks import ReduceLROnPlateau"
      ],
      "execution_count": null,
      "outputs": []
    },
    {
      "cell_type": "code",
      "metadata": {
        "id": "lQQ5OKdQiyW8"
      },
      "source": [
        "\"\"\"def CNN():\n",
        "    img_input = Input(shape=(28, 28, 1))\n",
        "\n",
        "    c1_1 = Conv2D(128, kernel_size=3, strides=1, padding='same', activation='relu')(img_input)\n",
        "    c1_2 = Conv2D(128, kernel_size=3, strides=1, padding='same')(c1_1)\n",
        "    add1 = layers.add([c1_1, c1_2])\n",
        "    c1_3 = layers.Activation('relu')(add1)\n",
        "    output_1 = c1_3\n",
        "\n",
        "    c2_1 = Conv2D(128, kernel_size=3, strides=1, padding='same', activation='relu')(output_1)\n",
        "    c2_2 = Conv2D(128, kernel_size=3, strides=1, padding='same')(c2_1)\n",
        "    add2 = layers.add([c2_1, c2_2])\n",
        "    c2_3 = layers.Activation('relu')(add2)\n",
        "    output_2 = MaxPooling2D(pool_size=2)(c2_3)\n",
        "\n",
        "    c3_1 = Conv2D(256, kernel_size=3, strides=1, padding='same', activation='relu')(output_2)\n",
        "    c3_2 = Conv2D(256, kernel_size=3, strides=1, padding='same')(c3_1)\n",
        "    add3 = layers.add([c3_1, c3_2])\n",
        "    c3_3 = layers.Activation('relu')(add3)\n",
        "    output_3 = MaxPooling2D(pool_size=2)(c3_3)\n",
        "\n",
        "\n",
        "    c4_1 = Conv2D(512, kernel_size=3, strides=1, padding='same', activation='relu')(output_3)\n",
        "    c4_2 = Conv2D(512, kernel_size=3, strides=1, padding='same')(c4_1)\n",
        "    add4 = layers.add([c4_1, c4_2])\n",
        "    c4_3 = layers.Activation('relu')(add4)\n",
        "    output_4 = MaxPooling2D(pool_size=2)(c4_3)\n",
        "\n",
        "    x = Flatten()(output_4)\n",
        "    x = tf.keras.layers.Dense(512, activation='relu')(x)\n",
        "    x = Dropout(0.6)(x)\n",
        "    x = tf.keras.layers.Dense(512, activation='relu')(x)\n",
        "    x = Dropout(0.6)(x)\n",
        "    x = tf.keras.layers.Dense(10, activation='softmax')(x)\n",
        "\n",
        "    model = Model(inputs=[img_input], outputs=[x])\n",
        "    model.compile(optimizer=Adam(lr=0.0003),\n",
        "                  loss='categorical_crossentropy',\n",
        "                  metrics=['accuracy'])\n",
        "\n",
        "    return model\"\"\""
      ],
      "execution_count": null,
      "outputs": []
    },
    {
      "cell_type": "code",
      "metadata": {
        "id": "o5WlvWUwvp53",
        "colab": {
          "base_uri": "https://localhost:8080/",
          "height": 388
        },
        "outputId": "48103497-9e57-4362-9589-b6555c305975"
      },
      "source": [
        "    img_input = Input(shape=(28, 28, 1))\n",
        "\n",
        "    c0_1 = Conv2D(128, kernel_size=3, strides=1, padding='same', activation='relu')(img_input)\n",
        "    c0_2 = Conv2D(128, kernel_size=3, strides=1, padding='same')(c0_1)\n",
        "    add0 = layers.add([c0_1, c0_2])\n",
        "    c0_3 = layers.Activation('relu')(add0)\n",
        "    output_0 = c0_3\n",
        "\n",
        "    c1_1 = Conv2D(256, kernel_size=3, strides=1, padding='same', activation='relu')(output_0)\n",
        "    c1_2 = Conv2D(256, kernel_size=3, strides=1, padding='same')(c1_1)\n",
        "    add1 = layers.add([c1_1, c1_2])\n",
        "    c1_3 = layers.Activation('relu')(add1)\n",
        "    output_1 = MaxPooling2D(pool_size=2)(c1_3)\n",
        "\n",
        "    c2_1 = Conv2D(256, kernel_size=3, strides=1, padding='same', activation='relu')(output_1)\n",
        "    c2_2 = Conv2D(256, kernel_size=3, strides=1, padding='same')(c2_1)\n",
        "    add2 = layers.add([c2_1, c2_2])\n",
        "    c2_3 = layers.Activation('relu')(add2)\n",
        "    output_2 = c2_3\n",
        "\n",
        "    c3_1 = Conv2D(512, kernel_size=3, strides=1, padding='same', activation='relu')(output_2)\n",
        "    c3_2 = Conv2D(512, kernel_size=3, strides=1, padding='same')(c3_1)\n",
        "    add3 = layers.add([c3_1, c3_2])\n",
        "    c3_3 = layers.Activation('relu')(add3)\n",
        "    output_3 = MaxPooling2D(pool_size=2)(c3_3)\n",
        "\n",
        "    #c4_1 = Conv2D(512, kernel_size=3, strides=1, padding='same', activation='relu')(output_3)\n",
        "    #c4_2 = Conv2D(512, kernel_size=3, strides=1, padding='same')(c4_1)\n",
        "    #add4 = layers.add([c4_1, c4_2])\n",
        "    #c4_3 = layers.Activation('relu')(add4)\n",
        "    #output_4 = MaxPooling2D(pool_size=2)(c4_3)\n",
        "\n",
        "    x = Flatten()(output_3)\n",
        "    x = tf.keras.layers.Dense(512, activation='relu')(x)\n",
        "    x = Dropout(0.6)(x)\n",
        "    inter_dense = tf.keras.layers.Dense(512, activation='relu')(x)\n",
        "    x = Dropout(0.6)(inter_dense)\n",
        "    x = tf.keras.layers.Dense(10, activation='softmax')(x)\n",
        "\n",
        "    model_inter_dense = Model(inputs=[img_input], outputs=[inter_dense])\n",
        "    model = Model(inputs=[img_input], outputs=[x])\n",
        "    model.compile(optimizer=tf.keras.optimizers.Adam(lr=0.0003),\n",
        "                  loss='sparse_categorical_crossentropy',\n",
        "                  metrics=['accuracy'])"
      ],
      "execution_count": null,
      "outputs": [
        {
          "output_type": "error",
          "ename": "ValueError",
          "evalue": "ignored",
          "traceback": [
            "\u001b[0;31m---------------------------------------------------------------------------\u001b[0m",
            "\u001b[0;31mValueError\u001b[0m                                Traceback (most recent call last)",
            "\u001b[0;32m<ipython-input-71-ebca5580262f>\u001b[0m in \u001b[0;36m<module>\u001b[0;34m()\u001b[0m\n\u001b[1;32m      9\u001b[0m \u001b[0mc1_1\u001b[0m \u001b[0;34m=\u001b[0m \u001b[0mConv2D\u001b[0m\u001b[0;34m(\u001b[0m\u001b[0;36m256\u001b[0m\u001b[0;34m,\u001b[0m \u001b[0mkernel_size\u001b[0m\u001b[0;34m=\u001b[0m\u001b[0;36m3\u001b[0m\u001b[0;34m,\u001b[0m \u001b[0mstrides\u001b[0m\u001b[0;34m=\u001b[0m\u001b[0;36m1\u001b[0m\u001b[0;34m,\u001b[0m \u001b[0mpadding\u001b[0m\u001b[0;34m=\u001b[0m\u001b[0;34m'same'\u001b[0m\u001b[0;34m,\u001b[0m \u001b[0mactivation\u001b[0m\u001b[0;34m=\u001b[0m\u001b[0;34m'relu'\u001b[0m\u001b[0;34m)\u001b[0m\u001b[0;34m(\u001b[0m\u001b[0moutput_0\u001b[0m\u001b[0;34m)\u001b[0m\u001b[0;34m\u001b[0m\u001b[0;34m\u001b[0m\u001b[0m\n\u001b[1;32m     10\u001b[0m \u001b[0mc1_2\u001b[0m \u001b[0;34m=\u001b[0m \u001b[0mConv2D\u001b[0m\u001b[0;34m(\u001b[0m\u001b[0;36m256\u001b[0m\u001b[0;34m,\u001b[0m \u001b[0mkernel_size\u001b[0m\u001b[0;34m=\u001b[0m\u001b[0;36m3\u001b[0m\u001b[0;34m,\u001b[0m \u001b[0mstrides\u001b[0m\u001b[0;34m=\u001b[0m\u001b[0;36m1\u001b[0m\u001b[0;34m,\u001b[0m \u001b[0mpadding\u001b[0m\u001b[0;34m=\u001b[0m\u001b[0;34m'same'\u001b[0m\u001b[0;34m)\u001b[0m\u001b[0;34m(\u001b[0m\u001b[0mc1_1\u001b[0m\u001b[0;34m)\u001b[0m\u001b[0;34m\u001b[0m\u001b[0;34m\u001b[0m\u001b[0m\n\u001b[0;32m---> 11\u001b[0;31m \u001b[0madd1\u001b[0m \u001b[0;34m=\u001b[0m \u001b[0mlayers\u001b[0m\u001b[0;34m.\u001b[0m\u001b[0madd\u001b[0m\u001b[0;34m(\u001b[0m\u001b[0;34m[\u001b[0m\u001b[0mc1_1\u001b[0m\u001b[0;34m,\u001b[0m \u001b[0mc1_2\u001b[0m\u001b[0;34m,\u001b[0m \u001b[0mc0_3\u001b[0m\u001b[0;34m]\u001b[0m\u001b[0;34m)\u001b[0m\u001b[0;34m\u001b[0m\u001b[0;34m\u001b[0m\u001b[0m\n\u001b[0m\u001b[1;32m     12\u001b[0m \u001b[0mc1_3\u001b[0m \u001b[0;34m=\u001b[0m \u001b[0mlayers\u001b[0m\u001b[0;34m.\u001b[0m\u001b[0mActivation\u001b[0m\u001b[0;34m(\u001b[0m\u001b[0;34m'relu'\u001b[0m\u001b[0;34m)\u001b[0m\u001b[0;34m(\u001b[0m\u001b[0madd1\u001b[0m\u001b[0;34m)\u001b[0m\u001b[0;34m\u001b[0m\u001b[0;34m\u001b[0m\u001b[0m\n\u001b[1;32m     13\u001b[0m \u001b[0moutput_1\u001b[0m \u001b[0;34m=\u001b[0m \u001b[0mMaxPooling2D\u001b[0m\u001b[0;34m(\u001b[0m\u001b[0mpool_size\u001b[0m\u001b[0;34m=\u001b[0m\u001b[0;36m2\u001b[0m\u001b[0;34m)\u001b[0m\u001b[0;34m(\u001b[0m\u001b[0mc1_3\u001b[0m\u001b[0;34m)\u001b[0m\u001b[0;34m\u001b[0m\u001b[0;34m\u001b[0m\u001b[0m\n",
            "\u001b[0;32m/usr/local/lib/python3.6/dist-packages/tensorflow/python/keras/layers/merge.py\u001b[0m in \u001b[0;36madd\u001b[0;34m(inputs, **kwargs)\u001b[0m\n\u001b[1;32m    769\u001b[0m \u001b[0;34m\u001b[0m\u001b[0m\n\u001b[1;32m    770\u001b[0m   \"\"\"\n\u001b[0;32m--> 771\u001b[0;31m   \u001b[0;32mreturn\u001b[0m \u001b[0mAdd\u001b[0m\u001b[0;34m(\u001b[0m\u001b[0;34m**\u001b[0m\u001b[0mkwargs\u001b[0m\u001b[0;34m)\u001b[0m\u001b[0;34m(\u001b[0m\u001b[0minputs\u001b[0m\u001b[0;34m)\u001b[0m\u001b[0;34m\u001b[0m\u001b[0;34m\u001b[0m\u001b[0m\n\u001b[0m\u001b[1;32m    772\u001b[0m \u001b[0;34m\u001b[0m\u001b[0m\n\u001b[1;32m    773\u001b[0m \u001b[0;34m\u001b[0m\u001b[0m\n",
            "\u001b[0;32m/usr/local/lib/python3.6/dist-packages/tensorflow/python/keras/engine/base_layer.py\u001b[0m in \u001b[0;36m__call__\u001b[0;34m(self, *args, **kwargs)\u001b[0m\n\u001b[1;32m    924\u001b[0m     \u001b[0;32mif\u001b[0m \u001b[0m_in_functional_construction_mode\u001b[0m\u001b[0;34m(\u001b[0m\u001b[0mself\u001b[0m\u001b[0;34m,\u001b[0m \u001b[0minputs\u001b[0m\u001b[0;34m,\u001b[0m \u001b[0margs\u001b[0m\u001b[0;34m,\u001b[0m \u001b[0mkwargs\u001b[0m\u001b[0;34m,\u001b[0m \u001b[0minput_list\u001b[0m\u001b[0;34m)\u001b[0m\u001b[0;34m:\u001b[0m\u001b[0;34m\u001b[0m\u001b[0;34m\u001b[0m\u001b[0m\n\u001b[1;32m    925\u001b[0m       return self._functional_construction_call(inputs, args, kwargs,\n\u001b[0;32m--> 926\u001b[0;31m                                                 input_list)\n\u001b[0m\u001b[1;32m    927\u001b[0m \u001b[0;34m\u001b[0m\u001b[0m\n\u001b[1;32m    928\u001b[0m     \u001b[0;31m# Maintains info about the `Layer.call` stack.\u001b[0m\u001b[0;34m\u001b[0m\u001b[0;34m\u001b[0m\u001b[0;34m\u001b[0m\u001b[0m\n",
            "\u001b[0;32m/usr/local/lib/python3.6/dist-packages/tensorflow/python/keras/engine/base_layer.py\u001b[0m in \u001b[0;36m_functional_construction_call\u001b[0;34m(self, inputs, args, kwargs, input_list)\u001b[0m\n\u001b[1;32m   1096\u001b[0m         \u001b[0;31m# Build layer if applicable (if the `build` method has been\u001b[0m\u001b[0;34m\u001b[0m\u001b[0;34m\u001b[0m\u001b[0;34m\u001b[0m\u001b[0m\n\u001b[1;32m   1097\u001b[0m         \u001b[0;31m# overridden).\u001b[0m\u001b[0;34m\u001b[0m\u001b[0;34m\u001b[0m\u001b[0;34m\u001b[0m\u001b[0m\n\u001b[0;32m-> 1098\u001b[0;31m         \u001b[0mself\u001b[0m\u001b[0;34m.\u001b[0m\u001b[0m_maybe_build\u001b[0m\u001b[0;34m(\u001b[0m\u001b[0minputs\u001b[0m\u001b[0;34m)\u001b[0m\u001b[0;34m\u001b[0m\u001b[0;34m\u001b[0m\u001b[0m\n\u001b[0m\u001b[1;32m   1099\u001b[0m         \u001b[0mcast_inputs\u001b[0m \u001b[0;34m=\u001b[0m \u001b[0mself\u001b[0m\u001b[0;34m.\u001b[0m\u001b[0m_maybe_cast_inputs\u001b[0m\u001b[0;34m(\u001b[0m\u001b[0minputs\u001b[0m\u001b[0;34m,\u001b[0m \u001b[0minput_list\u001b[0m\u001b[0;34m)\u001b[0m\u001b[0;34m\u001b[0m\u001b[0;34m\u001b[0m\u001b[0m\n\u001b[1;32m   1100\u001b[0m \u001b[0;34m\u001b[0m\u001b[0m\n",
            "\u001b[0;32m/usr/local/lib/python3.6/dist-packages/tensorflow/python/keras/engine/base_layer.py\u001b[0m in \u001b[0;36m_maybe_build\u001b[0;34m(self, inputs)\u001b[0m\n\u001b[1;32m   2641\u001b[0m         \u001b[0;31m# operations.\u001b[0m\u001b[0;34m\u001b[0m\u001b[0;34m\u001b[0m\u001b[0;34m\u001b[0m\u001b[0m\n\u001b[1;32m   2642\u001b[0m         \u001b[0;32mwith\u001b[0m \u001b[0mtf_utils\u001b[0m\u001b[0;34m.\u001b[0m\u001b[0mmaybe_init_scope\u001b[0m\u001b[0;34m(\u001b[0m\u001b[0mself\u001b[0m\u001b[0;34m)\u001b[0m\u001b[0;34m:\u001b[0m\u001b[0;34m\u001b[0m\u001b[0;34m\u001b[0m\u001b[0m\n\u001b[0;32m-> 2643\u001b[0;31m           \u001b[0mself\u001b[0m\u001b[0;34m.\u001b[0m\u001b[0mbuild\u001b[0m\u001b[0;34m(\u001b[0m\u001b[0minput_shapes\u001b[0m\u001b[0;34m)\u001b[0m  \u001b[0;31m# pylint:disable=not-callable\u001b[0m\u001b[0;34m\u001b[0m\u001b[0;34m\u001b[0m\u001b[0m\n\u001b[0m\u001b[1;32m   2644\u001b[0m       \u001b[0;31m# We must set also ensure that the layer is marked as built, and the build\u001b[0m\u001b[0;34m\u001b[0m\u001b[0;34m\u001b[0m\u001b[0;34m\u001b[0m\u001b[0m\n\u001b[1;32m   2645\u001b[0m       \u001b[0;31m# shape is stored since user defined build functions may not be calling\u001b[0m\u001b[0;34m\u001b[0m\u001b[0;34m\u001b[0m\u001b[0;34m\u001b[0m\u001b[0m\n",
            "\u001b[0;32m/usr/local/lib/python3.6/dist-packages/tensorflow/python/keras/utils/tf_utils.py\u001b[0m in \u001b[0;36mwrapper\u001b[0;34m(instance, input_shape)\u001b[0m\n\u001b[1;32m    321\u001b[0m     \u001b[0;32mif\u001b[0m \u001b[0minput_shape\u001b[0m \u001b[0;32mis\u001b[0m \u001b[0;32mnot\u001b[0m \u001b[0;32mNone\u001b[0m\u001b[0;34m:\u001b[0m\u001b[0;34m\u001b[0m\u001b[0;34m\u001b[0m\u001b[0m\n\u001b[1;32m    322\u001b[0m       \u001b[0minput_shape\u001b[0m \u001b[0;34m=\u001b[0m \u001b[0mconvert_shapes\u001b[0m\u001b[0;34m(\u001b[0m\u001b[0minput_shape\u001b[0m\u001b[0;34m,\u001b[0m \u001b[0mto_tuples\u001b[0m\u001b[0;34m=\u001b[0m\u001b[0;32mTrue\u001b[0m\u001b[0;34m)\u001b[0m\u001b[0;34m\u001b[0m\u001b[0;34m\u001b[0m\u001b[0m\n\u001b[0;32m--> 323\u001b[0;31m     \u001b[0moutput_shape\u001b[0m \u001b[0;34m=\u001b[0m \u001b[0mfn\u001b[0m\u001b[0;34m(\u001b[0m\u001b[0minstance\u001b[0m\u001b[0;34m,\u001b[0m \u001b[0minput_shape\u001b[0m\u001b[0;34m)\u001b[0m\u001b[0;34m\u001b[0m\u001b[0;34m\u001b[0m\u001b[0m\n\u001b[0m\u001b[1;32m    324\u001b[0m     \u001b[0;31m# Return shapes from `fn` as TensorShapes.\u001b[0m\u001b[0;34m\u001b[0m\u001b[0;34m\u001b[0m\u001b[0;34m\u001b[0m\u001b[0m\n\u001b[1;32m    325\u001b[0m     \u001b[0;32mif\u001b[0m \u001b[0moutput_shape\u001b[0m \u001b[0;32mis\u001b[0m \u001b[0;32mnot\u001b[0m \u001b[0;32mNone\u001b[0m\u001b[0;34m:\u001b[0m\u001b[0;34m\u001b[0m\u001b[0;34m\u001b[0m\u001b[0m\n",
            "\u001b[0;32m/usr/local/lib/python3.6/dist-packages/tensorflow/python/keras/layers/merge.py\u001b[0m in \u001b[0;36mbuild\u001b[0;34m(self, input_shape)\u001b[0m\n\u001b[1;32m    110\u001b[0m       \u001b[0;32melse\u001b[0m\u001b[0;34m:\u001b[0m\u001b[0;34m\u001b[0m\u001b[0;34m\u001b[0m\u001b[0m\n\u001b[1;32m    111\u001b[0m         \u001b[0mshape\u001b[0m \u001b[0;34m=\u001b[0m \u001b[0minput_shape\u001b[0m\u001b[0;34m[\u001b[0m\u001b[0mi\u001b[0m\u001b[0;34m]\u001b[0m\u001b[0;34m[\u001b[0m\u001b[0;36m1\u001b[0m\u001b[0;34m:\u001b[0m\u001b[0;34m]\u001b[0m\u001b[0;34m\u001b[0m\u001b[0;34m\u001b[0m\u001b[0m\n\u001b[0;32m--> 112\u001b[0;31m       \u001b[0moutput_shape\u001b[0m \u001b[0;34m=\u001b[0m \u001b[0mself\u001b[0m\u001b[0;34m.\u001b[0m\u001b[0m_compute_elemwise_op_output_shape\u001b[0m\u001b[0;34m(\u001b[0m\u001b[0moutput_shape\u001b[0m\u001b[0;34m,\u001b[0m \u001b[0mshape\u001b[0m\u001b[0;34m)\u001b[0m\u001b[0;34m\u001b[0m\u001b[0;34m\u001b[0m\u001b[0m\n\u001b[0m\u001b[1;32m    113\u001b[0m     \u001b[0;31m# If the inputs have different ranks, we have to reshape them\u001b[0m\u001b[0;34m\u001b[0m\u001b[0;34m\u001b[0m\u001b[0;34m\u001b[0m\u001b[0m\n\u001b[1;32m    114\u001b[0m     \u001b[0;31m# to make them broadcastable.\u001b[0m\u001b[0;34m\u001b[0m\u001b[0;34m\u001b[0m\u001b[0;34m\u001b[0m\u001b[0m\n",
            "\u001b[0;32m/usr/local/lib/python3.6/dist-packages/tensorflow/python/keras/layers/merge.py\u001b[0m in \u001b[0;36m_compute_elemwise_op_output_shape\u001b[0;34m(self, shape1, shape2)\u001b[0m\n\u001b[1;32m     83\u001b[0m           raise ValueError(\n\u001b[1;32m     84\u001b[0m               \u001b[0;34m'Operands could not be broadcast '\u001b[0m\u001b[0;34m\u001b[0m\u001b[0;34m\u001b[0m\u001b[0m\n\u001b[0;32m---> 85\u001b[0;31m               'together with shapes ' + str(shape1) + ' ' + str(shape2))\n\u001b[0m\u001b[1;32m     86\u001b[0m         \u001b[0moutput_shape\u001b[0m\u001b[0;34m.\u001b[0m\u001b[0mappend\u001b[0m\u001b[0;34m(\u001b[0m\u001b[0mi\u001b[0m\u001b[0;34m)\u001b[0m\u001b[0;34m\u001b[0m\u001b[0;34m\u001b[0m\u001b[0m\n\u001b[1;32m     87\u001b[0m     \u001b[0;32mreturn\u001b[0m \u001b[0mtuple\u001b[0m\u001b[0;34m(\u001b[0m\u001b[0moutput_shape\u001b[0m\u001b[0;34m)\u001b[0m\u001b[0;34m\u001b[0m\u001b[0;34m\u001b[0m\u001b[0m\n",
            "\u001b[0;31mValueError\u001b[0m: Operands could not be broadcast together with shapes (28, 28, 256) (28, 28, 128)"
          ]
        }
      ]
    },
    {
      "cell_type": "code",
      "metadata": {
        "id": "mSdEr_HUZqDJ",
        "colab": {
          "base_uri": "https://localhost:8080/",
          "height": 1000
        },
        "outputId": "5bccb4bd-84b6-471b-a067-b09a1924426d"
      },
      "source": [
        "model.summary()"
      ],
      "execution_count": null,
      "outputs": [
        {
          "output_type": "stream",
          "text": [
            "Model: \"functional_64\"\n",
            "__________________________________________________________________________________________________\n",
            "Layer (type)                    Output Shape         Param #     Connected to                     \n",
            "==================================================================================================\n",
            "input_21 (InputLayer)           [(None, 28, 28, 1)]  0                                            \n",
            "__________________________________________________________________________________________________\n",
            "conv2d_176 (Conv2D)             (None, 28, 28, 128)  1280        input_21[0][0]                   \n",
            "__________________________________________________________________________________________________\n",
            "conv2d_177 (Conv2D)             (None, 28, 28, 128)  147584      conv2d_176[0][0]                 \n",
            "__________________________________________________________________________________________________\n",
            "add_88 (Add)                    (None, 28, 28, 128)  0           conv2d_176[0][0]                 \n",
            "                                                                 conv2d_177[0][0]                 \n",
            "__________________________________________________________________________________________________\n",
            "activation_86 (Activation)      (None, 28, 28, 128)  0           add_88[0][0]                     \n",
            "__________________________________________________________________________________________________\n",
            "conv2d_178 (Conv2D)             (None, 28, 28, 128)  147584      activation_86[0][0]              \n",
            "__________________________________________________________________________________________________\n",
            "conv2d_179 (Conv2D)             (None, 28, 28, 128)  147584      conv2d_178[0][0]                 \n",
            "__________________________________________________________________________________________________\n",
            "add_89 (Add)                    (None, 28, 28, 128)  0           conv2d_178[0][0]                 \n",
            "                                                                 conv2d_179[0][0]                 \n",
            "                                                                 activation_86[0][0]              \n",
            "__________________________________________________________________________________________________\n",
            "activation_87 (Activation)      (None, 28, 28, 128)  0           add_89[0][0]                     \n",
            "__________________________________________________________________________________________________\n",
            "max_pooling2d_53 (MaxPooling2D) (None, 14, 14, 128)  0           activation_87[0][0]              \n",
            "__________________________________________________________________________________________________\n",
            "conv2d_180 (Conv2D)             (None, 14, 14, 256)  295168      max_pooling2d_53[0][0]           \n",
            "__________________________________________________________________________________________________\n",
            "conv2d_181 (Conv2D)             (None, 14, 14, 256)  590080      conv2d_180[0][0]                 \n",
            "__________________________________________________________________________________________________\n",
            "add_90 (Add)                    (None, 14, 14, 256)  0           conv2d_180[0][0]                 \n",
            "                                                                 conv2d_181[0][0]                 \n",
            "__________________________________________________________________________________________________\n",
            "activation_88 (Activation)      (None, 14, 14, 256)  0           add_90[0][0]                     \n",
            "__________________________________________________________________________________________________\n",
            "conv2d_182 (Conv2D)             (None, 14, 14, 256)  590080      activation_88[0][0]              \n",
            "__________________________________________________________________________________________________\n",
            "conv2d_183 (Conv2D)             (None, 14, 14, 256)  590080      conv2d_182[0][0]                 \n",
            "__________________________________________________________________________________________________\n",
            "add_91 (Add)                    (None, 14, 14, 256)  0           conv2d_182[0][0]                 \n",
            "                                                                 conv2d_183[0][0]                 \n",
            "                                                                 activation_88[0][0]              \n",
            "__________________________________________________________________________________________________\n",
            "activation_89 (Activation)      (None, 14, 14, 256)  0           add_91[0][0]                     \n",
            "__________________________________________________________________________________________________\n",
            "max_pooling2d_54 (MaxPooling2D) (None, 7, 7, 256)    0           activation_89[0][0]              \n",
            "__________________________________________________________________________________________________\n",
            "flatten_16 (Flatten)            (None, 12544)        0           max_pooling2d_54[0][0]           \n",
            "__________________________________________________________________________________________________\n",
            "dense_38 (Dense)                (None, 512)          6423040     flatten_16[0][0]                 \n",
            "__________________________________________________________________________________________________\n",
            "dropout_22 (Dropout)            (None, 512)          0           dense_38[0][0]                   \n",
            "__________________________________________________________________________________________________\n",
            "dense_39 (Dense)                (None, 512)          262656      dropout_22[0][0]                 \n",
            "__________________________________________________________________________________________________\n",
            "dropout_23 (Dropout)            (None, 512)          0           dense_39[0][0]                   \n",
            "__________________________________________________________________________________________________\n",
            "dense_40 (Dense)                (None, 10)           5130        dropout_23[0][0]                 \n",
            "==================================================================================================\n",
            "Total params: 9,200,266\n",
            "Trainable params: 9,200,266\n",
            "Non-trainable params: 0\n",
            "__________________________________________________________________________________________________\n"
          ],
          "name": "stdout"
        }
      ]
    },
    {
      "cell_type": "code",
      "metadata": {
        "id": "f8Yrw7TMkpuA"
      },
      "source": [
        "train_img = train_img.reshape(-1,28,28,1)\n",
        "val_img =  val_img.reshape(-1,28,28,1)\n"
      ],
      "execution_count": null,
      "outputs": []
    },
    {
      "cell_type": "code",
      "metadata": {
        "id": "-hthFy16jexk",
        "colab": {
          "base_uri": "https://localhost:8080/",
          "height": 1000
        },
        "outputId": "68d659bb-689c-4a6c-fbeb-860add58d6e2"
      },
      "source": [
        "from tensorflow.keras.optimizers import Adam, Adadelta, RMSprop\n",
        "\n",
        "epochs = 100\n",
        "batch_size = 32\n",
        "\n",
        "reduceLR = ReduceLROnPlateau(\n",
        "    monitor = 'val_loss',\n",
        "    factor = 0.5,\n",
        "    patience=10,\n",
        ")\n",
        "model_path = cwd / 'CNN' / f'best_model_{suffix}.h5'\n",
        "mc = ModelCheckpoint(model_path, monitor='val_loss', mode='min', save_best_only=True, verbose=1)\n",
        "callback = tf.keras.callbacks.EarlyStopping(monitor = 'val_loss', patience = 30, restore_best_weights = True)\n",
        "\n",
        "history = model.fit(x = train_img, y = train_digit, epochs = epochs, batch_size = batch_size,\n",
        "                       shuffle = True, validation_data = (val_img, val_digit), callbacks = [callback,mc, reduceLR])"
      ],
      "execution_count": null,
      "outputs": [
        {
          "output_type": "stream",
          "text": [
            "Epoch 1/100\n",
            "51/52 [============================>.] - ETA: 0s - loss: 2.3080 - accuracy: 0.1072\n",
            "Epoch 00001: val_loss improved from inf to 2.28626, saving model to /content/CNN/best_model_2020_9_13__7_20_27.h5\n",
            "52/52 [==============================] - 2s 41ms/step - loss: 2.3083 - accuracy: 0.1081 - val_loss: 2.2863 - val_accuracy: 0.1049\n",
            "Epoch 2/100\n",
            "51/52 [============================>.] - ETA: 0s - loss: 2.2787 - accuracy: 0.1348\n",
            "Epoch 00002: val_loss improved from 2.28626 to 2.22446, saving model to /content/CNN/best_model_2020_9_13__7_20_27.h5\n",
            "52/52 [==============================] - 2s 38ms/step - loss: 2.2785 - accuracy: 0.1343 - val_loss: 2.2245 - val_accuracy: 0.1463\n",
            "Epoch 3/100\n",
            "51/52 [============================>.] - ETA: 0s - loss: 2.1058 - accuracy: 0.2181\n",
            "Epoch 00003: val_loss improved from 2.22446 to 1.82383, saving model to /content/CNN/best_model_2020_9_13__7_20_27.h5\n",
            "52/52 [==============================] - 2s 38ms/step - loss: 2.1053 - accuracy: 0.2179 - val_loss: 1.8238 - val_accuracy: 0.4341\n",
            "Epoch 4/100\n",
            "51/52 [============================>.] - ETA: 0s - loss: 1.7362 - accuracy: 0.4069\n",
            "Epoch 00004: val_loss improved from 1.82383 to 1.19523, saving model to /content/CNN/best_model_2020_9_13__7_20_27.h5\n",
            "52/52 [==============================] - 2s 38ms/step - loss: 1.7354 - accuracy: 0.4078 - val_loss: 1.1952 - val_accuracy: 0.6439\n",
            "Epoch 5/100\n",
            "51/52 [============================>.] - ETA: 0s - loss: 1.3619 - accuracy: 0.5496\n",
            "Epoch 00005: val_loss improved from 1.19523 to 0.84917, saving model to /content/CNN/best_model_2020_9_13__7_20_27.h5\n",
            "52/52 [==============================] - 2s 38ms/step - loss: 1.3598 - accuracy: 0.5495 - val_loss: 0.8492 - val_accuracy: 0.7220\n",
            "Epoch 6/100\n",
            "51/52 [============================>.] - ETA: 0s - loss: 1.0867 - accuracy: 0.6593\n",
            "Epoch 00006: val_loss improved from 0.84917 to 0.66695, saving model to /content/CNN/best_model_2020_9_13__7_20_27.h5\n",
            "52/52 [==============================] - 2s 38ms/step - loss: 1.0831 - accuracy: 0.6606 - val_loss: 0.6670 - val_accuracy: 0.7854\n",
            "Epoch 7/100\n",
            "51/52 [============================>.] - ETA: 0s - loss: 0.8209 - accuracy: 0.7304\n",
            "Epoch 00007: val_loss improved from 0.66695 to 0.61567, saving model to /content/CNN/best_model_2020_9_13__7_20_27.h5\n",
            "52/52 [==============================] - 2s 38ms/step - loss: 0.8213 - accuracy: 0.7302 - val_loss: 0.6157 - val_accuracy: 0.7878\n",
            "Epoch 8/100\n",
            "51/52 [============================>.] - ETA: 0s - loss: 0.7128 - accuracy: 0.7739\n",
            "Epoch 00008: val_loss improved from 0.61567 to 0.47363, saving model to /content/CNN/best_model_2020_9_13__7_20_27.h5\n",
            "52/52 [==============================] - 2s 38ms/step - loss: 0.7103 - accuracy: 0.7747 - val_loss: 0.4736 - val_accuracy: 0.8244\n",
            "Epoch 9/100\n",
            "51/52 [============================>.] - ETA: 0s - loss: 0.6208 - accuracy: 0.8051\n",
            "Epoch 00009: val_loss improved from 0.47363 to 0.42154, saving model to /content/CNN/best_model_2020_9_13__7_20_27.h5\n",
            "52/52 [==============================] - 2s 38ms/step - loss: 0.6195 - accuracy: 0.8053 - val_loss: 0.4215 - val_accuracy: 0.8488\n",
            "Epoch 10/100\n",
            "51/52 [============================>.] - ETA: 0s - loss: 0.4699 - accuracy: 0.8456\n",
            "Epoch 00010: val_loss improved from 0.42154 to 0.42064, saving model to /content/CNN/best_model_2020_9_13__7_20_27.h5\n",
            "52/52 [==============================] - 2s 38ms/step - loss: 0.4683 - accuracy: 0.8462 - val_loss: 0.4206 - val_accuracy: 0.8634\n",
            "Epoch 11/100\n",
            "51/52 [============================>.] - ETA: 0s - loss: 0.4244 - accuracy: 0.8621\n",
            "Epoch 00011: val_loss improved from 0.42064 to 0.35605, saving model to /content/CNN/best_model_2020_9_13__7_20_27.h5\n",
            "52/52 [==============================] - 2s 38ms/step - loss: 0.4235 - accuracy: 0.8626 - val_loss: 0.3561 - val_accuracy: 0.8732\n",
            "Epoch 12/100\n",
            "51/52 [============================>.] - ETA: 0s - loss: 0.3406 - accuracy: 0.8891\n",
            "Epoch 00012: val_loss improved from 0.35605 to 0.32145, saving model to /content/CNN/best_model_2020_9_13__7_20_27.h5\n",
            "52/52 [==============================] - 2s 38ms/step - loss: 0.3413 - accuracy: 0.8889 - val_loss: 0.3214 - val_accuracy: 0.8878\n",
            "Epoch 13/100\n",
            "51/52 [============================>.] - ETA: 0s - loss: 0.3182 - accuracy: 0.9032\n",
            "Epoch 00013: val_loss did not improve from 0.32145\n",
            "52/52 [==============================] - 2s 37ms/step - loss: 0.3173 - accuracy: 0.9035 - val_loss: 0.3674 - val_accuracy: 0.8829\n",
            "Epoch 14/100\n",
            "51/52 [============================>.] - ETA: 0s - loss: 0.2951 - accuracy: 0.9075\n",
            "Epoch 00014: val_loss did not improve from 0.32145\n",
            "52/52 [==============================] - 2s 38ms/step - loss: 0.3004 - accuracy: 0.9066 - val_loss: 0.3589 - val_accuracy: 0.8829\n",
            "Epoch 15/100\n",
            "51/52 [============================>.] - ETA: 0s - loss: 0.2830 - accuracy: 0.9136\n",
            "Epoch 00015: val_loss did not improve from 0.32145\n",
            "52/52 [==============================] - 2s 37ms/step - loss: 0.2820 - accuracy: 0.9139 - val_loss: 0.3486 - val_accuracy: 0.8805\n",
            "Epoch 16/100\n",
            "51/52 [============================>.] - ETA: 0s - loss: 0.2221 - accuracy: 0.9265\n",
            "Epoch 00016: val_loss did not improve from 0.32145\n",
            "52/52 [==============================] - 2s 37ms/step - loss: 0.2226 - accuracy: 0.9261 - val_loss: 0.3580 - val_accuracy: 0.8854\n",
            "Epoch 17/100\n",
            "51/52 [============================>.] - ETA: 0s - loss: 0.1987 - accuracy: 0.9301\n",
            "Epoch 00017: val_loss did not improve from 0.32145\n",
            "52/52 [==============================] - 2s 38ms/step - loss: 0.1984 - accuracy: 0.9304 - val_loss: 0.3440 - val_accuracy: 0.8951\n",
            "Epoch 18/100\n",
            "51/52 [============================>.] - ETA: 0s - loss: 0.1542 - accuracy: 0.9510\n",
            "Epoch 00018: val_loss did not improve from 0.32145\n",
            "52/52 [==============================] - 2s 38ms/step - loss: 0.1547 - accuracy: 0.9505 - val_loss: 0.3748 - val_accuracy: 0.8927\n",
            "Epoch 19/100\n",
            "51/52 [============================>.] - ETA: 0s - loss: 0.1588 - accuracy: 0.9498\n",
            "Epoch 00019: val_loss did not improve from 0.32145\n",
            "52/52 [==============================] - 2s 37ms/step - loss: 0.1586 - accuracy: 0.9499 - val_loss: 0.3436 - val_accuracy: 0.8951\n",
            "Epoch 20/100\n",
            "51/52 [============================>.] - ETA: 0s - loss: 0.1273 - accuracy: 0.9565\n",
            "Epoch 00020: val_loss did not improve from 0.32145\n",
            "52/52 [==============================] - 2s 38ms/step - loss: 0.1272 - accuracy: 0.9567 - val_loss: 0.3703 - val_accuracy: 0.8854\n",
            "Epoch 21/100\n",
            "51/52 [============================>.] - ETA: 0s - loss: 0.1113 - accuracy: 0.9620\n",
            "Epoch 00021: val_loss did not improve from 0.32145\n",
            "52/52 [==============================] - 2s 37ms/step - loss: 0.1109 - accuracy: 0.9621 - val_loss: 0.3911 - val_accuracy: 0.9049\n",
            "Epoch 22/100\n",
            "51/52 [============================>.] - ETA: 0s - loss: 0.0971 - accuracy: 0.9706\n",
            "Epoch 00022: val_loss did not improve from 0.32145\n",
            "52/52 [==============================] - 2s 37ms/step - loss: 0.0968 - accuracy: 0.9707 - val_loss: 0.4165 - val_accuracy: 0.8854\n",
            "Epoch 23/100\n",
            "51/52 [============================>.] - ETA: 0s - loss: 0.0792 - accuracy: 0.9743\n",
            "Epoch 00023: val_loss did not improve from 0.32145\n",
            "52/52 [==============================] - 2s 37ms/step - loss: 0.0789 - accuracy: 0.9744 - val_loss: 0.3749 - val_accuracy: 0.8976\n",
            "Epoch 24/100\n",
            "51/52 [============================>.] - ETA: 0s - loss: 0.0485 - accuracy: 0.9822\n",
            "Epoch 00024: val_loss did not improve from 0.32145\n",
            "52/52 [==============================] - 2s 38ms/step - loss: 0.0484 - accuracy: 0.9823 - val_loss: 0.3626 - val_accuracy: 0.9000\n",
            "Epoch 25/100\n",
            "51/52 [============================>.] - ETA: 0s - loss: 0.0452 - accuracy: 0.9853\n",
            "Epoch 00025: val_loss did not improve from 0.32145\n",
            "52/52 [==============================] - 2s 37ms/step - loss: 0.0451 - accuracy: 0.9853 - val_loss: 0.4171 - val_accuracy: 0.8902\n",
            "Epoch 26/100\n",
            "51/52 [============================>.] - ETA: 0s - loss: 0.0576 - accuracy: 0.9786\n",
            "Epoch 00026: val_loss did not improve from 0.32145\n",
            "52/52 [==============================] - 2s 37ms/step - loss: 0.0575 - accuracy: 0.9786 - val_loss: 0.3554 - val_accuracy: 0.9146\n",
            "Epoch 27/100\n",
            "51/52 [============================>.] - ETA: 0s - loss: 0.0338 - accuracy: 0.9884\n",
            "Epoch 00027: val_loss did not improve from 0.32145\n",
            "52/52 [==============================] - 2s 37ms/step - loss: 0.0337 - accuracy: 0.9884 - val_loss: 0.3566 - val_accuracy: 0.9098\n",
            "Epoch 28/100\n",
            "51/52 [============================>.] - ETA: 0s - loss: 0.0316 - accuracy: 0.9920\n",
            "Epoch 00028: val_loss did not improve from 0.32145\n",
            "52/52 [==============================] - 2s 37ms/step - loss: 0.0315 - accuracy: 0.9921 - val_loss: 0.3786 - val_accuracy: 0.9122\n",
            "Epoch 29/100\n",
            "51/52 [============================>.] - ETA: 0s - loss: 0.0267 - accuracy: 0.9933\n",
            "Epoch 00029: val_loss did not improve from 0.32145\n",
            "52/52 [==============================] - 2s 37ms/step - loss: 0.0266 - accuracy: 0.9933 - val_loss: 0.3751 - val_accuracy: 0.9098\n",
            "Epoch 30/100\n",
            "51/52 [============================>.] - ETA: 0s - loss: 0.0335 - accuracy: 0.9896\n",
            "Epoch 00030: val_loss did not improve from 0.32145\n",
            "52/52 [==============================] - 2s 37ms/step - loss: 0.0334 - accuracy: 0.9896 - val_loss: 0.3870 - val_accuracy: 0.9000\n",
            "Epoch 31/100\n",
            "51/52 [============================>.] - ETA: 0s - loss: 0.0428 - accuracy: 0.9890\n",
            "Epoch 00031: val_loss did not improve from 0.32145\n",
            "52/52 [==============================] - 2s 38ms/step - loss: 0.0426 - accuracy: 0.9890 - val_loss: 0.3957 - val_accuracy: 0.8976\n",
            "Epoch 32/100\n",
            "51/52 [============================>.] - ETA: 0s - loss: 0.0376 - accuracy: 0.9847\n",
            "Epoch 00032: val_loss did not improve from 0.32145\n",
            "52/52 [==============================] - 2s 37ms/step - loss: 0.0375 - accuracy: 0.9847 - val_loss: 0.3557 - val_accuracy: 0.9073\n",
            "Epoch 33/100\n",
            "51/52 [============================>.] - ETA: 0s - loss: 0.0187 - accuracy: 0.9945\n",
            "Epoch 00033: val_loss did not improve from 0.32145\n",
            "52/52 [==============================] - 2s 37ms/step - loss: 0.0186 - accuracy: 0.9945 - val_loss: 0.3775 - val_accuracy: 0.8951\n",
            "Epoch 34/100\n",
            "51/52 [============================>.] - ETA: 0s - loss: 0.0196 - accuracy: 0.9945\n",
            "Epoch 00034: val_loss did not improve from 0.32145\n",
            "52/52 [==============================] - 2s 37ms/step - loss: 0.0195 - accuracy: 0.9945 - val_loss: 0.4238 - val_accuracy: 0.8976\n",
            "Epoch 35/100\n",
            "51/52 [============================>.] - ETA: 0s - loss: 0.0151 - accuracy: 0.9963\n",
            "Epoch 00035: val_loss did not improve from 0.32145\n",
            "52/52 [==============================] - 2s 37ms/step - loss: 0.0151 - accuracy: 0.9963 - val_loss: 0.4048 - val_accuracy: 0.9024\n",
            "Epoch 36/100\n",
            "51/52 [============================>.] - ETA: 0s - loss: 0.0153 - accuracy: 0.9951\n",
            "Epoch 00036: val_loss did not improve from 0.32145\n",
            "52/52 [==============================] - 2s 37ms/step - loss: 0.0152 - accuracy: 0.9951 - val_loss: 0.3772 - val_accuracy: 0.9220\n",
            "Epoch 37/100\n",
            "51/52 [============================>.] - ETA: 0s - loss: 0.0155 - accuracy: 0.9969\n",
            "Epoch 00037: val_loss did not improve from 0.32145\n",
            "52/52 [==============================] - 2s 37ms/step - loss: 0.0154 - accuracy: 0.9969 - val_loss: 0.4006 - val_accuracy: 0.9049\n",
            "Epoch 38/100\n",
            "51/52 [============================>.] - ETA: 0s - loss: 0.0167 - accuracy: 0.9945\n",
            "Epoch 00038: val_loss did not improve from 0.32145\n",
            "52/52 [==============================] - 2s 38ms/step - loss: 0.0166 - accuracy: 0.9945 - val_loss: 0.4338 - val_accuracy: 0.9000\n",
            "Epoch 39/100\n",
            "51/52 [============================>.] - ETA: 0s - loss: 0.0161 - accuracy: 0.9945\n",
            "Epoch 00039: val_loss did not improve from 0.32145\n",
            "52/52 [==============================] - 2s 37ms/step - loss: 0.0160 - accuracy: 0.9945 - val_loss: 0.4521 - val_accuracy: 0.9000\n",
            "Epoch 40/100\n",
            "51/52 [============================>.] - ETA: 0s - loss: 0.0091 - accuracy: 0.9963\n",
            "Epoch 00040: val_loss did not improve from 0.32145\n",
            "52/52 [==============================] - 2s 37ms/step - loss: 0.0091 - accuracy: 0.9963 - val_loss: 0.4197 - val_accuracy: 0.9024\n",
            "Epoch 41/100\n",
            "51/52 [============================>.] - ETA: 0s - loss: 0.0166 - accuracy: 0.9969\n",
            "Epoch 00041: val_loss did not improve from 0.32145\n",
            "52/52 [==============================] - 2s 37ms/step - loss: 0.0165 - accuracy: 0.9969 - val_loss: 0.4660 - val_accuracy: 0.8976\n",
            "Epoch 42/100\n",
            "51/52 [============================>.] - ETA: 0s - loss: 0.0157 - accuracy: 0.9945\n",
            "Epoch 00042: val_loss did not improve from 0.32145\n",
            "52/52 [==============================] - 2s 37ms/step - loss: 0.0156 - accuracy: 0.9945 - val_loss: 0.4522 - val_accuracy: 0.9024\n"
          ],
          "name": "stdout"
        }
      ]
    },
    {
      "cell_type": "code",
      "metadata": {
        "id": "GQjT59i1k1dG",
        "colab": {
          "base_uri": "https://localhost:8080/",
          "height": 573
        },
        "outputId": "1675690d-4005-4406-b39d-02cd6aea669b"
      },
      "source": [
        "plt.plot(history.history['accuracy'])\n",
        "plt.plot(history.history['val_accuracy'])\n",
        "plt.title('Model accuracy')\n",
        "plt.ylabel('Accuracy')\n",
        "plt.xlabel('Epoch')\n",
        "plt.legend(['Train', 'Test'], loc='upper left')\n",
        "plt.show()\n",
        "\n",
        "\n",
        "plt.plot(history.history['loss'])\n",
        "plt.plot(history.history['val_loss'])\n",
        "plt.title('Model loss')\n",
        "plt.ylabel('Loss')\n",
        "plt.xlabel('Epoch')\n",
        "plt.legend(['Train', 'Test'], loc='upper left')\n",
        "plt.show()"
      ],
      "execution_count": null,
      "outputs": [
        {
          "output_type": "display_data",
          "data": {
            "image/png": "[encoded data removed]",
            "text/plain": [
              "<Figure size 432x288 with 1 Axes>"
            ]
          },
          "metadata": {
            "tags": [],
            "needs_background": "light"
          }
        },
        {
          "output_type": "display_data",
          "data": {
            "image/png": "[encoded data removed]",
            "text/plain": [
              "<Figure size 432x288 with 1 Axes>"
            ]
          },
          "metadata": {
            "tags": [],
            "needs_background": "light"
          }
        }
      ]
    },
    {
      "cell_type": "code",
      "metadata": {
        "id": "7JMx8UIu2ijZ",
        "colab": {
          "base_uri": "https://localhost:8080/",
          "height": 197
        },
        "outputId": "bc9b5849-08a8-47b4-a342-754e1a4c6339"
      },
      "source": [
        "print(val_img.shape)\n",
        "print(x_test_xg.shape)"
      ],
      "execution_count": null,
      "outputs": [
        {
          "output_type": "stream",
          "text": [
            "(410, 28, 28, 1)\n"
          ],
          "name": "stdout"
        },
        {
          "output_type": "error",
          "ename": "NameError",
          "evalue": "ignored",
          "traceback": [
            "\u001b[0;31m---------------------------------------------------------------------------\u001b[0m",
            "\u001b[0;31mNameError\u001b[0m                                 Traceback (most recent call last)",
            "\u001b[0;32m<ipython-input-36-fc088720d29c>\u001b[0m in \u001b[0;36m<module>\u001b[0;34m()\u001b[0m\n\u001b[1;32m      1\u001b[0m \u001b[0mprint\u001b[0m\u001b[0;34m(\u001b[0m\u001b[0mval_img\u001b[0m\u001b[0;34m.\u001b[0m\u001b[0mshape\u001b[0m\u001b[0;34m)\u001b[0m\u001b[0;34m\u001b[0m\u001b[0;34m\u001b[0m\u001b[0m\n\u001b[0;32m----> 2\u001b[0;31m \u001b[0mprint\u001b[0m\u001b[0;34m(\u001b[0m\u001b[0mx_test_xg\u001b[0m\u001b[0;34m.\u001b[0m\u001b[0mshape\u001b[0m\u001b[0;34m)\u001b[0m\u001b[0;34m\u001b[0m\u001b[0;34m\u001b[0m\u001b[0m\n\u001b[0m",
            "\u001b[0;31mNameError\u001b[0m: name 'x_test_xg' is not defined"
          ]
        }
      ]
    },
    {
      "cell_type": "code",
      "metadata": {
        "id": "RBCktJY8ssut",
        "colab": {
          "base_uri": "https://localhost:8080/",
          "height": 1000
        },
        "outputId": "fa3afc2e-f709-4a75-aedf-c461c827d311"
      },
      "source": [
        "import xgboost\n",
        "import pandas as pd\n",
        "import numpy as np\n",
        "from sklearn import metrics\n",
        "from sklearn.linear_model import LogisticRegression\n",
        "from sklearn.svm import SVC,LinearSVC\n",
        "\n",
        "x_train_xg = model_inter_dense.predict(train_img)\n",
        "x_test_xg = model_inter_dense.predict(val_img)\n",
        "\n",
        "\n",
        "train_digit = train_digit.reshape(-1,1)\n",
        "val_digit = val_digit.reshape(-1,1)\n",
        "\n",
        "dataset = xgboost.DMatrix(x_train_xg, label=train_digit)\n",
        "watchlist = [(dataset, 'train')]\n",
        "params = {'max_depth':7, 'eta':0.1, 'silent':1, 'num_class':10,'objective':'multi:softmax' } \n",
        "model_xg = xgboost.train(params, dataset, num_boost_round=150, evals=watchlist)\n",
        "\n"
      ],
      "execution_count": null,
      "outputs": [
        {
          "output_type": "stream",
          "text": [
            "[0]\ttrain-merror:0.015873\n",
            "[1]\ttrain-merror:0.007937\n",
            "[2]\ttrain-merror:0.004884\n",
            "[3]\ttrain-merror:0.004884\n",
            "[4]\ttrain-merror:0.004274\n",
            "[5]\ttrain-merror:0.004274\n",
            "[6]\ttrain-merror:0.004274\n",
            "[7]\ttrain-merror:0.003053\n",
            "[8]\ttrain-merror:0.003053\n",
            "[9]\ttrain-merror:0.001832\n",
            "[10]\ttrain-merror:0.001221\n",
            "[11]\ttrain-merror:0.001221\n",
            "[12]\ttrain-merror:0.000611\n",
            "[13]\ttrain-merror:0.000611\n",
            "[14]\ttrain-merror:0\n",
            "[15]\ttrain-merror:0\n",
            "[16]\ttrain-merror:0\n",
            "[17]\ttrain-merror:0\n",
            "[18]\ttrain-merror:0\n",
            "[19]\ttrain-merror:0\n",
            "[20]\ttrain-merror:0\n",
            "[21]\ttrain-merror:0\n",
            "[22]\ttrain-merror:0\n",
            "[23]\ttrain-merror:0\n",
            "[24]\ttrain-merror:0\n",
            "[25]\ttrain-merror:0\n",
            "[26]\ttrain-merror:0\n",
            "[27]\ttrain-merror:0\n",
            "[28]\ttrain-merror:0\n",
            "[29]\ttrain-merror:0\n",
            "[30]\ttrain-merror:0\n",
            "[31]\ttrain-merror:0\n",
            "[32]\ttrain-merror:0\n",
            "[33]\ttrain-merror:0\n",
            "[34]\ttrain-merror:0\n",
            "[35]\ttrain-merror:0\n",
            "[36]\ttrain-merror:0\n",
            "[37]\ttrain-merror:0\n",
            "[38]\ttrain-merror:0\n",
            "[39]\ttrain-merror:0\n",
            "[40]\ttrain-merror:0\n",
            "[41]\ttrain-merror:0\n",
            "[42]\ttrain-merror:0\n",
            "[43]\ttrain-merror:0\n",
            "[44]\ttrain-merror:0\n",
            "[45]\ttrain-merror:0\n",
            "[46]\ttrain-merror:0\n",
            "[47]\ttrain-merror:0\n",
            "[48]\ttrain-merror:0\n",
            "[49]\ttrain-merror:0\n",
            "[50]\ttrain-merror:0\n",
            "[51]\ttrain-merror:0\n",
            "[52]\ttrain-merror:0\n",
            "[53]\ttrain-merror:0\n",
            "[54]\ttrain-merror:0\n",
            "[55]\ttrain-merror:0\n",
            "[56]\ttrain-merror:0\n",
            "[57]\ttrain-merror:0\n",
            "[58]\ttrain-merror:0\n",
            "[59]\ttrain-merror:0\n",
            "[60]\ttrain-merror:0\n",
            "[61]\ttrain-merror:0\n",
            "[62]\ttrain-merror:0\n",
            "[63]\ttrain-merror:0\n",
            "[64]\ttrain-merror:0\n",
            "[65]\ttrain-merror:0\n",
            "[66]\ttrain-merror:0\n",
            "[67]\ttrain-merror:0\n",
            "[68]\ttrain-merror:0\n",
            "[69]\ttrain-merror:0\n",
            "[70]\ttrain-merror:0\n",
            "[71]\ttrain-merror:0\n",
            "[72]\ttrain-merror:0\n",
            "[73]\ttrain-merror:0\n",
            "[74]\ttrain-merror:0\n",
            "[75]\ttrain-merror:0\n",
            "[76]\ttrain-merror:0\n",
            "[77]\ttrain-merror:0\n",
            "[78]\ttrain-merror:0\n",
            "[79]\ttrain-merror:0\n",
            "[80]\ttrain-merror:0\n",
            "[81]\ttrain-merror:0\n",
            "[82]\ttrain-merror:0\n",
            "[83]\ttrain-merror:0\n",
            "[84]\ttrain-merror:0\n",
            "[85]\ttrain-merror:0\n",
            "[86]\ttrain-merror:0\n",
            "[87]\ttrain-merror:0\n",
            "[88]\ttrain-merror:0\n",
            "[89]\ttrain-merror:0\n",
            "[90]\ttrain-merror:0\n",
            "[91]\ttrain-merror:0\n",
            "[92]\ttrain-merror:0\n",
            "[93]\ttrain-merror:0\n",
            "[94]\ttrain-merror:0\n",
            "[95]\ttrain-merror:0\n",
            "[96]\ttrain-merror:0\n",
            "[97]\ttrain-merror:0\n",
            "[98]\ttrain-merror:0\n",
            "[99]\ttrain-merror:0\n",
            "[100]\ttrain-merror:0\n",
            "[101]\ttrain-merror:0\n",
            "[102]\ttrain-merror:0\n",
            "[103]\ttrain-merror:0\n",
            "[104]\ttrain-merror:0\n",
            "[105]\ttrain-merror:0\n",
            "[106]\ttrain-merror:0\n",
            "[107]\ttrain-merror:0\n",
            "[108]\ttrain-merror:0\n",
            "[109]\ttrain-merror:0\n",
            "[110]\ttrain-merror:0\n",
            "[111]\ttrain-merror:0\n",
            "[112]\ttrain-merror:0\n",
            "[113]\ttrain-merror:0\n",
            "[114]\ttrain-merror:0\n",
            "[115]\ttrain-merror:0\n",
            "[116]\ttrain-merror:0\n",
            "[117]\ttrain-merror:0\n",
            "[118]\ttrain-merror:0\n",
            "[119]\ttrain-merror:0\n",
            "[120]\ttrain-merror:0\n",
            "[121]\ttrain-merror:0\n",
            "[122]\ttrain-merror:0\n",
            "[123]\ttrain-merror:0\n",
            "[124]\ttrain-merror:0\n",
            "[125]\ttrain-merror:0\n",
            "[126]\ttrain-merror:0\n",
            "[127]\ttrain-merror:0\n",
            "[128]\ttrain-merror:0\n",
            "[129]\ttrain-merror:0\n",
            "[130]\ttrain-merror:0\n",
            "[131]\ttrain-merror:0\n",
            "[132]\ttrain-merror:0\n",
            "[133]\ttrain-merror:0\n",
            "[134]\ttrain-merror:0\n",
            "[135]\ttrain-merror:0\n",
            "[136]\ttrain-merror:0\n",
            "[137]\ttrain-merror:0\n",
            "[138]\ttrain-merror:0\n",
            "[139]\ttrain-merror:0\n",
            "[140]\ttrain-merror:0\n",
            "[141]\ttrain-merror:0\n",
            "[142]\ttrain-merror:0\n",
            "[143]\ttrain-merror:0\n",
            "[144]\ttrain-merror:0\n",
            "[145]\ttrain-merror:0\n",
            "[146]\ttrain-merror:0\n",
            "[147]\ttrain-merror:0\n",
            "[148]\ttrain-merror:0\n",
            "[149]\ttrain-merror:0\n"
          ],
          "name": "stdout"
        }
      ]
    },
    {
      "cell_type": "code",
      "metadata": {
        "id": "k_Mr-qo0zdBk",
        "colab": {
          "base_uri": "https://localhost:8080/",
          "height": 468
        },
        "outputId": "a5b49897-6baf-46ff-a92d-4a733596a47e"
      },
      "source": [
        "#setup_data()\n",
        "\n",
        "test_x = xgboost.DMatrix(x_test_xg)\n",
        "result = model_xg.predict(test_x)\n",
        "print(metrics.classification_report(val_digit, result))\n",
        "print(metrics.confusion_matrix(val_digit, result))"
      ],
      "execution_count": null,
      "outputs": [
        {
          "output_type": "stream",
          "text": [
            "              precision    recall  f1-score   support\n",
            "\n",
            "           0       0.95      0.95      0.95        38\n",
            "           1       0.93      0.98      0.95        42\n",
            "           2       0.97      0.88      0.93        43\n",
            "           3       0.83      0.80      0.81        44\n",
            "           4       0.87      0.85      0.86        46\n",
            "           5       0.82      0.85      0.84        39\n",
            "           6       0.93      0.91      0.92        43\n",
            "           7       0.97      0.92      0.94        36\n",
            "           8       0.84      0.90      0.87        41\n",
            "           9       0.81      0.89      0.85        38\n",
            "\n",
            "    accuracy                           0.89       410\n",
            "   macro avg       0.89      0.89      0.89       410\n",
            "weighted avg       0.89      0.89      0.89       410\n",
            "\n",
            "[[36  0  0  0  1  0  1  0  0  0]\n",
            " [ 0 41  0  0  1  0  0  0  0  0]\n",
            " [ 1  0 38  2  0  1  1  0  0  0]\n",
            " [ 0  0  0 35  1  4  0  1  2  1]\n",
            " [ 0  1  1  0 39  0  1  0  1  3]\n",
            " [ 0  1  0  1  0 33  0  0  2  2]\n",
            " [ 1  1  0  0  1  0 39  0  1  0]\n",
            " [ 0  0  0  1  0  1  0 33  1  0]\n",
            " [ 0  0  0  1  0  1  0  0 37  2]\n",
            " [ 0  0  0  2  2  0  0  0  0 34]]\n"
          ],
          "name": "stdout"
        }
      ]
    },
    {
      "cell_type": "code",
      "metadata": {
        "id": "Q6nDSW916J_R"
      },
      "source": [
        "import pandas as pd\n",
        "\n",
        "submission_path = cwd / 'res/submission.csv'\n",
        "submission_csv = pd.read_csv(submission_path)\n",
        "submission_csv"
      ],
      "execution_count": null,
      "outputs": []
    },
    {
      "cell_type": "code",
      "metadata": {
        "id": "dauqFI-Ntgm_"
      },
      "source": [
        "def setup_data():\n",
        "    global train_ds, test_ds, x_train, y_train, x_test, y_test, x_all, y_all\n",
        "    train_ds = get_dataset_from_csv(train_csv, to_sparse=False, preprocessing=False)\n",
        "    test_ds = get_dataset_from_csv(test_csv, True, to_sparse=False, preprocessing=False)\n",
        "\n",
        "    x_train, y_train = train_ds\n",
        "    x_test, y_test = test_ds, np.array([-1 for i in range(len(test_ds))])\n",
        "    x_all = np.append(x_train, x_test, axis=0)\n",
        "    y_all = np.append(y_train, y_test, axis=0)"
      ],
      "execution_count": null,
      "outputs": []
    },
    {
      "cell_type": "code",
      "metadata": {
        "id": "oqkZBm1btsFZ"
      },
      "source": [
        "setup_data()"
      ],
      "execution_count": null,
      "outputs": []
    },
    {
      "cell_type": "code",
      "metadata": {
        "id": "TTrLPCPvttXc"
      },
      "source": [
        "def get_dataset_from_csv(csv: pd.DataFrame, is_test=False, to_sparse=True, only_img=True, preprocessing=True):\n",
        "    img_key = csv.keys()[(2 if is_test else 3):]\n",
        "    letters = []\n",
        "    letter_temp = csv['letter']\n",
        "    for letter in letter_temp:\n",
        "        letter = ord(letter) - ord('A')\n",
        "        if to_sparse:\n",
        "            temp = np.zeros(26)\n",
        "            temp[letter] = 1\n",
        "        letter = np.array(letter)\n",
        "        letters.append(letter)\n",
        "    letters = np.array(letters)\n",
        "    if len(letters.shape) == 1:\n",
        "        letters = np.expand_dims(letters, axis=-1)\n",
        "    imgs = np.array(csv[img_key]).reshape(-1, 28, 28, 1)\n",
        "    if preprocessing:\n",
        "        imgs[imgs < 128] = 0\n",
        "    imgs = imgs / 255.\n",
        "    ret = imgs if only_img else np.append(letters, imgs, axis=1)\n",
        "    if not is_test:\n",
        "        ret = ret, np.array(csv['digit'])\n",
        "    return ret\n"
      ],
      "execution_count": null,
      "outputs": []
    },
    {
      "cell_type": "code",
      "metadata": {
        "id": "P5wIdYGwtvI_"
      },
      "source": [
        "setup_data()\n",
        "\n",
        "digits = model_xg.predict(test_x)\n",
        "digits = np.array(digits, dtype=np.uint8)\n",
        "submission_csv['digit'] = digits"
      ],
      "execution_count": null,
      "outputs": []
    },
    {
      "cell_type": "code",
      "metadata": {
        "id": "7jTOctmRtwA6"
      },
      "source": [
        "setup_data()\n",
        "\n",
        "y_pred = get_prediction(x_train)\n",
        "y_true = y_train"
      ],
      "execution_count": null,
      "outputs": []
    },
    {
      "cell_type": "code",
      "metadata": {
        "id": "uBoz8HrLuCLX"
      },
      "source": [
        "suffix = suffix + '_2'\n",
        "csv_path = cwd\n",
        "filename = f'submission_final.csv'\n",
        "path = csv_path / filename\n",
        "\n",
        "f = open(cwd / 'log.txt', 'a')\n",
        "# f.write(f'{year}-{month}-{day} {hour}:{minute}:{second} == {cls_report}\\n')\n",
        "# f.close()\n",
        "\n",
        "submission_csv.to_csv(path, index=False)\n",
        "submission_csv = pd.read_csv(path)\n",
        "submission_csv"
      ],
      "execution_count": null,
      "outputs": []
    },
    {
      "cell_type": "code",
      "metadata": {
        "id": "FNh4yuiGvLTl"
      },
      "source": [
        "|"
      ],
      "execution_count": null,
      "outputs": []
    }
  ]
}
