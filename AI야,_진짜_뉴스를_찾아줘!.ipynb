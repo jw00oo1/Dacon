{
  "nbformat": 4,
  "nbformat_minor": 0,
  "metadata": {
    "accelerator": "GPU",
    "colab": {
      "name": "AI야, 진짜 뉴스를 찾아줘!",
      "provenance": [],
      "collapsed_sections": [
        "ypO8vvJm1FlP",
        "VGlxAJ3q5Keo",
        "zoQgx6klxP-P",
        "saryYfogJfWg",
        "rMT0Z0b64iRl",
        "R8ENA2ITlXn-",
        "ak7zsV2hYdWn",
        "SceQUImfP0CS",
        "h75Y937ylnyf",
        "_F-HhDNp28lA",
        "LvFAUzgHBpnl",
        "vqG-26I5j0aX",
        "s4Wc-YI6hykV",
        "m2Un21WvgP-r"
      ],
      "mount_file_id": "1KVYK1SeH2epckXhcaStAwdhNrpLSPH86",
      "authorship_tag": "ABX9TyNmQHqc1OIBK/zeEE8djHPw",
      "include_colab_link": true
    },
    "kernelspec": {
      "display_name": "Python 3",
      "name": "python3"
    }
  },
  "cells": [
    {
      "cell_type": "markdown",
      "metadata": {
        "id": "view-in-github",
        "colab_type": "text"
      },
      "source": [
        "<a href=\"https://colab.research.google.com/github/jw00oo1/Dacon/blob/main/AI%EC%95%BC%2C_%EC%A7%84%EC%A7%9C_%EB%89%B4%EC%8A%A4%EB%A5%BC_%EC%B0%BE%EC%95%84%EC%A4%98!.ipynb\" target=\"_parent\"><img src=\"https://colab.research.google.com/assets/colab-badge.svg\" alt=\"Open In Colab\"/></a>"
      ]
    },
    {
      "cell_type": "code",
      "metadata": {
        "id": "ypwqWzcUlr_c"
      },
      "source": [
        "import numpy as np\r\n",
        "import pandas as pd\r\n",
        "import re\r\n",
        "import matplotlib.pyplot as plt\r\n",
        "import seaborn as sns\r\n",
        "import os\r\n",
        "import tensorflow as tf\r\n",
        "import sklearn\r\n",
        "from tensorflow import keras"
      ],
      "execution_count": null,
      "outputs": []
    },
    {
      "cell_type": "code",
      "metadata": {
        "colab": {
          "base_uri": "https://localhost:8080/"
        },
        "id": "HHi_bt-5nmIp",
        "outputId": "20a06202-76b5-4779-c231-fe31a0013ea4"
      },
      "source": [
        "print(os.listdir())"
      ],
      "execution_count": null,
      "outputs": [
        {
          "output_type": "stream",
          "text": [
            "['.config', 'drive', 'sample_data']\n"
          ],
          "name": "stdout"
        }
      ]
    },
    {
      "cell_type": "code",
      "metadata": {
        "colab": {
          "base_uri": "https://localhost:8080/"
        },
        "id": "3KE6bBy9oigX",
        "outputId": "5d927b57-6b4d-4e19-e45c-5c6dc1d94186"
      },
      "source": [
        "file_dir = \"/content/drive/MyDrive/Dacon/AInews\"\r\n",
        "train_csv = pd.read_csv(file_dir + \"/news_train.csv\")\r\n",
        "test_csv = pd.read_csv(file_dir + \"/news_test.csv\")\r\n",
        "submission_csv = pd.read_csv(file_dir + \"/sample_submission.csv\")\r\n",
        "\r\n",
        "print(train_csv.shape)\r\n",
        "print(test_csv.shape)"
      ],
      "execution_count": null,
      "outputs": [
        {
          "output_type": "stream",
          "text": [
            "(118745, 6)\n",
            "(142565, 6)\n"
          ],
          "name": "stdout"
        }
      ]
    },
    {
      "cell_type": "code",
      "metadata": {
        "colab": {
          "base_uri": "https://localhost:8080/",
          "height": 296
        },
        "id": "J2koOhE1pK6u",
        "outputId": "5e42ca4e-beca-4774-8367-a28ebbfa6a49"
      },
      "source": [
        "train_csv.head()"
      ],
      "execution_count": null,
      "outputs": [
        {
          "output_type": "execute_result",
          "data": {
            "text/html": [
              "<div>\n",
              "<style scoped>\n",
              "    .dataframe tbody tr th:only-of-type {\n",
              "        vertical-align: middle;\n",
              "    }\n",
              "\n",
              "    .dataframe tbody tr th {\n",
              "        vertical-align: top;\n",
              "    }\n",
              "\n",
              "    .dataframe thead th {\n",
              "        text-align: right;\n",
              "    }\n",
              "</style>\n",
              "<table border=\"1\" class=\"dataframe\">\n",
              "  <thead>\n",
              "    <tr style=\"text-align: right;\">\n",
              "      <th></th>\n",
              "      <th>n_id</th>\n",
              "      <th>date</th>\n",
              "      <th>title</th>\n",
              "      <th>content</th>\n",
              "      <th>ord</th>\n",
              "      <th>info</th>\n",
              "    </tr>\n",
              "  </thead>\n",
              "  <tbody>\n",
              "    <tr>\n",
              "      <th>0</th>\n",
              "      <td>NEWS02580</td>\n",
              "      <td>20200605</td>\n",
              "      <td>[마감]코스닥 기관 678억 순매도</td>\n",
              "      <td>[이데일리 MARKETPOINT]15:32 현재 코스닥 기관 678억 순매도</td>\n",
              "      <td>1</td>\n",
              "      <td>0</td>\n",
              "    </tr>\n",
              "    <tr>\n",
              "      <th>1</th>\n",
              "      <td>NEWS02580</td>\n",
              "      <td>20200605</td>\n",
              "      <td>[마감]코스닥 기관 678억 순매도</td>\n",
              "      <td>\"실적기반\" 저가에 매집해야 할 8월 급등유망주 TOP 5 전격공개</td>\n",
              "      <td>2</td>\n",
              "      <td>1</td>\n",
              "    </tr>\n",
              "    <tr>\n",
              "      <th>2</th>\n",
              "      <td>NEWS02580</td>\n",
              "      <td>20200605</td>\n",
              "      <td>[마감]코스닥 기관 678억 순매도</td>\n",
              "      <td>하이스탁론, 선취수수료 없는 월 0.4% 최저금리 상품 출시</td>\n",
              "      <td>3</td>\n",
              "      <td>1</td>\n",
              "    </tr>\n",
              "    <tr>\n",
              "      <th>3</th>\n",
              "      <td>NEWS02580</td>\n",
              "      <td>20200605</td>\n",
              "      <td>[마감]코스닥 기관 678억 순매도</td>\n",
              "      <td>종합 경제정보 미디어 이데일리 - 무단전재 &amp; 재배포 금지</td>\n",
              "      <td>4</td>\n",
              "      <td>0</td>\n",
              "    </tr>\n",
              "    <tr>\n",
              "      <th>4</th>\n",
              "      <td>NEWS09727</td>\n",
              "      <td>20200626</td>\n",
              "      <td>롯데·공영 등 7개 TV 홈쇼핑들, 동행세일 동참</td>\n",
              "      <td>전국적인 소비 붐 조성에 기여할 예정</td>\n",
              "      <td>1</td>\n",
              "      <td>0</td>\n",
              "    </tr>\n",
              "  </tbody>\n",
              "</table>\n",
              "</div>"
            ],
            "text/plain": [
              "        n_id      date  ... ord info\n",
              "0  NEWS02580  20200605  ...   1    0\n",
              "1  NEWS02580  20200605  ...   2    1\n",
              "2  NEWS02580  20200605  ...   3    1\n",
              "3  NEWS02580  20200605  ...   4    0\n",
              "4  NEWS09727  20200626  ...   1    0\n",
              "\n",
              "[5 rows x 6 columns]"
            ]
          },
          "metadata": {
            "tags": []
          },
          "execution_count": 4
        }
      ]
    },
    {
      "cell_type": "markdown",
      "metadata": {
        "id": "ypO8vvJm1FlP"
      },
      "source": [
        "#Dacon-EDA"
      ]
    },
    {
      "cell_type": "markdown",
      "metadata": {
        "id": "CL0kf8bS5EBb"
      },
      "source": [
        "###date"
      ]
    },
    {
      "cell_type": "code",
      "metadata": {
        "id": "zE_NYGC_LMWo"
      },
      "source": [
        "from datetime import datetime"
      ],
      "execution_count": null,
      "outputs": []
    },
    {
      "cell_type": "code",
      "metadata": {
        "id": "Sc14YnooLnCW"
      },
      "source": [
        "#data 넘길 때, 단순 복제로 넘어가므로 복사본 넘겨야함, 컬럼 이름 다르면 안됌\r\n",
        "tmp = pd.DataFrame(data=train_csv['date'].copy(), columns=['date'])"
      ],
      "execution_count": null,
      "outputs": []
    },
    {
      "cell_type": "code",
      "metadata": {
        "id": "-ephFovUMRlN"
      },
      "source": [
        "tmp['date'] = tmp['date'].apply(lambda x: str(x))"
      ],
      "execution_count": null,
      "outputs": []
    },
    {
      "cell_type": "code",
      "metadata": {
        "id": "PeNhO1Yj4V6r"
      },
      "source": [
        "tmp['date'] = pd.to_datetime(tmp['date'], format='%Y%m%d')"
      ],
      "execution_count": null,
      "outputs": []
    },
    {
      "cell_type": "code",
      "metadata": {
        "id": "ogojeXEp4HYo"
      },
      "source": [
        "tmp['year'] = tmp['date'].dt.year\r\n",
        "tmp['month'] = tmp['date'].dt.month\r\n",
        "tmp['day'] = tmp['date'].dt.day"
      ],
      "execution_count": null,
      "outputs": []
    },
    {
      "cell_type": "code",
      "metadata": {
        "id": "aBb-4vT24wLj"
      },
      "source": [
        "tmp['info'] = train_csv['info'].copy()"
      ],
      "execution_count": null,
      "outputs": []
    },
    {
      "cell_type": "code",
      "metadata": {
        "colab": {
          "base_uri": "https://localhost:8080/",
          "height": 297
        },
        "id": "MHpnLcFR4qtc",
        "outputId": "3b5f77e1-5c83-4dfc-d455-cf9062e0a0aa"
      },
      "source": [
        "sns.countplot(data = tmp, x='year', hue='info')"
      ],
      "execution_count": null,
      "outputs": [
        {
          "output_type": "execute_result",
          "data": {
            "text/plain": [
              "<matplotlib.axes._subplots.AxesSubplot at 0x7f9e0ea0a588>"
            ]
          },
          "metadata": {
            "tags": []
          },
          "execution_count": 11
        },
        {
          "output_type": "display_data",
          "data": {
            "image/png": "[encoded data removed]",
            "text/plain": [
              "<Figure size 432x288 with 1 Axes>"
            ]
          },
          "metadata": {
            "tags": []
          }
        }
      ]
    },
    {
      "cell_type": "code",
      "metadata": {
        "colab": {
          "base_uri": "https://localhost:8080/",
          "height": 297
        },
        "id": "2VspxJYh43-e",
        "outputId": "4605bab8-0fab-4818-c020-56ba0a5f21a3"
      },
      "source": [
        "sns.countplot(data=tmp, x='month', hue = 'info')"
      ],
      "execution_count": null,
      "outputs": [
        {
          "output_type": "execute_result",
          "data": {
            "text/plain": [
              "<matplotlib.axes._subplots.AxesSubplot at 0x7f9e0f26cc88>"
            ]
          },
          "metadata": {
            "tags": []
          },
          "execution_count": 12
        },
        {
          "output_type": "display_data",
          "data": {
            "image/png": "[encoded data removed]",
            "text/plain": [
              "<Figure size 432x288 with 1 Axes>"
            ]
          },
          "metadata": {
            "tags": []
          }
        }
      ]
    },
    {
      "cell_type": "code",
      "metadata": {
        "colab": {
          "base_uri": "https://localhost:8080/",
          "height": 301
        },
        "id": "AOEwHlA9482w",
        "outputId": "3786a026-b8f2-4c48-8868-f120b691e2e9"
      },
      "source": [
        "sns.countplot(data = tmp, x='day', hue = 'info')"
      ],
      "execution_count": null,
      "outputs": [
        {
          "output_type": "execute_result",
          "data": {
            "text/plain": [
              "<matplotlib.axes._subplots.AxesSubplot at 0x7f9e0ecd6630>"
            ]
          },
          "metadata": {
            "tags": []
          },
          "execution_count": 13
        },
        {
          "output_type": "display_data",
          "data": {
            "image/png": "[encoded data removed]",
            "text/plain": [
              "<Figure size 432x288 with 1 Axes>"
            ]
          },
          "metadata": {
            "tags": []
          }
        }
      ]
    },
    {
      "cell_type": "markdown",
      "metadata": {
        "id": "VGlxAJ3q5Keo"
      },
      "source": [
        "###title"
      ]
    },
    {
      "cell_type": "code",
      "metadata": {
        "colab": {
          "base_uri": "https://localhost:8080/"
        },
        "id": "II0dafWL5L63",
        "outputId": "7c960984-5d30-4b72-8ce9-d2eac05b9902"
      },
      "source": [
        "#가짜 뉴스와 진짜 뉴스는 겹치는 제목이 약 93%로 상당함 (set의 교집합)\r\n",
        "#nunique -> unique한 값의 개수\r\n",
        "len(set(train_csv[train_csv['info']==1]['title'].unique()) & set(train_csv[train_csv['info']==0]['title'].unique())) / train_csv['title'].nunique()"
      ],
      "execution_count": null,
      "outputs": [
        {
          "output_type": "execute_result",
          "data": {
            "text/plain": [
              "0.9368450082735797"
            ]
          },
          "metadata": {
            "tags": []
          },
          "execution_count": 14
        }
      ]
    },
    {
      "cell_type": "code",
      "metadata": {
        "id": "U8yy1Dyc50sQ"
      },
      "source": [
        "tmp = pd.concat([tmp, train_csv['title']], axis=1)"
      ],
      "execution_count": null,
      "outputs": []
    },
    {
      "cell_type": "code",
      "metadata": {
        "id": "4baKRqchvWXc"
      },
      "source": [
        "tmp['title_len'] = tmp['title'].apply(lambda x: len(x))"
      ],
      "execution_count": null,
      "outputs": []
    },
    {
      "cell_type": "code",
      "metadata": {
        "colab": {
          "base_uri": "https://localhost:8080/",
          "height": 297
        },
        "id": "Whcd8Mi3vxSR",
        "outputId": "4927cf32-37f8-4654-d1c3-3662f7891e92"
      },
      "source": [
        "sns.boxplot(data = tmp, y='title_len', x='info')"
      ],
      "execution_count": null,
      "outputs": [
        {
          "output_type": "execute_result",
          "data": {
            "text/plain": [
              "<matplotlib.axes._subplots.AxesSubplot at 0x7f9e06da0518>"
            ]
          },
          "metadata": {
            "tags": []
          },
          "execution_count": 19
        },
        {
          "output_type": "display_data",
          "data": {
            "image/png": "[encoded data removed]",
            "text/plain": [
              "<Figure size 432x288 with 1 Axes>"
            ]
          },
          "metadata": {
            "tags": []
          }
        }
      ]
    },
    {
      "cell_type": "code",
      "metadata": {
        "colab": {
          "base_uri": "https://localhost:8080/",
          "height": 298
        },
        "id": "_kucV3NwwCvx",
        "outputId": "8033a45f-17e2-4d53-838f-b5eacccbe78c"
      },
      "source": [
        "plt.figure(figsize=(20,8))\r\n",
        "sns.countplot(data=tmp, x='title_len', hue='info')"
      ],
      "execution_count": null,
      "outputs": [
        {
          "output_type": "execute_result",
          "data": {
            "text/plain": [
              "<matplotlib.axes._subplots.AxesSubplot at 0x7f9e06d29ef0>"
            ]
          },
          "metadata": {
            "tags": []
          },
          "execution_count": 20
        },
        {
          "output_type": "display_data",
          "data": {
            "image/png": "[encoded data removed]",
            "text/plain": [
              "<Figure size 1440x576 with 1 Axes>"
            ]
          },
          "metadata": {
            "tags": []
          }
        }
      ]
    },
    {
      "cell_type": "code",
      "metadata": {
        "colab": {
          "base_uri": "https://localhost:8080/",
          "height": 388
        },
        "id": "QU3dA_L-wK4f",
        "outputId": "3c98b792-364e-4e98-9075-b6cd6f20d573"
      },
      "source": [
        "sns.distplot(tmp[tmp['info']==1]['title_len'], color='red', label='1')\r\n",
        "sns.distplot(tmp[tmp['info']==0]['title_len'], color='blue', label='0')\r\n",
        "plt.legend(title='info')"
      ],
      "execution_count": null,
      "outputs": [
        {
          "output_type": "stream",
          "text": [
            "/usr/local/lib/python3.6/dist-packages/seaborn/distributions.py:2551: FutureWarning: `distplot` is a deprecated function and will be removed in a future version. Please adapt your code to use either `displot` (a figure-level function with similar flexibility) or `histplot` (an axes-level function for histograms).\n",
            "  warnings.warn(msg, FutureWarning)\n",
            "/usr/local/lib/python3.6/dist-packages/seaborn/distributions.py:2551: FutureWarning: `distplot` is a deprecated function and will be removed in a future version. Please adapt your code to use either `displot` (a figure-level function with similar flexibility) or `histplot` (an axes-level function for histograms).\n",
            "  warnings.warn(msg, FutureWarning)\n"
          ],
          "name": "stderr"
        },
        {
          "output_type": "execute_result",
          "data": {
            "text/plain": [
              "<matplotlib.legend.Legend at 0x7f9e066d7710>"
            ]
          },
          "metadata": {
            "tags": []
          },
          "execution_count": 22
        },
        {
          "output_type": "display_data",
          "data": {
            "image/png": "[encoded data removed]",
            "text/plain": [
              "<Figure size 432x288 with 1 Axes>"
            ]
          },
          "metadata": {
            "tags": []
          }
        }
      ]
    },
    {
      "cell_type": "markdown",
      "metadata": {
        "id": "zoQgx6klxP-P"
      },
      "source": [
        "###content"
      ]
    },
    {
      "cell_type": "code",
      "metadata": {
        "colab": {
          "base_uri": "https://localhost:8080/"
        },
        "id": "vwgV1VLmxSzp",
        "outputId": "5e7c17d6-53d3-4ccf-ebb8-2ab2308ed82b"
      },
      "source": [
        "#가짜 뉴스의 내용과 진짜 뉴스는 겹치는 내용이 거의 없음\r\n",
        "len(set(train_csv[train_csv['info']==1]['content'].unique()) & set(train_csv[train_csv['info']==0]['content'].unique())) / train_csv['content'].nunique()"
      ],
      "execution_count": null,
      "outputs": [
        {
          "output_type": "execute_result",
          "data": {
            "text/plain": [
              "6.498992656138298e-05"
            ]
          },
          "metadata": {
            "tags": []
          },
          "execution_count": 6
        }
      ]
    },
    {
      "cell_type": "code",
      "metadata": {
        "colab": {
          "base_uri": "https://localhost:8080/"
        },
        "id": "cxvPq3Q2Erkv",
        "outputId": "e3a11d99-c6f0-4ccb-f449-99f2ece982fa"
      },
      "source": [
        "n_fake = train_csv[train_csv['info'] == 1]['content'].nunique() / train_csv['content'].nunique()\r\n",
        "n_true = train_csv[train_csv['info'] == 0]['content'].nunique() / train_csv['content'].nunique()\r\n",
        "\r\n",
        "print(f'{n_fake:3f} + {n_true:3f} = {n_fake+n_true:3f}')"
      ],
      "execution_count": null,
      "outputs": [
        {
          "output_type": "stream",
          "text": [
            "0.125517 + 0.874548 = 1.000065\n"
          ],
          "name": "stdout"
        }
      ]
    },
    {
      "cell_type": "code",
      "metadata": {
        "id": "9xf6N3IJG_Zz"
      },
      "source": [
        "train_csv['content_leng'] = train_csv['content'].apply(lambda x: len(x))"
      ],
      "execution_count": null,
      "outputs": []
    },
    {
      "cell_type": "code",
      "metadata": {
        "colab": {
          "base_uri": "https://localhost:8080/"
        },
        "id": "3UPtu2OrHS9X",
        "outputId": "6901f324-2942-434f-fd24-55a35c34e5bd"
      },
      "source": [
        "Q1 = train_csv[train_csv['info'] == 1].describe(include='all')['content_leng']['25%']\r\n",
        "Q3 = train_csv[train_csv['info'] == 1].describe(include='all')['content_leng']['75%']\r\n",
        "IQR = Q3 - Q1\r\n",
        "mxm = Q3 + 1.5 * IQR\r\n",
        "mxm"
      ],
      "execution_count": null,
      "outputs": [
        {
          "output_type": "execute_result",
          "data": {
            "text/plain": [
              "57.0"
            ]
          },
          "metadata": {
            "tags": []
          },
          "execution_count": 14
        }
      ]
    },
    {
      "cell_type": "code",
      "metadata": {
        "colab": {
          "base_uri": "https://localhost:8080/",
          "height": 297
        },
        "id": "Witsb53aH1HZ",
        "outputId": "5ae706cd-bee6-4d6f-dfff-fa9fc1d76813"
      },
      "source": [
        "sns.boxplot(data = train_csv[train_csv['content_leng'] <= mxm], y='content_leng', x='info')"
      ],
      "execution_count": null,
      "outputs": [
        {
          "output_type": "execute_result",
          "data": {
            "text/plain": [
              "<matplotlib.axes._subplots.AxesSubplot at 0x7f007aa7f908>"
            ]
          },
          "metadata": {
            "tags": []
          },
          "execution_count": 15
        },
        {
          "output_type": "display_data",
          "data": {
            "image/png": "[encoded data removed]",
            "text/plain": [
              "<Figure size 432x288 with 1 Axes>"
            ]
          },
          "metadata": {
            "tags": []
          }
        }
      ]
    },
    {
      "cell_type": "code",
      "metadata": {
        "colab": {
          "base_uri": "https://localhost:8080/",
          "height": 292
        },
        "id": "MRNymxVUIpCd",
        "outputId": "8989f76f-e86d-4538-fdae-27197c5df753"
      },
      "source": [
        "plt.figure(figsize=(20,8))\r\n",
        "sns.countplot(data = train_csv[train_csv['content_leng'] <= mxm], x = 'content_leng', hue = 'info')"
      ],
      "execution_count": null,
      "outputs": [
        {
          "output_type": "execute_result",
          "data": {
            "text/plain": [
              "<matplotlib.axes._subplots.AxesSubplot at 0x7f007a9b4780>"
            ]
          },
          "metadata": {
            "tags": []
          },
          "execution_count": 16
        },
        {
          "output_type": "display_data",
          "data": {
            "image/png": "[encoded data removed]",
            "text/plain": [
              "<Figure size 1440x576 with 1 Axes>"
            ]
          },
          "metadata": {
            "tags": []
          }
        }
      ]
    },
    {
      "cell_type": "code",
      "metadata": {
        "colab": {
          "base_uri": "https://localhost:8080/",
          "height": 388
        },
        "id": "LN8niT17I9sQ",
        "outputId": "01472875-7cbb-4e72-acd0-9390727a7a2a"
      },
      "source": [
        "sns.distplot(np.log(train_csv[train_csv['info'] == 1]['content_leng']), color = 'red', label = '1')\r\n",
        "sns.distplot(np.log(train_csv[train_csv['info'] == 0]['content_leng']), color = 'blue', label = '0')\r\n",
        "plt.legend(title = 'info')"
      ],
      "execution_count": null,
      "outputs": [
        {
          "output_type": "stream",
          "text": [
            "/usr/local/lib/python3.6/dist-packages/seaborn/distributions.py:2551: FutureWarning: `distplot` is a deprecated function and will be removed in a future version. Please adapt your code to use either `displot` (a figure-level function with similar flexibility) or `histplot` (an axes-level function for histograms).\n",
            "  warnings.warn(msg, FutureWarning)\n",
            "/usr/local/lib/python3.6/dist-packages/seaborn/distributions.py:2551: FutureWarning: `distplot` is a deprecated function and will be removed in a future version. Please adapt your code to use either `displot` (a figure-level function with similar flexibility) or `histplot` (an axes-level function for histograms).\n",
            "  warnings.warn(msg, FutureWarning)\n"
          ],
          "name": "stderr"
        },
        {
          "output_type": "execute_result",
          "data": {
            "text/plain": [
              "<matplotlib.legend.Legend at 0x7f00772ff748>"
            ]
          },
          "metadata": {
            "tags": []
          },
          "execution_count": 19
        },
        {
          "output_type": "display_data",
          "data": {
            "image/png": "[encoded data removed]",
            "text/plain": [
              "<Figure size 432x288 with 1 Axes>"
            ]
          },
          "metadata": {
            "tags": []
          }
        }
      ]
    },
    {
      "cell_type": "markdown",
      "metadata": {
        "id": "saryYfogJfWg"
      },
      "source": [
        "###ord"
      ]
    },
    {
      "cell_type": "markdown",
      "metadata": {
        "id": "BIN2Sw_OLDpd"
      },
      "source": [
        "##### ord가 작을 때는 0과 1의 차이가 크지만 커질수록 그 차이가 미미해짐"
      ]
    },
    {
      "cell_type": "code",
      "metadata": {
        "colab": {
          "base_uri": "https://localhost:8080/"
        },
        "id": "9LbCjLYBJlMc",
        "outputId": "b3713c5b-496f-4d08-c08a-ddec6b2f3fb9"
      },
      "source": [
        "train_csv.describe(include='all')['ord']"
      ],
      "execution_count": null,
      "outputs": [
        {
          "output_type": "execute_result",
          "data": {
            "text/plain": [
              "count     118745.000000\n",
              "unique              NaN\n",
              "top                 NaN\n",
              "freq                NaN\n",
              "mean          39.125614\n",
              "std           45.138605\n",
              "min            1.000000\n",
              "25%            9.000000\n",
              "50%           21.000000\n",
              "75%           56.000000\n",
              "max          396.000000\n",
              "Name: ord, dtype: float64"
            ]
          },
          "metadata": {
            "tags": []
          },
          "execution_count": 21
        }
      ]
    },
    {
      "cell_type": "code",
      "metadata": {
        "colab": {
          "base_uri": "https://localhost:8080/"
        },
        "id": "dNnY9l8WJyAu",
        "outputId": "0a034cbc-a700-455e-d7bd-68ce75694bdb"
      },
      "source": [
        "train_csv[train_csv['info'] == 1].describe(include='all')['ord']"
      ],
      "execution_count": null,
      "outputs": [
        {
          "output_type": "execute_result",
          "data": {
            "text/plain": [
              "count     46932.000000\n",
              "unique             NaN\n",
              "top                NaN\n",
              "freq               NaN\n",
              "mean         46.052416\n",
              "std          43.153748\n",
              "min           1.000000\n",
              "25%          15.000000\n",
              "50%          33.000000\n",
              "75%          65.000000\n",
              "max         396.000000\n",
              "Name: ord, dtype: float64"
            ]
          },
          "metadata": {
            "tags": []
          },
          "execution_count": 24
        }
      ]
    },
    {
      "cell_type": "code",
      "metadata": {
        "colab": {
          "base_uri": "https://localhost:8080/"
        },
        "id": "Bes-KpeGKDOK",
        "outputId": "8d256c12-93a3-4da4-869f-1f2351783ca7"
      },
      "source": [
        "train_csv[train_csv['info'] == 0].describe(include='all')['ord']"
      ],
      "execution_count": null,
      "outputs": [
        {
          "output_type": "execute_result",
          "data": {
            "text/plain": [
              "count     71813.000000\n",
              "unique             NaN\n",
              "top                NaN\n",
              "freq               NaN\n",
              "mean         34.598736\n",
              "std          45.827948\n",
              "min           1.000000\n",
              "25%           6.000000\n",
              "50%          15.000000\n",
              "75%          48.000000\n",
              "max         374.000000\n",
              "Name: ord, dtype: float64"
            ]
          },
          "metadata": {
            "tags": []
          },
          "execution_count": 25
        }
      ]
    },
    {
      "cell_type": "code",
      "metadata": {
        "colab": {
          "base_uri": "https://localhost:8080/"
        },
        "id": "m7vQXKPFKHbm",
        "outputId": "f971e006-748b-43a8-cdd2-0544196167c8"
      },
      "source": [
        "Q1 = train_csv[train_csv['info'] == 1].describe(include='all')['ord']['25%']\r\n",
        "Q3 = train_csv[train_csv['info'] == 1].describe(include='all')['ord']['75%']\r\n",
        "IQR = Q3 - Q1\r\n",
        "mxm = Q3 + 1.5 * IQR\r\n",
        "mxm"
      ],
      "execution_count": null,
      "outputs": [
        {
          "output_type": "execute_result",
          "data": {
            "text/plain": [
              "140.0"
            ]
          },
          "metadata": {
            "tags": []
          },
          "execution_count": 26
        }
      ]
    },
    {
      "cell_type": "code",
      "metadata": {
        "colab": {
          "base_uri": "https://localhost:8080/",
          "height": 297
        },
        "id": "gM2cc4sBKlwW",
        "outputId": "30bc3fa5-8fb4-43b2-977d-93500c468ea2"
      },
      "source": [
        "sns.boxplot(data = train_csv[train_csv['ord'] <= mxm], y = 'ord', x = 'info')"
      ],
      "execution_count": null,
      "outputs": [
        {
          "output_type": "execute_result",
          "data": {
            "text/plain": [
              "<matplotlib.axes._subplots.AxesSubplot at 0x7f00771b8f60>"
            ]
          },
          "metadata": {
            "tags": []
          },
          "execution_count": 27
        },
        {
          "output_type": "display_data",
          "data": {
            "image/png": "[encoded data removed]",
            "text/plain": [
              "<Figure size 432x288 with 1 Axes>"
            ]
          },
          "metadata": {
            "tags": []
          }
        }
      ]
    },
    {
      "cell_type": "code",
      "metadata": {
        "colab": {
          "base_uri": "https://localhost:8080/",
          "height": 209
        },
        "id": "EC7mQyeXKyOP",
        "outputId": "3bb0da99-0375-42a0-9f28-399c295cdf31"
      },
      "source": [
        "plt.figure(figsize=(30,8))\r\n",
        "sns.countplot(data = train_csv[train_csv['ord'] <= mxm], x = 'ord', hue = 'info')"
      ],
      "execution_count": null,
      "outputs": [
        {
          "output_type": "execute_result",
          "data": {
            "text/plain": [
              "<matplotlib.axes._subplots.AxesSubplot at 0x7f0076f9d9b0>"
            ]
          },
          "metadata": {
            "tags": []
          },
          "execution_count": 28
        },
        {
          "output_type": "display_data",
          "data": {
            "image/png": "[encoded data removed]",
            "text/plain": [
              "<Figure size 2160x576 with 1 Axes>"
            ]
          },
          "metadata": {
            "tags": []
          }
        }
      ]
    },
    {
      "cell_type": "code",
      "metadata": {
        "colab": {
          "base_uri": "https://localhost:8080/",
          "height": 299
        },
        "id": "UwuwpahXLBWC",
        "outputId": "1b7a0736-6dce-4478-88c7-da3277e44769"
      },
      "source": [
        "plt.figure(figsize=(30,8))\r\n",
        "sns.distplot(train_csv[train_csv['info'] == 1]['ord'], color = 'red', label='1')\r\n",
        "sns.distplot(train_csv[train_csv['info'] == 0]['ord'], color = 'blue', label='0')\r\n",
        "plt.legend(title = 'info')"
      ],
      "execution_count": null,
      "outputs": [
        {
          "output_type": "stream",
          "text": [
            "/usr/local/lib/python3.6/dist-packages/seaborn/distributions.py:2551: FutureWarning: `distplot` is a deprecated function and will be removed in a future version. Please adapt your code to use either `displot` (a figure-level function with similar flexibility) or `histplot` (an axes-level function for histograms).\n",
            "  warnings.warn(msg, FutureWarning)\n",
            "/usr/local/lib/python3.6/dist-packages/seaborn/distributions.py:2551: FutureWarning: `distplot` is a deprecated function and will be removed in a future version. Please adapt your code to use either `displot` (a figure-level function with similar flexibility) or `histplot` (an axes-level function for histograms).\n",
            "  warnings.warn(msg, FutureWarning)\n"
          ],
          "name": "stderr"
        },
        {
          "output_type": "execute_result",
          "data": {
            "text/plain": [
              "<matplotlib.legend.Legend at 0x7f0079d2a9e8>"
            ]
          },
          "metadata": {
            "tags": []
          },
          "execution_count": 29
        },
        {
          "output_type": "display_data",
          "data": {
            "image/png": "[encoded data removed]",
            "text/plain": [
              "<Figure size 2160x576 with 1 Axes>"
            ]
          },
          "metadata": {
            "tags": []
          }
        }
      ]
    },
    {
      "cell_type": "markdown",
      "metadata": {
        "id": "rMT0Z0b64iRl"
      },
      "source": [
        "###내가 요일별로 분석해본 것"
      ]
    },
    {
      "cell_type": "code",
      "metadata": {
        "colab": {
          "base_uri": "https://localhost:8080/",
          "height": 204
        },
        "id": "eba_cUnIMaHc",
        "outputId": "74ec351a-e196-465d-c4d9-fe4a4aa0d0be"
      },
      "source": [
        "lis = []\r\n",
        "\r\n",
        "for day in tmp:\r\n",
        "    lis.append(day.weekday())"
      ],
      "execution_count": null,
      "outputs": [
        {
          "output_type": "error",
          "ename": "AttributeError",
          "evalue": "ignored",
          "traceback": [
            "\u001b[0;31m---------------------------------------------------------------------------\u001b[0m",
            "\u001b[0;31mAttributeError\u001b[0m                            Traceback (most recent call last)",
            "\u001b[0;32m<ipython-input-20-5ab8707ee673>\u001b[0m in \u001b[0;36m<module>\u001b[0;34m()\u001b[0m\n\u001b[1;32m      2\u001b[0m \u001b[0;34m\u001b[0m\u001b[0m\n\u001b[1;32m      3\u001b[0m \u001b[0;32mfor\u001b[0m \u001b[0mday\u001b[0m \u001b[0;32min\u001b[0m \u001b[0mtmp\u001b[0m\u001b[0;34m:\u001b[0m\u001b[0;34m\u001b[0m\u001b[0;34m\u001b[0m\u001b[0m\n\u001b[0;32m----> 4\u001b[0;31m     \u001b[0mlis\u001b[0m\u001b[0;34m.\u001b[0m\u001b[0mappend\u001b[0m\u001b[0;34m(\u001b[0m\u001b[0mday\u001b[0m\u001b[0;34m.\u001b[0m\u001b[0mweekday\u001b[0m\u001b[0;34m(\u001b[0m\u001b[0;34m)\u001b[0m\u001b[0;34m)\u001b[0m\u001b[0;34m\u001b[0m\u001b[0;34m\u001b[0m\u001b[0m\n\u001b[0m",
            "\u001b[0;31mAttributeError\u001b[0m: 'str' object has no attribute 'weekday'"
          ]
        }
      ]
    },
    {
      "cell_type": "code",
      "metadata": {
        "id": "ANc_KoGYNhVe"
      },
      "source": [
        "df = pd.DataFrame(data=lis, columns=['day'])"
      ],
      "execution_count": null,
      "outputs": []
    },
    {
      "cell_type": "code",
      "metadata": {
        "id": "G4qqc4cTMmE3"
      },
      "source": [
        "df = pd.concat([train_csv['info'].copy(), df], axis=1)"
      ],
      "execution_count": null,
      "outputs": []
    },
    {
      "cell_type": "code",
      "metadata": {
        "id": "AllIxDmzNMIf"
      },
      "source": [
        "group = df.groupby(['day', 'info'])"
      ],
      "execution_count": null,
      "outputs": []
    },
    {
      "cell_type": "code",
      "metadata": {
        "colab": {
          "base_uri": "https://localhost:8080/",
          "height": 297
        },
        "id": "_JicES7aPbI-",
        "outputId": "8bc8f0f3-234a-4769-a109-6ce206fa6ced"
      },
      "source": [
        "sns.countplot(data = df, x='day', hue='info')"
      ],
      "execution_count": null,
      "outputs": [
        {
          "output_type": "execute_result",
          "data": {
            "text/plain": [
              "<matplotlib.axes._subplots.AxesSubplot at 0x7fe9abe3e320>"
            ]
          },
          "metadata": {
            "tags": []
          },
          "execution_count": 77
        },
        {
          "output_type": "display_data",
          "data": {
            "image/png": "[encoded data removed]",
            "text/plain": [
              "<Figure size 432x288 with 1 Axes>"
            ]
          },
          "metadata": {
            "tags": []
          }
        }
      ]
    },
    {
      "cell_type": "code",
      "metadata": {
        "colab": {
          "base_uri": "https://localhost:8080/"
        },
        "id": "-7moP-LHpTuG",
        "outputId": "f63e02fe-4374-43a6-96ed-0f15d78d02b4"
      },
      "source": [
        "print(\"train_isna : \", end=\" \")\r\n",
        "for col in train_csv.columns:\r\n",
        "    print(np.sum(train_csv[col].isna()), end=\" \")\r\n",
        "print()\r\n",
        "print(\"test_isna : \", end=\" \")\r\n",
        "for col in test_csv.columns:\r\n",
        "    print(np.sum(test_csv[col].isna()), end=\" \")"
      ],
      "execution_count": null,
      "outputs": [
        {
          "output_type": "stream",
          "text": [
            "train_isna :  0 0 0 0 0 0 \n",
            "test_isna :  0 0 0 0 0 0 "
          ],
          "name": "stdout"
        }
      ]
    },
    {
      "cell_type": "code",
      "metadata": {
        "colab": {
          "base_uri": "https://localhost:8080/"
        },
        "id": "4xEedYmisqpI",
        "outputId": "93372296-ce23-4fc3-b8fc-105d0b0cfcb7"
      },
      "source": [
        "print(\"진짜 뉴스 수 : \", len(train_csv.loc[train_csv['info']==0]))\r\n",
        "print(\"가짜 뉴스 수 : \", len(train_csv.loc[train_csv['info']==1]))\r\n",
        "print(\"진짜 뉴스 비율 : \", round(len(train_csv.loc[train_csv['info']==0]) / len(train_csv) * 100, 3))\r\n",
        "print(\"가짜 뉴스 비율 : \", round(len(train_csv.loc[train_csv['info']==1]) / len(train_csv) * 100, 3))"
      ],
      "execution_count": null,
      "outputs": [
        {
          "output_type": "stream",
          "text": [
            "진짜 뉴스 수 :  71813\n",
            "가짜 뉴스 수 :  46932\n",
            "진짜 뉴스 비율 :  60.477\n",
            "가짜 뉴스 비율 :  39.523\n"
          ],
          "name": "stdout"
        }
      ]
    },
    {
      "cell_type": "code",
      "metadata": {
        "id": "kEs4SKz9unVc"
      },
      "source": [
        "graph = train_csv.loc[train_csv['ord'] < 50]\r\n",
        "plt.figure(figsize=(20,10))\r\n",
        "sns.countplot(data=graph, x='ord', hue='info')"
      ],
      "execution_count": null,
      "outputs": []
    },
    {
      "cell_type": "code",
      "metadata": {
        "colab": {
          "base_uri": "https://localhost:8080/",
          "height": 53
        },
        "id": "ObZjE1dl1EyR",
        "outputId": "26f17deb-4404-46fc-abcc-ec885fe496bf"
      },
      "source": [
        "#length feature 추가\r\n",
        "train_csv['length'] = train_csv['content'].apply(lambda x : len(x))\r\n",
        "\r\n",
        "\"\"\"plt.figure(figsize=(12,7))\r\n",
        "fake = train_csv.loc[train_csv['info']==1]\r\n",
        "truth = train_csv.loc[train_csv['info']==0]\r\n",
        "sns.distplot(fake['length'], label=\"len of fake news\")\r\n",
        "sns.distplot(truth['length'], label=\"len of real news\")\r\n",
        "plt.xlim(0, 200)\r\n",
        "plt.legend()\"\"\""
      ],
      "execution_count": null,
      "outputs": [
        {
          "output_type": "execute_result",
          "data": {
            "application/vnd.google.colaboratory.intrinsic+json": {
              "type": "string"
            },
            "text/plain": [
              "'plt.figure(figsize=(12,7))\\nfake = train_csv.loc[train_csv[\\'info\\']==1]\\ntruth = train_csv.loc[train_csv[\\'info\\']==0]\\nsns.distplot(fake[\\'length\\'], label=\"len of fake news\")\\nsns.distplot(truth[\\'length\\'], label=\"len of real news\")\\nplt.xlim(0, 200)\\nplt.legend()'"
            ]
          },
          "metadata": {
            "tags": []
          },
          "execution_count": 3
        }
      ]
    },
    {
      "cell_type": "code",
      "metadata": {
        "id": "kIHcY4mzG1Pa"
      },
      "source": [
        "test_csv['length'] = test_csv['content'].apply(lambda x : len(x))"
      ],
      "execution_count": null,
      "outputs": []
    },
    {
      "cell_type": "code",
      "metadata": {
        "id": "Uhm82qdP9w3J"
      },
      "source": [
        "#중복 확인 및 제거\r\n",
        "#train_csv['content'].nunique()\r\n",
        "#train_csv.drop_duplicates(subset=['content'], inplace=True)"
      ],
      "execution_count": null,
      "outputs": []
    },
    {
      "cell_type": "code",
      "metadata": {
        "colab": {
          "base_uri": "https://localhost:8080/"
        },
        "id": "8XI4w-cMYWbJ",
        "outputId": "21a474ae-f603-48c2-bb63-7accd55b7f13"
      },
      "source": [
        "test_csv.columns"
      ],
      "execution_count": null,
      "outputs": [
        {
          "output_type": "execute_result",
          "data": {
            "text/plain": [
              "Index(['n_id', 'date', 'title', 'content', 'ord', 'id', 'length'], dtype='object')"
            ]
          },
          "metadata": {
            "tags": []
          },
          "execution_count": 144
        }
      ]
    },
    {
      "cell_type": "markdown",
      "metadata": {
        "id": "R8ENA2ITlXn-"
      },
      "source": [
        "#Dacon + conv1d"
      ]
    },
    {
      "cell_type": "code",
      "metadata": {
        "id": "iF28pYfeF67H"
      },
      "source": [
        "train = train_csv.copy()\r\n",
        "test = test_csv.copy()"
      ],
      "execution_count": null,
      "outputs": []
    },
    {
      "cell_type": "code",
      "metadata": {
        "colab": {
          "base_uri": "https://localhost:8080/"
        },
        "id": "84FWMgZJl-UY",
        "outputId": "c3bff09d-867e-4082-dffb-d689a3abd37d"
      },
      "source": [
        "!pip install konlpy"
      ],
      "execution_count": null,
      "outputs": [
        {
          "output_type": "stream",
          "text": [
            "Collecting konlpy\n",
            "\u001b[?25l  Downloading https://files.pythonhosted.org/packages/85/0e/f385566fec837c0b83f216b2da65db9997b35dd675e107752005b7d392b1/konlpy-0.5.2-py2.py3-none-any.whl (19.4MB)\n",
            "\u001b[K     |████████████████████████████████| 19.4MB 72.4MB/s \n",
            "\u001b[?25hCollecting beautifulsoup4==4.6.0\n",
            "\u001b[?25l  Downloading https://files.pythonhosted.org/packages/9e/d4/10f46e5cfac773e22707237bfcd51bbffeaf0a576b0a847ec7ab15bd7ace/beautifulsoup4-4.6.0-py3-none-any.whl (86kB)\n",
            "\u001b[K     |████████████████████████████████| 92kB 13.1MB/s \n",
            "\u001b[?25hRequirement already satisfied: lxml>=4.1.0 in /usr/local/lib/python3.6/dist-packages (from konlpy) (4.2.6)\n",
            "Collecting JPype1>=0.7.0\n",
            "\u001b[?25l  Downloading https://files.pythonhosted.org/packages/b7/21/9e2c0dbf9df856e6392a1aec1d18006c60b175aa4e31d351e8278a8a63c0/JPype1-1.2.0-cp36-cp36m-manylinux2010_x86_64.whl (453kB)\n",
            "\u001b[K     |████████████████████████████████| 460kB 55.0MB/s \n",
            "\u001b[?25hCollecting colorama\n",
            "  Downloading https://files.pythonhosted.org/packages/44/98/5b86278fbbf250d239ae0ecb724f8572af1c91f4a11edf4d36a206189440/colorama-0.4.4-py2.py3-none-any.whl\n",
            "Collecting tweepy>=3.7.0\n",
            "  Downloading https://files.pythonhosted.org/packages/67/c3/6bed87f3b1e5ed2f34bd58bf7978e308c86e255193916be76e5a5ce5dfca/tweepy-3.10.0-py2.py3-none-any.whl\n",
            "Requirement already satisfied: numpy>=1.6 in /usr/local/lib/python3.6/dist-packages (from konlpy) (1.19.4)\n",
            "Requirement already satisfied: typing-extensions; python_version < \"3.8\" in /usr/local/lib/python3.6/dist-packages (from JPype1>=0.7.0->konlpy) (3.7.4.3)\n",
            "Requirement already satisfied: requests-oauthlib>=0.7.0 in /usr/local/lib/python3.6/dist-packages (from tweepy>=3.7.0->konlpy) (1.3.0)\n",
            "Requirement already satisfied: six>=1.10.0 in /usr/local/lib/python3.6/dist-packages (from tweepy>=3.7.0->konlpy) (1.15.0)\n",
            "Requirement already satisfied: requests[socks]>=2.11.1 in /usr/local/lib/python3.6/dist-packages (from tweepy>=3.7.0->konlpy) (2.23.0)\n",
            "Requirement already satisfied: oauthlib>=3.0.0 in /usr/local/lib/python3.6/dist-packages (from requests-oauthlib>=0.7.0->tweepy>=3.7.0->konlpy) (3.1.0)\n",
            "Requirement already satisfied: certifi>=2017.4.17 in /usr/local/lib/python3.6/dist-packages (from requests[socks]>=2.11.1->tweepy>=3.7.0->konlpy) (2020.12.5)\n",
            "Requirement already satisfied: chardet<4,>=3.0.2 in /usr/local/lib/python3.6/dist-packages (from requests[socks]>=2.11.1->tweepy>=3.7.0->konlpy) (3.0.4)\n",
            "Requirement already satisfied: idna<3,>=2.5 in /usr/local/lib/python3.6/dist-packages (from requests[socks]>=2.11.1->tweepy>=3.7.0->konlpy) (2.10)\n",
            "Requirement already satisfied: urllib3!=1.25.0,!=1.25.1,<1.26,>=1.21.1 in /usr/local/lib/python3.6/dist-packages (from requests[socks]>=2.11.1->tweepy>=3.7.0->konlpy) (1.24.3)\n",
            "Requirement already satisfied: PySocks!=1.5.7,>=1.5.6; extra == \"socks\" in /usr/local/lib/python3.6/dist-packages (from requests[socks]>=2.11.1->tweepy>=3.7.0->konlpy) (1.7.1)\n",
            "Installing collected packages: beautifulsoup4, JPype1, colorama, tweepy, konlpy\n",
            "  Found existing installation: beautifulsoup4 4.6.3\n",
            "    Uninstalling beautifulsoup4-4.6.3:\n",
            "      Successfully uninstalled beautifulsoup4-4.6.3\n",
            "  Found existing installation: tweepy 3.6.0\n",
            "    Uninstalling tweepy-3.6.0:\n",
            "      Successfully uninstalled tweepy-3.6.0\n",
            "Successfully installed JPype1-1.2.0 beautifulsoup4-4.6.0 colorama-0.4.4 konlpy-0.5.2 tweepy-3.10.0\n"
          ],
          "name": "stdout"
        }
      ]
    },
    {
      "cell_type": "code",
      "metadata": {
        "colab": {
          "base_uri": "https://localhost:8080/"
        },
        "id": "L3wTkm0fGOuG",
        "outputId": "2ec2bf57-b2e7-44cf-c430-1bf661cef253"
      },
      "source": [
        "!pip install tqdm"
      ],
      "execution_count": null,
      "outputs": [
        {
          "output_type": "stream",
          "text": [
            "Requirement already satisfied: tqdm in /usr/local/lib/python3.6/dist-packages (4.41.1)\n"
          ],
          "name": "stdout"
        }
      ]
    },
    {
      "cell_type": "code",
      "metadata": {
        "id": "B7NRiBptLI04"
      },
      "source": [
        "from konlpy.tag import Okt\r\n",
        "from tqdm import tqdm"
      ],
      "execution_count": null,
      "outputs": []
    },
    {
      "cell_type": "code",
      "metadata": {
        "id": "4qqyOzq9lXFt"
      },
      "source": [
        "def text_preprocessing(text_list):\r\n",
        "    stopwords = ['을', '를', '이', '가', '은', '는','에', '으로', '부터', 'null']\r\n",
        "    tokenizer = Okt()\r\n",
        "    token_list = []\r\n",
        "\r\n",
        "    for text in tqdm(text_list):\r\n",
        "        text = re.sub('[^가-힣a-z]', ' ', text.lower())\r\n",
        "        token = tokenizer.morphs(text, stem=True)\r\n",
        "        token = [word for word in token if word not in stopwords or type(word) != float]\r\n",
        "        token_list.append(token)\r\n",
        "\r\n",
        "    return token_list, tokenizer"
      ],
      "execution_count": null,
      "outputs": []
    },
    {
      "cell_type": "code",
      "metadata": {
        "colab": {
          "base_uri": "https://localhost:8080/"
        },
        "id": "dEkkhFciFxod",
        "outputId": "e375e547-c654-4da0-ae03-d2c5f6e0fe79"
      },
      "source": [
        "train['token'], okt = text_preprocessing(train['content'])"
      ],
      "execution_count": null,
      "outputs": [
        {
          "output_type": "stream",
          "text": [
            "100%|██████████| 118745/118745 [05:50<00:00, 339.15it/s]\n"
          ],
          "name": "stderr"
        }
      ]
    },
    {
      "cell_type": "code",
      "metadata": {
        "id": "gusKH4zcTwxy"
      },
      "source": [
        "from tensorflow.keras.preprocessing.text import Tokenizer\r\n",
        "from tensorflow.keras.preprocessing.sequence import pad_sequences"
      ],
      "execution_count": null,
      "outputs": []
    },
    {
      "cell_type": "code",
      "metadata": {
        "id": "8-MG9s_QGsIF"
      },
      "source": [
        "def text2sequence(train_text, max_len=100):\r\n",
        "    #가장 빈도가 높은 단어 선택하게하는 tokenizer 객체\r\n",
        "    vectorizer = Tokenizer()\r\n",
        "\r\n",
        "    #맞는 단어 인덱스 구축\r\n",
        "    vectorizer.fit_on_texts(train_text)\r\n",
        "\r\n",
        "    #인덱스의 리스트로 변환\r\n",
        "    sequence = vectorizer.texts_to_sequences(train_text)\r\n",
        "    vocab_size = len(vectorizer.word_index) + 1\r\n",
        "    print('vocab_size : ', vocab_size)\r\n",
        "    x_padding = pad_sequences(sequence, maxlen = max_len)\r\n",
        "\r\n",
        "    return x_padding, vocab_size, vectorizer"
      ],
      "execution_count": null,
      "outputs": []
    },
    {
      "cell_type": "code",
      "metadata": {
        "colab": {
          "base_uri": "https://localhost:8080/"
        },
        "id": "wKL_MgXRJJCC",
        "outputId": "397ea497-562a-4d55-9400-4ec61dccba7a"
      },
      "source": [
        "train_y =  train['info']\r\n",
        "train_padding, vocab_size, vectorizer = text2sequence(train['token'], max_len=100)\r\n",
        "train_padding.shape"
      ],
      "execution_count": null,
      "outputs": [
        {
          "output_type": "stream",
          "text": [
            "vocab_size :  32784\n"
          ],
          "name": "stdout"
        },
        {
          "output_type": "execute_result",
          "data": {
            "text/plain": [
              "(118745, 100)"
            ]
          },
          "metadata": {
            "tags": []
          },
          "execution_count": 13
        }
      ]
    },
    {
      "cell_type": "code",
      "metadata": {
        "id": "t3lCSErrUGpL"
      },
      "source": [
        "#다 0으로 패딩되어 있는 인덱스들\r\n",
        "drop_index = np.where((train_padding.sum(axis=1) == 0) == True)"
      ],
      "execution_count": null,
      "outputs": []
    },
    {
      "cell_type": "code",
      "metadata": {
        "id": "fsxlXHJGXZDu"
      },
      "source": [
        "drop_index = drop_index[0]"
      ],
      "execution_count": null,
      "outputs": []
    },
    {
      "cell_type": "code",
      "metadata": {
        "colab": {
          "base_uri": "https://localhost:8080/"
        },
        "id": "9z9UpArOX_F0",
        "outputId": "ddea1507-3e22-4a20-8411-4335612f40b6"
      },
      "source": [
        "drop_index"
      ],
      "execution_count": null,
      "outputs": [
        {
          "output_type": "execute_result",
          "data": {
            "text/plain": [
              "array([   584,   4573,   4576,   4577,  11789,  11791,  11793,  11795,\n",
              "        11797,  11799,  11801,  11803,  11805,  11807,  11809,  11811,\n",
              "        11813,  11815,  11817,  11819,  11821,  11823,  11825,  11827,\n",
              "        11829,  11831,  11843,  11845,  11847,  11849,  11851,  11853,\n",
              "        11855,  11857,  11872,  11874,  11876,  11878,  11880,  11882,\n",
              "        11884,  11886,  11888,  11890,  11892,  15081,  48006,  48162,\n",
              "        66948,  66963,  67000,  67015,  67858,  67860,  67862,  67864,\n",
              "        67866,  67868,  67870,  67872,  67874,  67876,  67902,  67904,\n",
              "        67906,  67908,  67910,  67912,  67914,  67916,  67918,  67920,\n",
              "       107285, 107288, 107299, 107307, 107377, 107380, 107391, 107399])"
            ]
          },
          "metadata": {
            "tags": []
          },
          "execution_count": 16
        }
      ]
    },
    {
      "cell_type": "code",
      "metadata": {
        "colab": {
          "base_uri": "https://localhost:8080/"
        },
        "id": "iouGth35Ws5B",
        "outputId": "6a9dd189-50e1-4587-efec-9f2b575ffc8e"
      },
      "source": [
        "train_csv.columns"
      ],
      "execution_count": null,
      "outputs": [
        {
          "output_type": "execute_result",
          "data": {
            "text/plain": [
              "Index(['n_id', 'date', 'title', 'content', 'ord', 'info', 'length'], dtype='object')"
            ]
          },
          "metadata": {
            "tags": []
          },
          "execution_count": 17
        }
      ]
    },
    {
      "cell_type": "code",
      "metadata": {
        "colab": {
          "base_uri": "https://localhost:8080/"
        },
        "id": "l2sMvpsXVvFn",
        "outputId": "f1e0c1f9-45c7-40d2-efe1-65f9368d0376"
      },
      "source": [
        "#모두 0으로 패딩된 샘플은 info가 0일 가능성이 크다 (98.75%)\r\n",
        "train_csv.iloc[drop_index, 5].sum() / len(drop_index) * 100"
      ],
      "execution_count": null,
      "outputs": [
        {
          "output_type": "execute_result",
          "data": {
            "text/plain": [
              "1.25"
            ]
          },
          "metadata": {
            "tags": []
          },
          "execution_count": 18
        }
      ]
    },
    {
      "cell_type": "markdown",
      "metadata": {
        "id": "ak7zsV2hYdWn"
      },
      "source": [
        "####embedding"
      ]
    },
    {
      "cell_type": "code",
      "metadata": {
        "colab": {
          "base_uri": "https://localhost:8080/"
        },
        "id": "jJ9VJ71pZVcb",
        "outputId": "615aaf21-0d21-43a5-c110-7b8616f4828a"
      },
      "source": [
        "!pip install gensim"
      ],
      "execution_count": null,
      "outputs": [
        {
          "output_type": "stream",
          "text": [
            "Requirement already satisfied: gensim in /usr/local/lib/python3.6/dist-packages (3.6.0)\n",
            "Requirement already satisfied: scipy>=0.18.1 in /usr/local/lib/python3.6/dist-packages (from gensim) (1.4.1)\n",
            "Requirement already satisfied: numpy>=1.11.3 in /usr/local/lib/python3.6/dist-packages (from gensim) (1.19.4)\n",
            "Requirement already satisfied: six>=1.5.0 in /usr/local/lib/python3.6/dist-packages (from gensim) (1.15.0)\n",
            "Requirement already satisfied: smart-open>=1.2.1 in /usr/local/lib/python3.6/dist-packages (from gensim) (4.0.1)\n"
          ],
          "name": "stdout"
        }
      ]
    },
    {
      "cell_type": "code",
      "metadata": {
        "id": "EVIOV3_P7Bvx"
      },
      "source": [
        "os.chdir('/content/drive/MyDrive')"
      ],
      "execution_count": null,
      "outputs": []
    },
    {
      "cell_type": "code",
      "metadata": {
        "id": "gIRZ9JdiYev9"
      },
      "source": [
        "import gensim\r\n",
        "word2vec = gensim.models.KeyedVectors.load_word2vec_format('GoogleNews-vectors-negative300 (1).bin.gz', binary = True)"
      ],
      "execution_count": null,
      "outputs": []
    },
    {
      "cell_type": "code",
      "metadata": {
        "colab": {
          "base_uri": "https://localhost:8080/"
        },
        "id": "WOiNB_auZU3f",
        "outputId": "6057fb3e-3b03-4c86-9866-a218b231dbe9"
      },
      "source": [
        "embedding_matrix = np.zeros((vocab_size, 300))\r\n",
        "cnt = 0\r\n",
        "for index, word in enumerate(vectorizer.word_index):\r\n",
        "    if word in word2vec:\r\n",
        "        embedding_vector = word2vec[word]\r\n",
        "        embedding_matrix[index] = embedding_vector\r\n",
        "    else:\r\n",
        "        cnt += 1\r\n",
        "\r\n",
        "print(round(cnt/vocab_size*100,3), '%만큼 단어가 존재하지 않습니다.')"
      ],
      "execution_count": null,
      "outputs": [
        {
          "output_type": "stream",
          "text": [
            "91.365  %만큼 단어가 존재하지 않습니다.\n"
          ],
          "name": "stdout"
        }
      ]
    },
    {
      "cell_type": "code",
      "metadata": {
        "id": "oOrg5SZVamVA"
      },
      "source": [
        "from keras.layers import SpatialDropout1D, Embedding, Conv1D, Dropout, GlobalMaxPool1D, Dense, Input\r\n",
        "from keras.models import Model\r\n",
        "from keras.callbacks import EarlyStopping, ModelCheckpoint"
      ],
      "execution_count": null,
      "outputs": []
    },
    {
      "cell_type": "code",
      "metadata": {
        "id": "AW9kBKCUaG4B"
      },
      "source": [
        "def My_model(vocab_size, max_len = 100):\r\n",
        "\r\n",
        "  inputs = Input(shape=(100,))  \r\n",
        "    # embedding layer를 선언\r\n",
        "  embedding_layer = keras.layers.Embedding(vocab_size, 300, weights = [embedding_matrix])(inputs)\r\n",
        "\r\n",
        "  # embedding layer에 대한 output에 대해 dropout을 취한다.\r\n",
        "  dropout_emb = keras.layers.Dropout(0.5)(embedding_layer)\r\n",
        "\r\n",
        "  ## filters = 128이고 kernel_size = 3,4,5이다.\r\n",
        "  ## 길이기ㅏ 3, 4, 5인 128개의 다른 필터를 생성한다. 3, 4, 5 gram의 효과처럼 다양한 각도에서 문장을 보는 효과가 있다.\r\n",
        "  ## conv1d는 (배치 크기, 길이, 채널)로 입력값을 받는데, 배치 사이즈 : 문장 숫자 | 길이 : 각 문장의 단어의 개수 | 채널 : 임베딩 출력 차원수\r\n",
        "\r\n",
        "  conv1 = keras.layers.Conv1D(filters=128, kernel_size=3, padding='valid', activation=tf.nn.relu)(dropout_emb)\r\n",
        "  pool1 = keras.layers.GlobalMaxPool1D()(conv1)\r\n",
        "\r\n",
        "  conv2 = keras.layers.Conv1D(filters=128, kernel_size=4, padding='valid', activation=tf.nn.relu)(dropout_emb)\r\n",
        "  pool2 = keras.layers.GlobalMaxPool1D()(conv2)\r\n",
        "\r\n",
        "  conv3 = keras.layers.Conv1D(filters=128, kernel_size=5, padding='valid', activation=tf.nn.relu)(dropout_emb)\r\n",
        "  pool3 = keras.layers.GlobalMaxPool1D()(conv3)\r\n",
        "\r\n",
        "  # 3,4,5 gram이후 모아주기\r\n",
        "  concat = keras.layers.concatenate([pool1, pool2, pool3])\r\n",
        "\r\n",
        "  hidden = keras.layers.Dense(250, activation=tf.nn.relu)(concat)\r\n",
        "  dropout_hidden = keras.layers.Dropout(0.5)(hidden)\r\n",
        "  output = keras.layers.Dense(1, activation='sigmoid')(dropout_hidden)\r\n",
        "\r\n",
        "  model = Model(inputs=[inputs], outputs=[output])\r\n",
        "  model.compile(optimizer=tf.keras.optimizers.Adam(),\r\n",
        "                loss='binary_crossentropy',\r\n",
        "                metrics=['accuracy'])\r\n",
        "  return model"
      ],
      "execution_count": null,
      "outputs": []
    },
    {
      "cell_type": "code",
      "metadata": {
        "id": "TKC8DHcZ0z0y"
      },
      "source": [
        "model = My_model(vocab_size)"
      ],
      "execution_count": null,
      "outputs": []
    },
    {
      "cell_type": "code",
      "metadata": {
        "id": "9kE3L1Jo6RAJ"
      },
      "source": [
        "epochs = 10\r\n",
        "batch_size = 32"
      ],
      "execution_count": null,
      "outputs": []
    },
    {
      "cell_type": "code",
      "metadata": {
        "colab": {
          "base_uri": "https://localhost:8080/"
        },
        "id": "GIh553z6-hFK",
        "outputId": "f3a3ebcb-e214-4e26-dffe-034b92754258"
      },
      "source": [
        "train_padding.shape, train_y.shape"
      ],
      "execution_count": null,
      "outputs": [
        {
          "output_type": "execute_result",
          "data": {
            "text/plain": [
              "((118745, 100), (118745,))"
            ]
          },
          "metadata": {
            "tags": []
          },
          "execution_count": 62
        }
      ]
    },
    {
      "cell_type": "code",
      "metadata": {
        "id": "UtO6CsQI_0r0"
      },
      "source": [
        "es = EarlyStopping(monitor='val_loss', mode='min', verbose=1, patience=3)\r\n",
        "mc = ModelCheckpoint('best_model_second.h5', monitor='val_acc', mode='max', verbose=1, save_best_only=True)"
      ],
      "execution_count": null,
      "outputs": []
    },
    {
      "cell_type": "code",
      "metadata": {
        "colab": {
          "base_uri": "https://localhost:8080/"
        },
        "id": "Yukr_2vu57CZ",
        "outputId": "9c76f1cb-d46d-4f40-e03e-faf87f127767"
      },
      "source": [
        "model.fit(x=train_padding, y=train_y, epochs = epochs, batch_size = batch_size,\r\n",
        "          shuffle=True, validation_split=0.2, callbacks=[es, mc])"
      ],
      "execution_count": null,
      "outputs": [
        {
          "output_type": "stream",
          "text": [
            "Epoch 1/10\n",
            "2969/2969 [==============================] - 284s 95ms/step - loss: 0.1508 - accuracy: 0.9354 - val_loss: 0.0867 - val_accuracy: 0.9668\n",
            "WARNING:tensorflow:Can save best model only with val_acc available, skipping.\n",
            "Epoch 2/10\n",
            "2969/2969 [==============================] - 272s 91ms/step - loss: 0.0304 - accuracy: 0.9897 - val_loss: 0.0650 - val_accuracy: 0.9739\n",
            "WARNING:tensorflow:Can save best model only with val_acc available, skipping.\n",
            "Epoch 3/10\n",
            "2969/2969 [==============================] - 270s 91ms/step - loss: 0.0111 - accuracy: 0.9962 - val_loss: 0.0731 - val_accuracy: 0.9776\n",
            "WARNING:tensorflow:Can save best model only with val_acc available, skipping.\n",
            "Epoch 4/10\n",
            "2969/2969 [==============================] - 269s 91ms/step - loss: 0.0065 - accuracy: 0.9981 - val_loss: 0.1184 - val_accuracy: 0.9757\n",
            "WARNING:tensorflow:Can save best model only with val_acc available, skipping.\n",
            "Epoch 5/10\n",
            "2969/2969 [==============================] - 269s 91ms/step - loss: 0.0055 - accuracy: 0.9984 - val_loss: 0.1483 - val_accuracy: 0.9707\n",
            "WARNING:tensorflow:Can save best model only with val_acc available, skipping.\n",
            "Epoch 00005: early stopping\n"
          ],
          "name": "stdout"
        },
        {
          "output_type": "execute_result",
          "data": {
            "text/plain": [
              "<tensorflow.python.keras.callbacks.History at 0x7fa7202a4748>"
            ]
          },
          "metadata": {
            "tags": []
          },
          "execution_count": 64
        }
      ]
    },
    {
      "cell_type": "code",
      "metadata": {
        "id": "bApdTyYIJRps"
      },
      "source": [
        "pre_pred = model.predict(train_padding)"
      ],
      "execution_count": null,
      "outputs": []
    },
    {
      "cell_type": "code",
      "metadata": {
        "colab": {
          "base_uri": "https://localhost:8080/"
        },
        "id": "kotZkVrSKh82",
        "outputId": "23499a74-cac7-4a09-dcfb-118bd389cd8b"
      },
      "source": [
        "pre_pred"
      ],
      "execution_count": null,
      "outputs": [
        {
          "output_type": "execute_result",
          "data": {
            "text/plain": [
              "numpy.ndarray"
            ]
          },
          "metadata": {
            "tags": []
          },
          "execution_count": 83
        }
      ]
    },
    {
      "cell_type": "code",
      "metadata": {
        "id": "O9QbwF2mJhcw"
      },
      "source": [
        "pre_pred_df = pd.DataFrame(data=pre_pred)"
      ],
      "execution_count": null,
      "outputs": []
    },
    {
      "cell_type": "code",
      "metadata": {
        "id": "sMHTH5FeLKR9"
      },
      "source": [
        "tmp = pre_pred_df[0].apply(lambda x: 0 if x < 0.5 else 1)"
      ],
      "execution_count": null,
      "outputs": []
    },
    {
      "cell_type": "code",
      "metadata": {
        "colab": {
          "base_uri": "https://localhost:8080/"
        },
        "id": "gHwoltEWMaV9",
        "outputId": "d3953d9b-2bff-46dc-ab86-28d6cee4a2b6"
      },
      "source": [
        "train_csv['info'].shape"
      ],
      "execution_count": null,
      "outputs": [
        {
          "output_type": "execute_result",
          "data": {
            "text/plain": [
              "(118745,)"
            ]
          },
          "metadata": {
            "tags": []
          },
          "execution_count": 105
        }
      ]
    },
    {
      "cell_type": "code",
      "metadata": {
        "colab": {
          "base_uri": "https://localhost:8080/"
        },
        "id": "6mSz5T9HKuJr",
        "outputId": "06b0eb0e-28ef-4a6e-84b8-b9d0f3ae0e66"
      },
      "source": [
        "((tmp == train_csv['info']).values.sum()) / len(train_csv)"
      ],
      "execution_count": null,
      "outputs": [
        {
          "output_type": "execute_result",
          "data": {
            "text/plain": [
              "0.9936334161438376"
            ]
          },
          "metadata": {
            "tags": []
          },
          "execution_count": 102
        }
      ]
    },
    {
      "cell_type": "code",
      "metadata": {
        "colab": {
          "base_uri": "https://localhost:8080/"
        },
        "id": "0lO7HucINnvV",
        "outputId": "360cd350-97a5-45f4-9a14-af542c91e38e"
      },
      "source": [
        "#test preprocessing\r\n",
        "stopwords = ['을', '를', '이', '가', '은', '는','에', '으로', '부터', 'null']\r\n",
        "token_list = []\r\n",
        "\r\n",
        "for text in tqdm(test_csv['content']):\r\n",
        "    text = re.sub('[^가-힣a-z]', ' ', text.lower())\r\n",
        "    token = okt.morphs(text, stem=True)\r\n",
        "    token = [word for word in token if word not in stopwords or type(word) != float]\r\n",
        "    token_list.append(token)"
      ],
      "execution_count": null,
      "outputs": [
        {
          "output_type": "stream",
          "text": [
            "100%|██████████| 142565/142565 [15:22<00:00, 154.56it/s]\n"
          ],
          "name": "stderr"
        }
      ]
    },
    {
      "cell_type": "code",
      "metadata": {
        "id": "GX1E7vp5OmF_"
      },
      "source": [
        "test_sequence = vectorizer.texts_to_sequences(token_list)"
      ],
      "execution_count": null,
      "outputs": []
    },
    {
      "cell_type": "code",
      "metadata": {
        "id": "2JGb_vIZO3Y4"
      },
      "source": [
        "test_padding = pad_sequences(test_sequence, maxlen=100)"
      ],
      "execution_count": null,
      "outputs": []
    },
    {
      "cell_type": "code",
      "metadata": {
        "id": "Vcru6FRWUMiF"
      },
      "source": [
        "pred = model.predict(test_padding)"
      ],
      "execution_count": null,
      "outputs": []
    },
    {
      "cell_type": "code",
      "metadata": {
        "id": "CjYmAo5QUhHV"
      },
      "source": [
        "reformed_pred = np.where(pred < 0.5, 0 ,1)"
      ],
      "execution_count": null,
      "outputs": []
    },
    {
      "cell_type": "code",
      "metadata": {
        "id": "2_9wkzK6U8mS"
      },
      "source": [
        "reformed_pred = pd.DataFrame(data=reformed_pred, columns=['info'])"
      ],
      "execution_count": null,
      "outputs": []
    },
    {
      "cell_type": "code",
      "metadata": {
        "colab": {
          "base_uri": "https://localhost:8080/"
        },
        "id": "cUCxDDigVJ6Z",
        "outputId": "bebabc9e-b68c-4606-fd8e-3ed0e20882cd"
      },
      "source": [
        "reformed_pred.shape, test_csv.shape"
      ],
      "execution_count": null,
      "outputs": [
        {
          "output_type": "execute_result",
          "data": {
            "text/plain": [
              "((142565, 1), (142565, 7))"
            ]
          },
          "metadata": {
            "tags": []
          },
          "execution_count": 127
        }
      ]
    },
    {
      "cell_type": "code",
      "metadata": {
        "id": "z4V7PobRVTuS"
      },
      "source": [
        "submission_conv1d = submission_csv.drop(['info'], axis=1)\r\n",
        "submission_conv1d = pd.concat([submission_conv1d, reformed_pred], axis=1)"
      ],
      "execution_count": null,
      "outputs": []
    },
    {
      "cell_type": "code",
      "metadata": {
        "colab": {
          "base_uri": "https://localhost:8080/",
          "height": 195
        },
        "id": "GZ-e2vfFVkkJ",
        "outputId": "b12e24aa-4037-44e9-ad7a-97a8d841ca64"
      },
      "source": [
        "submission_conv1d.head()"
      ],
      "execution_count": null,
      "outputs": [
        {
          "output_type": "execute_result",
          "data": {
            "text/html": [
              "<div>\n",
              "<style scoped>\n",
              "    .dataframe tbody tr th:only-of-type {\n",
              "        vertical-align: middle;\n",
              "    }\n",
              "\n",
              "    .dataframe tbody tr th {\n",
              "        vertical-align: top;\n",
              "    }\n",
              "\n",
              "    .dataframe thead th {\n",
              "        text-align: right;\n",
              "    }\n",
              "</style>\n",
              "<table border=\"1\" class=\"dataframe\">\n",
              "  <thead>\n",
              "    <tr style=\"text-align: right;\">\n",
              "      <th></th>\n",
              "      <th>id</th>\n",
              "      <th>info</th>\n",
              "    </tr>\n",
              "  </thead>\n",
              "  <tbody>\n",
              "    <tr>\n",
              "      <th>0</th>\n",
              "      <td>NEWS00237_1</td>\n",
              "      <td>0</td>\n",
              "    </tr>\n",
              "    <tr>\n",
              "      <th>1</th>\n",
              "      <td>NEWS00237_2</td>\n",
              "      <td>0</td>\n",
              "    </tr>\n",
              "    <tr>\n",
              "      <th>2</th>\n",
              "      <td>NEWS00237_3</td>\n",
              "      <td>0</td>\n",
              "    </tr>\n",
              "    <tr>\n",
              "      <th>3</th>\n",
              "      <td>NEWS00237_4</td>\n",
              "      <td>0</td>\n",
              "    </tr>\n",
              "    <tr>\n",
              "      <th>4</th>\n",
              "      <td>NEWS00237_5</td>\n",
              "      <td>0</td>\n",
              "    </tr>\n",
              "  </tbody>\n",
              "</table>\n",
              "</div>"
            ],
            "text/plain": [
              "            id  info\n",
              "0  NEWS00237_1     0\n",
              "1  NEWS00237_2     0\n",
              "2  NEWS00237_3     0\n",
              "3  NEWS00237_4     0\n",
              "4  NEWS00237_5     0"
            ]
          },
          "metadata": {
            "tags": []
          },
          "execution_count": 140
        }
      ]
    },
    {
      "cell_type": "code",
      "metadata": {
        "id": "bzCjHRpdWHqR"
      },
      "source": [
        "submission_conv1d.to_csv('submission_conv1d.csv', index=False)"
      ],
      "execution_count": null,
      "outputs": []
    },
    {
      "cell_type": "markdown",
      "metadata": {
        "id": "SceQUImfP0CS"
      },
      "source": [
        "#Dacon LSTM"
      ]
    },
    {
      "cell_type": "code",
      "metadata": {
        "id": "doS828y2_7cB"
      },
      "source": [
        "!pip install konlpy"
      ],
      "execution_count": null,
      "outputs": []
    },
    {
      "cell_type": "code",
      "metadata": {
        "id": "EA_r6xuyAp-Q"
      },
      "source": [
        "train = train_csv.copy()\r\n",
        "test = test_csv.copy()"
      ],
      "execution_count": null,
      "outputs": []
    },
    {
      "cell_type": "code",
      "metadata": {
        "id": "6W_BzgyCP5PW"
      },
      "source": [
        "#토큰화\r\n",
        "from konlpy.tag import Okt\r\n",
        "\r\n",
        "def text_preprocessing(text_list):\r\n",
        "    stopwords = ['을', '를', '이', '가', '은', '는', '에', 'null']\r\n",
        "    tokenizer = Okt()\r\n",
        "    token_list = []\r\n",
        "\r\n",
        "    for text in text_list:\r\n",
        "        txt = re.sub('[^가-힣a-z]', ' ', text.lower())\r\n",
        "        token = tokenizer.morphs(txt, stem = True)   #형태소분석\r\n",
        "        token = [t for t in token if t not in stopwords or type(t) != float]\r\n",
        "        token_list.append(token)\r\n",
        "\r\n",
        "    return token_list, tokenizer\r\n",
        "\r\n",
        "train['token'], okt = text_preprocessing(train['content'])"
      ],
      "execution_count": null,
      "outputs": []
    },
    {
      "cell_type": "code",
      "metadata": {
        "colab": {
          "base_uri": "https://localhost:8080/"
        },
        "id": "LunlWWq1AdJM",
        "outputId": "9995c7e0-3219-4c1f-c49f-e1781df371dc"
      },
      "source": [
        "print(train['token'].head())\r\n",
        "print(train_csv['content'].head())"
      ],
      "execution_count": null,
      "outputs": [
        {
          "output_type": "stream",
          "text": [
            "0           [이데일리, marketpoint, 현재, 코스닥, 기관, 억, 순, 매도]\n",
            "1    [실적, 기반, 저가, 에, 매집, 하다, 하다, 월, 급등, 유망, 주, top,...\n",
            "2          [하, 이스, 탁론, 선취, 수수료, 없다, 월, 최저, 금리, 상품, 출시]\n",
            "3         [종합, 경제, 정보, 미디어, 이데일리, 무단, 전, 재, 재, 배포, 금지]\n",
            "4                 [전국, 적, 인, 소비, 붐, 조성, 에, 기여, 하다, 예정]\n",
            "Name: token, dtype: object\n",
            "0    [이데일리 MARKETPOINT]15:32 현재 코스닥 기관 678억 순매도\n",
            "1         \"실적기반\" 저가에 매집해야 할 8월 급등유망주 TOP 5 전격공개\n",
            "2             하이스탁론, 선취수수료 없는 월 0.4% 최저금리 상품 출시\n",
            "3              종합 경제정보 미디어 이데일리 - 무단전재 & 재배포 금지\n",
            "4                          전국적인 소비 붐 조성에 기여할 예정\n",
            "Name: content, dtype: object\n"
          ],
          "name": "stdout"
        }
      ]
    },
    {
      "cell_type": "code",
      "metadata": {
        "colab": {
          "base_uri": "https://localhost:8080/"
        },
        "id": "myr-QYwtCMW8",
        "outputId": "86d8a7d5-add7-482b-9f12-47be44191f6e"
      },
      "source": [
        "from tensorflow.keras.preprocessing.text import Tokenizer\r\n",
        "from tensorflow.keras.preprocessing.sequence import pad_sequences\r\n",
        "\r\n",
        "tokenizer = Tokenizer()\r\n",
        "tokenizer.fit_on_texts(train['token'])\r\n",
        "print(tokenizer.word_index)"
      ],
      "execution_count": null,
      "outputs": [
        {
          "output_type": "stream",
          "text": [
            "{'하다': 1, '을': 2, '이': 3, '를': 4, '에': 5, '의': 6, '은': 7, '가': 8, '으로': 9, '는': 10, '있다': 11, '한': 12, '로': 13, '되다': 14, '년': 15, '이다': 16, '일': 17, '등': 18, '수': 19, '에서': 20, '종목': 21, '적': 22, '과': 23, '것': 24, '받다': 25, '도': 26, '인': 27, '들': 28, '한국': 29, '주': 30, '대': 31, '다': 32, '가능': 33, '코로나': 34, '월': 35, '와': 36, '하고': 37, '공개': 38, '전': 39, '이상': 40, '추천': 41, '내다': 42, '목표': 43, '투자': 44, '명': 45, '만': 46, '원': 47, '상한': 48, '돼다': 49, '주식': 50, '무료': 51, '거래': 52, '재': 53, '까지': 54, '정부': 55, '고': 56, '바이오': 57, '보다': 58, '대다': 59, '및': 60, '이용': 61, '금리': 62, '관련': 63, '테마': 64, '최저': 65, '부터': 66, '방': 67, '분': 68, '실적': 69, 'top': 70, '평가': 71, '않다': 72, '따르다': 73, '함께': 74, '기자': 75, '시': 76, '수익': 77, '안': 78, '탁론': 79, '경제': 80, '배': 81, '업계': 82, '저': 83, '기업': 84, '위': 85, '자': 86, '신용': 87, '밝히다': 88, '카톡': 89, '억원': 90, '만들다': 91, '말': 92, '주다': 93, '효과': 94, '중': 95, '급등': 96, '환': 97, '오늘': 98, '없다': 99, '위해': 100, '미수': 101, '혜주': 102, '정책': 103, '당장': 104, '줄': 105, '사업': 106, '지금': 107, 'tv': 108, '대장': 109, '급': 110, '소비자': 111, '매집': 112, '만원': 113, '스': 114, '성': 115, '돈': 116, '연결': 117, '다시': 118, '시대': 119, '핵심': 120, '지원': 121, '확인': 122, '젠': 123, '억': 124, '오다': 125, '인터넷': 126, '수익률': 127, '제': 128, '통해': 129, '재료': 130, '모집': 131, '라면': 132, '긴급': 133, '최종': 134, '늘다': 135, '책임': 136, '지역': 137, '개': 138, '정치': 139, '역대': 140, '레버리지': 141, 'click': 142, '대중': 143, '시장': 144, '량': 145, '아직도': 146, '똑똑하다': 147, '영웅': 148, '역사': 149, '받치다': 150, '소형차': 151, '박주': 152, '원도': 153, '끝': 154, '여기': 155, '지난': 156, '니': 157, '내일': 158, '이번': 159, '터지다': 160, '상': 161, '장': 162, '클릭': 163, 'nbsp': 164, '도전': 165, '쓸다': 166, '이라고': 167, '주식시장': 168, '대한': 169, '최근': 170, '사면': 171, '가도': 172, '인맥': 173, '금지': 174, '안집': 175, '조': 176, '지': 177, '가다': 178, '최대': 179, '미국': 180, '내': 181, '기사': 182, '에는': 183, '기준': 184, '현재': 185, '대비': 186, '서울': 187, '배포': 188, '날': 189, '무단': 190, '추가': 191, '개발': 192, '그': 193, '예상': 194, '달': 195, '올해': 196, '크다': 197, '대해': 198, '국내': 199, '연': 200, '주가': 201, '에게': 202, '정보': 203, '기': 204, '헤럴드경제': 205, '당': 206, '나': 207, '확산': 208, '계획': 209, '점': 210, '중국': 211, '제공': 212, '상반기': 213, '진행': 214, '총': 215, '이후': 216, '금융': 217, '순': 218, '기간': 219, '아니다': 220, '서': 221, '기술': 222, '상승': 223, '확': 224, '지난해': 225, '바로': 226, '상황': 227, '예정': 228, '대표': 229, '같다': 230, '진자': 231, '에도': 232, '수수료': 233, '서비스': 234, '기록': 235, '기관': 236, '하': 237, '높다': 238, '세': 239, '더': 240, '확대': 241, '경우': 242, '마스크': 243, '글로벌': 244, '산업': 245, '간': 246, '화': 247, '증가': 248, '증권': 249, '분석': 250, '뉴스': 251, '때': 252, '신종': 253, '씨': 254, '시간': 255, '종합': 256, '대상': 257, '분기': 258, 'ai': 259, '바이러스': 260, '나오다': 261, '운영': 262, '발생': 263, '해당': 264, '선': 265, '동': 266, '사': 267, '회': 268, '규모': 269, '신': 270, '경': 271, '상품': 272, '관리': 273, '보이다': 274, '가능하다': 275, '외국인': 276, '에서는': 277, '또': 278, '판매': 279, '매출': 280, '설명': 281, '관계자': 282, '개인': 283, '전망': 284, '세계': 285, '못': 286, '많다': 287, '가장': 288, '발표': 289, '공략': 290, '이익': 291, '업체': 292, '후': 293, '때문': 294, '전자': 295, '체험': 296, '집중': 297, '며': 298, '자금': 299, '하락': 300, '센터': 301, '기반': 302, '곳': 303, '이데일리': 304, '임': 305, '약': 306, '출시': 307, '오전': 308, '영업': 309, '주요': 310, '단': 311, '조사': 312, '결과': 313, '매수': 314, '형': 315, '고객': 316, '공': 317, '입장': 318, '모두': 319, '추진': 320, '대응': 321, '해외': 322, '참여': 323, '사회': 324, '이르다': 325, '천': 326, '갈다': 327, '소': 328, '달러': 329, '신청': 330, '구': 331, '차': 332, '가격': 333, '직전': 334, '내용': 335, '수준': 336, '일본': 337, '신문': 338, '다양하다': 339, '대통령': 340, '의원': 341, '활용': 342, '평균': 343, '우리': 344, '시작': 345, '권': 346, 'a': 347, '사태': 348, '시설': 349, '결정': 350, '국민': 351, '공급': 352, '번': 353, '오후': 354, '치료': 355, '온라인': 356, '방역': 357, '라며': 358, '사용': 359, '생산': 360, '밉다': 361, '감소': 362, '삼성': 363, '조치': 364, '제품': 365, '그룹': 366, '전문': 367, '임박': 368, '인하다': 369, '감염증': 370, '률': 371, '국가': 372, '문제': 373, '코로나바이러스': 374, '하나': 375, '사람': 376, '은행': 377, '아파트': 378, '가운데': 379, '최고': 380, '수요': 381, '포함': 382, '문': 383, '대책': 384, '율': 385, '계': 386, '없이': 387, '개선': 388, '비': 389, '통합': 390, '매': 391, '들다': 392, '검사': 393, '별': 394, '중이': 395, '영향': 396, '병원': 397, '활동': 398, '회장': 399, '특히': 400, '액': 401, '전체': 402, '주택': 403, '앞': 404, '확보': 405, '지속': 406, '회사': 407, '새롭다': 408, '시민': 409, '속': 410, '마련': 411, '유망': 412, '료': 413, '김': 414, '할인': 415, '가능성': 416, '버스': 417, '환자': 418, '전국': 419, '라고': 420, '두': 421, 'sk': 422, '적용': 423, '필요하다': 424, '피다': 425, '기회': 426, '경기': 427, '가구': 428, '의료': 429, '미디어': 430, '지급': 431, 'lg': 432, '이투데이': 433, '건': 434, '기존': 435, '위원회': 436, '개월': 437, '장주': 438, '한편': 439, '시스템': 440, '이유': 441, '백': 442, '대구': 443, '감염': 444, '데': 445, '수출': 446, '뒤': 447, '성장': 448, '나서다': 449, '다른': 450, '게': 451, '안전': 452, '인천': 453, '업종': 454, '지난달': 455, '신규': 456, '바라다': 457, '만에': 458, '면': 459, '이나': 460, '시키다': 461, '미래': 462, '모든': 463, '방안': 464, '여': 465, '격리': 466, '투자자': 467, '이며': 468, '건설': 469, '폭': 470, '협력': 471, '총선': 472, '나타나다': 473, '엔': 474, '정': 475, '에서도': 476, 'com': 477, '후속': 478, '교육': 479, '개별': 480, '장관': 481, '강조': 482, '적극': 483, '후보': 484, '또한': 485, '계약': 486, '팀': 487, '펀드': 488, '매도': 489, '환경': 490, '회의': 491, '지수': 492, '업무': 493, '현': 494, '법': 495, '아이': 496, '마지막': 497, '단지': 498, '삼': 499, '제목': 500, '우려': 501, '층': 502, '중심': 503, '매매': 504, '과정': 505, '일부': 506, '운': 507, '상태': 508, '이벤트': 509, '실시': 510, '위기': 511, '전략': 512, '비중': 513, '각각': 514, '강화': 515, '데이터': 516, '준비': 517, '모바일': 518, '서다': 519, '한다는': 520, '민주당': 521, '저작권': 522, 'hankyung': 523, '방식': 524, '오르다': 525, '진단': 526, '생활': 527, '직원': 528, '혁신': 529, '무제한': 530, '저가': 531, '연구원': 532, '그렇다': 533, '사실': 534, '현장': 535, '규제': 536, '공시': 537, '영': 538, '관심': 539, '풀이': 540, '아시아': 541, '알려지다': 542, '빠르다': 543, '초': 544, '분야': 545, '구축': 546, '사라': 547, '넘다': 548, '이라는': 549, '현지': 550, '공동': 551, '라는': 552, '하지만': 553, '대출': 554, '주민': 555, '닫히다': 556, '늘어나다': 557, '보험': 558, '포인트': 559, '방문': 560, '주의': 561, '보기': 562, '주목': 563, '전격': 564, '즐거움': 565, '자산': 566, '각': 567, '나가다': 568, '선정': 569, '선취': 570, '만큼': 571, '의견': 572, '맞다': 573, '양': 574, '이란': 575, '장세': 576, '용': 577, '찾다': 578, '전환': 579, '노력': 580, '이스': 581, '경영': 582, '매장': 583, '증권사': 584, '관': 585, '피해': 586, '어렵다': 587, '디지털': 588, 'c': 589, '앞서': 590, '좋다': 591, '첫': 592, '부산': 593, '구매': 594, '안정': 595, '유지': 596, '최소': 597, '입': 598, '검찰': 599, '취급': 600, 'g': 601, '재난': 602, '최초': 603, '학교': 604, '구성': 605, '다음': 606, '전문가': 607, '청년': 608, '동향': 609, '직접': 610, '테마주': 611, '행사': 612, '이름': 613, '자료': 614, '중앙': 615, '계속': 616, '동안': 617, '부담': 618, '프리미엄': 619, '거리': 620, '보유': 621, '이렇다': 622, '전일': 623, '연속': 624, '매일': 625, '정도': 626, '뿐': 627, '장기': 628, '처음': 629, '소재': 630, '이슈': 631, '향후': 632, '입국': 633, '국회': 634, '하루': 635, '제한': 636, '유럽': 637, '소름': 638, '공간': 639, '상장': 640, '집': 641, '갈아타다': 642, '오': 643, '판단': 644, '조정': 645, '원금': 646, '생각': 647, '군': 648, '부동산': 649, 'p': 650, '제도': 651, '강화하다': 652, '예담': 653, '작성': 654, '바': 655, '력': 656, '공장': 657, '활성화': 658, 'best': 659, '알다': 660, '접수': 661, '자신': 662, '학생': 663, '온': 664, '브랜드': 665, '시행': 666, '물': 667, '코스피': 668, '검토': 669, '문화': 670, '플랫폼': 671, '두다': 672, '방침': 673, '경찰': 674, '선거': 675, '역시': 676, '기대': 677, '식': 678, '단계': 679, '전날': 680, '당국': 681, '볼': 682, '확진': 683, '보이': 684, '코스닥': 685, '모습': 686, '전용': 687, '체결': 688, '롯데': 689, '이뤄지다': 690, '가치': 691, '모델': 692, '손실': 693, '측': 694, 'fda': 695, '열리다': 696, '공사': 697, '선택': 698, '국': 699, '금액': 700, '국제': 701, '회복': 702, '본부': 703, '집계': 704, '북한': 705, '개요': 706, '다만': 707, '기능': 708, '프로그램': 709, '지정': 710, '손': 711, '상위': 712, '탁': 713, '발전': 714, '실시간': 715, '장비': 716, '지다': 717, '제주': 718, '추다': 719, '게임': 720, '조원': 721, '반영': 722, '변화': 723, '알': 724, '단타': 725, '여성': 726, '처럼': 727, '마감': 728, '그리고': 729, '당시': 730, '허가': 731, '영상': 732, '석': 733, '나타내다': 734, '예': 735, '교수': 736, '이어지다': 737, '조성': 738, '반사': 739, '해주다': 740, '지적': 741, '자체': 742, '홈페이지': 743, '낮다': 744, '자동차': 745, '제출': 746, '비롯': 747, '우선': 748, '자다': 749, '사주': 750, '서울시': 751, '리스트': 752, '선보이다': 753, '본격': 754, '문의': 755, '덧붙이다': 756, '올리다': 757, '비율': 758, '어떻다': 759, '차트': 760, '크게': 761, '개최': 762, '어려움': 763, '황': 764, '비교': 765, '논의': 766, '모': 767, '이하': 768, '속보': 769, '협상': 770, '중단': 771, '사장': 772, '극복': 773, '경북': 774, '울': 775, '새': 776, '차량': 777, '관계': 778, '파격': 779, '여부': 780, '도입': 781, '해보다': 782, '고려': 783, '일정': 784, '대학': 785, '혐의': 786, '소득': 787, '포스': 788, '또는': 789, '인사': 790, '겪다': 791, '더욱': 792, '투표': 793, '리더': 794, '주장': 795, '실제': 796, '위원장': 797, '협회': 798, '트럼프': 799, '요': 800, '제시': 801, '대박': 802, '반': 803, '요구': 804, '체계': 805, '청약': 806, '단체': 807, '보고': 808, '되어다': 809, '해결': 810, '특별': 811, '도시': 812, '반도체': 813, '에선': 814, '요청': 815, '민간': 816, '비용': 817, '심리': 818, '가지': 819, '중인': 820, '적중': 821, '부문': 822, '사건': 823, '떨어지다': 824, '채권': 825, '호텔': 826, '상승세': 827, '남': 828, '사례': 829, '발행': 830, '셀트리온': 831, '물론': 832, '방송': 833, '트렌드': 834, '커지다': 835, '오른': 836, '이미': 837, '연구': 838, '비다': 839, '완화': 840, '법인': 841, '지능': 842, '합의': 843, '부': 844, '힘': 845, '살펴보다': 846, '설치': 847, '높이다': 848, '차지': 849, '통과': 850, '내리다': 851, 'b': 852, '외': 853, '자가': 854, '의하다': 855, '주주': 856, '카드': 857, '어': 858, '명의': 859, '단기': 860, '부품': 861, '일반': 862, '화하다': 863, '통한': 864, '최': 865, '많이': 866, '신고': 867, '인기': 868, 'all': 869, '정통': 870, '소비': 871, '고용': 872, 'the': 873, '더불다': 874, '에너지': 875, '시험': 876, '건강': 877, '재물': 878, '분양': 879, '수사': 880, '아직': 881, '의미': 882, '표': 883, '수입': 884, '인공': 885, 'rights': 886, '박': 887, '재정': 888, '지름길': 889, '쉬다': 890, '뉴스통신사': 891, 'newspim': 892, 'copyright': 893, 'reserved': 894, '역할': 895, '진': 896, '보수': 897, '콘텐츠': 898, '공공': 899, '변경': 900, '증시': 901, '완료': 902, '총리': 903, '파악': 904, '유가': 905, '끝내다': 906, '심사': 907, '경쟁': 908, '해오다': 909, '협의': 910, '중소기업': 911, '결제': 912, '두산': 913, '사랑': 914, '판정': 915, '그러나': 916, '피해자': 917, '펀드매니저': 918, '이고': 919, '사진': 920, '전달': 921, '절차': 922, '실': 923, '거치다': 924, '천원': 925, '호': 926, '열': 927, '점검': 928, '잔': 929, '보호': 930, '혜택': 931, '구조': 932, '로보': 933, '사항': 934, '강세': 935, '아': 936, '부회장': 937, '하반기': 938, '방지': 939, '처': 940, '씩': 941, '처리': 942, '찾아오다': 943, '얻다': 944, '인력': 945, '돌파': 946, '놓치다': 947, '자리': 948, '광주': 949, '이라': 950, '매체': 951, '단돈': 952, '위험': 953, '제작': 954, '여행': 955, '가족': 956, '라': 957, '필요': 958, '밖에': 959, '휴대폰': 960, 'kb': 961, '별로': 962, '보내다': 963, '열다': 964, '접촉': 965, '협약': 966, '묻다': 967, '농사': 968, '감': 969, '해': 970, '회원': 971, '홍보': 972, '미치다': 973, '예방': 974, '거래량': 975, '취소': 976, '으로는': 977, '두기': 978, '감사': 979, '담다': 980, '현대': 981, '대형': 982, '식품': 983, '작년': 984, '카카오': 985, '인수': 986, '비상': 987, '변동': 988, '결국': 989, '제약': 990, '반등': 991, '평생': 992, '방법': 993, '신천지': 994, '씽크풀스': 995, '들어가다': 996, '타': 997, '성과': 998, '관광': 999, '경쟁력': 1000, '가량': 1001, '수도권': 1002, '사다': 1003, '테크': 1004, '본부장': 1005, '색다르다': 1006, '사업자': 1007, '속도': 1008, '경기도': 1009, '위원': 1010, '측은': 1011, '연기': 1012, '알고리즘': 1013, '보고서': 1014, '과의': 1015, '동기': 1016, '대부분': 1017, '거주': 1018, '침체': 1019, '등록': 1020, '유통': 1021, 'kt': 1022, '이전': 1023, '꿈': 1024, '운동': 1025, '전송': 1026, '자율': 1027, '역량': 1028, '일간': 1029, '지방': 1030, '공식': 1031, '살다': 1032, '선임': 1033, '금': 1034, '가입': 1035, '준': 1036, '보': 1037, '차이': 1038, '동생': 1039, '기부': 1040, '중요하다': 1041, 'it': 1042, '취약': 1043, '기여': 1044, '마음': 1045, '금융투자': 1046, '홍콩': 1047, '경험': 1048, '싶다': 1049, '누적': 1050, '만주': 1051, '작업': 1052, '배열': 1053, '공인': 1054, '기획': 1055, '거나': 1056, '위치': 1057, '뜻': 1058, '부분': 1059, '공유': 1060, '보도': 1061, '수업': 1062, '앱': 1063, 'm': 1064, '반면': 1065, '지표': 1066, '연장': 1067, '기대하다': 1068, '동시': 1069, 's': 1070, '근무': 1071, '공연': 1072, '갖추다': 1073, '아우르다': 1074, '비대': 1075, '정상': 1076, '주체': 1077, '물량': 1078, '모으다': 1079, '함': 1080, '드링킷': 1081, '항공': 1082, '창업': 1083, '투입': 1084, '위안부': 1085, '보건': 1086, '드리다': 1087, '제기': 1088, '제외': 1089, '유': 1090, '이사': 1091, '흐름': 1092, '회전': 1093, '종': 1094, '확정': 1095, '경로': 1096, '현대차': 1097, '보여주다': 1098, '적자': 1099, '참석': 1100, '씽': 1101, '급증': 1102, '시기': 1103, '키트': 1104, '글': 1105, '망': 1106, '통신': 1107, '도움': 1108, '노리다': 1109, '께': 1110, '차원': 1111, '여파': 1112, '수도': 1113, '스마트폰': 1114, '휴': 1115, '비판': 1116, '대표이사': 1117, '윤': 1118, '에스': 1119, '희망': 1120, '교회': 1121, '디자인': 1122, '후회': 1123, '예술': 1124, '창': 1125, '쇼핑': 1126, '재무': 1127, '현금': 1128, '학원': 1129, '결코': 1130, '시반': 1131, '진료': 1132, '지키다': 1133, '인근': 1134, '번째': 1135, '감염병': 1136, '달성': 1137, '네이버': 1138, '재개': 1139, '한발': 1140, '내놓다': 1141, '으로도': 1142, '먼저': 1143, '갖다': 1144, '역': 1145, '효율': 1146, '여러': 1147, '충격': 1148, '사전': 1149, '스마트': 1150, '배신': 1151, '시도': 1152, '언급': 1153, '막다': 1154, '논란': 1155, '대규모': 1156, '와의': 1157, '강남': 1158, '채': 1159, '각종': 1160, '현실': 1161, '장이': 1162, '발': 1163, '카페': 1164, '채널': 1165, '설립': 1166, '위반': 1167, '포착': 1168, '높아지다': 1169, '연합': 1170, '수가': 1171, '지구': 1172, '늘리다': 1173, '솔루션': 1174, '진출': 1175, '매입': 1176, '캠페인': 1177, '소식': 1178, '면서': 1179, '향': 1180, '즐기다': 1181, '악화': 1182, '상담': 1183, '일이': 1184, '로부터': 1185, '의사': 1186, '일별': 1187, '사이': 1188, '수원': 1189, 'd': 1190, '제조': 1191, '히': 1192, '특정': 1193, '언론사': 1194, '눈': 1195, '남다': 1196, '방향': 1197, '순이익': 1198, '사고': 1199, '매각': 1200, '따블': 1201, '면적': 1202, '상세': 1203, '파다': 1204, '선물': 1205, '원하다': 1206, '인증': 1207, '프로젝트': 1208, '대로': 1209, '수급': 1210, '건물': 1211, '버핏': 1212, '대화': 1213, '강하다': 1214, '담당': 1215, '반응': 1216, '예산': 1217, '대신': 1218, '이루다': 1219, '최선': 1220, '계좌': 1221, '집값': 1222, '증상': 1223, '가동': 1224, '키우다': 1225, '연구소': 1226, '계층': 1227, '울산': 1228, '유입': 1229, '조직': 1230, '발언': 1231, '조달': 1232, '의무': 1233, '소개': 1234, '승인': 1235, '페이스북': 1236, '아동': 1237, '이동': 1238, '스포츠': 1239, '사망': 1240, '잡다': 1241, '차단': 1242, '법안': 1243, '쓰다': 1244, '목적': 1245, '집단': 1246, '외부': 1247, '더하다': 1248, '인하': 1249, '전반': 1250, '구체': 1251, '업': 1252, '사망자': 1253, '식수': 1254, '분위기': 1255, '시각': 1256, '진입': 1257, '째': 1258, '한미': 1259, '설계': 1260, '세대': 1261, '물류': 1262, '본': 1263, '동참': 1264, 'k': 1265, '과거': 1266, '주행': 1267, '같이': 1268, '그동안': 1269, '한진': 1270, '운용': 1271, '임원': 1272, '마케팅': 1273, '돋다': 1274, '백화점': 1275, '대감': 1276, '구역': 1277, '경고': 1278, '워렌': 1279, '로서': 1280, '등급': 1281, '차례': 1282, '형태': 1283, '급락': 1284, '누구': 1285, '앞두다': 1286, '환율': 1287, '특징': 1288, '코리아': 1289, '여전하다': 1290, '급감': 1291, '공모': 1292, '가변': 1293, '연락': 1294, '신속하다': 1295, '우리나라': 1296, '취득': 1297, '치': 1298, '불다': 1299, '유동성': 1300, '제안': 1301, '이자': 1302, '인도': 1303, '책': 1304, '한화': 1305, '작가': 1306, '마다': 1307, '불': 1308, '배터리': 1309, '별도': 1310, '주변': 1311, '대전': 1312, '무역': 1313, '통상': 1314, '구입': 1315, '예측': 1316, '맡다': 1317, '맞추다': 1318, '교통': 1319, '대한민국': 1320, '독일': 1321, '이미지': 1322, '청와대': 1323, '종가': 1324, 'ceo': 1325, '유예': 1326, '이끌다': 1327, '국면': 1328, '그래프': 1329, '규정': 1330, '일자리': 1331, '심의': 1332, 't': 1333, '생': 1334, '과제': 1335, '즈': 1336, '복지': 1337, '난': 1338, '소유': 1339, '내년': 1340, '순위': 1341, '줄다': 1342, '산': 1343, '무엇': 1344, '거래소': 1345, '리': 1346, '주간': 1347, '사상': 1348, '원장': 1349, '강': 1350, '전세계': 1351, '셈': 1352, '당일': 1353, '적다': 1354, '한국인': 1355, '선언': 1356, '공천': 1357, '부부': 1358, 'cj': 1359, '반대': 1360, '상환': 1361, '대폭': 1362, '수행': 1363, '일상': 1364, '가지다': 1365, '인식': 1366, '달라': 1367, '대회': 1368, '핀': 1369, '토정비결': 1370, '기본': 1371, '통화': 1372, '어느': 1373, '채용': 1374, '재판': 1375, '세우다': 1376, '지점': 1377, '당부': 1378, '매우': 1379, '백신': 1380, '문재인': 1381, '추세': 1382, '클럽': 1383, '느끼다': 1384, '심각하다': 1385, '할머니': 1386, '극': 1387, '시점': 1388, '영국': 1389, '능력': 1390, '취업': 1391, '들이다': 1392, '부사': 1393, '등교': 1394, '줄어들다': 1395, '길': 1396, '서도': 1397, '패키지': 1398, '만나다': 1399, '배치': 1400, '상공': 1401, '시티': 1402, '전시': 1403, '출발': 1404, '단위': 1405, '지침': 1406, '발견': 1407, '걸리다': 1408, '양성': 1409, '인프라': 1410, '기금': 1411, '바탕': 1412, '여명': 1413, '근로자': 1414, '정확도': 1415, '심': 1416, '경남': 1417, '고가': 1418, '이제': 1419, '감다': 1420, '긍정': 1421, '화상': 1422, '주문': 1423, '리츠': 1424, '주차장': 1425, '치다': 1426, '개정': 1427, '이같이': 1428, '나누다': 1429, '디스플레이': 1430, '메': 1431, '생기다': 1432, 'e': 1433, '편의': 1434, '항': 1435, '라임': 1436, '감산': 1437, '인정': 1438, '모르다': 1439, '나다': 1440, '용량': 1441, '보증': 1442, '임대': 1443, '빠지다': 1444, '특허': 1445, '네': 1446, '추정': 1447, '중기': 1448, '화학': 1449, '줄이다': 1450, '나라': 1451, '오픈': 1452, '소상': 1453, '대량': 1454, '공원': 1455, '이내': 1456, 'sns': 1457, '마치다': 1458, '전기': 1459, '작': 1460, '반드시': 1461, '건축': 1462, '먹다': 1463, '인지': 1464, '생명': 1465, '일보': 1466, '완성': 1467, '잠정': 1468, '용인': 1469, '감안': 1470, '내부': 1471, '도로': 1472, '성공': 1473, '타다': 1474, '폭발': 1475, '행정': 1476, 'nh': 1477, '세다': 1478, '출마': 1479, '훈련': 1480, '개정안': 1481, '근': 1482, '목소리': 1483, '영화': 1484, '의혹': 1485, '납부': 1486, '소통': 1487, '주로': 1488, '말다': 1489, '성공하다': 1490, '청장': 1491, '즉시': 1492, '선착순': 1493, '해소': 1494, '입다': 1495, '보안': 1496, '이러하다': 1497, '요인': 1498, '도르다': 1499, '신설': 1500, '충분하다': 1501, 'pbr': 1502, '전해지다': 1503, '배당': 1504, '의장': 1505, '기본소득': 1506, '보상': 1507, '텍': 1508, '몰다': 1509, '필수': 1510, '단독': 1511, '대변인': 1512, '주년': 1513, '출신': 1514, '착용': 1515, '음성': 1516, '수량': 1517, '기도': 1518, '놓다': 1519, '위축': 1520, 'per': 1521, '인상': 1522, '담기다': 1523, '낮추다': 1524, '결합': 1525, '러시아': 1526, '배럴': 1527, '무': 1528, '대만': 1529, '편': 1530, '질병': 1531, '다르다': 1532, '사기': 1533, '언론': 1534, '음': 1535, '주거': 1536, '아베': 1537, '전기차': 1538, '차다': 1539, '축소': 1540, '이던': 1541, '부장': 1542, '바뀌다': 1543, '마트': 1544, '고민': 1545, '상대': 1546, '지지': 1547, '중공업': 1548, '커피': 1549, '차기': 1550, '에서의': 1551, '오프라인': 1552, '홍': 1553, '표현': 1554, '강제': 1555, '가깝다': 1556, '기자회견': 1557, '의지': 1558, '교육부': 1559, '타격': 1560, '아래': 1561, '지자체': 1562, '부족하다': 1563, 'q': 1564, '유튜브': 1565, '조건': 1566, '작품': 1567, '남북': 1568, '조기': 1569, '로는': 1570, '행동': 1571, '세종': 1572, '피': 1573, '세금': 1574, '발굴': 1575, '꾸준하다': 1576, '캐나다': 1577, '일대': 1578, '답': 1579, '건의': 1580, '클라우드': 1581, '암': 1582, '자회사': 1583, '터': 1584, '성장하다': 1585, '자기': 1586, '듯': 1587, '부정': 1588, '철': 1589, '정당': 1590, '품목': 1591, '스케': 1592, '제대로': 1593, '인데': 1594, '입원': 1595, '보건소': 1596, '미세먼지': 1597, '강력하다': 1598, '작다': 1599, '하향': 1600, '직': 1601, '통계': 1602, '원유': 1603, '코': 1604, '모니터링': 1605, '박사': 1606, '집행': 1607, '높이': 1608, '불가피하다': 1609, '걸치다': 1610, '상당': 1611, '상생': 1612, '공무원': 1613, '헬': 1614, '평화': 1615, '입찰': 1616, '몰리다': 1617, '복합': 1618, '갈등': 1619, '중소': 1620, '설비': 1621, '파트너': 1622, '이야기': 1623, 'jp': 1624, '현상': 1625, '으로부터': 1626, '금감원': 1627, '개다': 1628, '배송': 1629, '근거': 1630, '질문': 1631, '넘어서다': 1632, '이행': 1633, '행위': 1634, '솔': 1635, '가맹': 1636, '정상화': 1637, 'fx': 1638, '사의': 1639, '구간': 1640, '내다보다': 1641, '맞춤': 1642, '셀': 1643, '마무리': 1644, '베트남': 1645, '모건': 1646, 'vs': 1647, '이사회': 1648, '의심': 1649, '인권': 1650, '소속': 1651, '범위': 1652, '국내외': 1653, '살': 1654, '마을': 1655, '착취': 1656, '음식': 1657, '연간': 1658, '학습': 1659, '공격': 1660, '달리': 1661, '들어오다': 1662, '도주': 1663, '해석': 1664, '노조': 1665, '도심': 1666, '원내대표': 1667, '친환경': 1668, '당초': 1669, '문자': 1670, '거': 1671, '신세계': 1672, '법원': 1673, '펼치다': 1674, '이용자': 1675, '해도': 1676, '사외이사': 1677, '불구': 1678, '앨범': 1679, '주차': 1680, '해제': 1681, '에이치엘비': 1682, '의약품': 1683, '주력': 1684, '응답': 1685, '다수': 1686, '플러스': 1687, '차질': 1688, '외교': 1689, '자원': 1690, '차관': 1691, '물질': 1692, '노동자': 1693, '과도': 1694, '가르다': 1695, '법률': 1696, '월간': 1697, '확장': 1698, '그러면': 1699, '가정': 1700, '상향': 1701, '인가': 1702, 'of': 1703, '무대': 1704, '총장': 1705, '주도': 1706, '대기업': 1707, '참가': 1708, '기적': 1709, '자산운용': 1710, '외교부': 1711, '자본': 1712, '처벌': 1713, '총괄': 1714, '협조': 1715, '구속': 1716, '수주': 1717, '이지만': 1718, '개국': 1719, '동의': 1720, '안내': 1721, '자니윤': 1722, '통': 1723, '치르다': 1724, '교육청': 1725, '법무부': 1726, '공매도': 1727, '바꾸다': 1728, '티': 1729, '카메라': 1730, '차별': 1731, '기다리다': 1732, '공정': 1733, '보장': 1734, '칼': 1735, '안전하다': 1736, '너무': 1737, '향상': 1738, '선도': 1739, '종료': 1740, '멈추다': 1741, '개혁': 1742, '예고': 1743, '금융위기': 1744, '호소': 1745, '부산시': 1746, '메시지': 1747, '실질': 1748, '유일하다': 1749, '형성': 1750, '전쟁': 1751, '매년': 1752, '체제': 1753, '빅데이터': 1754, '그치다': 1755, '메다': 1756, '강의': 1757, '그간': 1758, '움직임': 1759, '나머지': 1760, '전력': 1761, '시청': 1762, '원칙': 1763, '프랑스': 1764, '감정': 1765, '늘': 1766, '임시': 1767, '앤': 1768, '이해': 1769, '출연': 1770, '계기': 1771, '지인': 1772, '자동': 1773, '스타트업': 1774, '전세': 1775, '뉴딜': 1776, '자유': 1777, '부터는': 1778, '매물': 1779, '여당': 1780, '초대형': 1781, '절반': 1782, '질환': 1783, '부지': 1784, '부족': 1785, '정권': 1786, '협업': 1787, '실현': 1788, '야': 1789, '착수': 1790, '끌다': 1791, '가속': 1792, '최악': 1793, '카': 1794, '정비': 1795, '제로': 1796, '범죄': 1797, '부자': 1798, '병상': 1799, '추경': 1800, '피의자': 1801, '연합뉴스': 1802, '상당하다': 1803, '금은': 1804, '배정': 1805, '매력': 1806, '광명': 1807, '지만': 1808, '돌리다': 1809, '범': 1810, '위로': 1811, '면접': 1812, '잇따르다': 1813, '임대료': 1814, '끝나다': 1815, '운전': 1816, '인구': 1817, '최신': 1818, '면제': 1819, '본인': 1820, '벌어지다': 1821, '마켓': 1822, '맺다': 1823, '개설': 1824, '수원시': 1825, '전남': 1826, '오히려': 1827, '정확하다': 1828, '봇': 1829, '전면': 1830, '신라': 1831, '진정': 1832, '밤': 1833, '얼굴': 1834, '가전': 1835, '재택근무': 1836, '회사채': 1837, '선제': 1838, '부여': 1839, '대체': 1840, 'vip': 1841, '승률': 1842, '류': 1843, '감독': 1844, '각국': 1845, '뉴욕': 1846, '드러나다': 1847, '광명시': 1848, '조선': 1849, '실천': 1850, '블록': 1851, '넘기다': 1852, '발급': 1853, '자제': 1854, '다소': 1855, '헬기': 1856, '신도시': 1857, '시리즈': 1858, '화재': 1859, '대상자': 1860, '초기': 1861, '부채': 1862, '소송': 1863, '현안': 1864, '동대문': 1865, '봉쇄': 1866, '유치': 1867, '택시': 1868, '소방': 1869, '기념': 1870, '바로가기': 1871, '탓': 1872, '공단': 1873, '국회의원': 1874, '남성': 1875, '가수': 1876, '촬영': 1877, '강원': 1878, '이탈리아': 1879, '영역': 1880, '이마트': 1881, '천안': 1882, 'ars': 1883, '점포': 1884, '신뢰': 1885, '코스': 1886, '수립': 1887, '설정': 1888, '개념': 1889, '기아차': 1890, '어리다': 1891, '처분': 1892, '여론조사': 1893, '드라마': 1894, '시즌': 1895, '민': 1896, '에게는': 1897, '트': 1898, '인재': 1899, '통제': 1900, '알리다': 1901, '그린': 1902, '정의': 1903, '데뷔': 1904, '조세': 1905, '이외': 1906, '자세하다': 1907, '팬': 1908, '대리': 1909, '정기': 1910, '품질': 1911, '해달라다': 1912, '관측': 1913, '케이': 1914, '진흥': 1915, '동선': 1916, '버리다': 1917, '센서': 1918, '특성': 1919, '당선': 1920, '키로': 1921, '출입': 1922, '산불': 1923, '미래에셋': 1924, '에이': 1925, '챙기다': 1926, '대한항공': 1927, '청구': 1928, '일로': 1929, '수치': 1930, '사들이다': 1931, '광고': 1932, '분쟁': 1933, '에만': 1934, '레이': 1935, '미군': 1936, '상품권': 1937, '필터': 1938, '결혼': 1939, 'gs': 1940, '라인': 1941, '전화': 1942, 'pc': 1943, '금융시장': 1944, '성적': 1945, '보통': 1946, '경계': 1947, '탑재': 1948, '부과': 1949, '임금': 1950, '기다': 1951, '인터뷰': 1952, '자연': 1953, '기초': 1954, '어린이': 1955, 'hts': 1956, 'n': 1957, '융합': 1958, '전형': 1959, '등장': 1960, '노선': 1961, '충북': 1962, '지사': 1963, '변동성': 1964, '거의': 1965, '케어': 1966, '신제품': 1967, '과학기술': 1968, '북미': 1969, '화제': 1970, '넣다': 1971, '사무소': 1972, '격': 1973, '고위': 1974, '철저하다': 1975, '프로': 1976, '대기': 1977, '정밀': 1978, '급여': 1979, '네트워크': 1980, '면역': 1981, '체인': 1982, '목': 1983, '동기간': 1984, '션': 1985, '벌다': 1986, '빛': 1987, '소독': 1988, '업자': 1989, '스타': 1990, '부금': 1991, '지현우': 1992, '만의': 1993, '공항': 1994, '삶': 1995, '풍': 1996, '낼': 1997, '원인': 1998, '청소년': 1999, '대가': 2000, '과학': 2001, '정신': 2002, 'in': 2003, '절감': 2004, '뜨다': 2005, '의회': 2006, '설': 2007, '여개': 2008, '갤럭시': 2009, '미니': 2010, '행': 2011, '물품': 2012, '비즈니스': 2013, '휴업': 2014, '고통': 2015, '농협': 2016, '아마존': 2017, '히스토리': 2018, '이평': 2019, '파크': 2020, '편리하다': 2021, '기타': 2022, '음료': 2023, '선고': 2024, '이기': 2025, '특수': 2026, '힘드다': 2027, '흑자': 2028, '현황': 2029, 'to': 2030, '코오롱': 2031, '초등학교': 2032, '언택트': 2033, '촉진': 2034, '세트': 2035, '성능': 2036, '우수': 2037, '점수': 2038, '미만': 2039, '한도': 2040, '수술': 2041, '지상': 2042, '깊다': 2043, '보다는': 2044, '만이': 2045, '곧': 2046, '비슷하다': 2047, '박람회': 2048, '한계': 2049, '페이': 2050, '진화': 2051, 'x': 2052, '간담': 2053, '일시': 2054, '태양광': 2055, '연말': 2056, '요건': 2057, '시가총액': 2058, '조금': 2059, '배달': 2060, '일제': 2061, '직후': 2062, '유출': 2063, '거두다': 2064, '서류': 2065, '성명': 2066, '호주': 2067, '평': 2068, '커뮤니티': 2069, '교체': 2070, '혼': 2071, '관광객': 2072, '디': 2073, '순환': 2074, '초과': 2075, '주도하다': 2076, '전담': 2077, '어디': 2078, '중고': 2079, '기소': 2080, '모빌리티': 2081, '월세': 2082, '면세점': 2083, '분들': 2084, '방위': 2085, '갑': 2086, '베다': 2087, '모이다': 2088, '옮기다': 2089, '달다': 2090, '어제': 2091, '지하': 2092, '불과하다': 2093, '출범': 2094, '세포': 2095, '곡': 2096, '최대한': 2097, '여의도': 2098, '공적': 2099, '청사': 2100, '어린이집': 2101, '당하다': 2102, '백악관': 2103, '호가': 2104, '취지': 2105, '연출': 2106, '담보': 2107, '입법': 2108, '부양책': 2109, '한번': 2110, '기기': 2111, '인원': 2112, '공포': 2113, '등락': 2114, '주주총회': 2115, '대면': 2116, '질': 2117, '작용': 2118, '마': 2119, '장소': 2120, '랩': 2121, '출석': 2122, '상무': 2123, '법적': 2124, '소형': 2125, '재단': 2126, '학년': 2127, '세력': 2128, '예약': 2129, '감사하다': 2130, '객실': 2131, '판': 2132, '검색': 2133, '재건축': 2134, '꼽히다': 2135, '채다': 2136, '걸': 2137, '국토부': 2138, '제재': 2139, '여러분': 2140, '중동': 2141, '상호': 2142, '분류': 2143, '당선인': 2144, '안경': 2145, '리조트': 2146, '상업': 2147, '존재': 2148, '서비스업': 2149, '미리': 2150, '리포트': 2151, '브리핑': 2152, '들어서다': 2153, '불리다': 2154, '값': 2155, '멕시코': 2156, '국립': 2157, '재고': 2158, '양국': 2159, '잘': 2160, '자격': 2161, '도착': 2162, '신용등급': 2163, '개장': 2164, '월드': 2165, '전원': 2166, '건강하다': 2167, '부르다': 2168, '배우': 2169, '걸다': 2170, '약국': 2171, '친': 2172, '놀라다': 2173, '아버지': 2174, '돌아오다': 2175, '자발': 2176, '기온': 2177, '실내': 2178, '기업인': 2179, '리스크': 2180, '불확실': 2181, '우': 2182, '빚': 2183, '안팎': 2184, '가까이': 2185, '서로': 2186, '까지는': 2187, '구조조정': 2188, '마이너스': 2189, '자녀': 2190, '실장': 2191, '전개': 2192, '재산': 2193, '역학': 2194, '마진': 2195, '선수': 2196, '감시': 2197, '준공': 2198, '나눔': 2199, '유치원': 2200, '도보': 2201, '대본': 2202, 'www': 2203, '편의점': 2204, '지출': 2205, '뛰다': 2206, '상임': 2207, '개사': 2208, '애플': 2209, '불안': 2210, '방탄소년단': 2211, '의류': 2212, '권고': 2213, '구글': 2214, '사용자': 2215, '허다': 2216, '한반도': 2217, '이대로': 2218, '유명': 2219, '지하철': 2220, '과장': 2221, '파견': 2222, '육성': 2223, '지도': 2224, '컨설팅': 2225, '검': 2226, '거론': 2227, '끄다': 2228, '이송': 2229, '직무': 2230, '지역별': 2231, '국산': 2232, '받아들이다': 2233, '안다': 2234, 'els': 2235, '호선': 2236, '씨젠': 2237, '투기': 2238, '정의당': 2239, '정말': 2240, '주말': 2241, 'ict': 2242, '이틀': 2243, '대처': 2244, '얼마나': 2245, '배출': 2246, '약속': 2247, '동원': 2248, '폐쇄': 2249, '뇌': 2250, '지주': 2251, '패션': 2252, '선박': 2253, '둘러싸다': 2254, '커플': 2255, '올림픽': 2256, '여건': 2257, '힘들다': 2258, '하이': 2259, '가입자': 2260, '홈': 2261, '기준금리': 2262, '돌아가다': 2263, '이사장': 2264, '바다': 2265, '장학금': 2266, '탑승': 2267, '대북': 2268, '남편': 2269, '보증금': 2270, '발열': 2271, '검증': 2272, '살리다': 2273, '철강': 2274, '변호사': 2275, '조언': 2276, '기르다': 2277, '단일': 2278, '측면': 2279, '전월': 2280, '나선': 2281, '전파': 2282, '판매량': 2283, '안보': 2284, '위협': 2285, '출원': 2286, '축제': 2287, '입점': 2288, '팔': 2289, '민주': 2290, '신청서': 2291, '남부': 2292, '지연': 2293, '토지': 2294, '수단': 2295, '국장': 2296, '폭락': 2297, '엘': 2298, '세부': 2299, '실행': 2300, '시스': 2301, '사라지다': 2302, '농': 2303, '인포': 2304, '이태원': 2305, '몇': 2306, '늦다': 2307, '예비': 2308, '특별하다': 2309, '년도': 2310, '주재': 2311, '점도': 2312, '경선': 2313, '가스': 2314, '사이트': 2315, '동반': 2316, '표시': 2317, '종로': 2318, '넷플릭스': 2319, '유포': 2320, '임상시험': 2321, '쏘다': 2322, '성남': 2323, '이노베이션': 2324, '으로써': 2325, '그대로': 2326, '투자가': 2327, '양산': 2328, '불법': 2329, '과는': 2330, '시위': 2331, '머물다': 2332, '사원': 2333, '만기': 2334, '요금': 2335, '외국': 2336, '경찰청': 2337, '거부': 2338, '꽃': 2339, '점유': 2340, '령': 2341, '형사': 2342, '연구개발': 2343, '계열': 2344, '심하다': 2345, '하이닉스': 2346, '화가': 2347, '자문': 2348, '장벽': 2349, '통보': 2350, '허위': 2351, '봉사': 2352, '대우': 2353, '사과': 2354, '발송': 2355, '허용': 2356, '써다': 2357, '비싸다': 2358, '유도': 2359, '첨단': 2360, '빈': 2361, '찾아가다': 2362, '반전': 2363, '스스로': 2364, '기한': 2365, '섹터': 2366, '북': 2367, '라이브': 2368, '교사': 2369, '스토리': 2370, '술': 2371, '공감': 2372, '상권': 2373, '증': 2374, '장치': 2375, '비례대표': 2376, '인스타그램': 2377, '밖': 2378, '충남': 2379, '짜다': 2380, '신임': 2381, '착하다': 2382, '장점': 2383, '넷': 2384, '기획재정부': 2385, '론': 2386, '본사': 2387, '배경': 2388, '외출': 2389, '전통': 2390, '차세대': 2391, '슈퍼': 2392, '얘기': 2393, '유행': 2394, '인간': 2395, '텔레콤': 2396, '주관': 2397, '신도': 2398, '국민은행': 2399, '김정은': 2400, '펜': 2401, '필리핀': 2402, '집주인': 2403, '대의': 2404, '생명과학': 2405, '노': 2406, '일으키다': 2407, '발간': 2408, '배상': 2409, '동일하다': 2410, '빌리다': 2411, '동물': 2412, '회수': 2413, '뱅크': 2414, '토대': 2415, '음압': 2416, '편성': 2417, '젊다': 2418, '포스코': 2419, '눈길': 2420, '국토교통부': 2421, '빨리': 2422, '믿다': 2423, '농업': 2424, '성남시': 2425, '노인': 2426, '벌이다': 2427, '부진': 2428, '인정받다': 2429, 'opec': 2430, '시중': 2431, '리서치': 2432, '과열': 2433, '공공기관': 2434, '뜨겁다': 2435, '완전하다': 2436, '낮': 2437, '국방': 2438, '교환': 2439, '정관': 2440, '초반': 2441, '아들': 2442, '직업': 2443, '언제': 2444, '학과': 2445, '개편': 2446, '덕분': 2447, '프레': 2448, '외신': 2449, '지내다': 2450, '개미': 2451, '듣다': 2452, '병': 2453, '사인': 2454, '포기': 2455, '가공': 2456, '운송': 2457, '당분간': 2458, '돕다': 2459, '대행': 2460, '재원': 2461, '한일': 2462, '마틴': 2463, '착공': 2464, '달라지다': 2465, '내달': 2466, '자의': 2467, '떠나다': 2468, '입증': 2469, '우수하다': 2470, '거듭': 2471, '왜': 2472, '모색': 2473, '완치': 2474, '군사': 2475, '고급': 2476, '마저': 2477, '게시': 2478, '우리금융': 2479, '접다': 2480, '추': 2481, '전주': 2482, '항체': 2483, '선사': 2484, '수혜': 2485, '전북': 2486, '기계': 2487, '세상': 2488, '걱정': 2489, '접근': 2490, '양호': 2491, '신약': 2492, '익': 2493, 'v': 2494, '주제': 2495, '자랑': 2496, '표준': 2497, '낮아지다': 2498, '총재': 2499, '시범': 2500, '개방': 2501, '당선자': 2502, '실업': 2503, '화폐': 2504, '약품': 2505, '개학': 2506, '공약': 2507, '시선': 2508, '체납': 2509, '보험사': 2510, '막': 2511, '라이트': 2512, '입금': 2513, '상용': 2514, '상치': 2515, '로봇': 2516, '기억': 2517, '평소': 2518, '포스트': 2519, '대구시': 2520, '종사': 2521, '쪽': 2522, '부서': 2523, '준수': 2524, 'amp': 2525, 'klpga': 2526, '허니문': 2527, '희다': 2528, '참고': 2529, '시가': 2530, '기울이다': 2531, '증정': 2532, '맛': 2533, '반복': 2534, '부각': 2535, '확충': 2536, '교류': 2537, '골든': 2538, '인용': 2539, '존': 2540, '의결': 2541, '수학': 2542, 'ma': 2543, '등록금': 2544, '실수': 2545, '유상증자': 2546, '비례': 2547, '위주': 2548, '입지': 2549, '안심': 2550, '식당': 2551, '보급': 2552, '위탁': 2553, '바람': 2554, '전혀': 2555, '콜센터': 2556, '소장': 2557, '긴장': 2558, '융자': 2559, '스케줄': 2560, '이어서': 2561, '깜짝': 2562, '경쟁률': 2563, '샵': 2564, '든': 2565, '발의': 2566, '래': 2567, '유형': 2568, '일주일': 2569, '인생': 2570, '넓히다': 2571, '획득': 2572, '어가': 2573, '패턴': 2574, '톡': 2575, '소요': 2576, '벗어나다': 2577, '상가': 2578, '인테리어': 2579, '베이징': 2580, '길이': 2581, '수령': 2582, '강남구': 2583, '주자': 2584, '파미셀': 2585, '겸': 2586, '몸': 2587, '시급하다': 2588, '시너지': 2589, '발동': 2590, '무려': 2591, '제조업': 2592, '년대': 2593, '무관': 2594, '선전': 2595, '주인': 2596, '합동': 2597, '도널드': 2598, '라운드': 2599, '하위': 2600, '렘데': 2601, '시비르': 2602, '지시': 2603, '야당': 2604, '마치': 2605, '잠시': 2606, '지켜보다': 2607, '부실': 2608, '활': 2609, '수당': 2610, '뉴': 2611, '이처럼': 2612, '이중': 2613, '저렴하다': 2614, '명령': 2615, '열사': 2616, '연대': 2617, '유료': 2618, '부처': 2619, '체육': 2620, '인물': 2621, '검체': 2622, '올': 2623, '보통주': 2624, '포': 2625, 'gdp': 2626, '상대로': 2627, '일과': 2628, '이낙연': 2629, '치솟다': 2630, '자주': 2631, '플레이': 2632, '개성': 2633, '서울대': 2634, '그램': 2635, '명품': 2636, '화성': 2637, '모임': 2638, '감축': 2639, '서부': 2640, '인들': 2641, '금융위': 2642, '휴대전화': 2643, 'eu': 2644, '사퇴': 2645, '지숙': 2646, '예배': 2647, 'quot': 2648, '코스닥시장': 2649, '급격하다': 2650, '스트리밍': 2651, '실물': 2652, '일단': 2653, '캐릭터': 2654, '놀다': 2655, '란': 2656, '화상회의': 2657, '어치': 2658, '참가자': 2659, '전무': 2660, '폭로': 2661, '필요성': 2662, '베스트': 2663, '절대': 2664, '연일': 2665, '선발': 2666, '제거': 2667, '고발': 2668, '휴직': 2669, '푸다': 2670, '붙다': 2671, '훨씬': 2672, '지대': 2673, '랑': 2674, '잃다': 2675, '자택': 2676, '사유': 2677, '판결': 2678, '미루다': 2679, '드러내다': 2680, '석유': 2681, '신한은행': 2682, '중구': 2683, '찍다': 2684, '엠': 2685, '교육감': 2686, '마찬가지': 2687, '주기': 2688, '노하우': 2689, '에코': 2690, '환급': 2691, '문체부': 2692, '프로모션': 2693, '증대': 2694, '프라임': 2695, '적절하다': 2696, '변하다': 2697, '임명': 2698, '출자': 2699, '지역화폐': 2700, '민생': 2701, '특파원': 2702, '이모': 2703, '소액': 2704, '다운': 2705, '분리': 2706, '연봉': 2707, '동행': 2708, '거점': 2709, '철도': 2710, '순차': 2711, '강력': 2712, '바른': 2713, '안전성': 2714, 'etf': 2715, '건립': 2716, '파워': 2717, '무상': 2718, '상인': 2719, '자영': 2720, '보건복지부': 2721, '풍부하다': 2722, '삼다': 2723, '믹스': 2724, '대거': 2725, '한시': 2726, '통일부': 2727, '역다': 2728, '자유롭다': 2729, '상자': 2730, '압수수색': 2731, '생존': 2732, '체크': 2733, '내외': 2734, '운명': 2735, '장애인': 2736, '체': 2737, '낙폭': 2738, '보완': 2739, '운항': 2740, '사가': 2741, '아이디어': 2742, '확실하다': 2743, '좀': 2744, '애로': 2745, '구분': 2746, '조짐': 2747, '회복하다': 2748, '돌보다': 2749, '에프': 2750, '곳곳': 2751, '강도': 2752, '숨지다': 2753, '출장': 2754, '당국자': 2755, '변수': 2756, '신상': 2757, '닫다': 2758, '김씨': 2759, '상의': 2760, '너': 2761, '시청자': 2762, '정리': 2763, '구현': 2764, '압박': 2765, '돌아서다': 2766, '여야': 2767, '쏟아지다': 2768, '손보': 2769, '이른바': 2770, '일각': 2771, '기구': 2772, '접속': 2773, '이탈': 2774, '즉각': 2775, '이로써': 2776, '본회의': 2777, '단독주택': 2778, 'lh': 2779, '용역': 2780, '스튜디오': 2781, '화장품': 2782, '홀딩스': 2783, '사정': 2784, '매다': 2785, '채우다': 2786, '하나로': 2787, '뛰어나다': 2788, '의존': 2789, 'mbc': 2790, '중장': 2791, '차로': 2792, '독자': 2793, '명단': 2794, '립': 2795, '웨이': 2796, '연체': 2797, '수정': 2798, '주소': 2799, '여객': 2800, '구청': 2801, '네티즌': 2802, '엔터테인먼트': 2803, '헌': 2804, '이라도': 2805, '월말': 2806, '테스트': 2807, '공고': 2808, '억제': 2809, '태도': 2810, '종이': 2811, '자재': 2812, '좌우': 2813, '조절': 2814, '일환': 2815, '생산량': 2816, '복귀': 2817, 'h': 2818, '통장': 2819, '텔레': 2820, '보험료': 2821, '해양': 2822, '자원부': 2823, '넷마블': 2824, '국방부': 2825, '배제': 2826, '장사': 2827, '경찰서': 2828, '정원': 2829, 'at': 2830, '도시재생': 2831, '아세안': 2832, 'r': 2833, '세로': 2834, '이렇게': 2835, '언': 2836, '불가능하다': 2837, '파열': 2838, '올라가다': 2839, '활발하다': 2840, '오피스텔': 2841, '보복': 2842, '중앙은행': 2843, '야하다': 2844, '아름답다': 2845, '디톡스': 2846, '투': 2847, '사이버': 2848, '고도화': 2849, '푸드': 2850, '국채': 2851, '블루': 2852, '공기': 2853, '만대': 2854, '눈물': 2855, '가중': 2856, '번방': 2857, '이재용': 2858, '발병': 2859, '무섭다': 2860, '행보': 2861, '박근혜': 2862, '한경닷컴': 2863, '부상': 2864, '연동': 2865, '역임': 2866, '노출': 2867, '저장': 2868, '새해': 2869, '손해': 2870, '사내': 2871, '대사': 2872, '프로세스': 2873, '심판': 2874, '공동체': 2875, '청도': 2876, '경매': 2877, '도쿄': 2878, '대남': 2879, '준법': 2880, '신승훈': 2881, '벤처기업': 2882, '홈쇼핑': 2883, '움': 2884, '과세': 2885, '제휴': 2886, '진짜': 2887, '쇼': 2888, '꼭': 2889, 'wti': 2890, '연령': 2891, '결': 2892, '육': 2893, '본업': 2894, '위생': 2895, '플라스틱': 2896, '정식': 2897, '관내': 2898, '유플러스': 2899, '아시아나': 2900, '유권자': 2901, '친구': 2902, '룸': 2903, '행차': 2904, '돕기': 2905, '정규직': 2906, '맞이': 2907, '고수': 2908, '자사': 2909, '적정': 2910, 'tf': 2911, '가시': 2912, '커버': 2913, '이루어지다': 2914, '당첨': 2915, '쿠폰': 2916, '충족': 2917, '화면': 2918, '접목': 2919, '으로서': 2920, '음악': 2921, '여론': 2922, '금융기관': 2923, '분당': 2924, '유리하다': 2925, '어머니': 2926, '개소': 2927, '관점': 2928, '지역구': 2929, '용도': 2930, '출근': 2931, '승리': 2932, '비비': 2933, '동부': 2934, '브라질': 2935, '권력': 2936, '광': 2937, '요소': 2938, '임기': 2939, '숲': 2940, '엄청나다': 2941, '이노': 2942, 'f': 2943, '적합하다': 2944, '대금': 2945, '이기다': 2946, '외화': 2947, 'fed': 2948, 'mou': 2949, '적립': 2950, '제정': 2951, '전보': 2952, '시세': 2953, '사모펀드': 2954, '크로스': 2955, '여수': 2956, '신한': 2957, '막히다': 2958, '사무실': 2959, '실험': 2960, '브': 2961, '재생': 2962, '원대': 2963, '취임': 2964, '붕괴': 2965, '금융감독원': 2966, 'ddp': 2967, '물건': 2968, '으로의': 2969, '에서만': 2970, '풀다': 2971, '휴가': 2972, '치고': 2973, '이면': 2974, '링크': 2975, '분할': 2976, '중점': 2977, '띄다': 2978, '부대': 2979, '미성년': 2980, '가하다': 2981, '부모': 2982, '채무': 2983, '합병': 2984, '추락': 2985, '권리': 2986, '치열하다': 2987, '생태계': 2988, '생계': 2989, '사안': 2990, '추구': 2991, '분담': 2992, '횟수': 2993, 'lcd': 2994, '칙': 2995, '종교': 2996, '여유': 2997, '집회': 2998, '포털': 2999, '도시농업': 3000, '최원혁': 3001, '한층': 3002, '창고': 3003, '님': 3004, '싱가포르': 3005, '박물관': 3006, '노동': 3007, '국민연금': 3008, '조차': 3009, '분산': 3010, '불만': 3011, '따뜻하다': 3012, '독립': 3013, '뛰어넘다': 3014, 'led': 3015, '남아': 3016, '선진국': 3017, '약세': 3018, '조합': 3019, '러닝': 3020, '납품': 3021, '나아가다': 3022, '안건': 3023, '학': 3024, '둔화': 3025, '박스': 3026, '선호': 3027, '움직이다': 3028, 'and': 3029, '일선': 3030, '유재석': 3031, '발주': 3032, '출품': 3033, '잇다': 3034, '중견': 3035, '기조': 3036, '연방': 3037, '상회': 3038, '소독제': 3039, '댓글': 3040, '증거': 3041, '완벽': 3042, '일리': 3043, '직장': 3044, '쌓다': 3045, '매주': 3046, '원활하다': 3047, '창구': 3048, '죽다': 3049, '적지': 3050, '일어나다': 3051, '멀다': 3052, '우한': 3053, '쏠리다': 3054, '지나다': 3055, '황교안': 3056, '밴드': 3057, '고심': 3058, '점차': 3059, '창원': 3060, '연극': 3061, '어깨': 3062, '태평양': 3063, '항공사': 3064, '후보자': 3065, '중대': 3066, '랭킹': 3067, '비난': 3068, '유세': 3069, '촉구': 3070, '램': 3071, '부제': 3072, '취재': 3073, 'db': 3074, '팬데믹': 3075, '공급망': 3076, '엔진': 3077, '회계': 3078, '중증': 3079, '중순': 3080, '순간': 3081, '뭐': 3082, '키': 3083, '평택': 3084, '대학교': 3085, '와인': 3086, '응원': 3087, '산업혁명': 3088, '던지다': 3089, '귀국': 3090, '힘쓰다': 3091, '선행': 3092, '검다': 3093, 'apos': 3094, 'o': 3095, '부총리': 3096, '행진': 3097, '의식': 3098, '레벨': 3099, '그리다': 3100, '뒷받침': 3101, '강원도': 3102, '식약처': 3103, '국경': 3104, '화물': 3105, '아트': 3106, '운전자': 3107, '밀집': 3108, '세균': 3109, '객': 3110, '보조': 3111, '간접': 3112, '실패': 3113, '오랜': 3114, '부인': 3115, '나이': 3116, '솔로': 3117, '발칵': 3118, '기초자산': 3119, '납세': 3120, '이투스': 3121, '스크랩': 3122, '풀': 3123, '만들기': 3124, '합리': 3125, '전부': 3126, '경력': 3127, '클래스': 3128, '다루다': 3129, '가로': 3130, '프라이': 3131, '다중': 3132, '개입': 3133, '타워': 3134, '앞장서다': 3135, '행복하다': 3136, '금호': 3137, '잠실': 3138, '페이지': 3139, '조국': 3140, '사무': 3141, '단축': 3142, '암호': 3143, '약물': 3144, '징역': 3145, '극장': 3146, '자수': 3147, '트래픽': 3148, '접근성': 3149, '훼손': 3150, '건축물': 3151, '초비상': 3152, 'rp': 3153, '돌입': 3154, '나노': 3155, '종부세': 3156, '안정화': 3157, '부작용': 3158, '용품': 3159, '무급': 3160, '피부': 3161, '공기청정기': 3162, '유발': 3163, '접': 3164, 'who': 3165, '산유': 3166, '지난주': 3167, '소프트웨어': 3168, '조작': 3169, '전액': 3170, '영진': 3171, '번호': 3172, '운행': 3173, '윤석열': 3174, '만장': 3175, '악': 3176, '진보': 3177, '아내': 3178, '관절': 3179, '고등학교': 3180, '터키': 3181, '연도': 3182, '변': 3183, '스위트': 3184, '해상': 3185, 'cb': 3186, '초년': 3187, '공영': 3188, '실효': 3189, '시공': 3190, '여름': 3191, '캐피탈': 3192, '호조': 3193, '구직': 3194, '우위': 3195, '청': 3196, '번지': 3197, '화웨이': 3198, '멤버': 3199, '논문': 3200, '전역': 3201, '검역': 3202, '재활용': 3203, '지원이': 3204, '만약': 3205, '용인시': 3206, '정보보호': 3207, '애널': 3208, '장마': 3209, '근본': 3210, '폭력': 3211, '년물': 3212, '희생': 3213, '정착': 3214, '고속': 3215, '도쿄올림픽': 3216, '읽다': 3217, '졸': 3218, '탈': 3219, '지지율': 3220, '병행': 3221, '배부': 3222, '관악구': 3223, '유학생': 3224, '다가': 3225, '강훈': 3226, '서병기': 3227, '부진하다': 3228, '제조업체': 3229, '여력': 3230, '건전성': 3231, '손상': 3232, '수습': 3233, '크기': 3234, '행복': 3235, '심화': 3236, '열풍': 3237, '망치': 3238, '경제활동': 3239, '시절': 3240, '개시': 3241, '전문성': 3242, '사르다': 3243, '동영상': 3244, 'ces': 3245, '승계': 3246, '우리은행': 3247, '특': 3248, '신축': 3249, '대법원': 3250, '싹': 3251, '이웃': 3252, '골자': 3253, '주류': 3254, '반환': 3255, '인승': 3256, '부의': 3257, '브로드밴드': 3258, 'fc': 3259, '추미애': 3260, '문숙': 3261, '종식': 3262, '연휴': 3263, '근로': 3264, '리지': 3265, '아침': 3266, '산업부': 3267, '규': 3268, '간호사': 3269, '맞서다': 3270, '게재': 3271, '치매': 3272, '영장': 3273, '단순하다': 3274, '아무': 3275, '과를': 3276, '텍사스': 3277, '밀리다': 3278, '무슨': 3279, '도서관': 3280, '스페인': 3281, '뉴욕증시': 3282, '억대': 3283, '무너지다': 3284, '침대': 3285, 'ioc': 3286, '인접': 3287, '컬러': 3288, '링': 3289, '퇴직': 3290, '한국은행': 3291, '제주도': 3292, '완벽하다': 3293, '도약': 3294, '단행': 3295, '증설': 3296, '막대': 3297, '국무총리': 3298, '유기': 3299, '추적': 3300, '그런데': 3301, '십': 3302, '오래': 3303, '잡히다': 3304, '혼란': 3305, '정례': 3306, '예금': 3307, '투잡': 3308, '청주': 3309, '하늘': 3310, '첫날': 3311, '송': 3312, '아프리카': 3313, '학기': 3314, 'skc': 3315, '결산': 3316, '유명하다': 3317, '농산물': 3318, '한류': 3319, '모범': 3320, '장년': 3321, 'cnn': 3322, '물산': 3323, '관사': 3324, '메뉴': 3325, '탑': 3326, '상관없다': 3327, '쇼핑몰': 3328, '운수': 3329, '저희': 3330, '체감': 3331, '반려동물': 3332, '뷰티': 3333, '최고경영자': 3334, '금제': 3335, '내기': 3336, '송도': 3337, '비치': 3338, '멤버십': 3339, '스웨덴': 3340, '빌보드': 3341, '와는': 3342, '출동': 3343, '업다': 3344, '소년': 3345, '민심': 3346, '보관': 3347, '진술': 3348, '패널': 3349, '수용': 3350, '격차': 3351, '관찰': 3352, '이의': 3353, '관객': 3354, '급하다': 3355, '뉴스룸': 3356, '다니다': 3357, '고인': 3358, 'phev': 3359, '이력': 3360, '폭파': 3361, '정대협': 3362, '샤넬': 3363, '콘서트': 3364, '직격탄': 3365, '벌': 3366, '바닥': 3367, '도달': 3368, '양사': 3369, '성분': 3370, '더욱이': 3371, '화로': 3372, '가계': 3373, '만족도': 3374, '압도': 3375, '철학': 3376, '낙찰': 3377, '그렇게': 3378, '컨센서스': 3379, '조회': 3380, '파이': 3381, '트리': 3382, '참조': 3383, '성금': 3384, '새벽': 3385, '걷다': 3386, '노래': 3387, '기업은행': 3388, 'lng': 3389, '남기다': 3390, 'oled': 3391, '음식점': 3392, '조화': 3393, '상표': 3394, '대학생': 3395, '수지': 3396, 'inews': 3397, '말년': 3398, '산사태': 3399, 'km': 3400, 'kr': 3401, '폐지': 3402, '스타일': 3403, '유의': 3404, '앤디': 3405, '만을': 3406, '전염병': 3407, '지는': 3408, '증명': 3409, '출처': 3410, '장애': 3411, '총회': 3412, '명과': 3413, '떠오르다': 3414, '캐시': 3415, '수소': 3416, '한때': 3417, '번가': 3418, '폐렴': 3419, '탄생': 3420, '안산': 3421, '정치권': 3422, '폭탄': 3423, '분율': 3424, '광역': 3425, '벌금': 3426, '베이': 3427, '캐슬': 3428, '국제사회': 3429, '투숙': 3430, '패닉': 3431, '해역': 3432, '팝': 3433, '북부': 3434, '용지': 3435, '밀도': 3436, '한정': 3437, '투어': 3438, '현행': 3439, '부가': 3440, '추이': 3441, '직스': 3442, '벤츠': 3443, '물가': 3444, '나무': 3445, '시정': 3446, '오브': 3447, '위험하다': 3448, '개표': 3449, '직장인': 3450, '붙이다': 3451, '측정': 3452, '싱글': 3453, '형식': 3454, '구로구': 3455, '머리': 3456, '명예': 3457, '잘못': 3458, '투표소': 3459, '쿠팡': 3460, '구상': 3461, '위안': 3462, '상당수': 3463, '신속': 3464, '회담': 3465, '졸업': 3466, '데이': 3467, '동해': 3468, '반도': 3469, '개척': 3470, '고시': 3471, 'dn': 3472, '소속사': 3473, '대선': 3474, '그래핀': 3475, '지민': 3476, '상표권': 3477, '컴퓨터': 3478, '딱': 3479, '뽑다': 3480, '시사': 3481, '사이언스': 3482, '신호': 3483, '스토어': 3484, '식사': 3485, '의뢰': 3486, '재개발': 3487, '상원': 3488, '간편': 3489, '분명하다': 3490, '리더십': 3491, '품': 3492, '추산': 3493, '주민등록': 3494, '이례': 3495, '안철수': 3496, '자치': 3497, '청소': 3498, '범행': 3499, '양상': 3500, '둘': 3501, '와이': 3502, '반발': 3503, '원두': 3504, '남북관계': 3505, '지방자치단체': 3506, '합류': 3507, '꾸미다': 3508, '딸기': 3509, '조속': 3510, '청원': 3511, '복원': 3512, '빗물': 3513, '박정규': 3514, '추첨': 3515, '도내': 3516, '비정규직': 3517, '지식': 3518, '화해': 3519, '금속': 3520, '물리다': 3521, '영향력': 3522, '편안하다': 3523, '렌즈': 3524, '재무제표': 3525, '지노': 3526, '닥터': 3527, 'on': 3528, '법인세': 3529, '스퀘어': 3530, '톤': 3531, '인도네시아': 3532, '실태': 3533, '계산': 3534, '빌딩': 3535, '화려하다': 3536, '일자': 3537, '찬': 3538, '작전': 3539, '태세': 3540, '실무': 3541, '꺾다': 3542, '제일': 3543, '관할': 3544, '남산': 3545, '이드': 3546, '포토': 3547, '기증': 3548, '줄기세포': 3549, '맥주': 3550, '레전드': 3551, '당구': 3552, '로스쿨': 3553, '블랙': 3554, '승': 3555, '기재': 3556, '농촌': 3557, '조명': 3558, '반납': 3559, '탄력': 3560, '야외': 3561, '이기도': 3562, '간편하다': 3563, '파생': 3564, '유효': 3565, '길다': 3566, '참여자': 3567, '구로': 3568, '유로': 3569, '추후': 3570, '대유행': 3571, '심각': 3572, '연결하다': 3573, '무게': 3574, '긴밀하다': 3575, '충전': 3576, '물리': 3577, '전제': 3578, '이로': 3579, '신분증': 3580, '따다': 3581, '통증': 3582, '고조': 3583, '제철': 3584, '불안하다': 3585, '지방세': 3586, '협정': 3587, '공지': 3588, 'mw': 3589, '판사': 3590, '배분': 3591, '결단': 3592, '공세': 3593, '우주': 3594, '블룸버그': 3595, '현역': 3596, '의대': 3597, '거실': 3598, '그랜드': 3599, '반포': 3600, '올라오다': 3601, '정지': 3602, '감동': 3603, '온도': 3604, '휴식': 3605, '곤': 3606, 'ip': 3607, '필': 3608, '유동': 3609, '단백질': 3610, '전지': 3611, '설문조사': 3612, '용산': 3613, '피하': 3614, '사령관': 3615, '쓰이다': 3616, 'kg': 3617, '서버': 3618, '농가': 3619, '종류': 3620, '내려가다': 3621, '수리': 3622, '흔들리다': 3623, '유전자': 3624, '나스닥': 3625, '모멘텀': 3626, '국세청': 3627, '비공개': 3628, '다가오다': 3629, '금성': 3630, '보조금': 3631, '미술': 3632, '성향': 3633, '다녀오다': 3634, '가면': 3635, '보강': 3636, '딸': 3637, '리치': 3638, '윤미향': 3639, '송치': 3640, '이천시': 3641, '가전제품': 3642, '강렬하다': 3643, '동사': 3644, '산정': 3645, '요즘': 3646, '국정': 3647, '공제': 3648, '라도': 3649, '독점': 3650, '재선': 3651, '당신': 3652, '퇴': 3653, '불완전': 3654, '완전': 3655, '일상생활': 3656, '지위': 3657, '발휘': 3658, '대안': 3659, '라이프': 3660, '늦추다': 3661, '손잡다': 3662, '발전소': 3663, '놓이다': 3664, '과감': 3665, '전장': 3666, '장르': 3667, '발사': 3668, '마이크로': 3669, '보육': 3670, '버티다': 3671, '결의': 3672, '마스터': 3673, '중도': 3674, '투여': 3675, '간의': 3676, '후원': 3677, '스파': 3678, '공직자': 3679, '권한': 3680, '조항': 3681, '메르스': 3682, '진의': 3683, '일본군': 3684, '분배': 3685, '보수당': 3686, '구급차': 3687, '개통': 3688, '테슬라': 3689, '금요일': 3690, '보이지': 3691, '경비': 3692, '문화재단': 3693, '균형': 3694, '과태료': 3695, '특례': 3696, '네이처': 3697, '취하': 3698, '성격': 3699, '끼': 3700, '항의': 3701, 'dlf': 3702, '상업시설': 3703, '달리다': 3704, '지휘': 3705, '이메일': 3706, '공모전': 3707, '밸류': 3708, '대위': 3709, '각자': 3710, '학회': 3711, '리얼': 3712, '마리': 3713, '뮤지컬': 3714, '맥스': 3715, '징계': 3716, '종은': 3717, '송금': 3718, '오염': 3719, '중앙회': 3720, 'buy': 3721, '세종시': 3722, '연내': 3723, '회관': 3724, '즉': 3725, '포트폴리오': 3726, '산시': 3727, '뷰': 3728, '와이파이': 3729, '김종인': 3730, '업소': 3731, '승희': 3732, '옵션': 3733, '더블': 3734, '신중하다': 3735, '외환시장': 3736, '전자상거래': 3737, '무기': 3738, '풍경': 3739, 'ib': 3740, '담당자': 3741, '구가': 3742, '임대주택': 3743, '최적화': 3744, '안되다': 3745, '어려워지다': 3746, '명시': 3747, '에게도': 3748, '수의': 3749, '전수': 3750, '시민단체': 3751, '퍼지다': 3752, '배우다': 3753, '선관위': 3754, '주인공': 3755, '의료기기': 3756, '정보통신부': 3757, '민주화': 3758, '내지': 3759, '앤드': 3760, '노트북': 3761, '그것': 3762, '상하이': 3763, '둘째': 3764, '타이어': 3765, '종로구': 3766, '수집': 3767, '표면': 3768, '자세': 3769, '놀랍다': 3770, '로운': 3771, '쓰레기': 3772, '수산물': 3773, '상영': 3774, '상장폐지': 3775, '강사': 3776, '연애': 3777, '찬성': 3778, '지주사': 3779, '무시': 3780, '안방': 3781, '트롯': 3782, '타결': 3783, '구충제': 3784, '특이': 3785, '원작': 3786, '커튼': 3787, '자유무역': 3788, '은평구': 3789, '푸르지오': 3790, '완공': 3791, 'co': 3792, '단순': 3793, '아쉽다': 3794, '라디오': 3795, '힐링': 3796, 'sc': 3797, '침해': 3798, '벌이': 3799, '귀': 3800, '한해': 3801, '통일': 3802, '염증': 3803, '원료': 3804, '서민': 3805, '짧다': 3806, '대치': 3807, '꺼내다': 3808, '위인': 3809, '아티스트': 3810, '부양': 3811, '물다': 3812, '갑자기': 3813, '에이치': 3814, '뱅킹': 3815, '실감': 3816, '저지르다': 3817, '보지': 3818, '마크': 3819, '답변': 3820, '호응': 3821, '불어': 3822, '신년': 3823, '포럼': 3824, '숨다': 3825, '센티': 3826, '회피': 3827, '교육과정': 3828, '트랙': 3829, '해경': 3830, '경보': 3831, '꼴': 3832, '누리다': 3833, '대란': 3834, '단속': 3835, '담화': 3836, '산림': 3837, 'valuation': 3838, '강북': 3839, '킹': 3840, '우체국': 3841, '바이어': 3842, '박차': 3843, '명대': 3844, '벤다': 3845, '보트': 3846, '가인': 3847, '로맨틱': 3848, '무소속': 3849, '판독': 3850, '저장매체': 3851, '투심': 3852, 'bmw': 3853, '숙박': 3854, '그래서': 3855, '신작': 3856, '초유': 3857, '태어나다': 3858, '격려': 3859, '습관': 3860, '신경': 3861, '폰': 3862, '길어지다': 3863, '예외': 3864, '편입': 3865, '기법': 3866, '퀸': 3867, '중요성': 3868, '흔적': 3869, '수상': 3870, '중간': 3871, '도모': 3872, '동월': 3873, '신용카드': 3874, '성폭력': 3875, '충돌': 3876, '소외': 3877, '연세대': 3878, '지르다': 3879, '반박': 3880, '만남': 3881, '따라서': 3882, '최적': 3883, '염두': 3884, '금회': 3885, '노사': 3886, '빗': 3887, '수영장': 3888, '홈플러스': 3889, '지나': 3890, '투명': 3891, '엑스레이': 3892, '서초': 3893, '진실': 3894, '수석': 3895, '상황보고': 3896, '제주항공': 3897, '지배구조': 3898, '부천': 3899, '재계약': 3900, '리빙': 3901, '탄핵': 3902, '전기요금': 3903, '사양': 3904, '브이': 3905, '철회': 3906, '직면': 3907, '양해': 3908, '유선': 3909, '마르다': 3910, '끼치다': 3911, '도민': 3912, '오토': 3913, '땅': 3914, '깨끗하다': 3915, '짓다': 3916, '상징': 3917, '깨다': 3918, '잡고': 3919, '방어': 3920, '치즈': 3921, '용기': 3922, '린다': 3923, '축하': 3924, '경신': 3925, '끌': 3926, '리스': 3927, '흑석': 3928, '정점': 3929, '리테일': 3930, '동력': 3931, '상상': 3932, '폐': 3933, '신발': 3934, '수상하다': 3935, '이재명': 3936, '부탁': 3937, '가해자': 3938, '정세균': 3939, '토': 3940, '레드': 3941, '면밀하다': 3942, '레': 3943, '진과': 3944, '최소한': 3945, '속속': 3946, '돌': 3947, '따로': 3948, '연습': 3949, '말씀': 3950, '행정부': 3951, '프로야구': 3952, '제어': 3953, '협동조합': 3954, '라인업': 3955, '재배': 3956, '증언': 3957, '소리': 3958, '승부': 3959, 'pef': 3960, '시청률': 3961, '목포': 3962, '쓰러지다': 3963, '시간대': 3964, '폐기물': 3965, '출전': 3966, '명여': 3967, '이홍': 3968, '정경수': 3969, '편하다': 3970, '시트': 3971, '공업': 3972, '계시다': 3973, '내야': 3974, '청정': 3975, '아주': 3976, '여기다': 3977, '드': 3978, '아이폰': 3979, '하도급': 3980, '용산구': 3981, '경품': 3982, '마이': 3983, '레저': 3984, '팔다': 3985, '대적': 3986, '재편': 3987, '정황': 3988, '권유': 3989, '해명': 3990, '월요일': 3991, '불편하다': 3992, '바라보다': 3993, '기밀': 3994, '부합': 3995, '사단': 3996, '혹은': 3997, '틀': 3998, '라이프스타일': 3999, '표명': 4000, '유리': 4001, '고문': 4002, '그만큼': 4003, '댄스': 4004, '오가다': 4005, '조율': 4006, '총력': 4007, '아끼다': 4008, '정체': 4009, '우선주': 4010, '단기간': 4011, '관리자': 4012, '효능': 4013, '그림': 4014, 'hdc': 4015, '협박': 4016, '주방': 4017, '급식': 4018, '빌다': 4019, '원전': 4020, '조만간': 4021, '장안': 4022, '임플란트': 4023, '서초구': 4024, '해내다': 4025, '합산': 4026, '지치다': 4027, '드라이브': 4028, '합치다': 4029, '린': 4030, '콘셉트': 4031, '대리점': 4032, '얼마': 4033, '방해': 4034, '만으로': 4035, '입사': 4036, 'cu': 4037, '아예': 4038, '장면': 4039, '영등포구': 4040, '연금': 4041, '아빠': 4042, '무증상': 4043, '지배': 4044, '날리다': 4045, '책임자': 4046, '만들어지다': 4047, '뒤늦다': 4048, '가게': 4049, '지목': 4050, '출판': 4051, '헌신': 4052, '전하': 4053, '트위터': 4054, '체포': 4055, '구호': 4056, '드디어': 4057, '셧다운': 4058, '소진': 4059, '중요': 4060, '잦다': 4061, '미래한국당': 4062, '초청': 4063, '왕': 4064, '지향': 4065, '확신': 4066, '케이크': 4067, '테': 4068, '초래': 4069, '중국인': 4070, 'w': 4071, '도출': 4072, '컴퍼니': 4073, '인건비': 4074, '밝혀지다': 4075, '부럽다': 4076, '방사선': 4077, '센트럴': 4078, '채택': 4079, '틱': 4080, '기재부': 4081, '수많다': 4082, '말고': 4083, '켐': 4084, '핑크': 4085, '불황': 4086, '편이': 4087, '훈': 4088, '경제위기': 4089, '뉴질랜드': 4090, '폭행': 4091, '연관': 4092, '주시': 4093, '공조': 4094, '시내': 4095, 'bts': 4096, '가가': 4097, '디지털화': 4098, '가방': 4099, '독려': 4100, '연수': 4101, '태국': 4102, '사오다': 4103, '엄마': 4104, '열기': 4105, '노후': 4106, '불거지다': 4107, '인천공항': 4108, '축': 4109, '실전': 4110, '징': 4111, '기침': 4112, '호흡기': 4113, '웃다': 4114, '교보': 4115, '정통부': 4116, '트로트': 4117, '폴란드': 4118, '배려': 4119, '정면': 4120, '뛰어들다': 4121, '쇼크': 4122, '승객': 4123, '채취': 4124, '비밀': 4125, '부모님': 4126, '공화당': 4127, '조례': 4128, '만화': 4129, '풍자': 4130, '당사자': 4131, '트럭': 4132, '단절': 4133, '겨냥': 4134, '장씨': 4135, '행정명령': 4136, '로저스': 4137, '걸음': 4138, '서약': 4139, '호반': 4140, '납치': 4141, '가천대': 4142, '호재': 4143, 'i': 4144, '횡령': 4145, '법령': 4146, '소지': 4147, '세제': 4148, '다음주': 4149, '여가': 4150, '수백': 4151, '청산': 4152, '염': 4153, '겨울': 4154, '유력': 4155, '섭취': 4156, '항공기': 4157, '재발': 4158, '신분': 4159, '은평': 4160, '양적완화': 4161, '일일': 4162, '태블릿': 4163, '창의': 4164, '다변': 4165, '모금': 4166, '시공사': 4167, '유증': 4168, '불편': 4169, '연료': 4170, '하이브리드': 4171, '없애다': 4172, '아카데미': 4173, '닷': 4174, '선포': 4175, '누르다': 4176, '운영자': 4177, '파라다이스': 4178, 'oecd': 4179, '이만': 4180, '머무르다': 4181, '항암제': 4182, '끊다': 4183, '저녁': 4184, '실패하다': 4185, '증세': 4186, '에이스': 4187, '교': 4188, '클래식': 4189, '도서': 4190, '김해': 4191, '투명하다': 4192, 'cgv': 4193, '토로': 4194, '콜': 4195, '평일': 4196, '통지': 4197, '치명': 4198, '추경안': 4199, '노원구': 4200, '모듈': 4201, '배당금': 4202, '유기농': 4203, 'ms': 4204, '적정하다': 4205, 'bp': 4206, 'atm': 4207, '체류': 4208, '상공회의소': 4209, '포레': 4210, '조업': 4211, '대차': 4212, '전시회': 4213, '이혼': 4214, '검찰총장': 4215, '명부': 4216, '가디언': 4217, '의과학': 4218, '신민': 4219, '기능사': 4220, '오토노머스': 4221, '담비': 4222, '입학사정관': 4223, '김포': 4224, '타당성': 4225, '퍼스트': 4226, '얼': 4227, 'http': 4228, 'sdi': 4229, '토록': 4230, '배수': 4231, '조합원': 4232, 'imf': 4233, '타이밍': 4234, '메모리': 4235, '항상': 4236, '치러지다': 4237, '사자': 4238, '정치인': 4239, '보다도': 4240, '리드': 4241, '심다': 4242, '울다': 4243, '유엔': 4244, '으뜸': 4245, '스럽게': 4246, '강점': 4247, '음원': 4248, '상식': 4249, '안성': 4250, '손소독제': 4251, '별개': 4252, '넘치다': 4253, '교인': 4254, '빛나다': 4255, '파병': 4256, '공정하다': 4257, '진영': 4258, '판로': 4259, '신탁': 4260, '외환': 4261, '씻다': 4262, '대중교통': 4263, '애': 4264, '나흘': 4265, '민원': 4266, '종전': 4267, '김여정': 4268, '에어컨': 4269, '학사': 4270, '티파니': 4271, '비서': 4272, 'up': 4273, '봉사활동': 4274, '고령화': 4275, '가상': 4276, '조원태': 4277, '리버': 4278, '수시': 4279, '년비': 4280, '누리': 4281, '린지': 4282, '고르다': 4283, '꼽았다': 4284, '절실': 4285, '자리다': 4286, '일원': 4287, '크림': 4288, '스타벅스': 4289, 'cnbc': 4290, '방문객': 4291, '부위': 4292, '증진': 4293, '리그': 4294, '수록': 4295, '자치구': 4296, '모드': 4297, '중지': 4298, '회로': 4299, '계정': 4300, '원격': 4301, '숫자': 4302, '수거': 4303, '구상권': 4304, '전문의': 4305, '만난': 4306, '체크카드': 4307, '분노': 4308, '스럽다': 4309, '혁명': 4310, '은퇴': 4311, '오뚜기': 4312, '스틸': 4313, '덜다': 4314, '갈수록': 4315, '날씨': 4316, '와중': 4317, '육군': 4318, '김모': 4319, '펴다': 4320, '덮다': 4321, '사전투표': 4322, '무선': 4323, '고정': 4324, '의료인': 4325, '단장': 4326, '구속영장': 4327, '펼쳐지다': 4328, '살해': 4329, '폭증': 4330, '조선해': 4331, '존중': 4332, '격상': 4333, '캠핑': 4334, '구민': 4335, '신혼부부': 4336, '연합인포맥스': 4337, '중부': 4338, 'with': 4339, '보편': 4340, '국민의당': 4341, '임차': 4342, '남동': 4343, '영세': 4344, '하남': 4345, '뚜렷하다': 4346, '보사': 4347, '다이닝': 4348, '해원': 4349, '결론': 4350, '사위': 4351, '생활관': 4352, '동굴': 4353, '간단하다': 4354, '까지만': 4355, '살아나다': 4356, '큐': 4357, '시마': 4358, '체육관': 4359, '바이': 4360, '메인': 4361, '아이템': 4362, '신차': 4363, '소화': 4364, '개그맨': 4365, '사우디': 4366, '잔액': 4367, '기대다': 4368, '매월': 4369, '일봉': 4370, '구성원': 4371, '밟다': 4372, '소셜': 4373, '강서구': 4374, '부근': 4375, '계절': 4376, '철강업': 4377, '피씨': 4378, '검거': 4379, '지불': 4380, '유안': 4381, '케이블': 4382, '여서': 4383, '케': 4384, '프랜차이즈': 4385, '신형': 4386, 'md': 4387, '탄소': 4388, '쌀': 4389, '인민': 4390, '이념': 4391, '이견': 4392, '호남': 4393, '봄': 4394, '욕실': 4395, '밀러': 4396, '테이블': 4397, '손님': 4398, '섬': 4399, '고성': 4400, 'suv': 4401, '설득': 4402, '진전': 4403, '남조선': 4404, '용암': 4405, 'for': 4406, '매달': 4407, '대림': 4408, '겹': 4409, '쌓이다': 4410, '호실': 4411, '타입': 4412, '살피다': 4413, '많아지다': 4414, '싸다': 4415, '취할': 4416, '자극': 4417, '구미': 4418, '유사': 4419, 'ipo': 4420, '수천': 4421, '선점': 4422, '동남아': 4423, '풍선': 4424, '간부': 4425, '일수록': 4426, '좌석': 4427, '시나리오': 4428, '발탁': 4429, '전후': 4430, '상주': 4431, '유치하다': 4432, '고도': 4433, '아나운서': 4434, '대학원': 4435, '히트': 4436, '사흘': 4437, '국고': 4438, '추가경정예산': 4439, '빼': 4440, '극단': 4441, '행성': 4442, '테크놀로지': 4443, '라이': 4444, '물이': 4445, '우호': 4446, '자본시장': 4447, '공헌': 4448, '요양': 4449, '담그다': 4450, '께서': 4451, '전환사채': 4452, '의향': 4453, '의도': 4454, '고백': 4455, '태': 4456, '본질': 4457, '샘': 4458, '중진': 4459, '다발': 4460, '동대문구': 4461, '땐': 4462, '투쟁': 4463, '우대': 4464, '중개업': 4465, '유서': 4466, '뽐내다': 4467, '진중권': 4468, '관람': 4469, '스트리트': 4470, '뷔페': 4471, '소년법': 4472, '상대평가': 4473, '고령': 4474, '또다시': 4475, '특급': 4476, '일만': 4477, '출생': 4478, '유니': 4479, '전이': 4480, '저하': 4481, '목요일': 4482, '명확하다': 4483, '관행': 4484, '줄줄이': 4485, '파기': 4486, '코드': 4487, '대사관': 4488, '대외': 4489, '콘': 4490, '자외선': 4491, '톱': 4492, '쏟다': 4493, '욱': 4494, '교역': 4495, '자국': 4496, '케미칼': 4497, '유럽연합': 4498, '퇴원': 4499, '호흡': 4500, '일양약품': 4501, 'spc': 4502, '엔지니어링': 4503, '맵': 4504, '사임': 4505, '하우': 4506, '쯤': 4507, '호평': 4508, '총알': 4509, '서구': 4510, '연맹': 4511, '이천': 4512, '춘천': 4513, 'kf': 4514, '죄송하다': 4515, '견인': 4516, '하나은행': 4517, '해지': 4518, '수십': 4519, '피로': 4520, '좋아하다': 4521, '고속도로': 4522, '조직개편': 4523, '벗다': 4524, '땀': 4525, '무릎': 4526, '추출': 4527, '시흥': 4528, '교직원': 4529, '발매': 4530, '군인': 4531, '그날': 4532, '돋보이다': 4533, '밥': 4534, 'seoul': 4535, '초고': 4536, '골프': 4537, '아프다': 4538, '불과': 4539, '갤러리': 4540, '기간산업': 4541, '재밌다': 4542, '국제공항': 4543, '워드': 4544, '안이': 4545, '비행기': 4546, '아웃': 4547, '방문자': 4548, '워싱턴': 4549, '한전': 4550, '기생충': 4551, '일렉트로': 4552, '엑': 4553, '판문점': 4554, 'mice': 4555, '문병원': 4556, 'bot': 4557, '고성능': 4558, '감성': 4559, '전시장': 4560, '폭주': 4561, '취득세': 4562, '국내총생산': 4563, '섭': 4564, '넥슨': 4565, '신화': 4566, '보합': 4567, '초점': 4568, '모양': 4569, '균': 4570, '말로': 4571, '가볍다': 4572, '돌다': 4573, 'wsj': 4574, '과일': 4575, '파급': 4576, '톡신': 4577, '원가': 4578, '좁다': 4579, '코너': 4580, '천명': 4581, '신장': 4582, '동결': 4583, '당사': 4584, '정보통': 4585, '시한': 4586, '추모': 4587, '유사하다': 4588, '캐': 4589, '방치': 4590, '명인': 4591, '항만': 4592, '독감': 4593, '소집': 4594, '딜': 4595, '동학': 4596, '인류': 4597, '빨르다': 4598, '원심': 4599, '회의실': 4600, '약정': 4601, '앉다': 4602, '디저트': 4603, '신주': 4604, '시약': 4605, '지도자': 4606, '치가': 4607, '도시락': 4608, '중계': 4609, '가점': 4610, '살아가다': 4611, '상처': 4612, '신용정보': 4613, '푸르덴셜생명': 4614, '밸리': 4615, '가사': 4616, 'said': 4617, '기획사': 4618, '커머스': 4619, '차등': 4620, '폭등': 4621, '세율': 4622, '유력하다': 4623, '부로': 4624, '고지': 4625, '탄탄하다': 4626, '부탁드리다': 4627, '선거운동': 4628, '신체': 4629, '육류': 4630, 'ap': 4631, '이동통신': 4632, '칩': 4633, '샤오미': 4634, '이든': 4635, '논리': 4636, '응모': 4637, '렌탈': 4638, '아모레퍼시픽': 4639, '손익': 4640, '법정': 4641, '성장동력': 4642, '진심': 4643, '인터': 4644, '파장': 4645, '외식': 4646, '하라': 4647, '소식통': 4648, '지법': 4649, '가슴': 4650, '출하': 4651, '임무': 4652, '과천': 4653, '생태': 4654, '흐르다': 4655, '선거법': 4656, '플': 4657, '수면': 4658, '토론': 4659, '소문': 4660, '노동당': 4661, 'enm': 4662, '색': 4663, '개막': 4664, '하자': 4665, '장악': 4666, '소명': 4667, '실증': 4668, '부시장': 4669, '동아시아': 4670, '조식': 4671, '폭풍': 4672, '관위': 4673, '중고차': 4674, '수사권': 4675, '코어': 4676, '산출': 4677, '도의': 4678, '응급실': 4679, 'cns': 4680, '식기세척기': 4681, '픽셀': 4682, '핸드백': 4683, '언스': 4684, '통계청': 4685, '수요일': 4686, '괜찮다': 4687, '놀이': 4688, '강경': 4689, '매진': 4690, '숨기다': 4691, '눈치': 4692, '랠리': 4693, '꿈꾸다': 4694, '드림': 4695, '일종': 4696, '미주': 4697, '건조하다': 4698, '합성': 4699, '우유': 4700, '혈장': 4701, '식이': 4702, '이지': 4703, '뿌리': 4704, '성동구': 4705, '아크': 4706, '트레이딩': 4707, '스템': 4708, '잔고': 4709, '반하다': 4710, '신흥': 4711, '통신사': 4712, 'l': 4713, '기지': 4714, '식품의약품안전처': 4715, '가의': 4716, '유일': 4717, '명분': 4718, '법무': 4719, '입력': 4720, '더블유': 4721, '빅': 4722, '점점': 4723, '냐': 4724, '박다': 4725, '간다': 4726, '유관': 4727, '무죄': 4728, '여자': 4729, '심지어': 4730, '빅텍': 4731, '응급': 4732, '파': 4733, '봉합': 4734, '러브콜': 4735, '소감': 4736, '건수': 4737, '알코올': 4738, '어스': 4739, '처방': 4740, '안타깝다': 4741, '렉스': 4742, '인명': 4743, '밀': 4744, '원내': 4745, '정이': 4746, '밑': 4747, '후반': 4748, '택': 4749, '냉장고': 4750, '하천': 4751, '감상': 4752, '조리': 4753, '삼척': 4754, '웹툰': 4755, '휴게': 4756, '럭셔리': 4757, '앤지': 4758, '현직': 4759, '의제': 4760, 'imm': 4761, '속출': 4762, '등지': 4763, '초선': 4764, 'that': 4765, '비축': 4766, '노랗다': 4767, '박상현': 4768, '증원': 4769, '화산': 4770, '스코어': 4771, '표창': 4772, '김수한': 4773, '프리덤': 4774, '원더걸스': 4775, '장연주': 4776, '메트로폴리탄': 4777, '체크아웃': 4778, '목도리': 4779, '에디': 4780, '스탁론': 4781, '한창': 4782, '차익': 4783, '해드리다': 4784, '입수': 4785, '민감하다': 4786, '서면': 4787, '옛': 4788, '제의': 4789, '흥': 4790, '퓨리': 4791, '비타민': 4792, '물방울': 4793, '애플리케이션': 4794, '자원봉사자': 4795, '넓다': 4796, '책정': 4797, '복잡하다': 4798, '재미': 4799, '이라크': 4800, '팔리다': 4801, '포장': 4802, '국영': 4803, '수여': 4804, '지니다': 4805, '관건': 4806, '다해': 4807, '화소': 4808, '주최': 4809, '견디다': 4810, '뒤지다': 4811, '밀접': 4812, '한국판': 4813, '출구': 4814, '재해': 4815, '답답하다': 4816, '당원': 4817, '복용': 4818, '공범': 4819, '복': 4820, '느껴지다': 4821, '발달': 4822, '올라서다': 4823, '포지션': 4824, '컨소시엄': 4825, '옷': 4826, '국내선': 4827, '재다': 4828, '환기': 4829, '읍': 4830, '인천광역시': 4831, '안산시': 4832, '고교': 4833, '제네시스': 4834, '색상': 4835, '진정하다': 4836, 'jyp': 4837, '모델링': 4838, '지나치다': 4839, '지고': 4840, '노동조합': 4841, '도지사': 4842, '의안': 4843, '죽음': 4844, '앞서다': 4845, '티슈': 4846, '업그레이드': 4847, '을지': 4848, '농심': 4849, '니스': 4850, '늦어지다': 4851, '달고나': 4852, '감지': 4853, '응찰': 4854, 'rd': 4855, 'is': 4856, '가짜': 4857, '국무부': 4858, '질의': 4859, '증후군': 4860, '화폭': 4861, '도산': 4862, '이스타항공': 4863, '결집': 4864, '이스라엘': 4865, '드라이버': 4866, '면담': 4867, '랜드': 4868, '포트': 4869, '역사상': 4870, '건설업': 4871, '경제학': 4872, '국토': 4873, '덜': 4874, '하우스': 4875, '쉽다': 4876, '출고': 4877, '살균': 4878, '장기간': 4879, '임산부': 4880, '주지': 4881, '적발': 4882, '부당하다': 4883, '일방': 4884, '메카': 4885, '노원': 4886, '창립': 4887, '밖에도': 4888, '파월': 4889, '인적': 4890, '폭염': 4891, '헤지': 4892, '사적': 4893, '획기': 4894, '증폭': 4895, '자동화': 4896, '오피스': 4897, '앞당기다': 4898, '어르신': 4899, '빼다': 4900, '학계': 4901, '타이틀': 4902, '특유': 4903, '승진': 4904, '나르다': 4905, '예능': 4906, '대여': 4907, '택배': 4908, '현충원': 4909, '도부': 4910, '효성': 4911, '발령': 4912, '샌프란시스코': 4913, '집권': 4914, '대답': 4915, '강행': 4916, '확립': 4917, '대하': 4918, '도발': 4919, '차갑다': 4920, '한국전력': 4921, 'pmi': 4922, '재차': 4923, '정형외과': 4924, '성균관대': 4925, '벌써': 4926, '소문나다': 4927, '만여': 4928, '철수': 4929, '중형': 4930, '정성': 4931, '보석': 4932, '병용': 4933, '결성': 4934, '메이커': 4935, '청춘': 4936, '비정상': 4937, '당내': 4938, '승용차': 4939, '광주시': 4940, '치이다': 4941, '자진': 4942, 'notrated': 4943, '질적': 4944, '그녀': 4945, '회화': 4946, '공관': 4947, '지지자': 4948, '산복도로': 4949, '사찰': 4950, '개강': 4951, 'kcgi': 4952, '허락': 4953, '모의투자': 4954, '압류': 4955, '생활용품': 4956, '신다': 4957, '스페셜': 4958, '명상': 4959, '인센티브': 4960, '예전': 4961, '웰': 4962, '응시': 4963, '모양새': 4964, '유진': 4965, '위상': 4966, '맥': 4967, '광장': 4968, '밝다': 4969, '흥행': 4970, '고용노동부': 4971, '깎다': 4972, '몫': 4973, '급성': 4974, '두번째': 4975, '폴': 4976, '주어지다': 4977, '응': 4978, '로드': 4979, '상시': 4980, '영어': 4981, '아람': 4982, '사법': 4983, '의문': 4984, '찾기': 4985, '로또': 4986, '환매': 4987, '은행권': 4988, '관제': 4989, '구내식당': 4990, '발현': 4991, '보행': 4992, '출력': 4993, '느낌': 4994, '불안감': 4995, '부착': 4996, '보험금': 4997, '로이터': 4998, '석유화학': 4999, '휴대': 5000, '파일': 5001, '무겁다': 5002, '내내': 5003, '찾아내다': 5004, '세탁': 5005, '정은경': 5006, '다각': 5007, '육박': 5008, '세무': 5009, 'vr': 5010, '엄중하다': 5011, '고생': 5012, '강구': 5013, '위성': 5014, '릴레이': 5015, '루스': 5016, '건조': 5017, '혈액': 5018, '누가': 5019, '이목': 5020, '프리': 5021, '스페이스': 5022, '크리에이터': 5023, '널': 5024, '냉': 5025, '업데이트': 5026, '거짓': 5027, '대우건설': 5028, '움직': 5029, '한국어': 5030, '좁히다': 5031, '면모': 5032, '요약': 5033, '복지관': 5034, '손목': 5035, '저자': 5036, '팩토리': 5037, '맡기다': 5038, '실사': 5039, '사스': 5040, '연어': 5041, '평론가': 5042, '동구': 5043, '개헌': 5044, 'table': 5045, '컵': 5046, '자고': 5047, '카니발': 5048, '혐오': 5049, '사실관계': 5050, '주호영': 5051, '심심타파': 5052, '최저임금': 5053, '영훈': 5054, '러브': 5055, '주무관': 5056, '토크쇼': 5057, '헤럴드': 5058, '각별': 5059, '컴투스': 5060, 'pos': 5061, '파주': 5062, '기점': 5063, '자아내다': 5064, '내장': 5065, '정해': 5066, '오지': 5067, '신원': 5068, '시일': 5069, '키이스트': 5070, '불량': 5071, '만회': 5072, '안과': 5073, '광부': 5074, '꼼꼼하다': 5075, '명절': 5076, '펫': 5077, '메르세데스': 5078, '스위스': 5079, '월스트리트저널': 5080, '천만원': 5081, '성인': 5082, '세기': 5083, '온스': 5084, '다이렉트': 5085, '행태': 5086, '불공정': 5087, '화장실': 5088, '되찾다': 5089, '까지의': 5090, '득표율': 5091, '구멍': 5092, '강수': 5093, '민관': 5094, '교민': 5095, '영화관': 5096, '고유': 5097, '용어': 5098, '달이': 5099, '여지': 5100, '수송': 5101, '알림': 5102, '유해': 5103, '아이파크': 5104, '회생': 5105, '마시스': 5106, '거주지': 5107, '경산': 5108, '품귀': 5109, '화이트': 5110, '감각': 5111, '특화된': 5112, '웨어': 5113, '홀': 5114, '분열': 5115, '가세': 5116, 'ibk': 5117, '문화유산': 5118, '키즈': 5119, '앓다': 5120, '업적': 5121, '패스트': 5122, '합격': 5123, '축적': 5124, '노고': 5125, '영기획': 5126, '디스': 5127, '라운지': 5128, '측근': 5129, '선생님': 5130, 'aa': 5131, '전매': 5132, '공판': 5133, '분자': 5134, '교육지원청': 5135, '어울림': 5136, '사채': 5137, '신재생에너지': 5138, 'lvmh': 5139, '자금난': 5140, '말르다': 5141, '세척': 5142, '약자': 5143, '적합': 5144, '야간': 5145, '대조': 5146, '지상파': 5147, '재산세': 5148, '궤도': 5149, 'kospi': 5150, '소환': 5151, '압수': 5152, '빨갛다': 5153, '러': 5154, '합당': 5155, '골목': 5156, '생겨나다': 5157, '코호트': 5158, '장미': 5159, '예의': 5160, '필로': 5161, '서식': 5162, '회차': 5163, '모니터': 5164, '최태원': 5165, '숭실대': 5166, '순천향대': 5167, '동작구': 5168, '가산': 5169, '렌터카': 5170, '양천구': 5171, '미소': 5172, '커패시터': 5173, '치타': 5174, '레인': 5175, '강문규': 5176, '존박': 5177, 'eci': 5178, '부캐': 5179, '확성기': 5180, '박새': 5181, '김희애': 5182, '코브라': 5183, '지구대': 5184, '발작': 5185, '준불연': 5186, '중개': 5187, '쾌적하다': 5188, '익스': 5189, '나볼': 5190, '머티리얼즈': 5191, '울리다': 5192, '당연하다': 5193, '특단': 5194, '외환위기': 5195, '정규': 5196, '고맙다': 5197, '이스터': 5198, '다섯': 5199, '항목': 5200, '재계': 5201, '해운': 5202, '남선': 5203, '밥캣': 5204, '일치': 5205, '닉': 5206, '바쁘다': 5207, '흔하다': 5208, '거대': 5209, '과잉': 5210, '초록': 5211, '옆': 5212, '공정위': 5213, '들여다보다': 5214, '시상식': 5215, 'ecb': 5216, '통화정책': 5217, '공기업': 5218, '타인': 5219, '사우디아라비아': 5220, '주석': 5221, '죠': 5222, '그때': 5223, '섬유': 5224, '국책': 5225, '꾸리다': 5226, '사관': 5227, '가액': 5228, '드론': 5229, '구체화': 5230, '양대': 5231, '일회용': 5232, '복구': 5233, '계단': 5234, '폴리': 5235, '공연예술': 5236, '호르무즈': 5237, '노총': 5238, 'yoy': 5239, '미스터': 5240, '심해지다': 5241, '머큐리': 5242, '대다수': 5243, '업황': 5244, '주일': 5245, '레이더': 5246, '의석': 5247, '품다': 5248, '정상회담': 5249, '거치': 5250, '쌍용차': 5251, '외면': 5252, '고려대': 5253, '발인': 5254, '동일': 5255, '우세하다': 5256, '작동': 5257, 'cc': 5258, '금리인하': 5259, '열매': 5260, '기탁': 5261, '일도': 5262, '뮤직': 5263, '프린팅': 5264, '목동': 5265, '긴장감': 5266, '부리다': 5267, '규칙': 5268, '아이엠': 5269, '세분': 5270, '국적': 5271, '출입구': 5272, '셰프': 5273, '등기': 5274, '호도': 5275, '물러나다': 5276, '치유': 5277, '커뮤니케이션': 5278, '마마': 5279, '고양': 5280, '편집': 5281, 'from': 5282, '잠재': 5283, '캄보디아': 5284, '병실': 5285, '선출': 5286, '워터': 5287, '보답': 5288, '창호': 5289, 'vc': 5290, '흥분': 5291, 'jtbc': 5292, '조선업': 5293, '보훈': 5294, '청구권': 5295, '억뷰': 5296, '하이마트': 5297, '야생동물': 5298, '수능': 5299, '광진구': 5300, '최우수': 5301, '고흥': 5302, 'st': 5303, '컨트롤': 5304, '인치': 5305, '도세': 5306, '으론': 5307, '이건': 5308, '까지도': 5309, '정제': 5310, '참다': 5311, '남용': 5312, '오션': 5313, '휘': 5314, '스와프': 5315, '구제': 5316, '약화': 5317, '적기': 5318, '여름철': 5319, '림': 5320, '에겐': 5321, '픽업': 5322, '하단': 5323, 'gb': 5324, '단가': 5325, '파산': 5326, '어음': 5327, '바람직하다': 5328, '좋아지다': 5329, '압력': 5330, '가져오다': 5331, '소중하다': 5332, '인지도': 5333, 'ktx': 5334, '포항': 5335, '가리다': 5336, '전산': 5337, '컨텐츠': 5338, '실리': 5339, '컨퍼런스': 5340, '깊이': 5341, '치우다': 5342, '싸우다': 5343, '개교': 5344, '마주': 5345, '광역시': 5346, '맛있다': 5347, '차종': 5348, '떼다': 5349, '여권': 5350, '재활': 5351, '코인': 5352, '유아': 5353, '소니': 5354, '사재기': 5355, '재직': 5356, '어워드': 5357, '피고인': 5358, '죄': 5359, '타고': 5360, 'pd': 5361, '테러': 5362, '환수': 5363, '해설': 5364, '활약': 5365, '특강': 5366, '생중계': 5367, '공백': 5368, '연설': 5369, '고향': 5370, '유감': 5371, '험지': 5372, '수렴': 5373, '로고': 5374, '가이드': 5375, '카자흐스탄': 5376, '피트니스': 5377, '갤러리아': 5378, '사로자다': 5379, '나란하다': 5380, '윤리': 5381, '또다른': 5382, '사업인': 5383, '문턱': 5384, '끊임없다': 5385, '개인정보': 5386, '티켓': 5387, '입자': 5388, '적금': 5389, '찾아보다': 5390, '탐사': 5391, '동맹국': 5392, 'as': 5393, '낳다': 5394, '재의': 5395, '메일': 5396, '탈락': 5397, '뉴타운': 5398, '전자기기': 5399, '미사': 5400, '특보': 5401, '보전': 5402, '간소화': 5403, 'pr': 5404, '세탁기': 5405, 'bnk': 5406, '정기예금': 5407, '정복': 5408, '반값': 5409, 'pf': 5410, '불발': 5411, '뮤직비디오': 5412, '강동': 5413, 'filter': 5414, '생방송': 5415, '한강': 5416, '헌법': 5417, 'edgc': 5418, '양도': 5419, 'kbs': 5420, '최강': 5421, '말씀드리다': 5422, '에서부터': 5423, '열악하다': 5424, '소득세': 5425, '의결권': 5426, '엔씨소프트': 5427, '기쁘다': 5428, '고개': 5429, '공통': 5430, '되돌리다': 5431, '레고': 5432, '상급': 5433, '정당성': 5434, '입히다': 5435, '리뉴얼': 5436, '모터': 5437, '전과': 5438, '순이': 5439, '실력': 5440, '상금': 5441, '므누신': 5442, '사이즈': 5443, '복수': 5444, '독보': 5445, '생기': 5446, '관세': 5447, '임팩트': 5448, '원단': 5449, '이나마': 5450, '이냐': 5451, '터치': 5452, '발판': 5453, '먹거리': 5454, '미코': 5455, 'cctv': 5456, '등록증': 5457, '실체': 5458, '루': 5459, '장시간': 5460, '선두': 5461, '초소': 5462, '보안법': 5463, '동국제강': 5464, '추억': 5465, '계약서': 5466, '방향성': 5467, '엄격하다': 5468, '기상': 5469, '출국': 5470, '유시민': 5471, '신조': 5472, '장병': 5473, '뿌리다': 5474, '일수': 5475, 'iot': 5476, '가솔린': 5477, '꼽': 5478, '굳다': 5479, '전단': 5480, '다세대': 5481, '증액': 5482, '산림청': 5483, '따지다': 5484, '거제': 5485, 'kcc': 5486, '구진': 5487, '칠': 5488, '마포구': 5489, '전사': 5490, '엠에스': 5491, '셀러': 5492, '보좌': 5493, '리기': 5494, '사모': 5495, '리브': 5496, '일체': 5497, '죽이다': 5498, '원고': 5499, '홀로': 5500, '비치다': 5501, '실로': 5502, '해외여행': 5503, '이주': 5504, '패': 5505, '백서': 5506, '약사': 5507, '사죄': 5508, '생활비': 5509, '트이다': 5510, '국회의장': 5511, '농도': 5512, '브레인': 5513, '터널': 5514, '부응': 5515, '절벽': 5516, '감히': 5517, '명백하다': 5518, '파이어': 5519, '유공': 5520, '날벼락': 5521, '이율': 5522, '대게': 5523, '부끄럽다': 5524, 'pba': 5525, '과당': 5526, '가루': 5527, '성년': 5528, '냉각': 5529, '선우': 5530, '포부': 5531, '벨트': 5532, '유효하다': 5533, '확률': 5534, 'roe': 5535, '토론회': 5536, '황금': 5537, '탁월하다': 5538, '궁금하다': 5539, '객관': 5540, '경색': 5541, '장내': 5542, '손쉽다': 5543, '멀티': 5544, '알미늄': 5545, '순천': 5546, '지리': 5547, '영양소': 5548, '남녀': 5549, 'etn': 5550, '배다': 5551, '멘토링': 5552, '알리': 5553, '맨': 5554, 'sp': 5555, '즐겁다': 5556, '옳다': 5557, '흔들다': 5558, '비즈': 5559, '웃돈': 5560, '오리온': 5561, 'lf': 5562, '진동': 5563, '싸움': 5564, '군산': 5565, '로이': 5566, 'fta': 5567, '상이': 5568, '말레이시아': 5569, '산소': 5570, '대주': 5571, '리딩': 5572, '수위': 5573, '먹이': 5574, '인베스트먼트': 5575, '기각': 5576, '주신': 5577, '신한카드': 5578, '가져가다': 5579, '상사': 5580, '입성': 5581, '미사일': 5582, '비결': 5583, '돌풍': 5584, '참배': 5585, '퓨얼': 5586, '현저': 5587, '반성': 5588, '폐업': 5589, '체력': 5590, '씨티': 5591, '상보': 5592, '실습': 5593, '내려오다': 5594, '유류': 5595, '지로': 5596, '악재': 5597, '주유소': 5598, '당당하다': 5599, '나쁘다': 5600, 'lte': 5601, '방사': 5602, '일인': 5603, '재현': 5604, '계해': 5605, '질서': 5606, '학부모': 5607, '가득하다': 5608, '모씨': 5609, '휴무': 5610, '장례식': 5611, '병동': 5612, '견본주택': 5613, '충성': 5614, '유인': 5615, '레시피': 5616, 'ic': 5617, '휩싸이다': 5618, '점주': 5619, '만인': 5620, '텃밭': 5621, '서점': 5622, '하원': 5623, '뒤따르다': 5624, '이자율': 5625, '한지': 5626, '모비스': 5627, '대웅제약': 5628, '식량': 5629, '둘러보다': 5630, '군수': 5631, '실용': 5632, '세미나': 5633, '의왕': 5634, '불꽃': 5635, '대립': 5636, 'have': 5637, '비서실': 5638, '게이': 5639, '국무위원': 5640, '피싱': 5641, '기상청': 5642, '예보': 5643, 'coronavirus': 5644, '일감': 5645, '워킹': 5646, '빈도': 5647, 'px': 5648, '불륜': 5649, '표본': 5650, '분식회계': 5651, '고민정': 5652, '스콧': 5653, '공연장': 5654, '임영웅': 5655, 'papr': 5656, '종교시설': 5657, '새누리당': 5658, '노동신문': 5659, '윤화섭': 5660, '최양락': 5661, '키리졸브': 5662, '호연': 5663, '초원': 5664, '이두희': 5665, '김병진': 5666, '최준': 5667, 'kbf': 5668, '간행물': 5669, '뽕': 5670, '카슨': 5671, '대숲': 5672, '샵스': 5673, '경찰견': 5674, '고어텍스': 5675, '워커힐': 5676, '신혼여행': 5677, '이문세': 5678, '티맥스': 5679, '활화산': 5680, '승급': 5681, 'gn': 5682, '절대평가': 5683, '더디다': 5684, '컴': 5685, '연초': 5686, '골': 5687, '누': 5688, '차리다': 5689, '잊다': 5690, '팹': 5691, '인텔': 5692, '심정': 5693, '하니': 5694, '무한': 5695, '개관': 5696, '기일': 5697, '권장': 5698, '회계법인': 5699, '인체': 5700, '본점': 5701, '관계없이': 5702, '자라다': 5703, '호전': 5704, '뱀': 5705, '보탬': 5706, '아이스크림': 5707, '무조건': 5708, '공부': 5709, '법조': 5710, '기인': 5711, '환전': 5712, '버전': 5713, '론칭': 5714, '얼어붙다': 5715, '풀리다': 5716, '전례': 5717, '앞세우다': 5718, '년층': 5719, '도매': 5720, '불러일으키다': 5721, '체온': 5722, 'u': 5723, '케이엠': 5724, '스탁': 5725, '박하다': 5726, '구비': 5727, '빠져나가다': 5728, 'cdc': 5729, 'covid': 5730, '전신': 5731, '랜선': 5732, '출퇴근': 5733, '민족': 5734, '외형': 5735, '램프': 5736, '제넥신': 5737, '끈': 5738, '닛': 5739, '굉장하다': 5740, '융': 5741, '신천지예수교': 5742, '반장': 5743, '한컴': 5744, '비리': 5745, '요리': 5746, '감찰': 5747, '한쪽': 5748, '귀가': 5749, '무리': 5750, '순수': 5751, '속기': 5752, '초등학생': 5753, '낙관': 5754, '예년': 5755, '형상': 5756, '돼지': 5757, '수협': 5758, '명도': 5759, '아반떼': 5760, '누군가': 5761, '지체': 5762, '유권해석': 5763, '안해': 5764, '감자': 5765, '산책': 5766, '속초': 5767, '쏟아내다': 5768, '인수합병': 5769, '안랩': 5770, '달아오르다': 5771, '벌금형': 5772, '면허': 5773, '느리다': 5774, '만전': 5775, '요원': 5776, 'nhn': 5777, '부스': 5778, '고서': 5779, '메리어트': 5780, '양보': 5781, '해안': 5782, '푸른': 5783, '부원장': 5784, '촌': 5785, '다녀가다': 5786, '진상': 5787, 'anti': 5788, '부활': 5789, '수년': 5790, '색채': 5791, '넘어가다': 5792, '소녀': 5793, '유흥': 5794, '교차': 5795, '시바': 5796, '중반': 5797, '적임': 5798, '대원': 5799, '우편': 5800, 'vi': 5801, '데드': 5802, '반격': 5803, '명당': 5804, '남구': 5805, '한양대': 5806, '초토화': 5807, '도박': 5808, '일산': 5809, '괴리율': 5810, '해군': 5811, '이용수': 5812, '중구청': 5813, 'csi': 5814, '방류': 5815, '한양': 5816, '장흥': 5817, '권역': 5818, '택지': 5819, '문구': 5820, '게다가': 5821, '무리하다': 5822, '불필요하다': 5823, '녹십자': 5824, '코미': 5825, '외인': 5826, '청취': 5827, '바르다': 5828, '유급': 5829, '장착': 5830, '가파른': 5831, '기분': 5832, '성하다': 5833, '관여': 5834, '세계보건기구': 5835, '샐러드': 5836, '가성': 5837, '정당하다': 5838, '동양': 5839, '나뉘다': 5840, '정해진': 5841, '라가': 5842, '모자': 5843, '머신': 5844, '세운': 5845, '불가피': 5846, '전방': 5847, '호기': 5848, '영위': 5849, '부가가치': 5850, '미약': 5851, '꾀': 5852, '해변': 5853, '심장': 5854, '창작': 5855, '마비': 5856, '가득': 5857, '유나이티드': 5858, '국무회의': 5859, '우승': 5860, '원스톱': 5861, '개원': 5862, '자신감': 5863, '은마': 5864, '스크린': 5865, '에어': 5866, '유가족': 5867, '발목': 5868, '자도': 5869, '도록': 5870, '네트웍': 5871, '구속기소': 5872, '극심하다': 5873, '들리다': 5874, '국세': 5875, '진로': 5876, '수산': 5877, '산이': 5878, '상기': 5879, '조금씩': 5880, '성도': 5881, '자릿수': 5882, '촛불': 5883, 'lcc': 5884, '산다': 5885, '이효리': 5886, '통신망': 5887, '환승': 5888, '널리': 5889, '가칭': 5890, '사도': 5891, '이어진': 5892, '진주': 5893, 'new': 5894, '급량': 5895, '동네': 5896, '분포': 5897, '기아': 5898, '터미널': 5899, '셋': 5900, '자로': 5901, '우량': 5902, '골드': 5903, '지방간': 5904, '게시판': 5905, '한테': 5906, '손태': 5907, '랜드마크': 5908, '서명': 5909, '단어': 5910, '워': 5911, '하량': 5912, '옥션': 5913, '입학': 5914, '임신': 5915, '심각해지다': 5916, 'mbk': 5917, '전해': 5918, '감추다': 5919, '유통업체': 5920, '수칙': 5921, '미국인': 5922, '악의': 5923, '전기통신': 5924, '양극화': 5925, '충격파': 5926, '입시': 5927, '야구': 5928, '남도': 5929, '밀다': 5930, '곱다': 5931, '공표': 5932, '식물': 5933, '다이오드': 5934, '침실': 5935, '폴드': 5936, '조중훈': 5937, '래미안': 5938, '기장군': 5939, '자격증': 5940, '사회보장': 5941, '경비원': 5942, '상대방': 5943, '내려놓다': 5944, '강릉': 5945, '물의': 5946, '수색': 5947, '교통량': 5948, '헷지': 5949, '검경': 5950, '서치': 5951, '별다르다': 5952, '태우다': 5953, '의정부': 5954, '제언': 5955, '덕': 5956, '근접하다': 5957, '흡수': 5958, 'dna': 5959, '아무리': 5960, '경향': 5961, '함유량': 5962, '포스코건설': 5963, '놀이터': 5964, '장하다': 5965, '최씨': 5966, '원화': 5967, '신선하다': 5968, '시리아': 5969, '읽히다': 5970, '항공권': 5971, '번의': 5972, '기획전': 5973, '팩': 5974, '이커머스': 5975, '직영': 5976, '차입': 5977, '밀레': 5978, '숨': 5979, '성은': 5980, '최상': 5981, '적응': 5982, '저축': 5983, '소수': 5984, '소위': 5985, '밀착': 5986, '마카오': 5987, '필드': 5988, '전투': 5989, '존경': 5990, '원자': 5991, '언어': 5992, '만날': 5993, '책임지다': 5994, '단수': 5995, '두려움': 5996, '성모': 5997, '선명하다': 5998, '벨벳': 5999, '천연': 6000, '닷컴': 6001, '액수': 6002, '발효': 6003, '도급': 6004, 'cm': 6005, '특허청': 6006, '이상인': 6007, '유산': 6008, '해고': 6009, '명목': 6010, '계약금': 6011, '견제': 6012, '온천': 6013, '용이하다': 6014, '날개': 6015, '무효': 6016, '클린': 6017, '홍해': 6018, '밀가루': 6019, '첫째': 6020, '딥': 6021, '산학': 6022, '화성시': 6023, '빈틈': 6024, '민선': 6025, '시달리다': 6026, '사은': 6027, '집안': 6028, '복무': 6029, '오락': 6030, '미스': 6031, '실업률': 6032, '폭넓다': 6033, '제일제당': 6034, '스윙': 6035, '닿다': 6036, '그래도': 6037, '아쉬움': 6038, '내비': 6039, '키친': 6040, '미아': 6041, '지청': 6042, '제국주의': 6043, '스타트': 6044, '플랜': 6045, '실정': 6046, '레스토랑': 6047, '몰리': 6048, '영등포': 6049, '주춤': 6050, '샷': 6051, '호수': 6052, '메신저': 6053, '전주시': 6054, '천만': 6055, '경제지표': 6056, '경찰청장': 6057, '근절': 6058, '트루': 6059, '폭도': 6060, '닐슨': 6061, '타깃': 6062, '요망': 6063, '참석자': 6064, '담배': 6065, 'euv': 6066, '치닫다': 6067, '내륙': 6068, '프로비': 6069, '재택': 6070, '수호': 6071, '셋값': 6072, '아일랜드': 6073, '광교': 6074, '벽': 6075, '아주대': 6076, '기블리': 6077, '핀란드': 6078, '우스': 6079, '막말': 6080, '김상수': 6081, '김건모': 6082, '완주': 6083, '그대': 6084, '오세훈': 6085, '오류': 6086, '박대성': 6087, '정수': 6088, '경찰관': 6089, '팔레스타인': 6090, '박병국': 6091, '뭉치다': 6092, '시민운동': 6093, '아산': 6094, '농담': 6095, '윤상현': 6096, '낙서': 6097, '소란': 6098, '다툼': 6099, '이닝': 6100, '살수차': 6101, '진작': 6102, '신선': 6103, '비디오': 6104, '굿': 6105, '고급스럽다': 6106, '보드': 6107, '사운드': 6108, '소매': 6109, '총동원': 6110, '틀다': 6111, '재미있다': 6112, '진원': 6113, '헝가리': 6114, '클리': 6115, '식물성': 6116, '겁니다': 6117, '전선': 6118, '한동안': 6119, 'ebs': 6120, '필름': 6121, '잼': 6122, '미션': 6123, '카테고리': 6124, '예감': 6125, '스팀': 6126, '조인트': 6127, '적히다': 6128, '지주회사': 6129, '닭': 6130, '정산': 6131, '쟁점': 6132, '녹취록': 6133, '성사': 6134, '파괴': 6135, '기차': 6136, '다라': 6137, '김종': 6138, '무인': 6139, '불가': 6140, '동료': 6141, '쌍용': 6142, '관공서': 6143, '뿐이다': 6144, '김성훈': 6145, '월물': 6146, '외치다': 6147, '학술지': 6148, '정선': 6149, '증여': 6150, '파리': 6151, '부다': 6152, '소규모': 6153, '년생': 6154, '왜곡': 6155, '파운드리': 6156, 'yg': 6157, '부활절': 6158, '마포': 6159, 'jw': 6160, '재학': 6161, '털다': 6162, '잡': 6163, '자칫': 6164, '구해': 6165, '적어도': 6166, '대결': 6167, '카타르': 6168, '억울하다': 6169, '맘': 6170, '짓': 6171, '유흥업소': 6172, '현명하다': 6173, '국난': 6174, '교습': 6175, '전인': 6176, '싸이': 6177, '만료': 6178, '아무렇다': 6179, '가늠': 6180, '문제해결': 6181, '불교': 6182, '큐브': 6183, '전진': 6184, '경감': 6185, '엄정하다': 6186, '메이트': 6187, '신종플루': 6188, '헤지펀드': 6189, '여행객': 6190, '브릿지': 6191, '관심사': 6192, '천장': 6193, '연루': 6194, '지적도': 6195, '농어촌': 6196, '재학생': 6197, '그만두다': 6198, '승무원': 6199, '공개시장': 6200, '장민호': 6201, '싣다': 6202, '신천지교회': 6203, '송구': 6204, '옹호': 6205, '코웨이': 6206, '서울시장': 6207, '입학식': 6208, '핏': 6209, '미터': 6210, '아웃도어': 6211, 'mb': 6212, '주한': 6213, '중독': 6214, '용다': 6215, '이국': 6216, '스러운': 6217, '해리스': 6218, '세월호': 6219, '반포동': 6220, '만은': 6221, '꾸러미': 6222, '베이직': 6223, '신용거래': 6224, '예선': 6225, '인종차별': 6226, '미군기지': 6227, '귀농': 6228, '출판사': 6229, '킹크랩': 6230, '정윤희': 6231, '팽현숙': 6232, '박준형': 6233, '윤정희': 6234, '피케티': 6235, '뎀셀브즈': 6236, '이경길': 6237, 'qss': 6238, '도파민': 6239, '종합소득세': 6240, '이상섭': 6241, '가창력': 6242, '박승원': 6243, '쟈니': 6244, '유승호': 6245, '복면': 6246, '혼성': 6247, '이태': 6248, '머그': 6249, '머그샷': 6250, '대표팀': 6251, '티베로': 6252, '이민자': 6253, '그린피스': 6254, '소풍': 6255, '일병': 6256, '샤프트': 6257, '회천': 6258, '관광지': 6259, '정세': 6260, '서두르다': 6261, '혼자': 6262, '테이': 6263, '조성하': 6264, '유물': 6265, '기원': 6266, '유연하다': 6267, '저변': 6268, '이야': 6269, '핸들': 6270, '에야': 6271, '에게서': 6272, '만으로도': 6273, 'cp': 6274, '프리미어': 6275, '기술이전': 6276, '대세': 6277, '능동': 6278, '망하다': 6279, '일명': 6280, '포레스트': 6281, '강서': 6282, '과연': 6283, '대국민': 6284, '도래': 6285, 'map': 6286, '서프라이즈': 6287, '부연': 6288, '들어주다': 6289, '희토류': 6290, '일괄': 6291, '식료품': 6292, '외관': 6293, '띄우다': 6294, '네덜란드': 6295, '얼라이언스': 6296, '중위': 6297, '최첨단': 6298, '날짜': 6299, '파손': 6300, '노래방': 6301, '팅': 6302, '명동': 6303, '중복': 6304, '인덱스': 6305, '별세': 6306, '공휴일': 6307, '탈당': 6308, '중앙정부': 6309, '벚꽃': 6310, '절개': 6311, '입건': 6312, '이씨': 6313, '두렵다': 6314, '당기다': 6315, '끊기다': 6316, '덩달아': 6317, '원점': 6318, '문화재': 6319, '데이터베이스': 6320, '과학기술원': 6321, '취한': 6322, '위성정당': 6323, '황제': 6324, '다이어트': 6325, '라스베이거스': 6326, '집합': 6327, '메이': 6328, '우드': 6329, '크루즈선': 6330, '대체로': 6331, '오산': 6332, '동탄': 6333, '막판': 6334, '제동': 6335, '숙': 6336, '취': 6337, '하나로마트': 6338, '백혈병': 6339, '척': 6340, 'gv': 6341, '상수': 6342, '트뤼': 6343, '비만': 6344, '추측': 6345, '무산': 6346, '다가가다': 6347, '생물학': 6348, 'an': 6349, '녹음': 6350, '베스트셀러': 6351, '정서': 6352, '학급': 6353, '아이돌': 6354, '수갑': 6355, '연수구': 6356, '잠재력': 6357, '비상교육': 6358, '양수': 6359, '테라스': 6360, '합계': 6361, '충': 6362, '공직선거법': 6363, '매뉴얼': 6364, '집다': 6365, '도대체': 6366, '창사': 6367, '해협': 6368, '등재': 6369, '내면': 6370, '출입국': 6371, '급변': 6372, '평생교육': 6373, '생년': 6374, '민정': 6375, '내려지다': 6376, '근원': 6377, '기업체': 6378, '태안': 6379, '소비자보호': 6380, '상점': 6381, '두루': 6382, '미정': 6383, '대부': 6384, '살인': 6385, '탑승객': 6386, '민감': 6387, '설훈': 6388, '교대': 6389, '기숙사': 6390, '유튜버': 6391, '스루': 6392, '동해안': 6393, 'signal': 6394, '양적': 6395, '종근당': 6396, '씨엘': 6397, '방수': 6398, '정석': 6399, '로템': 6400, '래빗': 6401, '보은': 6402, '탐욕': 6403, '태권도': 6404, '공시가격': 6405, '턱': 6406, '일본인': 6407, '관악': 6408, 'kodex': 6409, '묘역': 6410, '게임빌': 6411, '부교': 6412, '안성시': 6413, 'dbms': 6414, '공익': 6415, '미달': 6416, '배임': 6417, '벌점': 6418, '불이익': 6419, '에게만': 6420, '탈출': 6421, '책임감': 6422, '재량': 6423, 'ktb': 6424, '화답': 6425, '잉여': 6426, '합격자': 6427, '심층': 6428, '손해배상': 6429, '분만': 6430, '함량': 6431, '알아보다': 6432, '실리다': 6433, '모의': 6434, '전가': 6435, '유례': 6436, '명소': 6437, '손길': 6438, '동작': 6439, '잡지': 6440, '가보다': 6441, '환산': 6442, '타임': 6443, '취해': 6444, '환호': 6445, '다우': 6446, '워런': 6447, '더존': 6448, '템': 6449, '올리브영': 6450, 'soul': 6451, '모주': 6452, '와도': 6453, '신의': 6454, '오해': 6455, '긴급하다': 6456, '가이드라인': 6457, '정보기술': 6458, 'sh': 6459, '촉각': 6460, '의학': 6461, '경과': 6462, '대웅': 6463, '물동량': 6464, '인터내셔널': 6465, '점진': 6466, '목숨': 6467, '초대': 6468, '엔씨': 6469, '도어': 6470, '저축은행': 6471, '세미': 6472, '외국어': 6473, '소아': 6474, '조용하다': 6475, '피플': 6476, '만족': 6477, '여신': 6478, '국가보안법': 6479, '정무': 6480, '이르렀다': 6481, '셋째': 6482, '자형': 6483, '증빙': 6484, '작곡': 6485, '몸값': 6486, '태스크포스': 6487, '해마다': 6488, '틴': 6489, '경제정책': 6490, '런던': 6491, '지방정부': 6492, '끼다': 6493, '징수': 6494, '파우치': 6495, '가해': 6496, '화장': 6497, '원자력': 6498, '방출': 6499, '트랜스': 6500, '쌍': 6501, '치킨': 6502, '과자': 6503, '카지노': 6504, '날아가다': 6505, '마력': 6506, '제일모직': 6507, '펄': 6508, '어비스': 6509, '노동부': 6510, '산지': 6511, '패밀리': 6512, '태화강': 6513, '죽': 6514, '내주다': 6515, '일정하다': 6516, '토스': 6517, '오디오북': 6518, '토마토': 6519, '가든': 6520, 'by': 6521, '복판': 6522, '염태영': 6523, '마이크': 6524, '안도': 6525, '효력': 6526, '스님': 6527, 'korea': 6528, '밍': 6529, '안착': 6530, '결과물': 6531, '관람객': 6532, '불확실하다': 6533, '명성': 6534, 'won': 6535, '지경': 6536, '그중': 6537, '화요일': 6538, '조처': 6539, '자가진단': 6540, '실명': 6541, '조심': 6542, '협회장': 6543, '안위': 6544, 'virus': 6545, '웃음': 6546, '록시': 6547, '동계': 6548, '횡단보도': 6549, '예정일': 6550, '식다': 6551, '삼고': 6552, '연인': 6553, '새마을금고': 6554, '얀': 6555, '항소심': 6556, '시신': 6557, '실상': 6558, '보상금': 6559, '해운대': 6560, '배후': 6561, '순식간': 6562, '달새': 6563, '부글부글': 6564, '기흥구': 6565, '마약': 6566, '한세상': 6567, '양형': 6568, '캔버스': 6569, '삼촌': 6570, '전월세': 6571, '마이스': 6572, '농수산': 6573, '농협카드': 6574, '녹색': 6575, '상수도': 6576, '빌라': 6577, '직권': 6578, '종단': 6579, '동남권': 6580, '황산': 6581, '생생하다': 6582, 'gtx': 6583, '벨': 6584, '퍼포먼스': 6585, '드라이빙': 6586, '가죽': 6587, 'main': 6588, '레몬': 6589, '크리스탈': 6590, '세법': 6591, '환영': 6592, '끼리': 6593, '테라': 6594, '다운로드': 6595, '액션': 6596, '모리': 6597, '학력': 6598, '누리집': 6599, '현물': 6600, '배지': 6601, 'https': 6602, '국비': 6603, '고소하다': 6604, '한복': 6605, '강아지': 6606, '급상승': 6607, '딜러': 6608, '짚다': 6609, '근처': 6610, '현대인': 6611, '간식': 6612, '독성': 6613, '편지': 6614, 'hd': 6615, '여겨지다': 6616, '로만': 6617, 'se': 6618, '다투다': 6619, '인의': 6620, '비자': 6621, '웹사이트': 6622, '금융업': 6623, '보존': 6624, '악성': 6625, 'one': 6626, '원리': 6627, '수상자': 6628, '스티': 6629, '여행지': 6630, '봉': 6631, '급속하다': 6632, '붓다': 6633, '시장점유율': 6634, '한눈': 6635, '편집국': 6636, '물자': 6637, '규범': 6638, '면세': 6639, '연중': 6640, '뒷': 6641, '광화문': 6642, '없어지다': 6643, '연구기관': 6644, '페르소나': 6645, '감수': 6646, '르노': 6647, '취미': 6648, '유저': 6649, '대단하다': 6650, '약하다': 6651, '고열': 6652, '교도통신': 6653, '지층': 6654, '캠프': 6655, '공직': 6656, '무작위': 6657, '폐기': 6658, '국가채무': 6659, '남양주': 6660, '파이다': 6661, '과기부': 6662, '참모': 6663, '트림': 6664, '대법관': 6665, '역성': 6666, '전세기': 6667, '충실하다': 6668, '공공시설': 6669, '유정': 6670, '갱신': 6671, '정작': 6672, '압': 6673, '시계': 6674, '로비': 6675, '야기': 6676, '살포': 6677, '조각': 6678, '진학': 6679, '인종': 6680, '공중보건': 6681, '투약': 6682, '부총': 6683, '김치': 6684, '하나투어': 6685, '롱': 6686, '안동': 6687, '하이엔드': 6688, '무단이탈': 6689, '감경': 6690, '성산': 6691, '내미다': 6692, '챗봇': 6693, '권위': 6694, '이상은': 6695, '연습장': 6696, '극대': 6697, '매트리스': 6698, '전량': 6699, '생필품': 6700, '박원순': 6701, '의사결정': 6702, '의의': 6703, '나파': 6704, '유품': 6705, '연기금': 6706, 'bc': 6707, '부본': 6708, '까지로': 6709, '자원봉사': 6710, '고양시': 6711, '쓰리다': 6712, '프라': 6713, '사별': 6714, '랩스': 6715, '그나마': 6716, '소비재': 6717, '간사': 6718, '대목': 6719, '고구마': 6720, '번영': 6721, '은하수': 6722, '소유권': 6723, 'samsung': 6724, '성추행': 6725, '컨테이너': 6726, '완': 6727, '용평': 6728, '이코노미스트': 6729, '노르웨이': 6730, '오빠': 6731, '대두': 6732, '남방': 6733, '격의': 6734, '이해찬': 6735, '마닐라': 6736, '차비': 6737, 'wp': 6738, '닛케이지수': 6739, '원자재': 6740, '요양원': 6741, '블로그': 6742, '도덕': 6743, '알바': 6744, '대도시': 6745, '숨통': 6746, 'you': 6747, '엘리베이터': 6748, '완판': 6749, '파마': 6750, '컬투': 6751, '마이스터고': 6752, '원안': 6753, '가결': 6754, '방호복': 6755, '필요시': 6756, '조현아': 6757, '몰입': 6758, '사료': 6759, '수장': 6760, '창원시': 6761, '인연': 6762, '어쩌다': 6763, '뚫다': 6764, '몰아치다': 6765, 'iso': 6766, '불허': 6767, '개월새': 6768, '단호': 6769, 'mau': 6770, '박진영': 6771, '노무': 6772, '손꼽다': 6773, '김태년': 6774, '흡입': 6775, '외벽': 6776, '도쿄도': 6777, 'trs': 6778, '수제': 6779, '제안공': 6780, '분해': 6781, '래퍼': 6782, '솔직하다': 6783, '테트라': 6784, '시무': 6785, '친정': 6786, '의견서': 6787, '부통령': 6788, '위임': 6789, '샴페인': 6790, '회삿돈': 6791, '월일': 6792, '정열': 6793, '의욕': 6794, '테크노': 6795, '세단': 6796, '붉다': 6797, 'ybm': 6798, '지니': 6799, '확고하다': 6800, '주권': 6801, '파업': 6802, '농촌진흥청': 6803, '직급': 6804, '시력': 6805, '패소': 6806, '꼬집다': 6807, '전향': 6808, '특화': 6809, '다짐': 6810, '펀더': 6811, '설문': 6812, '원천': 6813, '아난': 6814, '만족하다': 6815, '일일이': 6816, '사이클': 6817, 'mc': 6818, '부영': 6819, '충당': 6820, '만으로는': 6821, '스티븐': 6822, '김천': 6823, '개점': 6824, '경제성장률': 6825, '신년사': 6826, '경차': 6827, '떠올리다': 6828, '고스': 6829, '환경부': 6830, '입소': 6831, '거세지다': 6832, '동남아시아': 6833, '갈아': 6834, '통관': 6835, '서포터즈': 6836, '어버이날': 6837, '갚다': 6838, '니켈': 6839, '구심': 6840, '보안요원': 6841, '녹화': 6842, '양자': 6843, '미지수': 6844, '미팅': 6845, '플렉스': 6846, '닛산': 6847, 'sbs': 6848, '총통': 6849, '정장': 6850, '도피': 6851, '전염': 6852, '마이크로소프트': 6853, '연골': 6854, '새다': 6855, '재사용': 6856, '치사': 6857, '도중': 6858, '증인': 6859, '김강': 6860, '안타': 6861, '화살': 6862, '해수부': 6863, '참사': 6864, '열흘': 6865, '두부': 6866, 'nhk': 6867, '기업가': 6868, '코미디': 6869, '셀프': 6870, '레이스': 6871, '근육': 6872, '께서는': 6873, '스트레스': 6874, '관장': 6875, '청주시': 6876, '어떠하다': 6877, '무디스': 6878, '남쪽': 6879, '서해': 6880, '주식회사': 6881, '유래': 6882, '엔화': 6883, '유니클로': 6884, '동산병원': 6885, '투자신탁': 6886, '패러다임': 6887, '부적절하다': 6888, '다나': 6889, '주부': 6890, '상단': 6891, '그래픽': 6892, '티몬': 6893, '차라리': 6894, '바텍': 6895, '견고하다': 6896, '휘발유': 6897, '포도': 6898, '노량진': 6899, '독거': 6900, '핵': 6901, '드래곤': 6902, '흘리다': 6903, '사드': 6904, '속이다': 6905, '지킴': 6906, '라서': 6907, '자전거': 6908, '성과급': 6909, '홍준표': 6910, '급부': 6911, '교실': 6912, '스카이': 6913, '시상': 6914, '대성': 6915, '음란물': 6916, '커다랗다': 6917, '시장조사': 6918, '특별법': 6919, '르': 6920, '캠코': 6921, '흑인': 6922, 'lp': 6923, '속옷': 6924, '낫다': 6925, '번역': 6926, '캐롯': 6927, '정시': 6928, '이체': 6929, '활발해지다': 6930, '컨': 6931, '세션': 6932, '자본금': 6933, '나중': 6934, '세수': 6935, '결심': 6936, '배상금': 6937, '정안': 6938, '옥': 6939, '장의': 6940, '지장': 6941, '관망': 6942, '여종': 6943, '로써': 6944, '달콤하다': 6945, '노바': 6946, '달러화': 6947, '국제선': 6948, 'are': 6949, 'day': 6950, '부패': 6951, '푼': 6952, 'not': 6953, '해남': 6954, '벨기에': 6955, 'scmp': 6956, '뉴런': 6957, '광진': 6958, 'border': 6959, '시보': 6960, '플랜트': 6961, '보태': 6962, '천안시': 6963, '리비아': 6964, '진지하다': 6965, '신입': 6966, '맥도날드': 6967, '대피': 6968, '금품': 6969, '이상설': 6970, '북적': 6971, '출금': 6972, '장려': 6973, '인더': 6974, 'cd': 6975, '볼보': 6976, '모래': 6977, '라이선스': 6978, '솔젠트': 6979, '되새기다': 6980, '폼': 6981, '지형': 6982, '상륙': 6983, '힐스테이트': 6984, 'edr': 6985, '괴롭히다': 6986, '창문': 6987, '반년': 6988, '임대차': 6989, '가을': 6990, '야권': 6991, '캔': 6992, '동맹': 6993, '판매업': 6994, '판다': 6995, '부수': 6996, '춤': 6997, '중심지': 6998, '컷오프': 6999, '라씨': 7000, '호국': 7001, '카앱': 7002, '교과': 7003, '서경원': 7004, '정찬': 7005, '탕진': 7006, '연우': 7007, '독수리': 7008, '냉매': 7009, '포진': 7010, '유재훈': 7011, '이진용': 7012, '태열': 7013, '로스팅': 7014, '환경오염': 7015, '만년': 7016, '혜림': 7017, '데이트': 7018, '균등': 7019, '오상': 7020, '홍성원': 7021, '최혜진': 7022, '류승범': 7023, '장경': 7024, '김수찬': 7025, '노지훈': 7026, '노련하다': 7027, '연행': 7028, '식민': 7029, '이원덕': 7030, '소등': 7031, '킬': 7032, '윤호': 7033, '구본혁': 7034, '순국선열': 7035, '인비저블': 7036, 'ay': 7037, '디너': 7038, '오리콘': 7039, '감람석': 7040, '기독교': 7041, '공로상': 7042, '차량기지': 7043, '미즈노': 7044, 'marketpoint': 7045, '묶이다': 7046, '글라스': 7047, '부적': 7048, '얹다': 7049, '수젠텍': 7050, '김현': 7051, '고액': 7052, '간격': 7053, '장수': 7054, '포괄': 7055, '감당': 7056, '수정구': 7057, '짐': 7058, '북구': 7059, '폭스바겐': 7060, '매번': 7061, '패스': 7062, '셀레늄': 7063, 'mg': 7064, '채소': 7065, '남지': 7066, '침투': 7067, '선배': 7068, '미추홀': 7069, '열심히': 7070, '익명': 7071, '주상': 7072, '항균': 7073, '수비대': 7074, '트리플': 7075, '육아': 7076, '아기': 7077, '패치': 7078, '자르다': 7079, '안기다': 7080, '친환': 7081, '분량': 7082, '기흥': 7083, '이바지': 7084, '그렇다고': 7085, '스포': 7086, '보도자료': 7087, '수소차': 7088, '페어': 7089, '소하': 7090, '노리': 7091, '에듀': 7092, '마저도': 7093, '독서': 7094, '어울리다': 7095, 'uae': 7096, '머': 7097, '에탄올': 7098, '유승민': 7099, '듀얼': 7100, '수상한': 7101, '우산': 7102, '해방': 7103, '침묵': 7104, '서서히': 7105, '낭종': 7106, '갓': 7107, '다우존스': 7108, '세무조사': 7109, '출격': 7110, '조종사': 7111, '국군': 7112, '반출': 7113, '유착': 7114, '곳도': 7115, '감기': 7116, '두통': 7117, '침': 7118, '도저히': 7119, 'cbs': 7120, '알파': 7121, '메모': 7122, '패럴림픽': 7123, '환하다': 7124, '전시관': 7125, '도너츠': 7126, '열정': 7127, '가급적': 7128, 'go': 7129, '수출입': 7130, '저조하다': 7131, '안양시': 7132, '사물인터넷': 7133, '크루즈': 7134, '발부': 7135, '골프장': 7136, '이수': 7137, 'kh': 7138, '까닭': 7139, '통치': 7140, '혼합': 7141, '실직': 7142, '영예': 7143, '체외': 7144, '선방': 7145, '적십자사': 7146, '만하': 7147, '사과문': 7148, 'jb': 7149, '제과': 7150, '증자': 7151, '역서': 7152, '수기': 7153, 'qr': 7154, '보살피다': 7155, '방한': 7156, '오차': 7157, '보령': 7158, '성폭행': 7159, '문화센터': 7160, 'gx': 7161, '겁': 7162, '생명공학': 7163, '사우나': 7164, '웰컴': 7165, '시인': 7166, '단연': 7167, '며칠': 7168, '행정안전부': 7169, '익산': 7170, '치과': 7171, '튼튼하다': 7172, '참고인': 7173, '단원': 7174, '달걀': 7175, '품평': 7176, '정해지다': 7177, '경상': 7178, '좌절': 7179, '극한': 7180, '해법': 7181, 'more': 7182, 'south': 7183, '전남도': 7184, '무안': 7185, '공작': 7186, '뇌물': 7187, 'or': 7188, '서울역': 7189, '주점': 7190, '관료': 7191, '명칭': 7192, '남자': 7193, '쥐다': 7194, '일꾼': 7195, '송파구': 7196, '수시로': 7197, '식별': 7198, '장단': 7199, '유니티': 7200, '일어서다': 7201, '벨로스': 7202, '과시': 7203, 'df': 7204, '연예인': 7205, '제명': 7206, '학살': 7207, '젊은이': 7208, '욕심': 7209, '기득권': 7210, '송파': 7211, '원정': 7212, '농작물': 7213, '오스트리아': 7214, '후문': 7215, 'matic': 7216, '자막': 7217, '사립': 7218, '손학규': 7219, '버거': 7220, '스윗': 7221, '전자팔찌': 7222, '교통사고': 7223, '소용돌이': 7224, '김대중': 7225, '상거래': 7226, '목선': 7227, '디즈니': 7228, '포상': 7229, '영경': 7230, '군포': 7231, '욕구': 7232, '혁통위': 7233, '독립운동': 7234, '내신': 7235, '할랄': 7236, '판촉': 7237, '박영선': 7238, '세련되다': 7239, '차감': 7240, 'ess': 7241, '저항': 7242, '이엠': 7243, '부도': 7244, '맛보다': 7245, '중론': 7246, '미흡하다': 7247, '그냥': 7248, '할증': 7249, '시큐리티': 7250, '능가': 7251, '핫': 7252, '필기': 7253, '코스피지수': 7254, '지방법원': 7255, '선재': 7256, '분간': 7257, '침입': 7258, '체내': 7259, '함유': 7260, '소로': 7261, '프레임': 7262, '다지다': 7263, '보류': 7264, '든지': 7265, '독특하다': 7266, '유로존': 7267, '중소형주': 7268, '매치': 7269, '입점해': 7270, '제이': 7271, '셜': 7272, '합': 7273, '옴': 7274, '등속': 7275, '올린다': 7276, '쓰기': 7277, '연구소장': 7278, '페트병': 7279, '수출입은행': 7280, '화두': 7281, '금통위': 7282, '곧바로': 7283, '알짜': 7284, '날다': 7285, '개체': 7286, '비비안': 7287, '사후': 7288, '시책': 7289, '상하': 7290, '자식': 7291, '피치': 7292, '팁': 7293, '표기': 7294, '괴롭힘': 7295, '베테': 7296, '소스': 7297, '운전면허증': 7298, '장갑': 7299, '국회의원선거': 7300, 'dgb': 7301, '양식': 7302, '골든타임': 7303, '처지': 7304, '메이크업': 7305, '벤치마크': 7306, '표결': 7307, '수첩': 7308, '연구자': 7309, '수신': 7310, '동반성': 7311, '유니온': 7312, '내시경': 7313, '방송인': 7314, '재건': 7315, '하루빨리': 7316, '편법': 7317, '대표자': 7318, '목재': 7319, '참전': 7320, '세워지다': 7321, '매개': 7322, '공문': 7323, '극적': 7324, '기름': 7325, '지속가능성': 7326, '감산량': 7327, '첨': 7328, '대법': 7329, '두르다': 7330, '자생': 7331, 'ar': 7332, '갑작스럽다': 7333, '서원': 7334, '미세': 7335, '비관': 7336, '주된': 7337, '기자간담회': 7338, '택했다': 7339, '주위': 7340, '논': 7341, '삼양식품': 7342, 'ds': 7343, '이튿날': 7344, '경제범죄': 7345, '견': 7346, '녹지': 7347, '실업자': 7348, '체질': 7349, '이연': 7350, '규명': 7351, '메드팩토': 7352, '제발': 7353, '어기다': 7354, '마산': 7355, '표심': 7356, '천억원': 7357, '후베이성': 7358, '오스': 7359, '모던': 7360, '바트': 7361, '공론': 7362, '펜트하우스': 7363, '이케아': 7364, '서남': 7365, '압승': 7366, '찍': 7367, '의자': 7368, '부치다': 7369, '혜안': 7370, '음식물': 7371, '방송통신': 7372, '민낯': 7373, '소유자': 7374, '승록': 7375, 'sci': 7376, '회식': 7377, '지뢰': 7378, '일손': 7379, '기질': 7380, '효소': 7381, '기념관': 7382, '이론': 7383, '오거돈': 7384, '미안하다': 7385, 'korean': 7386, '끔찍하다': 7387, '각지': 7388, '무렵': 7389, '세액': 7390, 'north': 7391, '빠뜨리다': 7392, '요한': 7393, '부닥치다': 7394, '언니': 7395, '법제사': 7396, '수강': 7397, 'city': 7398, '김호중': 7399, '속성': 7400, '지진': 7401, '곡선': 7402, '지성호': 7403, '위안화': 7404, '항원': 7405, '기하': 7406, '매직': 7407, '비록': 7408, '핵산': 7409, '스펙': 7410, '비트코인': 7411, '대입': 7412, '규격': 7413, '극도': 7414, '동바리': 7415, '윤곽': 7416, '사명': 7417, '인스타': 7418, '달려가다': 7419, '마세라티': 7420, '동방항공': 7421, '어쩌나': 7422, '음주운전': 7423, '치우치다': 7424, '강용석': 7425, '성윤': 7426, '마침내': 7427, '어우러지다': 7428, '하태경': 7429, '적폐': 7430, '대검': 7431, '낸싱': 7432, '컨벤션': 7433, '본의': 7434, '되돌아보다': 7435, '직계': 7436, '화공': 7437, '교과서': 7438, '쫓다': 7439, '안대': 7440, '마티': 7441, '띠': 7442, '불평등': 7443, '폐쇄회': 7444, '과천시': 7445, '볼턴': 7446, '사계절': 7447, '한식': 7448, '용수': 7449, '외적인': 7450, '바이든': 7451, '베네수엘라': 7452, '동아': 7453, '북남': 7454, '최정호': 7455, '우의': 7456, '훈훈하다': 7457, '정확성': 7458, '브런치': 7459, '이니': 7460, '줌': 7461, '김지혜': 7462, '세법개정안': 7463, '혹시': 7464, '리니지': 7465, '초보': 7466, '실어': 7467, '빵': 7468, '한두': 7469, '금일': 7470, '통신업': 7471, '이지현': 7472, '외적': 7473, '마당': 7474, '설날': 7475, '아이티': 7476, '소프트': 7477, '라면서': 7478, 'gm': 7479, '센트': 7480, '간편식': 7481, '계란': 7482, '에스티': 7483, '레이저': 7484, '사랑받다': 7485, 'mm': 7486, '기후': 7487, '미미하다': 7488, '플래그': 7489, '똑같다': 7490, '부서장': 7491, '파생상품': 7492, '전립선암': 7493, '무기한': 7494, '지은': 7495, '유쾌하다': 7496, '오름': 7497, '도울': 7498, '왕복': 7499, 'erp': 7500, '방법론': 7501, '오븐': 7502, '분투': 7503, '구동': 7504, '행정처분': 7505, '맥락': 7506, '예컨대': 7507, '유성': 7508, '캠퍼스': 7509, '독창': 7510, '정신건강': 7511, '포화': 7512, '전작': 7513, '미얀마': 7514, '닷새': 7515, '발족': 7516, '원주': 7517, '눈높이': 7518, '검수': 7519, '문자메시지': 7520, 'usb': 7521, '피트': 7522, '사용승인': 7523, '금지법': 7524, '성관계': 7525, '비법': 7526, '애니메이션': 7527, '토요일': 7528, '쿠션': 7529, '반중': 7530, '업로드': 7531, 'sw': 7532, '비누': 7533, '공군': 7534, '성심': 7535, '대화방': 7536, '여러가지': 7537, '특허권': 7538, '신인': 7539, '슬': 7540, '원본': 7541, '연주': 7542, 'ni': 7543, '해양수산부': 7544, '재심': 7545, '혈': 7546, '잠': 7547, '당해': 7548, '녹다': 7549, '각오': 7550, '살아오다': 7551, '흥미롭다': 7552, '보아': 7553, '시르다': 7554, '중국산': 7555, 'tsmc': 7556, 'skt': 7557, '구석': 7558, '씨아이': 7559, '시카고': 7560, '전라남도': 7561, '문학': 7562, '통행': 7563, '저지': 7564, '군부': 7565, '으로만': 7566, '케이피': 7567, '광범위하다': 7568, '우회': 7569, '지부': 7570, '훌쩍': 7571, '유주': 7572, '액티브': 7573, '천재': 7574, '삭제': 7575, '깔끔하다': 7576, '지엠': 7577, '베이스': 7578, '철거': 7579, '드릴': 7580, '경관': 7581, '각계': 7582, '특수성': 7583, '브리지': 7584, '오직': 7585, '전화통화': 7586, '리얼미터': 7587, '공존': 7588, '옥상': 7589, '안양': 7590, '다시다': 7591, '허브': 7592, '코퍼레이션': 7593, '후임': 7594, '과학자': 7595, '퀴즈': 7596, '스탠더드': 7597, '아픔': 7598, '광양': 7599, 'tk': 7600, '멀리': 7601, '거란': 7602, '쿠쿠': 7603, '칸': 7604, '본명': 7605, '슬기롭다': 7606, '반토막': 7607, '이보': 7608, '거짓말': 7609, '친일': 7610, '단숨': 7611, '크레딧': 7612, '금고': 7613, '왼쪽': 7614, '텐트': 7615, '단말': 7616, '식음': 7617, '김경민': 7618, '과대': 7619, '출산': 7620, '해상도': 7621, '요가': 7622, '단점': 7623, '한우': 7624, '외국인투자': 7625, '평형': 7626, '다리': 7627, '여기저기': 7628, '급속도': 7629, '스쿨': 7630, '정국': 7631, '부와': 7632, '감치': 7633, '남진': 7634, '발걸음': 7635, 'police': 7636, '사연': 7637, '전의': 7638, '선적': 7639, 'government': 7640, '시내버스': 7641, '여행사': 7642, '결실': 7643, '정법': 7644, '금도': 7645, '으로서의': 7646, '권익': 7647, '분위': 7648, '산발': 7649, 'cases': 7650, 'out': 7651, '완충': 7652, '집들이': 7653, '챔피언': 7654, '대인': 7655, '한남': 7656, '화학물질': 7657, '이승환': 7658, '뚜': 7659, '시드': 7660, '므': 7661, '라마': 7662, '금값': 7663, '관리종목': 7664, '고취': 7665, '탁셀': 7666, '포스터': 7667, '저력': 7668, 'usd': 7669, '강동구': 7670, '패혈증': 7671, '로열티': 7672, '유상': 7673, '수납': 7674, '조선대': 7675, '유통업': 7676, 'uam': 7677, '해외진출': 7678, '경악': 7679, '몰락': 7680, '이민': 7681, '개그': 7682, '틈': 7683, '영남대': 7684, '신뢰수준': 7685, '에어로졸': 7686, '우린': 7687, '불출': 7688, '거취': 7689, '에몬스': 7690, '트와이스': 7691, '낭만': 7692, '차장': 7693, '본래': 7694, '김어준': 7695, '백종원': 7696, '편향': 7697, '항아리': 7698, '비닐봉지': 7699, '비고': 7700, '조지': 7701, '만치': 7702, '불가능': 7703, '반기': 7704, '번호판': 7705, '김형오': 7706, '쌍둥이': 7707, '갈래': 7708, '신성': 7709, '구조체': 7710, 'scott': 7711, '총기': 7712, '박준희': 7713, '스텝': 7714, '성당': 7715, '다다르다': 7716, '신혼': 7717, '건전하다': 7718, '박인비': 7719, '승연': 7720, '구도': 7721, '남대천': 7722, '파수': 7723, '바리스타': 7724, '아시아드': 7725, '붐': 7726, '위례신도시': 7727, '판교': 7728, '기반시설': 7729, '날로': 7730, '미흡': 7731, '연상': 7732, '한숨': 7733, '거시경제': 7734, '국제통화기금': 7735, '설다': 7736, '징역형': 7737, '재산권': 7738, '어마어마하다': 7739, '고령자': 7740, '주머니': 7741, '블': 7742, '텔콘': 7743, 'rf': 7744, '젤': 7745, '퓨어': 7746, '담': 7747, '파주시': 7748, '유제품': 7749, '형편': 7750, '몰이': 7751, '수성': 7752, '방대하다': 7753, '낸드': 7754, '정화': 7755, '호에': 7756, '개조': 7757, '통로': 7758, '사비': 7759, '궁금증': 7760, '석유수출국기구': 7761, '정예': 7762, '한데': 7763, '록': 7764, '중개사': 7765, '턴': 7766, '제품군': 7767, '나인': 7768, '타이틀곡': 7769, '어닝': 7770, '제보': 7771, '유현': 7772, '메탈': 7773, '실험실': 7774, '초이스': 7775, '뉴욕주': 7776, '가제': 7777, '절박': 7778, '엠디': 7779, '저장장치': 7780, '넣기': 7781, '우울증': 7782, '사냥': 7783, '상해': 7784, '실종': 7785, '첨부': 7786, '가야': 7787, '망설이다': 7788, 'z': 7789, '저격': 7790, '악순환': 7791, '스톡옵션': 7792, '강경화': 7793, '자립': 7794, '차이나': 7795, '식감': 7796, '구두': 7797, '오아시스': 7798, '곁': 7799, 'uv': 7800, '위험성': 7801, '본토': 7802, '기관지': 7803, '눈앞': 7804, '정교하다': 7805, '케이스': 7806, '직행': 7807, '중시': 7808, '집행유예': 7809, '폭언': 7810, '멘토': 7811, '해임': 7812, '추위': 7813, '논평': 7814, '부당': 7815, 'dmz': 7816, '농장': 7817, '두바이': 7818, '저해': 7819, '발상': 7820, '제철소': 7821, '자구': 7822, '성적표': 7823, '강관': 7824, '친문': 7825, '토크': 7826, '추경호': 7827, '사격': 7828, '원동력': 7829, '소신': 7830, '판이': 7831, '깨끗이': 7832, '석탄': 7833, '묶다': 7834, '웹': 7835, '몽골': 7836, '냉동': 7837, '관해': 7838, '포용': 7839, '인사이트': 7840, '잃어버리다': 7841, '관방': 7842, '선별': 7843, '년차': 7844, '정유': 7845, '터보': 7846, 'ii': 7847, '디젤': 7848, 'cts': 7849, '사려': 7850, '안주': 7851, '족': 7852, '경유': 7853, '고소장': 7854, '이해관계': 7855, '동유럽': 7856, '차이다': 7857, '분과': 7858, '니까': 7859, '음주': 7860, '사거리': 7861, '돌려주다': 7862, '매가': 7863, '영남': 7864, '여운': 7865, '곤두박질': 7866, '청렴': 7867, '타운': 7868, '돌연': 7869, '한마디': 7870, '굽다': 7871, '다양': 7872, '바스': 7873, '장도': 7874, '코트라': 7875, '환상': 7876, '코리안': 7877, '로라': 7878, '루이비통': 7879, '모태': 7880, '탐지': 7881, '발달장애': 7882, '냄새': 7883, '평론': 7884, '집필': 7885, 'fi': 7886, '부결': 7887, '사직': 7888, '분진': 7889, '플루': 7890, '설화': 7891, '부유': 7892, '성별': 7893, '두드러지다': 7894, '메우다': 7895, '구리': 7896, '엇갈리다': 7897, '유화': 7898, '보이스': 7899, '태연': 7900, 'people': 7901, 'percent': 7902, '그해': 7903, '설전': 7904, '뉴델리': 7905, '초안': 7906, '난민': 7907, '수법': 7908, '호황': 7909, '항공우주': 7910, '앞바다': 7911, '발기다': 7912, '당진': 7913, '계류': 7914, '면서도': 7915, '영광': 7916, '당직': 7917, '차용': 7918, '스톱': 7919, '충칭': 7920, '김경수': 7921, '충북도': 7922, '국유': 7923, '선반': 7924, '수련': 7925, '울진': 7926, '선장': 7927, '호박': 7928, '개년': 7929, '퇴직금': 7930, '플렉서블': 7931, '신입생': 7932, '다기': 7933, '정의선': 7934, '경정': 7935, '적대': 7936, '고글': 7937, '교원': 7938, '다행하다': 7939, 'dt': 7940, '지스트': 7941, '보탰다': 7942, '인터페이스': 7943, '변신': 7944, '출발점': 7945, '박정호': 7946, '다우지수': 7947, '소셜네트워크서비스': 7948, '기전': 7949, '서머': 7950, '라트': 7951, '굳어지다': 7952, '것임': 7953, '피우다': 7954, '추방': 7955, '냉면': 7956, 'cgt': 7957, '신협': 7958, '민주주의': 7959, '서서': 7960, '좌천': 7961, 'bw': 7962, '민경욱': 7963, '행정소송': 7964, '서지현': 7965, '은혜': 7966, '단색': 7967, '군구': 7968, '결속': 7969, '연예계': 7970, '안고': 7971, '노면': 7972, '중산층': 7973, '이지은': 7974, '직방': 7975, '중재': 7976, '적십자': 7977, '강북구': 7978, '남경': 7979, '변성': 7980, '삐라': 7981, '정강': 7982, '김우영': 7983, '므와바': 7984, '티후아나': 7985, '행각': 7986, '이정환': 7987, '에스퍼': 7988, '전작권': 7989, '연구시설': 7990, '김유진': 7991, '애벗': 7992, '도현정': 7993, '박준': 7994, '어둠': 7995, '이혜미': 7996, '카페뎀셀브즈': 7997, '힘줄': 7998, '정성훈': 7999, '필승': 8000, '우혜림': 8001, '김진용': 8002, '김기남': 8003, '살수': 8004, '석희': 8005, '테이크': 8006, '유동현': 8007, '음색': 8008, '조용직': 8009, '홍보물': 8010, 'pir': 8011, '신인선': 8012, '위안소': 8013, '존쇼': 8014, '코미디언': 8015, '배철수': 8016, '소비자보호법': 8017, '도로명': 8018, '지령': 8019, '십리': 8020, '마미': 8021, '유고': 8022, 'ssak': 8023, '판본': 8024, '채상우': 8025, '판례': 8026, '클러스터링': 8027, '드라이': 8028, '중이온': 8029, '김성윤': 8030, '천후': 8031, '개략': 8032, '국립극단': 8033, '보컬': 8034, '글래드': 8035, '스위트룸': 8036, '군기': 8037, '범의': 8038, '태풍': 8039, 'kisa': 8040, '발라드': 8041, '사실조사': 8042, '심신': 8043, '방출량': 8044, '메가스토어': 8045, '벽장': 8046, '키터': 8047, 'keeter': 8048, '슈퍼스타즈': 8049, '마구마구': 8050, '박겸수': 8051, '우이천': 8052, '자동초점': 8053, '펜트힐': 8054, '논현': 8055, '청해부대': 8056, '신내역': 8057, '바느질': 8058, '유기농업': 8059, '낙성대': 8060, '옥정': 8061, '맞닿다': 8062, '그레이': 8063, '제지': 8064, '호의': 8065, '연쇄': 8066, '자부': 8067, '상속': 8068, 'mmorpg': 8069, '무더기': 8070, '추격': 8071, '실리콘': 8072, '전공': 8073, 'car': 8074, '베팅': 8075, '내과': 8076, '혈관': 8077, '송전': 8078, '서초동': 8079, '이색': 8080, '본관': 8081, '사람과': 8082, '유연성': 8083, '영양': 8084, '덥다': 8085, '향수': 8086, '알리바바': 8087, '티스': 8088, '결핍': 8089, '탄수화물': 8090, '데도': 8091, '소량': 8092, '양질': 8093, '뼈': 8094, '다량': 8095, '가계부채': 8096, '멘털': 8097, '명문제약': 8098, '엿보다': 8099, '선인': 8100, '일반인': 8101, '피드백': 8102, '과징금': 8103, '건데': 8104, 'able': 8105, '대형주': 8106, '인강': 8107, '낭비': 8108, '레이디': 8109, '오디오': 8110, '골드만삭스': 8111, '온라인과': 8112, '경량': 8113, '입문': 8114, '이엘': 8115, '파우더': 8116, '최정훈': 8117, '클러스터': 8118, 'system': 8119, '활발': 8120, 'soc': 8121, '바로잡다': 8122, '난방': 8123, '율과': 8124, '오랫동안': 8125, '행정조사': 8126, '원래': 8127, '스프레드': 8128, '켜다': 8129, '현관': 8130, 'add': 8131, '불매운동': 8132, '스프라이트': 8133, '트론': 8134, '묵': 8135, '입구': 8136, '전자서명': 8137, '문서': 8138, '제작사': 8139, '아랍에미리트': 8140, '리프': 8141, '진양': 8142, '끊어지다': 8143, '고비': 8144, '일요일': 8145, '용액': 8146, '좌': 8147, '남영': 8148, '머티': 8149, '경의': 8150, '변호인': 8151, '빙그레': 8152, '적응하다': 8153, '사슬': 8154, '유용하다': 8155, '이해관계자': 8156, '희귀': 8157, 'lgu': 8158, '사각': 8159, '오만하다': 8160, '남다르다': 8161, '다행': 8162, '연재': 8163, '천천히': 8164, '완만': 8165, '할당': 8166, '나빠지다': 8167, '고로': 8168, '숙이다': 8169, '뺏다': 8170, '김연': 8171, '도구': 8172, '치부': 8173, '팩트': 8174, '데일': 8175, '변형': 8176, '지명': 8177, '충청북도': 8178, '시흥시': 8179, '상무부': 8180, '합작': 8181, '암세포': 8182, '강국': 8183, '실세': 8184, '사제': 8185, '얻지': 8186, '괴리': 8187, '기지역': 8188, '내정': 8189, '입당': 8190, '배우자': 8191, '철폐': 8192, '창조': 8193, '헤드': 8194, '금년': 8195, '매칭': 8196, '김미경': 8197, '온실가스': 8198, '주택가': 8199, '전문점': 8200, '삼립': 8201, '서대문구': 8202, '냉방': 8203, '삶다': 8204, '재임': 8205, '정경두': 8206, '토카': 8207, '양일간': 8208, '헬릭스': 8209, '시선집중': 8210, '학대': 8211, '상습': 8212, '깔다': 8213, '막바지': 8214, '애쓰다': 8215, '각별히': 8216, '구단': 8217, '산책로': 8218, '삼현': 8219, '대우조선': 8220, '때리다': 8221, '조카': 8222, '재테크': 8223, '성실': 8224, '거절': 8225, '자공시': 8226, '가연': 8227, '소설': 8228, '정차': 8229, 'gps': 8230, '주중': 8231, '결손': 8232, '인하대': 8233, '중화': 8234, '미생물': 8235, '범죄자': 8236, '교복': 8237, '소강': 8238, '디자이너': 8239, '막강': 8240, '코로': 8241, '물어': 8242, '제강': 8243, '생일': 8244, '오늘날': 8245, '박양우': 8246, '농단': 8247, '가율': 8248, '생활화': 8249, '당면': 8250, '나은': 8251, '울트라': 8252, '지기': 8253, '절대로': 8254, '원통': 8255, 'mwc': 8256, 'oci': 8257, '가요': 8258, '바디': 8259, '연세': 8260, '중화권': 8261, '부평': 8262, '화훼': 8263, '입출금': 8264, '목도': 8265, '최연': 8266, 'sds': 8267, '협치': 8268, 'end': 8269, '건너다': 8270, '납득': 8271, 'its': 8272, '아태': 8273, '예쁘다': 8274, '츠': 8275, 'afp': 8276, '상정': 8277, '베': 8278, '비방': 8279, '회견': 8280, '일관': 8281, '아랍': 8282, '돌발': 8283, '방콕': 8284, '점막': 8285, '응용': 8286, '월급': 8287, '가르치다': 8288, '타이': 8289, '휴전': 8290, 'daegu': 8291, '미우다': 8292, '살기': 8293, '판명': 8294, '박씨': 8295, '텐센트': 8296, '증평': 8297, '의정': 8298, '영덕': 8299, '자민당': 8300, '도미': 8301, '찬사': 8302, '롭고': 8303, '탈취': 8304, '지디넷': 8305, '서킷': 8306, '정경': 8307, 'ldquo': 8308, 'iata': 8309, '팩스': 8310, '네트': 8311, '뭐길': 8312, '뚫리다': 8313, '플라워': 8314, '의과대학': 8315, '트레일': 8316, '제왕': 8317, '짙다': 8318, '어디서': 8319, '정수기': 8320, '네스': 8321, '암치료': 8322, '탈피': 8323, '관전': 8324, '돌파구': 8325, '중량': 8326, 'awd': 8327, '환송': 8328, '특검': 8329, '이인영': 8330, '조씨': 8331, '시국': 8332, '괴질': 8333, '체증': 8334, '수고': 8335, '다급하다': 8336, '제청': 8337, '무마': 8338, '영호': 8339, '만일': 8340, '캘리포니아': 8341, '영남권': 8342, '정봉주': 8343, '중흥': 8344, '불법행위': 8345, '서귀포시': 8346, '비참하다': 8347, '불신': 8348, '스톰': 8349, '두운': 8350, '환급금': 8351, 'doo': 8352, '콩': 8353, '거울': 8354, '자연스럽다': 8355, '원룸': 8356, '메르': 8357, '선불카드': 8358, '권은희': 8359, '비핵화': 8360, '문래': 8361, '평양': 8362, '국위': 8363, '내정자': 8364, '촘촘하': 8365, '나이스': 8366, '온라인쇼핑': 8367, '재외국민': 8368, '이라고도': 8369, '순찰': 8370, '비극': 8371, '달리기': 8372, '화합': 8373, '소실': 8374, '명가': 8375, '쿠페': 8376, '의복': 8377, '일진': 8378, '밥상': 8379, '기류': 8380, '가용': 8381, '오시': 8382, '이상하다': 8383, '텐데': 8384, '룰': 8385, '아야': 8386, '후기': 8387, '날인': 8388, '예요': 8389, '오공': 8390, '지도사': 8391, 'naver': 8392, '켜지다': 8393, '대승': 8394, '팝업': 8395, '정현': 8396, '이순용': 8397, '식단': 8398, '광학': 8399, '부드럽다': 8400, '출현': 8401, 'untact': 8402, '소매업': 8403, '정거': 8404, '밀크': 8405, '키코': 8406, 'pb': 8407, '고치다': 8408, '닦다': 8409, '활기': 8410, '얇다': 8411, '휘두르다': 8412, '수혈': 8413, '진행중': 8414, '지정학적': 8415, '작고': 8416, 'wb': 8417, '여가부': 8418, '전자제품': 8419, '교재': 8420, '퍼즐': 8421, '사옥': 8422, '밑돌': 8423, '진열': 8424, '동거': 8425, '취향': 8426, '강성': 8427, '뭘': 8428, '향방': 8429, '리쇼': 8430, '기후변화': 8431, '정립': 8432, '이득': 8433, '생물': 8434, '엄청': 8435, '자마자': 8436, '지갑': 8437, '수료': 8438, '취사': 8439, '일컫다': 8440, '모트': 8441, '방산': 8442, '스위치': 8443, '기미': 8444, '반경': 8445, '무더위': 8446, '만지다': 8447, '거소': 8448, '간호': 8449, '헤라': 8450, '요동치다': 8451, '페스티벌': 8452, '나들이': 8453, '반미': 8454, '년새': 8455, '방미': 8456, '현모': 8457, 'if': 8458, '불리': 8459, '관영': 8460, '안장': 8461, '시진핑': 8462, '크리스': 8463, '목록': 8464, '원조': 8465, '본연': 8466, '일삼': 8467, '경제성장': 8468, '증감': 8469, '기록물': 8470, '병력': 8471, '발발': 8472, '장군': 8473, '고의': 8474, '제반': 8475, '이의신청': 8476, '수분': 8477, '용납': 8478, '출사표': 8479, '제혁': 8480, '귀결': 8481, '상존': 8482, '어학': 8483, '시비': 8484, '막장': 8485, '중남미': 8486, '일당': 8487, '밀폐': 8488, '빙수': 8489, '무력': 8490, '통영': 8491, '중립': 8492, '회선': 8493, '핸드': 8494, '도와주다': 8495, '퇴근': 8496, '회사원': 8497, '체중': 8498, '월보': 8499, '이종': 8500, 'bl': 8501, '시화호': 8502, '누락': 8503, '위법': 8504, '만성': 8505, '다이아몬드': 8506, '출근길': 8507, '국도': 8508, '룩': 8509, '도성훈': 8510, '분사': 8511, '전업': 8512, '유비': 8513, '세도': 8514, '공법': 8515, '대나무': 8516, '여섯': 8517, '모티브': 8518, '영구': 8519, '무늬': 8520, '이창우': 8521, '규탄': 8522, '공과금': 8523, '고시원': 8524, '관리소': 8525, '남아프리카공화국': 8526, '김종배': 8527, '양은': 8528, '만점': 8529, '작물': 8530, '구의': 8531, '유수': 8532, '저스틴': 8533, '찌': 8534, '기승': 8535, '롭': 8536, '잊혀지다': 8537, '아울렛': 8538, '액화천연가스': 8539, '펭수': 8540, '몰래': 8541, '급제': 8542, '봉제': 8543, '강연': 8544, 'pi': 8545, 'nyse': 8546, '역외': 8547, '친근하다': 8548, '충청권': 8549, '범인': 8550, '다사역': 8551, '탁구': 8552, '강요': 8553, '게이트': 8554, '뮤': 8555, '부전': 8556, '허쥬마': 8557, '영농': 8558, '여고': 8559, '무량': 8560, '총참모부': 8561, '금강산': 8562, '자금지원': 8563, '도감': 8564, '웍스': 8565, '조로': 8566, '담론': 8567, '교양': 8568, '컬': 8569, '분단': 8570, '후계': 8571, '비말': 8572, '제주시': 8573, '사회과학': 8574, '인파': 8575, 'dc': 8576, '절약': 8577, '알선': 8578, '김희': 8579, '어플': 8580, '가기': 8581, '행적': 8582, '녀': 8583, '툴': 8584, '결혼식': 8585, '신곡': 8586, 'lfp': 8587, '부회': 8588, '정밀도': 8589, '트윈': 8590, '행렬': 8591, '동아리': 8592, '기내': 8593, '레깅스': 8594, '슬레': 8595, '망가지다': 8596, '버금': 8597, '파이프라인': 8598, '진두': 8599, '포석': 8600, '진성': 8601, '한중': 8602, '비추다': 8603, '급기야': 8604, '주거지': 8605, '적외선': 8606, '민트': 8607, '브뤼셀': 8608, '전인대': 8609, '특례법': 8610, '차고': 8611, '탈퇴': 8612, '세인': 8613, '월호': 8614, '수강생': 8615, '남해안': 8616, '장난감': 8617, '미투': 8618, 'infections': 8619, 'year': 8620, 'group': 8621, '약점': 8622, '빅히트': 8623, 'fomc': 8624, '뮤지션': 8625, '유족': 8626, '경이': 8627, '취준생': 8628, '액체': 8629, '분화': 8630, '경륜': 8631, '베이징시': 8632, '약간': 8633, '법학': 8634, '부친': 8635, '항해': 8636, '파전': 8637, '디케이': 8638, '컴백': 8639, '정렬': 8640, 'mwh': 8641, '척수': 8642, 'rdquo': 8643, '백만원': 8644, '재화': 8645, '반입': 8646, '격투기': 8647, '모험': 8648, '선수단': 8649, '농기': 8650, '먹히다': 8651, '씨앤': 8652, '벽면': 8653, '데크': 8654, '역점': 8655, 'pe': 8656, '솔트': 8657, '까진': 8658, 'utg': 8659, '하임': 8660, '휴스턴': 8661, 'pass': 8662, '체코': 8663, '행안부': 8664, '갇히다': 8665, '인계': 8666, '팰리스': 8667, '거대하다': 8668, '폐쇄된': 8669, '현산': 8670, '만민': 8671, '선거일': 8672, '생전': 8673, '공짜': 8674, '줄곧': 8675, '입하': 8676, '재연': 8677, '심상찮': 8678, '발원': 8679, '블랭크': 8680, '청량리역': 8681, '적나라하다': 8682, '이즈': 8683, '외지': 8684, '거액': 8685, '연제구': 8686, '충전기': 8687, '멘트': 8688, '한순간': 8689, '신당': 8690, '포츠': 8691, '즌': 8692, '선의': 8693, '교내': 8694, '아르헨티나': 8695, '절충': 8696, '집무실': 8697, '블랙록': 8698, '정치학': 8699, '성의': 8700, '공무': 8701, '공로': 8702, '시가지': 8703, '코레일': 8704, '회안': 8705, '검찰청': 8706, '병합': 8707, '과로': 8708, '존엄': 8709, '학군': 8710, '영국인': 8711, '패배': 8712, '자초': 8713, '학점': 8714, '사관학교': 8715, '진규': 8716, '하남시': 8717, '불길': 8718, '저출산': 8719, '흑석동': 8720, '우울하다': 8721, '비분': 8722, '위임장': 8723, '강타': 8724, '얼리다': 8725, '터주': 8726, '메아리': 8727, '법사': 8728, '동해시': 8729, '절도': 8730, '군민': 8731, '무안군': 8732, '능': 8733, '티에스': 8734, '김성진': 8735, '옥타': 8736, 'pg': 8737, '필지': 8738, '페인트': 8739, '잡기': 8740, '양도소득세': 8741, '경제부총리': 8742, 'kdi': 8743, '그게': 8744, '시간제': 8745, '톱텍': 8746, '정민': 8747, '번만': 8748, '비씨': 8749, '모나리자': 8750, '사이드카': 8751, '신생': 8752, '고등': 8753, '추종': 8754, '서울중앙지법': 8755, '명예훼손': 8756, '외투': 8757, '성원': 8758, '모터쇼': 8759, '인턴': 8760, '아우디': 8761, '불균형': 8762, '일차': 8763, 'dslr': 8764, 'mmf': 8765, '까다롭다': 8766, '관절염': 8767, '이오': 8768, '스킨': 8769, 'kotra': 8770, '구인': 8771, '씨유': 8772, '이태형': 8773, '메이저': 8774, '이노텍': 8775, '출연자': 8776, '수명': 8777, '병기': 8778, '째다': 8779, '후분': 8780, '현행법': 8781, '탐색': 8782, '호기심': 8783, '워크숍': 8784, '제롬': 8785, '형국': 8786, '무너': 8787, '수상작': 8788, '광경': 8789, '낸셜': 8790, '정답': 8791, '추월': 8792, '무적': 8793, 'iptv': 8794, '오늘이': 8795, 'persona': 8796, '오피': 8797, '루프': 8798, '주전': 8799, '방이': 8800, '큐리': 8801, '정보화': 8802, '국악': 8803, '올바르다': 8804, '주선': 8805, '기보': 8806, '재무부': 8807, '마곡': 8808, '옵티머스': 8809, 'health': 8810, '젬백스': 8811, '디지다': 8812, '고충': 8813, '회하': 8814, '끌어내리다': 8815, '김현아': 8816, '트롤': 8817, '주소지': 8818, '성희롱': 8819, '개봉': 8820, '초조하다': 8821, '엄선': 8822, '수술실': 8823, '왈라뷰': 8824, 'oil': 8825, '겠다': 8826, '단번': 8827, '토탈': 8828, 'ne': 8829, '능률': 8830, '허물': 8831, '코팅': 8832, '책상': 8833, '든든하다': 8834, '관왕': 8835, '수은': 8836, '비트': 8837, '식도': 8838, '곤란': 8839, '주입': 8840, '존속': 8841, '대개': 8842, 'gkl': 8843, '거품': 8844, '웃': 8845, '밀접하다': 8846, '기별': 8847, '안전보장': 8848, '삼익': 8849, '멕': 8850, '윤태호': 8851, 'kaist': 8852, '교장': 8853, '스프링': 8854, '임의': 8855, '가래': 8856, '구토': 8857, '시연': 8858, '선대': 8859, '불의': 8860, '쿠': 8861, '버킷': 8862, '고온': 8863, '미각': 8864, '오래되다': 8865, '예민하다': 8866, '치면': 8867, '맹': 8868, '보편화': 8869, '다치다': 8870, '자금시장': 8871, '뚝': 8872, '오만': 8873, '가상현실': 8874, '오송': 8875, '양해각서': 8876, '저수지': 8877, '북쪽': 8878, '완제': 8879, 'nk': 8880, '제약회사': 8881, '약식': 8882, '주심': 8883, '간염': 8884, '프린세스': 8885, '관통': 8886, '흑': 8887, '정공': 8888, '다이얼': 8889, '이종필': 8890, '김봉현': 8891, '복제': 8892, '분기점': 8893, '외다': 8894, '우정': 8895, '한참': 8896, '모친상': 8897, '주얼': 8898, '정액': 8899, '승소': 8900, '그랜저': 8901, '락': 8902, 'ce': 8903, '농업인': 8904, '학술': 8905, '배추': 8906, '렉': 8907, '엔터': 8908, '다시금': 8909, '에스엠': 8910, '축산물': 8911, '틀리다': 8912, '전직': 8913, '남해': 8914, '방과': 8915, '굴착기': 8916, '두산인프라코어': 8917, '뉴욕타임스': 8918, '영수증': 8919, '다독이다': 8920, '초등': 8921, '앙': 8922, '장본인': 8923, '퀀트': 8924, '달서구': 8925, '스톤': 8926, '연다': 8927, '넓어지다': 8928, '대학병원': 8929, '중학교': 8930, '구한': 8931, '고자': 8932, '시그널': 8933, '부턴': 8934, '위촉': 8935, '운임': 8936, '바르게': 8937, '활기차다': 8938, '목격': 8939, '고전': 8940, '뭔가': 8941, '곡물': 8942, '소의': 8943, '손질': 8944, '금투': 8945, '김지현': 8946, '좌파': 8947, '우파': 8948, '성하': 8949, '팽배': 8950, '위드': 8951, '알루미늄': 8952, '비프': 8953, '붙이': 8954, '허리': 8955, '흐리다': 8956, '중년': 8957, '번은': 8958, '넥스': 8959, '이종구': 8960, '태일': 8961, '노동시장': 8962, '소홀하다': 8963, 'were': 8964, 'also': 8965, '강재준': 8966, '심문': 8967, '투데이': 8968, '일생': 8969, '상봉': 8970, '물어보다': 8971, '동의보감': 8972, '지리산': 8973, '유독': 8974, '실형': 8975, '상원의원': 8976, '수교': 8977, '보이스피싱': 8978, '푸틴': 8979, '교도소': 8980, '이듬해': 8981, '그로': 8982, '의왕시': 8983, '천여': 8984, '워싱턴포스트': 8985, '대공황': 8986, '묘': 8987, '표면처리': 8988, '사령부': 8989, '난항': 8990, '추심': 8991, '더나': 8992, '형제': 8993, 'ost': 8994, '총력전': 8995, '기피': 8996, 'now': 8997, '송언석': 8998, '신사': 8999, '야마': 9000, 'core': 9001, '방위산업': 9002, 'rna': 9003, '주전자': 9004, '제인': 9005, '투표제': 9006, 'text': 9007, 'gwh': 9008, '위조': 9009, '회동': 9010, '팍스': 9011, 'rog': 9012, '납': 9013, '샤프': 9014, '정청': 9015, '제제': 9016, '스태프': 9017, '모회사': 9018, '노트': 9019, '펙스': 9020, '불화': 9021, '블레스': 9022, '수탁': 9023, '거버넌스': 9024, '간판': 9025, '과반수': 9026, 'hm': 9027, '스티커': 9028, '헬스': 9029, '스테이': 9030, '측정기': 9031, '퀘스트': 9032, '일가': 9033, '스텍': 9034, '알파벳': 9035, '프렌즈': 9036, '벨레': 9037, 'rfp': 9038, '몸통': 9039, 'cs': 9040, '자해': 9041, '중랑구': 9042, '배현진': 9043, 'oo': 9044, '분통': 9045, '국선': 9046, '힘차다': 9047, '감량': 9048, '반란': 9049, '부산진구': 9050, '대일': 9051, '직권남용': 9052, '직속': 9053, '자인': 9054, '더니': 9055, '르네상스': 9056, '대략': 9057, '홍삼': 9058, '근로기준법': 9059, '반갑다': 9060, '나경원': 9061, '침공': 9062, '오토바이': 9063, '배스': 9064, '은닉': 9065, '희소성': 9066, 'rc': 9067, '남한': 9068, '고용부': 9069, '진에어': 9070, '화관': 9071, '조계종': 9072, '등산': 9073, '드로잉': 9074, '책장': 9075, '외환은행': 9076, '만연하다': 9077, '명지대': 9078, '이동섭': 9079, '크리스마스': 9080, '대마': 9081, '주리': 9082, '바이아웃': 9083, '꿇다': 9084, '용하다': 9085, '전남대': 9086, '불구속': 9087, '관광업': 9088, '청담': 9089, 'bg': 9090, '성찰': 9091, '역마': 9092, '입주물량': 9093, '고덕': 9094, '내집마련': 9095, '이민우': 9096, '운전면허': 9097, '진표': 9098, '카피': 9099, '주니어': 9100, '헌혈': 9101, '빈손': 9102, '그려지다': 9103, '선조': 9104, '유치장': 9105, '핏빗': 9106, '위건': 9107, '북강': 9108, '김태흠': 9109, '록히드': 9110, '라스': 9111, 'hscei': 9112, '통신위성': 9113, '손실보상': 9114, '송현동': 9115, '기동': 9116, '이용섭': 9117, '멸종위기': 9118, '관리제': 9119, '모로코': 9120, '모시다': 9121, '김희철': 9122, '셰익스피어': 9123, '김민지': 9124, '신위': 9125, '윤희': 9126, '남겨지다': 9127, 'boy': 9128, '우주선': 9129, '매머드': 9130, '전자우편': 9131, '강릉시': 9132, 'gvc': 9133, '오페라': 9134, '비주': 9135, '휠': 9136, '모처럼': 9137, '박태진': 9138, '전자부품': 9139, 'bit': 9140, 'ly': 9141, '공시지가': 9142, '건국대': 9143, '그었다': 9144, '돌아다니다': 9145, '특색': 9146, '그야말로': 9147, '가파르': 9148, '은인': 9149, '당뇨': 9150, '시립': 9151, '이윤': 9152, '퍼': 9153, '상여금': 9154, '국동': 9155, '더미': 9156, '다이슨': 9157, '권효': 9158, '아연': 9159, '실생활': 9160, '해산물': 9161, '잉크젯': 9162, '고하': 9163, '동화': 9164, '초콜릿': 9165, '깐깐하다': 9166, '손잡이': 9167, '일레븐': 9168, '딜레마': 9169, '꼼수': 9170, '딩시': 9171, '인증서': 9172, '퀴즈쇼': 9173, '르드': 9174, '시스터즈': 9175, '경주': 9176, '익숙하다': 9177, 'la': 9178, '클리오': 9179, '바퀴': 9180, '굳이': 9181, '국어': 9182, '오리': 9183, '다가서다': 9184, '수자원': 9185, '선진': 9186, '부광약품': 9187, 'us': 9188, '타임스': 9189, '버튼': 9190, '김수현': 9191, '꺼리다': 9192, '사전예약': 9193, '삼키다': 9194, '쇼룸': 9195, '아이파크몰': 9196, 'ux': 9197, '채용정보': 9198, '은폐': 9199, '권영진': 9200, '조형': 9201, '가드': 9202, '오렌지': 9203, '열광하다': 9204, '상쾌하다': 9205, '정병': 9206, '체육회': 9207, '보직': 9208, '티엔': 9209, '인피니티': 9210, '길목': 9211, '조정은': 9212, '어른': 9213, '열연': 9214, '소품': 9215, '브렌': 9216, '고리': 9217, '엘앤': 9218, '브릭': 9219, '알서포트': 9220, '고집': 9221, '칼럼': 9222, '합법': 9223, '신변': 9224, '항생제': 9225, '아깝다': 9226, '성범죄': 9227, '특정하다': 9228, '칼라': 9229, '전자레인지': 9230, '정전기': 9231, '복리': 9232, '탈루': 9233, '의적': 9234, '자금세탁': 9235, '중대하다': 9236, '피아노': 9237, '삼익악기': 9238, '관서': 9239, '등대': 9240, '일지': 9241, '비행': 9242, '유량': 9243, '소관': 9244, '제다': 9245, '일찍': 9246, '김웅': 9247, '치료받다': 9248, '도움말': 9249, '화력발전소': 9250, '믿음': 9251, '순번': 9252, '징용': 9253, '냉전': 9254, '장기전': 9255, '성매매': 9256, '김용범': 9257, '면치': 9258, '기지국': 9259, '참으로': 9260, '두껍다': 9261, '증강현실': 9262, '폭스뉴스': 9263, '양천': 9264, 'gc': 9265, '헌법재판소': 9266, 'mlb': 9267, '민첩하다': 9268, '멋지다': 9269, '동승': 9270, '일련': 9271, '순서': 9272, '참이슬': 9273, '표지': 9274, '보호자': 9275, '마리나': 9276, '상반': 9277, '노점': 9278, '조르다': 9279, '크라운': 9280, '수월하다': 9281, '아동학대': 9282, '불금': 9283, '김해시': 9284, '상형': 9285, '촉매': 9286, '육수': 9287, '정보원': 9288, '실망하다': 9289, '넥': 9290, '본선': 9291, '상무이사': 9292, '차액': 9293, '마땅하다': 9294, '보가': 9295, '접점': 9296, '생크림': 9297, '테디': 9298, '바짝': 9299, '캡': 9300, '시디즈': 9301, '감정인': 9302, '찬반': 9303, '국한': 9304, '드레스': 9305, '양양': 9306, '빼앗다': 9307, '한글': 9308, '마이클': 9309, '유동화': 9310, '신동빈': 9311, '롯': 9312, '스틱': 9313, '통신비': 9314, '이쯤': 9315, '예식': 9316, '정보통신망법': 9317, '실외': 9318, '정오': 9319, '시판': 9320, '상상력': 9321, '슬라이드': 9322, '놀': 9323, '이식': 9324, '시뮬레이션': 9325, '지방선거': 9326, '넘겨받다': 9327, '비밀번호': 9328, 'ls': 9329, '천보': 9330, '예수': 9331, '루미': 9332, '알츠하이머병': 9333, '영리': 9334, '대검찰청': 9335, '화훼농가': 9336, 'qe': 9337, '옵': 9338, '건네다': 9339, '코크': 9340, '기와': 9341, '경영학': 9342, '인문': 9343, '출혈': 9344, '포사': 9345, 'has': 9346, '해운대구': 9347, '수만': 9348, '닮다': 9349, '넉': 9350, '귀촌': 9351, '방송사': 9352, 'app': 9353, '몇몇': 9354, '에다': 9355, '모닝': 9356, '촉발': 9357, '광저우': 9358, '혼잡': 9359, '상한선': 9360, '제생병원': 9361, '휴면': 9362, '도매시장': 9363, '천주교': 9364, '잠적': 9365, '수확': 9366, '효자': 9367, '일대일': 9368, '서든': 9369, '대별': 9370, '중학생': 9371, '전설': 9372, '부추기다': 9373, '충주': 9374, '울릉': 9375, '박형수': 9376, '기물': 9377, '고립': 9378, '강경하다': 9379, '보잉': 9380, '정박': 9381, '숙박업': 9382, '술집': 9383, '도곡동': 9384, 'sonar': 9385, 'cci': 9386, '탁데': 9387, '콘크리트': 9388, '덴탈': 9389, '지문': 9390, 'color': 9391, '청사진': 9392, '사체': 9393, '수백만': 9394, '격진': 9395, '주식매수선택권': 9396, '와이드': 9397, '껑충': 9398, '다국적': 9399, '소사이어티': 9400, '수로': 9401, '덕천': 9402, '측도': 9403, '특판': 9404, '삭': 9405, '얼음': 9406, '그만': 9407, '집콕': 9408, '루머': 9409, '이용권': 9410, '열차': 9411, '우진': 9412, '신규가입': 9413, '생활환경': 9414, 'cdmo': 9415, '아메리칸': 9416, '환불': 9417, '부임': 9418, '헬로': 9419, '무사하다': 9420, '도이치': 9421, '트레인': 9422, '손석희': 9423, '교촌치킨': 9424, '도지': 9425, '것일': 9426, '취했': 9427, '물살': 9428, '백군기': 9429, '차남': 9430, '고공': 9431, '풍수': 9432, '저서': 9433, '도봉구': 9434, '해치다': 9435, '몰락하다': 9436, '미분': 9437, '범죄수사': 9438, '그러자': 9439, 'gmp': 9440, '욕설': 9441, 'abc': 9442, '쇄신': 9443, '판도': 9444, '갈라': 9445, '줄기': 9446, '중국어': 9447, '끝내': 9448, '밝기': 9449, 'vcnc': 9450, '만찬': 9451, '불시': 9452, '편안함': 9453, '장평': 9454, '전문직': 9455, '재희': 9456, '보성': 9457, '콧수염': 9458, '해나': 9459, '불투명하다': 9460, '대권': 9461, 'eurostoxx': 9462, '언제나': 9463, '둬': 9464, '펜스': 9465, '외계인': 9466, '공용': 9467, '청덕': 9468, '기본소득제': 9469, '안산시장': 9470, '정세희': 9471, '이은형': 9472, '활력소': 9473, '위급': 9474, '부경대': 9475, '동위원소': 9476, '별명': 9477, '기초지방자치단체': 9478, '나눔카': 9479, '공보': 9480, '응급의료': 9481, '취소소송': 9482, '보필': 9483, '박세환': 9484, '합세': 9485, '명주': 9486, '파고들다': 9487, '불연': 9488, '수반': 9489, '길들이다': 9490, '수꼴': 9491, '워시': 9492, '수계': 9493, '성연': 9494, 'science': 9495, 'advances': 9496, '정신과': 9497, '멀티태스킹': 9498, '로맨스': 9499, '엔딩': 9500, '두더지': 9501, '남연': 9502, '섹시하다': 9503, 'ag': 9504, '수처리': 9505, '볼룸': 9506, '황헌': 9507, 'meca': 9508, '연보': 9509, '지게차': 9510, '굴삭기': 9511, '김대우': 9512, '홍철': 9513, '보호복': 9514, '쓰촨': 9515, '연진': 9516, '첫걸음': 9517, '투수': 9518, '자양동': 9519, '박재석': 9520, '박결': 9521, '조아연': 9522, '아청법': 9523, '양육비': 9524, '다정하다': 9525, '유니크': 9526, '분무기': 9527, '조은희': 9528, '왕산': 9529, '하얏트': 9530, '여심': 9531, '사형제': 9532, '각서': 9533, '패배하다': 9534, '스탠드업': 9535, '까지나': 9536, '노익': 9537, 'xc': 9538, '펫페어': 9539, '박준규': 9540, '심경': 9541, '비상구': 9542, '촘촘히': 9543, '레인지': 9544, '강승연': 9545, '철모': 9546, '제국': 9547, '김현경': 9548, '다비': 9549, '삼식이': 9550, '김동욱': 9551, '칩거': 9552, '대관': 9553, '대화명': 9554, '자충수': 9555, '재천': 9556, '성황리': 9557, 'sdk': 9558, '순국': 9559, '곰곰': 9560, '자라나다': 9561, 'ehr': 9562, '멀티플랫폼': 9563, '김일': 9564, '박지성': 9565, '이청준': 9566, '내화': 9567, '버스커': 9568, '소록도': 9569, '무등산': 9570, '영내': 9571, '이동형': 9572, '김진원': 9573, '개화산': 9574, '관록': 9575, '토드': 9576, '조광진': 9577, '박서준': 9578, '다미': 9579, '몰살': 9580, '의문사': 9581, '곰': 9582, '신안산선': 9583, '켤레': 9584, '트렉': 9585, 'spit': 9586, '로그': 9587, '김종학': 9588, '트레이드마크': 9589, '처인구': 9590, 'aw': 9591, 'ax': 9592, '큐티브': 9593, '룸서비스': 9594, 'slim': 9595, '화산암': 9596, 'sup': 9597, '고성군': 9598, '빛고을': 9599, '링링': 9600, '국가대표팀': 9601, '전문요원': 9602, '운철': 9603, '해경이': 9604, '군경': 9605, '밸류업': 9606, 'skier': 9607, '열전도도': 9608, '점용료': 9609, '타령': 9610, '국가부채': 9611, '뇌전증': 9612, '엑스코': 9613, '자곡동': 9614, '프랑코': 9615, 'kathleen': 9616, 'frankovic': 9617, '단양군': 9618, '수양': 9619, '경제산업성': 9620, '앞마당': 9621, '혼동': 9622, '윤관석': 9623, '피처링': 9624, '안소영': 9625, '소영': 9626, 'everygirl': 9627, '재향군인회': 9628, '효상': 9629, '언주로': 9630, '송곡': 9631, '소말리아': 9632, '아덴만': 9633, '기홍': 9634, '신림동': 9635, '크랩': 9636, '멍게': 9637, '립스틱': 9638, '조항조': 9639, '테라펀딩': 9640, '보도육교': 9641, '에몬스가구': 9642, '소파': 9643, '식기': 9644, 'good': 9645, '용적률': 9646, '한정판': 9647, '다름없다': 9648, '이신': 9649, 'xraugj': 9650, 'itoozanews': 9651, '어쩔': 9652, '바다로': 9653, '향유': 9654, '맛집': 9655, '법규': 9656, '증여세': 9657, '간절하다': 9658, '노재웅': 9659, '남발': 9660, '엘컴텍': 9661, '손오공': 9662, '룩스': 9663, '덕이': 9664, '용의': 9665, '지푸라기': 9666, '하성': 9667, '매트릭스': 9668, '과목': 9669, '백내장': 9670, '성웅': 9671, '종합병원': 9672, '원시': 9673, '시급': 9674, '검진': 9675, '시동': 9676, '광주대': 9677, '영업비밀': 9678, '닉스': 9679, '보습': 9680, 'amg': 9681, '미네랄': 9682, '아지트': 9683, '보툴리눔': 9684, '비바': 9685, '이슬기': 9686, '으로까지': 9687, '오포': 9688, '강민구': 9689, '떡': 9690, '출구조사': 9691, '세밀': 9692, '마음대로': 9693, '써니': 9694, '예치': 9695, '펠': 9696, '공학': 9697, '경상북도': 9698, '음반': 9699, '휩쓸다': 9700, '스몰': 9701, '가처분': 9702, '부재': 9703, '가뜩이나': 9704, '직관': 9705, '중앙대': 9706, '인플루엔자': 9707, '납입': 9708, '압축': 9709, '궁극': 9710, '워낙': 9711, '로드맵': 9712, 'itbc': 9713, '독': 9714, '질주': 9715, '징후': 9716, '세대주': 9717, '국정원': 9718, '원로': 9719, '익스트림': 9720, '시원하다': 9721, '버블': 9722, '페달': 9723, '열쇠': 9724, 'xdrive': 9725, '애초': 9726, '재외': 9727, '체적': 9728, '아무나': 9729, '외과': 9730, '중환자실': 9731, '외무': 9732, '팔고': 9733, '근육통': 9734, '파헤치다': 9735, '공우': 9736, 'nice': 9737, '오라': 9738, '넥타이': 9739, 'ssg': 9740, '연차': 9741, '기쁨': 9742, '텀블러': 9743, '주역': 9744, '형량': 9745, '헤아리다': 9746, '빨': 9747, '선처': 9748, '최후': 9749, '스피커': 9750, '매트': 9751, '후방': 9752, '대덕': 9753, '들려주다': 9754, '셰일': 9755, '조강': 9756, '유보': 9757, '문화원': 9758, '숙제': 9759, '실망': 9760, '알레르기': 9761, '보국': 9762, '향년': 9763, '굵다': 9764, 'plus': 9765, '걷기': 9766, 'mbps': 9767, '도비': 9768, '힘내다': 9769, 'ev': 9770, '장재': 9771, '강철': 9772, '바위': 9773, '동쪽': 9774, '불복': 9775, '방재': 9776, '비상하다': 9777, '산모': 9778, '생활권': 9779, '잔금': 9780, '재창': 9781, '따라가다': 9782, '이재정': 9783, '대담하다': 9784, '연비': 9785, '디바이스': 9786, '추궁': 9787, '언론인': 9788, '컨설턴트': 9789, '몰려들다': 9790, '이산화탄소': 9791, '여정': 9792, '캡슐': 9793, '여수시': 9794, '연안': 9795, 'emp': 9796, '참치': 9797, '수산시장': 9798, '해태': 9799, '생계비': 9800, '한부모': 9801, '각층': 9802, '도급계약': 9803, '내딛다': 9804, '급선무': 9805, '상적': 9806, '손가락': 9807, '가치투자': 9808, '노벨상': 9809, '트릭': 9810, 'sm': 9811, '총리와': 9812, '나우': 9813, '부속': 9814, 'ct': 9815, '노선도': 9816, '엠씨': 9817, '이런': 9818, '스트림': 9819, '사천': 9820, '격일': 9821, '텔': 9822, '회고록': 9823, '피터': 9824, 'qoq': 9825, '조희연': 9826, '소가': 9827, '체온계': 9828, '운동장': 9829, '치밀하다': 9830, '공률': 9831, '너무나': 9832, '미원': 9833, '성숙': 9834, '한인': 9835, '대기오염': 9836, '만끽': 9837, '대교': 9838, '리터': 9839, '레인보우식스': 9840, '감탄': 9841, '벤처캐피탈': 9842, '표준화': 9843, 'ips': 9844, '날카롭다': 9845, '나이키': 9846, 'abs': 9847, '폼페이': 9848, '유죄': 9849, '공증': 9850, '펀딩': 9851, '캠핑장': 9852, '넘어지다': 9853, '섬세하다': 9854, '가산금': 9855, '조사해': 9856, '푸드코트': 9857, '벤처스': 9858, '서나': 9859, '가명': 9860, '급사': 9861, '인자': 9862, '대중화': 9863, '분주하다': 9864, '리튬': 9865, '냉정하다': 9866, '로그인': 9867, '구결': 9868, '전해질': 9869, '도리': 9870, '한자리': 9871, '심플': 9872, '노화': 9873, '변곡점': 9874, '급매': 9875, '은행업': 9876, '예술가': 9877, '칼텍스': 9878, '전광판': 9879, '상부': 9880, '거기': 9881, '제작비': 9882, '초동': 9883, 'after': 9884, 'according': 9885, 'total': 9886, 'march': 9887, 'will': 9888, '시드니': 9889, '해인': 9890, '모스크바': 9891, '격인': 9892, '피고': 9893, '슈퍼마켓': 9894, '열병': 9895, '금태섭': 9896, '남국': 9897, '심상정': 9898, 'over': 9899, 'first': 9900, '가리키다': 9901, '이상일': 9902, '희곡': 9903, '도용': 9904, '경희대': 9905, '심정지': 9906, '미등록': 9907, '활동가': 9908, '모욕': 9909, '시련': 9910, '낭독': 9911, '문제점': 9912, '현금화': 9913, '내전': 9914, 'public': 9915, 'your': 9916, '교두보': 9917, '어김없이': 9918, '로마': 9919, 'smic': 9920, '용의자': 9921, '페': 9922, '빠져들다': 9923, 'data': 9924, '정정': 9925, '진앙': 9926, '득': 9927, '청송': 9928, '유전': 9929, '삼정': 9930, '참의원': 9931, '군대': 9932, '극찬': 9933, '강풍': 9934, 'macd': 9935, 'osc': 9936, 'stochastic': 9937, 'slow': 9938, 'rsi': 9939, '디앤': 9940, '신한지주': 9941, '발췌': 9942, '카트': 9943, '제습기': 9944, '티웨이항공': 9945, '수익금': 9946, '장애물': 9947, '사생활': 9948, '학적': 9949, '유방암': 9950, '시멘트': 9951, '비수': 9952, '피크': 9953, '유연': 9954, '영감': 9955, '부검': 9956, '분비': 9957, '웹젠': 9958, '카카오페이지': 9959, '디스커버리': 9960, '유성구': 9961, '거래처': 9962, '레볼루션': 9963, '의료법': 9964, 'bifan': 9965, 'ui': 9966, '윤석': 9967, '야경': 9968, '주사': 9969, '마니아': 9970, '탁자': 9971, '종금': 9972, '건조기': 9973, '특혜': 9974, '엄': 9975, '공채': 9976, '로우': 9977, '외모': 9978, 'ifc': 9979, '마일': 9980, 'icp': 9981, '구강': 9982, '총수': 9983, '밥솥': 9984, '어나': 9985, '플라자': 9986, '올인': 9987, '등세': 9988, '여분': 9989, '중등': 9990, 'ooo': 9991, '액면': 9992, '괴롭다': 9993, '듣기': 9994, '황당하다': 9995, '막막': 9996, '신념': 9997, '대열': 9998, '근황': 9999, '그건': 10000, '최혜영': 10001, '분노하다': 10002, 'xx': 10003, '당혹': 10004, '파고': 10005, '선수금': 10006, '채무자': 10007, '상호금융': 10008, '동양대': 10009, '우크라이나': 10010, '트윗': 10011, '폐쇄한다': 10012, '감행': 10013, '굴욕': 10014, '장인': 10015, '정준영': 10016, '성형': 10017, '슬기': 10018, '멘붕': 10019, '휘하다': 10020, '엘리엇': 10021, '삼성동': 10022, '전속계약': 10023, '관념': 10024, '박주민': 10025, '저금': 10026, '논현동': 10027, '고법': 10028, '평등': 10029, '초월': 10030, '향일암': 10031, '유은혜': 10032, '언론보도': 10033, '짜릿하다': 10034, '사범': 10035, '김태호': 10036, '이명수': 10037, '틈타다': 10038, '녹스': 10039, '마음껏': 10040, '갈리다': 10041, '헌재': 10042, '신진': 10043, '개량': 10044, '소련': 10045, '내부통제': 10046, '유니세프': 10047, '비위': 10048, '오픈마켓': 10049, '애리조나': 10050, '회비': 10051, '노동계': 10052, '빚투': 10053, '붙잡다': 10054, '합치': 10055, '표절': 10056, '토끼': 10057, '조현': 10058, '키리바시': 10059, '원반': 10060, '생애': 10061, '치중': 10062, '얼라이브': 10063, '고체': 10064, '알피': 10065, '채권자': 10066, '렙': 10067, '복도': 10068, '소각': 10069, '명예퇴직': 10070, '살피': 10071, '도봉': 10072, '목사': 10073, '박남춘': 10074, '영봉': 10075, '모의고사': 10076, '타오바오': 10077, '익산시': 10078, '특산': 10079, 'wto': 10080, '방화': 10081, '배타': 10082, '한나라당': 10083, '경연': 10084, '뭉치': 10085, 'pif': 10086, 'kfi': 10087, '염상': 10088, '이건창': 10089, '러쉬': 10090, '코엑스': 10091, '장식': 10092, '양주시': 10093, '지율': 10094, '피리': 10095, 'posco': 10096, '회의론': 10097, '각심': 10098, '행방': 10099, '세원': 10100, '쉬': 10101, '가업': 10102, '따라오다': 10103, '넥스트': 10104, '자비': 10105, '샘코': 10106, '개월안': 10107, '원서': 10108, '노스': 10109, '고혈압': 10110, '합병증': 10111, '공립': 10112, 'itc': 10113, '액세서리': 10114, 'fgf': 10115, 'class': 10116, '콘퍼런스': 10117, '랄': 10118, '선거구': 10119, '박정': 10120, '자가면역질환': 10121, '요거트': 10122, '양제': 10123, '하므다': 10124, '지온': 10125, '우디': 10126, '먼지': 10127, '시스템스': 10128, '인트론': 10129, '성립': 10130, '책자': 10131, '감싸다': 10132, '입안': 10133, '공중화장실': 10134, 'otc': 10135, '이대': 10136, '택할': 10137, 'mts': 10138, '홈트': 10139, '집약': 10140, 'club': 10141, '쿠드스': 10142, '기정': 10143, '인더스': 10144, 'level': 10145, 'ltd': 10146, '김무연': 10147, '이원화': 10148, 'ott': 10149, '아이즈': 10150, '가두': 10151, '대국': 10152, '소음': 10153, '각도': 10154, '짐작': 10155, '친숙하다': 10156, '자꾸': 10157, '모빌': 10158, '보호무역': 10159, '우즈베키스탄': 10160, '양쪽': 10161, '혈압': 10162, '응급환자': 10163, '비엘': 10164, '견해': 10165, '정보보안': 10166, '두근두근': 10167, '컨셉': 10168, '독재': 10169, '자부심': 10170, '바치다': 10171, '합성어': 10172, '꽤': 10173, '외곽': 10174, '닌텐도': 10175, '사이다': 10176, '콜라': 10177, '와이즈': 10178, '상근': 10179, '수면장애': 10180, '리콜': 10181, '대산': 10182, '용접': 10183, '사수': 10184, '올라타다': 10185, '창의성': 10186, '시술': 10187, '꽉': 10188, '승자': 10189, '생수': 10190, '용성': 10191, '시엔': 10192, '런': 10193, '사이렌': 10194, '착실하다': 10195, '버즈': 10196, '품격': 10197, '국보법': 10198, '학자': 10199, '주둔': 10200, '로스': 10201, '치료법': 10202, '티플랙스': 10203, '불능': 10204, '굴곡': 10205, '손절': 10206, '스탠다드': 10207, '적도': 10208, '액정': 10209, '절': 10210, '삭감': 10211, '부흥': 10212, '납기': 10213, '형평성': 10214, '망라': 10215, '폭격': 10216, 'mtv': 10217, 'lol': 10218, '수목': 10219, '순수하다': 10220, '한파': 10221, '인후': 10222, '컨디션': 10223, '삼광글라스': 10224, '봉화': 10225, '동두천': 10226, '동서': 10227, '볶다': 10228, '설탕': 10229, '오일': 10230, '자처': 10231, '인플레이션': 10232, '년전': 10233, '딛다': 10234, '장교': 10235, '애도': 10236, '이명': 10237, '통풍': 10238, '증발': 10239, '인대': 10240, '티코': 10241, '조물': 10242, '부하': 10243, '서쪽': 10244, '부천시': 10245, '불리하다': 10246, '발발하다': 10247, '가비아': 10248, '아물다': 10249, '명문': 10250, '엘리트': 10251, '매점': 10252, '종일': 10253, '박능후': 10254, '레인보우': 10255, '인트로메딕': 10256, '슈펙트': 10257, '이순신': 10258, '대책위': 10259, '모이': 10260, '기세': 10261, '자격시험': 10262, '인과': 10263, '조력': 10264, '함양': 10265, '희망이': 10266, '브릭스': 10267, '고난': 10268, '우선하다': 10269, '눈부시다': 10270, 'mri': 10271, '스톡': 10272, 'mvp': 10273, '농림축산식품부': 10274, 'tbs': 10275, '서한': 10276, '고지혈증': 10277, '가끔': 10278, '초음파': 10279, '마중': 10280, '강변': 10281, '트램': 10282, '극히': 10283, '똑같이': 10284, '그걸': 10285, '어기': 10286, '이기주의': 10287, '일화': 10288, '타비': 10289, '스릴러': 10290, '개월물': 10291, '스캔': 10292, '정문': 10293, '가담': 10294, '다사': 10295, '넉넉하다': 10296, '프라이버시': 10297, '기연': 10298, '휴먼': 10299, '물결': 10300, '수조': 10301, '김상호': 10302, '필요없다': 10303, '관도': 10304, '설악': 10305, '탐구': 10306, '크리에이티브': 10307, '합심': 10308, '발돋움': 10309, '흘러나오다': 10310, '사이토카인': 10311, '박탈': 10312, '선생': 10313, '역설': 10314, '헤어': 10315, 'bbb': 10316, '국무장관': 10317, '총서': 10318, '마이크로미터': 10319, '기성': 10320, '에센스': 10321, '히어로': 10322, '평수': 10323, '학문': 10324, '팔자': 10325, '사마': 10326, 'vat': 10327, '권준': 10328, '개인정보보호법': 10329, '산사': 10330, '앞뒤': 10331, '퇴진': 10332, 'kdb': 10333, '조산': 10334, '식도역류': 10335, '상지': 10336, '열람': 10337, '신나다': 10338, '각기': 10339, '리틀': 10340, '돼지고기': 10341, '이차전지': 10342, '양준': 10343, '오버': 10344, '양주': 10345, '감퇴': 10346, '뇌출혈': 10347, '흡연': 10348, '알츠하이머': 10349, '페리': 10350, '달달': 10351, '데스크': 10352, '명함': 10353, '포드': 10354, '제프': 10355, '유니콘': 10356, 'price': 10357, '경위': 10358, '해경청': 10359, '공구': 10360, '버홈': 10361, '발길': 10362, 'their': 10363, 'earlier': 10364, 'authorities': 10365, '이주열': 10366, '하하': 10367, '의원직': 10368, 'company': 10369, 'do': 10370, '언젠가': 10371, '본가': 10372, '엄지': 10373, '신문사': 10374, '불매': 10375, '평온': 10376, '이랜드리테일': 10377, '임시회': 10378, '초당': 10379, '사막': 10380, '장사진': 10381, '대희': 10382, '분장': 10383, '신경세포': 10384, '주기도': 10385, '전혜숙': 10386, '신세': 10387, '봉착': 10388, '로스앤젤레스': 10389, '프놈펜': 10390, '초속': 10391, '햇볕': 10392, '광역버스': 10393, '사본': 10394, '일어나고': 10395, '사서': 10396, '닥치다': 10397, '세입': 10398, '퍼센트': 10399, '유학': 10400, '화풍': 10401, '대치동': 10402, '권리자': 10403, '나주': 10404, '장님': 10405, '아르바이트': 10406, '대학가': 10407, '심야': 10408, '점심시간': 10409, '파프리카': 10410, '에르도안': 10411, '농구': 10412, '브라운': 10413, '전희': 10414, '여느': 10415, '잡코리아': 10416, '거제시': 10417, 'chat': 10418, 'trillion': 10419, '실직자': 10420, 'csr': 10421, '예산안': 10422, '군위': 10423, '조종': 10424, '기울어지다': 10425, '리제': 10426, 'churches': 10427, 'guidelines': 10428, '정적': 10429, '포근하다': 10430, '충청': 10431, '서해안': 10432, '켄싱턴': 10433, '캐스트': 10434, '풀무원': 10435, '뜯다': 10436, '적격성': 10437, '정석희': 10438, '퓨젠': 10439, '로나': 10440, '조준': 10441, '오스카': 10442, '장구': 10443, '비우다': 10444, '컨트리': 10445, 'si': 10446, '농부': 10447, '폐점': 10448, '디큐브시티': 10449, '대륙': 10450, '부담스럽다': 10451, '이브': 10452, '가로막다': 10453, '쏘렌토': 10454, '에어팟': 10455, '신령': 10456, '블레이드': 10457, '대죄': 10458, '고배': 10459, '재능': 10460, '겸용': 10461, '되게': 10462, 'mec': 10463, '사선': 10464, '손세정제': 10465, '여중': 10466, '곽': 10467, '개발도상국': 10468, '계양': 10469, '릴리': 10470, '신호탄': 10471, '겨우': 10472, '요일': 10473, '달구다': 10474, '로버트': 10475, 'ec': 10476, '상담사': 10477, '오로지': 10478, '공중': 10479, '초가': 10480, '인적자원': 10481, '방관': 10482, '산만': 10483, '은행원': 10484, '박빙': 10485, '만능': 10486, '작심': 10487, '술렁': 10488, '전멸': 10489, '자살': 10490, '최고점': 10491, '뺨': 10492, '장지연': 10493, '전셋집': 10494, 'stx': 10495, '김현철': 10496, '들썩': 10497, '테헤란': 10498, '행정법원': 10499, '수영구': 10500, '도마': 10501, '훗날': 10502, '권역별': 10503, '미술품': 10504, '빈집': 10505, '전원주택': 10506, '평범하다': 10507, '되레': 10508, '이베이': 10509, '파티': 10510, '강좌': 10511, '차주': 10512, '때로는': 10513, '끼우다': 10514, '초라하다': 10515, '퇴짜': 10516, '작사': 10517, '파랑': 10518, '육체': 10519, '그림자': 10520, '섞이다': 10521, '신사동': 10522, '강재': 10523, '둥지': 10524, '현수막': 10525, '잡음': 10526, '졸속': 10527, '텅': 10528, '묵직하다': 10529, '박주선': 10530, '먹기': 10531, '투병': 10532, 'bbc': 10533, '승차': 10534, '오인': 10535, '일침': 10536, '고아': 10537, '뿌듯하다': 10538, '달래': 10539, '남북정상회담': 10540, '일본정부': 10541, '역적': 10542, '국립극장': 10543, '되살리다': 10544, '김보라': 10545, '영동': 10546, '중령': 10547, '객석': 10548, '청라': 10549, '심혈': 10550, 'gp': 10551, '일률': 10552, '아메리카노': 10553, '경제학자': 10554, '선로': 10555, '동국대': 10556, '유능하다': 10557, '첨예하다': 10558, '돌려막기': 10559, '류정민': 10560, '오디세이': 10561, '균일하다': 10562, '오주연': 10563, '떨치다': 10564, '만엔': 10565, '경영인': 10566, '스파클링': 10567, '페스': 10568, '수감': 10569, '경춘선': 10570, '어쩌면': 10571, '동동': 10572, 'nm': 10573, '순천시': 10574, '이해도': 10575, '감리': 10576, '도우미': 10577, '부티': 10578, '함평': 10579, '단결': 10580, 'nikkei': 10581, '무궁화': 10582, '관철': 10583, '세무서': 10584, '등부': 10585, '국제올림픽위원회': 10586, '집결': 10587, '구급': 10588, '출원량': 10589, '적재': 10590, '아열대': 10591, '페스트': 10592, '동장': 10593, 'nba': 10594, '이편한세상': 10595, '사교': 10596, '온수': 10597, '전기모터': 10598, '동산': 10599, '가까워지다': 10600, '민영': 10601, '가림': 10602, '녹이다': 10603, '넨': 10604, '코스모신소재': 10605, '고안': 10606, '공언': 10607, '후유증': 10608, '숨기': 10609, '정재훈': 10610, '김희재': 10611, '네오위즈': 10612, '양봉': 10613, '화신': 10614, '월덱스': 10615, '비메': 10616, '연매출': 10617, '크론': 10618, '광물': 10619, '카이': 10620, '교정': 10621, '동성': 10622, '윙': 10623, '변론': 10624, '장영': 10625, '핫라인': 10626, '투봇': 10627, '석재': 10628, '트루먼': 10629, '딜리': 10630, '소셜미디어': 10631, '맥점': 10632, '홍인': 10633, '미량': 10634, '도정': 10635, '굴': 10636, '다양성': 10637, '방진': 10638, '메커니즘': 10639, '단말기': 10640, '직구': 10641, '프로세서': 10642, '코칭': 10643, '요령': 10644, '확실': 10645, '하청': 10646, '하고도': 10647, '진하다': 10648, '라벨': 10649, '본드': 10650, '권하다': 10651, '평판': 10652, '간과': 10653, '출입문': 10654, '최영수': 10655, '로봇수술': 10656, '의학과': 10657, '이화여자대': 10658, '땅값': 10659, '비회': 10660, '지휘자': 10661, '풀기': 10662, '데이비드': 10663, '최우수상': 10664, '묘사': 10665, '출제': 10666, '쿠키': 10667, '난이도': 10668, '숙소': 10669, '사이드': 10670, '메가박스': 10671, '슬로건': 10672, '하여금': 10673, '마일리지': 10674, 'cell': 10675, '아모레': 10676, '개인화': 10677, 'ida': 10678, '회계기준': 10679, '한결': 10680, '떨다': 10681, '마찰': 10682, 'oie': 10683, '목적지': 10684, '개도국': 10685, '조립': 10686, '수순': 10687, 'rpa': 10688, '금융통화위원회': 10689, '회도': 10690, '출연료': 10691, '프리랜서': 10692, '업주': 10693, '성숙하다': 10694, '만큼은': 10695, '맘껏': 10696, '서기': 10697, '곤란하다': 10698, '결함': 10699, '간섭': 10700, '방영': 10701, '얽히다': 10702, '선상': 10703, '보신': 10704, 'smart': 10705, '찌다': 10706, '잉크': 10707, '튀다': 10708, '취했다': 10709, '바깥': 10710, '영유': 10711, '무기명': 10712, '신평': 10713, '신인상': 10714, '피니언': 10715, '요기': 10716, '앱스토어': 10717, '착안': 10718, '연구실': 10719, '어긋나다': 10720, '앤티': 10721, '김호준': 10722, '정계': 10723, '놈': 10724, '알아내다': 10725, '태양': 10726, '유포자': 10727, '지아': 10728, '회복기': 10729, '상실': 10730, '무용지물': 10731, '부직포': 10732, '재정정책': 10733, '종결': 10734, '손금': 10735, '펴내다': 10736, '패키징': 10737, '훈풍': 10738, '부동': 10739, '영업일': 10740, '회계사': 10741, '호로': 10742, '탐방': 10743, '그루': 10744, '국정감사': 10745, '사표': 10746, '아마추어': 10747, '주의보': 10748, '약해지다': 10749, '정승일': 10750, '구윤철': 10751, '범여': 10752, '꽂다': 10753, '연천': 10754, '고귀하다': 10755, '국익': 10756, '로움': 10757, '제물포': 10758, '민망하다': 10759, '적신호': 10760, '신소재': 10761, '백지': 10762, '헬스장': 10763, '위대하다': 10764, '디오스': 10765, '이재': 10766, '여드름': 10767, '스트레칭': 10768, '살이': 10769, '요법': 10770, '가평': 10771, '한전기술': 10772, '서상영': 10773, '어플리케이션': 10774, '김영수': 10775, '경인': 10776, '도망': 10777, '한단': 10778, 'bgf': 10779, '대량생산': 10780, '전임': 10781, '비임': 10782, '김현석': 10783, '고장': 10784, '과언': 10785, '리뷰': 10786, '휴장': 10787, '석사': 10788, '낡다': 10789, '항암': 10790, 'nymex': 10791, '우아하다': 10792, '내비게이션': 10793, '신병': 10794, '수재': 10795, '김경': 10796, '버': 10797, '팔면': 10798, '통일전선부': 10799, '장모': 10800, '도수': 10801, '발생량': 10802, '마카롱': 10803, '집콕족': 10804, '후퇴': 10805, '행정대집행': 10806, '기습': 10807, '힘겹다': 10808, '세심': 10809, '풍기': 10810, '중부지방': 10811, '유림': 10812, '좀처럼': 10813, '으로서는': 10814, '겸손하다': 10815, '거세': 10816, '이집트': 10817, '주저': 10818, '창녕': 10819, '일터': 10820, '폴리텍': 10821, '정현욱': 10822, '웅진': 10823, '농약': 10824, '빈번': 10825, '건강검진': 10826, '금주': 10827, '섹션': 10828, '매커니즘': 10829, '시네마': 10830, '모델하우스': 10831, '성실하다': 10832, '긁다': 10833, '지우다': 10834, '나발': 10835, '복사': 10836, '코스콤': 10837, '우리당': 10838, '카바': 10839, '마진콜': 10840, '브로커': 10841, '결연': 10842, '브루': 10843, 'ndf': 10844, '탈바꿈': 10845, '주차공간': 10846, '뭉클하다': 10847, '지지도': 10848, '양분': 10849, '지에스': 10850, '남향': 10851, '부엌': 10852, '검색어': 10853, '반찬': 10854, '병과': 10855, '만기일': 10856, '속초시': 10857, '설악산': 10858, '스테이션': 10859, '러시': 10860, '볼거리': 10861, '간문제': 10862, 'fast': 10863, '유한': 10864, 'net': 10865, '리라': 10866, '사단법인': 10867, '이래': 10868, '석권': 10869, '돌아보다': 10870, '예견': 10871, '군사정권': 10872, '여인': 10873, '뻗다': 10874, '주안': 10875, '폴리머': 10876, '생체': 10877, '삼일로': 10878, '한라': 10879, '붓기': 10880, '자아': 10881, '이어폰': 10882, '하나카드': 10883, '팬덤': 10884, '채팅': 10885, '뽑히다': 10886, '보료': 10887, '단단하다': 10888, '축전': 10889, '주축': 10890, '재능기부': 10891, '남양주시': 10892, '수락': 10893, 'pdf': 10894, '가배': 10895, '게스트': 10896, '동이': 10897, '상암': 10898, '관실': 10899, '뭉칫돈': 10900, '어간': 10901, '냉장': 10902, '유연근무제': 10903, '조세회피': 10904, '푸르덴셜': 10905, '입체': 10906, '수용체': 10907, '교육사': 10908, '무궁무진': 10909, '니아': 10910, '곤충': 10911, '플라이': 10912, '대작': 10913, '숙박시설': 10914, '자차': 10915, '바닥나다': 10916, '블랙스톤': 10917, '잭슨': 10918, '순도': 10919, '명실': 10920, '내각': 10921, '국외': 10922, 'photo': 10923, 'yonhap': 10924, 'two': 10925, 'monday': 10926, '축구': 10927, '황운하': 10928, '후배': 10929, 'be': 10930, '입대': 10931, '벌리다': 10932, '매화': 10933, '손바닥': 10934, '괴산': 10935, '이매진': 10936, '노멀': 10937, 'ppp': 10938, '등본': 10939, '국기': 10940, '노골': 10941, '이야말로': 10942, '상응': 10943, '단죄': 10944, '모로': 10945, '종종': 10946, '전북도': 10947, '재생에너지': 10948, 'lead': 10949, 'we': 10950, 'but': 10951, 'some': 10952, 'this': 10953, '소독기': 10954, '실었다': 10955, '은밀': 10956, '방증': 10957, '아마': 10958, '해병': 10959, '핸드폰': 10960, '할인점': 10961, '공공장소': 10962, '시해': 10963, '표정': 10964, '지피다': 10965, '선하다': 10966, 'th': 10967, 'country': 10968, 'world': 10969, '주연': 10970, 'jam': 10971, '에브리': 10972, '안드로이드': 10973, '주성분': 10974, 'api': 10975, '약제': 10976, '따내다': 10977, '폐수': 10978, 'track': 10979, 'impact': 10980, '압구정': 10981, '센스': 10982, '주가지수': 10983, '던': 10984, 'plant': 10985, '두현': 10986, '김희국': 10987, 'church': 10988, '비둘기파': 10989, '풍부': 10990, '결선': 10991, '커스터': 10992, '쿠오모': 10993, '구름': 10994, '강수량': 10995, '우한시': 10996, '진도': 10997, '동백': 10998, '메종': 10999, 'food': 11000, 'cpi': 11001, '인보': 11002, '스퀘어원': 11003, 'art': 11004, '려': 11005, '이도': 11006, 'hz': 11007, '상업성': 11008, '캐리어': 11009, '독주': 11010, '황사': 11011, '김세영': 11012, '포커스': 11013, '건축사': 11014, 'pcr': 11015, '계승': 11016, '난동': 11017, '핸드볼': 11018, '세계대전': 11019, '집객': 11020, '두드리다': 11021, '최재원': 11022, '플러그인': 11023, '불화수소': 11024, 'arf': 11025, '췌장암': 11026, '선물거래소': 11027, '그리스': 11028, '구별': 11029, '감사원': 11030, '베드': 11031, '라틴': 11032, '플래시': 11033, '이윤호': 11034, '이석희': 11035, '셀렉': 11036, '부산광역시': 11037, '권홍사': 11038, '강소기업': 11039, '판권': 11040, '충분': 11041, '잠재우다': 11042, '빅뱅': 11043, '칙촉': 11044, 'sf': 11045, '개업': 11046, '조미': 11047, '리베': 11048, '정동원': 11049, '불참': 11050, '에까지': 11051, '동물실험': 11052, '윈드': 11053, '이노션': 11054, '피팅': 11055, '오열': 11056, '장부': 11057, '부딪히다': 11058, '호점': 11059, '캐다': 11060, '양성평등': 11061, '외주': 11062, '본보다': 11063, '아동복': 11064, '나날이': 11065, '원리금': 11066, '점프': 11067, '운전대': 11068, '휘청이다': 11069, '고음': 11070, '대학교수': 11071, '두절': 11072, '사분기': 11073, '프랑스인': 11074, '순탄': 11075, '장윤': 11076, '열세': 11077, '차명진': 11078, '귀하다': 11079, '한산하다': 11080, '여덟': 11081, '돌이': 11082, '상관': 11083, '윤종규': 11084, '삼선': 11085, '밥그릇': 11086, '변종': 11087, '교산': 11088, '놀란': 11089, '완납': 11090, '마그네슘': 11091, '무지': 11092, '번질': 11093, '저커버그': 11094, '커리큘럼': 11095, '교육비': 11096, '유황': 11097, '섣불리': 11098, '험담': 11099, 'cmo': 11100, '고매동': 11101, '면도': 11102, '레이싱': 11103, '악플러': 11104, '임호': 11105, '산책길': 11106, '서귀포': 11107, '이수진': 11108, '평가자': 11109, '종편': 11110, '군함': 11111, '생략': 11112, '경호': 11113, '박덕흠': 11114, '여원': 11115, '날아오다': 11116, '걸그룹': 11117, '접종': 11118, '모형': 11119, '못지않다': 11120, '도관': 11121, '태극기': 11122, '화동': 11123, '경지': 11124, '김창열': 11125, '정류': 11126, '포털사이트': 11127, '손씻기': 11128, '브루킹스': 11129, '겨울철': 11130, '남유럽': 11131, '입회': 11132, '전화하다': 11133, '결승': 11134, '촉': 11135, '이재웅': 11136, '쏠': 11137, '고화질': 11138, '초적': 11139, '교착': 11140, '금천구': 11141, '가꾸다': 11142, '이윤지': 11143, '금천': 11144, '백산': 11145, '파탄': 11146, '청구인': 11147, '회계부정': 11148, '미비': 11149, '내보내다': 11150, '카운트다운': 11151, '당혹스럽다': 11152, '호남권': 11153, '경쾌하다': 11154, '울림': 11155, '고기': 11156, '전결': 11157, '학생회': 11158, '대대장': 11159, '시영': 11160, '깨달': 11161, '예매': 11162, '임차료': 11163, '볼멘소리': 11164, '착시': 11165, '싸가지': 11166, '사망원인': 11167, '선구자': 11168, '김영섭': 11169, '지평': 11170, '다큐': 11171, '격주': 11172, '한중일': 11173, '잘리다': 11174, '동양인': 11175, '이본': 11176, '슈퍼카': 11177, '프로포즈': 11178, '흥겹다': 11179, '자본잠식': 11180, '디럭스': 11181, '맑은': 11182, '입선': 11183, '박선미': 11184, '베리': 11185, '실속': 11186, '동상': 11187, '개탄': 11188, '의학박사': 11189, '이정보': 11190, '마대': 11191, '법정관리': 11192, '티비': 11193, '페이크': 11194, '남공': 11195, '형체': 11196, 'sol': 11197, '탁금': 11198, '의류건조기': 11199, '공군기지': 11200, '엄태준': 11201, '유덕열': 11202, '현충로': 11203, 'tex': 11204, '북카페': 11205, 'srt': 11206, '케미': 11207, '입부': 11208, '사회자': 11209, 'ks': 11210, '신정식': 11211, '죄책감': 11212, '누수': 11213, '예정자': 11214, '목욕탕': 11215, '격돌': 11216, '종횡무진': 11217, '성북구': 11218, '득표': 11219, '위브': 11220, '대대': 11221, '항셍': 11222, '순회': 11223, '선량하다': 11224, '팔달구': 11225, '전문대': 11226, '키맨': 11227, '화산재': 11228, '로고스': 11229, '김정태': 11230, '숱': 11231, '조력자': 11232, '해열제': 11233, '이복': 11234, '김태': 11235, '장제원': 11236, '소견': 11237, '하강': 11238, '직렬': 11239, '무용': 11240, 'usmca': 11241, 'show': 11242, '덮이다': 11243, '소설가': 11244, '갈무리': 11245, '절친': 11246, '유경준': 11247, '비스타': 11248, '태극': 11249, '특허법원': 11250, '행정기관': 11251, '이지스': 11252, '홍도': 11253, '미니앨범': 11254, '차환': 11255, '존엄성': 11256, '간단': 11257, '립하': 11258, '정통하다': 11259, '좀더': 11260, '광업': 11261, '타의': 11262, '헛되': 11263, '인크루트': 11264, 'kst': 11265, '상폐': 11266, '열전도율': 11267, '법리': 11268, '늪': 11269, '파란': 11270, '헬멧': 11271, '울주군': 11272, '격노하다': 11273, '이점': 11274, '풍속': 11275, '민수': 11276, '깡': 11277, '원목': 11278, '권영수': 11279, '트롬': 11280, '안중근': 11281, '관리사': 11282, '박사학위': 11283, '생명력': 11284, '판화': 11285, '위약': 11286, 'hisl': 11287, 'php': 11288, '화승': 11289, '조의': 11290, '경미하다': 11291, '적격': 11292, '악용': 11293, '출렁이다': 11294, '김현미': 11295, '중과': 11296, '어린이날': 11297, '적립금': 11298, '기술자': 11299, '쟁의': 11300, 'capa': 11301, '김주찬': 11302, '구사': 11303, '김윤지': 11304, '미끄러지다': 11305, '지누': 11306, '소비자원': 11307, '행정절차': 11308, '방울': 11309, '경자년': 11310, '데모': 11311, '풋': 11312, '이승현': 11313, '큰손': 11314, '질감': 11315, 'growth': 11316, 'no': 11317, '호스트': 11318, '샤워': 11319, '의치': 11320, '초빙': 11321, '인스턴트': 11322, '토양': 11323, '곁들이다': 11324, '생선': 11325, '적당하다': 11326, '구재': 11327, '동등': 11328, '휴메딕스': 11329, '필러': 11330, '감액': 11331, '수업료': 11332, '이혜훈': 11333, '사부': 11334, '다빈치': 11335, '도나': 11336, '숙련': 11337, '성수동': 11338, 'hug': 11339, '스냅': 11340, '만족감': 11341, '여성가족부': 11342, '낯선': 11343, '역행': 11344, '초특': 11345, '힐': 11346, '생소하다': 11347, 'ebitda': 11348, '안트로젠': 11349, '생산자': 11350, '계정과목': 11351, '아이큐': 11352, '화의': 11353, '가축': 11354, '태웅': 11355, '부어': 11356, '클론': 11357, '이글루': 11358, '통찰': 11359, '보안관': 11360, '개수': 11361, '화천': 11362, '이랑': 11363, '지방시': 11364, '막연하다': 11365, '이화': 11366, '신입사원': 11367, '캡스': 11368, '방위사업청': 11369, '연속성': 11370, '탄산': 11371, '무색': 11372, '쌍방울': 11373, '자단': 11374, '남자친구': 11375, '엑셀': 11376, '고무': 11377, '색감': 11378, '정다슬': 11379, '브렌트유': 11380, '랭크됐다': 11381, '안면': 11382, 'sd': 11383, '포비': 11384, '균형발전': 11385, '만장일치': 11386, '윤종원': 11387, '지각': 11388, '웨이브': 11389, '이선': 11390, '단정하다': 11391, '선데이': 11392, '따름': 11393, '세브란스병원': 11394, '방촌': 11395, '더워지다': 11396, 'ytn': 11397, '말리다': 11398, '선언문': 11399, '공소': 11400, '쇄도': 11401, '외국환': 11402, '탈세': 11403, '최고급': 11404, '이단': 11405, '임해': 11406, '여주': 11407, '빙산': 11408, '리노': 11409, '푹': 11410, '지나가다': 11411, '입맛': 11412, '조심스럽다': 11413, '병사': 11414, '볼륨': 11415, '회귀': 11416, 'nsc': 11417, '뒷말': 11418, '행운': 11419, 'tiger': 11420, '앤서니': 11421, '식용': 11422, '듯이': 11423, '에볼라': 11424, 'service': 11425, '사칭': 11426, '빈소': 11427, '명감': 11428, '일곱': 11429, '장례': 11430, '콘서트홀': 11431, '알뜰폰': 11432, '버라이즌': 11433, '월등하다': 11434, '지반': 11435, '부설': 11436, '고대': 11437, '넷째': 11438, 'inside': 11439, '김준': 11440, 'skiet': 11441, '하드웨어': 11442, '샌드위치': 11443, '살상': 11444, '대리인': 11445, '용적': 11446, '전락': 11447, 'ft': 11448, '찢어지다': 11449, '제법': 11450, '나아지다': 11451, '후드': 11452, '세이': 11453, '프티': 11454, '엽': 11455, '정책금융': 11456, '칭찬': 11457, '디딤돌': 11458, '에나': 11459, '토건': 11460, '계량': 11461, '초코': 11462, '양말': 11463, 'shop': 11464, '영문': 11465, '웅천': 11466, '포천': 11467, '생도': 11468, '프': 11469, '항바이러스제': 11470, 'nih': 11471, '종자': 11472, '양파': 11473, '에티오피아': 11474, '익다': 11475, '환원': 11476, '당뇨병': 11477, '윗': 11478, '흔': 11479, '재탄생': 11480, '기로': 11481, '태화': 11482, '누리꾼': 11483, '뒤통수': 11484, '신기하다': 11485, '요청서': 11486, '남사': 11487, '불분명': 11488, '페임': 11489, '버스킹': 11490, '연례': 11491, '잠잠하다': 11492, '북유럽': 11493, '선양': 11494, '집도': 11495, '박찬': 11496, '나연': 11497, 'cpu': 11498, '달성군': 11499, '통학': 11500, '휘트니': 11501, '유기발광다이오드': 11502, '진공': 11503, '퍼스': 11504, '감정평가': 11505, '마린': 11506, '빌트': 11507, '내의': 11508, '인생역전': 11509, '애터': 11510, '건기': 11511, '하수': 11512, '내려다보다': 11513, '경로당': 11514, '플레이어': 11515, '마우스': 11516, '금융감독원장': 11517, '알차다': 11518, '독식': 11519, '거꾸로': 11520, 'event': 11521, '위메프': 11522, '상도': 11523, '바이옴': 11524, '혼재': 11525, '당한': 11526, '불안정하다': 11527, '후생': 11528, '고형': 11529, '부피': 11530, '증명서': 11531, '살라': 11532, '무형': 11533, '공주': 11534, '가이드북': 11535, 'im': 11536, '민병두': 11537, '의병': 11538, '매니': 11539, '입덧': 11540, '랜덤': 11541, 'tb': 11542, '파키스탄': 11543, '에서나': 11544, '창의력': 11545, '메이크': 11546, 'catl': 11547, '묵다': 11548, '월성': 11549, '핵연료': 11550, '한수원': 11551, '잠그다': 11552, 'pcb': 11553, '시초': 11554, '스테이크': 11555, '삼겹살': 11556, '소임': 11557, '완수': 11558, '일신상': 11559, '각광': 11560, '역전': 11561, '조끼': 11562, 'y': 11563, '말기': 11564, '장담': 11565, '차손': 11566, '력도': 11567, '비지니스': 11568, '개점휴업': 11569, '특금법': 11570, '이준석': 11571, '흥미': 11572, 'hyundai': 11573, '몰두하다': 11574, '지렛대': 11575, '이화여대': 11576, '일드': 11577, '캐피털': 11578, '햄버거': 11579, '지선': 11580, '거동': 11581, '윤정': 11582, '강등': 11583, '디폴트': 11584, '제때': 11585, 'ministry': 11586, 'was': 11587, '한종': 11588, 'ccsi': 11589, '학업': 11590, 'usa': 11591, '입양': 11592, '존슨': 11593, '미워하다': 11594, '그립다': 11595, '산청': 11596, '약초': 11597, '치의': 11598, '샤': 11599, '발코니': 11600, '연해주': 11601, '블라디미르': 11602, '쑤다': 11603, '민중': 11604, '고량': 11605, '면역체계': 11606, '요지': 11607, '식중독': 11608, '일군': 11609, 'deal': 11610, '김부겸': 11611, '불씨': 11612, '수학여행': 11613, '상품거래소': 11614, '천억': 11615, '옛날': 11616, '비시': 11617, '성수': 11618, '해병대': 11619, '기관총': 11620, '뻔하다': 11621, 'gist': 11622, '부업': 11623, '용서': 11624, '학부': 11625, '재석': 11626, '동호': 11627, '소방관': 11628, '남원': 11629, '방패': 11630, '이들립': 11631, 'kcdc': 11632, 'tested': 11633, '채비': 11634, '구글플레이': 11635, '사학': 11636, '남짓': 11637, '연신': 11638, '경제성': 11639, '세차': 11640, '제천': 11641, '온전': 11642, '차분하다': 11643, '경합': 11644, '보건부': 11645, '실기': 11646, '대접': 11647, '아르마': 11648, '화물차': 11649, '메이드': 11650, '장터': 11651, '성우': 11652, '오프': 11653, '게이머': 11654, '스마트홈': 11655, 'bti': 11656, '휴일': 11657, 'collapse': 11658, 'font': 11659, 'size': 11660, 'solid': 11661, 'lightgray': 11662, 'padding': 11663, 'decoration': 11664, 'blue': 11665, '보행자': 11666, '변환': 11667, '전언': 11668, '프린터': 11669, '냉각기': 11670, '세리': 11671, 'cl': 11672, '어퓨': 11673, '화보': 11674, '해피': 11675, '효': 11676, '단주': 11677, '프라이머리': 11678, '배당률': 11679, '그러하다': 11680, '훌륭하다': 11681, '웰스': 11682, '위암': 11683, '상쇄': 11684, 'ir': 11685, '범용': 11686, '동아제약': 11687, '공작기계': 11688, '미모': 11689, '민호': 11690, '샘플': 11691, '화질': 11692, '이창': 11693, '역삼동': 11694, '여대': 11695, '평점': 11696, '단편': 11697, '폐암': 11698, '뉴저지': 11699, '떠받치다': 11700, 'ftse': 11701, '조이시티': 11702, '세븐': 11703, '나이트': 11704, '화생': 11705, '덩어리': 11706, '물맛': 11707, '하차': 11708, 'okn': 11709, 'abl': 11710, '약진': 11711, '건축가': 11712, '무공': 11713, '은은하다': 11714, '혈액암': 11715, '조양호': 11716, '보톡스': 11717, '혈중': 11718, '미국증시': 11719, '집밥': 11720, '잘나가다': 11721, '정량': 11722, '진압': 11723, '분실': 11724, '다문화': 11725, '농협생명': 11726, '다공': 11727, '김영주': 11728, '파스퇴르': 11729, '산업화': 11730, '여직원': 11731, 'qled': 11732, '디테일': 11733, '대놓고': 11734, '인사말': 11735, '소호': 11736, '유리창': 11737, '홈퍼니싱': 11738, '스파이크': 11739, '자연환경': 11740, '겨': 11741, '모자라': 11742, '통쾌하다': 11743, '서울대학교': 11744, '간곡히': 11745, '구이': 11746, 'voa': 11747, '다물다': 11748, '망연자실': 11749, '면전': 11750, '피자': 11751, '메르켈': 11752, '유네스코': 11753, '제압': 11754, '이명박': 11755, '예비신랑': 11756, 'ys': 11757, '필자': 11758, '따돌리다': 11759, '잭팟': 11760, '여객기': 11761, '노비': 11762, '늑연골': 11763, '발끈': 11764, '강민석': 11765, '자족': 11766, '플로이드': 11767, '기막히다': 11768, '비례대표제': 11769, '타당': 11770, '산동': 11771, '영도': 11772, '테오': 11773, '함부로': 11774, '뿐더러': 11775, '편견': 11776, '하룻밤': 11777, '뚜렛': 11778, '진천': 11779, '장성': 11780, '곡성': 11781, '월경': 11782, '일출': 11783, '영덕군': 11784, '희망가게': 11785, '유용': 11786, '카운트': 11787, '와이지엔터테인먼트': 11788, '선공': 11789, '와이지': 11790, '강판': 11791, '외상': 11792, '혜원': 11793, '청담동': 11794, '졸지': 11795, 'coo': 11796, '국가대표': 11797, '국민소득': 11798, '정철': 11799, '예정이율': 11800, '부실하다': 11801, '존스홉킨스대': 11802, 'apm': 11803, '치의학': 11804, '대변': 11805, '해롭다': 11806, '갑질': 11807, '매듭': 11808, '바늘': 11809, '용이': 11810, '공예': 11811, '라틴아메리카': 11812, '건재': 11813, '잠원동': 11814, '후손': 11815, '치자': 11816, '명제': 11817, '자율성': 11818, 'ice': 11819, '투석': 11820, '노예': 11821, '공유경제': 11822, '반쪽': 11823, '광안대교': 11824, '앉히다': 11825, '아이스': 11826, '통운': 11827, '팬클럽': 11828, '저비용항공사': 11829, '무드': 11830, '웅': 11831, '평창': 11832, '유정은': 11833, '사과나무': 11834, '델타항공': 11835, '코픽스': 11836, '엄중': 11837, '마니커': 11838, '메타': 11839, '박병석': 11840, '명암': 11841, '피스': 11842, '무상증자': 11843, '일국양제': 11844, '메콩': 11845, 'ppi': 11846, '혼선': 11847, '이춘희': 11848, '착륙': 11849, '세이프': 11850, '아이비': 11851, '롤': 11852, '구치소': 11853, '배드': 11854, '바둑': 11855, '에이브': 11856, '럼스': 11857, '선불': 11858, '송출': 11859, '이차': 11860, '보람': 11861, '대지면적': 11862, '샌더스': 11863, '뚜레쥬르': 11864, '서울특별시': 11865, '이뮨메드': 11866, '외래': 11867, '스팩': 11868, '남효선': 11869, '이의경': 11870, '특집': 11871, '동전': 11872, '컷': 11873, '강화군': 11874, '잎': 11875, '충남도': 11876, '비준': 11877, '나노튜브': 11878, '정한울': 11879, '문항': 11880, '라이센스': 11881, '사건번호': 11882, '가치주': 11883, '케미컬': 11884, '찮다': 11885, '폭음': 11886, '쓸모없다': 11887, '박세정': 11888, '브로츠와프': 11889, '속인': 11890, '불산': 11891, '플루오린': 11892, '이미드': 11893, '김용재': 11894, '치경': 11895, '은어': 11896, '특기': 11897, '콩트': 11898, '어진': 11899, '전시작전통제권': 11900, '맹연습': 11901, '입자가속기': 11902, '방사성': 11903, '계로': 11904, '장윤희': 11905, '열전도': 11906, '풍기다': 11907, '순서대로': 11908, '끝판': 11909, '패기': 11910, '녹색교통': 11911, '병가': 11912, '구보': 11913, '누설': 11914, '동윤': 11915, '평등하다': 11916, '브렉': 11917, '계급': 11918, '양창수': 11919, '김기동': 11920, '박민영': 11921, '우기': 11922, '살인자': 11923, '쓰라리다': 11924, '은섭': 11925, '김세윤': 11926, '곡점': 11927, '이제야': 11928, '컬래버': 11929, '광양제철소': 11930, '타락하다': 11931, '휘센': 11932, '극일': 11933, '김형주': 11934, '악수': 11935, 'unist': 11936, '어드밴': 11937, '앤코': 11938, 'tiffany': 11939, '안데르스': 11940, '한센': 11941, '지음': 11942, '북스': 11943, '창선': 11944, '이중고': 11945, '소희': 11946, '혜림이': 11947, '울컥': 11948, '요트': 11949, '최신원': 11950, '앨런': 11951, '조프': 11952, '유니레버': 11953, '고동진': 11954, '조수용': 11955, 'cta': 11956, '차오': 11957, '양허': 11958, '나리타': 11959, '슬라위': 11960, '송호성': 11961, '강은희': 11962, '김동만': 11963, '지린다': 11964, '마샬': 11965, '비백': 11966, '묶음': 11967, '중계로': 11968, '코렌': 11969, '스며들다': 11970, '화단': 11971, '도씨': 11972, '재활용품': 11973, '이세진': 11974, '우월하다': 11975, '육안': 11976, 'diy': 11977, '혼합물': 11978, '박민지': 11979, '현경': 11980, '임희정': 11981, '장하나': 11982, '부친상': 11983, '행정지도': 11984, '탑점': 11985, '위엄': 11986, '송즈': 11987, '랭크되': 11988, '사탕': 11989, '노을': 11990, '불멍': 11991, '임부': 11992, '스포츠토토': 11993, '폐쇄형': 11994, '분무': 11995, '까지를': 11996, '갤럽': 11997, '확언': 11998, '되돌아가다': 11999, '잔나비': 12000, '베이시스트': 12001, '김도형': 12002, '사생팬': 12003, '경준': 12004, '포르투갈': 12005, '박일': 12006, '한가지': 12007, '다국어': 12008, '컨설팅사': 12009, '죽산면': 12010, '택해': 12011, '음정': 12012, '준결승': 12013, '호혜적': 12014, '절절': 12015, '동독': 12016, '어쨋': 12017, '김학순': 12018, '반수': 12019, 'thek': 12020, '대망': 12021, '트루먼쇼': 12022, '도로교통법': 12023, '공수': 12024, '웃기다': 12025, '십분': 12026, '써주다': 12027, '유머': 12028, '노태우': 12029, 'bwm': 12030, 'glc': 12031, 'gle': 12032, '늦': 12033, 'expo': 12034, '틔우다': 12035, '에서가': 12036, '로돌포': 12037, '함영주': 12038, '개편안': 12039, '중등교육': 12040, '동일인': 12041, '쌍방': 12042, '파사드': 12043, '비감': 12044, '문호진': 12045, '비론': 12046, '입차': 12047, '직권남용죄': 12048, '법무연수원': 12049, '이윤미': 12050, '장편소설': 12051, '예절': 12052, '파티마': 12053, '스카이스캐너': 12054, '열의': 12055, '서머셋': 12056, '김병철': 12057, '장문': 12058, 'love': 12059, 'ddu': 12060, 'du': 12061, '쇼미더머니': 12062, '분홍색': 12063, '매드클라운': 12064, '추대엽': 12065, '라섹': 12066, '정지훈': 12067, '삼엄하다': 12068, '석남': 12069, '워크아웃': 12070, '예경': 12071, '소년범': 12072, '생월': 12073, '호송차': 12074, '고육책': 12075, '커플링': 12076, 'iitp': 12077, '영령': 12078, '숭고하다': 12079, '각색': 12080, '생트집': 12081, '방목': 12082, '노머스': 12083, '분발': 12084, '보약': 12085, '신논현역': 12086, 'jaju': 12087, '배움': 12088, '민관학': 12089, '연못': 12090, '은솔': 12091, '차츰': 12092, '썸남썸녀': 12093, '유제두': 12094, '나로호': 12095, '맨부커상': 12096, '솜씨': 12097, '충무공': 12098, '근년': 12099, '이난영': 12100, '달리도': 12101, '노적봉': 12102, '신비롭다': 12103, '선남선녀': 12104, '하모': 12105, '고을': 12106, '한승원': 12107, '옥황상제': 12108, '마리안느': 12109, '마가렛': 12110, '몽돌': 12111, '선교사': 12112, '양림': 12113, '육지': 12114, '학연': 12115, '성함': 12116, '노현송': 12117, '핸들러': 12118, '보육원': 12119, '최저생계비': 12120, '위서': 12121, '여의도동': 12122, '난색': 12123, '강감찬': 12124, '대담': 12125, '극본': 12126, '유재': 12127, '이서': 12128, '최종회': 12129, '참신하다': 12130, '신드롬': 12131, 'von': 12132, '아인': 12133, '리스너': 12134, '현성': 12135, '강서영': 12136, '길꽃': 12137, '정물': 12138, '상일동': 12139, '아르테': 12140, '신월동': 12141, '신설역': 12142, '산성역': 12143, '사동': 12144, '대전대': 12145, '두정역': 12146, '금남로': 12147, '대심': 12148, '최저임금법': 12149, '호남지방통계청': 12150, '이호석': 12151, '모완일': 12152, '리메이크': 12153, '불행': 12154, '차명주': 12155, '폭력조직': 12156, '조상원': 12157, '일단락': 12158, '심모': 12159, 'pbs': 12160, '로런스': 12161, '팬질': 12162, 'gore': 12163, 'invisible': 12164, 'fit': 12165, '타가': 12166, '고어': 12167, '투습': 12168, '인비저블핏': 12169, '연남': 12170, '교제': 12171, '기부채납': 12172, '국조': 12173, 'beps': 12174, '바냐': 12175, '로열': 12176, '말괄량이': 12177, '한희': 12178, '명곡': 12179, 'yellow': 12180, 'hello': 12181, 'imagine': 12182, 'dragons': 12183, '인순이': 12184, '가창': 12185, '고철': 12186, '방민진': 12187, '천경자': 12188, '채색화': 12189, '염수': 12190, '송창': 12191, '화백': 12192, '나무껍질': 12193, '화법': 12194, '형언': 12195, '팝아티스트': 12196, '미술가': 12197, '원근법': 12198, '아크릴': 12199, '조형성': 12200, '모호하다': 12201, '승화': 12202, '격감': 12203, '청덕동': 12204, '광도': 12205, '드빌': 12206, '쉐라톤': 12207, 'spa': 12208, '민구': 12209, '부티크': 12210, '미니바': 12211, '빗다': 12212, '빗룸': 12213, 'honeymoon': 12214, '웨딩': 12215, 'premium': 12216, '해암': 12217, '인룸': 12218, '바비큐': 12219, '스맙': 12220, 'smap': 12221, '머리카락': 12222, 'ocha': 12223, '보호책임': 12224, '김수영': 12225, '부원': 12226, '장보': 12227, '지적재산': 12228, '초심': 12229, '재정상': 12230, '김성미': 12231, '방호': 12232, '근로장려금': 12233, '계산서': 12234, '차환용': 12235, '태양계': 12236, '르토': 12237, '비너스': 12238, '전찬': 12239, '포식': 12240, '잡식': 12241, '두서면': 12242, '와리': 12243, '윤재옥': 12244, 'esta': 12245, '산화마그네슘': 12246, 'mgo': 12247, '참혹하다': 12248, '이지선': 12249, '하버드': 12250, '이권': 12251, '조재희': 12252, '이크': 12253, '김학도': 12254, 'kora': 12255, '탯': 12256, 'ivr': 12257, 'aapor': 12258, '럿거스': 12259, '메모리카드': 12260, '싱어송라이터': 12261, '틈나다': 12262, '구군': 12263, '단기채': 12264, '자물쇠': 12265, '감금': 12266, '왕래': 12267, '단양': 12268, '천연기념물': 12269, '고수동굴': 12270, '종유석': 12271, '온달동굴': 12272, '원상': 12273, '벽지': 12274, '비호': 12275, '등록상표': 12276, '야구게임': 12277, '전광주': 12278, '외감': 12279, '법주사': 12280, '박진': 12281, '김도읍': 12282, '친황': 12283, '스모커': 12284, 'closer': 12285, 'luv': 12286, '교리': 12287, '용산정': 12288, '비창': 12289, '불입': 12290, '창교': 12291, '존비속': 12292, '문학진': 12293, '싱글차트': 12294, '엄태관': 12295, '롱기스트': 12296, '양봉화': 12297, '김종석': 12298, '송한섭': 12299, '비견': 12300, '캐스케이드': 12301, '김현구': 12302, '유원': 12303, '묵고': 12304, '송곡고': 12305, '송곡여고': 12306, '을지훈련': 12307, '허가증': 12308, '왕건함': 12309, '양원': 12310, '디움': 12311, '중랑캠핑숲': 12312, '동정': 12313, '조호연': 12314, '홍열': 12315, '크로나': 12316, '최빈국': 12317, '실비': 12318, '이토마토': 12319, '안구건조증': 12320, '굴절율': 12321, '북서울꿈의숲': 12322, '아카시아': 12323, '우럭': 12324, '민물장어': 12325, '바다장어': 12326, '등기부': 12327, '낙농업': 12328, '왕홍': 12329, '김기백': 12330, '팝펀딩': 12331, '한림': 12332, '응봉': 12333, '통학로': 12334, '화물자동차': 12335, '샤론': 12336, '넓이': 12337, '월넛': 12338, '서랍': 12339, '디오네': 12340, '코로나비': 12341, '권오석': 12342, 'ha': 12343, 'iad': 12344, '일신동': 12345, '연명': 12346, '탄원서': 12347, '년치': 12348, '엑세스': 12349, 'hold': 12350, '재위': 12351, '고영': 12352, '촘촘': 12353, '김소정': 12354, '김경래': 12355, '미술관': 12356, '떨어뜨리다': 12357, '촉진법': 12358, '한마음': 12359, '프로듀서': 12360, '장대': 12361, '생생': 12362, '시노펙': 12363, '비금속': 12364, '태동': 12365, '배율': 12366, '유모차': 12367, '케이프': 12368, '자명하다': 12369, '복권': 12370, '김현수': 12371, '리튬이온': 12372, '상호작용': 12373, '일어나지': 12374, '소변': 12375, '총선거': 12376, '아스': 12377, '모뎀': 12378, '어찌': 12379, '난제': 12380, '전속': 12381, '삼가다': 12382, '위생용품': 12383, '오희': 12384, '서울숲': 12385, '동구청': 12386, 'global': 12387, '바그다드': 12388, '공습': 12389, '무장': 12390, '구원투수': 12391, '스테이지': 12392, '톡톡하다': 12393, '소용': 12394, '너비': 12395, '반품': 12396, '어워즈': 12397, '에드': 12398, '폐쇄했다': 12399, '교가': 12400, '김인': 12401, '개화': 12402, '아낌없이': 12403, '내연기관': 12404, '톡스': 12405, '신조어': 12406, '깨우다': 12407, '잔재': 12408, 'ifrs': 12409, '쏙': 12410, '카르텔': 12411, '담합': 12412, '이명철': 12413, '김정유': 12414, '수퍼': 12415, '원사': 12416, '비욘드': 12417, '영업직': 12418, '벤치마킹': 12419, '김유성': 12420, '커트라인': 12421, '생명보험': 12422, '달말': 12423, '개발자': 12424, '표적': 12425, '원수': 12426, '쌍끌이': 12427, '천문학': 12428, '카라': 12429, '어리석다': 12430, '사망률': 12431, '삼보': 12432, '설레다': 12433, '펜디': 12434, '승하': 12435, '지혜': 12436, '경제력': 12437, '인턴십': 12438, '직장폐쇄': 12439, '브리': 12440, '륙': 12441, 'adt': 12442, '캠': 12443, '마시다': 12444, '국가인권위': 12445, '말리': 12446, '기중기': 12447, '기어': 12448, '산화': 12449, '정동': 12450, '분명': 12451, '뇌신경': 12452, '뇌졸중': 12453, 'unit': 12454, '팔레트': 12455, '사하다': 12456, '디지탈': 12457, '해충': 12458, '멸균': 12459, '차이잉원': 12460, '인준': 12461, '사활': 12462, '벼랑': 12463, '손흥민': 12464, '변모': 12465, '마리아': 12466, '기술사': 12467, '주파수': 12468, '이종일': 12469, '공신': 12470, '해체': 12471, '앞날': 12472, '함몰': 12473, '텔레그램': 12474, '침습': 12475, '청과': 12476, 'ngo': 12477, '손수': 12478, '부시': 12479, '말다툼': 12480, '직접투자': 12481, '파운드': 12482, 'fatf': 12483, '대응조치': 12484, '능선': 12485, '뒷돈': 12486, '총무': 12487, '축산': 12488, '한의원': 12489, '아데노바이러스': 12490, '구금': 12491, '다카': 12492, '어업': 12493, '과반': 12494, '정성호': 12495, '영사관': 12496, '영사': 12497, '외교관': 12498, '제각각': 12499, '인플레이션율': 12500, '정치가': 12501, '근간': 12502, '족쇄': 12503, '구독': 12504, '콜드': 12505, '치기': 12506, '의인': 12507, '논쟁': 12508, 'sfa': 12509, 'niaid': 12510, '인쇄': 12511, '에이즈': 12512, '너무도': 12513, '아산병원': 12514, '상선': 12515, '칭다오': 12516, '항로': 12517, '모되': 12518, '호출': 12519, '나주시': 12520, '춘천시': 12521, '포항시': 12522, '지질': 12523, '보시': 12524, '치하': 12525, '자랑스럽다': 12526, '절정': 12527, 'nec': 12528, '재무관리': 12529, 'case': 12530, '건폐율': 12531, '외곽순환': 12532, '보더': 12533, '장석영': 12534, '히데': 12535, '마산의료원': 12536, '티아이': 12537, '박승': 12538, '전철': 12539, '새로이': 12540, '불합리': 12541, '고교생': 12542, '고등학생': 12543, '잔치': 12544, '잡아가다': 12545, '변속': 12546, '교차로': 12547, '무빙': 12548, '박자': 12549, '딩': 12550, '알로': 12551, '인큐': 12552, '넘어오다': 12553, '성태': 12554, '매점매석': 12555, '새기다': 12556, '원예': 12557, '알콜': 12558, '하이트진로': 12559, '세븐일레븐': 12560, '담백하다': 12561, '티셔츠': 12562, '지현': 12563, '사물': 12564, '현영': 12565, '대수': 12566, '오피넷': 12567, '고소': 12568, '유기한': 12569, '흩어지다': 12570, '생존권': 12571, '배기': 12572, 'sos': 12573, '수급인': 12574, '성질': 12575, '졸업생': 12576, '퇴치': 12577, '아무래도': 12578, '귀띔': 12579, '복지사': 12580, '일용직': 12581, '제자리': 12582, '크루': 12583, '농식품부': 12584, '뛰어오르다': 12585, '모두투어': 12586, '적절': 12587, '콜롬비아': 12588, '왕세자': 12589, '변인': 12590, '조선소': 12591, '생리대': 12592, '간암': 12593, '망은': 12594, '경전철': 12595, '즉석': 12596, '장난': 12597, '해봤다': 12598, '코다': 12599, '서열': 12600, '김두관': 12601, '대첩': 12602, '십년': 12603, '거물': 12604, '협': 12605, '이윤정': 12606, '거장': 12607, 'sky': 12608, '점화': 12609, '섣부르다': 12610, '청문회': 12611, '포스코에너지': 12612, '졸업식': 12613, '담임': 12614, '오래전': 12615, '내보이다': 12616, '몰입도': 12617, '가로지르다': 12618, '초교': 12619, '찬물': 12620, 'boe': 12621, '워치': 12622, '바삭': 12623, '반죽': 12624, '구매력': 12625, 'oem': 12626, '견조': 12627, '스치다': 12628, '권영식': 12629, '의거': 12630, '온실': 12631, '동지': 12632, '태그': 12633, '맞춤화': 12634, '리창': 12635, '가령': 12636, '장지원': 12637, 'closing': 12638, '철근': 12639, '전념': 12640, '질타': 12641, '쟁탈전': 12642, 'nia': 12643, '물꼬': 12644, 'cfo': 12645, '앵커': 12646, '유언': 12647, '페이스': 12648, '초미세먼지': 12649, '등산로': 12650, '자매': 12651, '만큼이나': 12652, '이주영': 12653, '장만': 12654, '대박나다': 12655, '시적': 12656, '수혜자': 12657, '래야': 12658, '근접': 12659, '최선호': 12660, '소도시': 12661, '운동권': 12662, '대강': 12663, '엔드': 12664, '트레이닝': 12665, '코발트': 12666, 'gw': 12667, '반려': 12668, '포렌식': 12669, '화투': 12670, 'nfc': 12671, '카본': 12672, '블랙리스트': 12673, '니코': 12674, '금강': 12675, '보정': 12676, 'line': 12677, '농축': 12678, '오믈렛': 12679, '에스프레소': 12680, '음성인식': 12681, '무난': 12682, '스왑': 12683, '희비': 12684, '로켓': 12685, 'nasa': 12686, '진행자': 12687, '실리콘밸리': 12688, '증서': 12689, '갯수': 12690, 'org': 12691, 'list': 12692, '노무현': 12693, '소멸': 12694, '낙점': 12695, '김연자': 12696, '문책': 12697, '손자': 12698, '난징': 12699, '매출채권': 12700, 'members': 12701, 'work': 12702, 'which': 12703, '매크로': 12704, '하드': 12705, 'bsi': 12706, '영화감독': 12707, '보스': 12708, 'vice': 12709, 'than': 12710, '고국': 12711, '창궐': 12712, '살짝': 12713, '전망대': 12714, '수건': 12715, '활짝': 12716, '카르': 12717, '수프': 12718, '신화통신': 12719, '라슬란': 12720, '사우스차이나': 12721, '자멸': 12722, '여행자': 12723, '대식세포': 12724, '사멸': 12725, '브리프': 12726, '국가연합': 12727, 'including': 12728, 'what': 12729, '불순': 12730, '원주공항': 12731, '그다음': 12732, '널뛰기': 12733, '세월': 12734, '오팔': 12735, 'life': 12736, '영화제': 12737, '끌리다': 12738, '착': 12739, '포탄': 12740, '차도선': 12741, '무분별': 12742, '수요시위': 12743, '안부': 12744, '보내오다': 12745, '금방': 12746, '나름': 12747, '조심하다': 12748, '막막하다': 12749, '혹': 12750, '해이': 12751, '진척': 12752, 'gna': 12753, 'lna': 12754, '하프': 12755, 'religious': 12756, 'been': 12757, 'shincheonji': 12758, 'they': 12759, 'million': 12760, '스케일': 12761, 'had': 12762, '심재철': 12763, '보성군': 12764, '롤링스톤스': 12765, '유한회사': 12766, '디지털로': 12767, '밸런스': 12768, '도청': 12769, 'room': 12770, 'photos': 12771, 'cho': 12772, 'meeting': 12773, 'review': 12774, '흉기': 12775, '위태': 12776, 'sales': 12777, 'motor': 12778, '감사패': 12779, '온정': 12780, '폭제': 12781, 'ep': 12782, '김은혜': 12783, '의원님': 12784, '외치': 12785, '약칭': 12786, '소방청': 12787, '소방본부': 12788, '항공대': 12789, '이경민': 12790, '사노피': 12791, '라이벌': 12792, '쓴소리': 12793, '드물다': 12794, '이치': 12795, '억지': 12796, '온갖': 12797, '관문': 12798, '빗방울': 12799, '깨지다': 12800, '아쿠아': 12801, '신안': 12802, '육계': 12803, '컨버전': 12804, '사이클링': 12805, 'middot': 12806, '힘스': 12807, '호스': 12808, 'td': 12809, '조경': 12810, '붙박다': 12811, '이장': 12812, '퀄리티': 12813, '시식': 12814, 'adas': 12815, '멜론': 12816, '웹서비스': 12817, '제피': 12818, '러스': 12819, '엔비디아': 12820, 'gpu': 12821, 'zone': 12822, '상관관계': 12823, '철관': 12824, '내공': 12825, '덜하다': 12826, '리가': 12827, '동호회': 12828, '홍석천': 12829, '프로축구': 12830, '퓨틱스': 12831, '와이어': 12832, '김성주': 12833, '공룡': 12834, '소정': 12835, '탱크': 12836, '소울': 12837, 'stock': 12838, '반지': 12839, '인조': 12840, '오펙': 12841, '여로': 12842, '프라이드': 12843, '호캉스': 12844, '의약': 12845, '디아': 12846, 'snk': 12847, '유라': 12848, '희박하다': 12849, '투매': 12850, '가려지다': 12851, '치즈케이크': 12852, '프로바이오틱스': 12853, '이스트': 12854, '무비': 12855, '두께': 12856, '론칭했다': 12857, '교부': 12858, '수일': 12859, '신동': 12860, 'sars': 12861, '커넥티드': 12862, '챔피언십': 12863, '우세': 12864, '제약업': 12865, '발표회': 12866, 'kcft': 12867, '공자': 12868, '긴박하다': 12869, '투톤': 12870, 'risd': 12871, '만도': 12872, '생맥주': 12873, '싫다': 12874, '소리바다': 12875, '수동': 12876, '번복': 12877, '길거리': 12878, '조경태': 12879, '미끼': 12880, '옴니핏': 12881, '갈비': 12882, '군중': 12883, '미비하다': 12884, '손대다': 12885, '파멸': 12886, '리움': 12887, '캔들': 12888, '넋': 12889, '공지영': 12890, '난리': 12891, '한경': 12892, '가라앉다': 12893, '독립성': 12894, '잠자리': 12895, '맹공': 12896, '부내': 12897, '독촉': 12898, '에라도': 12899, '모텔': 12900, '파다하다': 12901, '격추': 12902, '도성': 12903, '짝': 12904, '동수': 12905, '백석동': 12906, '화물선': 12907, '공산당': 12908, '밑그림': 12909, '호정': 12910, '외압': 12911, '위중': 12912, '퍼블릭': 12913, '비웃다': 12914, '마구': 12915, '찍어내다': 12916, '동포': 12917, '위기탈출': 12918, '포퓰리즘': 12919, '성급하다': 12920, '순리': 12921, '오케스트라': 12922, 'dmc': 12923, '삼바': 12924, '신주인수권': 12925, '썩': 12926, '탁사': 12927, '계파': 12928, '손색': 12929, '간첩': 12930, '객원': 12931, '응대': 12932, '형사고소': 12933, '항구': 12934, '발전기': 12935, '싸매다': 12936, '도구로': 12937, '거위': 12938, '영재': 12939, '저리': 12940, '박영': 12941, '정신대': 12942, '유희': 12943, '아주대병원': 12944, '중상': 12945, '액면가': 12946, '인천국제공항공사': 12947, '지상욱': 12948, '서양': 12949, '쉘터': 12950, '완강': 12951, '영안': 12952, 'ihme': 12953, '촉박하다': 12954, '너무하다': 12955, '재수': 12956, '동대문시장': 12957, '키위': 12958, '특구': 12959, '스미다': 12960, '토모': 12961, '방점': 12962, '인위': 12963, '싸이월드': 12964, '여유롭다': 12965, '조정식': 12966, '제작자': 12967, '바나나': 12968, '유라시아': 12969, '애틋하다': 12970, '깨': 12971, '조선일보': 12972, '제트': 12973, '배급사': 12974, '박지원': 12975, '엘리': 12976, '훈장': 12977, '장학생': 12978, '이경수': 12979, '원광대': 12980, '라지': 12981, '에릭': 12982, '원격교육': 12983, '험난하다': 12984, '모디': 12985, '잔뜩': 12986, '법칙': 12987, '밑도': 12988, '내려앉다': 12989, '이광재': 12990, '차이점': 12991, '마는': 12992, '의붓아들': 12993, '번식': 12994, '허성': 12995, '부작': 12996, '개구리': 12997, '덱': 12998, '개포': 12999, '일산동구': 13000, '임시정부': 13001, '도해': 13002, '실손': 13003, '박지환': 13004, '김민영': 13005, 'point': 13006, '부리': 13007, '인포콘': 13008, 'connectivity': 13009, '흥국화재': 13010, '우버': 13011, '해리': 13012, '부추': 13013, '임철영': 13014, '마담': 13015, '플로리다주': 13016, '온난화': 13017, '로욜': 13018, '그린티': 13019, '기체': 13020, '김건': 13021, '포켓': 13022, '프레스티지': 13023, '금투협': 13024, 'wi': 13025, '영흥': 13026, '잔존': 13027, '무언가': 13028, '식탁': 13029, '심박수': 13030, '앨라배마': 13031, 'sma': 13032, '코데즈': 13033, '컴바인': 13034, '권총': 13035, '즙': 13036, '예약판매': 13037, 'oca': 13038, '박주현': 13039, '클릿': 13040, '저스트': 13041, '통전': 13042, 'mobility': 13043, 'vix': 13044, '선서': 13045, '로시': 13046, '홍재경': 13047, 'ncs': 13048, '일부분': 13049, '실의': 13050, '웨이즈': 13051, '동남': 13052, '포구': 13053, '처우': 13054, '구례': 13055, '화평': 13056, '년여': 13057, '계시': 13058, '지표면': 13059, '암컷': 13060, '즉석밥': 13061, '군무원': 13062, '대만해협': 13063, '차근차근': 13064, '본원': 13065, '에쓰오일': 13066, 'hr': 13067, '신건': 13068, 'kic': 13069, '화곡': 13070, '피온': 13071, '의봉': 13072, '택법': 13073, '가나안': 13074, 'hdr': 13075, '기압': 13076, '수구': 13077, '위함': 13078, '벡스코': 13079, '나비': 13080, '대방': 13081, '경원선': 13082, '블럭': 13083, '덕계역': 13084, '녹': 13085, '다크': 13086, '파이프': 13087, '한글과컴퓨터': 13088, '페이퍼': 13089, '조제': 13090, '조해': 13091, '타점': 13092, '선분': 13093, '위배': 13094, '에스에프': 13095, '을지로': 13096, '홍익표': 13097, '충남대': 13098, 'rpg': 13099, 'online': 13100, '후속작': 13101, '금번': 13102, '암시': 13103, '수직': 13104, '백만': 13105, '조엘': 13106, 'corporation': 13107, '내재': 13108, '세진': 13109, '녹내장': 13110, '근시': 13111, '신흥동': 13112, '이자보': 13113, '제소': 13114, '속력': 13115, '집사': 13116, '돔': 13117, '치마': 13118, '김민아': 13119, '비정': 13120, '엔피': 13121, '한길': 13122, '인텐스': 13123, '안티': 13124, '포르쉐': 13125, '제네바': 13126, '쇼케이스': 13127, '마크로': 13128, '직결': 13129, '햇빛': 13130, '해독': 13131, '신음': 13132, 'af': 13133, '도란': 13134, '쓸모': 13135, '중후': 13136, '두뇌': 13137, '퀄컴': 13138, '퀀텀': 13139, '웰빙': 13140, '리먼': 13141, '자각': 13142, '조차도': 13143, '양태': 13144, '영원하다': 13145, '벤치': 13146, '보니하니': 13147, '고발장': 13148, '주먹': 13149, '술법': 13150, '뚝섬': 13151, '선회': 13152, '차후': 13153, '최정희': 13154, 'market': 13155, '크리스틴': 13156, '하루히': 13157, 'boj': 13158, '해시태그': 13159, '이정옥': 13160, '상국': 13161, '형주': 13162, '데브': 13163, '용감하다': 13164, '출자전환': 13165, '김재': 13166, '쇠퇴하다': 13167, '이노와이어리스': 13168, '계측장비': 13169, '본향': 13170, '열망': 13171, '홍수': 13172, '귀속': 13173, '행여': 13174, '한자': 13175, '자연재해': 13176, '환경문제': 13177, '김정': 13178, '루트': 13179, '아메리카': 13180, '한선': 13181, '콜라보': 13182, '진행형': 13183, 'siem': 13184, '착각': 13185, '신민준': 13186, '삼륭물산': 13187, '상품화': 13188, '생활고': 13189, '번거롭다': 13190, '병렬': 13191, '해성': 13192, '정가': 13193, '더위': 13194, '간주': 13195, '쓰다듬다': 13196, '피곤하다': 13197, '키스': 13198, '직문': 13199, '가만히': 13200, '볼트': 13201, '에어백': 13202, '루크': 13203, '어드벤처': 13204, '티저': 13205, '기표': 13206, '전무하다': 13207, 'mz': 13208, '김우석': 13209, '발산': 13210, '코노': 13211, '반짝': 13212, '도우': 13213, '로제': 13214, '다채롭': 13215, '가닥': 13216, '하마': 13217, '대중성': 13218, 'mh': 13219, '반정부': 13220, '낭패': 13221, '국기원': 13222, '지금껏': 13223, '꼬마': 13224, '체인지': 13225, '치수': 13226, '모어': 13227, '칫솔': 13228, 'red': 13229, '양심': 13230, '전복': 13231, '소급': 13232, '이해해': 13233, '잠복기': 13234, '분양물량': 13235, '과금': 13236, '흉터': 13237, '이비인후과': 13238, '낭': 13239, '빗썸': 13240, '소화기': 13241, '윤영': 13242, '흐': 13243, '인정이': 13244, '아세아': 13245, '한솔': 13246, '박종오': 13247, '습': 13248, '김지': 13249, 'keb': 13250, '포탈': 13251, '단비': 13252, '비행단': 13253, '배선': 13254, '탈환': 13255, '임용': 13256, '결승전': 13257, '황실': 13258, '달초': 13259, '기철': 13260, '설사': 13261, 'mds': 13262, '웨스': 13263, '교섭단체': 13264, '칠곡': 13265, '공이': 13266, '획일': 13267, '비로소': 13268, '유무': 13269, '개항': 13270, '계영': 13271, '울상': 13272, '무치': 13273, 'lpg': 13274, '애경': 13275, '아미': 13276, '확대경': 13277, '유혹': 13278, '이정현': 13279, '규율': 13280, '통화스왑': 13281, '국립보건원': 13282, '다각도로': 13283, '합리화': 13284, '절호': 13285, '가평군': 13286, '버스정류장': 13287, '묻히다': 13288, '제노': 13289, '분당구': 13290, '표방': 13291, '오클라호마': 13292, '포화상태': 13293, '전자통신': 13294, 'dx': 13295, '요하': 13296, '택트': 13297, '계수': 13298, '타당성조사': 13299, '할부': 13300, '어부지리': 13301, '증식': 13302, '해동': 13303, '리자': 13304, '대미': 13305, '불쏘시개': 13306, '쪼그라들다': 13307, '사설': 13308, '요코하마': 13309, 'rfhic': 13310, '트레킹': 13311, '오산시': 13312, '박윤': 13313, '생으로': 13314, '원만하다': 13315, '여간': 13316, '기염': 13317, '우측': 13318, 'ps': 13319, '비어': 13320, '사두': 13321, '수배': 13322, '인터폴': 13323, '적색': 13324, '지오': 13325, '문과': 13326, '하소연': 13327, '유모': 13328, '상장회사': 13329, '용감': 13330, '숯': 13331, '소주': 13332, '옴므': 13333, '콜렉션': 13334, 'value': 13335, '베타': 13336, '휘발윳값': 13337, '떡국': 13338, '손괴': 13339, '고양이': 13340, '경시': 13341, '방불': 13342, 'pick': 13343, '폭우': 13344, '박도': 13345, '지체상금': 13346, '것이므': 13347, '화랑': 13348, '국방위원장': 13349, '안일하다': 13350, '인민일보': 13351, '보우': 13352, '정치국': 13353, '용돈': 13354, '스코리아': 13355, '차림': 13356, '투사': 13357, '준가': 13358, '아바': 13359, '엠게임': 13360, '멘탈': 13361, '씨드': 13362, '절체절명': 13363, '브루나이': 13364, '채광': 13365, 'ltv': 13366, '발대식': 13367, '토종': 13368, 'ibs': 13369, '밝혀내다': 13370, '수려': 13371, '운반': 13372, '뵙다': 13373, '색깔': 13374, '싸늘하다': 13375, '바지': 13376, 'big': 13377, '달인': 13378, '만가': 13379, 'emw': 13380, '안일': 13381, '하이테크': 13382, '물리학': 13383, '쿼티': 13384, 'wm': 13385, '생동감': 13386, '해초': 13387, '니드': 13388, '방과후': 13389, '경인선': 13390, '맴돌다': 13391, '트레이드': 13392, '다사읍': 13393, '수성구': 13394, '견조할': 13395, '미쓰비시': 13396, '영원': 13397, '장막성전': 13398, '서브': 13399, '일베': 13400, 'tvn': 13401, '퇴임': 13402, '미가': 13403, '중랑': 13404, '시니어': 13405, '용산역': 13406, '루니': 13407, '몰려오다': 13408, '네시': 13409, '초읽기': 13410, '식견': 13411, 'cpp': 13412, '콘솔': 13413, 'ssd': 13414, '모조리': 13415, '꼭대기': 13416, '부가세': 13417, '획': 13418, '신랄하다': 13419, '박정희': 13420, '암살': 13421, '항일': 13422, '공산': 13423, '병원균': 13424, '광채': 13425, '그늘': 13426, '척추': 13427, '환부': 13428, '골격': 13429, '장판': 13430, '투신': 13431, '밀리': 13432, '심리학': 13433, '겸비': 13434, '보라': 13435, '연결고리': 13436, '플라즈마': 13437, '대장균': 13438, '저온': 13439, '순면': 13440, '지스': 13441, 'av': 13442, '귀환': 13443, '인터파크': 13444, '저렴': 13445, 'ncm': 13446, '계보': 13447, '하명': 13448, '부족함': 13449, '불면': 13450, '부풀리기': 13451, '하림': 13452, '충당금': 13453, 'fdi': 13454, '탑골': 13455, '재치': 13456, '재성': 13457, '우노': 13458, '주름': 13459, '해갈': 13460, '부딪치다': 13461, '동맥경화': 13462, '카탈로그': 13463, '인삼': 13464, '학교생활': 13465, '남미': 13466, 'ngs': 13467, '튤립': 13468, '직판': 13469, '유념': 13470, '병점역': 13471, 'time': 13472, '다날': 13473, '제당': 13474, '아민': 13475, '먹방': 13476, '셀링': 13477, '쾌거': 13478, '자간': 13479, '욕': 13480, '혹독하다': 13481, '보임': 13482, '증산': 13483, '카리스마': 13484, '붙잡히다': 13485, '결식': 13486, '목포시': 13487, 'me': 13488, '주요한': 13489, 'ld': 13490, 'attn': 13491, 'saturday': 13492, 'other': 13493, 'province': 13494, 'office': 13495, 'take': 13496, 'run': 13497, 'sec': 13498, 'free': 13499, '애틀랜타': 13500, 'lighting': 13501, 'can': 13502, 'president': 13503, 'under': 13504, 'into': 13505, '남매': 13506, '헤어지다': 13507, '웰니스': 13508, '한의사': 13509, '스카': 13510, '억만장자': 13511, '접시': 13512, '옥외': 13513, '켄트': 13514, '선미': 13515, '보이콧': 13516, '고객정보': 13517, '이기광': 13518, '시안': 13519, '추론': 13520, '김동철': 13521, '새만금': 13522, '펑': 13523, '수수': 13524, '이직': 13525, 'does': 13526, 'down': 13527, 'against': 13528, 'like': 13529, '유미': 13530, '동북아': 13531, '시애틀': 13532, '습도': 13533, '무제': 13534, '필수품': 13535, '달라붙다': 13536, '양재역': 13537, '광명역': 13538, '발권': 13539, '암울하다': 13540, '아우성': 13541, 'cme': 13542, '으로선': 13543, '붕괴하다': 13544, '사법부': 13545, '경성': 13546, '베이커리': 13547, '야산': 13548, '양극': 13549, '전기화학': 13550, '미하': 13551, '토목': 13552, '김홍': 13553, '시민사회': 13554, '여단': 13555, '뷰노': 13556, '카스': 13557, '검은색': 13558, '나가야': 13559, '신앙': 13560, '나누기': 13561, '과외': 13562, '이프': 13563, '일파': 13564, '진격': 13565, 'apartment': 13566, 'outbreak': 13567, 'fully': 13568, 'young': 13569, 'followers': 13570, 'center': 13571, 'days': 13572, 'idc': 13573, 'record': 13574, '니콜라': 13575, '공석': 13576, '이찬원': 13577, '에피소드': 13578, '문희상': 13579, '특위': 13580, '되풀이': 13581, '뿜어내다': 13582, '물음': 13583, '비도': 13584, '선폭': 13585, '소비전력': 13586, '타이베이': 13587, 'digital': 13588, '동래구': 13589, 'social': 13590, '콘테': 13591, 'industry': 13592, 'billion': 13593, 'period': 13594, 'income': 13595, '뉴욕시': 13596, '천연가스': 13597, '취임식': 13598, '문진': 13599, 'ssangyong': 13600, 'sports': 13601, '김병관': 13602, '위선': 13603, '그레그': 13604, '김석기': 13605, '우성': 13606, '커브': 13607, 'safety': 13608, 'issue': 13609, '장남': 13610, '거슬러': 13611, '야스쿠니': 13612, '추도': 13613, '타국': 13614, '불감증': 13615, '밤사이': 13616, '영서': 13617, '옥수동': 13618, '타워팰리스': 13619, 'cro': 13620, '대봉': 13621, '엘에스': 13622, 'lsquo': 13623, '스턴': 13624, '기둥': 13625, '발광': 13626, 'bu': 13627, '문장': 13628, '만반': 13629, '대용': 13630, '통지서': 13631, '상어': 13632, '숭례문': 13633, '액화': 13634, '임마': 13635, '전경': 13636, '화도': 13637, '바흐': 13638, '수력': 13639, '풍력': 13640, '영월': 13641, '하현': 13642, '교란': 13643, '적수': 13644, '똑똑': 13645, '국민카드': 13646, '판관': 13647, '한상연': 13648, 'hk': 13649, '도곡': 13650, '비아': 13651, '값지다': 13652, '머셜': 13653, '선물지수': 13654, '애매하다': 13655, '흘러내리다': 13656, '우승자': 13657, 'reits': 13658, '섹시': 13659, '유틸리티': 13660, '나체': 13661, '슈가': 13662, 'dwrx': 13663, '기고': 13664, '화훼농': 13665, '수백억': 13666, '수십억': 13667, '틈새': 13668, '사후관리': 13669, '대식': 13670, 'hev': 13671, '아르곤': 13672, '듀폰': 13673, '재사': 13674, '벡터': 13675, '유로화': 13676, '재벌': 13677, 'asf': 13678, '길드': 13679, '천주': 13680, '블레이드앤소울': 13681, '이승원': 13682, '일곱개': 13683, 'gold': 13684, '모건스탠리': 13685, '트랙터': 13686, '대리석': 13687, '장서': 13688, '메디케어': 13689, '렌더링': 13690, '유익하다': 13691, '비앤티': 13692, '프로필': 13693, '윤상': 13694, '비소': 13695, '완결': 13696, 'ki': 13697, '플래티넘': 13698, '매실': 13699, '신촌': 13700, '밑돈': 13701, '섬유화': 13702, '브레이커': 13703, '기약': 13704, '지정학': 13705, '뇌관': 13706, '변액': 13707, '힘주다': 13708, '콜로': 13709, '미용': 13710, '쎄다': 13711, '간이': 13712, '김선': 13713, '타이탄': 13714, '명일동': 13715, '큐브엔터테인먼트': 13716, '정지원': 13717, '강동구청': 13718, '이수근': 13719, '우러': 13720, '따라잡다': 13721, '돌연변이': 13722, '셋톱박스': 13723, 'lpl': 13724, '서세원': 13725, '동명': 13726, '금속노조': 13727, '뱅크오브아메리카': 13728, '리워': 13729, '포장재': 13730, '요충지': 13731, '쿠웨이트': 13732, '최정우': 13733, '삼일': 13734, '여각': 13735, '차오르다': 13736, '란스': 13737, '프리젠테이션': 13738, '미학': 13739, '음향': 13740, '테팔': 13741, '집기': 13742, '코센': 13743, '서호': 13744, '아카이브': 13745, '덩이': 13746, '보듬다': 13747, '성지': 13748, '결위': 13749, '얼빠지다': 13750, '임종석': 13751, '꼽는': 13752, '의연하다': 13753, '박형준': 13754, '굽': 13755, '넘사벽': 13756, '달린다': 13757, '십여': 13758, '표지판': 13759, '박상': 13760, '향균': 13761, '미국의소리': 13762, '성병': 13763, '려면': 13764, '이훈': 13765, '유부': 13766, '뒤집힌': 13767, 'hmr': 13768, '운동복': 13769, 'dgist': 13770, '김홍걸': 13771, 'rg': 13772, 'xxx': 13773, '쥐': 13774, '이분': 13775, '몰카': 13776, '낯': 13777, '희소식': 13778, '변기': 13779, '험하다': 13780, '식당가': 13781, '승마': 13782, '솔직': 13783, '가망': 13784, '대재앙': 13785, '절규': 13786, '번진': 13787, '홍콩인': 13788, '공정사회': 13789, '간선': 13790, '도덕성': 13791, '작별': 13792, '유재수': 13793, '한동훈': 13794, '화나다': 13795, '인과관계': 13796, '환매조건부채권': 13797, '빼놓다': 13798, '의총': 13799, '반주': 13800, '렉서스': 13801, 'gbc': 13802, '송정': 13803, 'vrds': 13804, '양도소득': 13805, '평당': 13806, '느닷없다': 13807, '도시철도': 13808, '바이럴': 13809, '드럽다': 13810, '가습기': 13811, '집요하다': 13812, '들여놓다': 13813, '인계동': 13814, '몰링': 13815, '곡동': 13816, '레이더스': 13817, '찍히다': 13818, '학비': 13819, '곰팡이': 13820, '냄비': 13821, '새정치': 13822, '머스크': 13823, 'gls': 13824, '향기': 13825, '창포': 13826, '하필': 13827, '재적': 13828, '노형동': 13829, '전입': 13830, '무너뜨릴': 13831, '단정': 13832, '쌀쌀하다': 13833, '봄날': 13834, '황금알': 13835, '김지형': 13836, '시속': 13837, '창업가': 13838, 'kw': 13839, '화이자': 13840, '궤': 13841, '한밤': 13842, 'facebook': 13843, '도금': 13844, '강압': 13845, '원외': 13846, '황당': 13847, '대자연': 13848, '자락': 13849, '감수성': 13850, '촉감': 13851, '물감': 13852, '버스정류소': 13853, '황보': 13854, '정보통신망': 13855, '당권': 13856, '대충': 13857, '조영남': 13858, '시민사회단체': 13859, '완재': 13860, '여실히': 13861, '럭스': 13862, '방시혁': 13863, '옥류관': 13864, '중임': 13865, '만분': 13866, '만큼의': 13867, 'stem': 13868, '면방': 13869, '체불': 13870, '향연': 13871, '부정행위': 13872, '망치다': 13873, '왕성': 13874, '김성환': 13875, '베트남어': 13876, '하인': 13877, '고함': 13878, '갖가지': 13879, '엘리자베스': 13880, '봉준호': 13881, '야구장': 13882, '깨닫다': 13883, '곽대훈': 13884, '저렇게': 13885, '제윤경': 13886, 'money': 13887, '폐쇄했으': 13888, '차마': 13889, '참상': 13890, '내리막': 13891, '가벼워지다': 13892, '경전': 13893, '고마움': 13894, '종국': 13895, '유추': 13896, '박영수': 13897, '파킹': 13898, '야채': 13899, '끓이다': 13900, '부도덕하다': 13901, '글렌피딕': 13902, '칵테일': 13903, '역청': 13904, '광산업': 13905, '세련': 13906, '엄벌': 13907, '주어': 13908, '들썩이다': 13909, '각인': 13910, '민간인': 13911, '다용': 13912, '데려오다': 13913, '일류': 13914, '병목현상': 13915, '역차별': 13916, 'bar': 13917, '서지': 13918, '광기': 13919, '존스홉킨스': 13920, '전등': 13921, '싱크대': 13922, '쫓기다': 13923, '연하다': 13924, '원형': 13925, 'cf': 13926, '윌': 13927, '실소': 13928, '뉴턴': 13929, '수다': 13930, '텔러스': 13931, '입장료': 13932, '중문': 13933, '진솔하다': 13934, '콜라보레이션': 13935, '씨앗': 13936, 'infinity': 13937, '퇴장': 13938, '서금': 13939, '한국프랜': 13940, '문건': 13941, '임원진': 13942, '최우': 13943, '백종민': 13944, '균열': 13945, '케빈': 13946, '고압': 13947, '가열': 13948, '저당': 13949, '백미': 13950, '동점': 13951, '피난': 13952, '임춘': 13953, '위헌': 13954, '광산구': 13955, '활주로': 13956, '파편': 13957, '최대로': 13958, '혈세': 13959, '경남대': 13960, '형형색색': 13961, '스트로베리': 13962, '애비뉴': 13963, '낌': 13964, '선봬': 13965, '클린턴': 13966, '자급': 13967, '역효과': 13968, '거머쥐': 13969, '단열': 13970, '동양네트웍스': 13971, '홍성': 13972, '원봉': 13973, '장흥군': 13974, '캘린더': 13975, '리슨': 13976, '애플스토어': 13977, '미로': 13978, '시브': 13979, '닻': 13980, '항행': 13981, '박수': 13982, '점심식사': 13983, '산둥성': 13984, '전자랜드': 13985, '목별': 13986, '지린성': 13987, '어떻': 13988, '장차': 13989, 'amt': 13990, '식빵': 13991, '양상추': 13992, 'elb': 13993, '붐업': 13994, '용두': 13995, '간혹': 13996, '개포동': 13997, '평촌': 13998, '냉기': 13999, '스캔들': 14000, '개그우먼': 14001, 'bbq': 14002, '우대금리': 14003, '부행': 14004, '청파로': 14005, 'boa': 14006, '완도': 14007, '분도': 14008, '초능력': 14009, '눈덩이': 14010, '인민군': 14011, '특별회계': 14012, '용도지역': 14013, '총리관저': 14014, '등급제': 14015, '녹차': 14016, '골다공증': 14017, '링산': 14018, '상설': 14019, 'ufc': 14020, '금메달': 14021, '삼부': 14022, '아산시': 14023, '안동의료원': 14024, '스포츠클럽': 14025, '솔선수범': 14026, '악몽': 14027, '지구촌': 14028, '토머스': 14029, '경도': 14030, '까마귀': 14031, '민평': 14032, '극명하다': 14033, '양병': 14034, '이동주': 14035, '개막전': 14036, '더파': 14037, '타로': 14038, '방지법': 14039, '백인': 14040, '대만인': 14041, '갈증': 14042, '울릉도': 14043, '무고': 14044, '화순군': 14045, '백두산': 14046, '사보다': 14047, '돈줄': 14048, '하안동': 14049, '연탄': 14050, '단식': 14051, 'svc': 14052, '이맥스': 14053, '호국보훈': 14054, '타협': 14055, '마힌드라': 14056, 'kpmg': 14057, '포차': 14058, '비버': 14059, '안태': 14060, '분규': 14061, '우미': 14062, '대부도': 14063, '한가롭다': 14064, '코스트코': 14065, 'dsr': 14066, '앞장': 14067, 'performance': 14068, '보릿고개': 14069, '확약': 14070, '초빙교수': 14071, 'ad': 14072, '포디온': 14073, '애강': 14074, '처마': 14075, '시기상조': 14076, '펌프': 14077, '여과': 14078, '행주': 14079, '새우깡': 14080, 'ser': 14081, 'hi': 14082, '용검': 14083, '사권': 14084, '더블딥': 14085, '매교역': 14086, '알부민': 14087, '쇼트': 14088, '틱톡': 14089, '김용운': 14090, '노블': 14091, '운정': 14092, '브레이크': 14093, '주변기기': 14094, '군데': 14095, '임자': 14096, '베셀': 14097, '필히': 14098, '캐치프레이즈': 14099, '송영길': 14100, '부동산대책': 14101, '웃돌': 14102, '원희룡': 14103, '운전기사': 14104, '네거티브': 14105, '가업승계': 14106, '컨드': 14107, '다이브': 14108, '패스파인더': 14109, '피파온라인': 14110, '구경': 14111, '창안': 14112, '나머진': 14113, '사지': 14114, 'ak': 14115, '메드': 14116, '삽': 14117, '투영': 14118, '여타': 14119, '국제무역': 14120, '민사': 14121, '저고리': 14122, '딱이다': 14123, '단추': 14124, '신속성': 14125, '조광': 14126, '컬렉션': 14127, '까먹다': 14128, '느긋하다': 14129, '횡보': 14130, '항산화': 14131, '보충': 14132, '조아': 14133, 'pentax': 14134, 'aps': 14135, '사진가': 14136, '시야': 14137, '이어도': 14138, '칩셋': 14139, '숙명': 14140, '스냅드래곤': 14141, '황희': 14142, '일본어': 14143, '바르도': 14144, '비화': 14145, '수수방관': 14146, 'odm': 14147, '경태': 14148, '절제': 14149, '술기': 14150, '가상하다': 14151, '핀셋': 14152, '저러다': 14153, '마블': 14154, '이란혁명': 14155, '파이낸셜타임스': 14156, '에바': 14157, '버냉키': 14158, '수험생': 14159, '습하다': 14160, 'cmmi': 14161, 'capability': 14162, '외산': 14163, '매기': 14164, 'lab': 14165, '슈': 14166, '아가': 14167, '변속기': 14168, '영업정지': 14169, '띄어쓰기': 14170, '손익계산서': 14171, '쓴다': 14172, '손사래': 14173, '분업': 14174, '취약점': 14175, '사슴': 14176, 'pet': 14177, '육상': 14178, '재동': 14179, '금융정책': 14180, '이광수': 14181, '원상회복': 14182, '프로토콜': 14183, '메리츠화재': 14184, '목돈': 14185, '잔해': 14186, '엉': 14187, '리메드': 14188, '토즈': 14189, '발리': 14190, '꾸리': 14191, 'sv': 14192, '공경': 14193, '김영환': 14194, 'pm': 14195, '인성': 14196, '기념일': 14197, '다대오': 14198, '스테': 14199, '디엠': 14200, '목장': 14201, '로컬': 14202, '산후조리원': 14203, '신생아': 14204, '수생': 14205, '동조': 14206, '내주': 14207, '하곤': 14208, '위계': 14209, '우울': 14210, '잠기다': 14211, '평택시': 14212, '마취': 14213, '학제': 14214, '기형': 14215, '헌장': 14216, '방제': 14217, '고작': 14218, '보단': 14219, '보틀': 14220, '교량': 14221, '성수대교': 14222, '끌어안다': 14223, '판소리': 14224, '용인시청': 14225, '초본': 14226, '샌드박스': 14227, '버팀목': 14228, 'nim': 14229, '메트로': 14230, '락앤락': 14231, '쿡': 14232, '청결하다': 14233, '해산': 14234, '명보': 14235, '송환': 14236, '김종호': 14237, '국립서울현충원': 14238, '국가주석': 14239, '만세': 14240, '애니팡': 14241, '보로': 14242, 'journal': 14243, '컴포텍': 14244, '삼화': 14245, '버티고': 14246, '과즙': 14247, '제임스': 14248, '터득': 14249, '의연': 14250, '인륜': 14251, '응급처치': 14252, '구형': 14253, '유산슬': 14254, '김정현': 14255, '전재욱': 14256, '차명계좌': 14257, '물별': 14258, '키퍼': 14259, '재청': 14260, '요도': 14261, '가온': 14262, '성전': 14263, '챔피언스': 14264, '대진': 14265, '주고받다': 14266, '스트': 14267, '대지': 14268, '농림': 14269, '낭비하다': 14270, '비보': 14271, '삼가면': 14272, '미지근하다': 14273, '소모': 14274, '서희': 14275, '주택조합': 14276, '씌우다': 14277, '연달': 14278, 'tac': 14279, '레오': 14280, '현충탑': 14281, '포문': 14282, '하방': 14283, '악화시키다': 14284, '미결': 14285, '아르셀로미탈': 14286, '올릭스': 14287, '방망이': 14288, '인문학': 14289, '루키': 14290, '승격': 14291, '판타지오': 14292, '서킷브레이커': 14293, '도넛': 14294, '스프': 14295, '선상투표': 14296, '거목': 14297, '일구다': 14298, '명복': 14299, '입가': 14300, '습열': 14301, '마사지': 14302, '한약재': 14303, '겨루다': 14304, '이통': 14305, '집착': 14306, '비량': 14307, '섭씨': 14308, 'fcw': 14309, '인포테인먼트': 14310, '이상헌': 14311, 'dram': 14312, '애국심': 14313, '주거지역': 14314, '샹그릴라': 14315, '공정거래법': 14316, '라이넥': 14317, '헌법소원': 14318, '엎친': 14319, '무너뜨렸다': 14320, '대아': 14321, '키다리': 14322, '창해': 14323, '예방접종': 14324, '결핵': 14325, '산세': 14326, '가감': 14327, '알버트': 14328, '셔틀버스': 14329, '주가조작': 14330, 'aib': 14331, '거둬들이다': 14332, '원희': 14333, '물가상승률': 14334, '정직하다': 14335, '브레드': 14336, '응암동': 14337, '게릴라': 14338, '비적정': 14339, '사만': 14340, '부국': 14341, '정연': 14342, '서진': 14343, '레쉬': 14344, '느끼하다': 14345, '시시각각': 14346, '원피스': 14347, '한섬': 14348, '키홀': 14349, '오동도': 14350, '알뜰': 14351, '그릭': 14352, '슈바': 14353, '도난': 14354, '천막': 14355, '차려': 14356, '노량진로': 14357, '파루': 14358, '일용': 14359, '귀책사유': 14360, '불가항력': 14361, '교훈': 14362, '야전': 14363, '김동환': 14364, '축사': 14365, '자이르': 14366, '나루': 14367, 'brics': 14368, '길리': 14369, '데시': 14370, '온기': 14371, '어차피': 14372, '어쨌든': 14373, '뛰어가다': 14374, '다이아': 14375, '밭': 14376, '과수': 14377, '박동': 14378, '품종': 14379, '라오스': 14380, '간경변': 14381, '평지': 14382, '경상남도': 14383, '로트': 14384, '햇쌀': 14385, '펨토': 14386, '미세하다': 14387, '양재동': 14388, '어묵': 14389, '죗값': 14390, '불쌍하다': 14391, '외과의사': 14392, '추하다': 14393, '자백': 14394, 'j': 14395, '퓨쳐': 14396, '소닉': 14397, '하동': 14398, '이티': 14399, 'gh': 14400, '단국대': 14401, '우수상': 14402, '관중': 14403, '박혜진': 14404, '양회': 14405, '전복죽': 14406, '견과': 14407, '바코드': 14408, '이리': 14409, '한씨': 14410, '연하': 14411, '어린이재단': 14412, '환경보전': 14413, '신중': 14414, '갈망': 14415, '양면': 14416, '태의': 14417, '엑스': 14418, '죽곡': 14419, '이용도': 14420, '디플레이션': 14421, '패권': 14422, '굴지': 14423, '관대하다': 14424, '예규': 14425, '아모': 14426, '숍인숍': 14427, '엔지니어': 14428, '실검': 14429, '편익': 14430, '박은영': 14431, '지엄': 14432, '김민정': 14433, '스모': 14434, '기요': 14435, '평안하다': 14436, '정설': 14437, '해태제과': 14438, '권부': 14439, '윤창': 14440, '냉온': 14441, '관광명소': 14442, '나태주': 14443, '폐막': 14444, '양재': 14445, '에헤': 14446, '디올': 14447, '류마티스': 14448, '세자': 14449, '화이트리스트': 14450, '매니지먼트': 14451, '정태준': 14452, '지협': 14453, '해주시': 14454, '시금석': 14455, '로버츠': 14456, '종업원': 14457, 'lsi': 14458, '상속인': 14459, '투과': 14460, '본체': 14461, 'tm': 14462, '싱크': 14463, 'bio': 14464, '묶인': 14465, '단원구': 14466, '굽히다': 14467, '반월': 14468, '오른쪽': 14469, '틀어지다': 14470, '낙상': 14471, '빛과': 14472, '방통위': 14473, '드레서': 14474, '슬림': 14475, '부가가치세': 14476, '동문': 14477, '터링': 14478, '법정형': 14479, '조미료': 14480, '대통령비서실': 14481, '산재': 14482, '전자문서': 14483, '엮어': 14484, '이온': 14485, '라이드': 14486, 'acs': 14487, '다방면': 14488, '로남불': 14489, '봉사자': 14490, '포천시': 14491, '백업': 14492, '취약성': 14493, '윈도우': 14494, '치주염': 14495, '명중': 14496, '단조': 14497, '강신': 14498, '푸시': 14499, 'ray': 14500, '에드워드': 14501, '대학로': 14502, '연작': 14503, '인산': 14504, '망간': 14505, 'kwh': 14506, 'pt': 14507, '무척': 14508, '여장': 14509, '국수': 14510, '인텍': 14511, '초전도': 14512, '중추': 14513, '소고기': 14514, '돈까스': 14515, '여태': 14516, '진지': 14517, '경사': 14518, '시각장애인': 14519, '경쟁자': 14520, '첨가': 14521, '락다운': 14522, '휠체어': 14523, '설계도': 14524, '봉투': 14525, '그러니까': 14526, '막상': 14527, '익히다': 14528, '톡톡': 14529, '출결': 14530, '중합': 14531, '셀레믹스': 14532, 'clinical': 14533, '전동': 14534, '견학': 14535, '역활': 14536, '위트': 14537, '다중이': 14538, '가이던스': 14539, '김병욱': 14540, '스텔라': 14541, '델타': 14542, '관리부장': 14543, '으로서도': 14544, '직함': 14545, 'report': 14546, '블랙박스': 14547, '일절': 14548, '선봉': 14549, '찰스': 14550, '결렬': 14551, '버거킹': 14552, '서장': 14553, '산둥': 14554, '웨이하이': 14555, '폐차': 14556, '애국': 14557, '장래': 14558, 'local': 14559, 'bad': 14560, 'operations': 14561, 'program': 14562, 'next': 14563, 'officials': 14564, 'six': 14565, 'active': 14566, '어설프다': 14567, '조그마하다': 14568, 'lm': 14569, 'control': 14570, 'travel': 14571, '불상': 14572, '고통스럽다': 14573, '엑스포': 14574, '제관': 14575, '백두대간': 14576, '들르다': 14577, '언덕': 14578, '원기': 14579, 'aum': 14580, '경질': 14581, '클락': 14582, 'trump': 14583, '작업장': 14584, '실률': 14585, '루이스': 14586, '격화': 14587, '김경호': 14588, '바스크': 14589, '행정자치부': 14590, '방통': 14591, 'phishing': 14592, '지방검찰청': 14593, '해킹': 14594, '장예': 14595, '정문식': 14596, '야드': 14597, '가로막히다': 14598, '즐비하다': 14599, 'low': 14600, 'high': 14601, '적재적소': 14602, '골치': 14603, '독선': 14604, 'send': 14605, 'leaflets': 14606, 'printing': 14607, 'them': 14608, 'news': 14609, 'demand': 14610, 'such': 14611, 'peace': 14612, 'groups': 14613, '홍의락': 14614, '무차별': 14615, '참담하다': 14616, '정병국': 14617, '주변인': 14618, '밴쿠버': 14619, '토론토': 14620, '구주': 14621, '한라산': 14622, '진달래': 14623, '예방의학': 14624, '김현욱': 14625, '습기': 14626, '감가상각': 14627, '광명동': 14628, '으': 14629, '양양공항': 14630, '전세버스': 14631, '치도': 14632, '오바마': 14633, '농민': 14634, '원문': 14635, '간밤': 14636, '사금융': 14637, '인컴': 14638, '용소': 14639, '안시': 14640, '품세': 14641, '작업실': 14642, '고독': 14643, '오발': 14644, '음극': 14645, '시차': 14646, '육포': 14647, '울릉군': 14648, '울진군': 14649, '나트륨': 14650, '무역수지': 14651, '예단': 14652, '회고': 14653, '추기경': 14654, '먹구름': 14655, '숙명여대': 14656, '박용진': 14657, '법치': 14658, '장학': 14659, '화학공학': 14660, '노숙자': 14661, '인도주의': 14662, '남원시': 14663, '야쿠르트': 14664, '매니저': 14665, '서장훈': 14666, 'residents': 14667, 'reported': 14668, 'number': 14669, 'disease': 14670, 'coming': 14671, 'increased': 14672, 'busan': 14673, 'where': 14674, 'services': 14675, 'spread': 14676, 'special': 14677, 'yourself': 14678, 'baa': 14679, '콘티': 14680, '지성': 14681, '여진구': 14682, '어부': 14683, '롬바르디아': 14684, '토스카나': 14685, '분수': 14686, '자쿠': 14687, '폐쇄된다': 14688, '곽상도': 14689, '노태악': 14690, '큰일': 14691, '증오': 14692, '빠듯': 14693, '모자라다': 14694, '꾸다': 14695, '매드': 14696, '꼽으': 14697, '에버': 14698, '주유': 14699, 'petition': 14700, 'makes': 14701, 'he': 14702, 'say': 14703, '달아나다': 14704, 'spent': 14705, '김철': 14706, '우송대': 14707, '청두': 14708, '강진': 14709, '북서쪽': 14710, '전도': 14711, '학위': 14712, 'sold': 14713, 'chinese': 14714, '마주치다': 14715, '빠져나오다': 14716, '문경': 14717, '티나': 14718, '출입통제': 14719, '구조대': 14720, '장대비': 14721, 'drive': 14722, 'follow': 14723, 'without': 14724, 'chung': 14725, '오래도록': 14726, '무책임하다': 14727, '영종도': 14728, '환경과학': 14729, '옥수': 14730, '나타남': 14731, '동진': 14732, '쎄미켐': 14733, '이동희': 14734, '표창장': 14735, 'cvc': 14736, '특허법': 14737, '컴퓨팅': 14738, '핫이슈': 14739, '두산건설': 14740, '마르지': 14741, '유전체': 14742, 'rpms': 14743, '슬래브': 14744, '항셍지수': 14745, '티앤': 14746, '작일': 14747, '팟타이': 14748, '짜장면': 14749, '어도': 14750, '티브로드': 14751, '원더': 14752, '채굴': 14753, 'background': 14754, 'align': 14755, 'margin': 14756, 'link': 14757, '남대문시장': 14758, 'tangguh': 14759, '배관': 14760, '나리': 14761, '게임개발': 14762, '게임개발자': 14763, '유틸': 14764, '합력': 14765, '종양': 14766, '림프': 14767, 'hla': 14768, '모터스': 14769, 'image': 14770, 'src': 14771, 'cdn': 14772, 'xtype': 14773, '서재': 14774, '매립': 14775, 'cbt': 14776, '짜파구리': 14777, 'rsquo': 14778, '아이디': 14779, '플로': 14780, 'aws': 14781, '상법': 14782, '지포스': 14783, '홀짝': 14784, '안간힘': 14785, '헷징': 14786, '외화예금': 14787, '방심': 14788, '창가': 14789, '어는': 14790, '트라스투주맙': 14791, '무버': 14792, 'mover': 14793, '강희': 14794, '캐파': 14795, 'poled': 14796, '최고재': 14797, '무책임': 14798, '쉽사리': 14799, '시오': 14800, '원자력발전': 14801, '쏘나타': 14802, 'rt': 14803, '조각보': 14804, '모친': 14805, '메달': 14806, '족제비': 14807, '홍천군': 14808, '철저': 14809, '이현석': 14810, '유심': 14811, 'esg': 14812, '오프닝': 14813, '수서': 14814, '한진해운': 14815, '고려아연': 14816, 'muc': 14817, '튜브': 14818, '로슈': 14819, '엿새': 14820, 'dax': 14821, 'cac': 14822, '걸이': 14823, '헐값': 14824, '병환': 14825, '신저': 14826, '라니': 14827, '정리해고': 14828, '뭔': 14829, '이시종': 14830, '캐딜락': 14831, '굳히다': 14832, 'lpi': 14833, '노앨': 14834, 'ind': 14835, '김윤수': 14836, '안녕하다': 14837, '옐로우': 14838, '도장': 14839, '허리춤': 14840, '개층': 14841, 'gt': 14842, '스팅어': 14843, '이를': 14844, '영빈': 14845, '전기공': 14846, '김진국': 14847, '재경': 14848, '계통': 14849, '부각시키다': 14850, '누나': 14851, '부평구': 14852, '보툴리눔톡신': 14853, 'fintech': 14854, '선희': 14855, '도도': 14856, '본상': 14857, '겹치': 14858, '불명예': 14859, '성큼': 14860, '솔트룩스': 14861, '송원': 14862, '덤': 14863, '동대구역': 14864, '김태오': 14865, '김도현': 14866, '구본준': 14867, '프리뷰': 14868, '시스코': 14869, 'stay': 14870, '금전': 14871, '모네': 14872, 'csa': 14873, '심위': 14874, '겨울나기': 14875, '제일기획': 14876, '여친': 14877, '혼인신고': 14878, '럭키': 14879, '필연': 14880, '펩타이드': 14881, '파트': 14882, '통산': 14883, '엿': 14884, '포니': 14885, '단군': 14886, 'detection': 14887, '가트너': 14888, '전말': 14889, '변호': 14890, '불문': 14891, '후자': 14892, '근로시간': 14893, '매스티지': 14894, '잡화': 14895, '불명': 14896, '나래': 14897, '알루': 14898, '베젤': 14899, '학동': 14900, '블록딜': 14901, '플래닝': 14902, 'cevi': 14903, '혼돈': 14904, '시지': 14905, '채집': 14906, '울프': 14907, '홈술족': 14908, '건실': 14909, '광운대': 14910, '범주': 14911, 'cto': 14912, '날아다니다': 14913, '설거지': 14914, '심해': 14915, '주의력': 14916, '결석': 14917, '교육행정': 14918, 'pop': 14919, '이종배': 14920, '손발': 14921, '뇌파': 14922, 'reduction': 14923, '중심부': 14924, '진해': 14925, '대도': 14926, '소양': 14927, '딱지': 14928, '프로포폴': 14929, '늙다': 14930, 'nyt': 14931, '사절단': 14932, '무근': 14933, '퍼준': 14934, '누굴': 14935, 'mbs': 14936, '유럽인': 14937, '휴학생': 14938, '수료증': 14939, '둔촌': 14940, '짝퉁': 14941, '교섭': 14942, '가로세로': 14943, '갑론': 14944, '진용': 14945, '억제제': 14946, '이성근': 14947, '남준우': 14948, '대선조선': 14949, '주잔': 14950, '간신': 14951, '저격수': 14952, '행정학': 14953, '가와사키': 14954, '광교신도시': 14955, '성용': 14956, '비아그라': 14957, '마디': 14958, '저주': 14959, '통념': 14960, '조련': 14961, '집행정지': 14962, '꼬박꼬박': 14963, '법률자문': 14964, '미시간주': 14965, '찜질방': 14966, '인국공': 14967, '슬금슬금': 14968, '봇물': 14969, '염력': 14970, '퇴사': 14971, '총격': 14972, '수뇌부': 14973, '특별검사': 14974, '한탄': 14975, '전라': 14976, '혼용': 14977, '무선전화': 14978, '재간': 14979, '주구': 14980, '기호': 14981, '써밋': 14982, 'study': 14983, '허경영': 14984, '권선': 14985, '격노': 14986, '망양로': 14987, '부터라도': 14988, '일례': 14989, '사냥꾼': 14990, '백배': 14991, '뜻밖': 14992, '잔인함': 14993, '워싱턴주': 14994, '종잣돈': 14995, '공대생': 14996, '영상의학': 14997, '촌각': 14998, '동준': 14999, '뿔': 15000, '역풍': 15001, '수없이': 15002, '유초': 15003, '인척': 15004, '스토리텔링': 15005, '문란하다': 15006, '박창진': 15007, '제보자': 15008, '나돌다': 15009, '고치': 15010, '데스노트': 15011, '민현주': 15012, '만만하다': 15013, '여사': 15014, '노영민': 15015, '가오': 15016, '득실': 15017, '세팅': 15018, '컬쳐': 15019, '대항': 15020, '당황': 15021, '마곡도시개발사업': 15022, '경진': 15023, '맞먹다': 15024, '술값': 15025, '수용성': 15026, '김효석': 15027, '전문학교': 15028, '간략하다': 15029, '학력평가': 15030, '소멸시효': 15031, '벗': 15032, '달빛': 15033, '둘레길': 15034, '삼국유사': 15035, '동백꽃': 15036, '안성맞춤': 15037, '미스터피자': 15038, '댕': 15039, '굴복': 15040, 'speech': 15041, '꼬박': 15042, '견지': 15043, '장선': 15044, '다이나믹': 15045, '화들짝': 15046, '홍문종': 15047, 'dj': 15048, '자일': 15049, '빨다': 15050, '강인하다': 15051, '방책': 15052, '외우다': 15053, '잠행': 15054, '코트': 15055, '저널리즘': 15056, '상록구': 15057, '옥천': 15058, '위력': 15059, 'how': 15060, '포브스': 15061, '은빛': 15062, '후원자': 15063, '요구사항': 15064, '뉴스위크': 15065, '해선': 15066, '억압': 15067, '풍토': 15068, '스키': 15069, '플레이스테이션': 15070, '무심코': 15071, '충만': 15072, '서리': 15073, '상파울루': 15074, '펄프': 15075, '볼펜': 15076, '선전시': 15077, '스프레이': 15078, '적법하다': 15079, 'sgi': 15080, '군위군': 15081, '버터': 15082, '콘택트렌즈': 15083, '방서': 15084, '재닛': 15085, '옐런': 15086, '밤샘': 15087, '정지은': 15088, '낙하산': 15089, '달려오다': 15090, '항소': 15091, '뒷걸음질': 15092, '대한의사협회': 15093, '기숙': 15094, '폐쇄조치': 15095, '돈벌이': 15096, '노소영': 15097, '혼외': 15098, '여럿': 15099, 'emr': 15100, '지요다구': 15101, '킴': 15102, '자연과학': 15103, '얼핏': 15104, '파도': 15105, '물들다': 15106, '송수': 15107, '도쿄대': 15108, '터닝': 15109, '선망': 15110, '번역가': 15111, '질책': 15112, '슈즈': 15113, '부경대학교': 15114, '장가': 15115, '형님': 15116, '단합': 15117, '잠실동': 15118, '귀찮다': 15119, '게임머니': 15120, '킥': 15121, '도강': 15122, '반문': 15123, '김상희': 15124, '양도성예금증서': 15125, '국립국악원': 15126, '악사': 15127, '바이올리니스트': 15128, '부둥켜안다': 15129, '요원하다': 15130, '그렇지만': 15131, '다잡다': 15132, '제겐': 15133, '용법': 15134, 'tfsi': 15135, '터보차저': 15136, '강약': 15137, '양조장': 15138, '전통주': 15139, '자폭': 15140, '가라': 15141, '영희': 15142, '금융인': 15143, '김장': 15144, '정의용': 15145, '이동걸': 15146, '정당인': 15147, '해학': 15148, '멋': 15149, '시화': 15150, '터뜨리다': 15151, '앰버': 15152, '그리니치': 15153, '커리어스': 15154, '운집': 15155, 'jk': 15156, '김병주': 15157, '형법': 15158, '씹다': 15159, '분리수거': 15160, '비무장지대': 15161, '난관': 15162, 'needs': 15163, '자투리': 15164, '아아': 15165, '갸우뚱': 15166, '내세': 15167, '조리도': 15168, '플로리다': 15169, '유명인': 15170, '윤갑근': 15171, '김원': 15172, 'ems': 15173, '가스터빈': 15174, '폐열': 15175, '보일러': 15176, 'cpca': 15177, '치켜세우다': 15178, '신동근': 15179, 'kingdom': 15180, '추상': 15181, '승기': 15182, '런치': 15183, '작동시키다': 15184, '주간지': 15185, '기리': 15186, '고씨': 15187, '상징물': 15188, '명물': 15189, '생명자원': 15190, '임안': 15191, 'star': 15192, '저명하다': 15193, '원성': 15194, '경멸': 15195, '편협': 15196, '사소하다': 15197, '전자담배': 15198, '기어이': 15199, '공화': 15200, 'rassi': 15201, 'roa': 15202, '성동': 15203, '양용': 15204, '텐션': 15205, '달도': 15206, '트윈타워': 15207, '열처리': 15208, '시리다': 15209, '데스크톱': 15210, '좌표': 15211, 'dual': 15212, '내뱉다': 15213, '세간': 15214, '이민지': 15215, 'iiv': 15216, '까맣다': 15217, '유명인사': 15218, '여동생': 15219, '채석': 15220, '화력발전': 15221, '디렉트': 15222, '궁전': 15223, '한껏': 15224, '활황': 15225, '움츠러들다': 15226, '총량': 15227, '전쟁범죄': 15228, '장기로': 15229, '벽화': 15230, '그리기': 15231, '품류': 15232, '낙규': 15233, '바보': 15234, '장보기': 15235, '커뮤니케이션학': 15236, '결여': 15237, '훈령': 15238, 'creation': 15239, '멜트블': 15240, '당질': 15241, 'asia': 15242, '수중': 15243, '단골': 15244, '애착': 15245, '면죄부': 15246, '윤장현': 15247, '영종': 15248, '완산구': 15249, '효자동': 15250, '사당': 15251, '이현우': 15252, '명명': 15253, '유럽우주국': 15254, 'esa': 15255, '앙숙': 15256, '메세지': 15257, '다한': 15258, '상견례': 15259, '승합차': 15260, '무협': 15261, '네일': 15262, '한명숙': 15263, '접지': 15264, '음미': 15265, '라이브러리': 15266, '크립톤': 15267, '세관': 15268, '피살': 15269, '응수': 15270, '밀라노': 15271, '개진': 15272, '충북대': 15273, '때론': 15274, '애리조나주': 15275, '그만하다': 15276, '광택': 15277, '연식': 15278, '탁송': 15279, '한서진': 15280, '레트로': 15281, '앙상블': 15282, 'injection': 15283, '수트': 15284, '모가면': 15285, '재포': 15286, '훤히': 15287, '임의동행': 15288, '자전': 15289, '은로': 15290, '흑석역': 15291, '서사': 15292, '합창': 15293, '기렸다': 15294, '백주': 15295, '명기': 15296, '쫓겨나다': 15297, '콤비': 15298, '드럼': 15299, '쿡탑': 15300, '수긍': 15301, '까지가': 15302, '호화': 15303, '나렌드': 15304, '나노미터': 15305, '강우': 15306, '싸라기': 15307, '전청': 15308, '고건': 15309, '하버드대': 15310, '품절': 15311, '폭스': 15312, '소총': 15313, '탄도': 15314, '플래쉬': 15315, '양육': 15316, '일사량': 15317, '초락': 15318, '꾼': 15319, '감방': 15320, '중계방송': 15321, '군사력': 15322, '접착': 15323, '콘도': 15324, '나마': 15325, '당론': 15326, '소리치다': 15327, '권봉석': 15328, '대오': 15329, '선열': 15330, '국가안보실': 15331, '관저': 15332, '화재원인': 15333, '무관심': 15334, '미래학자': 15335, '톈진': 15336, 'nda': 15337, '과만': 15338, '용두동': 15339, '토평동': 15340, '민우': 15341, '산물': 15342, '보미': 15343, '강선': 15344, '구리다': 15345, 'epl': 15346, '로스엔젤레스': 15347, '버니': 15348, 'pbv': 15349, '베이트': 15350, '파르나스': 15351, 'music': 15352, '파란색': 15353, '특장점': 15354, '리자드': 15355, '매콤': 15356, '허니': 15357, '긋다': 15358, '진시': 15359, '유사시': 15360, '타우': 15361, '김정일': 15362, '나침반': 15363, '짜이다': 15364, '이형섭': 15365, '정승원': 15366, '기억나다': 15367, '팔찌': 15368, 'cdp': 15369, '중수': 15370, '박형식': 15371, '후각': 15372, '넘겨주다': 15373, '증축': 15374, '동체': 15375, '개발이익': 15376, '정운영': 15377, '아카데미상': 15378, '관리인': 15379, '자연휴양림': 15380, '김상열': 15381, '원함': 15382, '인스부르크': 15383, '무역항': 15384, '해안선': 15385, '스리랑카': 15386, '실크로드': 15387, '단란주점': 15388, '청송군': 15389, '영양군': 15390, '건양대': 15391, '이재호': 15392, '무리다': 15393, '이버멕틴': 15394, '배석': 15395, '외무성': 15396, '장상': 15397, '대모': 15398, '플러그': 15399, '노인장': 15400, '건보': 15401, '근교': 15402, '황초량': 15403, '이맘때': 15404, '킬로': 15405, '직통': 15406, '나니': 15407, '연락선': 15408, '버려진': 15409, '테스': 15410, '크나크다': 15411, '모집단': 15412, '우간다': 15413, '부풀리다': 15414, '최지성': 15415, '김우빈': 15416, '포획': 15417, '김민수': 15418, 'recession': 15419, '교통혼잡': 15420, '무상급식': 15421, '중동역': 15422, '심폐소생술': 15423, '행선': 15424, '다산': 15425, '위지윅': 15426, '리퍼블릭': 15427, 'dvsn': 15428, '둘이서': 15429, '가옥': 15430, '한국영': 15431, '항쟁': 15432, '김병수': 15433, 'medicine': 15434, '이형석': 15435, '구김': 15436, '송대': 15437, '이상민': 15438, '진주시': 15439, '이성환': 15440, '게리': 15441, '굿모닝': 15442, '동남구': 15443, '관외': 15444, '뭉크': 15445, '마커': 15446, '자기공명': 15447, '윤경': 15448, '이다윗': 15449, 'lx': 15450, '정실': 15451, '급수': 15452, '갈릴': 15453, '진담': 15454, '수퍼마켓': 15455, '특권': 15456, '피날레': 15457, '버크셔': 15458, '옴부': 15459, '런가': 15460, '신망': 15461, '조목조목': 15462, '산단': 15463, '입담': 15464, '냉동식품': 15465, '임현동': 15466, '브룩': 15467, '김산': 15468, '인격': 15469, '모호': 15470, '최측근': 15471, '프런티어': 15472, '진도군': 15473, '영주시': 15474, '봉화군': 15475, '밀봉': 15476, '케일': 15477, '천둥': 15478, '번개': 15479, '호치민': 15480, '남구청': 15481, '샘플링': 15482, '면목동': 15483, '치안': 15484, '팬층': 15485, '수의사': 15486, '발레': 15487, '천상': 15488, '체감온도': 15489, '판매점': 15490, '악플': 15491, '죄송': 15492, '모토로': 15493, '미취': 15494, '혜': 15495, '흥분하다': 15496, '순진하다': 15497, '지누스': 15498, '하중': 15499, '김영한': 15500, '귤': 15501, '여윳돈': 15502, '천안시청': 15503, '티니': 15504, '혼수': 15505, '면식': 15506, '삼국': 15507, '시장님': 15508, '김성원': 15509, '좌지우지': 15510, '김용태': 15511, 'ota': 15512, '브라': 15513, '거스': 15514, '닥쳐오다': 15515, '다임러': 15516, '선선': 15517, '일어': 15518, '경희대학교': 15519, '샴푸': 15520, '육식': 15521, '주의자': 15522, '유시': 15523, 'kbo': 15524, '가스전': 15525, '진품': 15526, '순삭': 15527, '입인': 15528, 'ibd': 15529, 'cov': 15530, '정은': 15531, '제곱미터': 15532, 'research': 15533, 'innovation': 15534, '유승': 15535, 'sabic': 15536, '다낭': 15537, '카오스': 15538, '산도': 15539, '샹동': 15540, '후끈': 15541, '에스케이': 15542, '향남': 15543, '서강대': 15544, '자사고': 15545, '매설': 15546, 'electrification': 15547, 'autonomous': 15548, 'scm': 15549, '홍익': 15550, '클레이': 15551, 'am': 15552, '수수하다': 15553, '다양해지다': 15554, '전도성': 15555, '단순화': 15556, '전세계약': 15557, '컴플렉스': 15558, '냉랭하다': 15559, 'flower': 15560, '네이티': 15561, '걷어차다': 15562, '김수정': 15563, 'american': 15564, '첫인상': 15565, '소득공제': 15566, '조직체': 15567, '박소영': 15568, '택하': 15569, '이상주': 15570, '서창': 15571, '석가모니': 15572, '간접비': 15573, '철광석': 15574, '졸라': 15575, '공영은': 15576, '선물옵션': 15577, '정취': 15578, '특임장관': 15579, '강모': 15580, '하버': 15581, '해링턴': 15582, '원산': 15583, '친족': 15584, '온누리상품권': 15585, 'association': 15586, '헤치다': 15587, 'fan': 15588, '함축': 15589, '추돌': 15590, '효용': 15591, '작아지다': 15592, '헌화': 15593, '채도': 15594, '폴라리스': 15595, '학사정보': 15596, '배움터': 15597, '현석': 15598, '역촌동': 15599, '주무르다': 15600, '콘셉트카': 15601, '리얼리티': 15602, '노이즈': 15603, '너머': 15604, '슬라이딩': 15605, '테일로': 15606, '묘미': 15607, '분대': 15608, '쇠락': 15609, '입출': 15610, '대신로': 15611, '색칠': 15612, '백토': 15613, '가까스로': 15614, '감편': 15615, 'hiv': 15616, '젓갈': 15617, '선수권대회': 15618, '청산리전투': 15619, '조이': 15620, '주옥': 15621, '노출하다': 15622, '무적인': 15623, '덕정역': 15624, '그릴': 15625, '섀도우': 15626, '그란': 15627, '로스웰': 15628, '형평': 15629, '초면': 15630, '트랩': 15631, '수억': 15632, '에이트': 15633, '시크릿': 15634, '세라믹': 15635, 'goo': 15636, 'gl': 15637, 'fsk': 15638, '미래나노텍': 15639, '혼탁': 15640, '수정체': 15641, '입술': 15642, '김미희': 15643, '실익': 15644, '미국법': 15645, '델라웨어': 15646, '방석': 15647, '보온': 15648, '미키마우스': 15649, '그릇': 15650, 'ibm': 15651, '심텍': 15652, '구슬': 15653, '인스': 15654, '산뜻하다': 15655, 'project': 15656, '외연': 15657, '이동해': 15658, '사람인': 15659, '몸속': 15660, '영양분': 15661, '채식주의자': 15662, '곡류': 15663, '복통': 15664, '대양': 15665, '리코': 15666, 'fa': 15667, 'limited': 15668, '캔디': 15669, '리미': 15670, '노희준': 15671, '라비': 15672, '원스': 15673, '엄밀하다': 15674, '임윤아': 15675, '랩셀': 15676, '김상윤': 15677, '홍콩달러': 15678, '잉글우드': 15679, '미진': 15680, '채연': 15681, '회의장': 15682, '양하다': 15683, '원화로': 15684, '스노우': 15685, '김소현': 15686, '참전용사': 15687, '달래다': 15688, 'rate': 15689, '인스티튜트': 15690, '수천만': 15691, '상계': 15692, '문관': 15693, '년말': 15694, '콘텐트': 15695, '어서': 15696, '메가스터디': 15697, '숍': 15698, 'joint': 15699, '비공식': 15700, '관련성': 15701, '자긍심': 15702, '로지': 15703, '스틱스': 15704, 'ktrs': 15705, 'id': 15706, '어필': 15707, '다중접속': 15708, '소망': 15709, '암스테르담': 15710, '천적': 15711, '선금': 15712, '율도': 15713, 'nc': 15714, '사택': 15715, '정맥': 15716, '성기': 15717, '한페이': 15718, '일어난다': 15719, '책무': 15720, '초창': 15721, '올여름': 15722, '오감': 15723, '스파크': 15724, '엔시': 15725, '인권위': 15726, '김미영': 15727, 'kato': 15728, '체어': 15729, '시간여행': 15730, '선거인': 15731, '비닐': 15732, '격언': 15733, '가톨릭': 15734, '뇌혈관': 15735, '셰': 15736, '트유': 15737, '이슬람': 15738, '유준': 15739, '멀어지다': 15740, '집안일': 15741, '이세돌': 15742, '잠자다': 15743, '빼기': 15744, '적성': 15745, '김범준': 15746, '빨래': 15747, '대역': 15748, '김교흥': 15749, 'award': 15750, '조슈아': 15751, '스토': 15752, '웨인': 15753, '테러리즘': 15754, '람': 15755, '투옥': 15756, '가혹하다': 15757, '실탄': 15758, '김관용': 15759, '반시민': 15760, '드레싱': 15761, 'knn': 15762, '쿼터': 15763, '이완': 15764, '경구': 15765, '주스': 15766, '초보자': 15767, '우발': 15768, '우상': 15769, '엄정': 15770, '생체인식': 15771, '격전': 15772, '상륙작전': 15773, '김은비': 15774, '정전': 15775, '일동': 15776, '함대': 15777, 'lck': 15778, '업무방해': 15779, '파면': 15780, '키오스트': 15781, '공문서': 15782, '입도': 15783, '중이염': 15784, '뜸': 15785, '방직': 15786, '임시국회': 15787, '노무현재단': 15788, '동두천시': 15789, '마침표': 15790, '애정': 15791, '고초': 15792, '행정고시': 15793, '커피콩': 15794, '원산지': 15795, '혀': 15796, 'eps': 15797, '사이버대': 15798, '특사': 15799, '모기': 15800, '골퍼': 15801, 'lcr': 15802, 'msci': 15803, 'kindex': 15804, '권위자': 15805, '동그랗다': 15806, '이동식': 15807, '신격호': 15808, '가오슝': 15809, '인피니트': 15810, '한의학': 15811, '문지르다': 15812, '기운': 15813, '몸무게': 15814, '활동량': 15815, '윤활유': 15816, 'display': 15817, 'team': 15818, '담소': 15819, '디램': 15820, '기틀': 15821, '맹점': 15822, '장전': 15823, '슬림하': 15824, '최정': 15825, '맞은편': 15826, '전략기획': 15827, '파버나': 15828, '화일': 15829, '건드리다': 15830, '심심': 15831, '미신': 15832, 'hda': 15833, '측방': 15834, '근거리': 15835, '도운': 15836, '건지다': 15837, '결단코': 15838, '김광': 15839, '환경성': 15840, '도화': 15841, '망고': 15842, '셔츠': 15843, '만해': 15844, '해수욕장': 15845, '차이나다': 15846, '육즙': 15847, '기술제휴': 15848, '노량진역': 15849, '육사': 15850, '임관': 15851, '중화민족': 15852, '마르': 15853, '안제': 15854, '주리다': 15855, '특례수입': 15856, '두문불출': 15857, '이승훈': 15858, '롤러코스터': 15859, '잡아내다': 15860, '관리원': 15861, '명장': 15862, '호르몬': 15863, '순방': 15864, '냥': 15865, 'air': 15866, '황현': 15867, '일조권': 15868, '낙후': 15869, '햇반': 15870, '원자로': 15871, '화학결합': 15872, '아파텔': 15873, 'bj': 15874, '유니슨': 15875, '라파스': 15876, '아르바이트생': 15877, '너희': 15878, '무관용': 15879, 'hub': 15880, '여전': 15881, '에스코': 15882, '공과': 15883, '오디': 15884, '그리팅': 15885, '슨': 15886, '국제경제': 15887, 'wtc': 15888, '며느리': 15889, '팽팽': 15890, '고객감동': 15891, '맞벌이': 15892, '서연': 15893, '시효': 15894, '여자친구': 15895, '스토킹': 15896, '단서': 15897, '잔디': 15898, '맘스': 15899, '박소연': 15900, '젓다': 15901, '개소식': 15902, '동방': 15903, '봄철': 15904, '비유': 15905, '재팬': 15906, '세아': 15907, '대동': 15908, '리레이팅': 15909, '가속도': 15910, '도시가스': 15911, '대로의': 15912, '편제': 15913, 'cloud': 15914, '도깨비': 15915, '트레일러': 15916, '자상하다': 15917, '운영체제': 15918, '설치다': 15919, 'nand': 15920, '노려보다': 15921, '최인훈': 15922, '회색': 15923, '직위': 15924, '그저': 15925, '나로': 15926, '데스': 15927, '크리에이션': 15928, '부처님오신날': 15929, '경직': 15930, '끄덕': 15931, '염좌': 15932, '소소하다': 15933, '지면': 15934, '널다': 15935, '어딘가': 15936, '아우라': 15937, '뒷북': 15938, '맹물': 15939, '회당': 15940, '비건': 15941, '전자화폐': 15942, '보탤': 15943, '제분': 15944, '섞다': 15945, '북도': 15946, '빔': 15947, '에너지부': 15948, '정론': 15949, '모교': 15950, '다자': 15951, '재봉틀': 15952, '고려대학교': 15953, '덕산': 15954, '어도비': 15955, '크로뱃': 15956, '랜서': 15957, '인트': 15958, '사람인에이치알': 15959, '작곡가': 15960, '버추': 15961, 'visual': 15962, '월성원전': 15963, '의논': 15964, '환입': 15965, '방공': 15966, '교주': 15967, '뉴트': 15968, '찬스': 15969, '테리': 15970, '평면': 15971, '니즈': 15972, '건우': 15973, '블라인드': 15974, '연쇄반응': 15975, '콕': 15976, '시럽': 15977, '당화': 15978, '훼': 15979, '고양국제꽃박람회': 15980, '꽃다발': 15981, '심기': 15982, '돌잔치': 15983, '부득이': 15984, 'fiu': 15985, '쓱': 15986, '펀': 15987, '건너': 15988, 'mba': 15989, '캘리포니아주': 15990, 'rreport': 15991, 'einfomax': 15992, 'holdings': 15993, 'corp': 15994, '다지': 15995, 'teu': 15996, '명명하다': 15997, '아마도': 15998, '오디션': 15999, '모터보트': 16000, '양평': 16001, '이랜드': 16002, '소식지': 16003, '탄압': 16004, '치후': 16005, '브로드컴': 16006, 'missing': 16007, 'adds': 16008, 'nd': 16009, 'hit': 16010, 'nepal': 16011, 'friday': 16012, 'five': 16013, 'due': 16014, 'media': 16015, 'victims': 16016, '중립성': 16017, '행정관': 16018, '품앗이': 16019, 'products': 16020, 'packages': 16021, 'melatonin': 16022, 'kim': 16023, 'human': 16024, 'light': 16025, 'watch': 16026, '해발': 16027, '공진단': 16028, '눕다': 16029, '구기다': 16030, '방송국': 16031, '안토시아닌': 16032, '마드리드': 16033, '점심': 16034, '산적': 16035, '불행하다': 16036, '코블렌츠': 16037, '수감자': 16038, '공소장': 16039, '봉기': 16040, '신경계': 16041, '전진기': 16042, '열대': 16043, '후생노동성': 16044, 'plan': 16045, 'so': 16046, 'showed': 16047, 'month': 16048, '박광온': 16049, '하노이': 16050, '자연스레': 16051, 'international': 16052, '마킷': 16053, '혁': 16054, '명국': 16055, '텍사스주': 16056, 'cnh': 16057, '남성은': 16058, '간호조무사': 16059, 'old': 16060, '재일교포': 16061, 'rfa': 16062, '윤지': 16063, '박격포': 16064, '기강': 16065, '총구': 16066, '수표': 16067, '액자': 16068, '직거래': 16069, '사기꾼': 16070, '박모': 16071, '식비': 16072, '굶다': 16073, '사교육': 16074, '적체': 16075, '매파': 16076, '물러서다': 16077, '이스탄불': 16078, '반군': 16079, 'southeastern': 16080, 'here': 16081, 'gyeongsang': 16082, 'novel': 16083, 'sect': 16084, 'last': 16085, 'critical': 16086, 'while': 16087, 'patient': 16088, 'facilities': 16089, 'minister': 16090, 'told': 16091, 'imposed': 16092, 'administrative': 16093, 'order': 16094, 'quarantine': 16095, 'recovered': 16096, 'did': 16097, '처브그룹': 16098, '꼰': 16099, '중환자': 16100, '베네토': 16101, '시칠리아': 16102, '한치': 16103, '폐쇄되': 16104, '르포': 16105, '송두리째': 16106, '좌판': 16107, '토란': 16108, '거들다': 16109, '진통': 16110, '통신원': 16111, 'green': 16112, 'sex': 16113, 'signed': 16114, 'presidential': 16115, 'should': 16116, 'based': 16117, 'monitoring': 16118, '광역급행': 16119, 'spending': 16120, 'pandemic': 16121, '무신': 16122, '징둥': 16123, '괴산군': 16124, '한범덕': 16125, '군청': 16126, '유임': 16127, '호주달러': 16128, '김형': 16129, '영천': 16130, '북해': 16131, '통째': 16132, '기울다': 16133, '꺼지다': 16134, '처법': 16135, '허드슨': 16136, 'arrivals': 16137, '간사장': 16138, '세습': 16139, '중의원': 16140, '맞붙다': 16141, '경청': 16142, '좌초': 16143, '티노': 16144, '오명': 16145, '공교': 16146, '숙박업소': 16147, '폐해': 16148, '조던': 16149, '서온': 16150, '이엔드디': 16151, '접견': 16152, '불경기': 16153, '풀무원식품': 16154, '티라유텍': 16155, '필옵틱스': 16156, 'fpcb': 16157, 'eaeaea': 16158, 'bottom': 16159, 'tale': 16160, 'visited': 16161, 'none': 16162, 'black': 16163, 'hover': 16164, 'underline': 16165, '이재형': 16166, '창동': 16167, 'train': 16168, 'sae': 16169, '귀감': 16170, '지름': 16171, '은혁': 16172, '포리': 16173, '세라': 16174, '균주': 16175, '케다': 16176, '윤선': 16177, 'rtx': 16178, 'uhd': 16179, 'box': 16180, '믹트': 16181, 'steel': 16182, 'pipe': 16183, '인버터': 16184, '청호나이스': 16185, 'lgd': 16186, '온라인교육': 16187, '상쇄할': 16188, 'ml': 16189, '처리장치': 16190, '타개': 16191, 'amc': 16192, '구하라': 16193, '김온아': 16194, '와이번스': 16195, '하재훈': 16196, '야말로': 16197, '하의': 16198, '센트럴시티': 16199, '웰바이오텍': 16200, '점일': 16201, '도량': 16202, '미노트': 16203, '디케': 16204, '이락': 16205, '코딩': 16206, '이명희': 16207, '유재형': 16208, '조지아': 16209, 'tank': 16210, '느슨하다': 16211, '스트라이크': 16212, '김철민': 16213, '홍도동': 16214, 'index': 16215, '레포': 16216, '크레인': 16217, '보스턴': 16218, '인숙': 16219, '신철': 16220, '트로피': 16221, '어번': 16222, '눈부심': 16223, '벽돌': 16224, '칠하다': 16225, '차선': 16226, 'asco': 16227, '림화': 16228, 'capital': 16229, 'increase': 16230, 'shares': 16231, '앞당겨지다': 16232, '탄화': 16233, '신분당선': 16234, '시험대': 16235, '스포티지': 16236, '리오': 16237, '머스트': 16238, 'nash': 16239, '에르': 16240, '윈': 16241, '밑바닥': 16242, '티라미수': 16243, '메리트': 16244, '연락처': 16245, '플립': 16246, '오비맥주': 16247, '버그': 16248, '승승장구': 16249, '구광모': 16250, '카밤': 16251, '빼앗기다': 16252, '다년': 16253, '압력밥솥': 16254, '에스엘': 16255, '헉': 16256, '판데믹': 16257, 'il': 16258, '디펜스': 16259, '동국제약': 16260, '네트워킹': 16261, '김대식': 16262, '네이버웹툰': 16263, '웹소설': 16264, '최희': 16265, '시공간': 16266, '커넥티드카': 16267, '심포니': 16268, '승일': 16269, '티브': 16270, '화염': 16271, '리빙관': 16272, '평이': 16273, '밸': 16274, '야스': 16275, '과부': 16276, '리퍼': 16277, '월드컵': 16278, '비키다': 16279, '창저우': 16280, '토털': 16281, '호환': 16282, '펀더멘털': 16283, '남인': 16284, '지스타': 16285, '모토로라': 16286, '노키아': 16287, '사주다': 16288, '찌르다': 16289, '강간': 16290, '안구': 16291, '마인드': 16292, '미현': 16293, '갈아엎다': 16294, '나붙다': 16295, '유명배우': 16296, '탈북민': 16297, '설마': 16298, '공갈': 16299, '게이츠': 16300, '설리': 16301, '친오빠': 16302, '엉터리': 16303, '멀티미디어': 16304, '동아대': 16305, '떨리다': 16306, '박찬호': 16307, '김수': 16308, '컨테이너선': 16309, '각하': 16310, 'mis': 16311, '맵스제': 16312, 'nca': 16313, 'election': 16314, '목걸이': 16315, '다크호스': 16316, 'rbc': 16317, '모간': 16318, '관계도': 16319, '포교': 16320, '몸살': 16321, '충주시': 16322, '양승조': 16323, '선동': 16324, '오리무중': 16325, '몸집': 16326, '묘연': 16327, 'brt': 16328, '투싼': 16329, '선천': 16330, '대지진': 16331, '참혹': 16332, '값어치': 16333, '퍼뜨려': 16334, '수군수군': 16335, '도로로': 16336, '과소': 16337, '함정': 16338, '어쩌다가': 16339, '도요타': 16340, '우희종': 16341, '전화위복': 16342, '중림동': 16343, 'imo': 16344, '내한': 16345, '추징': 16346, '김대호': 16347, '톱스타': 16348, '잡것': 16349, '꼬락서니': 16350, '정략적': 16351, '신정동': 16352, '가다가': 16353, '복지부': 16354, '일문일답': 16355, '터치스크린': 16356, '연오랑': 16357, '세오녀': 16358, '돌산': 16359, '강구항': 16360, '소아과': 16361, 'mp': 16362, '입냄새': 16363, '사그라들다': 16364, '월별': 16365, '한풀': 16366, '집단사고': 16367, '재앙': 16368, '독립운동가': 16369, '케네디': 16370, '사살': 16371, '망신': 16372, '석방': 16373, '피곤': 16374, '조원진': 16375, '전용기': 16376, '뒤집혔다': 16377, '비속': 16378, '개개인': 16379, '낙선': 16380, '부디': 16381, '감원': 16382, '런칭': 16383, '타파': 16384, '묵묵': 16385, '경례': 16386, '퓨처': 16387, '광원': 16388, '주진모': 16389, '모노크롬': 16390, '이진우': 16391, '물성': 16392, '광둥성': 16393, '매연': 16394, '성조기': 16395, '장경영': 16396, '팔짱': 16397, '추인': 16398, '패티': 16399, '구석구석': 16400, '이륙': 16401, '데상트': 16402, '김익환': 16403, '한없이': 16404, '구리시': 16405, '토막': 16406, '최전선': 16407, '위챗': 16408, '디오': 16409, '의학상': 16410, '잭스': 16411, '질량': 16412, '차도': 16413, '픽코마': 16414, '노펫': 16415, '월동': 16416, '답안': 16417, '여왕': 16418, '무슬림': 16419, '올려놓다': 16420, '대당': 16421, '해커': 16422, '다큐멘터리': 16423, '하나라': 16424, '속상하다': 16425, '고슴도치': 16426, '리브레': 16427, '레디': 16428, '낙천': 16429, '물망': 16430, '조태용': 16431, '장충동': 16432, '정숙': 16433, '콰트로': 16434, '갈리': 16435, '신정': 16436, '유엔군': 16437, '마하': 16438, '비르': 16439, '관성': 16440, '국립무용단': 16441, '용혈': 16442, '신부전': 16443, '에크': 16444, '상실하다': 16445, '대졸': 16446, '아이엘': 16447, '총학생회': 16448, '전당대회': 16449, '세무사': 16450, '화기': 16451, 'brand': 16452, '사용권': 16453, '과기대': 16454, '프로그래밍': 16455, '습득': 16456, '김석동': 16457, '난이': 16458, '잠식': 16459, '미용실': 16460, '숙청': 16461, '티웨이': 16462, '하순': 16463, '달이다': 16464, '칼라일': 16465, '손나은': 16466, '만유인력': 16467, '이철우': 16468, '십억': 16469, '공격기': 16470, '곡률': 16471, 'qhd': 16472, '김혜민': 16473, '아이유': 16474, '가려내다': 16475, '감육': 16476, '피소': 16477, '뚝심': 16478, '부옇다': 16479, '컨베이어': 16480, '캠코채': 16481, '모채': 16482, '금융채': 16483, '조혈모세포': 16484, '열애설': 16485, '기절': 16486, '여배우': 16487, '등골': 16488, '공명당': 16489, '이라니': 16490, '제자리걸음': 16491, '이동성': 16492, '신혜': 16493, '칼로리': 16494, '트레이': 16495, 'fnc': 16496, 'gsma': 16497, '휴먼시아': 16498, '쌍용동': 16499, '탐사선': 16500, '경리': 16501, '조유진': 16502, 'ffd': 16503, '힌지': 16504, '서정': 16505, '알티': 16506, '신진서': 16507, '이창환': 16508, '외도': 16509, '한프': 16510, '대화면': 16511, '분향소': 16512, '하메네이': 16513, '무보': 16514, '김유리': 16515, '미닛': 16516, '휴교': 16517, '이산가족': 16518, '행시': 16519, '거처': 16520, 'my': 16521, '기차표': 16522, '광림': 16523, '독사': 16524, '구역질': 16525, '홈스쿨링': 16526, '수란': 16527, 'ocr': 16528, '전투기': 16529, '학자금': 16530, '에그': 16531, '천안함': 16532, 'master': 16533, 'dlb': 16534, '양정': 16535, '스위첸': 16536, '클린룸': 16537, '화곡동': 16538, '보훈처': 16539, '전해철': 16540, '메디프론': 16541, '아밀로이드': 16542, '최헌': 16543, '김유림': 16544, '유양': 16545, '정보공개': 16546, '홍문': 16547, '켄코': 16548, '에어로': 16549, '김은빈': 16550, '고흥군': 16551, '청소년올림픽': 16552, '이백수': 16553, '이보람': 16554, '김근철': 16555, '야마다': 16556, '오이': 16557, '파출소': 16558, '무함마드': 16559, '장자커우': 16560, '전라북도': 16561, '임페': 16562, '디먼': 16563, '후도': 16564, '이경구': 16565, 'anda': 16566, '광케이블': 16567, '지놈': 16568, '코젠': 16569, '순창': 16570, '널디': 16571, '옥석': 16572, 'nsw': 16573, '낙화': 16574, '잔향': 16575, '라이스': 16576, '보카치오': 16577, 'rated': 16578, '셀랩': 16579, '함평군': 16580, '금마': 16581, '호우': 16582, '구정': 16583, '계발': 16584, '커넥츠': 16585, '근무시간': 16586, '타진': 16587, '스트레이트': 16588, 'cds': 16589, '버진': 16590, '럭': 16591, '양안': 16592, 'osp': 16593, '웨비': 16594, '갱': 16595, '알바몬': 16596, '쌍용양회': 16597, '황재': 16598, '코다리': 16599, '리차': 16600, '사상사': 16601, 'grabody': 16602, '명일': 16603, '포동': 16604, '비체힐': 16605, 'adcld': 16606, '성산동': 16607, '네오': 16608, '소켓': 16609, '다임': 16610, '넥스젠': 16611, '쿠버': 16612, '옵스': 16613, 'lacp': 16614, '초성퀴즈': 16615, '임단협': 16616, '장량': 16617, '나노메딕스': 16618, '새집': 16619, '저택': 16620, '아틀리에': 16621, 'nato': 16622, '일동제약': 16623, '지핀': 16624, '진취': 16625, '정치이념': 16626, '만만': 16627, '최종호': 16628, 'cea': 16629, '비상조치': 16630, '조해진': 16631, '교육기본법': 16632, 'nbp': 16633, '산후안': 16634, '델리': 16635, '보름': 16636, '이스트소프트': 16637, '불급': 16638, '정규철': 16639, '망실': 16640, '꼽았': 16641, '남인순': 16642, '허언': 16643, '양치기': 16644, '숙지': 16645, '노동현': 16646, '조가': 16647, '나현': 16648, '박미선': 16649, '장도연': 16650, '돋웠다': 16651, '골방': 16652, '독차지': 16653, '잽싸다': 16654, '뒤태': 16655, '툴툴': 16656, '쥐락펴락하': 16657, '뒷정리': 16658, '티격태격하': 16659, '조마조마하다': 16660, '스르륵': 16661, '녹아내리다': 16662, '부러': 16663, '정성껏': 16664, '부지런하다': 16665, '살벌하다': 16666, '엽기사진': 16667, '육탄': 16668, '에게선': 16669, '알콩달콩': 16670, '흐뭇하다': 16671, '초로': 16672, 'foc': 16673, 'fmc': 16674, '호프먼': 16675, '국전': 16676, '예비역': 16677, '심재민': 16678, '의사과학': 16679, '유체': 16680, '아이스팩': 16681, '냉동고': 16682, '축냉': 16683, '미풍': 16684, '풍량조절': 16685, '송풍한다': 16686, '업성': 16687, '선풍기': 16688, '틈새시장': 16689, 'smc': 16690, '버닝썬': 16691, '베이커': 16692, '카톨릭대': 16693, '성빈센트병원': 16694, '씨줄': 16695, '날줄': 16696, 'resource': 16697, '조조': 16698, '맹성규': 16699, '취악': 16700, '억억원': 16701, '역삼각형': 16702, '싱가폴': 16703, '홍헌표': 16704, '분분하다': 16705, '이천사': 16706, '민관거버넌스': 16707, '얽매': 16708, '군의관': 16709, '구르다': 16710, '울진의료원': 16711, '산병': 16712, '이광': 16713, '노동청': 16714, '금누': 16715, '반올림': 16716, '영길': 16717, '소득재분배': 16718, '토마': 16719, '빈곤층': 16720, '공동사회': 16721, '중하': 16722, 'necessity': 16723, 'inventive': 16724, '양정역': 16725, '주택지': 16726, '일광': 16727, 'valet': 16728, '호건': 16729, '크로니클': 16730, '상도역': 16731, '밋': 16732, '길음역': 16733, '강보': 16734, '왼': 16735, '편중': 16736, '내쉬다': 16737, '타산': 16738, '법성': 16739, '회부': 16740, '친분': 16741, '균등하다': 16742, '단도': 16743, '유재영': 16744, '정장선': 16745, '송탄': 16746, '안중': 16747, '지소': 16748, '취어': 16749, 'ubs': 16750, '월화드라마': 16751, '진희경': 16752, '문정희': 16753, '베일': 16754, '주홍': 16755, '서태화': 16756, '폐쇄각': 16757, '청천벽력': 16758, '안압': 16759, '반짝반짝': 16760, '액셀': 16761, '울보': 16762, '윤택': 16763, '황건': 16764, '아스라이': 16765, '병들다': 16766, '결말': 16767, '애석하다': 16768, '비리다': 16769, '저릿하다': 16770, '어스름': 16771, '한사코': 16772, '서강준': 16773, '따스하다': 16774, '살갗': 16775, '시스터': 16776, '고백록': 16777, '멎다': 16778, '형부': 16779, '핏기': 16780, '작달비': 16781, '폭풍우': 16782, '전력거래소': 16783, '비력': 16784, '백분율': 16785, '온화하다': 16786, '전변': 16787, '네코': 16788, '한잔': 16789, '사치': 16790, '소박하다': 16791, '포대': 16792, '수북하다': 16793, '테이크아웃': 16794, 'cso': 16795, '조경이': 16796, '텁텁': 16797, '찌꺼기': 16798, '장변': 16799, '그라인더': 16800, '년내': 16801, 'insentives': 16802, 'conventions': 16803, 'exhibitions': 16804, '양수영': 16805, '공장장': 16806, 'quick': 16807, 'sigma': 16808, '금탑': 16809, '거창하다': 16810, '알바트로스': 16811, '화창하다': 16812, '십견': 16813, '막염': 16814, '오십': 16815, '석회': 16816, '건염': 16817, '석회질': 16818, '물리치료': 16819, '김용상': 16820, 'adipose': 16821, 'derived': 16822, 'mesenchymal': 16823, 'cells': 16824, 'loaded': 16825, 'fibrin': 16826, 'glue': 16827, 'influence': 16828, 'rotator': 16829, 'cuff': 16830, 'repair': 16831, 'outcomes': 16832, 'magnetic': 16833, 'resonance': 16834, 'imaging': 16835, 'ajsm': 16836, 'fator': 16837, '재생의학': 16838, '망국': 16839, '슬프다': 16840, '타락': 16841, '스탠드': 16842, '정속': 16843, '무빙휠': 16844, '대불': 16845, '경제특구': 16846, 'amundi': 16847, 'classa': 16848, '세배': 16849, 'kis': 16850, '김경훈': 16851, '오광': 16852, '오마이': 16853, 'kep': 16854, '블릭': 16855, '키스톤': 16856, 'sda': 16857, '취르허': 16858, '퉁': 16859, '분뇨': 16860, '폐수처리': 16861, '축전기': 16862, '이용훈': 16863, 'chip': 16864, 'microsupercapacitor': 16865, 'supercapacitor': 16866, '활성탄': 16867, 'wearable': 16868, 'device': 16869, '하기는': 16870, 'electrohydrodynamic': 16871, 'jet': 16872, '적함': 16873, '적하': 16874, 'aaas': 16875, '까르띠': 16876, '아펠': 16877, '장집': 16878, '불가리': 16879, '손목시계': 16880, '에를': 16881, '리치몬트': 16882, '온종일': 16883, '파열음': 16884, '사바나': 16885, '수렵': 16886, '헤매다': 16887, '본능': 16888, '타고나다': 16889, '김아영': 16890, '용강': 16891, 'octg': 16892, '송유관': 16893, '유빈': 16894, '선예': 16895, '예은': 16896, '영상편지': 16897, '민철': 16898, '서글서글하다': 16899, '로맨티시스트': 16900, '양가': 16901, '뽀뽀': 16902, '동백섬': 16903, '스웨': 16904, '경치': 16905, '지보': 16906, '천생연분': 16907, '정호영': 16908, '데뷔전': 16909, '박정원': 16910, '혁신단': 16911, '컨셉트카': 16912, '칼레': 16913, 'ola': 16914, 'kauml': 16915, 'llenius': 16916, '바스티안': 16917, 'ed': 16918, 'bastian': 16919, 'alan': 16920, 'jope': 16921, 'ivanka': 16922, '샤피로': 16923, 'gary': 16924, 'shapiro': 16925, '일레인': 16926, 'elaine': 16927, 'chao': 16928, '교통부': 16929, 'michael': 16930, 'kratsios': 16931, '무어': 16932, 'moore': 16933, '수지분': 16934, 'united': 16935, 'water': 16936, '방글라데시': 16937, '댈러스': 16938, '도렴동': 16939, '간사이': 16940, '일한국': 16941, '그제야': 16942, '킨스': 16943, '자장': 16944, '삼강': 16945, '엠앤티': 16946, '텍피': 16947, 'pfizer': 16948, 'roche': 16949, '존슨앤존슨': 16950, 'johnsonjohnson': 16951, 'biologics': 16952, '제약기업': 16953, '몬세프': 16954, '슬라워': 16955, '스톡옵셥': 16956, '차르': 16957, '제정러시아': 16958, 'nio': 16959, 'jochen': 16960, 'paesen': 16961, '카림': 16962, '하비': 16963, 'es': 16964, 'eve': 16965, '매니아': 16966, 'executive': 16967, 'enovate': 16968, '시앙동핑': 16969, '커넥': 16970, 'driving': 16971, '총칭': 16972, '중용': 16973, '유지영': 16974, '지영': 16975, '다이애나': 16976, '클로스': 16977, 'diana': 16978, 'kloster': 16979, '김은아': 16980, '우딩': 16981, '텀블벅': 16982, '김주리': 16983, '동관': 16984, '민실': 16985, '분반': 16986, '큐넷': 16987, '격통': 16988, '국가승인': 16989, '물픔': 16990, '누벼온': 16991, '저널리스트': 16992, '착목': 16993, '만리장성': 16994, '장임': 16995, '서안지구': 16996, '분리장벽': 16997, '철조망': 16998, '감시탑': 16999, '뱅크시': 17000, '유대계': 17001, '파타': 17002, '하마스': 17003, '서사하라': 17004, '방벽': 17005, '참호': 17006, '사하라': 17007, '시라': 17008, '위족': 17009, '폴리사리오': 17010, '이별': 17011, '맴버십': 17012, 'fire': 17013, 'hdmi': 17014, '구독료': 17015, '배급': 17016, '미식': 17017, '테니스': 17018, '미끼상품': 17019, '숭기': 17020, '입점비': 17021, '점자': 17022, '구미시': 17023, '광둥': 17024, '후이저우': 17025, '어닝쇼크': 17026, '사고팔다': 17027, '물순환': 17028, '황구지천': 17029, '수원천': 17030, '천리': 17031, '여천': 17032, '소하천': 17033, '비옥하다': 17034, 'lid': 17035, 'development': 17036, '중수도': 17037, '도랑': 17038, '유출량': 17039, '침투량': 17040, '물수지': 17041, '녹색식물': 17042, '덩굴식물': 17043, '나팔꽃': 17044, '제비콩': 17045, '풍선초': 17046, '수세미': 17047, '작두': 17048, '녹시율': 17049, '영통동': 17050, '고색동': 17051, '납입일': 17052, '조리법': 17053, '머블': 17054, '말차': 17055, '자색': 17056, '완두콩': 17057, 'butterfly': 17058, 'pea': 17059, '오레오': 17060, '버블티': 17061, '머그잔': 17062, '주방용품': 17063, '핫케익': 17064, '핫케이크': 17065, '혜성': 17066, 'golf': 17067, '승부사': 17068, '친밀하다': 17069, '사인회': 17070, '청소년증': 17071, '준희': 17072, '재료공학': 17073, '장인상': 17074, '코킹': 17075, '윤우': 17076, '김다영': 17077, 'ehs': 17078, '최지욱': 17079, '빙모': 17080, '익현': 17081, 'ubc': 17082, '보도국': 17083, '효현': 17084, '강헌': 17085, '성범죄자': 17086, '은수미': 17087, '성남시장': 17088, '중간고사': 17089, '중원구': 17090, '더맘': 17091, '복정동': 17092, '의소': 17093, '믹타': 17094, 'mikta': 17095, '귀차니즘': 17096, 'botd': 17097, 'jimin': 17098, '어루만지다': 17099, '촬영현장': 17100, '몰타': 17101, '친해지다': 17102, '김병민': 17103, '교산동': 17104, '프론트맨': 17105, '셰이커': 17106, 'movers': 17107, 'shakers': 17108, '아이튠즈': 17109, 'lie': 17110, '가온차트': 17111, '자임': 17112, '갑갑하다': 17113, '현란하다': 17114, '신통': 17115, '옷깃': 17116, '몸서리': 17117, '공포증': 17118, '봄맞이': 17119, '캠퍼': 17120, '쭉쭉': 17121, '한여름': 17122, '쳐다보다': 17123, '부풀다': 17124, '원망': 17125, '수원시청': 17126, '블랭': 17127, 'krf': 17128, '용선': 17129, '조기성': 17130, '산부': 17131, '출생증명서': 17132, '눈쌀': 17133, '하계올림픽': 17134, 'umb': 17135, '고풍': 17136, '벙거지': 17137, '슬로바키아': 17138, '언론기관': 17139, '흑색선전': 17140, 'irp': 17141, '아브뉴프랑': 17142, '리솜': 17143, '원픽': 17144, '지방자치제': 17145, '멸렬': 17146, '간들간들': 17147, '득세': 17148, '놀음': 17149, '폄훼': 17150, '어정쩡하다': 17151, '구걸': 17152, '비굴하다': 17153, '자칫하면': 17154, '에로': 17155, '후환': 17156, '톤수': 17157, '기타리스트': 17158, '극성팬': 17159, '경제개발': 17160, '통계지도': 17161, 'ratio': 17162, '거유': 17163, '중계동': 17164, '공교육': 17165, 'wwww': 17166, 'bitle': 17167, '안영배': 17168, '랜덤하우스': 17169, '아톰': 17170, 'atombooks': 17171, '번체': 17172, '안산선': 17173, '와동': 17174, '윌셔': 17175, '묵시': 17176, '의사표시': 17177, '죽산': 17178, '충주댐': 17179, '관로': 17180, '배수지': 17181, '당목': 17182, '가압': 17183, '명운': 17184, 'chosun': 17185, '중절모': 17186, '요로': 17187, '투혼': 17188, '빗속': 17189, '우지': 17190, '파소도블레': 17191, '내생': 17192, '드리워지다': 17193, '재회': 17194, '나팔': 17195, '선곡': 17196, '터트렸': 17197, '훅': 17198, '줄리엣': 17199, '로미오': 17200, '창밖': 17201, '포현': 17202, '랭크됐던': 17203, '거머': 17204, '구사일생': 17205, '주현미': 17206, '설운도': 17207, '사사': 17208, '탈락자': 17209, '흥미진진': 17210, '미반': 17211, '유감스럽게': 17212, '짓눌리다': 17213, '맺혔다': 17214, '위조지폐': 17215, '제리': 17216, '면책특권': 17217, 'defund': 17218, '공권력': 17219, '철산역': 17220, '핵심쟁점': 17221, '총리대신': 17222, '국력': 17223, '홀로코스트': 17224, '브란트': 17225, '국가배상': 17226, '배상면': 17227, '서독': 17228, '강제노동': 17229, '폴란드인': 17230, '강대국': 17231, '커녕': 17232, '괴기하다': 17233, '띠기': 17234, '미완': 17235, '하루키': 17236, '최고재판소': 17237, '미자': 17238, '순결하다': 17239, '론등': 17240, '빅매치': 17241, '숭숭': 17242, '수라': 17243, '삭발': 17244, '그땐': 17245, '눙': 17246, '유머러스하다': 17247, '신주희': 17248, '바꿔치다': 17249, '노엘': 17250, '장용': 17251, '독부': 17252, '특가법': 17253, '말투': 17254, '어눌하다': 17255, '걸쭉하다': 17256, '섹': 17257, '드립': 17258, '단박': 17259, '웃음꽃': 17260, '윤종승': 17261, 'rest': 17262, '안식': 17263, '글귀': 17264, '이홍렬': 17265, '엄숙': 17266, '새삼': 17267, '혈혈': 17268, '단신': 17269, '파트타임': 17270, '할이었지만': 17271, '이래서': 17272, '쉴즈': 17273, '저메인': 17274, '할리우드': 17275, '의기': 17276, '투합': 17277, '전원주': 17278, '애드립': 17279, '새까맣다': 17280, '성차별': 17281, '찡그리다': 17282, '슬랩': 17283, '김영삼': 17284, '김종필': 17285, '성대모사': 17286, '언어유희': 17287, '선후': 17288, '썰렁개그': 17289, '이명박정부': 17290, '판단력': 17291, '세면': 17292, '드나': 17293, '정년': 17294, '대통령직': 17295, '교문': 17296, '윤종무': 17297, '진리': 17298, '쓸쓸하다': 17299, '쓴맛': 17300, 'pent': 17301, '신동준': 17302, '윤창용': 17303, '조용준': 17304, '서철수': 17305, 'em': 17306, '폴크스바겐': 17307, 'plug': 17308, 'hybrid': 17309, 'electric': 17310, 'vehicle': 17311, '내연기관차': 17312, 'edrive': 17313, '수랭식': 17314, '슈퍼차저': 17315, '교육세': 17316, '등록세': 17317, '자치행정': 17318, '침제': 17319, '토리': 17320, '별양동': 17321, '미디엄': 17322, '배모': 17323, '센텀시티': 17324, '철인': 17325, '주얼리': 17326, '명박': 17327, 'foodex': 17328, 'npew': 17329, 'fha': 17330, 'vietnam': 17331, 'thaifex': 17332, 'anuga': 17333, '비품': 17334, '심쿵': 17335, '자강': 17336, '한구': 17337, '통상산업부': 17338, '동감': 17339, '김한기': 17340, 'kospo': 17341, '결부': 17342, '광석': 17343, '외풍': 17344, '초등교육': 17345, '조정수': 17346, '상비': 17347, '일부러': 17348, '찌웠어': 17349, '살찐': 17350, '해명글': 17351, '사이코메트리': 17352, '도로명주소법': 17353, '도로명주소': 17354, '이영수': 17355, '이투스교육': 17356, '독학': 17357, '국영수': 17358, '최영주': 17359, '성황': 17360, '대성공': 17361, '풀어지다': 17362, '성탄절': 17363, '제창': 17364, '레픽': 17365, '해몽': 17366, '정각': 17367, '스케치': 17368, '시티투어': 17369, '관광버스': 17370, '밀리오레': 17371, '가로등': 17372, '박중현': 17373, '패션타운': 17374, '해주': 17375, '공격대': 17376, '극성': 17377, '새누리': 17378, '캡처': 17379, '슬슬': 17380, '여론조작': 17381, '명완': 17382, '굿네이버스': 17383, '전경련': 17384, '전기통신사업법': 17385, '배경인': 17386, '입법조사처': 17387, '조명등': 17388, '석남사': 17389, '선바위': 17390, '명촌교': 17391, 'skbkt': 17392, 'skb': 17393, '안하무인': 17394, '뒷짐': 17395, '민영화': 17396, '부존재': 17397, 'mmda': 17398, 'eur': 17399, 'jpy': 17400, '폭설': 17401, '코덱스': 17402, '타이거': 17403, '차잔': 17404, '대차다': 17405, '갓길': 17406, '묘수': 17407, '정기권': 17408, '행전': 17409, '승차권': 17410, '제부도': 17411, '영천동': 17412, '반송동': 17413, '노상': 17414, '병점': 17415, '병점동': 17416, '내쫓다': 17417, '진회': 17418, '날뛰다': 17419, '남송': 17420, '초생': 17421, '활보': 17422, '장법': 17423, '월차': 17424, '정세랑': 17425, '문학동네': 17426, '문고': 17427, '삼대': 17428, '으로부터는': 17429, '이서윤': 17430, '해빙': 17431, '베르나르': 17432, '베르베르': 17433, '정채진': 17434, '김승호': 17435, '존리': 17436, '사로잡히다': 17437, '범접': 17438, '신현준': 17439, '주춧돌': 17440, '요양보호사': 17441, '명륜': 17442, '유령': 17443, '캐나다인': 17444, '발렛댄서': 17445, '헤리티지': 17446, 'dls': 17447, '일말': 17448, '이두아': 17449, '홍석준': 17450, '로다': 17451, '최홍': 17452, '쿼리': 17453, '서병수': 17454, '시지온': 17455, '서남대': 17456, '황규원': 17457, '하람': 17458, '심정우': 17459, '호남대': 17460, '횡성군': 17461, '영월군': 17462, '평창군': 17463, '의성군': 17464, '사파이어': 17465, '창간': 17466, '네팔': 17467, '순천향': 17468, '이사경': 17469, '친선': 17470, 'att': 17471, '우도': 17472, '프록터': 17473, '갬블': 17474, '여통': 17475, '설연휴': 17476, '알아주다': 17477, '격무': 17478, '눈코입': 17479, 'kill': 17480, '붐바': 17481, '처럼도': 17482, 'dur': 17483, '경범죄': 17484, '사이버수사대': 17485, 'multi': 17486, '단상': 17487, '키치': 17488, 'kitsch': 17489, '록스타': 17490, '보위': 17491, '스타더스트': 17492, 'mnet': 17493, '소년점프': 17494, '라보': 17495, '유병재': 17496, '슬로': 17497, '본캐': 17498, '포유': 17499, '유르페우스': 17500, '유두': 17501, '비룡': 17502, '유행어': 17503, '근사하다': 17504, '김신영': 17505, '둘러매다': 17506, '뿔테': 17507, '감투': 17508, '응석': 17509, '개정판': 17510, '도슨트': 17511, '절취': 17512, '칠이': 17513, '거북': 17514, '준홍': 17515, '최대현': 17516, '검산': 17517, '녹색당': 17518, '민중당': 17519, '협찬': 17520, '연건': 17521, '민전': 17522, '김준근': 17523, '월생': 17524, '정함': 17525, '장기형': 17526, '마르스': 17527, '존폐': 17528, '국립공원': 17529, '수목원': 17530, '확전': 17531, '링윤': 17532, '조장': 17533, '가오링윤': 17534, '논점': 17535, '조리면': 17536, '관악사': 17537, '서정협': 17538, '평가원': 17539, '국립대전현충원': 17540, '충의': 17541, '위훈': 17542, '기릴': 17543, '국립묘지': 17544, '시어터': 17545, '송출했다': 17546, '김석훈': 17547, '수열': 17548, '하모니': 17549, '조원석': 17550, '최문석': 17551, '오세미': 17552, '도령': 17553, '유나영': 17554, '얼치기': 17555, '정인지': 17556, '따라다니다': 17557, '맹폭했다': 17558, '국토안보부': 17559, '오리엔트': 17560, 'tpc': 17561, '텍포': 17562, '톱텍피': 17563, 'qazaqstan': 17564, '알마티': 17565, '아타': 17566, '알싸하다': 17567, '유자차': 17568, '연철': 17569, '송미선': 17570, '경건': 17571, '이원경': 17572, '혁진': 17573, '곽민수': 17574, '김창훈': 17575, '김진환': 17576, '투지': 17577, '통설': 17578, '영속성': 17579, '디벨롭먼트': 17580, 'lidar': 17581, '산란': 17582, 'clustering': 17583, 'vp': 17584, 'mrp': 17585, '세팅된': 17586, '능통하다': 17587, '수료식': 17588, '김병열': 17589, '이지형': 17590, '격자': 17591, '판판이': 17592, '나가떨어지다': 17593, '밀지': 17594, '교육인': 17595, 'cafeacute': 17596, '키워지다': 17597, '그림책': 17598, '타트': 17599, '사자성어': 17600, 'shops': 17601, '페북': 17602, 'mark': 17603, 'zuckerberg': 17604, 'instagram': 17605, 'dm': 17606, '상곤': 17607, '관세사': 17608, '변리사': 17609, '직수출': 17610, '어의': 17611, '웰트': 17612, '류정': 17613, '진경': 17614, '차창': 17615, '로간': 17616, '마다의': 17617, '항저우': 17618, '벨로루시': 17619, '기개': 17620, '장계': 17621, '독트린': 17622, '풍요': 17623, '곡창': 17624, '찬란하다': 17625, '구국': 17626, '정치군인': 17627, '살신성인': 17628, '오륙도': 17629, '건배': 17630, '선창': 17631, '의라': 17632, '선풍': 17633, '브로드웨이': 17634, '유달산': 17635, '고하도': 17636, '용오름': 17637, '옥단': 17638, '강강수월래': 17639, '삼학도': 17640, '갓바위': 17641, '입암산': 17642, '테이트모던': 17643, '태조': 17644, '왕건': 17645, '사령': 17646, '인심': 17647, '하멜': 17648, '종포밤빛': 17649, '장범준': 17650, '영취산': 17651, '인어공주': 17652, '신지': 17653, '인어': 17654, '카프리섬': 17655, '해적': 17656, '여제': 17657, '케이블카': 17658, '아쿠아플라넷': 17659, '거북선': 17660, '굴강': 17661, '세계박람회': 17662, '비렁길': 17663, '금오도': 17664, '갯장어': 17665, '왕후': 17666, '안양면': 17667, '여닫이': 17668, '대덕읍': 17669, '면류관': 17670, '명산': 17671, '천관산': 17672, '호령': 17673, '탐진강': 17674, '용호': 17675, '용산면': 17676, '승천': 17677, '천문대': 17678, '장평면': 17679, '슬로시티': 17680, '지렁이': 17681, '관동별곡': 17682, '별곡': 17683, '백광홍': 17684, '송기숙': 17685, '거닐다': 17686, '내색': 17687, '청준': 17688, '사무치다': 17689, '박치기': 17690, '프로레슬링': 17691, '프로권투': 17692, '미들급': 17693, '고사하고': 17694, '천사': 17695, '심금': 17696, '선녀': 17697, '마복산': 17698, '점암면': 17699, '과역면': 17700, '인학': 17701, '거금도': 17702, '순정': 17703, '타조': 17704, '알팀': 17705, '리알': 17706, '치장': 17707, '녹동항': 17708, '월광': 17709, '모노레일': 17710, '충장로': 17711, '양동시장': 17712, '남북통일': 17713, '외할아버지': 17714, '안온함': 17715, '최흥종': 17716, '나병환자': 17717, '성자': 17718, '두샷': 17719, '양림동': 17720, '펭귄': 17721, '김정호': 17722, '하얀나비': 17723, '백일': 17724, '낭군': 17725, '육전': 17726, '굴비': 17727, '막걸리': 17728, '보리밥': 17729, '상추튀김': 17730, '오징어순대': 17731, '홍어': 17732, '가리비': 17733, '핫도그': 17734, '퓨전': 17735, '집합소': 17736, '고려인': 17737, '시먀': 17738, '펑스': 17739, '삼향': 17740, '정남진': 17741, '위폐': 17742, '영정': 17743, '마한': 17744, '규슈': 17745, '서북병원': 17746, '폐쇄할': 17747, '사업모형': 17748, '강용': 17749, '전대': 17750, '기계공학': 17751, '학생회장': 17752, '려던': 17753, '노정희': 17754, '수원지검': 17755, '만평': 17756, '행정동': 17757, '견사': 17758, '목적견': 17759, '경찰특공대': 17760, '취했으': 17761, '학보': 17762, '서두': 17763, '대범하다': 17764, '말미': 17765, '윤집': 17766, '장우성': 17767, '왕종': 17768, '쟁쟁': 17769, '르페': 17770, '파뤼': 17771, '닭터유': 17772, 'yoo': 17773, '신재호': 17774, '경솔하다': 17775, '젖소': 17776, '신씨': 17777, '상고': 17778, '업관': 17779, '펫숍': 17780, '신기동': 17781, 'glte': 17782, 'pimac': 17783, '스포츠콤플렉스': 17784, '과학비즈니스벨트': 17785, '주파': 17786, '중집': 17787, '전태일': 17788, '한일전': 17789, '탄산칼륨': 17790, '덤핑': 17791, '하이면': 17792, '김준형': 17793, '국립외교원': 17794, '연평도': 17795, '대단원': 17796, '힙': 17797, '졸렬하다': 17798, '추악하다': 17799, '공허하다': 17800, '혈투': 17801, '싱크로': 17802, '연기력': 17803, '권나라': 17804, '김동희': 17805, '악역': 17806, '류경수': 17807, '김혜은': 17808, '김여진': 17809, '손현주': 17810, '서은수': 17811, '이준혁': 17812, '박보검': 17813, '발칙하다': 17814, '명대사': 17815, '객기': 17816, '가호': 17817, 'gaho': 17818, '하현우': 17819, '김필': 17820, '윤미래': 17821, '플린트': 17822, '총상': 17823, '헤이트': 17824, 'hate': 17825, '상층': 17826, '요리법': 17827, 'sj': 17828, '가리봉동': 17829, '찬양': 17830, '명교': 17831, '괸련된': 17832, '장산': 17833, '김정각': 17834, 'thru': 17835, '등빛': 17836, '우장산': 17837, '숲속': 17838, '가양': 17839, '수신면': 17840, '구급대': 17841, '심장마비': 17842, '화복': 17843, '리브로': 17844, '재산관리': 17845, '심의회': 17846, '녹번역': 17847, '터줄': 17848, '덕주': 17849, '상일동역': 17850, '신길': 17851, '남가좌동': 17852, '루센티': 17853, '남중': 17854, '신월': 17855, '신길동': 17856, '보라매': 17857, '장위동': 17858, '사가정': 17859, '남여': 17860, '위부': 17861, '안양천': 17862, '목감천': 17863, '월곶': 17864, '판교선': 17865, '용운동': 17866, '판암역': 17867, '계림동': 17868, '그랜드센트럴': 17869, '계림': 17870, 'apply': 17871, '저촉': 17872, '위헌법률심판': 17873, '정광현': 17874, '일영': 17875, '종속': 17876, '장자': 17877, 'abn': 17878, 'amro': 17879, '우리카드': 17880, '수입물량': 17881, '진력': 17882, '난만': 17883, '박재영': 17884, '동창생': 17885, '미망인': 17886, '화영': 17887, '인가가': 17888, '주현': 17889, '강은경': 17890, '흡인': 17891, '비틀리다': 17892, '그럭저럭': 17893, '준영': 17894, '로망': 17895, '떡밥': 17896, '질투': 17897, '매료': 17898, '미스티': 17899, '꿰뚫다': 17900, '재방송': 17901, '채국희': 17902, '숙의': 17903, '심리전': 17904, '산산이': 17905, '기타로': 17906, '필리핀인': 17907, 'dummy': 17908, '임서': 17909, '종착': 17910, '뒤뚱거리': 17911, 'innings': 17912, 'ufg': 17913, '러프': 17914, '옆집': 17915, '답례': 17916, '기축': 17917, '물물': 17918, '청양고추': 17919, '아령': 17920, '최철': 17921, '박지영': 17922, '상황특단': 17923, '말경': 17924, '댁': 17925, '피앤티디': 17926, '틈틈이': 17927, '어사': 17928, '아디다스': 17929, '갑피': 17930, '악천후': 17931, 'closure': 17932, '어택': 17933, '텍션': 17934, '상반신': 17935, '꿰찬': 17936, '청와대로': 17937, '안종': 17938, '다국적기업': 17939, '이중과세': 17940, '만유': 17941, '비지': 17942, '묵인': 17943, '죄값': 17944, '깨깨': 17945, '요란하다': 17946, '속결': 17947, '바흐탄고프': 17948, '이성열': 17949, '파우스트': 17950, '이송이': 17951, '인명구조': 17952, '이상기후': 17953, '재인식': 17954, '프레이': 17955, '로어': 17956, 'follower': 17957, '김경규': 17958, '청구대': 17959, '설립비용': 17960, '원심분리기': 17961, '디옥시리보핵산': 17962, '석기': 17963, '침상': 17964, '구히': 17965, '구희서': 17966, '일간스포츠': 17967, '여석기': 17968, '한상철': 17969, '태주': 17970, '비평': 17971, '애정도': 17972, '명무': 17973, '연극상': 17974, '혜화동': 17975, 'rbw': 17976, '메인보컬': 17977, '알라딘': 17978, 'speechless': 17979, 'believer': 17980, 'sia': 17981, 'snowman': 17982, '재주': 17983, '마다를': 17984, '눈빛': 17985, '철시': 17986, '쇳물': 17987, '생철': 17988, '강괴': 17989, '이우환': 17990, '최영림': 17991, '이동엽': 17992, '워홀': 17993, '데미안': 17994, '허스트': 17995, '부샹': 17996, '현광': 17997, '이재익': 17998, '임정은': 17999, '임지민': 18000, '태구': 18001, '몬': 18002, '년작': 18003, '옅다': 18004, '초현': 18005, '빨간색': 18006, '주색': 18007, '송창의': 18008, '작도': 18009, '사마의': 18010, 'artday': 18011, '천자문': 18012, '화사': 18013, '필법': 18014, '고찰': 18015, '단아': 18016, '천진난만하다': 18017, '크레용': 18018, '부유하다': 18019, '민화': 18020, '상통': 18021, '컴패': 18022, '그래피티': 18023, '항적': 18024, '쿠사마': 18025, 'nets': 18026, '설치미술': 18027, '박주희': 18028, '경제권': 18029, '남사면': 18030, 'ao': 18031, '둔하다': 18032, '겸허': 18033, '회초리': 18034, '안상수': 18035, '핀크스': 18036, '니엘': 18037, 'banyan': 18038, 'tree': 18039, '릴랙': 18040, '트리트먼트': 18041, '한양도성': 18042, '퓨저': 18043, '얼티밋': 18044, '프레지': 18045, '덴셜': 18046, '올슨': 18047, '쿤딕': 18048, 'olson': 18049, 'kundig': 18050, '층고': 18051, '통창': 18052, '피풀': 18053, '농구장': 18054, '스쿼시': 18055, '가룸': 18056, '필라테스': 18057, '푸조': 18058, '삼다수': 18059, '벨라': 18060, '모엣': 18061, '하트': 18062, '셋팅한다': 18063, '반짝이다': 18064, '피스트': 18065, 'bathrobe': 18066, '에피타이저': 18067, '시저': 18068, '창살': 18069, '양념치킨': 18070, '스시': 18071, '딤섬': 18072, '리조': 18073, 'philizot': 18074, 'fils': 18075, '더박스': 18076, '앳': 18077, '폴라로이드': 18078, '큐티': 18079, '브룸': 18080, '섬모': 18081, '신랑': 18082, '신부': 18083, 'honey': 18084, '중턱': 18085, '한실': 18086, '이타미': 18087, 'private': 18088, 'boutique': 18089, '데코': 18090, '어향동': 18091, '옥돔': 18092, 'wedding': 18093, 'night': 18094, '이탈리안': 18095, '델비노': 18096, '해피아워': 18097, '오붓하다': 18098, '슈페리어룸': 18099, '플래터': 18100, 'island': 18101, '켄고쿠마': 18102, '오픈카': 18103, '렌트': 18104, '자쿠지': 18105, '퍼퓸': 18106, '딥디': 18107, '실내수영장': 18108, '청첩장': 18109, '십만': 18110, '신관': 18111, '황광일': 18112, '모녀': 18113, '어떡하다': 18114, '펑펑': 18115, '인형': 18116, '북산': 18117, '참외': 18118, '손편지': 18119, '동봉': 18120, '달구벌': 18121, 'theatre': 18122, '포승': 18123, '항변': 18124, '증거능력': 18125, '가두다': 18126, '김흥렬': 18127, '총살': 18128, '스코필드': 18129, '긍지': 18130, 'years': 18131, 'thriller': 18132, '저니': 18133, 'journey': 18134, '보톨리눔': 18135, '국민권익위': 18136, '잔혹하다': 18137, '공청회': 18138, 'mug': 18139, '식용어': 18140, 'photograph': 18141, '기록부': 18142, '강력범죄': 18143, '잔인하다': 18144, '김다운': 18145, '벗기다': 18146, 'cpodpo': 18147, '수효': 18148, '코러스': 18149, '다리다': 18150, '어딨다': 18151, '폭소': 18152, '괴소문': 18153, '소심하다': 18154, '감미롭다': 18155, 'believe': 18156, '프로듀싱': 18157, '신예': 18158, '음액': 18159, '나비효과': 18160, '비책': 18161, '예카테린부르크': 18162, '그랜드슬램': 18163, '공한': 18164, '소독약': 18165, '브러쉬': 18166, '원한': 18167, '동작대로': 18168, '대로는': 18169, '일반도': 18170, '독수': 18171, '상구': 18172, '노들역': 18173, '신대방': 18174, '삼거리': 18175, '지하수': 18176, '소화전': 18177, '이광정': 18178, '국회통과': 18179, '최운': 18180, '김향': 18181, '김명자': 18182, '낙농': 18183, '신학': 18184, '폐쇄명령': 18185, '취합': 18186, '하례': 18187, '땅바닥': 18188, '도배': 18189, '수리사업': 18190, 'kgc': 18191, '인삼공사': 18192, '노르트홀란트': 18193, '잔담': 18194, '잔디밭': 18195, '네덜란드인': 18196, 'looking': 18197, 'cancer': 18198, 'corona': 18199, 'jackfroot': 18200, '과다복용': 18201, '긁힌': 18202, '최영호': 18203, '한강로': 18204, '재삼': 18205, '엠팝': 18206, 'mpop': 18207, '검침': 18208, '고가용성': 18209, '이희': 18210, '황도': 18211, '의항리': 18212, '조난': 18213, '수색대': 18214, '열한': 18215, '국방력': 18216, '내열': 18217, '고견': 18218, '조찬': 18219, '김동성': 18220, '복심': 18221, '할애': 18222, '증축해': 18223, '증축함': 18224, '테스코': 18225, '메꿀': 18226, 'thuraya': 18227, 'telecommunications': 18228, 'xt': 18229, 'lite': 18230, '농수산물시장': 18231, '환어음': 18232, '천진': 18233, '파의': 18234, '유언비어': 18235, '이호': 18236, '소집물량': 18237, 'prs': 18238, '전현': 18239, '쇼맨': 18240, '무례하다': 18241, 'venus': 18242, '내뿜는': 18243, '천체': 18244, '목성': 18245, 'io': 18246, '학우': 18247, 'usra': 18248, '화산학': 18249, '미국항공우주국': 18250, '마젤란': 18251, '궤도선': 18252, '부식': 18253, '용광로': 18254, '산화철': 18255, '적철석': 18256, '주초': 18257, '리델': 18258, '삼일육': 18259, '병석': 18260, '육식동물': 18261, '범서읍': 18262, '망성': 18263, '욱곡': 18264, '소나무': 18265, '대낮': 18266, '동국대학교': 18267, '상북면': 18268, '가지산': 18269, '치술령': 18270, '신불산': 18271, '간월재': 18272, '한상훈': 18273, '국립생물자원관': 18274, '식공': 18275, '수달': 18276, '생태관광': 18277, '식육목': 18278, 'throated': 18279, 'marten': 18280, 'martes': 18281, 'flavigula': 18282, '이랜텍': 18283, '조정권': 18284, '벅차오르다': 18285, '경대수': 18286, '고래고기': 18287, '이철규': 18288, '태백': 18289, '김용판': 18290, '병전': 18291, '범수': 18292, '수사과장': 18293, '민비': 18294, '호놀룰루': 18295, '열분해': 18296, '분해능': 18297, '전자현미경': 18298, '폐훼할수': 18299, '폄훼할': 18300, '줄기차다': 18301, '세계사': 18302, 'ipa': 18303, '여수항': 18304, '광양항': 18305, '당진항': 18306, 'vsr': 18307, 'vessel': 18308, 'speed': 18309, '법회': 18310, '교구': 18311, 'ncck': 18312, '멈취요': 18313, '철탑': 18314, '호봉': 18315, '살맛': 18316, '딴지': 18317, '교육과정평가원': 18318, '심상': 18319, '환관': 18320, '몸짓': 18321, '의구': 18322, '쓸데없다': 18323, '쟝': 18324, '배송지': 18325, '답신': 18326, '생산품': 18327, '동아프리카': 18328, '조지타운': 18329, '아브라함': 18330, '식육': 18331, '맞닥뜨릴': 18332, '건초': 18333, '슈퍼컴퓨터': 18334, '인문학자': 18335, '자연과학자': 18336, '재빨리': 18337, '박해묵': 18338, '바닥재': 18339, '최영일': 18340, '박종호': 18341, '립해': 18342, '이광호': 18343, '면단': 18344, '위험수위': 18345, '조정우': 18346, '이중맹검': 18347, '도시재개발': 18348, '인센티브제': 18349, '목공': 18350, '연강': 18351, '우은지': 18352, '안규': 18353, 'msciacworld': 18354, '혼합형': 18355, '믿음직하다': 18356, '황광': 18357, '병설': 18358, '병문안': 18359, '백석역': 18360, '자곡': 18361, '김동훈': 18362, '최학수': 18363, '서동만': 18364, '김대유': 18365, '어젯밤': 18366, '칸타': 18367, '스리': 18368, '엠브레인': 18369, '케이에스': 18370, 'kopra': 18371, '원씨': 18372, '모노': 18373, 'appor': 18374, '난처하다': 18375, 'polls': 18376, 'generally': 18377, 'forecasting': 18378, 'elections': 18379, 'opinion': 18380, '버몬트': 18381, '콧': 18382, '노스캐롤라이나': 18383, '메이슨': 18384, '전안': 18385, '분납': 18386, '하드디스크': 18387, '태석': 18388, '도로시': 18389, '대극장': 18390, '오마주': 18391, 'winter': 18392, '밀리언셀러': 18393, '골든디스크': 18394, '허탕': 18395, '권모': 18396, '서모': 18397, '행정관청': 18398, '조모': 18399, '청도군': 18400, '청도읍': 18401, '대문': 18402, '김영관': 18403, '지방우정청': 18404, '등록시스템': 18405, '특수은행': 18406, '지방채': 18407, '탕정면': 18408, '배방읍': 18409, '충무': 18410, '사면초가': 18411, '칭다오시': 18412, '웨이하이시': 18413, '폐병': 18414, '솔로몬': 18415, '투발루': 18416, '나우루': 18417, '투르크메니스탄': 18418, '키르기즈공화국': 18419, '파파라치': 18420, '타이거즈': 18421, '돌려차기': 18422, '병뚜껑': 18423, '보되': 18424, '평균기온': 18425, '환선굴': 18426, '화암': 18427, '성류굴': 18428, '고산': 18429, '파란만장하다': 18430, '오묘하다': 18431, '카르스트': 18432, '석회암': 18433, '천년': 18434, '중세': 18435, '온달': 18436, '지물': 18437, '고구려': 18438, '온달장군': 18439, '기념물': 18440, '천동동굴': 18441, '석순': 18442, '선사시대': 18443, '물관': 18444, '만송': 18445, '횡보하': 18446, '허비': 18447, '발생러': 18448, '러시아인': 18449, '지라': 18450, 'gmt': 18451, '폴랴': 18452, '헤알': 18453, '허비하다': 18454, '해치': 18455, '한일정상회담': 18456, '이호현': 18457, 'pvc': 18458, '오닉스': 18459, '게임방': 18460, '임모': 18461, '웹캠': 18462, '정글': 18463, '탐험대': 18464, '러너': 18465, 'runner': 18466, '표장': 18467, '미역': 18468, '튀각': 18469, '종지부': 18470, '유숙': 18471, '애칭': 18472, '도적': 18473, '구름산': 18474, '신호등': 18475, '원탁': 18476, '고질': 18477, '철산동': 18478, '사결': 18479, '설문지': 18480, '아이지': 18481, 'espn': 18482, '비구름': 18483, '우박': 18484, '응용프로그램': 18485, '전자금융업': 18486, 'stop': 18487, '자만하다': 18488, '구월': 18489, '인큐베이터': 18490, '속리산': 18491, '화엄경': 18492, '때임': 18493, '미래한국': 18494, '윤봉길': 18495, '장손녀': 18496, '윤주경': 18497, '독립기념관': 18498, '윤창현': 18499, '이종성': 18500, '최승재': 18501, '조청래': 18502, '이태용': 18503, '동현': 18504, '유상범': 18505, '횡성': 18506, '박완수': 18507, '의창': 18508, '낭랑하다': 18509, '크러시': 18510, 'halsey': 18511, '사운드클라우드': 18512, 'badlands': 18513, 'justin': 18514, 'bieber': 18515, 'feeling': 18516, '드래곤스': 18517, '위켄드': 18518, 'weeknd': 18519, 'chainsmokers': 18520, 'hopeless': 18521, 'fountain': 18522, 'never': 18523, 'graveyard': 18524, 'clementine': 18525, 'sugas': 18526, 'interlude': 18527, 'manic': 18528, '매너': 18529, '포섭': 18530, '해해': 18531, '자괴': 18532, '체커': 18533, '유충': 18534, '이소진': 18535, '제만': 18536, '상춘객': 18537, '한교': 18538, '폐쇄구간': 18539, '등분': 18540, '건내다': 18541, '산동항': 18542, '산동성': 18543, '항간': 18544, '카페리': 18545, '항하': 18546, '웹스': 18547, '김준성': 18548, 'forbes': 18549, '팔로우': 18550, '트로이': 18551, 'vienna': 18552, '리듬': 18553, 'blank': 18554, '댄스파티': 18555, '똥줄': 18556, '장사꾼': 18557, '사주지': 18558, '중고나라': 18559, '솔드': 18560, '해프닝': 18561, '구조도': 18562, '최대호': 18563, '안양시장': 18564, '방인': 18565, '파절': 18566, '치대다': 18567, '봉와직염': 18568, '림프구': 18569, '에서라도': 18570, '최재욱': 18571, '인게': 18572, 'pixel': 18573, 'tetracell': 18574, 'phase': 18575, 'auto': 18576, 'focuspdaf': 18577, 'eis': 18578, 'tsr': 18579, 'hmi': 18580, '박용': 18581, '량일': 18582, 'race': 18583, '트랜': 18584, '스카웃': 18585, '전관예우': 18586, '언변': 18587, '경제원': 18588, '정양석': 18589, '김선동': 18590, '통역사': 18591, '콤플렉스': 18592, '멀티플렉스': 18593, '권임': 18594, '덕문': 18595, '수어': 18596, '일회용품': 18597, '소성': 18598, '유리나': 18599, '띤': 18600, '수병': 18601, '루고': 18602, '시어': 18603, '발렛파킹': 18604, '리셉션': 18605, '컨시어': 18606, '아치': 18607, '옥상정원': 18608, '전시품': 18609, '도산대로': 18610, '테헤란로': 18611, '역삼': 18612, '유시영': 18613, '장안사': 18614, '유점사': 18615, '신계사': 18616, '템플스테이': 18617, '종교인': 18618, '부다가야': 18619, '분황사': 18620, '라호르': 18621, '고행상': 18622, '간다라': 18623, '연등회': 18624, '마애불상': 18625, '물권': 18626, '어지럽다': 18627, '한상엽': 18628, '소풍벤처스': 18629, '납북': 18630, '친절': 18631, 'tourbiz': 18632, '최보': 18633, '묵초': 18634, '화초': 18635, '태릉고': 18636, '태릉': 18637, '현중': 18638, '월터': 18639, '한미경': 18640, 'cpx': 18641, 'ftx': 18642, '조선노동당': 18643, '여중생': 18644, '장갑차': 18645, '관광체육부': 18646, '게임제작': 18647, '강감찬함': 18648, '완산': 18649, '무과': 18650, '미드나잇': 18651, '인천대': 18652, 'kfc': 18653, '미니스톱': 18654, '베이컨': 18655, '그라탕': 18656, '파니니': 18657, '특제': 18658, '토핑해': 18659, '호밀': 18660, '귀리': 18661, '라바': 18662, '무화과': 18663, '호박고구마': 18664, '워킹맘': 18665, '김한근': 18666, '류량': 18667, '소상하다': 18668, '어미': 18669, '부화': 18670, '베링해': 18671, '북태평양': 18672, '성어': 18673, '뱀장어': 18674, '어족': 18675, '킨': 18676, 'preqin': 18677, '티센크루프': 18678, '유니비전': 18679, '내부수익률': 18680, 'irr': 18681, '원초': 18682, '그린벨트': 18683, '봉화산': 18684, '구릉': 18685, '천정': 18686, '격검침': 18687, '센트럴파크역': 18688, '방도': 18689, 'hsg': 18690, '공동관리': 18691, '완급': 18692, '포성': 18693, '자력': 18694, '갱생': 18695, '삼지연': 18696, '강릉대': 18697, '경상도': 18698, '스타카토': 18699, '필획': 18700, '솟대': 18701, '평야': 18702, '나즈': 18703, '엎드리다': 18704, '연유': 18705, '서평': 18706, '김인성': 18707, '영성': 18708, '이한빛': 18709, '미시시피': 18710, '네바다': 18711, '감리교': 18712, '케이틀린': 18713, '메기': 18714, '업법': 18715, '역산': 18716, '초회': 18717, '생보': 18718, '문석진': 18719, '자립하다': 18720, '이수증': 18721, '렀': 18722, '영제': 18723, '일임': 18724, '피동': 18725, '국민신문고': 18726, '겉잡': 18727, '제책': 18728, '이은택': 18729, '언더퍼폼': 18730, '노루': 18731, 'investseoul': 18732, 'seouls': 18733, 'battle': 18734, 'tomato': 18735, '농군': 18736, '양순': 18737, '아씨': 18738, '강씨': 18739, '강대': 18740, '엑기스': 18741, '김성래': 18742, '김용주': 18743, '명규': 18744, '호씨': 18745, '부농': 18746, '패색': 18747, '청색': 18748, '파랑색': 18749, '광선': 18750, '안질': 18751, '환의': 18752, '설자리': 18753, '낙성': 18754, '봉천역': 18755, '공유탭': 18756, '컬러링': 18757, '낙산': 18758, '숲길': 18759, 'yeyak': 18760, 'parks': 18761, '야인': 18762, '샤워실': 18763, '셧': 18764, '작자': 18765, '서치라이트': 18766, '왕서': 18767, '커밍': 18768, 'nflix': 18769, '상영작': 18770, '장강': 18771, '그믐': 18772, '정진': 18773, '강량원': 18774, '박근형': 18775, '번국': 18776, '자혜': 18777, 'vaqi': 18778, '웅녀': 18779, '연옥': 18780, '연극인': 18781, '명임': 18782, '미립': 18783, '병례': 18784, '판매원': 18785, '갑판': 18786, '상중': 18787, '세척헹굼': 18788, '눌': 18789, '밥알': 18790, 'taal': 18791, '수증기': 18792, '화산섬': 18793, '결항': 18794, '씬': 18795, 'thin': 18796, 'filer': 18797, '가스요금': 18798, '관측통': 18799, '초밥': 18800, '광어': 18801, '물회': 18802, '탕거리': 18803, '대경권': 18804, '빙전': 18805, '배성원': 18806, '국각': 18807, '건축법': 18808, '객체': 18809, '미진하다': 18810, '강북구청': 18811, '질유': 18812, '저가항공사': 18813, '전전': 18814, '동원령': 18815, '정품': 18816, 'tour': 18817, '아이언': 18818, '하이난': 18819, '황해': 18820, '이병호': 18821, '황준': 18822, '베어드홀': 18823, '박문수': 18824, '임태진': 18825, '학교생활기록부': 18826, '방송공사': 18827, '남고': 18828, '순응': 18829, '동작역': 18830, '국립현충원': 18831, '중층': 18832, '성냥갑': 18833, '류훈': 18834, '사나이': 18835, '종영': 18836, '등불': 18837, '안동역': 18838, '태클': 18839, '라인웍스': 18840, '홍원': 18841, '박성하': 18842, '율세': 18843, '어니스트': 18844, '자연계': 18845, '투법': 18846, '격투': 18847, '주소현': 18848, '세종대': 18849, '교육법': 18850, '학칙': 18851, '학구': 18852, '외대': 18853, '풀링': 18854, '응봉동': 18855, '고산자로': 18856, '앓이': 18857, '건너가다': 18858, '무인기': 18859, 'hai': 18860, '평균값': 18861, '배로': 18862, '금치': 18863, '어지간하다': 18864, '겁나다': 18865, '정형': 18866, '장롱': 18867, '억제시키다': 18868, '이태리': 18869, '파티션': 18870, '함경북도': 18871, '명천군': 18872, '력포구역': 18873, '탕개': 18874, '북중': 18875, '중원': 18876, '이원': 18877, '발짝': 18878, '송승현': 18879, '엔터프라이즈': 18880, '케이씨씨': 18881, '라야': 18882, 'ams': 18883, '동요': 18884, '견실': 18885, '숟가락': 18886, '예수금': 18887, '참여정부': 18888, '양경숙': 18889, '부처님': 18890, '일행': 18891, '입장권': 18892, '음악회': 18893, '련': 18894, '형벌': 18895, '겹겹이': 18896, '이네': 18897, '에칭': 18898, '쿼츠': 18899, 'wcq': 18900, '김재윤': 18901, '매출원가': 18902, '진철': 18903, '직류': 18904, 'side': 18905, '비차': 18906, 'tech': 18907, '망막': 18908, '삽입': 18909, '난시': 18910, '애환': 18911, 'fur': 18912, '러그': 18913, '심장질환': 18914, 'ili': 18915, '스럽지': 18916, '겉': 18917, 'factor': 18918, '감전': 18919, '스크래치': 18920, '쿨': 18921, '나경': 18922, '하루하루': 18923, '증강': 18924, '섭취량': 18925, '동물성': 18926, '새우': 18927, '버섯': 18928, '탈모': 18929, '어보': 18930, '김기덕': 18931, '펜탁스': 18932, '사중': 18933, '괄목': 18934, '비하인드': 18935, '기가바이트': 18936, '가폰': 18937, 'stepi': 18938, '골고루': 18939, '이연호': 18940, 'week': 18941, '특약': 18942, '차별성': 18943, '약관': 18944, '배상하': 18945, '강신우': 18946, '지하상가': 18947, '해돋이': 18948, '놀이기구': 18949, '일반의약품': 18950, '원부': 18951, '유현정': 18952, '아동복지법': 18953, '배꼽': 18954, 'single': 18955, '김광현': 18956, '박민': 18957, '노른자위': 18958, '안갯속': 18959, '제라': 18960, '성북': 18961, 'prime': 18962, '한광범': 18963, '딱딱하다': 18964, '포맷': 18965, '거셈': 18966, '레바논': 18967, 'tltro': 18968, '리나': 18969, 'emergency': 18970, '부메랑': 18971, '사진전': 18972, '육아휴직': 18973, '파이낸셜': 18974, '안녕': 18975, '철도공사': 18976, '스팟': 18977, '찌라시': 18978, 'vvip': 18979, '커리어': 18980, '운송업': 18981, 'small': 18982, 'automation': 18983, '경배': 18984, '강소': 18985, 'tmi': 18986, '국립국어원': 18987, '으로나': 18988, '어색하다': 18989, '자석': 18990, '이병건': 18991, '타스': 18992, '이형': 18993, '외국산': 18994, '시료': 18995, '조류': 18996, 'loop': 18997, '김동진': 18998, '장준영': 18999, '전문화': 19000, 'management': 19001, '마곡지구': 19002, '롱민': 19003, '활력징후': 19004, '덕성': 19005, '폭스콘': 19006, '춘제': 19007, '초도': 19008, '클라이언트': 19009, '넷게임즈': 19010, '허문': 19011, '동물권': 19012, '버려지다': 19013, '켜': 19014, '마가': 19015, '김형욱': 19016, '추진단': 19017, '허태정': 19018, '박진환': 19019, '예술인': 19020, 'adc': 19021, 'flagship': 19022, '부단장': 19023, '양자암호': 19024, 'security': 19025, 'care': 19026, '방사청': 19027, '창설': 19028, '게임기': 19029, '주오': 19030, '초록색': 19031, '종성': 19032, '우리말': 19033, '비엠더블유': 19034, '화창': 19035, 'chief': 19036, '대정': 19037, '대원미디어': 19038, '판타지': 19039, '자정': 19040, 'user': 19041, 'experience': 19042, '협진': 19043, '가치관': 19044, '화사하다': 19045, '모하': 19046, 'maintain': 19047, '자바': 19048, '메가톤': 19049, '비탄': 19050, '카뱅': 19051, '칸막이': 19052, '깃발': 19053, '본적': 19054, '창재': 19055, '김학렬': 19056, '엑소': 19057, '옷장': 19058, 'gif': 19059, 'home': 19060, '노미': 19061, '컬리': 19062, '테리어': 19063, '일념': 19064, '준엄': 19065, 'idea': 19066, '디자인상': 19067, '청결': 19068, '지난번': 19069, '중국군': 19070, '웡': 19071, '이준기': 19072, '수스': 19073, '린트': 19074, '마이어': 19075, '한림대': 19076, '이준호': 19077, '현미경': 19078, '시큐브': 19079, '버저비터': 19080, '사마귀': 19081, '박효진': 19082, '이수화학': 19083, '노약': 19084, '끼니': 19085, '젬': 19086, '배심원': 19087, '참작': 19088, '김동규': 19089, '꼽는다': 19090, '대손': 19091, '슈퍼콘': 19092, '기용': 19093, '발광다이오드': 19094, '서유럽': 19095, '코웰': 19096, '대출받다': 19097, '기저': 19098, '현물출자': 19099, '스트립': 19100, '안내서': 19101, 'un': 19102, '건반': 19103, '낱낱이': 19104, '명패': 19105, '도면': 19106, '헐다': 19107, '호흡부전': 19108, '종말론': 19109, '키오': 19110, '상장법인': 19111, '방학': 19112, '아래쪽': 19113, '미숙': 19114, '콧물': 19115, '숙면': 19116, '요동': 19117, '병원체': 19118, '연천군': 19119, '항거': 19120, '대명사': 19121, '흡사하다': 19122, 'eia': 19123, '괴물': 19124, '자존심': 19125, '몹시': 19126, '한선교': 19127, '월드뮤직': 19128, '연주자': 19129, '허윤정': 19130, 'acc': 19131, '뮤직페스티벌': 19132, '체질개선': 19133, '고만': 19134, '선전포고': 19135, '달콤': 19136, '광풍': 19137, 'itooza': 19138, '동화약품': 19139, '스미싱': 19140, '흔쾌하다': 19141, '닝보': 19142, '주정': 19143, 'ts': 19144, '지압': 19145, '푸석하다': 19146, '뒤쪽': 19147, '검지': 19148, '발라': 19149, '고루': 19150, '발리다': 19151, '추나': 19152, '한약': 19153, '통화량': 19154, '평균속도': 19155, '산촌': 19156, '구경만': 19157, '고준혁': 19158, '분수령': 19159, 'may': 19160, 'ism': 19161, '루브리컨츠': 19162, 'flexible': 19163, 'etri': 19164, '어드': 19165, 'use': 19166, '은행동': 19167, '유이': 19168, '울란바토르': 19169, 'off': 19170, '하급': 19171, '척도': 19172, '인지장애': 19173, '조태환': 19174, '투성이': 19175, '기꺼이': 19176, '무선통신': 19177, '우왕좌왕': 19178, '충고': 19179, '파이낸셜타임즈': 19180, '자만': 19181, '발제': 19182, '김승현': 19183, '사무관': 19184, '의정부시': 19185, '이종원': 19186, 'sa': 19187, '토목공학': 19188, '닉네임': 19189, '난치병': 19190, '근래': 19191, '여백': 19192, '쿼드램프': 19193, '트렁크': 19194, '먼트': 19195, '끼어들다': 19196, 'kgf': 19197, '셔틀': 19198, '멸': 19199, '박순': 19200, '특례보증': 19201, '북새통': 19202, '정광': 19203, '섬기다': 19204, '언성': 19205, '원만': 19206, '지국': 19207, '도당': 19208, '이슬': 19209, '사각형': 19210, '겸임': 19211, '간병': 19212, '디테': 19213, '수출물량': 19214, '순위도': 19215, '엘비': 19216, '삼천리자전거': 19217, '웅천동': 19218, '돌산도': 19219, '한과': 19220, '담양': 19221, '색소': 19222, '임업': 19223, '주목할만하다': 19224, '광복': 19225, '월초': 19226, '열심': 19227, '마침': 19228, '뱅': 19229, '길리어드': 19230, '친권': 19231, '위탁가정': 19232, '친척': 19233, '양하': 19234, '조정치': 19235, '셜텍': 19236, '보어': 19237, '리아': 19238, '휠라': 19239, '특작': 19240, '고추': 19241, '복병': 19242, '코리아나': 19243, '꿈틀': 19244, 'ent': 19245, '고고': 19246, '이반': 19247, '아비': 19248, '싸': 19249, '타라': 19250, '페미': 19251, '닌': 19252, '덧': 19253, '숙원': 19254, '화학반응': 19255, '화합물': 19256, '성남동': 19257, '향교': 19258, '포스코엠텍': 19259, '사타구니': 19260, '로펌': 19261, '절로': 19262, '맨날': 19263, '홍대': 19264, '율호': 19265, '피앤텔': 19266, '취업규칙': 19267, '무사': 19268, '당락': 19269, '범양': 19270, '건영': 19271, '타임즈': 19272, '성경제': 19273, '김영': 19274, '플레인': 19275, '엮': 19276, '스푼': 19277, 'mbn': 19278, '살림': 19279, '세척제': 19280, '광통신': 19281, '스펙트럼': 19282, '트라우마': 19283, '계명': 19284, '계명대': 19285, '디플레': 19286, '크래프트': 19287, '접합체': 19288, '쿠크다스': 19289, '다스': 19290, '부드러움': 19291, 'hmm': 19292, 'back': 19293, 'cmg': 19294, '우양': 19295, '시몬': 19296, '엄포': 19297, '비단': 19298, '유스호스텔': 19299, '글로벌화': 19300, 'bt': 19301, '포집': 19302, '비닐하우스': 19303, '탕': 19304, '파밍': 19305, '론칭한다': 19306, '전술': 19307, '멀티플레이': 19308, '슈팅': 19309, '안개': 19310, '쥬얼리': 19311, '악템': 19312, '벽산': 19313, '후행': 19314, 'platform': 19315, '모음': 19316, '대시보드': 19317, 'cis': 19318, '사무국': 19319, '랩몬': 19320, '언더웨어': 19321, '블러': 19322, '썸엠앤': 19323, '매하': 19324, '이병주': 19325, '남정현': 19326, '조정래': 19327, '비꼬다': 19328, '밤낮없이': 19329, '장편': 19330, '교육자': 19331, '이찬': 19332, '데이타': 19333, '소셜커머스': 19334, '특가': 19335, '단발': 19336, '값싸다': 19337, '격화되': 19338, '한일관계': 19339, '윤사': 19340, '자필': 19341, '와디': 19342, '서포터': 19343, '연한': 19344, '유찰': 19345, '신자': 19346, '수영': 19347, '허벅지': 19348, '미연': 19349, '지탱': 19350, '디스크': 19351, '앞쪽': 19352, '소홀': 19353, '넘버': 19354, '성취': 19355, '블루투스': 19356, '짐벌': 19357, '예식장': 19358, '워홈': 19359, 'ktnet': 19360, '깨달음': 19361, '실재': 19362, '궁궐': 19363, '궁': 19364, '필독': 19365, '성공사례': 19366, 'cop': 19367, '이언주': 19368, '재봉': 19369, '탈의실': 19370, '복잡': 19371, 'msp': 19372, '안암': 19373, '안기훈': 19374, '임신부': 19375, '회지': 19376, '혈당': 19377, '공유기': 19378, '홀딩': 19379, '티움': 19380, '협동': 19381, '에누리': 19382, '토박': 19383, '사춘기': 19384, '알렉산더': 19385, '이창용': 19386, '매회': 19387, '큐어': 19388, '빼곡': 19389, '항공사진': 19390, '석상': 19391, '매핑': 19392, '원자력발전소': 19393, '방폐': 19394, '불고기': 19395, '성광벤드': 19396, 'bep': 19397, '모잠비크': 19398, '산악': 19399, 'bhc': 19400, '원활': 19401, '미처': 19402, '이소현': 19403, '하리': 19404, '곰표': 19405, '라떼': 19406, '테이프': 19407, '운동화': 19408, '삼각': 19409, '수원역': 19410, '옥정동': 19411, '퇴행': 19412, '뇌경색': 19413, '통조림': 19414, '덧글': 19415, '염기서열': 19416, 'bi': 19417, '때우다': 19418, '박히다': 19419, '수플레': 19420, '머랭': 19421, '노른자': 19422, '커피빈': 19423, '미드': 19424, '캠텍': 19425, '김상철': 19426, '통역': 19427, '경조사': 19428, '포워드': 19429, '자시다': 19430, 'otp': 19431, '이모티콘': 19432, '대외협력': 19433, '겨레': 19434, '금정': 19435, '소행성': 19436, '푸르다': 19437, '생명체': 19438, '소프트뱅크': 19439, '문단': 19440, '거르': 19441, '주례회동': 19442, '총리실': 19443, '묵묵하다': 19444, '곽세연': 19445, '치츠오': 19446, '재촉': 19447, '김용': 19448, '주지훈': 19449, '골목길': 19450, '이에요': 19451, '위구르': 19452, '김포공항': 19453, '식스': 19454, 'trekkers': 19455, 'updates': 19456, 'latest': 19457, 'foreign': 19458, 'incident': 19459, 'using': 19460, 'women': 19461, 'teachers': 19462, 'part': 19463, 'those': 19464, 'agency': 19465, 'vowed': 19466, 'iig': 19467, '관세청': 19468, '규연': 19469, '귀엽다': 19470, '오진우': 19471, '가출': 19472, '이동환': 19473, 'circadian': 19474, 'rhythm': 19475, 'electronics': 19476, 'help': 19477, 'known': 19478, 'business': 19479, 'energy': 19480, 'compared': 19481, '휴지': 19482, '빈자리': 19483, '미림': 19484, '친아버지': 19485, '홀트아동복지회': 19486, '허준': 19487, '잡아당기다': 19488, '아담하다': 19489, '저쪽': 19490, '목욕': 19491, '금박': 19492, '남명': 19493, '친지': 19494, '타임스퀘어': 19495, '디렉터': 19496, '권용욱': 19497, '사이더': 19498, '에이미': 19499, '한기': 19500, '동거인': 19501, '격렬하다': 19502, '라다크': 19503, 'zte': 19504, '블라디보스토크': 19505, '정류장': 19506, '강제추행': 19507, '손지현': 19508, '김근태': 19509, '행위자': 19510, '표백제': 19511, 'mar': 19512, '베를린': 19513, '가립': 19514, '알카팁': 19515, '구타': 19516, '김남': 19517, '벼': 19518, '과민성': 19519, '록펠러': 19520, '경석': 19521, '천연물': 19522, '통첩': 19523, '바오펑': 19524, 'recasts': 19525, 'details': 19526, 'across': 19527, 'inter': 19528, 'plastic': 19529, 'via': 19530, 'statement': 19531, 'acts': 19532, 'pyongyang': 19533, 'action': 19534, '언행': 19535, '자화자찬': 19536, '김영호': 19537, '프랑크푸르트': 19538, '자카르타': 19539, '드라이어': 19540, '산수': 19541, '분안': 19542, '프라자': 19543, '포로': 19544, '반기다': 19545, '가장자리': 19546, '환시': 19547, '야탑동': 19548, 'opal': 19549, '동도': 19550, 'cbo': 19551, '노역': 19552, '탈북자': 19553, '김형곤': 19554, '라오': 19555, '프린트': 19556, '삼청동': 19557, '빗나가다': 19558, '박격': 19559, '민가': 19560, '탄환': 19561, '정재': 19562, '그린북': 19563, '향토': 19564, '의성': 19565, '영천시': 19566, '뷰노메드': 19567, '수취': 19568, '손씨': 19569, '죄인': 19570, '국화': 19571, '축복': 19572, '주님': 19573, '나약하다': 19574, '지하철역': 19575, '당근': 19576, '윤모': 19577, '민사소송': 19578, '정태옥': 19579, '태산': 19580, '무릅쓰': 19581, '식량난': 19582, 'mrna': 19583, '리벳': 19584, '주무': 19585, '안민석': 19586, '홀몸': 19587, '트리폴리': 19588, '국민군': 19589, '타르': 19590, '피란': 19591, 'mass': 19592, 'infected': 19593, 'prevention': 19594, 'china': 19595, 'respectively': 19596, 'major': 19597, 'among': 19598, 'woman': 19599, 'complex': 19600, 'positive': 19601, 'put': 19602, 'isolation': 19603, 'however': 19604, 'testing': 19605, 'reporters': 19606, 'situation': 19607, 'easy': 19608, 'outside': 19609, 'suspected': 19610, 'negative': 19611, 'there': 19612, 'measures': 19613, 'hands': 19614, 'least': 19615, 'gatherings': 19616, 'recovery': 19617, 'paras': 19618, 'hospital': 19619, '과실': 19620, '송하윤': 19621, '신비': 19622, '새끼': 19623, '성동일': 19624, '리구리아': 19625, '줄리아': 19626, '방심하다': 19627, '양립': 19628, '모레': 19629, '급박하다': 19630, '교원단체': 19631, '유성엽': 19632, '털사': 19633, '인산염': 19634, '아킬레스건': 19635, '년제': 19636, '오한': 19637, 'kosdaq': 19638, '조경목': 19639, 'clx': 19640, '올인원': 19641, 'demanding': 19642, 'identity': 19643, 'videos': 19644, 'called': 19645, 'disclose': 19646, 'face': 19647, 'response': 19648, 'know': 19649, 'preventing': 19650, '체포영장': 19651, 'investment': 19652, 'pct': 19653, 'quarter': 19654, 'cited': 19655, '가경': 19656, '시름': 19657, '웰링턴': 19658, '한성': 19659, '진천군': 19660, '증평군': 19661, 'february': 19662, 'parts': 19663, 'units': 19664, 'carmaker': 19665, 'mahindra': 19666, '구상찬': 19667, '이은정': 19668, '부패하다': 19669, '장하': 19670, '영주': 19671, '내후년': 19672, '녹산': 19673, '지반침하': 19674, 'legal': 19675, 'stricter': 19676, 'distancing': 19677, 'sarang': 19678, 'jeil': 19679, 'park': 19680, 'attendees': 19681, 'sure': 19682, 'self': 19683, '방위청': 19684, '당무': 19685, '동주': 19686, '각료': 19687, '과오': 19688, '소렌토': 19689, '꽁꽁': 19690, 'eg': 19691, '송희경': 19692, '송갑석': 19693, '김관영': 19694, '테크론': 19695, '분하다': 19696, '코치': 19697, '나영': 19698, '한수연': 19699, 'kit': 19700, 'dr': 19701, 'rfid': 19702, '소모품': 19703, '전건': 19704, '코넥스': 19705, '업설': 19706, 'protein': 19707, 'meal': 19708, 'ppm': 19709, 'ci': 19710, '비제': 19711, 'infostock': 19712, '행해지다': 19713, 'mlcc': 19714, '포스코강판': 19715, '덕수궁': 19716, '충무로': 19717, '본계약': 19718, '펜션': 19719, 'epc': 19720, 'mvr': 19721, 'bb': 19722, 'mah': 19723, '청소기': 19724, '설치량': 19725, '사문서': 19726, '아이콘': 19727, '아레나': 19728, '애니': 19729, '짜파게티': 19730, '너구리': 19731, '그랜트': 19732, '박효선': 19733, '펜데믹': 19734, '에이수스': 19735, '듀오': 19736, '스트릭스': 19737, '홀수': 19738, '민경': 19739, '최진영': 19740, '국제항': 19741, '차체': 19742, '이용실': 19743, '인플릭시맙': 19744, '전당': 19745, '단파': 19746, '통신체': 19747, '파가': 19748, '픽사': 19749, 'ivd': 19750, '보습제': 19751, 'arc': 19752, '제자': 19753, '팰리세이드': 19754, '싼타페': 19755, '박항서': 19756, '스퍼': 19757, '홈즈': 19758, '김채': 19759, '연예': 19760, '지멘스': 19761, '견희': 19762, '증도': 19763, '행세': 19764, '전동차': 19765, '세계관': 19766, '화이': 19767, 'change': 19768, '텔러': 19769, '웨이퍼': 19770, '과점': 19771, '대한해운': 19772, '대장암': 19773, '신장암': 19774, '이동건': 19775, '기공식': 19776, '답사': 19777, '악마': 19778, '손맛': 19779, '기관계': 19780, '강하': 19781, '청룡': 19782, '장지수': 19783, '직격': 19784, 'aj': 19785, '조주': 19786, '다급해지다': 19787, '쓰나미': 19788, '종용': 19789, '매사추세츠주': 19790, '특별자치시': 19791, '판타스틱': 19792, '최단': 19793, '나눠지다': 19794, '준정부기관': 19795, '이진솔': 19796, '엣지': 19797, 'lfa': 19798, '형강': 19799, '교모': 19800, '리플': 19801, '에어부산': 19802, '마이크론': 19803, '바이오인식': 19804, '인제군': 19805, '티어': 19806, '주주명부': 19807, 'tnf': 19808, '치아': 19809, 'elevator': 19810, 'technology': 19811, 'date': 19812, '편리': 19813, '김연경': 19814, '자태': 19815, '이준': 19816, '버넌스': 19817, '염불': 19818, '에서야': 19819, '비디아이': 19820, '특근': 19821, '종별': 19822, '해브': 19823, '제해': 19824, '순항': 19825, '롤러': 19826, '강화유리': 19827, '멀쩡하다': 19828, '살길': 19829, '빅컷': 19830, '무성': 19831, '몬스터': 19832, '유산균': 19833, '아미노산': 19834, 'provider': 19835, '면목': 19836, '코닝': 19837, '콜레스테롤': 19838, '원종': 19839, '레스': 19840, '액트': 19841, '선보다': 19842, '스피드': 19843, '광산': 19844, 'edition': 19845, '추모식': 19846, '조현민': 19847, '반세기': 19848, '규석': 19849, '박테리아': 19850, 'mers': 19851, '조류독감': 19852, '투과성': 19853, '왕식': 19854, '필립': 19855, 'tmprss': 19856, 'tvcf': 19857, '라이나': 19858, '유의사항': 19859, '꽃씨': 19860, '흰민들레': 19861, '크로아티아': 19862, '관인': 19863, '에이전트': 19864, '상근감사': 19865, '기가스': 19866, '콤': 19867, '플리': 19868, '튜터': 19869, '무림': 19870, '위문': 19871, '화면비': 19872, '라텍': 19873, '의리': 19874, '박희': 19875, '경영정보': 19876, '팔지': 19877, '진운': 19878, '화재현장': 19879, '하경민': 19880, '사투': 19881, '희소가치': 19882, '질도': 19883, '국보': 19884, '초청장': 19885, '물체': 19886, '흰색': 19887, '안나': 19888, '투비소프트': 19889, '이건희': 19890, '불가하다': 19891, '제화': 19892, '무수': 19893, '부단하다': 19894, '위법행위': 19895, '지란': 19896, '남동생': 19897, '와글와글': 19898, '어이없다': 19899, '전북대': 19900, '김한표': 19901, '김재원': 19902, '방비': 19903, '강추': 19904, '러블': 19905, '권영세': 19906, '위풍': 19907, '당당': 19908, '치맥': 19909, 'great': 19910, '토사': 19911, '팽': 19912, '이선아': 19913, '잘살다': 19914, '페타': 19915, '그다지': 19916, '서라운드': 19917, '소나': 19918, '부증': 19919, '전생': 19920, '동성제약': 19921, '모순': 19922, '급습': 19923, '곳간': 19924, '겹친': 19925, '범죄인': 19926, '전화번호': 19927, '샤라포바': 19928, '손영미': 19929, '비앤코': 19930, '침략': 19931, '김세의': 19932, '병세': 19933, 'bsf': 19934, '장기이식': 19935, '최성': 19936, '가난하다': 19937, '상훈': 19938, '통인': 19939, '신복위': 19940, '오락가락': 19941, '참담': 19942, '폐쇄됐다': 19943, '술판': 19944, '종신': 19945, '난국': 19946, '계곡': 19947, 'candidates': 19948, '우방': 19949, '나기': 19950, '코멘트': 19951, 'pwc': 19952, '본도': 19953, '컴플라이언스': 19954, '물밑': 19955, '송윤아': 19956, '충청남도': 19957, '충남지사': 19958, '감천': 19959, '뻔': 19960, '노발': 19961, '대발': 19962, '왕숙': 19963, '급행버스': 19964, '초집': 19965, '무면허': 19966, '전적': 19967, '제우스': 19968, '시민권': 19969, '오픈소스': 19970, '토큰': 19971, '변조': 19972, '핵전쟁': 19973, '과중': 19974, '걱정스럽다': 19975, '변칙': 19976, '희생양': 19977, '축의금': 19978, '부터가': 19979, '범람': 19980, '독하다': 19981, '급속': 19982, '동떨어지다': 19983, '특이하다': 19984, '놔두다': 19985, '손정': 19986, '에이스침대': 19987, '망언': 19988, '유탄': 19989, '최민희': 19990, '제기로': 19991, '탈황': 19992, '쿠렌치스': 19993, '에테르': 19994, '김주완': 19995, '윤건영': 19996, '김제동': 19997, '스마': 19998, '송혜교': 19999, '미꾸라지': 20000, '김용민': 20001, '현주소': 20002, '원년': 20003, '경부': 20004, '편승': 20005, '압구정동': 20006, '회신': 20007, '수박': 20008, '알토': 20009, '지병': 20010, '물병': 20011, '쌍문동': 20012, '해답': 20013, '김진수': 20014, '지축': 20015, '달맞이': 20016, '구룡포': 20017, '바닷가': 20018, '나위': 20019, '쉿': 20020, '실신': 20021, '정몽규': 20022, '강정동': 20023, '빨갱이': 20024, '일제강점기': 20025, '임도': 20026, '재작년': 20027, '비밀리': 20028, '스팬': 20029, '고삐': 20030, '엑스엘게임즈': 20031, '로빈': 20032, '폭삭': 20033, '정찰': 20034, '정찰기': 20035, '발신': 20036, 'icbm': 20037, '핵실험': 20038, '골몰': 20039, 'newslabit': 20040, '텍스트': 20041, '블랙스완': 20042, '행업': 20043, '어둡다': 20044, '정규앨범': 20045, '스포티파이': 20046, '파문': 20047, '간병인': 20048, '토트넘': 20049, '사조': 20050, '발등': 20051, '피격': 20052, '참칭': 20053, '미명': 20054, '하얗다': 20055, '은별': 20056, '검열': 20057, '수지구': 20058, '이촌동': 20059, '버는': 20060, '극세사': 20061, '손톱': 20062, '위중하다': 20063, '마라톤': 20064, '로코': 20065, '게이클럽': 20066, 'gni': 20067, '양물': 20068, '투자수익률': 20069, '적어지다': 20070, '송부': 20071, '박보영': 20072, '검색량': 20073, '두두': 20074, '옷가게': 20075, '혁신도시': 20076, '김두현': 20077, '클레': 20078, 'smbc': 20079, 'hybrozyme': 20080, '뒤집어지다': 20081, '천연두': 20082, '실화': 20083, '당대': 20084, '박재욱': 20085, '된장': 20086, '정말로': 20087, '인질': 20088, '개회': 20089, '페널티': 20090, '안지': 20091, '전력량': 20092, '경기장': 20093, '통가': 20094, '밑창': 20095, '실례': 20096, '외화채권': 20097, '선지': 20098, '룸살롱': 20099, '브라스': 20100, '맑다': 20101, '영화계': 20102, '시사회': 20103, 'aacr': 20104, '갉아먹다': 20105, '다락': 20106, '청량리': 20107, '피앤': 20108, '더원': 20109, '잔소리': 20110, '빚었다': 20111, '버건디': 20112, '우상호': 20113, '둔갑': 20114, '이법': 20115, '허영': 20116, '긴축': 20117, '악단': 20118, '정운천': 20119, '친박': 20120, '다단계': 20121, '유린': 20122, '아웃소싱': 20123, '선원': 20124, '피고용자': 20125, '호위': 20126, '국민당': 20127, '국가보훈처': 20128, '가라지': 20129, '한옥호텔': 20130, '지번': 20131, '역사학자': 20132, 'ace': 20133, '무정': 20134, '비즈니스모델': 20135, '위험관리': 20136, '채열': 20137, '당적': 20138, '기복': 20139, '위스키': 20140, 'gsat': 20141, 'web': 20142, '표류': 20143, '계장': 20144, '색출': 20145, '방공유도탄사령부': 20146, '외통': 20147, '민락동': 20148, 'vol': 20149, '깔리다': 20150, '청량감': 20151, '루이지애나주': 20152, '오하이오': 20153, '신도리코': 20154, '비영리단체': 20155, '동민': 20156, 'igg': 20157, 'igm': 20158, '들러리': 20159, '터빈': 20160, '단거리': 20161, '재인': 20162, '셈법': 20163, '의심스럽다': 20164, '일찍이': 20165, '심려': 20166, '호스피스': 20167, '박영희': 20168, '선례': 20169, '마린시티': 20170, '제적': 20171, '스포츠카': 20172, '붕': 20173, 'lsd': 20174, '핵탄두': 20175, '역주행': 20176, 'eb': 20177, '샤라라': 20178, '에이핑크': 20179, 'icl': 20180, '김희중': 20181, '진종': 20182, '담대': 20183, '비츠로': 20184, '재도': 20185, '에릭슨': 20186, '연습생': 20187, '과밀': 20188, '이석연': 20189, 'wipo': 20190, '멸종': 20191, '국회예산정책처': 20192, '궐련': 20193, '티볼리': 20194, '김무성': 20195, '화면비율': 20196, '펀치': 20197, '온유': 20198, '상록': 20199, '주물': 20200, 'ddi': 20201, '농어': 20202, 'tuv': 20203, 'eye': 20204, '니트': 20205, 'nit': 20206, '죄송스럽다': 20207, '김구라': 20208, '반대쪽': 20209, '알맞다': 20210, '김종화': 20211, '필적': 20212, '판가름': 20213, '때아닌': 20214, '안목': 20215, '원숭이': 20216, '화분': 20217, '인거': 20218, '기공': 20219, '촉촉하다': 20220, '스낵': 20221, '윤주': 20222, '부분품': 20223, '혈통': 20224, '커피숍': 20225, '취항': 20226, '등원': 20227, '폭약': 20228, '하와이': 20229, '김대섭': 20230, '업력': 20231, '박홍근': 20232, '임혜선': 20233, '폴딩': 20234, '쾨': 20235, 'ah': 20236, 'dh': 20237, '트레드': 20238, '그루브': 20239, '정보량': 20240, '하산': 20241, '쟁여놔': 20242, '거지': 20243, '캐롤라이나': 20244, '짐승': 20245, '조문': 20246, '김영진': 20247, '룩셈부르크': 20248, '플루토': 20249, '건대': 20250, '최동현': 20251, '마루': 20252, '콜라주': 20253, '땡': 20254, '자산군': 20255, '권해': 20256, '콘센트': 20257, 'roll': 20258, '운동량': 20259, '다윈': 20260, '컨틴': 20261, '작용기': 20262, '벌집': 20263, '침수': 20264, '건설청': 20265, '산자부': 20266, '슬롯': 20267, '방아쇠': 20268, '욕조': 20269, '조롱': 20270, '홍봉철': 20271, '프라이머': 20272, '야식': 20273, '게임쇼': 20274, '털리다': 20275, 'vod': 20276, '스트롱': 20277, '망상': 20278, '유흥주점': 20279, '편차': 20280, '제빵': 20281, '수의계약': 20282, '감식': 20283, '석수': 20284, '산본': 20285, '내손동': 20286, 'pav': 20287, '도킹': 20288, '코널': 20289, '이디야': 20290, '영하': 20291, '방앗간': 20292, '보첼리': 20293, '우주탐사': 20294, '오정근': 20295, '황선': 20296, '그토록': 20297, '남북문제': 20298, '앗': 20299, '노동절': 20300, '물경': 20301, '냉수': 20302, '박상연': 20303, '류영준': 20304, '신승현': 20305, '비무장': 20306, '스콜': 20307, '우여곡절': 20308, '김세원': 20309, '영산포': 20310, '밸류맵': 20311, '용병': 20312, '분쟁해결': 20313, '이현경': 20314, '일장': 20315, '김용석': 20316, '갈이': 20317, 'ihq': 20318, '묘비': 20319, '리선': 20320, '끼울다': 20321, '이정화': 20322, '시골': 20323, '장자커우시': 20324, '평년': 20325, '타얼스': 20326, 'xdi': 20327, '김기락': 20328, '이주현': 20329, '밴텀급': 20330, '일만이': 20331, 'bsl': 20332, '태희': 20333, 'iec': 20334, '펠스': 20335, '김태훈': 20336, '인제': 20337, '개청': 20338, '펀더멘탈': 20339, '이한결': 20340, '박종석': 20341, '부주의': 20342, '걸작': 20343, '링스': 20344, 'dgk': 20345, '뉴딜정책': 20346, '조영진': 20347, '총련': 20348, '후반기': 20349, '이몽': 20350, '박지선': 20351, '독립유공자': 20352, '물티슈': 20353, '몽땅': 20354, '버디': 20355, '번홀': 20356, '결점': 20357, '도시마': 20358, '미노': 20359, 'wafer': 20360, 'sensor': 20361, '엄두': 20362, '쿠퍼': 20363, '이성재': 20364, '윌리엄스': 20365, '이공': 20366, '미납': 20367, '미시': 20368, '금마면': 20369, '낙지': 20370, '울금': 20371, '화형': 20372, '답십리': 20373, '페소': 20374, 'ypf': 20375, '시추': 20376, '키안': 20377, '위장': 20378, '무역적자': 20379, '뮨텍': 20380, 'nt': 20381, '에손': 20382, '수용률': 20383, '파리바게트': 20384, '백양산': 20385, '드래건': 20386, '싱클레어': 20387, '레바': 20388, '레츠': 20389, '농림업': 20390, '해운업': 20391, '산염': 20392, '스미스': 20393, '치바': 20394, '줄다리기': 20395, '별내동': 20396, '지폐': 20397, '볼링': 20398, '국부펀드': 20399, '미실': 20400, '방배': 20401, 'wonder': 20402, '로치': 20403, '허세': 20404, '압타머': 20405, '클레이튼': 20406, '장외': 20407, '새마을': 20408, '인스랩': 20409, '기소권': 20410, '수입량': 20411, '한혜연': 20412, 'epo': 20413, 'mui': 20414, '메탄올': 20415, '분기도': 20416, '약효': 20417, '메드포': 20418, '갈릭': 20419, 'nst': 20420, '태평로': 20421, '우리넷': 20422, '변익': 20423, '메이플': 20424, '뷰웍스': 20425, 'tcl': 20426, '카트라이더': 20427, '겔': 20428, '일산신도시': 20429, '티탑스': 20430, '퀸텟': 20431, 'msd': 20432, 'shoot': 20433, 'pay': 20434, 'sg': 20435, 'gene': 20436, '밧다': 20437, '홈앤쇼핑': 20438, 'tiktok': 20439, '회정': 20440, '구획': 20441, '들려오다': 20442, '리도': 20443, '조성도': 20444, '다이내믹': 20445, '어댑티브': 20446, '스포크': 20447, '습관화': 20448, '항제': 20449, '양동': 20450, '리튬전지': 20451, '상신': 20452, '쌤': 20453, '희님': 20454, '먹이다': 20455, '만이라도': 20456, '최훈': 20457, '똘똘': 20458, '박성준': 20459, '의중': 20460, '민폐': 20461, '이라든지': 20462, '라든지': 20463, '문화생활': 20464, '강호': 20465, '승철': 20466, '오픈월드': 20467, '스마일게이트': 20468, '서현승': 20469, '남궁': 20470, '에픽': 20471, '카이저': 20472, '조계현': 20473, '전초전': 20474, '비실': 20475, '벼락': 20476, '빗발': 20477, '둘리': 20478, 'sdn': 20479, '마법': 20480, 'west': 20481, '도시바': 20482, '당좌': 20483, '면접시험': 20484, '놨다': 20485, '후발': 20486, '엘오티베큠': 20487, '배소': 20488, '예비결정': 20489, '남궁민': 20490, '발단': 20491, '펫팸족': 20492, 'eco': 20493, '망토': 20494, '털모자': 20495, '모니카': 20496, '똑': 20497, '이츠독': 20498, '왕자': 20499, '쿠킹': 20500, '레퍼런스': 20501, '도일': 20502, '풍년': 20503, '코비': 20504, '발림': 20505, '이징': 20506, '유난희': 20507, '앰플': 20508, '남천': 20509, '프로젝터': 20510, '쿠스': 20511, '베스': 20512, '어시스턴트': 20513, '시아': 20514, '제너럴': 20515, '더라도': 20516, '금촌': 20517, '윤후덕': 20518, '오수연': 20519, '쬐다': 20520, '요량': 20521, '견과류': 20522, '중독증': 20523, '팍팍하다': 20524, '청년실업': 20525, '박지혜': 20526, 'youtube': 20527, '마운트': 20528, '풀프레임': 20529, '종도': 20530, 'da': 20531, '수식어': 20532, '에스테': 20533, '비뇨기': 20534, '꿀팁': 20535, 'outlook': 20536, '방송광고': 20537, '잠도': 20538, '익절': 20539, '삼진': 20540, 'job': 20541, '오세아니아': 20542, '하도급법': 20543, '리먼브러더스': 20544, 'kiko': 20545, '빗뱅': 20546, '울면': 20547, '후진국': 20548, '부평역': 20549, 'port': 20550, '비뇨': 20551, '성률': 20552, '뒤편': 20553, '타자': 20554, '신영': 20555, '카운셀러': 20556, '상방': 20557, '아라비아': 20558, '나이지리아': 20559, '능사': 20560, '김정남': 20561, '방성훈': 20562, '등판': 20563, '흘러가다': 20564, '복안': 20565, 'pspp': 20566, '총수요': 20567, '빨아들이다': 20568, '이정훈': 20569, '아론': 20570, 'financial': 20571, '겐': 20572, '복학': 20573, '평준화': 20574, '쿠키런': 20575, '스킬': 20576, '알파런': 20577, 'vina': 20578, '약시': 20579, 'kcon': 20580, '데카': 20581, '회용': 20582, '관객수': 20583, '월봉': 20584, '가주': 20585, '돈법니': 20586, '클리닝': 20587, '일링': 20588, '영어권': 20589, 'artist': 20590, 'chart': 20591, '케이팝': 20592, '리얄': 20593, '조화롭다': 20594, '륜': 20595, '지라시': 20596, '갑지': 20597, 'too': 20598, 'information': 20599, '본문': 20600, '고유명사': 20601, '기준서': 20602, '끄덕이다': 20603, '공급원': 20604, '원광': 20605, '경제사': 20606, '경향신문': 20607, '논설': 20608, '기제': 20609, '수입품': 20610, '조류인플루엔자': 20611, '김종철': 20612, '구제역': 20613, '살모넬라': 20614, '김교현': 20615, '네프론': 20616, '북아메리카': 20617, '연합체': 20618, '정두리': 20619, '녹취': 20620, '알람': 20621, '승주': 20622, '처치': 20623, '체형': 20624, '맥박': 20625, 'his': 20626, '본기': 20627, '올려주다': 20628, '손안': 20629, '이창민': 20630, '궈': 20631, '지루하다': 20632, '동락': 20633, '쉬쉬': 20634, '서우': 20635, '어처구니없다': 20636, '환경운동': 20637, 'itx': 20638, '웨스트우드': 20639, '도로공사': 20640, '일원화': 20641, '국채선물': 20642, '가난': 20643, 'test': 20644, 'zoom': 20645, '컨택': 20646, '내륙말': 20647, '이도연': 20648, '제실': 20649, '캡스홈': 20650, '폴리스': 20651, '금정산': 20652, '카쉐어링': 20653, '얼굴인식': 20654, 'payfan': 20655, '불모': 20656, '성행': 20657, '신도림': 20658, '코카': 20659, 'labgun': 20660, 'assay': 20661, '신어': 20662, '답습': 20663, '하복': 20664, '비상근': 20665, 'mr': 20666, '산티': 20667, '카시트': 20668, 'classic': 20669, '화금': 20670, '럭슬': 20671, '완구': 20672, '하층': 20673, '윤기백': 20674, '투표일': 20675, '접전': 20676, '목전': 20677, '례': 20678, '뇌동맥류': 20679, '모야': 20680, '뇌종양': 20681, '개두': 20682, '영아': 20683, '심리상담': 20684, '박해': 20685, '엉뚱하다': 20686, '틴트': 20687, '왈': 20688, '김민경': 20689, '정혁': 20690, 'live': 20691, 'cant': 20692, '비열하다': 20693, '일맥상통': 20694, '얼른': 20695, '홈런': 20696, '일쑤': 20697, '이용우': 20698, '쿼드': 20699, '인니': 20700, '만두': 20701, 'lpga': 20702, '임성재': 20703, '목멱': 20704, '직제': 20705, '육이': 20706, '사대': 20707, 'yay': 20708, '움짤': 20709, '홈족': 20710, '쥬': 20711, '배송비': 20712, '저작물': 20713, '디지털콘텐츠': 20714, '스케일링': 20715, '바젤': 20716, 'bis': 20717, 'wave': 20718, '직선제': 20719, '캐리': 20720, '인민해방군': 20721, '군사훈련': 20722, '지리다': 20723, '테드': 20724, '드하': 20725, '게브': 20726, '쥬얼': 20727, '전성기': 20728, '유병률': 20729, '고름': 20730, '놀래다': 20731, '정표': 20732, '답보': 20733, '하부': 20734, '조이다': 20735, '식도암': 20736, '정상인': 20737, '영진약품': 20738, '불철': 20739, '주야': 20740, '선샤인': 20741, '시행착오': 20742, '현혹': 20743, '제이스': 20744, '테판': 20745, '텍팜': 20746, '디알': 20747, '패륜': 20748, '죄질': 20749, '미확정': 20750, '횡령죄': 20751, '현철': 20752, '고휘': 20753, '성화': 20754, 'krx': 20755, 'tp': 20756, '조병현': 20757, '금융정보분석원': 20758, '악기': 20759, 'dp': 20760, '패드': 20761, '팔미도': 20762, '군사작전': 20763, '군단': 20764, '하달': 20765, '적군': 20766, '마음가짐': 20767, '비행전대': 20768, '미대': 20769, '근대': 20770, '연합군': 20771, '박정수': 20772, '기계환기': 20773, '영락': 20774, '선교': 20775, '기계공': 20776, '라이엇': 20777, '선승': 20778, '대진표': 20779, 'wavve': 20780, '트위치': 20781, '정모': 20782, '위세': 20783, '유난히': 20784, '춥다': 20785, '축농증': 20786, '깊숙이': 20787, '뒤척임': 20788, '진액': 20789, '재우다': 20790, '황기': 20791, '프란시스': 20792, '카를로스': 20793, '정당화': 20794, '음모': 20795, '사이토': 20796, '차석': 20797, '조성욱': 20798, '성혁': 20799, '어획': 20800, '배근': 20801, '맞힌': 20802, '김현정': 20803, '뉴스쇼': 20804, '서동욱': 20805, '호비다': 20806, '애국지사': 20807, '복선전철': 20808, '서산시': 20809, '저만': 20810, '볶음': 20811, '프림': 20812, '배전': 20813, '지방도': 20814, '착유': 20815, '재검사': 20816, '판재': 20817, '스크리닝': 20818, '원흉': 20819, '후안': 20820, '거문고': 20821, '무형문화재': 20822, '북촌': 20823, '화전': 20824, '원격강': 20825, '몸부림': 20826, '에르메스': 20827, '기안': 20828, '던킨': 20829, '털썩': 20830, '고증': 20831, '에세이': 20832, 'kia': 20833, '존치': 20834, 'gst': 20835, '일비': 20836, 'qv': 20837, 'topix': 20838, '메라': 20839, '실과': 20840, '디도스': 20841, 'distributed': 20842, '반기문': 20843, '서거': 20844, '하팍로이드': 20845, '양밍': 20846, 'alliance': 20847, '셰코우': 20848, '담맘': 20849, '클랑': 20850, '재빠르다': 20851, '눌림': 20852, '생각나다': 20853, '피로하다': 20854, '피지': 20855, '열량': 20856, '산간': 20857, '소재지': 20858, '동권': 20859, '지수선물': 20860, '국군의무사령부': 20861, '여념': 20862, '미미': 20863, '쿠싱': 20864, '시간표': 20865, '경쟁우위': 20866, 'beyond': 20867, 'fluid': 20868, 'cover': 20869, 'east': 20870, '홍범': 20871, '파이오링크': 20872, '방화벽': 20873, '소사': 20874, '남서쪽': 20875, '노근': 20876, '엣': 20877, '장바구니': 20878, '컵라면': 20879, '김용만': 20880, '유지시': 20881, '김범수': 20882, '비적': 20883, '천대': 20884, '태반': 20885, '라피': 20886, '안심사': 20887, '우전': 20888, '단자': 20889, '전산실': 20890, '아베노믹스': 20891, '안이하다': 20892, '구출': 20893, '데려가다': 20894, '아사히': 20895, '뉴보텍': 20896, '백광': 20897, 'hb': 20898, '간파': 20899, 'cpr': 20900, '럽티브': 20901, '서승원': 20902, '김한준': 20903, '토론자': 20904, 'discovery': 20905, '명쾌하다': 20906, '태환': 20907, '공물': 20908, '파버': 20909, '포텐셜': 20910, '넘버원': 20911, '시전': 20912, '크레스트': 20913, '파라': 20914, '둥글다': 20915, '큐레이터': 20916, '법률상': 20917, '손병두': 20918, '쪼개다': 20919, '어게인': 20920, '노년': 20921, '가팔랐다': 20922, '심중': 20923, '배출량': 20924, '분말': 20925, '쫀득': 20926, '무지개': 20927, '붐비다': 20928, '주치의': 20929, '김용식': 20930, 'blood': 20931, '여수공항': 20932, '에서조차': 20933, 'weather': 20934, '캔햄': 20935, '쫄깃': 20936, '뒷다리': 20937, '식품명인': 20938, '백년': 20939, '산자': 20940, '동물보호법': 20941, '집게': 20942, '장승': 20943, 'eo': 20944, '윤씨': 20945, '무덥다': 20946, '정진우': 20947, '쪽방': 20948, '애인': 20949, '도시숲': 20950, '산림청장': 20951, '산림조합': 20952, '소나무재선충병': 20953, '민후': 20954, '폐쇄하거': 20955, '채무불이행': 20956, '결근': 20957, '도과': 20958, '육군사관학교': 20959, '자질': 20960, '발자취': 20961, '신정은': 20962, '카심': 20963, '몽': 20964, '무작정': 20965, '딱하다': 20966, 'ecmo': 20967, '렘': 20968, '실험군': 20969, '고정관념': 20970, '의붓아버지': 20971, '친모': 20972, '물집': 20973, '박상준': 20974, '해고자': 20975, '상일': 20976, '권리락': 20977, 'elw': 20978, '슈프리마': 20979, 'earning': 20980, 'power': 20981, '전조': 20982, '루멘': 20983, '농지': 20984, '동사무소': 20985, '상전': 20986, '농림부': 20987, '상추': 20988, '권오갑': 20989, '토니모리': 20990, '두케': 20991, '에마뉘엘': 20992, '압둘': 20993, '나스': 20994, '국왕': 20995, '지환': 20996, '팬티라이너': 20997, '심사평가원': 20998, '정진용': 20999, '제나': 21000, '스테로이드': 21001, '불쾌하다': 21002, '패러디': 21003, '햇': 21004, '반송': 21005, '김종구': 21006, '기초과학': 21007, '생화학': 21008, 'nature': 21009, '번영로': 21010, '순환도로': 21011, '시외버스': 21012, '젊음': 21013, '초입': 21014, 'su': 21015, '찝찝하다': 21016, '디시인사이드': 21017, '끓다': 21018, '맨손': 21019, '짜증': 21020, '라고는': 21021, '깡통계좌': 21022, '친하다': 21023, '엇': 21024, '들것': 21025, '스탠다드차타드': 21026, 'kd': 21027, '윤열현': 21028, '중요도': 21029, '바로미터': 21030, 'pk': 21031, '특수하다': 21032, '노회찬': 21033, '소원': 21034, '씨디': 21035, '신스': 21036, '공대': 21037, '연씨': 21038, '루블': 21039, '햇살': 21040, '완연': 21041, '서막': 21042, '확연': 21043, '기민하다': 21044, '자서전': 21045, '개럿': 21046, 'only': 21047, 'history': 21048, '생존자': 21049, '엔비': 21050, '쟁반': 21051, '웹캐스트': 21052, '운호': 21053, '음수': 21054, '긍선': 21055, '안내받다': 21056, '최준용': 21057, '한아름': 21058, '식구': 21059, '넌': 21060, '재혼': 21061, '석현': 21062, '한장': 21063, '덴트': 21064, '겨울방학': 21065, '디지털교과서': 21066, '우리동네': 21067, '청학역': 21068, '들추다': 21069, '레진코믹스': 21070, '뒷바라지': 21071, '학창시절': 21072, '여학생': 21073, '극진하다': 21074, '본성': 21075, '곡리': 21076, '달구벌대로': 21077, '강창': 21078, '서대구역': 21079, '대실역': 21080, '이곡동': 21081, '삼전': 21082, '리수': 21083, '계심': 21084, '야심': 21085, '합착기': 21086, '시피': 21087, 'csot': 21088, '전극': 21089, '장품': 21090, '동자': 21091, '법체계': 21092, 'hrw': 21093, '은구옌': 21094, '채운': 21095, '바닐라': 21096, 'idpp': 21097, '권우': 21098, '박현진': 21099, '감정평가사': 21100, '짜내다': 21101, '상판': 21102, '가져다주다': 21103, '띄우기': 21104, '여경': 21105, '권선구': 21106, '현숙': 21107, '지원기': 21108, '스에타케': 21109, '타카': 21110, '끈질기다': 21111, 'iv': 21112, '리소스': 21113, '화석': 21114, '탄천': 21115, '예스': 21116, '중앙시장': 21117, '동명동': 21118, '청초': 21119, '리안': 21120, '수복': 21121, '빗겨': 21122, '김정섭': 21123, '공주시': 21124, '론칭하': 21125, '사고력': 21126, '복위': 21127, 'fps': 21128, '간극': 21129, '물량관리': 21130, 'ahnlab': 21131, '악성코드': 21132, '사향': 21133, '소자': 21134, '견적': 21135, 'amd': 21136, '차별금지법': 21137, '진정서': 21138, '자폐': 21139, '김성연': 21140, '참정권': 21141, '감고': 21142, '는커녕': 21143, '기만': 21144, '임헌영': 21145, '꾸짖다': 21146, '박완서': 21147, '박화성': 21148, '기독교인': 21149, '총독': 21150, '독재정': 21151, '외세': 21152, '북핵문제': 21153, '국어학': 21154, '종학': 21155, '이진': 21156, '별스탁': 21157, '이구나': 21158, '화진': 21159, '이하일': 21160, '알베르토': 21161, '월마트': 21162, '테기': 21163, '북핵': 21164, '트레': 21165, '회사법': 21166, '유키': 21167, '동경': 21168, '프리바이오틱스': 21169, '배합': 21170, '윤기': 21171, '럼': 21172, '휴양림': 21173, '억이': 21174, 'icma': 21175, '색인': 21176, '혹사': 21177, '이롭다': 21178, '쪼그리다': 21179, '골조직': 21180, '오른손': 21181, '수축': 21182, '시리얼': 21183, '정영호': 21184, '고요하다': 21185, 'klug': 21186, 'nct': 21187, '광고주': 21188, '다다': 21189, '델': 21190, '염도': 21191, '국물': 21192, '인분': 21193, '야행': 21194, '유사성': 21195, '백제': 21196, '스탬프': 21197, '조선왕릉': 21198, '문화제': 21199, '안내소': 21200, '나노와이어': 21201, '황색포도상구균': 21202, 'materials': 21203, '박선호': 21204, '학내': 21205, '집단지성': 21206, '폭거': 21207, '지윤': 21208, '다림질': 21209, '세바퀴': 21210, '문래동': 21211, '최종환': 21212, '파주시장': 21213, '이성호': 21214, '안승': 21215, 'protect': 21216, '프로텍트': 21217, '지드': 21218, '역류': 21219, '신경망': 21220, '테라바이트': 21221, '베어링': 21222, '카일': 21223, '참고자료': 21224, '선구': 21225, '뛰어놀다': 21226, '룩북': 21227, '체사': 21228, '써머': 21229, 'cam': 21230, '라이즈': 21231, '고훈정': 21232, '양지원': 21233, '크라이': 21234, '기범': 21235, '석준': 21236, 'pack': 21237, 'ncma': 21238, '팝업창': 21239, '어요': 21240, '방사성폐기물': 21241, '분분': 21242, '이르렀던': 21243, '백원우': 21244, '텄다': 21245, '정구': 21246, '우기홍': 21247, '샘표': 21248, '우석': 21249, '유한양행': 21250, '복은': 21251, 'near': 21252, 'communication': 21253, '등심': 21254, '닭고기': 21255, 'fid': 21256, '항시': 21257, '해바라기': 21258, '말벗': 21259, '강원랜드': 21260, '슈어런스': 21261, '첨가제': 21262, '싱어': 21263, '셀럽': 21264, '레이서': 21265, '입질': 21266, '지엘팜텍': 21267, 'lot': 21268, '란제리': 21269, '아랫': 21270, '몸매': 21271, '검정': 21272, '생리': 21273, '구부러지다': 21274, '노인성': 21275, '쇠퇴': 21276, '뵈다': 21277, '오르내리다': 21278, '노령': 21279, '소믈리에': 21280, '스팅': 21281, '피터르': 21282, '샤푸티': 21283, '막론': 21284, 'gpm': 21285, 'target': 21286, '게놈': 21287, '저으': 21288, '흰자': 21289, '소금': 21290, '쫄병스낵': 21291, '로사': 21292, '바인': 21293, '재단법인': 21294, '화훼단': 21295, '송이': 21296, '염색': 21297, '마술': 21298, '톡고': 21299, '업도': 21300, '어로': 21301, '동륜': 21302, '반월동': 21303, 'application': 21304, '대저': 21305, '업태': 21306, '파트론': 21307, '한몫': 21308, '금정구': 21309, '미항공우주국': 21310, '아스트로': 21311, '권세': 21312, '오리진': 21313, '광활하다': 21314, '열띤': 21315, '기지개': 21316, '텐배거': 21317, '포시즌스': 21318, '국유화': 21319, '관휘': 21320, '채식': 21321, '오죽하다': 21322, '대타협': 21323, 'sknetworks': 21324, 'lotte': 21325, 'insurance': 21326, 'hanil': 21327, 'cement': 21328, 'retail': 21329, '석좌교수': 21330, '조정호': 21331, '실토': 21332, '신민재': 21333, '융단': 21334, '단락': 21335, '투기지역': 21336, '웬만하다': 21337, '굵직하다': 21338, 'forex': 21339, '토마스': 21340, '헨리': 21341, 'cio': 21342, '박현빈': 21343, '하만': 21344, '윤용': 21345, '해양경찰청장': 21346, '도공': 21347, '미나': 21348, '텀': 21349, '직하다': 21350, '융통': 21351, '하고는': 21352, 'avalanche': 21353, 'annapurna': 21354, 'four': 21355, 'route': 21356, 'took': 21357, 'place': 21358, 'meters': 21359, 'around': 21360, 'crew': 21361, 'safe': 21362, 'taking': 21363, 'shelter': 21364, 'search': 21365, 'site': 21366, 'staying': 21367, 'chungcheong': 21368, 'education': 21369, 'left': 21370, 'until': 21371, 'three': 21372, 'well': 21373, 'affected': 21374, 'families': 21375, 'efforts': 21376, '행정공제회': 21377, '김상훈': 21378, '대디': 21379, '라파엘': 21380, '김기현': 21381, '송철호': 21382, '인사청문회': 21383, '정치자금': 21384, '나은지': 21385, 'unveiled': 21386, 'giant': 21387, 'reach': 21388, 'basic': 21389, 'non': 21390, 'senior': 21391, 'sleep': 21392, 'wake': 21393, 'cyan': 21394, 'range': 21395, 'amounts': 21396, 'product': 21397, 'body': 21398, 'conventional': 21399, 'releases': 21400, 'nite': 21401, 'combined': 21402, 'natural': 21403, 'hours': 21404, '하선': 21405, '레더': 21406, '친부': 21407, '평안': 21408, '외할머니': 21409, '자라': 21410, '선뜻': 21411, '마냥': 21412, '산청군': 21413, '첩': 21414, '왕뜸': 21415, '데우다': 21416, '약재': 21417, '뜸기': 21418, '온몸': 21419, '뜨끈하다': 21420, '순금': 21421, '단성면': 21422, '실개천': 21423, '구절': 21424, '형세': 21425, '하씨': 21426, '회화나무': 21427, '초승달': 21428, '찻집': 21429, '유적지': 21430, '라무': 21431, '무치다': 21432, '어소': 21433, '오크': 21434, '써드': 21435, '체면': 21436, '프랑스어': 21437, '웨이터': 21438, '가리개': 21439, '죽지': 21440, 'death': 21441, '늑장': 21442, '특례조치': 21443, '문정현': 21444, '도기': 21445, 'sqm': 21446, 'cbd': 21447, '클로버': 21448, '공급물량': 21449, '격렬': 21450, '오성홍기': 21451, '인디아': 21452, 'cait': 21453, '갈완계곡': 21454, '샨': 21455, '킴스클럽': 21456, '리오하': 21457, '총영사': 21458, '술마당': 21459, '조사특위': 21460, 'urgent': 21461, '하이라이트': 21462, 'dpa': 21463, '응징': 21464, '임은진': 21465, '임하람': 21466, '픽싱': 21467, '이재현': 21468, '바샤르': 21469, '안와르': 21470, '대령': 21471, '다마스쿠스': 21472, '채찍': 21473, '악랄하다': 21474, '열거': 21475, '짐머': 21476, '피켓': 21477, '서방': 21478, '강수지': 21479, '평상시': 21480, '습격': 21481, 'exchange': 21482, '최욱': 21483, '의사소통': 21484, '살모넬라균': 21485, 'nlrp': 21486, 'caspase': 21487, '변비': 21488, '오제세': 21489, '홍규': 21490, '표밭': 21491, '해수': 21492, '미크로네시아': 21493, '항법': 21494, '조사선': 21495, '바오': 21496, 'unification': 21497, 'leafleting': 21498, 'urged': 21499, 'immediately': 21500, 'made': 21501, 'request': 21502, 'propaganda': 21503, 'large': 21504, 'preparing': 21505, 'website': 21506, 'pictures': 21507, 'massive': 21508, 'clear': 21509, 'step': 21510, 'between': 21511, 'relations': 21512, 'process': 21513, 'series': 21514, 'sending': 21515, 'treating': 21516, 'tuesday': 21517, 'actions': 21518, 'ban': 21519, '학생용': 21520, '김진표': 21521, '사력': 21522, '삼천동': 21523, '유원지': 21524, '견주': 21525, '기해': 21526, '불로': 21527, '이동훈': 21528, '최진우': 21529, '각의': 21530, '후불': 21531, '월암': 21532, '종점': 21533, 'systems': 21534, 'kepco': 21535, 'kps': 21536, 'celltrion': 21537, 'ihs': 21538, '로닌': 21539, '창비': 21540, '노랑': 21541, 'jcpoa': 21542, '버락': 21543, '상쇄하': 21544, '론도': 21545, '국가기록원': 21546, '전봉준': 21547, '형사재판': 21548, '제본': 21549, '글자': 21550, '조어': 21551, '능숙하다': 21552, '성장기': 21553, '가타': 21554, '부타': 21555, '정치범': 21556, '북송': 21557, '건너오다': 21558, '형수': 21559, '캇': 21560, '목련': 21561, '컬리지': 21562, '장약': 21563, '부사관': 21564, '후미': 21565, '격발': 21566, '미끄럼': 21567, '신소재공학': 21568, '엄광섭': 21569, '이정': 21570, '고분자': 21571, '이월': 21572, '불변': 21573, '정수연': 21574, '투하': 21575, 'mfds': 21576, 'blog': 21577, '식생활': 21578, '여객선': 21579, '시운전': 21580, '이한승': 21581, '은커녕': 21582, '손모': 21583, '노예제': 21584, '양옆': 21585, '앰프': 21586, '인내': 21587, '간직': 21588, '파스카': 21589, '주례': 21590, '전만': 21591, '구모': 21592, '쏠쏠하다': 21593, '최모': 21594, '전자거래': 21595, '사회학': 21596, '용구': 21597, '추혜선': 21598, '이배': 21599, '대학원생': 21600, '기민': 21601, '꽃제비': 21602, '영양실조': 21603, '안보리': 21604, 'act': 21605, '일조': 21606, '레슨': 21607, '설법': 21608, '강해진': 21609, '근거지': 21610, '방면': 21611, '고랭': 21612, '농부가': 21613, '운봉': 21614, '출렁': 21615, '김태종': 21616, '백석대': 21617, '김승욱': 21618, '앙카라': 21619, 'sna': 21620, '영토': 21621, '무아': 21622, '카다피': 21623, '군벌': 21624, '칼리파': 21625, '북서': 21626, 'additional': 21627, 'infection': 21628, 'lockdown': 21629, 'most': 21630, 'epicenter': 21631, 'neighboring': 21632, 'past': 21633, 'centers': 21634, 'far': 21635, 'mostly': 21636, 'patients': 21637, 'underlying': 21638, 'released': 21639, 'recovering': 21640, 'added': 21641, 'her': 21642, 'confirmed': 21643, 'working': 21644, 'servant': 21645, 'found': 21646, 'occur': 21647, 'jun': 21648, 'cluster': 21649, 'nationwide': 21650, 'focus': 21651, 'since': 21652, 'feb': 21653, 'focused': 21654, 'ordinary': 21655, 'citizens': 21656, 'citing': 21657, 'community': 21658, 'areas': 21659, 'few': 21660, 'make': 21661, 'checked': 21662, 'before': 21663, 'currently': 21664, 'organization': 21665, 'wash': 21666, 'soap': 21667, 'she': 21668, 'official': 21669, 'asked': 21670, 'twice': 21671, '김기훈': 21672, '이현': 21673, '참견': 21674, '김희원': 21675, '이제껏': 21676, '전성훈': 21677, '에밀리': 21678, '로마냐': 21679, '피에몬테': 21680, '라치오': 21681, '바티칸': 21682, '대성당': 21683, '예나': 21684, '밖에는': 21685, '연기론': 21686, '대파': 21687, '제하': 21688, '노파': 21689, '짙어지다': 21690, '원트': 21691, 'always': 21692, '톰': 21693, '페티': 21694, '뤼안': 21695, '파라세타몰': 21696, '패자': 21697, '고갈': 21698, '입경': 21699, '취준생들': 21700, 'transformation': 21701, 'excellency': 21702, '합천군': 21703, '합천': 21704, '경상대': 21705, 'crime': 21706, 'fury': 21707, 'man': 21708, 'allegedly': 21709, 'exploited': 21710, 'telegram': 21711, 'perpetrators': 21712, 'mobile': 21713, 'petitions': 21714, 'punishment': 21715, 'devil': 21716, 'luxury': 21717, 'received': 21718, 'estimated': 21719, 'whether': 21720, 'disclosure': 21721, 'decided': 21722, 'right': 21723, 'min': 21724, 'own': 21725, 'adding': 21726, 'content': 21727, 'sexually': 21728, 'exploits': 21729, '괴한': 21730, '기성은': 21731, '김연정': 21732, '여객운송': 21733, 'conglomerates': 21734, 'sunday': 21735, 'score': 21736, 'january': 21737, 'operating': 21738, 'telecom': 21739, 'fell': 21740, '육거리': 21741, '심규석': 21742, '상점가': 21743, '비정부기구': 21744, '쑤저우': 21745, '폐쇄식': 21746, '바이두': 21747, '문맥': 21748, '음성군': 21749, '문학관': 21750, '상당구': 21751, '대표제': 21752, '김진현': 21753, 'caused': 21754, 'operation': 21755, 'rexton': 21756, 'stake': 21757, '김성동': 21758, '생활자': 21759, '오중': 21760, '예천': 21761, '우동': 21762, 'bpd': 21763, '노르': 21764, '치인': 21765, 'pce': 21766, '쿵': 21767, '초장': 21768, '차익거래': 21769, '여쭈다': 21770, 'violating': 21771, 'protestant': 21772, 'keeping': 21773, 'attending': 21774, 'banning': 21775, 'ignored': 21776, 'pan': 21777, 'orders': 21778, 'entertainment': 21779, 'weeks': 21780, 'warned': 21781, 'when': 21782, 'filing': 21783, 'compensation': 21784, 'suits': 21785, 'together': 21786, 'mayor': 21787, 'masks': 21788, 'inspector': 21789, 'once': 21790, 'america': 21791, 'europe': 21792, '시게루': 21793, '돗토리': 21794, '창생': 21795, '오월': 21796, '적의': 21797, '파벌': 21798, '구심력': 21799, '정조': 21800, '온건': 21801, 'gsomia': 21802, '패전': 21803, '야스쿠니신사': 21804, '이라서': 21805, '핵무기': 21806, '자위대': 21807, '아이다호': 21808, '앤드루': 21809, '도망치다': 21810, '밸런타인데이': 21811, '낭송': 21812, '콩코르디아': 21813, '질리다': 21814, '복역': 21815, '고결하다': 21816, '용문': 21817, '원유철': 21818, '빈사': 21819, '월미도': 21820, '일거리': 21821, '서신동': 21822, '고깃집': 21823, '썰렁하다': 21824, '흥덕구': 21825, '살얼음': 21826, '김유미': 21827, '남하': 21828, '그레이스': 21829, '스풀': 21830, '특등': 21831, '빚었던': 21832, '공권': 21833, '체리': 21834, 'drone': 21835, '글로비스': 21836, '부산물': 21837, '유자': 21838, '저분자': 21839, '박범계': 21840, '김성식': 21841, '연대보증': 21842, '성법': 21843, '엘라': 21844, '피아': 21845, '구점': 21846, 'autoxt': 21847, 'extraction': 21848, 'cco': 21849, 'ba': 21850, '상각': 21851, '선비': 21852, 'precast': 21853, 'concrete': 21854, 'bim': 21855, 'hq': 21856, '딜로이트': 21857, '휴켐스': 21858, 'fp': 21859, '당진시': 21860, '이찬희': 21861, '진수': 21862, '고봉': 21863, '등기우편': 21864, '셰브런': 21865, '엑슨모빌': 21866, '월풀': 21867, '환인제약': 21868, '적층': 21869, '콘덴서': 21870, 'sknotrated': 21871, '대한문': 21872, 'expansion': 21873, 'ph': 21874, '연산': 21875, 'saipem': 21876, '산실': 21877, '이레': 21878, '김현우': 21879, '세포독성': 21880, '타겟': 21881, '나광호': 21882, 'lucid': 21883, 'sne': 21884, 'jpg': 21885, '강승수': 21886, '연소': 21887, '투스': 21888, '퍼트': 21889, '선민': 21890, '그랑프리': 21891, '공덕역': 21892, '스마트워크': 21893, '투비': 21894, '프루프': 21895, '마스카라': 21896, '친필': 21897, '싱그럽다': 21898, '파이널': 21899, '퍼블리셔': 21900, '이글': 21901, '벳': 21902, '국내법': 21903, '주효': 21904, '재기': 21905, '금조': 21906, '민혜정': 21907, '돋보기': 21908, 'poc': 21909, 'talk': 21910, '통큰': 21911, 'poct': 21912, '회서': 21913, '강승건': 21914, 'gu': 21915, '스나이퍼': 21916, 'rgb': 21917, 'super': 21918, 'key': 21919, '짝수': 21920, '재정부': 21921, '인베': 21922, '탑승수속': 21923, 'hrs': 21924, '렌털': 21925, 'bs': 21926, 'dpc': 21927, 'diagnosis': 21928, '앤드류': 21929, '티원': 21930, '골드바': 21931, '감가상각비': 21932, '백엔드': 21933, '명확': 21934, '앤엠': 21935, '성창': 21936, '음봉': 21937, '덱스판테놀': 21938, '히알루론산': 21939, '비강': 21940, '아프리카티비': 21941, 'road': 21942, '김대환': 21943, 'afreecatv': 21944, '김동현': 21945, '편파': 21946, '캐스터': 21947, 'rv': 21948, '현아': 21949, '애드': 21950, '연정훈': 21951, '한가인': 21952, '권지영': 21953, '글라이더': 21954, '호크': 21955, '정조국': 21956, '김선형': 21957, '각본': 21958, '세리모니': 21959, '농구단': 21960, '김용호': 21961, 'worldwide': 21962, '생화': 21963, '계정은': 21964, '티알': 21965, '김호곤': 21966, '서흥': 21967, '승호': 21968, '이민석': 21969, '페럿': 21970, '대조군': 21971, '동물시험': 21972, '김문기': 21973, '남대문': 21974, '재훈': 21975, 'cma': 21976, '브라더스': 21977, '재무성': 21978, '지적재산권': 21979, '가로막': 21980, 'story': 21981, '차보': 21982, '소하리': 21983, '하네스': 21984, '차만': 21985, '쏘울': 21986, '군장': 21987, '고부': 21988, '밸브': 21989, '펩트론': 21990, '약학': 21991, '숙주': 21992, '자궁경부암': 21993, '신상철': 21994, '사우스캐롤라이나': 21995, '알래스카': 21996, '접객': 21997, 'stoxx': 21998, '덴마크': 21999, '박영호': 22000, '씽크펀': 22001, '협곡': 22002, '모험가': 22003, '룩앤필': 22004, '등장인물': 22005, '던전': 22006, '도안': 22007, '온라인게임': 22008, '마나': 22009, '워커': 22010, '이혜린': 22011, '거야': 22012, '이안': 22013, '마수': 22014, '필라델피아': 22015, '리핑': 22016, '꿋꿋': 22017, '빗장': 22018, '패스트푸드': 22019, '명수': 22020, '리햅': 22021, '글러브': 22022, '만호': 22023, '충청북도지사': 22024, '홀로그램': 22025, '아바타': 22026, 'kazen': 22027, '마스터플랜': 22028, '스킨십': 22029, '박홍': 22030, '김태영': 22031, 'bridge': 22032, '싱텔': 22033, '글로브': 22034, '타이완': 22035, '리프트': 22036, '인스퍼레이션': 22037, '엠비언트': 22038, 'lee': 22039, '한적하다': 22040, '알약': 22041, '이석준': 22042, 'gbm': 22043, '대구광역시': 22044, '조감도': 22045, '금호강': 22046, 'stocks': 22047, 'current': 22048, 'healthcare': 22049, 'enterprise': 22050, 'style': 22051, '쉘': 22052, '참좋은여행': 22053, 'polytaxel': 22054, 'drug': 22055, 'noael': 22056, '백금': 22057, 'nab': 22058, 'paclitaxel': 22059, '비석': 22060, '드나들다': 22061, '반듯하다': 22062, '공해': 22063, '지하가': 22064, '잖다': 22065, '이음': 22066, '선릉': 22067, '노릇': 22068, '장밋빛': 22069, '김동원': 22070, '모터스포츠': 22071, '드리프트': 22072, '창환': 22073, '구관': 22074, '김앤장': 22075, '시험관': 22076, '슬림화': 22077, '애자': 22078, 'agile': 22079, '부별': 22080, 'treasury': 22081, 'daily': 22082, 'incinerate': 22083, 'incineration': 22084, '머징': 22085, '미국달러': 22086, '오목': 22087, '뉴코아아울렛': 22088, '낙': 22089, '제일고': 22090, '암산': 22091, '현수': 22092, '참여연대': 22093, '밑거름': 22094, '판지': 22095, 'must': 22096, 'therapeutics': 22097, '페인': 22098, '서민지': 22099, 'design': 22100, 'excellence': 22101, '웨스턴': 22102, '피디': 22103, '나세르': 22104, '가뭄': 22105, '성문': 22106, '엎친데': 22107, '보양식': 22108, '체시스': 22109, '경상수지': 22110, '사시': 22111, '이상호': 22112, '홀더': 22113, '상큼': 22114, '비스킷': 22115, '최은정': 22116, '벤처캐피털': 22117, '개팀': 22118, '자연어': 22119, '초단': 22120, '화서역': 22121, '투셀': 22122, '불량품': 22123, '리즈': 22124, '갱년기': 22125, '루비': 22126, '리도카인': 22127, '박막': 22128, '껍질': 22129, '체지방': 22130, '일룸': 22131, '품관': 22132, 'google': 22133, '메탈슬러그': 22134, '퍼블리싱': 22135, 'kcl': 22136, '입력장치': 22137, '채희봉': 22138, '개월차': 22139, '집합건물법': 22140, '압사라': 22141, '정기적금': 22142, '중고생': 22143, '밑반찬': 22144, '믹': 22145, '코스믹': 22146, 'chunlab': 22147, 'lbp': 22148, 'pty': 22149, '온돌': 22150, '스탠': 22151, '파혼': 22152, '장녀': 22153, '폐가': 22154, '화증': 22155, '우림': 22156, 'push': 22157, 'cytokine': 22158, 'storm': 22159, '응고': 22160, '췌장염': 22161, '모스': 22162, '김미숙': 22163, '세포배양': 22164, '크롬캐스트': 22165, '굿앤굿': 22166, '농업기술실용화재단': 22167, '죽염': 22168, '종래': 22169, '장류': 22170, '국가공무원': 22171, '풍력에너지': 22172, 'real': 22173, '남아공': 22174, '환청': 22175, '프로리그': 22176, '임상실험': 22177, '방사선치료': 22178, '박지': 22179, '장려상': 22180, '박경': 22181, '송창석': 22182, '김태정': 22183, '폐쇄되면': 22184, 'idt': 22185, '웰스파고': 22186, 'ge': 22187, '김영희': 22188, '컨템포러리': 22189, '숄더백': 22190, '키라': 22191, '학습자': 22192, '풍문': 22193, '재생산': 22194, '범천': 22195, '수주고': 22196, 'plot': 22197, '터터바녀': 22198, 'tatab': 22199, 'nya': 22200, '방전': 22201, '조현철': 22202, '전기자동차': 22203, '양일': 22204, '클로이': 22205, '모듈러': 22206, '사이니': 22207, '프리즘': 22208, 'dd': 22209, '니케이지수': 22210, '누드': 22211, '송가': 22212, '장인화': 22213, '정탁': 22214, '정좌': 22215, '정준': 22216, '황창규': 22217, '헬로비전': 22218, '분법': 22219, 'cic': 22220, '일촉즉발': 22221, '정진호': 22222, '헤엄': 22223, '바지선': 22224, '강직': 22225, '겨를': 22226, '조선시대': 22227, '킨텍스': 22228, 'biorxiv': 22229, '윤동식': 22230, '이건호': 22231, '권혁': 22232, '인즈': 22233, '화끈': 22234, 'galaxy': 22235, '폼팩터': 22236, '직사각형': 22237, '엑시노스': 22238, '제안요청서': 22239, 'libs': 22240, '라스베가스': 22241, '로드아일랜드': 22242, '동식물': 22243, '공생': 22244, '카메론': 22245, '듀크': 22246, '홈술': 22247, '이상훈': 22248, 'mes': 22249, 'devops': 22250, '민항국': 22251, '종주국': 22252, '덜미': 22253, '이정표': 22254, '사업가': 22255, '소동': 22256, '붕붕': 22257, '식모': 22258, '섬뜩하다': 22259, '폭동': 22260, '오신': 22261, '심심하다': 22262, '강태웅': 22263, '치밥': 22264, '굽네치킨': 22265, '경비행기': 22266, '중퇴': 22267, '우등': 22268, '한민족': 22269, '소시에테': 22270, '최진실': 22271, 'xm': 22272, '미라클': 22273, '단면': 22274, '지망': 22275, 'cgtn': 22276, '불미': 22277, '거고': 22278, '삼은': 22279, '콘돔': 22280, '식겁하다': 22281, '부랴부랴': 22282, '료율': 22283, '아슬아슬하다': 22284, '홍혜걸': 22285, '믈': 22286, '스페코': 22287, '동아대학교': 22288, '재외동포': 22289, '남대문로': 22290, '통상교섭본부장': 22291, '괜히': 22292, '요절': 22293, '배석희': 22294, '임유': 22295, '크론병': 22296, '양기': 22297, '박종': 22298, '양행': 22299, '계양구': 22300, '해약': 22301, '마음속': 22302, '안효주': 22303, '복층': 22304, '정돈': 22305, '주산': 22306, '진우': 22307, '달려들다': 22308, '구속력': 22309, '원보': 22310, 'ohsas': 22311, '콧대': 22312, '괴정동': 22313, '부두': 22314, '엉덩이': 22315, '빅토리아': 22316, '톈안먼': 22317, '마이바흐': 22318, '실하다': 22319, '절망': 22320, '영합': 22321, '초인': 22322, '방만': 22323, '송영': 22324, '리카': 22325, '정보산업': 22326, '일일사': 22327, '식후땡': 22328, '번인': 22329, '원세훈': 22330, '국가정보원장': 22331, '적법': 22332, '인사위': 22333, '분탕': 22334, '지엔': 22335, '고려제강': 22336, 'baas': 22337, '예사롭다': 22338, '신기록': 22339, '뒤로': 22340, 'abcp': 22341, '보금자리': 22342, '이바': 22343, 'ape': 22344, '뉘앙스': 22345, '포심': 22346, '무지하다': 22347, '전공자': 22348, '잭': 22349, '뉴욕대': 22350, '양현석': 22351, '난타': 22352, '여론몰이': 22353, '완파했다': 22354, '대서': 22355, '특임교수': 22356, '이성수': 22357, '뉴미디어': 22358, '김범': 22359, '솔리드': 22360, '감압': 22361, '벙커': 22362, '중질유': 22363, '내사': 22364, '김윤': 22365, '윤정현': 22366, '베토벤': 22367, '교향곡': 22368, '상트페테르부르크': 22369, '협연': 22370, '단층': 22371, '배격': 22372, '논객': 22373, '최송현': 22374, '단시간': 22375, '대도시권': 22376, '광역철도': 22377, '소인': 22378, '모욕죄': 22379, '스피릿': 22380, '마티카': 22381, '바이오테크놀로지': 22382, '백터': 22383, '사직서': 22384, '땅콩': 22385, '회항': 22386, '모토': 22387, '까닥': 22388, '벼라별': 22389, '별의별': 22390, '짓거리': 22391, '주사파': 22392, '어문': 22393, '털': 22394, '의겸': 22395, '공당': 22396, '천거': 22397, '한심하다': 22398, '동교동': 22399, '알머슨': 22400, '초대권': 22401, '빈대': 22402, '합종연횡': 22403, '합집': 22404, '법대': 22405, '의전': 22406, '으로라도': 22407, '아부': 22408, '백혜련': 22409, '결판': 22410, '축협': 22411, '프라이팬': 22412, '등촌': 22413, '컬처': 22414, '디지털프라자': 22415, '페이팔': 22416, '논산훈련소': 22417, '들통': 22418, '아현': 22419, '이상우': 22420, '바글바글': 22421, '의외로': 22422, '자격정지': 22423, '낙인': 22424, 'ucla': 22425, '헷갈리다': 22426, '정신장애인': 22427, '조현병': 22428, '양평군': 22429, '일본차': 22430, '세포벽': 22431, '비료': 22432, '충북도청': 22433, '규산염': 22434, '시구': 22435, '얄팍하다': 22436, '겸직': 22437, '트렌티노': 22438, '아디': 22439, '입방': 22440, '미열': 22441, '끝없다': 22442, '독도': 22443, '첩첩산중': 22444, '시험지': 22445, '김보형': 22446, '메르세데스벤츠': 22447, '퇴거': 22448, '김성': 22449, '최병일': 22450, '답지': 22451, '거양': 22452, '용궁': 22453, '절경': 22454, '호미': 22455, '평탄하다': 22456, '사색': 22457, '장사항': 22458, '동백나무': 22459, '불봉': 22460, '판매관리': 22461, '증익': 22462, '싸움판': 22463, '발안제': 22464, '선거권': 22465, '시끄럽다': 22466, '가만': 22467, '마땅치': 22468, '절대다수': 22469, '이학영': 22470, '비약': 22471, '후진': 22472, '토착': 22473, '왜구': 22474, '범법': 22475, '친일파': 22476, 'thinking': 22477, '특공대': 22478, 'stt': 22479, '엔드투엔드': 22480, '술자리': 22481, '합참': 22482, '이동헌': 22483, 'ets': 22484, '오션월드': 22485, '자이언트': 22486, '토네이도': 22487, '물놀이': 22488, '증거조사': 22489, '권력자': 22490, '청탁': 22491, '무기징역': 22492, '이탈리아어': 22493, '실크': 22494, '페라리': 22495, '후륜구동': 22496, '새싹': 22497, '보리': 22498, '비식': 22499, '강현우': 22500, '천식': 22501, '금연': 22502, '이기권': 22503, '백승현': 22504, 'gwp': 22505, '노동법': 22506, '병역': 22507, '송기헌': 22508, '원주시': 22509, '무경': 22510, '정근': 22511, '인텔리전스': 22512, '옥스퍼드': 22513, '한성대': 22514, '총대': 22515, '첨병': 22516, '안식처': 22517, '기프티콘': 22518, '우월': 22519, '휴양': 22520, '밤새다': 22521, '빅딜': 22522, '왼손': 22523, '완판남': 22524, '박종관': 22525, '조성철': 22526, '참칭하': 22527, '강비': 22528, '서관': 22529, '청계': 22530, '시커멓다': 22531, '정준모': 22532, '박서보': 22533, '최병소': 22534, '권대섭': 22535, '김덕': 22536, '렬': 22537, '중첩': 22538, '사포': 22539, '가늘다': 22540, '연약하다': 22541, '가마': 22542, '대칭': 22543, '스크린도어': 22544, '무방비': 22545, '개폐': 22546, '스페인어': 22547, '주우': 22548, '신봉동': 22549, '딸도': 22550, '번화가': 22551, '소고': 22552, '완차이': 22553, '최루탄': 22554, '친중파': 22555, '장철': 22556, '기윤': 22557, '다그': 22558, '증량': 22559, '빅맥': 22560, '메뉴인': 22561, '왕관': 22562, '손등': 22563, '비비다': 22564, '기저귀': 22565, '버릇': 22566, '고현': 22567, '어두워지다': 22568, '외채': 22569, '사법시험': 22570, '둘레': 22571, '김영규': 22572, '서명석': 22573, '영채': 22574, '김신': 22575, '미필': 22576, '유단자': 22577, '입상하다': 22578, '오씨': 22579, '한적': 22580, '묵적': 22581, '수두': 22582, '어선': 22583, '찰나': 22584, '은숙': 22585, '도레이': 22586, '봉인': 22587, '송중기': 22588, '강호동': 22589, '퐁': 22590, '스터디': 22591, '노랫말': 22592, '돌기': 22593, '텅텅': 22594, '가람': 22595, '박하': 22596, '러셀': 22597, '근관치료': 22598, '징벌': 22599, '부유세': 22600, '뱉다': 22601, 'keytruda': 22602, '제너': 22603, '우두': 22604, '발진': 22605, '영철': 22606, 'knowledge': 22607, '원주율': 22608, '수학자': 22609, '적분': 22610, '학업성취도': 22611, '선형대수': 22612, '제풀이': 22613, '픽': 22614, '코마': 22615, '격화될': 22616, '배합사료': 22617, '톰슨': 22618, '폐쇄됐': 22619, '부셸': 22620, '펫캉스': 22621, '교감': 22622, '세비': 22623, '정당법': 22624, '국회법': 22625, '흥분제': 22626, '동하': 22627, '착석': 22628, '책형': 22629, '국가고시': 22630, '비상등': 22631, '노블레스': 22632, '오블리주': 22633, '짊어지': 22634, '더구나': 22635, '배경음': 22636, 'mcn': 22637, '밀실': 22638, '야합': 22639, '작정': 22640, '김창섭': 22641, '진공청소기': 22642, '김치냉장고': 22643, '상호주': 22644, '외침': 22645, '알자이디': 22646, '일약': 22647, '던지기': 22648, '깡통': 22649, '투척': 22650, '이슬람권': 22651, '더럽다': 22652, '네타냐후': 22653, '화채': 22654, '번갈아': 22655, '예기': 22656, '위스콘신': 22657, 'mesfire': 22658, '윙스': 22659, '관례': 22660, 'spv': 22661, 'pnc': 22662, '히비스커스': 22663, '홍차': 22664, '동래': 22665, '소잉': 22666, '윤성현': 22667, '배종옥': 22668, '봄바람': 22669, 'ckd': 22670, '장단점': 22671, '잠실운동장': 22672, '순화': 22673, '오빌': 22674, '헤리': 22675, '뒷전': 22676, '이인철': 22677, '게임중독': 22678, '부터의': 22679, '샛별': 22680, '찍기': 22681, 'hsbc': 22682, '끝물': 22683, '강정': 22684, '신천': 22685, '애독자': 22686, '싸잡다': 22687, '이성일': 22688, '면직': 22689, '임수경': 22690, '잣': 22691, '감옥': 22692, '사리': 22693, '사욕': 22694, '통감': 22695, '최용': 22696, '절단': 22697, '재범': 22698, '전자발찌': 22699, '보호관찰': 22700, '들끓다': 22701, '김형렬': 22702, '정일영': 22703, '설왕설래': 22704, 'fund': 22705, '보노': 22706, '완창': 22707, '기행': 22708, '청어': 22709, '무용가': 22710, '피우지': 22711, '격분': 22712, '박선숙': 22713, '등용문': 22714, '퇴색': 22715, '재보궐선거': 22716, '팔다리': 22717, '주창': 22718, '사망설': 22719, '뺨친': 22720, '하석주': 22721, '독산': 22722, '코리아세븐': 22723, '수요집회': 22724, '맞대다': 22725, '동복': 22726, '주종': 22727, '브로': 22728, '음행': 22729, '음해': 22730, '무사도': 22731, '여진': 22732, '옹졸하다': 22733, '후의': 22734, '조호현': 22735, '박동호': 22736, '박종안': 22737, '특성화고': 22738, '야전병원': 22739, '핼릿': 22740, '루비콘': 22741, '역사관': 22742, '랑케': 22743, '스탈린': 22744, '서슴지': 22745, '통틀어': 22746, '경종': 22747, '가관': 22748, '파킹존': 22749, '모범생': 22750, '희': 22751, '인디애나대': 22752, '통합신당': 22753, '여상규': 22754, '추석': 22755, '아홉': 22756, '모시': 22757, '풍물': 22758, '대체요법': 22759, '찾아다니다': 22760, '콩팥': 22761, '미적': 22762, '음회': 22763, '앰': 22764, '배서': 22765, '제조법': 22766, 'dark': 22767, '씨등': 22768, '관보': 22769, '지구인': 22770, '교비': 22771, '부칙': 22772, '강동대': 22773, '한미연합사': 22774, '정종숙': 22775, '정지영': 22776, '태호': 22777, '지웅': 22778, '박명숙': 22779, '복지국가': 22780, '정우식': 22781, '백혜숙': 22782, '김상민': 22783, '어민': 22784, '박은수': 22785, '최회용': 22786, '이상미': 22787, '김나연': 22788, 'pnr': 22789, '김현주': 22790, '열애': 22791, '무도': 22792, '공군본부': 22793, '응찰액': 22794, '선점해': 22795, '이정호': 22796, '총탄': 22797, '남북한': 22798, '현주': 22799, 'anchor': 22800, '갈맷길': 22801, '불패': 22802, '박진우': 22803, '장평동': 22804, '여행안내서': 22805, '홍역': 22806, '프로비던스': 22807, '필립스': 22808, '발명': 22809, '배경훈': 22810, '박종필': 22811, '손품': 22812, '문정역': 22813, '필명': 22814, '도인': 22815, '박영석': 22816, '우군': 22817, '김신배': 22818, '정갑영': 22819, '일해': 22820, '오쿤': 22821, '쑥대밭': 22822, '봉남': 22823, '맹비': 22824, '카셰어링': 22825, '연예기획사': 22826, 'edm': 22827, '갓세븐': 22828, 'got': 22829, '위시': 22830, 'dream': 22831, 'wehago': 22832, '오클라호마주': 22833, '전도사': 22834, '대방동': 22835, '휘경': 22836, 'sgti': 22837, 'flex': 22838, '떡볶이': 22839, '안경점': 22840, '순인': 22841, '파이낸스': 22842, '싱': 22843, '파랗다': 22844, '쫓아내다': 22845, '쟁이': 22846, '대필': 22847, 'ng': 22848, '불똥': 22849, '공산품': 22850, '연석': 22851, '심증': 22852, '유년': 22853, '아버님': 22854, '송출하': 22855, '세면대': 22856, '도룡동': 22857, '밀려오다': 22858, '범어동': 22859, '범어': 22860, '이수빈': 22861, '예림당': 22862, '담대하다': 22863, '친노': 22864, '조급하다': 22865, '부러지다': 22866, '아저씨': 22867, '원빈': 22868, '오세인': 22869, '사먹다': 22870, 'dct': 22871, '부스터': 22872, 'rpm': 22873, '엑센트': 22874, '배기량': 22875, '팝콘': 22876, '튀기다': 22877, '김재우': 22878, 'sbi': 22879, '강신호': 22880, '부부싸움': 22881, '잠버릇': 22882, '쿠첸': 22883, '밥맛': 22884, '아이작': 22885, '헌팅': 22886, '뭄바이': 22887, '한철수': 22888, '주량': 22889, '몰래카메라': 22890, '탈의': 22891, '초딩': 22892, '급파': 22893, '중소도시': 22894, '구태': 22895, '으로부터의': 22896, '조지아주': 22897, '달팽이': 22898, '말고기': 22899, '라포': 22900, '개고기': 22901, '동물보호': 22902, '문화상': 22903, '황소': 22904, '봉지': 22905, '비위생적': 22906, '비등': 22907, '야생': 22908, '흐려지다': 22909, '난무': 22910, '군립': 22911, '땡큐': 22912, 'win': 22913, '주저앉다': 22914, '원적': 22915, '순산': 22916, '자평': 22917, '반성은': 22918, '대장정': 22919, '체다': 22920, '인덕션': 22921, '노치': 22922, '광각': 22923, '나훔': 22924, '날선': 22925, '비외감': 22926, 'sciplay': 22927, '이동면': 22928, '프로세싱': 22929, 'fpd': 22930, '이동우': 22931, 'odyssey': 22932, '란드': 22933, 'comfort': 22934, '응답속도': 22935, 'sync': 22936, 'compatible': 22937, '후면': 22938, '문란': 22939, '아침밥': 22940, '코앞': 22941, '사그라지다': 22942, '인증샷': 22943, '모먼트': 22944, '꽃꽂이': 22945, '생김새': 22946, '토익': 22947, '홍채': 22948, '서일': 22949, '비밀요원': 22950, '강성수': 22951, '최원진': 22952, '인슈': 22953, '예언': 22954, '김부선': 22955, '황준호': 22956, '한승헌': 22957, '계략': 22958, 'wall': 22959, '돌변': 22960, '횡': 22961, '알렉산드르': 22962, '주니': 22963, '녹록': 22964, '단교': 22965, '메콩강': 22966, '큐셀': 22967, '신용협동조합': 22968, '대형화': 22969, '독과점': 22970, '유대': 22971, '윤호중': 22972, '외무부': 22973, 'rfi': 22974, '니콜라스': 22975, '변국': 22976, '설령': 22977, '김효진': 22978, '통용': 22979, 'kc': 22980, 'kiep': 22981, '사관생도': 22982, '성덕': 22983, '우만': 22984, 'gsx': 22985, '김은별': 22986, '빈축': 22987, '물고기': 22988, '와우': 22989, '서바이벌': 22990, '기프트카드': 22991, '조달청': 22992, '갈비탕': 22993, '추어탕': 22994, '제격': 22995, '밥물': 22996, '솥': 22997, '주걱': 22998, 'sgs': 22999, '고간': 23000, '외길': 23001, '랜드로버': 23002, '오프로드': 23003, '인텔리전트': 23004, 'hse': 23005, '참관': 23006, '일순간': 23007, '김정화': 23008, '조사부장': 23009, '운서동': 23010, '백조': 23011, '문수': 23012, 'ipark': 23013, '서북구': 23014, '장동': 23015, '석동': 23016, '대정읍': 23017, '명총': 23018, '대신고': 23019, '화성탐사': 23020, 'casc': 23021, '창정': 23022, '로버': 23023, '영변': 23024, '냉각탑': 23025, '계리': 23026, '흩날리다': 23027, '다분하다': 23028, '김보경': 23029, '기다림': 23030, '멜라': 23031, '아르': 23032, '정대진': 23033, '순하다': 23034, '불검': 23035, '포름알데히드': 23036, '향료': 23037, '사탕수수': 23038, '켈러': 23039, '청부': 23040, '택시법': 23041, '방카슈랑스': 23042, '블링블링': 23043, '레시': 23044, '데싱': 23045, '디바': 23046, '렉시': 23047, '재질': 23048, '리우': 23049, '김지희': 23050, '비철금속': 23051, '환가': 23052, '이촌': 23053, '법도': 23054, '금실': 23055, '젤리': 23056, '애프터눈': 23057, '모모': 23058, '레코드': 23059, '드먼': 23060, '고원': 23061, 'irna': 23062, '판박이': 23063, '함진규': 23064, '최윤희': 23065, '남양': 23066, '유제훈': 23067, 'prr': 23068, '서정희': 23069, '논밭': 23070, '왕년': 23071, '김병조': 23072, '사나': 23073, '권양숙': 23074, '았던': 23075, '과보': 23076, '힐러리': 23077, 'hw': 23078, '우르르': 23079, '원색': 23080, '자행': 23081, '카존': 23082, '랜': 23083, '허구': 23084, '장효': 23085, '쑥쑥': 23086, '접사': 23087, '웹서핑': 23088, '포시': 23089, '출국금지': 23090, '머뭇거리다': 23091, '하루아침': 23092, '태평': 23093, '폭행죄': 23094, '진미': 23095, '송승윤': 23096, '현행범': 23097, '입단': 23098, '테티스': 23099, '관습': 23100, '고추냉이': 23101, '잠룡': 23102, '부초': 23103, '올림픽대로': 23104, '이인': 23105, '작성자': 23106, '담담하다': 23107, '옥중': 23108, '유관순': 23109, '옥계': 23110, '상아': 23111, '스타즈': 23112, '아야톨라': 23113, '민병대': 23114, '무상교육': 23115, 'vkospi': 23116, '성유': 23117, '화원': 23118, '스쿨존': 23119, '걸프만': 23120, '분당선': 23121, '철도노선': 23122, '전농동': 23123, '대창': 23124, '콘탱': 23125, '래커': 23126, 'minutes': 23127, '수심': 23128, '스마트워치': 23129, '답장': 23130, '동기부여': 23131, '교도': 23132, '호주인': 23133, 'bps': 23134, '피차': 23135, '박진희': 23136, '흡착': 23137, '지코': 23138, '볼스크류': 23139, '무니': 23140, '가연성': 23141, '유증기': 23142, '시저스': 23143, '말라리아': 23144, '양돈': 23145, '대광고': 23146, '지겹다': 23147, '질문서': 23148, '칼날': 23149, '윰댕': 23150, '코마롬': 23151, '이성권': 23152, '스타벅스커피': 23153, '유효사거리': 23154, '뒤틀다': 23155, '일직선': 23156, '자급자족': 23157, '킬로미터': 23158, '박종렬': 23159, '토픽스지수': 23160, '탑스': 23161, '모공': 23162, '비영리': 23163, '편안': 23164, '퉁퉁': 23165, '가라앉히다': 23166, '클렌저': 23167, '올레': 23168, '경산시': 23169, '매스': 23170, '지린시': 23171, '조선족': 23172, '격랑': 23173, '권고사직': 23174, '혈구': 23175, '미시간': 23176, '실용주의': 23177, '접착제': 23178, '동족': 23179, '위업': 23180, '참패': 23181, '김칫국': 23182, '결사': 23183, '정족수': 23184, '리커창': 23185, '바운드': 23186, '걸프전': 23187, '플랫': 23188, '상조': 23189, '영자': 23190, '산입': 23191, '소스류': 23192, '바게뜨': 23193, '에그슬럿': 23194, '샌드팜': 23195, '출시일': 23196, '문갑': 23197, '심은주': 23198, '릴': 23199, '영웅문': 23200, 'isa': 23201, '피나': 23202, '칠성사': 23203, '복숭아': 23204, '청귤': 23205, '설상가상': 23206, '요사': 23207, '몰드': 23208, '넥센': 23209, 'qfn': 23210, '한동대': 23211, '임기응변': 23212, '현충일': 23213, '힐즈': 23214, '군산시': 23215, '프랜': 23216, '밀양': 23217, '잠수': 23218, '상하이시': 23219, '김기문': 23220, '상계동': 23221, '시흥동': 23222, '암사동': 23223, '접경': 23224, 'jv': 23225, '거수기': 23226, '점령': 23227, '강형욱': 23228, '맹견': 23229, '레이크': 23230, '신천동': 23231, '한빛': 23232, '나사': 23233, '맹세': 23234, '낸시': 23235, '커피전문점': 23236, '롯데리아': 23237, '의외': 23238, '웰크론한텍': 23239, '유아기': 23240, '장형': 23241, 'barrier': 23242, '소시지': 23243, '중경': 23244, '브라이언': 23245, '빈국': 23246, '부킹': 23247, '리워즈': 23248, '김인철': 23249, '수산업': 23250, '라티': 23251, '사가다': 23252, '분구': 23253, '생산력': 23254, '다져지다': 23255, '혈뇌장벽': 23256, '업유': 23257, '안규백': 23258, '안치': 23259, '우뚝': 23260, '마윈': 23261, '후경': 23262, '수이': 23263, '스마타': 23264, '대폭발': 23265, '디앤유': 23266, '청호컴넷': 23267, '고종': 23268, '박승봉': 23269, 'carbon': 23270, '용해': 23271, '매해': 23272, 'server': 23273, '장안구': 23274, '선거인단': 23275, '셜록홈즈': 23276, '미스터리': 23277, '미혼모': 23278, '위등': 23279, '이서영': 23280, '이민규': 23281, '벽두': 23282, '정경태': 23283, '김성수': 23284, '서동원': 23285, '절세': 23286, '점등': 23287, '습지': 23288, '우주인': 23289, '박우훈': 23290, '교단': 23291, '개신교': 23292, '제과점': 23293, '국제화': 23294, '벌교': 23295, '슈펙스비앤피': 23296, '월명': 23297, '평화통일': 23298, '장학재단': 23299, '김선엽': 23300, '로잔': 23301, '최문순': 23302, '꽝응': 23303, '제도로': 23304, '코리보': 23305, '도려내다': 23306, '안우': 23307, '이동관': 23308, '산케이신문': 23309, '니시다': 23310, '사쿠라': 23311, '너무나도': 23312, '코일': 23313, '초연': 23314, '탁록': 23315, '북링': 23316, '야영': 23317, '웨이신': 23318, '유천': 23319, '동계올림픽': 23320, '조평통': 23321, '도끼': 23322, '만행': 23323, '루스임페디먼트': 23324, '고이': 23325, '홋카이도': 23326, '방일': 23327, '이윤애': 23328, '김동관': 23329, '시로': 23330, '플라이급': 23331, '챔프': 23332, '생피에르': 23333, '하동군': 23334, '이홍규': 23335, '첸나이': 23336, '고홍주': 23337, '선위': 23338, '명연': 23339, '뉴스레터': 23340, '류준열': 23341, '삼척시': 23342, '해해경': 23343, '충남도지사': 23344, '초사': 23345, 'depression': 23346, '딜로': 23347, '위노': 23348, '사회주의': 23349, '서린': 23350, '백지현': 23351, '원샷': 23352, '트레이닝복': 23353, '라진': 23354, '엔텔스': 23355, '반실': 23356, '박용하': 23357, '나프타': 23358, '막심': 23359, '누진': 23360, '석등': 23361, '청실': 23362, '줌인터넷': 23363, 'arirang': 23364, '심천': 23365, '중국본토': 23366, '가공업': 23367, '부소': 23368, '감류': 23369, '감귤': 23370, '한라봉': 23371, '천혜향': 23372, '얼텍': 23373, '남악': 23374, '오텍': 23375, '지독하다': 23376, '틀어박히다': 23377, '리어왕': 23378, '극작가': 23379, '조연': 23380, 'spanish': 23381, 'flu': 23382, '내시': 23383, '피렌체': 23384, '데카메론': 23385, '박찬범': 23386, '스티브': 23387, 'tube': 23388, 'amyloid': 23389, 'tau': 23390, 'proteins': 23391, '캐스팅': 23392, '민규동': 23393, '김의석': 23394, '노덕': 23395, '안국진': 23396, '오기환': 23397, '장철수': 23398, '한가람': 23399, '견지하': 23400, '떠밀다': 23401, '창녕군': 23402, '입법부': 23403, '에스오일': 23404, '광열': 23405, '해서웨이': 23406, '스털러드': 23407, '안지훈': 23408, '군별': 23409, '베이비샤워': 23410, '부케': 23411, '이상익': 23412, '군정': 23413, '강민국': 23414, '현영은': 23415, '화장지': 23416, '랭커': 23417, '우승하다': 23418, '하타': 23419, '오카': 23420, '버파': 23421, '바주카': 23422, '원판': 23423, '타살': 23424, '앙심': 23425, '단언': 23426, '닝': 23427, '자안': 23428, '홍정욱': 23429, '우정연': 23430, '피정': 23431, '장세욱': 23432, '정왕동': 23433, '코텍': 23434, '소병철': 23435, '검소': 23436, '이영기': 23437, '왕도': 23438, '갯벌': 23439, '함성': 23440, '한궈위': 23441, '화순': 23442, 'ncc': 23443, '쾌속': 23444, '과속': 23445, '노령화': 23446, '장안동': 23447, '약력': 23448, '글쓰기': 23449, '리턴즈': 23450, '상주시': 23451, '기프트': 23452, '면행': 23453, '파이팅': 23454, '혈안': 23455, '꼬리': 23456, '절기': 23457, '시행일': 23458, '개기일식': 23459, '부분일식': 23460, '담뱃갑': 23461, 'irb': 23462, '넥신': 23463, '닥치고': 23464, '난감': 23465, '반덤핑': 23466, '우수수': 23467, '쇠고기': 23468, '총사': 23469, '이규원': 23470, '세바스찬': 23471, 'iss': 23472, 'wrap': 23473, '무소': 23474, '불위': 23475, 'atsc': 23476, '아듀': 23477, 'asci': 23478, '당왕동': 23479, '산계': 23480, '택일': 23481, '중간자': 23482, '경일': 23483, '우원식': 23484, '인재근': 23485, 'arpu': 23486, '김유경': 23487, 'sin': 23488, '라디안': 23489, '방선기': 23490, '년경': 23491, '뱅크런': 23492, '거짓말쟁이': 23493, '튜버': 23494, '마스터즈': 23495, '오포읍': 23496, 'boktafu': 23497, '서클': 23498, '미트': 23499, '장지동': 23500, '크랙': 23501, '맹주': 23502, '딕스': 23503, '이글스': 23504, '부당이득': 23505, '황우석': 23506, '개연': 23507, '스우': 23508, '정석원': 23509, '한상혁': 23510, '콕핏': 23511, '꺼내드': 23512, '일분': 23513, '삼십삼분': 23514, '취합해': 23515, '쿤스': 23516, '테마섹': 23517, '방배동': 23518, '형도': 23519, '둘러싸이다': 23520, '조바심': 23521, '경인여대': 23522, '김명환': 23523, '프로톡스': 23524, 'kifa': 23525, '원적외선': 23526, '합불': 23527, '교유': 23528, '에어택시': 23529, '뚱뚱하다': 23530, '수형': 23531, '뭉클': 23532, '이성': 23533, '피부색': 23534, 'burn': 23535, '뉴클레오티드': 23536, '하절': 23537, '홍대입구역': 23538, '동안구': 23539, '호계동': 23540, '경수대로': 23541, '북방': 23542, '코보': 23543, '팬젠': 23544, 'bujane': 23545, '슬래시': 23546, '눈애': 23547, '안경원': 23548, '이집': 23549, 'lbs': 23550, '세시': 23551, '리메': 23552, '극기': 23553, 'tms': 23554, '까스텔바작': 23555, '카를': 23556, '라텍스': 23557, '보광동': 23558, 'kbi': 23559, '윤달': 23560, '티맥스소프트': 23561, 'lgcns': 23562, 'vm': 23563, 'nipa': 23564, 'aiops': 23565, 'dbpm': 23566, '게이지': 23567, '오라클': 23568, 'xrp': 23569, '알터네티브': 23570, 'cgvoci': 23571, '판검사': 23572, '레피니티브': 23573, '재산가': 23574, '김현준': 23575, 'btt': 23576, '임상시험수탁기관': 23577, '서유기': 23578, 'volatility': 23579, 'fear': 23580, 'greed': 23581, '푸네': 23582, '신더': 23583, '스트리머': 23584, 'alt': 23585, '정맥주사': 23586, '제어장치': 23587, '이경백': 23588, '겨울비': 23589, '폭망': 23590, '죄명': 23591, '오메': 23592, '용호동': 23593, '염태순': 23594, '오페': 23595, 'cmts': 23596, '원광연': 23597, '랄록': 23598, 'tbps': 23599, 'potn': 23600, '맥진': 23601, '특명': 23602, '팔복': 23603, '펭': 23604, '녹농균': 23605, '디노': 23606, '의과': 23607, '로조': 23608, '행복도시': 23609, 'ufcw': 23610, '도축': 23611, '중부내륙': 23612, '초여름': 23613, 'mahar': 23614, 'shwe': 23615, '아이두': 23616, 'xs': 23617, '리막': 23618, 'ads': 23619, '부잣집': 23620, '네이처리퍼블릭': 23621, '여름방학': 23622, '신구': 23623, '메뉴판': 23624, '이영학': 23625, 'oic': 23626, '개월전': 23627, '별책': 23628, '지족동': 23629, '감리교회': 23630, '송촌동': 23631, '무명': 23632, '슛': 23633, 'ns': 23634, 'sb': 23635, 'station': 23636, 'break': 23637, '쇼호': 23638, '스트로': 23639, '판교신도시': 23640, '덕계동': 23641, '생태도시': 23642, '프로즌': 23643, '키드': 23644, '테일': 23645, '메리노': 23646, '대시': 23647, '서스펜션': 23648, '디퍼렌셜': 23649, '액세스': 23650, '하만카돈': 23651, '앰비언트': 23652, '수송기': 23653, '집적회로': 23654, '모피': 23655, '코스모': 23656, '디피': 23657, '퇴출위기': 23658, '눌려': 23659, '소기': 23660, '부안': 23661, '불로소득': 23662, '김경만': 23663, '노웅래': 23664, '오영환': 23665, '심교': 23666, '송인': 23667, '초가삼간': 23668, '이상기': 23669, '염려': 23670, '돌하르방': 23671, '퀵': 23672, '담하다': 23673, '류광열': 23674, '중견련': 23675, '인신': 23676, 'srpg': 23677, '삼국지': 23678, '조전': 23679, '넷이즈': 23680, '팜플': 23681, '체스': 23682, '만발': 23683, '젠도': 23684, '안사면': 23685, '절때': 23686, '김주희': 23687, '싸인': 23688, '린앤': 23689, '고담': 23690, 'etching': 23691, '팹공정': 23692, '팹업체': 23693, '알루미나': 23694, '잉곳': 23695, 'coast': 23696, 'quartz': 23697, '선다형': 23698, 'shenzhen': 23699, 'mifei': 23700, 'limitied': 23701, '내염': 23702, '후낭': 23703, '시각장애': 23704, '노안': 23705, '빛번짐': 23706, '본안': 23707, '맞소송': 23708, '이진화': 23709, '쟁송': 23710, '호준': 23711, '송사': 23712, '소모전': 23713, '귀중하다': 23714, '완판할': 23715, '핫팩': 23716, '덤블링': 23717, '안감': 23718, '리버시': 23719, '배자': 23720, '머리핀': 23721, '노리개': 23722, '찬슬': 23723, '이공주': 23724, '펫펨족': 23725, '만둣국': 23726, '족두리': 23727, '쥐띠해': 23728, '돤다': 23729, '레노보': 23730, '히타치': 23731, '레드햇': 23732, '제니퍼소프트': 23733, 'knl': 23734, '펜타시큐리티': 23735, '한주': 23736, '오슈': 23737, '티컬': 23738, 'dermicos': 23739, 'fibroblast': 23740, '보툴리늄': 23741, '오설록': 23742, '꽃잎': 23743, '머그컵': 23744, 'sedan': 23745, '리세스': 23746, 'mercedes': 23747, '커넥티브': 23748, '베개': 23749, '반영은': 23750, '덧붙이기': 23751, '올리버': 23752, '집세': 23753, '및맥점': 23754, '이주원': 23755, '자타공인': 23756, '댓': 23757, '국밥': 23758, '금릉역': 23759, '차움': 23760, '화강암': 23761, '콩류': 23762, '살코기': 23763, '알록달록하다': 23764, '칼슘': 23765, '브라질너트': 23766, '메스꺼움': 23767, 'ccss': 23768, '어닐링': 23769, '이봉': 23770, 'ricoh': 23771, '화각': 23772, '뷰파인더': 23773, '조리개': 23774, 'plm': 23775, '티드': 23776, '리즈톡스': 23777, '회제': 23778, '필외': 23779, '볼라': 23780, '장제': 23781, '텍스터': 23782, '물때': 23783, '보너스': 23784, 'beside': 23785, '아두': 23786, '아웃룩': 23787, '법제': 23788, 'sdgs': 23789, '코바코': 23790, 'mcr': 23791, 'fair': 23792, '월드잡': 23793, '훈님': 23794, 'bardot': 23795, '다크니스': 23796, '코코아': 23797, '권소현': 23798, '외양간': 23799, '응방': 23800, '군말': 23801, '뜬구름': 23802, '옛말': 23803, '이종욱': 23804, '신하': 23805, '버스터': 23806, '탁월': 23807, '비뇨기계': 23808, '림프절': 23809, '발기': 23810, '파내다': 23811, '브라이튼': 23812, '신영은': 23813, '김태섭': 23814, 'flodable': 23815, '신현지': 23816, '교육방송': 23817, '메트라이프': 23818, 'deposit': 23819, 'facility': 23820, '익일물': 23821, '레피': 23822, 'mros': 23823, 'ffr': 23824, 'rba': 23825, 'financing': 23826, '총공급': 23827, '야콥': 23828, '할그렌': 23829, 'stifel': 23830, '트리즈': 23831, '리플리': 23832, '아론스': 23833, '로우스': 23834, '스티펠': 23835, '동차': 23836, '탈북': 23837, 'maturity': 23838, 'model': 23839, 'integration': 23840, '카네기멜론': 23841, 'sei': 23842, '국방성': 23843, '전사적자원관리': 23844, '텐': 23845, '윈백': 23846, 'foex': 23847, '밸런싱': 23848, 'cnplus': 23849, '행복여행': 23850, '신성철': 23851, '부산관광공사': 23852, '어성초': 23853, '앰플형': 23854, '롬앤': 23855, '라쿠텐': 23856, '김승범': 23857, '씨너스': 23858, '영관': 23859, 'offline': 23860, '로드숍': 23861, '악조건': 23862, '피즈': 23863, 'jsny': 23864, '일꼬르소': 23865, '수선': 23866, '용봉점': 23867, 'ifpi': 23868, '슈퍼스타': 23869, '스타인': 23870, '그래미': 23871, 'snl': 23872, '테일러': 23873, '스위프트': 23874, '시런': 23875, '말론': 23876, '아리아나': 23877, '드레이크': 23878, '비틀스': 23879, '끝었': 23880, 'mti': 23881, '요식업': 23882, 'ericsson': 23883, 'nokia': 23884, 'sprint': 23885, 'softbank': 23886, '슈란': 23887, 'exciting': 23888, 'changes': 23889, 'nvh': 23890, 'noise': 23891, 'vibration': 23892, 'harshness': 23893, '액슬': 23894, '홍가혜': 23895, '이노톡스': 23896, '코어톡스': 23897, '쪽지': 23898, 'much': 23899, '아리송하다': 23900, '재무상태표': 23901, '자본변동표': 23902, '현금흐름표': 23903, '나열': 23904, '인색하다': 23905, '알아차리다': 23906, '듭': 23907, '문법': 23908, '융통성': 23909, '친숙해지다': 23910, '캐스': 23911, 'grel': 23912, 'mqi': 23913, '안병훈': 23914, '윤환': 23915, '박정웅': 23916, '이숭규': 23917, '황태': 23918, '이승규': 23919, '이희재': 23920, '회분': 23921, '송지영': 23922, '박연': 23923, '이진환': 23924, '최병준': 23925, '교육대학': 23926, '조용찬': 23927, '김호성': 23928, '아리': 23929, '퇴조': 23930, '트릴': 23931, '냉전시대': 23932, '동북아시아': 23933, '인정전': 23934, '농림축산검역본부': 23935, 'hpai': 23936, '칠면조': 23937, '브루셀라병': 23938, '뉴캣슬병': 23939, '만성소모성질병': 23940, '광견병': 23941, '일본뇌염': 23942, 'oei': 23943, '박봉': 23944, 'nephron': 23945, '분쇄': 23946, 'lar': 23947, '리벨롭': 23948, '일조해': 23949, 're': 23950, 'reduce': 23951, 'replace': 23952, 'redesign': 23953, 'reuse': 23954, 'recycle': 23955, '하수도': 23956, '미화': 23957, '때일': 23958, '칠레': 23959, '적시성': 23960, 'tims': 23961, 'taewoong': 23962, 'integrated': 23963, 'idb': 23964, 'nafin': 23965, 'bancomext': 23966, 'kpas': 23967, 'ipf': 23968, 'innorate': 23969, '비씨카드': 23970, '국민임대': 23971, '방시': 23972, '어불성설': 23973, '권오훈': 23974, '킴스': 23975, '팅크웨어': 23976, '직격타': 23977, '솔솔': 23978, '정저우': 23979, '연기설': 23980, '밍치': 23981, '염종': 23982, '피라미드': 23983, '방편': 23984, '동철': 23985, '신인식': 23986, 'ncsc': 23987, '다중화': 23988, 'soar': 23989, '케스트': 23990, '오늘밤': 23991, '찌리': 23992, '응축': 23993, '에뮬레이터': 23994, '박용현': 23995, '색색': 23996, '거북이': 23997, '윤세아': 23998, '우릴': 23999, '카디프': 24000, '김서형': 24001, '난후': 24002, '한동근': 24003, '엠투엠': 24004, '끌로': 24005, '제이콥': 24006, '에트': 24007, '화석연료': 24008, '광역지방자치단체': 24009, '생업': 24010, '효도': 24011, '국가책임': 24012, '식민지': 24013, '큰절': 24014, '어버이': 24015, '카네이션': 24016, '포스팅': 24017, 'chro': 24018, '마사회': 24019, '온택트': 24020, '경마': 24021, '온택트란': 24022, '참가인': 24023, '환종': 24024, '이상현': 24025, '이삿짐': 24026, '방범': 24027, '바이오메트릭스': 24028, 'qrng': 24029, '자주포': 24030, '현무': 24031, '천궁': 24032, '현궁': 24033, '비궁': 24034, '무기체계': 24035, '재취': 24036, '삽시간': 24037, '조공': 24038, '노소': 24039, '탄산음료': 24040, '노란색': 24041, '썸머': 24042, '대체어': 24043, '대중문화': 24044, '어깨동무': 24045, '스포츠인': 24046, '포옹': 24047, '구설수': 24048, '소용없다': 24049, '스토퍼': 24050, '점착': 24051, '되돌아오다': 24052, 'krm': 24053, 'ri': 24054, '잠금장치': 24055, '결합부': 24056, 'qx': 24057, '추진제': 24058, '불규칙하다': 24059, '인디언': 24060, '이륜': 24061, '국통': 24062, '쎄노텍': 24063, '할아버지': 24064, '유적': 24065, '극장판': 24066, '유즈': 24067, 'osmu': 24068, '장창': 24069, '계산기': 24070, '권순용': 24071, '외과의': 24072, '뇌동': 24073, '난도': 24074, '천례': 24075, '응급치료': 24076, '노인환': 24077, '분초': 24078, '집중치료실': 24079, 'stroke': 24080, '밤낮': 24081, 'wallavu': 24082, 'tpo': 24083, '편그': 24084, '페리페라': 24085, '에어리': 24086, '투쿨': 24087, '블러셔': 24088, '에스쁘': 24089, '입생로랑': 24090, '베르': 24091, '레브르': 24092, '통통': 24093, '테라바다': 24094, 'fune': 24095, '홍진영': 24096, '재효': 24097, '블락비': 24098, '매튜': 24099, '제작발표회': 24100, '바르킨': 24101, 'alone': 24102, 'shoulder': 24103, 'resposibility': 24104, 'stable': 24105, '수하일': 24106, '라즈': 24107, '마즈': 24108, '전운': 24109, '옵티': 24110, 'kisco': 24111, '팅용': 24112, '쌍림': 24113, '운지': 24114, '윤병규': 24115, '청청': 24116, '척척': 24117, '플라잉': 24118, '헛발질': 24119, '미치나': 24120, '열공': 24121, '은피': 24122, '조성일': 24123, '누벼': 24124, '인텔리': 24125, '종묘제례악': 24126, '전지원': 24127, '이정은': 24128, '풀타임': 24129, '임택근': 24130, '선율': 24131, '이대역': 24132, '찬열': 24133, '블라우스': 24134, '비첩촉': 24135, '홈코': 24136, '왓챠': 24137, '쿡킷': 24138, '혼술': 24139, '마시기': 24140, '야호': 24141, '의성어': 24142, '포스텍': 24143, '보제': 24144, '가안': 24145, '강유전체': 24146, '가정동': 24147, '훔치다': 24148, '윤호영': 24149, 'dot': 24150, '실린더': 24151, 'metro': 24152, 'tumbler': 24153, '데이라이트': 24154, 'daylight': 24155, '둥글둥글하다': 24156, '베버': 24157, '아그네스': 24158, '차우': 24159, '친완': 24160, '안손': 24161, '결탁': 24162, '공서': 24163, '종신형': 24164, '악법': 24165, '웨이보': 24166, '엄혹': 24167, '짊': 24168, '김광욱': 24169, '티안': 24170, '성정환': 24171, '강현지': 24172, 'sjm': 24173, '신지훈': 24174, '퍼즐게임': 24175, '악취': 24176, '분비물': 24177, '박기주': 24178, '잡아들이다': 24179, '로리': 24180, '태범': 24181, '프록시': 24182, '불완전하다': 24183, '내강': 24184, '개복': 24185, '병변': 24186, 'jnm': 24187, 'neurogastroenterology': 24188, 'motility': 24189, '파운데이션': 24190, '파인애플': 24191, 'sunshine': 24192, '영양가': 24193, '복진': 24194, '원론': 24195, 'ktcs': 24196, '하상렬': 24197, '성영': 24198, '관찰도': 24199, '가혹': 24200, '불우하다': 24201, '연민': 24202, '리베이트': 24203, '차곡차곡': 24204, '합정역': 24205, '유벤져스': 24206, '인방': 24207, '캅': 24208, '재확진': 24209, '국제연합': 24210, 'unctad': 24211, 'kfw': 24212, '진홍': 24213, '원지점': 24214, 'ebsi': 24215, '탈루혐의': 24216, '가족법': 24217, '탈루혐': 24218, '임광현': 24219, '탈루행위': 24220, 'counter': 24221, 'measure': 24222, '특가전': 24223, '사일런트': 24224, '방음': 24225, 'krk': 24226, 'arturia': 24227, '커즈와일': 24228, '라우': 24229, '카시오': 24230, '다이나톤': 24231, '우쿠': 24232, '렐레': 24233, '칼림': 24234, '악보': 24235, '카페트': 24236, '인청': 24237, '육군본부': 24238, '백마': 24239, '백석산': 24240, '공비': 24241, '잠입': 24242, '해인사': 24243, '인공호흡': 24244, 'hypoxia': 24245, '해부학': 24246, '사강': 24247, '자공고': 24248, '고다': 24249, '방학기': 24250, '합숙': 24251, '챌린저스': 24252, '플레이오프': 24253, 'jump': 24254, '수사의뢰': 24255, '품의': 24256, '배임죄': 24257, '윤리경영': 24258, '사익': 24259, '국유재산': 24260, '특별자치도': 24261, '함소': 24262, '부비동염': 24263, '귀의': 24264, '부비동': 24265, '탈진': 24266, '탈수': 24267, '배앓이': 24268, '경락': 24269, '모과차': 24270, '기력': 24271, '죽도': 24272, '스덕례': 24273, '광양시': 24274, '광양읍': 24275, '서정진': 24276, '세인트': 24277, '법무성': 24278, '마사코': 24279, '정정당당하다': 24280, '퍼뜨리': 24281, '번하다': 24282, '동석': 24283, '히로': 24284, 'fraud': 24285, '식품부': 24286, '뼛속': 24287, '무희': 24288, '전몰': 24289, '축선': 24290, '행정가': 24291, '산내': 24292, '성인병': 24293, '천차만별': 24294, '더군다나': 24295, '간사하다': 24296, '참기름': 24297, '콩기름': 24298, '넘김': 24299, '노출됏': 24300, '경제포커스': 24301, '옥스포드': 24302, 'oef': 24303, '문물': 24304, 'rdd': 24305, '진퇴양난': 24306, '별반': 24307, '알제리': 24308, '동남쪽': 24309, '비스크라': 24310, '재표': 24311, '률등': 24312, '치평': 24313, '김성곤': 24314, '풍전등화': 24315, '목불': 24316, '인견': 24317, '진흙탕': 24318, '생채기': 24319, '결별': 24320, '대충돌': 24321, '산조': 24322, '이수자': 24323, '전통음악': 24324, '블랙스트링': 24325, '후학': 24326, '음악감독': 24327, '서릿발': 24328, '삼중고': 24329, '몽니': 24330, '하곘다': 24331, '냉열': 24332, '치명상': 24333, 'jy': 24334, '찔끔': 24335, '불티': 24336, '브랜드관': 24337, '시간권': 24338, '경협': 24339, '모차르트': 24340, '페덱스': 24341, '연패': 24342, '데리다': 24343, '홍상준': 24344, '김주형': 24345, '검빨': 24346, '유니폼': 24347, '전서': 24348, '불가사리': 24349, '제설': 24350, '검정고시': 24351, '룰라': 24352, '채리나': 24353, '정호': 24354, '민박': 24355, '사병': 24356, '웹케시': 24357, '외한': 24358, '재승': 24359, '탁스': 24360, '로체스터': 24361, '아이싱': 24362, '링클': 24363, '로널드': 24364, '레이건': 24365, '무선망': 24366, 'fax': 24367, 'ddos': 24368, 'denial': 24369, 'smishing': 24370, '김준호': 24371, '비통하다': 24372, '셨': 24373, '불굴': 24374, '노환': 24375, '영결': 24376, '극동': 24377, '직기': 24378, '기항지': 24379, '샤먼': 24380, '소하르': 24381, '움카': 24382, '사르': 24383, '주바일': 24384, '아부다비': 24385, '지중해': 24386, '중앙아메리카': 24387, '묶이게': 24388, '원님': 24389, 'drb': 24390, '금새': 24391, '콧잔등': 24392, '철사': 24393, '지압법': 24394, '귓불': 24395, '음푹': 24396, '현기증': 24397, '콧방울': 24398, '혈도': 24399, '지그시': 24400, '노폐물': 24401, '때때로': 24402, '세안': 24403, '맨손체조': 24404, '푸석푸석하다': 24405, '갈라지다': 24406, '기껏': 24407, '식사량': 24408, '찌게': 24409, '비틀어지다': 24410, '식이요법': 24411, '진배': 24412, '궁합': 24413, 'gbps': 24414, '인디애나': 24415, '외진': 24416, '도하': 24417, '어떤': 24418, '하츠': 24419, '김병숙': 24420, '한림원': 24421, '권현준': 24422, '의무사': 24423, '박재민': 24424, 'sell': 24425, 'away': 24426, '김용구': 24427, '주보': 24428, '연정': 24429, '페키지': 24430, '모형자동차': 24431, '모형도': 24432, '가능케': 24433, '대쉬보드': 24434, '범퍼': 24435, 'iii': 24436, '윤활': 24437, '기유': 24438, '플랙서블': 24439, 'window': 24440, '총아': 24441, '국가경쟁력': 24442, '대야동': 24443, '계수동': 24444, '현동': 24445, '소래': 24446, '대야역': 24447, '남동구': 24448, '개찰': 24449, '센싱': 24450, 'hisilicon': 24451, 'rigid': 24452, 'os': 24453, '고비엣': 24454, 'goviet': 24455, '손킴': 24456, 'sonkim': 24457, '김밥': 24458, 'allogenic': 24459, '기성품': 24460, 'shelf': 24461, 'paul': 24462, 'song': 24463, '추린': 24464, '엑시콘': 24465, '파두': 24466, '박경미': 24467, '도즈': 24468, '자중': 24469, '신성하다': 24470, '개도': 24471, '인팩': 24472, '변전': 24473, '변압기': 24474, '차단기': 24475, '범식': 24476, '따끔하다': 24477, '배반': 24478, '월례': 24479, '내각부': 24480, '산케이': 24481, 'allset': 24482, 'uh': 24483, '튜': 24484, '중양': 24485, '김은하': 24486, 'kbiz': 24487, '시립대': 24488, '정종필': 24489, '호서대학교': 24490, '난임': 24491, '택용': 24492, '정주': 24493, '부선': 24494, '세마역': 24495, '오산대역': 24496, '물향기수목원': 24497, '오산천': 24498, '이산': 24499, '석산': 24500, 'duvetica': 24501, '인간관계': 24502, '신기원': 24503, '전교조': 24504, '온코펩': 24505, '연역': 24506, '본전': 24507, '김미정': 24508, '손창민': 24509, '부러워하다': 24510, '볼릭': 24511, '말굽': 24512, '음각': 24513, '컨트롤러': 24514, '이상엽': 24515, 'fca': 24516, 'bca': 24517, '운행중단': 24518, 'vd': 24519, '온양': 24520, '미착': 24521, '흡연실': 24522, '폐쇄하': 24523, '인멸': 24524, '묘연하다': 24525, '하루속히': 24526, '좇': 24527, '트레이너': 24528, '박석': 24529, '누증': 24530, '에가': 24531, '불우': 24532, '사훈': 24533, '디연': 24534, '보육기': 24535, '앤로': 24536, '오경준': 24537, '먹통': 24538, '지지난': 24539, '갑작스레': 24540, '연신내': 24541, '유통량': 24542, '일판': 24543, '인차': 24544, '채상욱': 24545, '진민호': 24546, '원주의료원': 24547, '숙희': 24548, '정순': 24549, '미경': 24550, '이광우': 24551, '깨끗해지다': 24552, '부지역': 24553, 'epd': 24554, '탄소발자국': 24555, '양조': 24556, '카라멜': 24557, '블루베리': 24558, '아몬드': 24559, '꼬끄': 24560, '다이스': 24561, '카페나': 24562, '가톨릭대': 24563, '진찰': 24564, '회진': 24565, '의상': 24566, 'weverse': 24567, '위버스숍': 24568, 'sweat': 24569, 'tears': 24570, '로그물량': 24571, '퀸즈파크': 24572, '여천역': 24573, '여수엑스포역': 24574, '소호대': 24575, '금선호': 24576, 'momentum': 24577, '웨더': 24578, '햄': 24579, '올리고당': 24580, '천일염': 24581, '통후추': 24582, 'gfs': 24583, '쉐퍼': 24584, 'schafer': 24585, '기름기': 24586, '앞다리': 24587, '찰떡': 24588, '절편': 24589, '박순애': 24590, '조청': 24591, '단호박': 24592, '보자기': 24593, '상차림': 24594, '찹쌀': 24595, '애완묘': 24596, '부서지다': 24597, '윤헌주': 24598, '농성': 24599, '건어물': 24600, '호떡': 24601, '군사시설': 24602, '쩜상': 24603, '집시': 24604, '보통신': 24605, '김민선': 24606, 'kctc': 24607, '잘되지': 24608, '자퇴': 24609, '열대야': 24610, '옥탑방': 24611, '지하방': 24612, '증장': 24613, '임학': 24614, '너그럽다': 24615, '리걸': 24616, '임관식': 24617, '병장': 24618, '여군': 24619, '저명': 24620, '우등상': 24621, '소령': 24622, '국수호': 24623, '전투원': 24624, '베레모': 24625, '드높이다': 24626, '카자흐': 24627, '중국공산당': 24628, '공중위생': 24629, '세르비아': 24630, '안정공': 24631, '타미플루': 24632, '표창원': 24633, '깨뜨리다': 24634, '보호수': 24635, '연고': 24636, '가정위탁': 24637, '잠옷': 24638, '멍': 24639, '훈육': 24640, '차월': 24641, '콜마': 24642, '퀸스': 24643, '구미영': 24644, '익머': 24645, 'valueline': 24646, 'intro': 24647, '장순': 24648, '판매승인': 24649, '뭐라다': 24650, '코프라': 24651, '슈피': 24652, '겐코': 24653, 'isc': 24654, '세조': 24655, '쌈채': 24656, '미셸': 24657, '시금치': 24658, '양배추': 24659, '강달호': 24660, '감영': 24661, '부적절': 24662, '잇츠한불': 24663, '렸다': 24664, '트립': 24665, '씨트립': 24666, '마르케스': 24667, '스테판': 24668, '뢰벤': 24669, '페드로': 24670, '산체스': 24671, '아지': 24672, '리투아니아': 24673, '아흐메드': 24674, '보리소프': 24675, '불가리아': 24676, '번꼴': 24677, '윤재관': 24678, '아웅산': 24679, '라칫': 24680, '볼키': 24681, '마키': 24682, '세네갈': 24683, '알라': 24684, '코트디부아르': 24685, 'skin': 24686, 'guard': 24687, '대사작용': 24688, '에게서만': 24689, '양지': 24690, '간세포': 24691, '생활습관병': 24692, '울렁거리다': 24693, '오심': 24694, '황달': 24695, '대사성': 24696, '생체검사': 24697, '경사면': 24698, '급경사': 24699, '활천동': 24700, 'jct': 24701, '기발하다': 24702, '싱하': 24703, '세리머니': 24704, '쌀알': 24705, '임명장': 24706, '엑스선': 24707, '회절': 24708, '효철': 24709, '조분': 24710, '옹스트롬': 24711, '자유전자': 24712, '삼합체': 24713, '선형': 24714, '팜스코': 24715, '남부선': 24716, '태화강역': 24717, '송정역': 24718, '야음': 24719, '뉴코아': 24720, '세탁실': 24721, '는다며': 24722, '방종하다': 24723, '김명중': 24724, '내겐': 24725, '얌전하다': 24726, '고무장갑': 24727, '는대요': 24728, '구나': 24729, '돈버': 24730, '잘나다': 24731, '돈버는': 24732, '엘켐텍': 24733, '김보': 24734, '이근수': 24735, '도망가다': 24736, '인멸할': 24737, '백이': 24738, '시불': 24739, '소마': 24740, '시법': 24741, '바하이': 24742, '이홍구': 24743, '식목일': 24744, '권영길': 24745, '켐트': 24746, '사조오양': 24747, '운송량': 24748, 'desk': 24749, '청중': 24750, '민혁': 24751, '프루스트': 24752, '모노드라마': 24753, '부단': 24754, '낙동강': 24755, '김준연': 24756, '딱따구리': 24757, '학창': 24758, '안성진': 24759, '스올': 24760, '반월당': 24761, '박창': 24762, '캑터': 24763, '통일로': 24764, '구축함': 24765, '허그': 24766, 'shinhan': 24767, 'toss': 24768, 'ccma': 24769, '공포물': 24770, 'institute': 24771, 'audie': 24772, 'awards': 24773, '영미권': 24774, 'plane': 24775, 'oral': 24776, '서스펜스': 24777, '구전': 24778, '영화로': 24779, '완독': 24780, '흥국': 24781, '카레': 24782, '자장면': 24783, '차일': 24784, '혼잡하다': 24785, '아쿠아리움': 24786, '남모르다': 24787, '용종': 24788, '각생': 24789, '초혼': 24790, '신접': 24791, '옥탑': 24792, '얘길': 24793, '대의기구': 24794, '보복조치': 24795, '들썩거릴': 24796, '모나미': 24797, '무당': 24798, '장정': 24799, '박일준': 24800, '정반': 24801, '학교장': 24802, 'tram': 24803, '안골': 24804, '함박': 24805, '인천고': 24806, 'sga': 24807, '동운': 24808, '나텍': 24809, '정다운': 24810, '룡': 24811, '스포일러': 24812, '그르다': 24813, '순태을': 24814, '폭생': 24815, '전전긍긍': 24816, '탄로': 24817, '악인': 24818, '성민': 24819, '슬쩍슬쩍': 24820, '추리': 24821, '작화': 24822, '카이스트': 24823, '탑트': 24824, 'kpx': 24825, '주연테크': 24826, '컨센': 24827, '추워지다': 24828, '김일구': 24829, '북반구': 24830, '나정환': 24831, '하나마이크론': 24832, 'hsr': 24833, 'laminator': 24834, 'autoclave': 24835, '밖엔': 24836, '파나소닉': 24837, 'jdi': 24838, '물량공세': 24839, 'hkc': 24840, '후난성': 24841, '김광진': 24842, '박종선': 24843, 'mea': 24844, 'membrane': 24845, 'electrode': 24846, 'assembly': 24847, '파일럿': 24848, '모헨즈': 24849, '성노예': 24850, '진선미': 24851, '디네': 24852, '에리': 24853, '유지방': 24854, '겉면': 24855, 'really': 24856, 'bounce': 24857, '스캇': 24858, '공지유': 24859, '김순구': 24860, '엘피': 24861, '소매업자': 24862, '리폼': 24863, '티레': 24864, 'beautyrest': 24865, '파트리시아': 24866, '우르': 24867, '퀴': 24868, 'patricia': 24869, 'urquiola': 24870, '눈엣가시': 24871, '극우': 24872, '눈초리': 24873, '검도': 24874, '야후': 24875, '수미': 24876, 'okta': 24877, '청대': 24878, '잠들다': 24879, '방용철': 24880, '회계감사인': 24881, '양홍': 24882, '가백현': 24883, '노대래': 24884, 'chas': 24885, 'bountra': 24886, '정등': 24887, '최영덕': 24888, '내인': 24889, '메탄': 24890, '메탄가스': 24891, '원일': 24892, '슬러지': 24893, '열원': 24894, '농법': 24895, 'ccs': 24896, '작황': 24897, '코원': 24898, '골프클럽': 24899, '설악로': 24900, '오거리': 24901, '속초우체국': 24902, '춘천지방검찰청': 24903, '속초의료원': 24904, '공설': 24905, '테니스장': 24906, '해랑': 24907, '금강대교': 24908, '속초역': 24909, '공주시장': 24910, '풀꽃': 24911, '논술': 24912, '창조력': 24913, '수행평가': 24914, '진성준': 24915, '신용카느': 24916, '정레회': 24917, '뺑소니': 24918, '인칭': 24919, '우승팀': 24920, 'talon': 24921, 'esports': 24922, 'scarz': 24923, 'axiomatic': 24924, '강팀': 24925, '랜딩': 24926, '상락': 24927, '어수선하다': 24928, '크리스찬': 24929, '헤': 24930, '전무후무': 24931, '티닙': 24932, '박태수': 24933, '코엔텍': 24934, '뽀개기': 24935, '복기': 24936, '장후': 24937, '티케': 24938, '반지원': 24939, 'parteners': 24940, '규약': 24941, '좌수': 24942, '기출': 24943, 'protection': 24944, 'host': 24945, '김창희': 24946, '가용성': 24947, '이재윤': 24948, 'capex': 24949, '상보성': 24950, '촬상': 24951, 'iphone': 24952, '퍼랩스': 24953, 'cagr': 24954, '명종': 24955, '무효표': 24956, '김준우': 24957, '짓밟혔다': 24958, 'labmon': 24959, '소취': 24960, '박종진': 24961, '발끝': 24962, '란거': 24963, '문학평론가': 24964, '몸시': 24965, '장용학': 24966, '이호철': 24967, '황석영': 24968, '손석춘': 24969, '한무숙': 24970, '조롱조롱': 24971, '작가라': 24972, '이승': 24973, '근대사': 24974, '분지': 24975, '뭣': 24976, '헤게모니': 24977, '부심': 24978, '상서': 24979, '김재규': 24980, '여순': 24981, '아리랑': 24982, '처절하다': 24983, '오기': 24984, '은연중': 24985, '메타데이터': 24986, '한재영': 24987, '한신대': 24988, '김경선': 24989, '심동섭': 24990, '강현': 24991, '학당': 24992, '국어교육': 24993, '글꼴': 24994, '최영훈': 24995, '전자인증': 24996, '부호': 24997, '폭발력': 24998, '양축': 24999, '피아트': 25000, 'igt': 25001, '파커': 25002, 'cao': 25003, '콜버그': 25004, '비스': 25005, 'kkr': 25006, 'notch': 25007, '한미관계': 25008, '신동주': 25009, '완승': 25010, '결격': 25011, '티직': 25012, '츠쿠': 25013, '폴리에스터': 25014, 'hera': 25015, 'essense': 25016, 'biome': 25017, '모사': 25018, 'synctm': 25019, '코르': 25020, '유스': 25021, '액티': 25022, '선부동': 25023, '부역': 25024, '초지역': 25025, '화랑유원지': 25026, '안산와스타디움': 25027, '용강동': 25028, '제주대학교': 25029, '직선': 25030, 'ifbc': 25031, '장안대': 25032, 'kci': 25033, 'kodisa': 25034, '스코퍼스': 25035, 'scopus': 25036, 'ssci': 25037, '일석이조': 25038, '참회': 25039, '다스리다': 25040, '굴신': 25041, '종아리뼈': 25042, '보호대': 25043, '무의식': 25044, '구부정하다': 25045, '뻐근하다': 25046, '거북목': 25047, '가뿐하다': 25048, '경추': 25049, '목뼈': 25050, '찜질': 25051, '스캐닝해': 25052, '홍일': 25053, '박진식': 25054, 'pantone': 25055, '프로토': 25056, '삼각대': 25057, '무풍': 25058, 'jbl': 25059, 'freex': 25060, 'lune': 25061, 'oa': 25062, 'reqm': 25063, '셀카': 25064, 'raon': 25065, '무드등': 25066, '충전지': 25067, '요구르트': 25068, 'family': 25069, '파산신청': 25070, '부과금': 25071, '예수교': 25072, '이남수': 25073, '완전체': 25074, '연회': 25075, '쉐프': 25076, '행담도': 25077, '휴게소': 25078, '혼인예식': 25079, '구류': 25080, '과료': 25081, '벤처스란': 25082, 'agriculture': 25083, '어벤저스': 25084, '델리스': 25085, '실온': 25086, '항고': 25087, '정성은': 25088, '게라': 25089, '출사': 25090, '김용환': 25091, 'uth': 25092, '청혜스님': 25093, '에게나': 25094, '청혜': 25095, '저절로': 25096, '대한제국': 25097, '제사': 25098, '환구단': 25099, '조명하': 25100, '소릿길': 25101, '왕가': 25102, '승원': 25103, 'stage': 25104, '견문': 25105, '국립무형유산원': 25106, '현충사': 25107, '차선호': 25108, '재료연': 25109, '김창수': 25110, '쏘이다': 25111, '머테': 25112, 'applied': 25113, '알렉스': 25114, '치솜': 25115, '의사록': 25116, '글래스고우': 25117, '사국': 25118, '속물': 25119, '삐뚤어지다': 25120, '작태': 25121, '파시스트': 25122, '폭정': 25123, '부라': 25124, '미싱': 25125, '잉': 25126, '우편함': 25127, '광장시장': 25128, '겉감': 25129, '양평동': 25130, '기초자치단체장': 25131, '이재준': 25132, '고양시장': 25133, '최용덕': 25134, '안병용': 25135, '구리시장': 25136, '김성기': 25137, '감시자': 25138, '텍트': 25139, 'acronis': 25140, 'cyber': 25141, 'url': 25142, '멀웨어': 25143, '다운타임': 25144, '페셔널': 25145, '스캐닝': 25146, '재영솔루텍': 25147, '이스코': 25148, '분조': 25149, '산부인과': 25150, '송인석': 25151, '이광식': 25152, '김은선': 25153, '체질량지수': 25154, '다태': 25155, '위산': 25156, '괄약근': 25157, 'jkms': 25158, '자궁경부': 25159, '용제': 25160, 'ghz': 25161, '대동맥': 25162, '메릴랜드': 25163, '완비': 25164, '벡': 25165, '체크박스': 25166, '라이더': 25167, '이력서': 25168, '독스': 25169, 'jpeg': 25170, 'psd': 25171, '탄현': 25172, '문산': 25173, '여성연구': 25174, '금촌동': 25175, '금화': 25176, '탄현면': 25177, '약산': 25178, '문산읍': 25179, '선유': 25180, '모험심': 25181, '이병천': 25182, '한미글로벌': 25183, '트래킹': 25184, '코디': 25185, '매직마이크': 25186, 'topdev': 25187, '앱렌서': 25188, 'inteware': 25189, '인트웨어': 25190, 'yau': 25191, 'cad': 25192, 'chesa': 25193, '제과식품': 25194, '박정아': 25195, '집대성': 25196, '김순택': 25197, '성재': 25198, '강정우': 25199, '박규원': 25200, '임찬민': 25201, '노윤': 25202, '밀고': 25203, '얼티움': 25204, 'gen': 25205, '열자': 25206, '뚜루등': 25207, 'localization': 25208, 'mapping': 25209, 'virtual': 25210, '찬반논란': 25211, '엄재영': 25212, '데드라인': 25213, '기가와트': 25214, '휘하': 25215, '개월여': 25216, '최준영': 25217, 'bga': 25218, '납땜': 25219, '셀컴': 25220, '나승': 25221, '정기회': 25222, '이기헌': 25223, '충북지방조달청': 25224, '김영재': 25225, '박진선': 25226, '이정희': 25227, '추대': 25228, '애화': 25229, '효정': 25230, 'field': 25231, '바이킹': 25232, '계육': 25233, '목살': 25234, '목심': 25235, 'fresh': 25236, '닭다리': 25237, '양념': 25238, '닭갈비': 25239, '한근': 25240, '이종수': 25241, '양우': 25242, '면시': 25243, '휴게실': 25244, '팜플렛': 25245, '청자와': 25246, '최광식': 25247, 'sus': 25248, '탐지기': 25249, '헤드셋': 25250, '그린필드': 25251, '아틱': 25252, '보냉재': 25253, '심전도': 25254, '해저케이블': 25255, '방열': 25256, '윤혁': 25257, 'upside': 25258, '교주도': 25259, '조사원': 25260, '승강기': 25261, 'retro': 25262, 'kpop': 25263, '둘둘': 25264, '다방': 25265, '쟈뎅': 25266, 'maybe': 25267, '히트송': 25268, '카세트': 25269, '게스': 25270, '최병훈': 25271, '회말': 25272, '만루홈런': 25273, 'imbc': 25274, '알톤스포츠': 25275, '호원': 25276, '덕계천': 25277, '특화단': 25278, '실버': 25279, '상하좌우': 25280, '흡': 25281, '기장': 25282, '패딩': 25283, '두둑하다': 25284, '늘그막': 25285, 'aging': 25286, '성비': 25287, '무기질': 25288, '뱃살': 25289, '분포도': 25290, '피하지방': 25291, '복부': 25292, '노년기': 25293, '쑤시다': 25294, '닳다': 25295, '폐경': 25296, '승배': 25297, '걸음걸이': 25298, '관상동맥': 25299, '협심증': 25300, '심근경색': 25301, '요새': 25302, '짓누르다': 25303, '언어능력': 25304, '쉬라즈': 25305, '카버': 25306, '에의': 25307, '베린저': 25308, '브로스': 25309, '도스': 25310, '코파스': 25311, '용진': 25312, '년설': 25313, '박범진': 25314, 'dau': 25315, 'intromedic': 25316, 'americo': 25317, 'inc': 25318, '역전사': 25319, '발행량': 25320, 'gbk': 25321, 'nike': 25322, '정은혜': 25323, '무직': 25324, 'exome': 25325, 'sequencing': 25326, 'firalis': 25327, '예후': 25328, 'fimics': 25329, '광저우시': 25330, 'pocula': 25331, 'enrichment': 25332, 'bluebee': 25333, '이정연': 25334, '정일우': 25335, '쫀쫀': 25336, '수플렛': 25337, '푹신푹신': 25338, '쌉싸름하다': 25339, '별사탕': 25340, '탕후루키트': 25341, '탕후루': 25342, '꼬치': 25343, '종이컵': 25344, '주모': 25345, '레트라': 25346, '켐텍': 25347, '유채꽃': 25348, '고양시민': 25349, '다육식물': 25350, '화훼류': 25351, '훼인': 25352, '활대': 25353, '번역기': 25354, '화상통화': 25355, 'bond': 25356, '김상택': 25357, '기관물량': 25358, 'venture': 25359, '힘입': 25360, '김은숙': 25361, '더킹': 25362, '군주': 25363, '윙즈': 25364, '축구단': 25365, '옥련동': 25366, '알리스': 25367, '길병원': 25368, '꽃게': 25369, '청량산': 25370, '아암도': 25371, '대우자동차': 25372, 'appropriate': 25373, '지호': 25374, '휘청거리다': 25375, '두시': 25376, 'oooo': 25377, '더도': 25378, '케뱅': 25379, '베이가': 25380, '임정욱': 25381, 'password': 25382, '랭크': 25383, '고릴라': 25384, 'kyc': 25385, 'aml': 25386, '한서희': 25387, '고선영': 25388, '김영일': 25389, '류창보': 25390, '파트장': 25391, '박병훈': 25392, '한규찬': 25393, '김종천': 25394, '브루스': 25395, 'engineer': 25396, '멜리사': 25397, '파렐': 25398, '쿠록': 25399, 'koolock': 25400, '잠시드': 25401, '생태학': 25402, '파크스': 25403, '뉴스페이스': 25404, '테세렉트': 25405, '깁슨': 25406, '댄굿즈': 25407, '우주비행': 25408, '발사체': 25409, '노스페이스': 25410, '우주여행': 25411, '별똥별': 25412, '외계행성': 25413, '우주시': 25414, '각축': 25415, '펀슈머': 25416, '컨슈머': 25417, '차돌박이': 25418, '숯불': 25419, '데리야끼': 25420, '닭꼬치': 25421, '초마': 25422, '짬뽕': 25423, '모디슈머': 25424, '김상범': 25425, '하듯': 25426, '금융공학': 25427, '비기다': 25428, '델라웨어주': 25429, '형평법': 25430, '에식스': 25431, '와이오밍': 25432, '브룩필드': 25433, 'gic': 25434, '수인': 25435, 'deed': 25436, '에스크로': 25437, '제삼자': 25438, '난감하다': 25439, '욕먹다': 25440, '낸스': 25441, '임형섭': 25442, 'llqkcigcgcczgc': 25443, '제막식': 25444, 'wfc': 25445, '산림녹화': 25446, '국격': 25447, 'jwpharma': 25448, 'lgint': 25449, 'dongkukstlmill': 25450, 'sbc': 25451, 'ins': 25452, 'tongyang': 25453, 'daesang': 25454, 'orion': 25455, 'kiswire': 25456, 'lottefood': 25457, 'nexentire': 25458, 'chongkundang': 25459, 'samlip': 25460, 'aerospace': 25461, 'kumhotire': 25462, 'samsungelec': 25463, 'hyundaigreenfood': 25464, 'nhis': 25465, 'binggrae': 25466, 'gch': 25467, 'lottechilsung': 25468, 'kpic': 25469, 'mirae': 25470, 'asset': 25471, 'daewoo': 25472, 'ottogi': 25473, 'ilyangpharm': 25474, '승은': 25475, '신종인플루엔자': 25476, '차일피일': 25477, '총론': 25478, '성경': 25479, '륭': 25480, '최재천': 25481, '윤영관': 25482, '명검': 25483, '홍창진': 25484, '이승형': 25485, '윤종석': 25486, '어느새다': 25487, '송파신도시': 25488, '개동': 25489, '시조사': 25490, '차출': 25491, 'opendollar': 25492, 'opens': 25493, '스트래트': 25494, '몬차': 25495, '혜은이': 25496, '직위해제': 25497, '손현': 25498, '태안군': 25499, '낚싯배': 25500, '상감': 25501, 'tod': 25502, '호남선': 25503, '용당동': 25504, '손녀': 25505, 'wmd': 25506, '넷포사': 25507, '파이버홈': 25508, '봉화성': 25509, '버브': 25510, '이현정': 25511, 'tr': 25512, 'sixty': 25513, '급전': 25514, '거가': 25515, '봉책': 25516, 'climbers': 25517, 'himalayas': 25518, 'hits': 25519, 'throughout': 25520, 'info': 25521, 'delhi': 25522, 'jan': 25523, 'gone': 25524, 'circuit': 25525, 'trekking': 25526, 'altitude': 25527, 'lodge': 25528, 'conditions': 25529, 'hampering': 25530, 'helicopters': 25531, 'morning': 25532, 'nepalese': 25533, 'moving': 25534, 'foot': 25535, 'helicopter': 25536, 'standby': 25537, 'transfer': 25538, 'surviving': 25539, 'pokhara': 25540, 'men': 25541, 'volunteer': 25542, 'schools': 25543, 'scheduled': 25544, 'accommodations': 25545, 'issues': 25546, 'nepalis': 25547, 'went': 25548, 'comprised': 25549, 'tourist': 25550, 'accompanied': 25551, 'mission': 25552, 'requested': 25553, 'area': 25554, 'utmost': 25555, 'provide': 25556, 'necessary': 25557, 'support': 25558, '롱숏': 25559, '드리븐': 25560, '송은경': 25561, '콴': 25562, '장장': 25563, 'daddy': 25564, '전성빈': 25565, '안세호': 25566, '석주': 25567, '현빈': 25568, '김재홍': 25569, '학령기': 25570, '성도현': 25571, '명재': 25572, '김태은': 25573, '박기성': 25574, '문모': 25575, '이광철': 25576, 'unveils': 25577, 'improve': 25578, 'wednesday': 25579, 'collectively': 25580, 'consumers': 25581, 'regulate': 25582, 'levels': 25583, 'indoors': 25584, 'benefits': 25585, 'function': 25586, 'recognition': 25587, 'improving': 25588, 'biological': 25589, 'effects': 25590, 'soo': 25591, 'release': 25592, 'hormone': 25593, 'helps': 25594, 'cycles': 25595, 'responds': 25596, 'wavelength': 25597, 'utilize': 25598, 'precisely': 25599, 'designed': 25600, 'spectra': 25601, 'optimized': 25602, 'suppress': 25603, 'below': 25604, 'produced': 25605, 'enhancing': 25606, 'individual': 25607, 'sense': 25608, 'alertness': 25609, 'about': 25610, 'helping': 25611, 'relax': 25612, 'luminaire': 25613, '권혜진': 25614, 'usual': 25615, 'precaution': 25616, 'closedollar': 25617, 'ends': 25618, '친엄마': 25619, '길환': 25620, '서운해하다': 25621, '모국': 25622, '친어머니': 25623, '아동권리': 25624, '출생지': 25625, '단둘': 25626, '셋방': 25627, '신학생': 25628, '양부모': 25629, '활달': 25630, '감격': 25631, '금서면': 25632, '순례': 25633, '진맥': 25634, '본디': 25635, '신비하다': 25636, '때마침': 25637, '오링': 25638, '유리온': 25639, '심겨': 25640, '매화나무': 25641, '발해': 25642, '온돌방': 25643, '쑥': 25644, '황토': 25645, '후끈하다': 25646, '옆방': 25647, '고는': 25648, '둥둥': 25649, '탕약': 25650, '편백': 25651, '욕탕': 25652, '녹용': 25653, '당귀': 25654, '산수유': 25655, '따위': 25656, '환약': 25657, '보혈': 25658, '찧다': 25659, '래서': 25660, '지황': 25661, '초석': 25662, '야트막하다': 25663, '자그마하다': 25664, '정지용': 25665, '옛이야기': 25666, '성씨': 25667, '류씨': 25668, '집성촌': 25669, '양반': 25670, '정원수': 25671, '고택': 25672, '화차': 25673, '대추차': 25674, '찻잔': 25675, '한가득': 25676, '꽃봉오리': 25677, '시천면': 25678, '산천': 25679, '빅네임': 25680, '브릿지워터': 25681, '하워드': 25682, '막스': 25683, '만석': 25684, '매틱': 25685, 'mediamatic': 25686, 'eten': 25687, '세레스': 25688, '파레': 25689, 'serres': 25690, 'separees': 25691, 'clock': 25692, '자렉키': 25693, '영태': 25694, '큐시': 25695, '웨이크필드': 25696, '캐롤': 25697, '교외': 25698, '호주판': 25699, '브리즈번': 25700, '멜버른': 25701, '크리스토퍼': 25702, '미네소타': 25703, '김영현': 25704, '러크나우': 25705, '아메다바드': 25706, '암리차르': 25707, '슈리': 25708, '디완': 25709, '코노믹': 25710, 'bsnl': 25711, '육해공군': 25712, '파인드': 25713, '난투극': 25714, '장덕': 25715, '쌈': 25716, '물김치': 25717, '박대': 25718, '비토리아': 25719, '김형우': 25720, '오성환': 25721, '김예원': 25722, '더치트': 25723, '후후': 25724, '시발': 25725, '적당': 25726, '유철': 25727, '소멸하다': 25728, '시나': 25729, '사유재산': 25730, '윤지영': 25731, '김삼수': 25732, '일어나서': 25733, 'koreans': 25734, 'kidnapping': 25735, 'kidnapped': 25736, 'waters': 25737, 'benin': 25738, '오보람': 25739, '레이티': 25740, '회기': 25741, '다니엘': 25742, '코흐': 25743, '원픽싱': 25744, '채림': 25745, '악명': 25746, '무표정': 25747, '페트라': 25748, '이니셜': 25749, '헤이그': 25750, '국제사법재판소': 25751, '번번이': 25752, '사법권': 25753, '유럽헌법': 25754, 'ecchr': 25755, '로커': 25756, '사우': 25757, '훈센': 25758, '응우옌': 25759, '퍼듀': 25760, '제이슨': 25761, '러스크': 25762, 'fao': 25763, '술렁이다': 25764, '리셴룽': 25765, '무부': 25766, '중개인': 25767, '두테르테': 25768, '메뚜기': 25769, '떼': 25770, '부채질': 25771, '박용주': 25772, '혜인': 25773, 'forecast': 25774, 'start': 25775, 'ezqlgqlcqxcqizmgcgccecx': 25776, 'traveler': 25777, 'diarrhea': 25778, '면역학': 25779, '대니엘': 25780, '부교수': 25781, 'eurekalert': 25782, '생쥐': 25783, '멸사': 25784, '정사': 25785, 'programmed': 25786, '라고도': 25787, 'muscularis': 25788, 'macrophages': 25789, '소화관': 25790, 'polyamine': 25791, '강병철': 25792, '걸어오다': 25793, '하굿둑': 25794, 'ezlxleqxqelkezkgcgcckek': 25795, '과기원': 25796, '오예진': 25797, 'kiost': 25798, '연방국': 25799, '추크': 25800, '웨노': 25801, 'weno': 25802, '대왕': 25803, '조개': 25804, '수질': 25805, '도서국': 25806, '관측탑': 25807, '생물다양성': 25808, '주사약': 25809, '펑신': 25810, 'urges': 25811, 'drop': 25812, 'june': 25813, 'withdraw': 25814, 'voicing': 25815, 'regret': 25816, 'decision': 25817, 'handling': 25818, 'affairs': 25819, 'state': 25820, 'numbers': 25821, 'central': 25822, 'workers': 25823, 'sorting': 25824, 'printed': 25825, 'flyers': 25826, 'piles': 25827, 'moon': 25828, 'jae': 25829, 'dirty': 25830, 'cigarette': 25831, 'butts': 25832, 'bag': 25833, 'very': 25834, 'regrettable': 25835, 'outlet': 25836, 'immediate': 25837, 'halt': 25838, 'violation': 25839, 'agreement': 25840, 'resolve': 25841, 'wrong': 25842, 'practices': 25843, 'koreas': 25844, 'rather': 25845, 'exacerbates': 25846, 'stressing': 25847, 'peninsula': 25848, 'sternly': 25849, 'civic': 25850, 'stepped': 25851, 'towns': 25852, 'crack': 25853, 'activities': 25854, 'tensions': 25855, 'threats': 25856, 'possible': 25857, 'military': 25858, 'anger': 25859, 'claimed': 25860, 'connivance': 25861, 'balloons': 25862, 'defectors': 25863, 'activists': 25864, 'sever': 25865, 'ties': 25866, 'neighbor': 25867, 'enemy': 25868, 'blew': 25869, 'liaison': 25870, 'town': 25871, 'kaesong': 25872, 'retaliatory': 25873, 'claims': 25874, 'would': 25875, 'legislate': 25876, 'filed': 25877, 'criminal': 25878, 'complaint': 25879, 'defector': 25880, 'keris': 25881, '이재헌': 25882, '기사화': 25883, '말실수': 25884, '늠름하다': 25885, '혼쭐나고': 25886, '귀태': 25887, '페렴': 25888, '칭했다': 25889, '공지천': 25890, '의암': 25891, '인큐베이팅': 25892, '평시': 25893, '카코': 25894, '호찌민': 25895, '양곤': 25896, '쿠알라룸푸르': 25897, '푸둥': 25898, '산행': 25899, '이신영': 25900, '일몰': 25901, '임정희': 25902, '지급시': 25903, '도윤': 25904, '김용갑': 25905, '애란': 25906, '배차': 25907, '월남': 25908, '의왕역': 25909, '편도': 25910, 'halla': 25911, 'logistics': 25912, 'daekyo': 25913, 'handsome': 25914, 'hanon': 25915, 'shopping': 25916, 'korelecterm': 25917, 'namhaechem': 25918, 'dongsuh': 25919, 'card': 25920, 'cheilworldwide': 25921, 'uplus': 25922, 'kangwonland': 25923, 'dhico': 25924, 'coway': 25925, 'kakao': 25926, 'ncsoft': 25927, 'dsme': 25928, 'dsinfra': 25929, 'cheiljedang': 25930, 'innocean': 25931, 'lgchem': 25932, 'youngone': 25933, 'rotem': 25934, 'unid': 25935, '임보연': 25936, '양양국제공항': 25937, '개작': 25938, '뮤추얼': 25939, '만선': 25940, 'ish': 25941, '리치먼드': 25942, '미시건': 25943, '간초': 25944, '이승우': 25945, '서인': 25946, '길잡이': 25947, '이주희': 25948, '허지영': 25949, '이지연': 25950, '중미': 25951, '백곰': 25952, '류지': 25953, '입김': 25954, '박세진': 25955, '토픽스': 25956, '대침체': 25957, '플래츠': 25958, '스니더': 25959, '프레이저': 25960, '세론': 25961, '김지헌': 25962, '손화': 25963, '흥선대원군': 25964, '이준용': 25965, '갑오개혁': 25966, '아문': 25967, '재판소': 25968, '고등재판소': 25969, '우치다': 25970, '다츠': 25971, '바스러지다': 25972, '오침': 25973, '등쪽': 25974, '꿰매다': 25975, '최찬': 25976, '이매동': 25977, '베이비붐': 25978, '월액': 25979, '안전판': 25980, '그거': 25981, '박수윤': 25982, 'true': 25983, '연좌제': 25984, '에이지': 25985, '시미즈': 25986, '오세암': 25987, '기기괴괴': 25988, '무녀도': 25989, '강종훈': 25990, '관훈동': 25991, '적요': 25992, '수묵화': 25993, '동양화': 25994, '서양화': 25995, '백자': 25996, '군사분계선': 25997, '양구': 25998, '적막하다': 25999, '풍경화': 26000, '코넬대': 26001, '바라캇': 26002, '동방견문록': 26003, '소장품': 26004, '한나라': 26005, '수나라': 26006, '조각상': 26007, '명나라': 26008, '관음보살': 26009, '청나라': 26010, '공예품': 26011, '두꺼비': 26012, '팔꿈치': 26013, '박철홍': 26014, '홍익대': 26015, '민석': 26016, '주정이': 26017, '이한용': 26018, '땅땅치킨': 26019, '고등어': 26020, '반상': 26021, '안동시보건소': 26022, '송형일': 26023, '간척지': 26024, '만경': 26025, '방수제': 26026, '안쪽': 26027, '댐': 26028, 'na': 26029, 'nadown': 26030, '조성흠': 26031, '라온텍': 26032, '선급': 26033, '유은': 26034, '김잔디': 26035, 'vital': 26036, 'sign': 26037, '임수정': 26038, '변제': 26039, '무역흑자': 26040, '이나영': 26041, '억측': 26042, '신상털이': 26043, '상복': 26044, '엄수': 26045, '신학자': 26046, '떠나가다': 26047, '달맞이꽃': 26048, '빽빽하다': 26049, '침통하다': 26050, '손뼉': 26051, '교구장': 26052, '염수정': 26053, '그리스도': 26054, '묵상': 26055, '영적': 26056, '축일': 26057, '주교': 26058, '성삼일': 26059, '강다현': 26060, '부외': 26061, '빈티': 26062, '기범이': 26063, '임비': 26064, '최항': 26065, '국민대': 26066, '가처분소득': 26067, '기권': 26068, '불합': 26069, '허무': 26070, '하숙집': 26071, '하숙': 26072, '근심': 26073, '이용기': 26074, '동창회': 26075, '오헤': 26076, '타나': 26077, '피난처': 26078, 'cares': 26079, '아메': 26080, '그레고리': 26081, '넬': 26082, '긴장도': 26083, '이건주': 26084, '김수민': 26085, '정의도': 26086, '우후죽순': 26087, '윤시윤': 26088, '부활동': 26089, '기브티콘': 26090, '타이항공': 26091, '운봉읍': 26092, '고랭지': 26093, '아삭아삭': 26094, '정선영': 26095, '백석대학교': 26096, '아제르바이잔': 26097, '에센': 26098, '순교': 26099, '자유시리아군': 26100, 'fsa': 26101, '유프라테스': 26102, '올리브': 26103, '궁지': 26104, '교전': 26105, '러시아군': 26106, '알카에다': 26107, '시리아군': 26108, '박의': 26109, 'llqkxcgcgcczge': 26110, 'headline': 26111, 'figures': 26112, 'topped': 26113, 'placed': 26114, 'third': 26115, 'traced': 26116, 'related': 26117, 'bringing': 26118, 'nation': 26119, 'elderly': 26120, 'illnesses': 26121, 'died': 26122, 'respiratory': 26123, 'emerged': 26124, 'late': 26125, 'condition': 26126, 'detected': 26127, 'majority': 26128, 'region': 26129, 'hardest': 26130, 'regions': 26131, 'reached': 26132, 'accounting': 26133, 'provinces': 26134, 'cities': 26135, 'nearby': 26136, 'gyeonggi': 26137, 'reporting': 26138, 'pregnant': 26139, 'second': 26140, 'trimester': 26141, 'assumed': 26142, 'contracted': 26143, 'husband': 26144, 'sejong': 26145, 'works': 26146, 'commute': 26147, 'hospitals': 26148, 'welfare': 26149, 'accounted': 26150, 'concerns': 26151, 'further': 26152, 'rose': 26153, 'following': 26154, 'residential': 26155, 'relatively': 26156, 'possibility': 26157, 'deputy': 26158, 'director': 26159, 'kwon': 26160, 'wook': 26161, 'unmarried': 26162, 'linked': 26163, 'fringe': 26164, 'potential': 26165, 'fourth': 26166, 'largest': 26167, 'population': 26168, 'raising': 26169, 'alert': 26170, 'highest': 26171, 'halting': 26172, 'recently': 26173, 'shifted': 26174, 'alarming': 26175, 'showing': 26176, 'signs': 26177, 'stabilizing': 26178, 'tests': 26179, 'risks': 26180, 'complete': 26181, 'ganglip': 26182, 'putting': 26183, 'contain': 26184, 'secondary': 26185, 'tertiary': 26186, 'transmissions': 26187, 'identifying': 26188, 'transmission': 26189, 'routes': 26190, 'cooperation': 26191, 'containing': 26192, 'likely': 26193, 'zones': 26194, 'stagnated': 26195, 'judgment': 26196, 'being': 26197, 'came': 26198, 'evidence': 26199, 'airborne': 26200, 'transmitted': 26201, 'through': 26202, 'droplets': 26203, 'close': 26204, 'contact': 26205, 'seconds': 26206, 'avoid': 26207, '랩톱': 26208, 'tally': 26209, 'resident': 26210, 'nursing': 26211, 'gyeongsan': 26212, 'discharged': 26213, 'adjacent': 26214, 'oldest': 26215, 'person': 26216, 'previously': 26217, 'symptoms': 26218, 'dementia': 26219, 'any': 26220, 'named': 26221, 'underwent': 26222, 'intensive': 26223, 'treatment': 26224, 'full': 26225, 'steadily': 26226, '분가': 26227, '니콜': 26228, '투모로우': 26229, '투게더': 26230, '이윤구': 26231, 'federal': 26232, 'reserve': 26233, 'governors': 26234, '펜실베이니아대': 26235, '밑돈다': 26236, '수정과': 26237, '삽입곡': 26238, '사운드트랙': 26239, '소탈': 26240, '투니버스': 26241, '라미란': 26242, '혜리': 26243, '서툴다': 26244, '왕좌': 26245, '청곡': 26246, '맛남': 26247, '명치': 26248, '마르케': 26249, '캄파니아': 26250, '프리울리': 26251, '베네치아': 26252, '풀리아': 26253, '콜로세움': 26254, '레비': 26255, '교황청': 26256, '베드로': 26257, '폐쇄확': 26258, '박성민': 26259, '현덕': 26260, '일여': 26261, '하윤': 26262, '순연': 26263, '한민수': 26264, '폐쇄해': 26265, '정회': 26266, '이만원': 26267, '이영숙': 26268, '득량면': 26269, '몬다': 26270, '기름값': 26271, '이런저런': 26272, '푼돈': 26273, '고사리': 26274, '테레비': 26275, '푸념': 26276, '구경이': 26277, '바지런하다': 26278, '모여들다': 26279, '동트기': 26280, '패가': 26281, '소시민': 26282, '가장이': 26283, '씁쓸하다': 26284, '역병': 26285, '옥죌까': 26286, '라니까': 26287, '캔트': 26288, '얼웨': 26289, '겟': 26290, '왓': 26291, 'yon': 26292, 'get': 26293, 'want': 26294, '닐': 26295, '록킹': 26296, 'rockin': 26297, '전속력': 26298, '해열': 26299, '남아메리카': 26300, '식화': 26301, 'miit': 26302, '신궈빙': 26303, '최재서': 26304, '공정은': 26305, '더욱더': 26306, '중신궈': 26307, '철문': 26308, 'ever': 26309, 'rich': 26310, '타이중': 26311, 'openkosdaq': 26312, 'points': 26313, 'open': 26314, '김영신': 26315, 'operational': 26316, '황봉': 26317, '양산시': 26318, '통영시': 26319, 'ignites': 26320, 'unveil': 26321, 'ran': 26322, 'violent': 26323, 'involving': 26324, 'underaged': 26325, 'nth': 26326, 'surnamed': 26327, 'lured': 26328, 'naked': 26329, 'later': 26330, 'threatened': 26331, 'gruesome': 26332, 'used': 26333, 'nickname': 26334, 'baksa': 26335, 'means': 26336, 'doctor': 26337, 'guru': 26338, 'accused': 26339, 'distributing': 26340, 'messaging': 26341, 'users': 26342, 'paying': 26343, 'reportedly': 26344, 'charged': 26345, 'viewers': 26346, 'cryptocurrency': 26347, 'difficult': 26348, 'payment': 26349, 'methods': 26350, 'credit': 26351, 'cards': 26352, 'phone': 26353, 'payments': 26354, 'tracked': 26355, 'relation': 26356, 'others': 26357, 'formally': 26358, 'detained': 26359, 'creating': 26360, 'still': 26361, 'remains': 26362, 'became': 26363, 'notorious': 26364, 'extreme': 26365, 'brutality': 26366, 'triggered': 26367, 'shared': 26368, 'hashtags': 26369, 'powerful': 26370, 'nearly': 26371, 'him': 26372, 'press': 26373, 'else': 26374, 'stand': 26375, 'bare': 26376, 'someone': 26377, 'thinks': 26378, 'lightly': 26379, 'humiliation': 26380, 'reads': 26381, 'posted': 26382, 'marks': 26383, 'endorsements': 26384, 'signatures': 26385, 'another': 26386, 'demands': 26387, 'identities': 26388, 'spinoff': 26389, 'rooms': 26390, 'seven': 26391, 'member': 26392, 'committee': 26393, 'metropolitan': 26394, 'includes': 26395, 'expected': 26396, 'decide': 26397, 'thorough': 26398, 'factors': 26399, 'suspect': 26400, 'recidivism': 26401, 'effect': 26402, 'crimes': 26403, 'gab': 26404, 'ryong': 26405, 'written': 26406, 'investigating': 26407, 'results': 26408, 'tips': 26409, 'consultation': 26410, 'overseas': 26411, 'law': 26412, 'minors': 26413, 'jail': 26414, 'fines': 26415, 'clause': 26416, 'owning': 26417, 'adult': 26418, '박정길': 26419, '대통령실': 26420, '창고업': 26421, '안형준': 26422, 'jack': 26423, 'amid': 26424, 'compiled': 26425, 'tracker': 26426, 'companies': 26427, 'affiliated': 26428, 'indicates': 26429, 'future': 26430, 'secure': 26431, 'competitiveness': 26432, 'shed': 26433, 'conglomerate': 26434, 'sharp': 26435, 'rise': 26436, 'jacked': 26437, 'automaker': 26438, 'carrier': 26439, 'lines': 26440, 'fentech': 26441, '박병준': 26442, '복대': 26443, '연수동': 26444, '성안길': 26445, '리큐': 26446, '진한겔': 26447, '킹소': 26448, '이불': 26449, '세탁물': 26450, '말라위': 26451, '슝안': 26452, '써브웨이': 26453, '앤트': 26454, '오클랜드': 26455, '레빈': 26456, '텔레비전': 26457, '국회의사당': 26458, '환태평양': 26459, '조산대': 26460, '박종국': 26461, '특수전사령부': 26462, '김득신': 26463, '김항섭': 26464, '문의면': 26465, '가덕면': 26466, '차영': 26467, '중원대': 26468, '조병옥': 26469, '송기섭': 26470, '초평면': 26471, '목행동': 26472, '청주예술의전당': 26473, 'salesssangyong': 26474, 'fall': 26475, 'shortages': 26476, 'partly': 26477, 'shortage': 26478, 'limiting': 26479, 'output': 26480, 'vehicles': 26481, 'ago': 26482, 'domestic': 26483, 'plunged': 26484, 'exports': 26485, 'declined': 26486, 'supply': 26487, 'disruptions': 26488, 'spreading': 26489, 'mainly': 26490, 'spokesman': 26491, 'stopped': 26492, 'sole': 26493, 'pyeongtaek': 26494, 'kilometers': 26495, 'nine': 26496, 'suppliers': 26497, 'halted': 26498, 'extended': 26499, 'lunar': 26500, 'holiday': 26501, 'aimed': 26502, 'ending': 26503, 'lineup': 26504, 'composed': 26505, 'tivoli': 26506, 'korando': 26507, 'bankruptcy': 26508, 'proceedings': 26509, 'indian': 26510, 'acquired': 26511, 'owns': 26512, '직책': 26513, '망원': 26514, '잊어버리다': 26515, '핑크색': 26516, '행인': 26517, '정청래': 26518, '화이팅': 26519, '황철': 26520, '헌트': 26521, '김윤구': 26522, '특파': 26523, '생필': 26524, '에어차이나': 26525, '입출국': 26526, '범례': 26527, '김정재': 26528, '정종복': 26529, '영애': 26530, '이삼걸': 26531, '권택기': 26532, '김철호': 26533, '구자근': 26534, '김영식': 26535, '황재선': 26536, '장윤석': 26537, '정용운': 26538, '이한성': 26539, '전상헌': 26540, '부송': 26541, '성주': 26542, '정희': 26543, '권수현': 26544, '소방장': 26545, '신체검사': 26546, '김서영': 26547, '에퀴': 26548, 'equinor': 26549, '스베드럽': 26550, '기우뚱': 26551, '송정동': 26552, '침하': 26553, '울퉁불퉁하다': 26554, '맨눈': 26555, '연약지반': 26556, '스티프닝': 26557, '허심': 26558, '탄회': 26559, '김계환': 26560, 'advised': 26561, 'distance': 26562, 'having': 26563, 'temperature': 26564, 'northern': 26565, 'pressed': 26566, 'ahead': 26567, 'weekend': 26568, 'abiding': 26569, 'sye': 26570, 'kyun': 26571, 'stern': 26572, 'seriously': 26573, 'hurt': 26574, 'individuals': 26575, 'communities': 26576, 'responses': 26577, 'quasi': 26578, 'wartime': 26579, 'regard': 26580, 'bluff': 26581, 'stressed': 26582, 'message': 26583, 'strongly': 26584, 'indoor': 26585, 'suspend': 26586, 'calling': 26587, 'abide': 26588, 'keep': 26589, 'closures': 26590, 'scale': 26591, 'recent': 26592, 'bulk': 26593, 'tied': 26594, 'subsided': 26595, 'jailed': 26596, 'conservative': 26597, 'pastor': 26598, 'rev': 26599, 'kwang': 26600, 'hoon': 26601, 'closely': 26602, 'sat': 26603, 'attended': 26604, 'holding': 26605, 'april': 26606, 'soon': 26607, 'briefing': 26608, 'breached': 26609, 'include': 26610, 'running': 26611, 'fever': 26612, 'checks': 26613, 'compiling': 26614, 'lists': 26615, 'making': 26616, 'congregants': 26617, 'sit': 26618, 'apart': 26619, 'wear': 26620, 'countermeasures': 26621, 'file': 26622, 'packed': 26623, 'compile': 26624, 'weren': 26625, 'even': 26626, 'wearing': 26627, 'comply': 26628, 'rules': 26629, 'instead': 26630, 'verbally': 26631, 'harassed': 26632, 'acceptable': 26633, 'violations': 26634, 'except': 26635, 'followed': 26636, 'meanwhile': 26637, 'consider': 26638, 'expand': 26639, 'screening': 26640, 'procedures': 26641, 'spiked': 26642, 'begun': 26643, 'impose': 26644, 'implemented': 26645, 'steps': 26646, 'visitors': 26647, 'double': 26648, '게이오': 26649, '바통': 26650, '당우': 26651, '찬동': 26652, '개각': 26653, '창생담': 26654, '뉘른베르크': 26655, '전범': 26656, '합사': 26657, '은지': 26658, '공통분모': 26659, '여차하면': 26660, '반감': 26661, '나폴리': 26662, '추앙': 26663, '암석': 26664, '프란체스코': 26665, '겁쟁이': 26666, '더타임스': 26667, '루이지': 26668, '마이오': 26669, '이수용': 26670, '복당': 26671, '포비아': 26672, '복대동': 26673, '청원구': 26674, '율량동': 26675, '한낮': 26676, '감돈': 26677, '기압골': 26678, '미끄럽다': 26679, '갈피': 26680, '마지노선': 26681, 'grace': 26682, 'vivace': 26683, 'smdp': 26684, '바이크': 26685, '내진': 26686, '혈전': 26687, '방울토마토': 26688, '송필호': 26689, '재민': 26690, 'kth': 26691, 'conversion': 26692, 'upcycling': 26693, 'emollient': 26694, '나고야': 26695, '의정서': 26696, '에틸헥실': 26697, 'batch': 26698, 'clean': 26699, '섯': 26700, '비밀보호법': 26701, '직역': 26702, '우일': 26703, '각설이': 26704, '억눌리다': 26705, '겐조': 26706, '베르사체': 26707, '랑방': 26708, '미야케': 26709, 'miracle': 26710, 'automated': 26711, 'nucleic': 26712, 'acid': 26713, 'pgs': 26714, '셋업': 26715, '문영수': 26716, '멀티플레이어': 26717, '프레데릭': 26718, 'ugc': 26719, '유완희': 26720, 'sim': 26721, '김종갑': 26722, '연료비': 26723, 'realtime': 26724, '우피': 26725, '품번': 26726, '이러스': 26727, '이연수': 26728, '김동하': 26729, '집속': 26730, 'hifu': 26731, '볼류머': 26732, '이원준': 26733, '황범': 26734, '공적자금': 26735, '재경부': 26736, '익숙해지다': 26737, '윤현열': 26738, 'engineering': 26739, '강정욱': 26740, '곽준': 26741, '박남주': 26742, '단백': 26743, '파스타': 26744, '비빔면': 26745, '잔치국수': 26746, '야끼소바': 26747, '헹구': 26748, '붇': 26749, '뽀로로': 26750, 'manager': 26751, '박수형': 26752, '이동전화': 26753, '박정준': 26754, '루루': 26755, '뚜루': 26756, '아마존닷컴': 26757, 'gfk': 26758, '영란': 26759, 'cips': 26760, '도쿄지역': 26761, '아톤': 26762, 'internationalvalueadvisers': 26763, '인탑스': 26764, '카툰': 26765, '엠티': 26766, '이팝나무': 26767, '느티나무': 26768, '한강대로': 26769, '가로수': 26770, '이설': 26771, '협소해': 26772, '창경궁로': 26773, '소공로': 26774, '장충단로': 26775, '탕구': 26776, '파푸아': 26777, 'papua': 26778, 'barat': 26779, '빈투': 26780, 'bintuni': 26781, 'bay': 26782, 'cold': 26783, 'section': 26784, 'csts': 26785, 'jo': 26786, 'chiyoda': 26787, 'tripatra': 26788, '펨': 26789, '다형성': 26790, '백혈구': 26791, 'hladrb': 26792, '킬러': 26793, '능성': 26794, '최수영': 26795, 'motors': 26796, '국부': 26797, '물색': 26798, 'vw': 26799, '김종현': 26800, '로린': 26801, '크드': 26802, '로엔': 26803, '뉴트럴': 26804, '프렌치': 26805, '아티': 26806, '퍼피': 26807, '꾸밈': 26808, '밭솥': 26809, '한스': 26810, '에너지정책': 26811, '지붕': 26812, '영암군': 26813, '호호': 26814, '삼천포': 26815, '배양': 26816, '상동': 26817, '선크림': 26818, '눙크': 26819, '소녀시대': 26820, '친밀도': 26821, 'mmo': 26822, '신전': 26823, '신동원': 26824, '빌드업': 26825, '이형진': 26826, '함의': 26827, 'nxt': 26828, '말고도': 26829, '관리직': 26830, '온상': 26831, '재생량': 26832, '순위표': 26833, '트렌디': 26834, 'liiv': 26835, '똑똑이': 26836, 'tap': 26837, '권혜미': 26838, 'rdt': 26839, '혈액학': 26840, 'brokerage': 26841, 'trading': 26842, '료특구': 26843, '영상편집': 26844, 'ti': 26845, '미거': 26846, '룻새': 26847, '서상혁': 26848, '기축통화': 26849, '뉴시스': 26850, '원선': 26851, '돈값': 26852, '맹목': 26853, '처가': 26854, '김학수': 26855, '환차익': 26856, '조현수': 26857, '라면서도': 26858, '장통': 26859, 'aspeed': 26860, '제대혈': 26861, '박현': 26862, '금물': 26863, '랩신': 26864, '젤류': 26865, '순서도': 26866, '배치도': 26867, '다이노': 26868, 'dnp': 26869, 'edu': 26870, '어셈블리': 26871, '견고': 26872, '웰릭스렌탈': 26873, '처방량': 26874, '니폰': 26875, '카야': 26876, 'nippon': 26877, 'kayaku': 26878, 'marketing': 26879, 'procedure': 26880, 'combination': 26881, '포괄수가제': 26882, '바렛': 26883, '곽희': 26884, '황용': 26885, '인턴쉽': 26886, '입상': 26887, 'land': 26888, 'tribe': 26889, '김희연': 26890, '제곱': 26891, '평방미터': 26892, '객향': 26893, '재무비율': 26894, '서동': 26895, '워스트': 26896, '왜냐하면': 26897, '쉐어': 26898, '코스트': 26899, '비지오': 26900, 'roi': 26901, '동침': 26902, 'qd': 26903, 'dsc': 26904, '박명석': 26905, '모바일신문': 26906, 'dexpanthenol': 26907, 'sodium': 26908, 'hyaluronate': 26909, '항염': 26910, '칼리': 26911, 'eucalyptus': 26912, '점성': 26913, 'championship': 26914, '허재혁': 26915, '난딘에르덴': 26916, '맹활약': 26917, '콘테스트': 26918, '맞짱': 26919, '안준모': 26920, '권아솔': 26921, '킴앤정': 26922, '천안역': 26923, '행림': 26924, '고희': 26925, 'icmr': 26926, '박유천': 26927, '방송복귀': 26928, '애니멀': 26929, '뉴요커': 26930, '패셔': 26931, '스트릿': 26932, '정찬성': 26933, '박재범': 26934, '한국사': 26935, '김상준': 26936, '에버랜드': 26937, '콤팩트': 26938, '세그먼트': 26939, 'inspiration': 26940, 'norm': 26941, '파빌리온': 26942, '베른트': 26943, '쾨버': 26944, '모더니즘': 26945, '송출된다': 26946, '다우기술': 26947, '서경석': 26948, 'bigdata': 26949, '낙심': 26950, '태원': 26951, '법적대응': 26952, '디벨로퍼': 26953, 'tadmax': 26954, '어감': 26955, '격변': 26956, '퍼티': 26957, '사이먼': 26958, '월계': 26959, '브랜드전략': 26960, '휴먼다큐': 26961, '인간극장': 26962, '역도': 26963, '민택근': 26964, '금덕': 26965, '충북대학교': 26966, 'ferret': 26967, '콧물과폐': 26968, 'cmc': 26969, '송공': 26970, '기헌': 26971, '중제': 26972, '프장': 26973, '부등': 26974, '음질': 26975, '노벨': 26976, '뒷걸음': 26977, '레토르트': 26978, '차하': 26979, '룻데': 26980, '쉰': 26981, '화이트데이': 26982, '정지선': 26983, '장공': 26984, '스트래티': 26985, 'mougs': 26986, '김종수': 26987, '풍산': 26988, '안석환': 26989, 'mu': 26990, '무쌍': 26991, '순조': 26992, '임인': 26993, 'skms': 26994, '토털밸류': 26995, 'deep': 26996, 'teller': 26997, '아이오': 26998, 'hf': 26999, '머터리얼즈': 27000, '갤런': 27001, '실트': 27002, 'sic': 27003, '고순': 27004, '송은희': 27005, '삼양사': 27006, '갑상선암': 27007, '난소암': 27008, '담낭': 27009, '방광암': 27010, '원화도': 27011, '조윤희': 27012, '파경': 27013, '또맘': 27014, '강서은': 27015, '정형돈': 27016, '이애': 27017, '정하윤': 27018, '평의': 27019, '테네시': 27020, '카운티': 27021, '코네티컷': 27022, '펜실베니아': 27023, '탱크톱': 27024, 'mib': 27025, '조성원': 27026, '오용환': 27027, '레크': 27028, '평원': 27029, '코포': 27030, '베누스': 27031, '리온': 27032, '레기움': 27033, '튜토리얼': 27034, '위압': 27035, '세작': 27036, '길드원': 27037, '엘프': 27038, '종족': 27039, '메이지': 27040, '진서연': 27041, '화중': 27042, '각양각색': 27043, '사냥터': 27044, '경험치': 27045, '강지훈': 27046, '플레인즈': 27047, 'wanderer': 27048, '감익': 27049, '종업': 27050, '뒤엉킨': 27051, '야릇하다': 27052, '박신혜': 27053, '최태준': 27054, '엄정화': 27055, '키토': 27056, '형용': 27057, 'je': 27058, 'pftse': 27059, 'cpff': 27060, '클리블랜드': 27061, '면밀': 27062, '헬리콥터': 27063, 'zew': 27064, '탄금': 27065, '융사': 27066, '역습': 27067, '정주영': 27068, '야심작': 27069, '알펜시아': 27070, '부수입': 27071, '워룸': 27072, '꼬이다': 27073, '대악': 27074, '유니버설': 27075, '국가부도': 27076, '왕위': 27077, '용승': 27078, '유야무야': 27079, '리햅케어': 27080, '뇌손상': 27081, '메디케이드': 27082, '메사추세츠': 27083, '최상국': 27084, '종파': 27085, '렌더': 27086, '스페이셜': 27087, 'spatial': 27088, '텔레프레젠스': 27089, 'telepresence': 27090, '워크플로우': 27091, '게임엔진': 27092, '이영웅': 27093, '카젠': 27094, '이순': 27095, '생체인증': 27096, 'pin': 27097, '금융결제원': 27098, '인앱': 27099, 'governance': 27100, '보부': 27101, '외경': 27102, '김우태': 27103, '이효정': 27104, '컨설팅제도': 27105, '문성현': 27106, '변별': 27107, '점별': 27108, '목표량': 27109, '의아': 27110, '계자': 27111, 'hkt': 27112, 'pccw': 27113, '축지법': 27114, '활로': 27115, '엽니': 27116, '이강원': 27117, '옹': 27118, '걱': 27119, 'ong': 27120, 'geok': 27121, 'chwee': 27122, '관능': 27123, '강상현': 27124, '환경기술': 27125, '조재환': 27126, 'lka': 27127, '날렵하다': 27128, 'kenneth': 27129, 'john': 27130, '나비스': 27131, '소수만': 27132, '비앤트': 27133, 'oblato': 27134, '피셔': 27135, 'thermo': 27136, 'fisher': 27137, '태학': 27138, 'tmz': 27139, '강정보': 27140, '디아크': 27141, 'youthdaily': 27142, 'prices': 27143, 'krw': 27144, 'traded': 27145, 'name': 27146, 'alteogen': 27147, 'amicogen': 27148, 'ananti': 27149, 'anterogen': 27150, 'astk': 27151, 'bh': 27152, 'cafe': 27153, 'celltrionph': 27154, 'chunbo': 27155, 'fw': 27156, 'classys': 27157, 'clio': 27158, 'cosmetics': 27159, 'pharmaceutical': 27160, 'cosmax': 27161, 'nbt': 27162, 'cowell': 27163, 'crystal': 27164, 'daeati': 27165, 'dawonsys': 27166, 'dio': 27167, 'dongjin': 27168, 'dongkook': 27169, 'pharm': 27170, 'dongwha': 27171, 'dreamus': 27172, 'duk': 27173, 'san': 27174, 'neolux': 27175, 'echo': 27176, 'ecopro': 27177, 'ecoprobm': 27178, 'emkorea': 27179, 'enzychem': 27180, 'lsc': 27181, 'technics': 27182, 'esmo': 27183, 'etec': 27184, 'eugene': 27185, 'eutilex': 27186, 'gemvax': 27187, 'genexine': 27188, 'genomictree': 27189, 'golfzon': 27190, 'cross': 27191, 'xl': 27192, '계약해지': 27193, '박영옥': 27194, 'pain': 27195, 'viability': 27196, '명약': 27197, 'repositioning': 27198, 'um': 27199, '미세소관': 27200, 'microtubule': 27201, 'polyplatin': 27202, 'cmos': 27203, '폴딩도어': 27204, '정북': 27205, '루버': 27206, '칙칙하다': 27207, '지하실': 27208, '전열': 27209, '매끈하다': 27210, '에폭시': 27211, '층별': 27212, '허름했던': 27213, '미장': 27214, '방부': 27215, '자갈': 27216, 'ur': 27217, 'bkvxvs': 27218, '철교': 27219, '인제스피디움': 27220, 'drift': 27221, '트렉데': 27222, '승해': 27223, 'normal': 27224, 'bic': 27225, '최종원': 27226, '하영구': 27227, '종훈': 27228, '진교': 27229, '김동섭': 27230, '박정식': 27231, '안현': 27232, '곽노': 27233, '종원': 27234, '온도계': 27235, '이성우': 27236, '제이다': 27237, '림프종': 27238, '간세포암': 27239, 'inf': 27240, 'fas': 27241, 'trial': 27242, '명를': 27243, '펨블로리주맙': 27244, '상종': 27245, '웹페이지': 27246, '김영인': 27247, '강길홍': 27248, '재한': 27249, '분란': 27250, '샤시': 27251, '김하늘': 27252, '넥슨코리아': 27253, '지형도': 27254, 'pvp': 27255, 'disposal': 27256, 'article': 27257, 'translated': 27258, 'flitto': 27259, 'neural': 27260, 'machine': 27261, 'translation': 27262, 'reporter': 27263, 'ryu': 27264, 'heon': 27265, 'announced': 27266, 'share': 27267, 'accordingly': 27268, 'allocation': 27269, 'listing': 27270, 'addition': 27271, 'amount': 27272, '형구': 27273, '크스': 27274, '이쁘다': 27275, '스폰할': 27276, '조민아': 27277, '쇠고랑': 27278, '설현': 27279, '순백색': 27280, '러블리': 27281, '차승원': 27282, '전도연': 27283, '강시': 27284, '엄친아': 27285, '오목천동': 27286, '수인선': 27287, '덕천동': 27288, '숙등역': 27289, '동고': 27290, '송도국제도시': 27291, '운초': 27292, '부광': 27293, '봉산': 27294, '발도': 27295, '시늉': 27296, '스튜': 27297, '승용': 27298, '율촌': 27299, '카카': 27300, '김두헌': 27301, 'item': 27302, '승현': 27303, '개획': 27304, '이중기': 27305, '루타': 27306, '프로파일': 27307, '간질': 27308, '환인': 27309, 'mad': 27310, '성상': 27311, '조직검사': 27312, 'dpp': 27313, '랩트': 27314, 'rapt': 27315, 'flx': 27316, 'phanes': 27317, 'pentambody': 27318, '제넨텍': 27319, 'raf': 27320, '페닙': 27321, '골수': 27322, 'flt': 27323, '롤론': 27324, 'bla': 27325, '배출권거래제': 27326, '국무조정실': 27327, '송암': 27328, '전자파': 27329, '장해': 27330, '픽처': 27331, '글래스': 27332, '월스트리트': 27333, '습니다': 27334, '패쇄': 27335, '클로락스': 27336, '트럼트': 27337, '아그라': 27338, '캠벨': 27339, 'jm': 27340, '슈마커': 27341, '할리데이비슨': 27342, '방어선': 27343, '엠파이어스테이트': 27344, '적모': 27345, '리셋': 27346, '불지': 27347, '배부르다': 27348, '귀족': 27349, '아랑곳': 27350, '무의미': 27351, '진검': 27352, '매그나칩반도체': 27353, '증편': 27354, '티젠': 27355, '엔지켐': 27356, 'mcm': 27357, '큐릭스': 27358, '당주': 27359, '발빼': 27360, '못내': 27361, '조성자': 27362, '막차': 27363, '만지작거리다': 27364, '통령': 27365, '학용품': 27366, '청포도': 27367, '칸쵸': 27368, '치토스': 27369, '꼬깔콘': 27370, '빼빼로': 27371, '양치': 27372, '뱃지': 27373, '성품': 27374, '샌드': 27375, '키자니아': 27376, '쇼콜라': 27377, '씨리얼': 27378, '롤케이크': 27379, '찹쌀떡': 27380, '김훈': 27381, '애뉴얼': 27382, 'sac': 27383, '음성합성': 27384, '가설': 27385, '슬라브': 27386, '매몰': 27387, '비전문가': 27388, '흥역': 27389, '용죽': 27390, '지하차도': 27391, '공종': 27392, '김완섭': 27393, 'hu': 27394, '눈가': 27395, '순환기': 27396, '내츄럴': 27397, '메노락토': 27398, '오닌': 27399, '바이오피디아': 27400, 'biopedia': 27401, 'solution': 27402, '매표': 27403, '하이파이브': 27404, '대산읍': 27405, '분출': 27406, '발화': 27407, '문구점': 27408, '갤폴드': 27409, 'foldable': 27410, '양품': 27411, '폴더븐폰': 27412, '농산품': 27413, '군살': 27414, '말끔': 27415, '앵콜': 27416, '갑각류': 27417, '키토산': 27418, '포티': 27419, '에디터': 27420, '아이젠': 27421, '토닉': 27422, '서정일': 27423, '쇼룸관': 27424, '오웬': 27425, '마호': 27426, '핵융합': 27427, '롱텀': 27428, '에볼루션': 27429, '김새': 27430, '김창근': 27431, '조상': 27432, 'spark': 27433, '티피': 27434, '네오플': 27435, '던전앤파이터': 27436, '일인칭': 27437, 'syn': 27438, '스트랜드': 27439, 'strand': 27440, '사이버펑크': 27441, 'steven': 27442, '짧아지다': 27443, '김국배': 27444, '애저': 27445, '양쯔': 27446, 'ymtc': 27447, '체임버': 27448, '결정계수': 27449, '탐험': 27450, '전리품': 27451, '플레이도': 27452, '셰일가스': 27453, '상류': 27454, '사빈': 27455, 'sabine': 27456, '피시': 27457, '위메이드': 27458, '클립': 27459, '스마트그리드': 27460, '홍재성': 27461, '이원우': 27462, '온라인수업': 27463, '뮬러': 27464, 'gma': 27465, '크립스': 27466, 'skai': 27467, 'cjenm': 27468, '더스': 27469, '박성광': 27470, '이솔': 27471, '이래도': 27472, '고준희': 27473, '아찔하다': 27474, '하고프다': 27475, '팬카페': 27476, '배도환': 27477, '속사정': 27478, '이주형': 27479, '만큼만': 27480, '백합': 27481, '조촐하다': 27482, '하갈동': 27483, '선영': 27484, '일우재단': 27485, 'lucky': 27486, '비타': 27487, '장염': 27488, '저혈압': 27489, 'attenuated': 27490, '혈청': 27491, 'ifn': 27492, 'gamma': 27493, 'mcp': 27494, 'pneumonitis': 27495, '경화': 27496, 'pulmonary': 27497, 'fibrosis': 27498, 'tsdt': 27499, 'kfda': 27500, '동임': 27501, '충정로': 27502, 'philippe': 27503, 'lefort': 27504, '분해효소': 27505, '황호석': 27506, '쿠나': 27507, '네스트': 27508, '리모콘': 27509, '오흥': 27510, '약대': 27511, 'dds': 27512, 'delivery': 27513, '지방산': 27514, 'fattigation': 27515, '고해': 27516, '허재영': 27517, '앤투': 27518, '보사부': 27519, '선납': 27520, '간독성': 27521, '김윤세': 27522, '타블렛': 27523, '기능성식품': 27524, '실용신안': 27525, '직성': 27526, '박철웅': 27527, '니다': 27528, '앤제이': 27529, '옥동': 27530, '정재혁': 27531, '빛돌': 27532, '하광석': 27533, '임주완': 27534, '김의중': 27535, '꼬꼬': 27536, '고수진': 27537, '유러': 27538, '피안': 27539, 'lec': 27540, 'lcs': 27541, 'endpoint': 27542, '카본블랙': 27543, 'agent': 27544, 'console': 27545, '당자': 27546, 'gartner': 27547, '꼴찌': 27548, 'png': 27549, '무독': 27550, '납작하다': 27551, '가정폭력': 27552, '이순재': 27553, '머슴': 27554, '김세아': 27555, '호바': 27556, '노홍철': 27557, '사법고시': 27558, '대한전선': 27559, 'mlf': 27560, '복업': 27561, '중외': 27562, '저승사자': 27563, '심웅섭': 27564, '송준혁': 27565, '닭강정': 27566, '찢다': 27567, '루즌': 27568, '기수': 27569, '김준규': 27570, '안기현': 27571, '공황': 27572, '꼽았습니': 27573, '개악': 27574, 'kbnotrated': 27575, '안규리': 27576, '체이스': 27577, 'aig': 27578, '유나이티드헬스': 27579, '프라다': 27580, '발렌시아': 27581, '발렌티노': 27582, '롱샴': 27583, '로빈슨': 27584, '알뜰하다': 27585, '장평순': 27586, 'chatbot': 27587, 'voc': 27588, '이규진': 27589, 'wins': 27590, '윈스': 27591, '등현': 27592, '주가괴리율': 27593, '산북': 27594, '대흥동': 27595, '장위': 27596, '홍제': 27597, '파나마': 27598, '루사일': 27599, '전압': 27600, '미늄박입니': 27601, 'foil': 27602, '미쟈르': 27603, '레벤테': 27604, 'magyar': 27605, 'levente': 27606, '외교통상부': 27607, '에쉭': 27608, '로베트르': 27609, 'sik': 27610, 'bert': 27611, '최규식': 27612, '박기원': 27613, '부다페스트': 27614, '금창': 27615, 'pic': 27616, '저스독': 27617, '보훈청': 27618, '전병': 27619, '외로움': 27620, '우와': 27621, 'ots': 27622, 'ava': 27623, '트윈워시': 27624, '최종진': 27625, '천인': 27626, '이가흔': 27627, '목격담': 27628, '박지현': 27629, '임슬옹': 27630, '손담비': 27631, '멋있다': 27632, '항공공학': 27633, '중선': 27634, '신제': 27635, 'kist': 27636, 'kisti': 27637, 'kdata': 27638, 'sms': 27639, 'gepp': 27640, 'epidemic': 27641, '저었다': 27642, '프로덕션': 27643, '탭': 27644, '결재': 27645, '체험판': 27646, '바리공주': 27647, '베니': 27648, '플랫포머': 27649, '커넥트': 27650, 'finalist': 27651, '맨몸': 27652, '철제': 27653, '구조해': 27654, '침착하다': 27655, '낚시': 27656, '성산구': 27657, '현관문': 27658, '꼼짝': 27659, '로보틱스': 27660, 'mit': 27661, '돌진': 27662, '이종현': 27663, '베드룸': 27664, '룸셋': 27665, '생물정보학': 27666, '기록관리': 27667, '들고나다': 27668, 'coe': 27669, '넵튠': 27670, '장홍': 27671, '박봄': 27672, '구릿빛': 27673, '비키니': 27674, '보디': 27675, '옥주현': 27676, '박하선': 27677, '류수영': 27678, '반한': 27679, '철철': 27680, '샌프란': 27681, 'unpacked': 27682, 'palace': 27683, 'fine': 27684, 'arts': 27685, '가로축': 27686, '잠망경': 27687, '암페어시': 27688, '축차': 27689, '실롱스크': 27690, '스크린골프': 27691, '아나스': 27692, '가상공간': 27693, '파올로': 27694, '숀': 27695, '린리': 27696, '생물체': 27697, '스칸': 27698, '바퀴벌레': 27699, '생체모방': 27700, 'vb': 27701, 'ekr': 27702, 'keg': 27703, '케그': 27704, '민속주': 27705, '정찬우': 27706, '박재완': 27707, '문병': 27708, 'miip': 27709, 'msa': 27710, 'micro': 27711, 'architecture': 27712, 'cep': 27713, 'processing': 27714, '리모트콜': 27715, '박용호': 27716, '상속세': 27717, '호암': 27718, '이병철': 27719, '조혜련': 27720, '김기태': 27721, '조호': 27722, '조호견': 27723, '송정훈': 27724, '민항': 27725, '무기계약직': 27726, 'promise': 27727, '한콘진': 27728, '이정엽': 27729, '민속': 27730, '벡심': 27731, '마누라': 27732, '도화선': 27733, '직시': 27734, 'fang': 27735, '윤직': 27736, '로즈빌': 27737, '스피어': 27738, '접근제어': 27739, 'nac': 27740, '감회': 27741, '노암': 27742, '악독하다': 27743, '들들': 27744, '빌어': 27745, '밥투정': 27746, '받아쓰기': 27747, '우쭈쭈': 27748, '샌드백': 27749, '쓰레기통': 27750, '악물다': 27751, '집애': 27752, '역류성': 27753, '식도염': 27754, '위염': 27755, '대장염': 27756, '대인기피증': 27757, '공황장애': 27758, '위독하다': 27759, '앙금': 27760, '뛰어내리다': 27761, '부몬데': 27762, 'adhd': 27763, '과잉행동': 27764, 'neis': 27765, '입덕': 27766, 'gwsn': 27767, '현금인출기': 27768, '피혁': 27769, '탑승동': 27770, '춘추항공': 27771, '론칭해': 27772, 'mbsr': 27773, 'mindfulness': 27774, 'stress': 27775, '탄력성': 27776, '감정노동': 27777, '럴': 27778, '김용훈': 27779, '맥파': 27780, '보터': 27781, '석도': 27782, '무능력하다': 27783, '맵다': 27784, '볼케이노': 27785, '천왕': 27786, '견주들': 27787, '국영항공사': 27788, '일평생': 27789, '동맥': 27790, '음력': 27791, '근동': 27792, '유복하다': 27793, '어린시절': 27794, '직물': 27795, '휘문고보': 27796, '효제동': 27797, '조선총독부': 27798, '해안동': 27799, '양복': 27800, '세스나': 27801, 'kna': 27802, '중역': 27803, '승산': 27804, '중동전': 27805, '점보': 27806, '제네랄': 27807, '입버릇': 27808, '파카': 27809, '베트남전': 27810, '퀴논': 27811, '타계': 27812, '학교법인': 27813, '틀어주다': 27814, '따분하다': 27815, '유용성': 27816, '오토파일럿': 27817, '트렙': 27818, '용모': 27819, 'cmbs': 27820, '콜로니': 27821, '맞선': 27822, '중국일보': 27823, '씨야': 27824, '흥신소': 27825, '진본': 27826, '웡렁싱': 27827, '헌금': 27828, '오상헌': 27829, '해저': 27830, '지급준비율': 27831, '김영선': 27832, '학습지도': 27833, '줄줄': 27834, '리센츠': 27835, '이상정': 27836, '이병무': 27837, '박태호': 27838, '지식경제부': 27839, '사사건건': 27840, '재수출': 27841, '가공무역': 27842, '김춘호': 27843, '안쓰럽다': 27844, '불타다': 27845, '한정수': 27846, '불청': 27847, '덜컥': 27848, '완쾌': 27849, '수발': 27850, '무덤': 27851, '예비신부': 27852, '대물리다': 27853, '방향타': 27854, '산은': 27855, '이춘원': 27856, '정재경': 27857, '병호': 27858, '홍보팀': 27859, '류머티즘': 27860, '렌': 27861, '루푸스': 27862, '전효성': 27863, '장익': 27864, '선종': 27865, '애향': 27866, '박우식': 27867, '자호': 27868, '유소': 27869, '포곡': 27870, '김순곤': 27871, '라이온스클럽': 27872, '보라동': 27873, '부녀회': 27874, '아버': 27875, '싼값': 27876, '건선': 27877, '존부': 27878, '표리': 27879, '웃기': 27880, '위태롭다': 27881, '헌법재판관': 27882, '광역단체장': 27883, '기초단체장': 27884, '염재호': 27885, '최창훈': 27886, '떨떠름하다': 27887, '흥국생명': 27888, 'ul': 27889, '평화롭다': 27890, '위자': 27891, '시라즈': 27892, '메단': 27893, '탄도미사일': 27894, '무악동': 27895, '교남동': 27896, '가회동': 27897, '고집불통': 27898, '무능하다': 27899, '제구실': 27900, '명륜동': 27901, '꾹': 27902, '본받다': 27903, '예상외': 27904, '편집숍': 27905, '키덜트족': 27906, '데선': 27907, '디디다': 27908, '분점': 27909, '포은': 27910, '정몽주': 27911, '생가': 27912, '칼국수': 27913, '대명동': 27914, 'piih': 27915, 'mbkimm': 27916, '구애': 27917, 'ing': 27918, '장동우': 27919, '그을': 27920, 'vdr': 27921, '크레디트': 27922, '베인': 27923, '유통물량': 27924, '고제': 27925, '보건관리': 27926, '월간지': 27927, '비술': 27928, 'multilayered': 27929, 'costal': 27930, 'cartilage': 27931, 'graft': 27932, 'nasal': 27933, 'dorsal': 27934, 'augmentation': 27935, 'aesthetic': 27936, 'surgery': 27937, '재수술': 27938, '코끝': 27939, '튀어나오다': 27940, '김형호': 27941, '부조': 27942, '김상조': 27943, '안병원': 27944, '천안의료원': 27945, '지혜롭': 27946, '충주의료원': 27947, '입항': 27948, '승선원': 27949, '팻': 27950, '홀렌': 27951, '자치권': 27952, '공백기': 27953, '빈번히': 27954, '다롄': 27955, '투정': 27956, '올핸': 27957, '비슷': 27958, 'ga': 27959, '페이도': 27960, '학남': 27961, '유지원': 27962, '화학산': 27963, '습니': 27964, '자진사퇴': 27965, '무면허운전': 27966, '강민': 27967, '돌리시': 27968, '소방차': 27969, '아수라': 27970, '채동욱': 27971, '국정원장': 27972, '와신상담': 27973, '표상': 27974, '핍박': 27975, '분칠': 27976, '열중': 27977, '김동연': 27978, '표집': 27979, 'lidfop': 27980, 'geo': 27981, '노컷뉴스': 27982, '오영은': 27983, '트릴리언': 27984, 'trilliant': 27985, 'banpo': 27986, 'tri': 27987, 'brilliant': 27988, 'let': 27989, '에스토니아': 27990, 'residency': 27991, '영주권': 27992, 'linq': 27993, '하이퍼': 27994, 'hyperledger': 27995, 'azure': 27996, 'blockchain': 27997, 'bsn': 27998, '노드': 27999, 'token': 28000, '최민성': 28001, '고등법원': 28002, '강승준': 28003, '훈지': 28004, '보훈보상': 28005, '수십조': 28006, '오규택': 28007, '거대도시': 28008, '구덕산': 28009, '천마산': 28010, '봉래산': 28011, '초량': 28012, '아미동': 28013, '태극도': 28014, '민촌': 28015, '흰여울': 28016, '신기': 28017, '후광': 28018, '공공공간': 28019, '호에이': 28020, '박경근': 28021, 'lsfo': 28022, 'hsfo': 28023, '인콰리어리': 28024, '속수무책': 28025, '국란': 28026, '스런': 28027, '자칭': 28028, '떠들다': 28029, '나야': 28030, '풍토병': 28031, '왕창': 28032, '왕따': 28033, '재산형': 28034, '배승': 28035, '뜰': 28036, '순풍': 28037, '감평사': 28038, '라운딩': 28039, '졸업여행': 28040, '최원': 28041, 'ghp': 28042, '정수현': 28043, '브랜딩': 28044, '차송': 28045, '굿앤': 28046, '이장우': 28047, '나종호': 28048, '김형태': 28049, '이종석': 28050, '두둥': 28051, 'hj': 28052, '이상화': 28053, 'automotive': 28054, '감광': 28055, '노광': 28056, '감압잔': 28057, '감압증류': 28058, '시유': 28059, 'iea': 28060, '재택근무제': 28061, '만수': 28062, '꼽았던': 28063, '연주회': 28064, '빈체': 28065, '빈체로': 28066, '교토': 28067, '피아니스트': 28068, '발렌티': 28069, '예술의전당': 28070, '격정': 28071, '환희': 28072, '오푸스': 28073, '하고라도': 28074, '머레이': 28075, '노프': 28076, '콩쿠르': 28077, '레이블': 28078, '소나타': 28079, '템페스트': 28080, '함머': 28081, '클라비어': 28082, '응분': 28083, '민세': 28084, '헤리티지재단': 28085, '이근형': 28086, '결승선': 28087, '초발': 28088, '역겹다': 28089, '잠시간': 28090, '정쟁': 28091, '최진': 28092, '도봉산': 28093, '청계산입구역': 28094, '강일': 28095, 'btx': 28096, '정확': 28097, '김경록': 28098, '이중매매': 28099, '명예훼손죄': 28100, '의무교육': 28101, '장영자': 28102, 'asian': 28103, 'beauty': 28104, 'creator': 28105, '마케터': 28106, 'viral': 28107, 'vector': 28108, '오상훈': 28109, '열광': 28110, '마오타이': 28111, '관둘': 28112, '사무장': 28113, '갈고': 28114, '말솜씨': 28115, '무관심하다': 28116, '틀어막다': 28117, '스튜어드': 28118, '방만하다': 28119, '객관성': 28120, '지옥': 28121, '쥐스탱': 28122, '오타와': 28123, '영주권자': 28124, '불광동': 28125, '활활': 28126, '썸': 28127, '손강': 28128, '쥐해': 28129, '정종섭': 28130, '학장': 28131, '헌법학자': 28132, '청치': 28133, '달랑': 28134, '명색': 28135, '내버리다': 28136, '미덕': 28137, '반어': 28138, '야비하다': 28139, '문수사': 28140, '사견': 28141, '지극히': 28142, '레임덕': 28143, '히든챔피언': 28144, '과도기': 28145, '권영재': 28146, '권섬점': 28147, '권리금': 28148, '산척': 28149, '지루함': 28150, '코엑스몰': 28151, '퍼니싱': 28152, '홈인': 28153, '헤리포터': 28154, '짚라인': 28155, '구매권': 28156, '바스켓': 28157, '마스터카드': 28158, '테러범': 28159, '서욱': 28160, '참모총장': 28161, '안순': 28162, '이부진': 28163, '뉴스타파': 28164, '진료기록': 28165, '양덕': 28166, '미성': 28167, '아현동': 28168, '음악콘텐츠': 28169, '정신장애': 28170, '인복': 28171, '청해': 28172, '안지영': 28173, '장문수': 28174, 'sio': 28175, '페로': 28176, '과채': 28177, '톡방': 28178, '둔감하다': 28179, '극약': 28180, '랍스터': 28181, '남단': 28182, '이탈리아반도': 28183, '새천년': 28184, '고향이': 28185, '김장열': 28186, '승리자': 28187, '전국연합': 28188, '채점': 28189, '재무컨설팅': 28190, '주택임대차보호법': 28191, '임대차보호법': 28192, '국선변호인': 28193, '에게까지': 28194, '전자여행허가제': 28195, 'eta': 28196, 'jntc': 28197, '블랙베리': 28198, '엑스플레이': 28199, '커넥터': 28200, '곡면': 28201, '젖히다': 28202, '대변항': 28203, '문탠': 28204, '청사포': 28205, '걸어가다': 28206, '청림': 28207, '목조': 28208, '호미곶': 28209, '과메기': 28210, '게로': 28211, '악하다': 28212, '아바이': 28213, '정자': 28214, '율림재': 28215, '죽포': 28216, '원효대사': 28217, '창건': 28218, '보리암': 28219, '석모도': 28220, '보문사': 28221, '양양군': 28222, '낙산사': 28223, '홍련암': 28224, '관음': 28225, '괴석': 28226, '암자': 28227, '빼어나다': 28228, '돌산대교': 28229, '뭍': 28230, '소율항': 28231, '율항': 28232, '도처': 28233, '화태': 28234, '고래': 28235, '집게발': 28236, '솟아오르다': 28237, '찬희': 28238, '역기': 28239, 'allplex': 28240, '유럽축구선수권대회': 28241, 'qnc': 28242, '최진순': 28243, '머핀': 28244, '마노핀': 28245, '대현동': 28246, '정우현': 28247, '헌정회': 28248, '발안': 28249, '개헌안': 28250, '시들다': 28251, '간간히': 28252, '건만': 28253, '반의': 28254, '전출': 28255, '궤변': 28256, '엄호': 28257, '친일행위': 28258, '하물며': 28259, '색깔론': 28260, '척결': 28261, '드세지다': 28262, '괴상하다': 28263, '다그치다': 28264, '뭉': 28265, '책동': 28266, '쿠바': 28267, '피그': 28268, '카스트로': 28269, '아이비리그': 28270, '사고방식': 28271, '패착': 28272, 'nest': 28273, '유봉': 28274, '안전벨트': 28275, '성가시다': 28276, '걸프': 28277, '조우': 28278, '봉구': 28279, 'comment': 28280, '신우': 28281, '휘청': 28282, '홍천': 28283, '폭포수': 28284, '슈펀': 28285, '스핀': 28286, '중력가속도': 28287, '맴': 28288, '사촌': 28289, '외삼촌': 28290, '이미경': 28291, '개명': 28292, '동계스포츠': 28293, '미르': 28294, '혼쭐': 28295, '오찬': 28296, '노벨평화상': 28297, '송재경': 28298, '아키에이지': 28299, '달빛조각사': 28300, '배틀': 28301, 'ribelle': 28302, '항아': 28303, '한가운데': 28304, '희소': 28305, '시프트': 28306, 'proteo': 28307, 'urano': 28308, 'misura': 28309, '최상급': 28310, '얼룩': 28311, '라이닝': 28312, '차양': 28313, '곡선미': 28314, '넬로': 28315, '파울로': 28316, '넬리': 28317, '섭외': 28318, '별칭': 28319, '아스피린': 28320, 'lgg': 28321, '국서': 28322, '식품점': 28323, '지휘봉': 28324, '완속': 28325, 'rx': 28326, '이빙': 28327, '글락소스미스클라인': 28328, 'gsk': 28329, '엘립타': 28330, '줄라': 28331, '테바': 28332, '수재나': 28333, '강두': 28334, '스폿': 28335, '탄두': 28336, '에어포스원': 28337, '발자국': 28338, '대륙간탄도미사일': 28339, '레드라인': 28340, '금수산태양궁전': 28341, '편집자': 28342, '맞닥뜨린': 28343, '면면': 28344, '국감': 28345, 'tags': 28346, '이동규': 28347, '이정문': 28348, '서영석': 28349, '퍼펙트': 28350, '유행병': 28351, '거미줄': 28352, '세쿼이아': 28353, '슈피겔': 28354, 'bdi': 28355, '박성봉': 28356, '운송계약': 28357, '업발': 28358, '포털시스템': 28359, '고용보': 28360, '안동시': 28361, '싸구려': 28362, '어르다': 28363, '퀀텀점프': 28364, '재는': 28365, '스테인리스강': 28366, '철로': 28367, '키네': 28368, '스테인리스': 28369, 'pospvd': 28370, '나뭇잎': 28371, '단조롭다': 28372, '잇속': 28373, '통탄': 28374, '실색': 28375, '물르다': 28376, '묵살': 28377, '도료': 28378, '연이율': 28379, '영수회담': 28380, '리해': 28381, '패러글라이딩': 28382, '오리엔티어링': 28383, '이희영': 28384, '긴급폐쇄': 28385, '미화원': 28386, '남아도': 28387, '류담': 28388, '장식품': 28389, '시티플러스': 28390, '스듀': 28391, '프리가': 28392, '권별': 28393, '득점': 28394, '하야': 28395, '보령제약': 28396, '글렀다': 28397, '합성사진': 28398, '일간베스트': 28399, '포토샵': 28400, '살균제': 28401, '퍼킨': 28402, '랙티브': 28403, 'sie': 28404, '타원형': 28405, '블루레이': 28406, 'gta': 28407, '테프': 28408, '스파이더맨': 28409, '모랄레스': 28410, '그란투리스모': 28411, '웨스트': 28412, '레지던트': 28413, '이블': 28414, '테라플롭스': 28415, '호환성': 28416, '담벼락': 28417, '곽노현': 28418, '문부과학성': 28419, '총무성': 28420, '부들': 28421, '선명': 28422, '김성회': 28423, '결하': 28424, '아스라하다': 28425, '뿌옇다': 28426, '장엄하다': 28427, '누에': 28428, '이태원동': 28429, '쇠': 28430, '쇠솔질': 28431, 'spsi': 28432, '부에노스아이레스': 28433, '미니멀리즘': 28434, '윤형근': 28435, '정창섭': 28436, '최상철': 28437, '강영준': 28438, '김택상': 28439, '김아타': 28440, '이진영': 28441, 'monochrome': 28442, 'painting': 28443, '고령토': 28444, '신문지': 28445, '연필': 28446, '너덜너덜하다': 28447, '옻칠': 28448, '샤프심': 28449, '윤상렬': 28450, '아래층': 28451, '위층': 28452, '덩': 28453, '찌그러지다': 28454, '박여숙': 28455, '방기': 28456, '개보': 28457, '운전사': 28458, '김순': 28459, '러시아어': 28460, '채널엔': 28461, '시찰': 28462, '가상화': 28463, '폐인': 28464, '인민조선': 28465, '내나라': 28466, '쥬스': 28467, '멸할': 28468, '팻말': 28469, '대혁명': 28470, '이여': 28471, '탁치': 28472, '부주석': 28473, '최루': 28474, '물대포': 28475, '침사추이': 28476, '언쟁': 28477, '개막식': 28478, '모독': 28479, '정보기관': 28480, '은메달': 28481, '김옥': 28482, '행해': 28483, '박춘엽': 28484, '비처': 28485, '치즈버거': 28486, '쿼터파운더': 28487, '앤토니': 28488, '유유제약': 28489, '엑시프렙': 28490, '은병': 28491, '을지대': 28492, '애완동물': 28493, '차리기': 28494, '헝겊': 28495, '이소프로필알코올': 28496, '의약외품': 28497, '손깍지': 28498, '엄지손가락': 28499, '물기': 28500, '페이퍼타월': 28501, '발톱': 28502, '노다지': 28503, '천왕봉': 28504, '법계': 28505, '남동풍': 28506, '마리오': 28507, '절하': 28508, '맥줏집': 28509, '권재진': 28510, '공안': 28511, '최보숙': 28512, '앗줄': 28513, '정기승': 28514, '병조': 28515, '쉼표': 28516, '궈밍쩡': 28517, '황성': 28518, '앗다': 28519, '축구공': 28520, '살인죄': 28521, '초범': 28522, '우롱': 28523, '비명': 28524, '경민': 28525, '켈라': 28526, 'kela': 28527, 'vatt': 28528, '국민총소득': 28529, '박양수': 28530, '벌칙': 28531, '의협': 28532, '날치기': 28533, '태양빛': 28534, '억배': 28535, '양병훈': 28536, '박정구': 28537, '동우': 28538, '웰킵스': 28539, '코리': 28540, '시중금리': 28541, '바람나다': 28542, '참관인': 28543, '신율': 28544, '외교학': 28545, '다이소': 28546, '범죄단체조직죄': 28547, '가나가와현': 28548, '사이타마현': 28549, '지바현': 28550, '오사카부': 28551, '효고': 28552, '후쿠오카현': 28553, '드라이브스루': 28554, '보도로': 28555, '김용희': 28556, '손예진': 28557, '송강호': 28558, '소유진': 28559, '유수빈': 28560, '별그대': 28561, '김주': 28562, 'trends': 28563, '곡조': 28564, '귓가': 28565, '맴돈다': 28566, 'grab': 28567, 'rub': 28568, '재채기': 28569, '칭': 28570, 'binge': 28571, 'watching': 28572, '디오트': 28573, '혈맥': 28574, '기울기': 28575, '낱': 28576, '서너': 28577, '에이전시': 28578, '남짓하다': 28579, '딜리셔스': 28580, '동팡': 28581, '최정욱': 28582, '부산대학교': 28583, '바이올렛': 28584, '티타늄': 28585, '중보': 28586, '매제': 28587, '인벤': 28588, '금융청': 28589, '히로시마': 28590, '퇴소': 28591, '누진세': 28592, '억빅': 28593, '종두법': 28594, '에게서는': 28595, '이효준': 28596, 'ivi': 28597, 'nie': 28598, '갈릴레이': 28599, 'burden': 28600, '습량': 28601, '반지름': 28602, '세제곱': 28603, '문명': 28604, 'pisa': 28605, '성취도': 28606, '교생': 28607, '수리과학': 28608, '물리화학': 28609, '계전기': 28610, '김남영': 28611, '퀸힘': 28612, '이진수': 28613, '이석우': 28614, '샘표식품': 28615, '조대림': 28616, '고추장': 28617, '식용유': 28618, '박희진': 28619, '전제완': 28620, '다이어리': 28621, '소노캄': 28622, '비발디': 28623, 'dog': 28624, '슬립': 28625, '툇마루': 28626, '스카프': 28627, '배변': 28628, '보딩': 28629, '산토리니': 28630, '선셋': 28631, '수평선': 28632, '석양': 28633, '영통구': 28634, '이미윤': 28635, '예결특위': 28636, '국민소환제': 28637, '민경진': 28638, '상처리': 28639, '후대': 28640, '에노': 28641, '임승준': 28642, '곧이어': 28643, '수포': 28644, '롤렉스': 28645, '내연': 28646, '밤길': 28647, '호롱불': 28648, '백열전구': 28649, '할로겐': 28650, 'hid': 28651, '전구': 28652, '광량': 28653, 'adb': 28654, '렌티큘러': 28655, '엠블럼': 28656, '취함': 28657, '삼중': 28658, '박문희': 28659, '원혜영': 28660, '얼마만큼': 28661, '툭하면': 28662, '피엠씨텍': 28663, '흑연': 28664, '성미': 28665, '유튜버들': 28666, '크라우드소싱': 28667, '초벌': 28668, '인도네시아어': 28669, '태국어': 28670, '김희서': 28671, '팔이': 28672, '면피': 28673, '총포': 28674, '도검': 28675, '운동에너지': 28676, '준치': 28677, '니시무라': 28678, '토시': 28679, '전기밥솥': 28680, '명판': 28681, '미국언론': 28682, 'cpj': 28683, '병자': 28684, '공평하다': 28685, '타임지': 28686, '날아들다': 28687, '레즈': 28688, '가자지구': 28689, 'plo': 28690, '야유': 28691, '엉망': 28692, '세례': 28693, '불쾌감': 28694, '무례': 28695, '무바라크': 28696, '대중매체': 28697, '북아프리카': 28698, '베냐민': 28699, '조각품': 28700, '슬리퍼': 28701, '모스크': 28702, '맨발': 28703, '정결': 28704, '특별인출권': 28705, '백억': 28706, '우주복': 28707, '아성': 28708, '숨쉬다': 28709, '석면': 28710, '포스트잇': 28711, '스카치테이프': 28712, '할하': 28713, '샅샅이': 28714, '의술': 28715, '홉킨스': 28716, '뚤렸다': 28717, '허문영': 28718, '가산동': 28719, 'japan': 28720, 'germany': 28721, '야근': 28722, '작업시간': 28723, '생산물량': 28724, '따로따로': 28725, '보안면': 28726, '성부': 28727, 'spdr': 28728, '이크스': 28729, 'smccf': 28730, '안색': 28731, '뽀얗다': 28732, '유기산': 28733, '물광': 28734, '내용물': 28735, '싯골': 28736, '부경': 28737, '동명대': 28738, '폴짝': 28739, '엔조이': 28740, '기계설계': 28741, '팅기다': 28742, '박혜령': 28743, '밥정': 28744, '결백': 28745, '신혜선': 28746, '개봉일': 28747, '부질없다': 28748, '나안': 28749, '류마티즘': 28750, '예방주사': 28751, '이정기': 28752, '김규': 28753, '김하나': 28754, '만리': 28755, '고척동': 28756, '롭먼트': 28757, '고척': 28758, '만취': 28759, '나체사진': 28760, '몇개': 28761, '쭉': 28762, '매달리다': 28763, '게으름': 28764, '가계부': 28765, '얼버무리다': 28766, '까딱': 28767, '껏': 28768, '재택하': 28769, '인내심': 28770, '저런': 28771, 'divorce': 28772, 'covidivorce': 28773, '철학자': 28774, '쇼펜하우어': 28775, '우화': 28776, '찔리다': 28777, '김유정': 28778, '지창욱': 28779, '한지혜': 28780, '자유권': 28781, '평등권': 28782, '재판관': 28783, '도로교': 28784, '전기자전거': 28785, '법례': 28786, '한경제': 28787, 'mercado': 28788, 'libre': 28789, 'psr': 28790, '봉명': 28791, '기독': 28792, '온누리': 28793, '청아': 28794, '송라': 28795, '오경': 28796, '북갑': 28797, '협잡': 28798, '글램': 28799, 'dtn': 28800, '플필먼트': 28801, '슬림쿡': 28802, '덕평': 28803, '공급사슬': 28804, '빅픽쳐': 28805, '추격자': 28806, '이제훈': 28807, '안재홍': 28808, '최우식': 28809, '박정민': 28810, '이동진': 28811, '야동': 28812, '진세연': 28813, '이수혁': 28814, '빌스': 28815, '택스': 28816, '대마초': 28817, '인선': 28818, '전대협': 28819, '공통점': 28820, '김일성': 28821, '방북': 28822, '호갱': 28823, '강창일': 28824, '하든': 28825, '역공': 28826, '불응': 28827, '방자하다': 28828, '어쩌려': 28829, '코뿔소': 28830, '난장판': 28831, '값임': 28832, '도실': 28833, '김진태': 28834, '철원': 28835, '인양': 28836, '아시냐': 28837, '공사채': 28838, '뜻일': 28839, '비합리적': 28840, '노동시간': 28841, '기회비용': 28842, '정상재': 28843, '똥': 28844, '못눈': 28845, '오현우': 28846, '예악당': 28847, '풍류': 28848, '가무': 28849, '음악인': 28850, '가곡': 28851, '자진한잎': 28852, '정악': 28853, '악곡': 28854, '관현악': 28855, '윤현진': 28856, '박수현': 28857, '가야금': 28858, '김슬': 28859, '아쟁': 28860, '김수연': 28861, '명창': 28862, '수궁가': 28863, '관현악단': 28864, '노래뎐': 28865, '안은미': 28866, '대니': 28867, '네거리': 28868, '누범': 28869, '용정': 28870, '직능': 28871, '이태규': 28872, '김진애': 28873, '서청원': 28874, '이은재': 28875, '전국구': 28876, '원호': 28877, '수진동': 28878, '간지럼': 28879, '김재룡': 28880, '교착상태': 28881, '팬티': 28882, '사송': 28883, '롯데렌탈': 28884, '가미가제': 28885, '존재도': 28886, '손가락질': 28887, '가신': 28888, '무성의': 28889, '이리저리': 28890, '명망가': 28891, '무력하다': 28892, '오르막': 28893, '여성인권': 28894, '고품격': 28895, '직분': 28896, '트로닉': 28897, '초이': 28898, '프로그레시브': 28899, '댐퍼': 28900, '댐핑': 28901, '저속': 28902, 'hud': 28903, '뱅앤올룹슨': 28904, '전통문화': 28905, '강진규': 28906, '강상': 28907, '임재현': 28908, '탁주': 28909, '옭아매다': 28910, '페일에일': 28911, '종량세': 28912, '술지게미': 28913, '검인': 28914, '박정진': 28915, '감세': 28916, '영동군': 28917, '국민계정': 28918, '알리오': 28919, '직고': 28920, '말고는': 28921, '최민지': 28922, '허수아비': 28923, '검심': 28924, '명맥': 28925, '크릴': 28926, '조보람': 28927, '통폐합': 28928, '병화': 28929, '현승': 28930, '오치훈': 28931, '재교육': 28932, '발렛': 28933, '본대': 28934, '중공군': 28935, '이남': 28936, '영국군': 28937, '코만도': 28938, '총검': 28939, '누비': 28940, '무공훈장': 28941, '샤크라': 28942, '싸다니다': 28943, '성곽': 28944, '김태철': 28945, '주사위': 28946, '카이사르': 28947, '원주민': 28948, '콜럼버스': 28949, '신대륙': 28950, '상대성': 28951, '케임브리지대': 28952, '지평선': 28953, '우연이': 28954, '폴트': 28955, '결정론': 28956, '각성': 28957, '일색': 28958, '역사왜곡': 28959, '스물': 28960, '임시직': 28961, '베르사유조약': 28962, '히틀러': 28963, '칭송': 28964, '친소': 28965, '악담': 28966, '금서': 28967, '헤겔': 28968, '변증법': 28969, '마르크스주의자': 28970, '연적': 28971, '전체주의': 28972, '공산주의': 28973, '이데올로기': 28974, '아이러니': 28975, '일목요연하다': 28976, '백찬': 28977, '허재': 28978, '룽': 28979, 'niv': 28980, '케랄라': 28981, '피어리뷰': 28982, 'rbd': 28983, '헛수고': 28984, '요금소': 28985, 'membership': 28986, 'ksb': 28987, 'sharing': 28988, 'board': 28989, '감시인': 28990, '워크샵': 28991, '심볼': 28992, '장일': 28993, '행복감': 28994, '줏대': 28995, '경영학석사': 28996, '노스웨스턴대': 28997, '신희택': 28998, '정혜영': 28999, '김정식': 29000, '김남준': 29001, '최방길': 29002, '공보실': 29003, '조훈현': 29004, '김성찬': 29005, '명정': 29006, '농림수산식품부': 29007, '지세': 29008, '반지하': 29009, '가계약': 29010, '만월': 29011, '신명': 29012, '강림': 29013, '합일': 29014, '봉산탈춤': 29015, '미얄': 29016, '할미': 29017, '빗대다': 29018, '학춤': 29019, '부채춤': 29020, '춘향가': 29021, '몽룡': 29022, '인무': 29023, '장고춤': 29024, '농악': 29025, '소고춤': 29026, '농악놀이': 29027, '김명곤': 29028, '안무': 29029, '하일': 29030, '생선회': 29031, '육회': 29032, '약수': 29033, '김낙훈': 29034, '김낙': 29035, '조병': 29036, '론스타': 29037, 'isd': 29038, '사실혼': 29039, '심폐': 29040, '핑계': 29041, '알펜': 29042, '메자닌': 29043, '거린': 29044, '몰트': 29045, '배대원': 29046, '앰배서더': 29047, '익스페리멘탈': 29048, '케인': 29049, '김종우': 29050, '순경': 29051, '적성검사': 29052, '리크루팅': 29053, '타이완성': 29054, '몰디브': 29055, '김호': 29056, '환각': 29057, '히드로': 29058, 'thc': 29059, '밤새': 29060, '자동차세': 29061, '대한국': 29062, '토도': 29063, '이원재': 29064, '예체능': 29065, '수의학': 29066, '리설주': 29067, '외설': 29068, '사하구': 29069, '문형욱': 29070, '행함': 29071, '악질': 29072, '극악': 29073, '독설': 29074, '껌': 29075, '진급': 29076, '구안와사': 29077, '꼬': 29078, '거렸다': 29079, '내부고발자': 29080, '호통': 29081, '신문고': 29082, '심부름': 29083, '국뽕': 29084, '뛰어다니다': 29085, '폐쇄몰': 29086, '블로슈머': 29087, '보관료': 29088, 'pl': 29089, 'sba': 29090, '호스트클럽': 29091, '정전협정': 29092, '개인화기': 29093, '아브뉴프': 29094, '랑은': 29095, '간결하다': 29096, '광안': 29097, '광안리해수욕장': 29098, 'casual': 29099, '민락': 29100, '변두리': 29101, '지방직': 29102, '김기만': 29103, '강봉주': 29104, '광해': 29105, '허덕이다': 29106, '첨자': 29107, '진설': 29108, '찻길': 29109, '두레': 29110, '박재원': 29111, '슈밋': 29112, '취합하': 29113, '학습원': 29114, '차이나모바일': 29115, '차이나유니콤': 29116, '과학기술대': 29117, '갈구다': 29118, '페니실린': 29119, '다이너마이트': 29120, '아스파탐': 29121, '우연히': 29122, '신정훈': 29123, '허니버터칩': 29124, '송길영': 29125, '탐독': 29126, '파이썬': 29127, '가교': 29128, '소수점': 29129, 'elf': 29130, '어느덧다': 29131, '슈머': 29132, 'modify': 29133, 'comsumer': 29134, '물컵': 29135, '라테': 29136, '에너지드링크': 29137, '멸망하다': 29138, '찰싹': 29139, 'drm': 29140, '소스코드': 29141, 'dlp': 29142, '김용길': 29143, 'rem': 29144, '남관': 29145, '각론': 29146, '카더라': 29147, '선릉역': 29148, '다인': 29149, 'dfb': 29150, '구들': 29151, '리스테리아': 29152, '노로바이러스': 29153, '윤성일': 29154, 'wellness': 29155, '루이비스': 29156, '웨딩홀': 29157, '빠숑': 29158, '대통령선거': 29159, '예비선거': 29160, '주법': 29161, '일리노이': 29162, '부재자': 29163, '정인': 29164, '이동명': 29165, '의정부지방법원': 29166, '정병석': 29167, '박태주': 29168, '김덕현': 29169, '예종석': 29170, '국회예산정책처장': 29171, '적반하장': 29172, '부글': 29173, '아서': 29174, '박창현': 29175, '무거워': 29176, '강태우': 29177, '물속': 29178, '오염원': 29179, '수경재배': 29180, '용존': 29181, '임락근': 29182, '민망': 29183, 'fans': 29184, 'wish': 29185, 'every': 29186, 'matters': 29187, 'emd': 29188, '응원봉': 29189, 'yes': 29190, 'flo': 29191, 'nugu': 29192, '카페인': 29193, 'soulcup': 29194, '플래티늄': 29195, 'goods': 29196, '유종인': 29197, '시종': 29198, 'cushing': 29199, '휘경동': 29200, '정연욱': 29201, '춘자': 29202, '김종대': 29203, '정우택': 29204, '흥석': 29205, '수공': 29206, '천하다': 29207, '안양동': 29208, '정미': 29209, '재보궐': 29210, '득표수': 29211, '승패': 29212, 'po': 29213, '한산': 29214, '멍하니': 29215, 'leader': 29216, 'jmi': 29217, 'electronic': 29218, 'manufacturing': 29219, '부코': 29220, '칼끝': 29221, '겨눈': 29222, '국무총리실': 29223, '김윤배': 29224, '패키지디자인': 29225, '차이코프스키': 29226, '농산': 29227, '흥복': 29228, '락희': 29229, '미쯔': 29230, 'hrsg': 29231, '제전': 29232, '먹고살다': 29233, '류허': 29234, '불투명': 29235, '불보듯': 29236, '전두환': 29237, '스폰서': 29238, '병중': 29239, '마음먹다': 29240, '충무동': 29241, '부전동': 29242, '지하도': 29243, '순환로': 29244, '어쭙잖다': 29245, '형이상학적': 29246, '공복': 29247, '난사': 29248, '얼떨결': 29249, '참변': 29250, 'moonlighted': 29251, '능멸': 29252, '첨언했다': 29253, '오염시키다': 29254, 'sncid': 29255, 'dso': 29256, 'jama': 29257, '초순': 29258, '난간': 29259, '면봉': 29260, '부산지하철': 29261, '동백역': 29262, '빌리브': 29263, '도룡': 29264, '고준석': 29265, '공병': 29266, '여리다': 29267, '소라': 29268, '기하학': 29269, '모션그래픽': 29270, '안드레아스': 29271, '바너스테트': 29272, '군대장': 29273, '동한': 29274, '학생운동': 29275, '특별사면': 29276, '피선거권': 29277, 'npl': 29278, '박현준': 29279, '경감시키다': 29280, '불사': 29281, '동창': 29282, '결행': 29283, '받침': 29284, '아르키메데스': 29285, '좇는': 29286, '나민': 29287, 'penetration': 29288, 'play': 29289, '쫄': 29290, '최연혜': 29291, '해치백': 29292, '클러치': 29293, '수동변속기': 29294, '전고': 29295, '단종': 29296, '부릉대다': 29297, '간지럽다': 29298, '혔': 29299, '슬라럼': 29300, '카나': 29301, '급회전': 29302, '굉음': 29303, '급발진': 29304, '친김': 29305, '교관': 29306, '타다닥': 29307, 'grin': 29308, 'shift': 29309, '파친코': 29310, 'because': 29311, '후세': 29312, '넥쏘': 29313, '피챌': 29314, 'selfie': 29315, 'challenge': 29316, '투나잇': 29317, '댄싱퀸': 29318, '김진': 29319, 'noc': 29320, '렌즈삽입술': 29321, '교정술': 29322, 'welcome': 29323, 'pink': 29324, 'tts': 29325, '음향효과': 29326, '태진': 29327, '명강': 29328, '전예진': 29329, '전남편': 29330, '쟤': 29331, '잠결': 29332, '뜬금': 29333, '알리바이': 29334, '무얼': 29335, '날수': 29336, 'ih': 29337, '전기레인지': 29338, '로봇쿠커': 29339, '생환': 29340, '승학': 29341, 'isaac': 29342, 'newton': 29343, '족보': 29344, '접붙이기': 29345, '가지치기': 29346, '지프': 29347, '애매모호하다': 29348, '잡스': 29349, '부터도': 29350, '강남역': 29351, '김규식': 29352, '접이식': 29353, '늘어서다': 29354, '하은': 29355, '일두': 29356, '핀잔': 29357, '절의': 29358, '곽재혁': 29359, '구박': 29360, '김봉민': 29361, '가공품': 29362, 'cofix': 29363, '금률': 29364, '김해연': 29365, '마산창': 29366, '객주': 29367, '자축': 29368, '대변자': 29369, '안절부절': 29370, '전과자': 29371, '병원선': 29372, 'grand': 29373, 'josun': 29374, '웅장': 29375, '발음': 29376, '노보텔': 29377, '모나코': 29378, '움베르트': 29379, '포예': 29380, '채양': 29381, 'seize': 29382, '다현': 29383, '채영은': 29384, '술회': 29385, '백범': 29386, '시청각': 29387, '앞길': 29388, '천자': 29389, '우러러': 29390, '부끄러움': 29391, '만류': 29392, '문빠': 29393, '반일': 29394, 'eular': 29395, '저체중': 29396, '과체중': 29397, '여량': 29398, '권규': 29399, '특허심판원': 29400, '지미': 29401, '카터': 29402, '요리사': 29403, '진기하다': 29404, '악어': 29405, '캥거루': 29406, '별미': 29407, '사시미': 29408, '바다거북': 29409, '페루': 29410, 'frog': 29411, '조니': 29412, 'johnny': 29413, 'crapaud': 29414, '입각': 29415, '친밀': 29416, '확증편향': 29417, '말뫼': 29418, '음경': 29419, '독거미': 29420, '구더기': 29421, '산낙지': 29422, '낫또': 29423, '기호식품': 29424, '방어기제': 29425, '푸른곰팡이': 29426, '피어': 29427, '인수공통감염병': 29428, '천산갑': 29429, '박쥐': 29430, 'cites': 29431, '요즈음': 29432, '시사자키': 29433, '정관용': 29434, '친고죄': 29435, '취조': 29436, '문대': 29437, '선경': 29438, '심지현': 29439, '옵니까': 29440, '배은망덕': 29441, '보폭': 29442, '노효선': 29443, '애큐': 29444, '끙끙': 29445, '마무': 29446, '사천이': 29447, '후사': 29448, '간곡': 29449, 'mini': 29450, '종보': 29451, '갑산': 29452, '피멍': 29453, '누구신지': 29454, '규합': 29455, '울분': 29456, '최인식': 29457, '준위': 29458, '범사': 29459, '회단': 29460, '트위터리안': 29461, '블로썸': 29462, 'blossomcy': 29463, 'tof': 29464, '망원렌즈': 29465, '이인용': 29466, '신바람': 29467, '영통': 29468, '멸실': 29469, '비비고': 29470, '냉면집': 29471, '본회': 29472, '가부': 29473, '문종': 29474, '상장도': 29475, '리볼빙': 29476, '짜증나다': 29477, '영광군': 29478, '빌게이츠': 29479, 'way': 29480, '챔버': 29481, '유닛': 29482, '스펜서': 29483, '스크': 29484, '빙': 29485, 'hmd': 29486, 'head': 29487, 'mounted': 29488, '라이팅': 29489, '숏': 29490, '이학구': 29491, 'dbpa': 29492, '조인': 29493, '자청': 29494, '차레': 29495, '불기소': 29496, '향응': 29497, '이론가': 29498, '체련장': 29499, '수영복': 29500, '작약': 29501, '후정': 29502, '티타임': 29503, '익일': 29504, '우천': 29505, '팔각정': 29506, '생신': 29507, '정의롭': 29508, '조기졸업': 29509, '지연해': 29510, '덤비다': 29511, '치루려던': 29512, '들키다': 29513, '취직': 29514, '남친': 29515, 'cia': 29516, '잔혹': 29517, '생인': 29518, '화약': 29519, '조약': 29520, '이현주': 29521, '기니피그': 29522, 'ino': 29523, '스탯': 29524, 'stat': 29525, '불충분하다': 29526, '김종열': 29527, '바라카': 29528, 'nawah': 29529, 'tospace': 29530, 'thinning': 29531, '황경': 29532, '권익위': 29533, '원연': 29534, '이계': 29535, '전정': 29536, '블록버스터': 29537, '의약화학': 29538, '다오': 29539, '춘추관': 29540, '죽변': 29541, '장발': 29542, 'keit': 29543, '축연': 29544, '균일': 29545, '내열성': 29546, '대들보': 29547, '체력검정': 29548, '엑사': 29549, '섬나라': 29550, '인민대회당': 29551, '국빈': 29552, '방중': 29553, '치키다': 29554, '초코파이': 29555, '꼬북칩': 29556, '포카칩': 29557, '취식하': 29558, '금지명령': 29559, '대리시': 29560, '타타대우상용차': 29561, '유역': 29562, '환경보호': 29563, 'environmental': 29564, 'effort': 29565, '빈롱': 29566, '총지배인': 29567, '난주': 29568, '이석현': 29569, '신흥시장': 29570, '시장실패': 29571, '수익모델': 29572, '강중': 29573, '프라이부르크': 29574, '원희목': 29575, '판피린': 29576, '가마솥': 29577, '렐': 29578, '피복': 29579, 'infoconn': 29580, 'infotainment': 29581, '코란도': 29582, 'assistance': 29583, 'wisdom': 29584, '즐': 29585, '강종': 29586, '상열': 29587, '이재홍': 29588, '박영철': 29589, '고꾸라지다': 29590, '컨설팅센터': 29591, '특별출연': 29592, '생면부지': 29593, '홍창현': 29594, '혈연': 29595, '기적처럼': 29596, '몸소': 29597, '칠곡군': 29598, 'ime': 29599, '강당': 29600, '강석태': 29601, '토스트': 29602, '이형민': 29603, '성신여대': 29604, '애스크': 29605, '까르푸': 29606, '수염': 29607, '군복무': 29608, '본국': 29609, '직설': 29610, '서섹스': 29611, '깍': 29612, '덜덜': 29613, 'vcm': 29614, '배틀로열': 29615, '배틀로얄': 29616, '방준혁': 29617, '파이트': 29618, '판호': 29619, '외자': 29620, '보양': 29621, '국탕류': 29622, '상온': 29623, '두툼': 29624, '소갈비': 29625, '핏물': 29626, '갈비살': 29627, '육질': 29628, '시래기': 29629, '들깨': 29630, '자루': 29631, '빅스': 29632, '영풍': 29633, '지만원': 29634, '이승진': 29635, '쿡스': 29636, '뚜껑': 29637, '테프론': 29638, '계량컵': 29639, '자취': 29640, '패킹': 29641, 'pfoa': 29642, '옥탄산': 29643, 'pfo': 29644, '옥탄': 29645, '술폰산': 29646, 'kotiti': 29647, '동광': 29648, '이원표': 29649, '펠로우': 29650, 'fsn': 29651, 'ydm': 29652, '타일랜드': 29653, 'ipg': 29654, '멀린': 29655, '이라곤': 29656, '징발': 29657, '여벌': 29658, '중동전쟁': 29659, '수리물량': 29660, '산업대': 29661, '학인': 29662, '국연': 29663, '구등': 29664, 'fm': 29665, 'landmark': 29666, 'mhev': 29667, 'atpc': 29668, '모바일월드콩그레스': 29669, 'sniec': 29670, '지유': 29671, '연무': 29672, 'limitless': 29673, 'intelligent': 29674, '바르셀로나': 29675, 'cict': 29676, '갤럭시탭': 29677, '음모론': 29678, '낭설': 29679, '양당제': 29680, '다당제': 29681, '빵해선': 29682, '엠제이홀딩': 29683, '가정법원': 29684, '사형': 29685, '이원호': 29686, '등촌동': 29687, '사직동': 29688, '장전동': 29689, '월성동': 29690, '두산위브더제니스': 29691, '삼산동': 29692, '선암동': 29693, '화정동': 29694, '미지': 29695, '상대동': 29696, '달동': 29697, '보람동': 29698, '호리다': 29699, '아름동': 29700, '망월동': 29701, '삼평동': 29702, '태장동': 29703, '동면': 29704, '서원구': 29705, '남이면': 29706, '척북리': 29707, '삼포': 29708, '몽리': 29709, '불당동': 29710, '펜타포트': 29711, '김제시': 29712, '신풍동': 29713, '아이린': 29714, '창포동': 29715, '김천시': 29716, '김천대': 29717, '신코': 29718, '진해구': 29719, '마산회원구': 29720, '합성동': 29721, '조세영': 29722, 'tsa': 29723, '미담': 29724, '성광': 29725, '플래카드': 29726, '행촌동': 29727, '교세': 29728, '나리타공항': 29729, '폐쇄키': 29730, '오가리': 29731, '내추럴': 29732, 'nobility': 29733, '인덕원': 29734, '엘센트로': 29735, '나레이션': 29736, '마차': 29737, '오쉬': 29738, '만우절': 29739, '김재중': 29740, '열강': 29741, '탐사차': 29742, '톈원': 29743, '체르노빌': 29744, '임재성': 29745, '참되다': 29746, '불길하다': 29747, '전주곡': 29748, '처참하다': 29749, '또렷': 29750, '완파됐다': 29751, '황톳빛': 29752, '끄트머리': 29753, '간신히': 29754, 'tnt': 29755, '완파': 29756, '파국': 29757, '군축': 29758, '백기': 29759, '자연사': 29760, '명꼴': 29761, '운수업': 29762, '워크넷': 29763, '멸종위기종': 29764, '구설': 29765, '배런': 29766, '우루과이': 29767, '이방': 29768, '재러드': 29769, '쿠슈너': 29770, '콜로라도': 29771, '막내딸': 29772, '민스터': 29773, '솟다': 29774, '회계감사': 29775, '위기종': 29776, '무진': 29777, '압승함': 29778, '냉대': 29779, '압승한': 29780, '동방역': 29781, '통남': 29782, '입후보': 29783, '조윤제': 29784, '고승': 29785, '주상영': 29786, 'union': 29787, '엑설런트': 29788, 'excellent': 29789, '휘발': 29790, '유기화합물': 29791, '광물질': 29792, '무염': 29793, '바이오매스': 29794, '밋밋하다': 29795, '터프': 29796, '카린': 29797, '솅겐': 29798, '한신포차': 29799, '열성': 29800, 'ok': 29801, '무죄판결': 29802, '돌부리': 29803, '성년의날': 29804, '장미꽃': 29805, '꽃말': 29806, '김가연': 29807, '반려견': 29808, '앤팁스': 29809, '채종': 29810, '일용품': 29811, '부쩍': 29812, '데싱디바': 29813, '씰': 29814, '무속인': 29815, '신동엽': 29816, '이성미': 29817, '이자인': 29818, '각과': 29819, '인폴딩': 29820, 'lpddr': 29821, 'ufs': 29822, '김봉기': 29823, '디마케팅': 29824, '반락': 29825, '딜레이되': 29826, '유평': 29827, '바캉스': 29828, '엘리자': 29829, '베트': 29830, '관광부': 29831, '독일인': 29832, '친서': 29833, '일거수일투족': 29834, '쓴웃음': 29835, '맥시': 29836, '들뜨다': 29837, '뚝뚝': 29838, '집단소송': 29839, '고요': 29840, '원내정당': 29841, '철도차량': 29842, '슬래그': 29843, '오상윤': 29844, '실권': 29845, 'ccc': 29846, '듀티': 29847, '섀시': 29848, '제품디자인': 29849, '사이프': 29850, '수막': 29851, '바깥쪽': 29852, '직선형': 29853, '광폭': 29854, '지그재그': 29855, '레인저': 29856, 'cuv': 29857, '왜건': 29858, '슈미츠': 29859, '전령': 29860, '가지각색': 29861, '치한': 29862, '직산': 29863, '과육': 29864, '눈꽃': 29865, '일품': 29866, '석우': 29867, '다쿠아즈': 29868, '무스': 29869, '펠트': 29870, '파블로바': 29871, '판나코타': 29872, '타르트': 29873, '알트': 29874, '킹덤': 29875, '킹스': 29876, '베케': 29877, '논산': 29878, '코냑': 29879, '봉봉': 29880, '크레페': 29881, '파볼': 29882, '인터컨티넨탈': 29883, '블륄레': 29884, '농협유통': 29885, '외창': 29886, '이중창': 29887, '변심': 29888, '원데이': 29889, '구성요소': 29890, '창틀': 29891, '실란트': 29892, '김명식': 29893, '쏜다': 29894, '룸바': 29895, 'innostage': 29896, '카카오스토리': 29897, '지식인': 29898, '까지와': 29899, '육일': 29900, '에쓰': 29901, '엘비세미콘': 29902, '가압류': 29903, '소취하': 29904, 'uia': 29905, '이맘': 29906, '호메이니': 29907, '키예프': 29908, '보리스필': 29909, '적신월사': 29910, '추락사고': 29911, '보잉사': 29912, '작전명': 29913, '순교자': 29914, '억류': 29915, '주병': 29916, '주광덕': 29917, '김한정': 29918, '점증': 29919, '대보': 29920, '세방': 29921, '로킨': 29922, '국민보호': 29923, '재외공관': 29924, '진단학회': 29925, '충북대학교병원': 29926, '비드': 29927, '정혜원': 29928, '패턴인식': 29929, 'tlrs': 29930, 'damp': 29931, 'pamp': 29932, 'peta': 29933, 'endocytic': 29934, 'trafficking': 29935, 'accelerator': 29936, '남곤': 29937, '마이걸': 29938, '썸툰': 29939, '일치단결': 29940, '밀알': 29941, '무력감': 29942, '홍일표': 29943, '박명재': 29944, '권성동': 29945, '이현재': 29946, '칼국숫집': 29947, 'cdma': 29948, '당일매매': 29949, '텅빈': 29950, '남북전쟁': 29951, '남군': 29952, '래그': 29953, '북극': 29954, '군기지': 29955, '극지방': 29956, '쟁탈': 29957, 'soundbar': 29958, '트러스': 29959, '구루': 29960, '조성혁': 29961, '대기실': 29962, '절상': 29963, '헬비': 29964, '김근식': 29965, '슬쩍': 29966, '혹보': 29967, 'eqc': 29968, '루컴즈': 29969, '홈캉': 29970, '랜선클라쓰': 29971, '바구니': 29972, '스승': 29973, '유해하다': 29974, '칭했': 29975, '영어사전': 29976, '지워지다': 29977, '옥암': 29978, '부주동': 29979, '성훈': 29980, '울타리': 29981, 'fresenius': 29982, 'kabi': 29983, 'xylocaine': 29984, '차제': 29985, '보령시': 29986, '한재열': 29987, '최영민': 29988, '시온': 29989, '본기도': 29990, 'dts': 29991, '표준규격': 29992, '밀리터리': 29993, '창민': 29994, '주마': 29995, '스트레치': 29996, '메쉬': 29997, '혼방': 29998, '후크': 29999, '황성민': 30000, '실루엣': 30001, '필수요소': 30002, '왁': 30003, '타키': 30004, '증안': 30005, '피엔에스': 30006, '아트리': 30007, '드류': 30008, '부띠': 30009, '소병훈': 30010, '서승현': 30011, '전농': 30012, '샤를루아': 30013, '앤트워프': 30014, '오슬로': 30015, '재소': 30016, '메가와트': 30017, '풍력발전': 30018, '퍼시픽': 30019, '낙오': 30020, '도태': 30021, '복의': 30022, '볼리비아': 30023, '남고생': 30024, '프로바둑': 30025, '조혜연': 30026, '꿰': 30027, '정신질환': 30028, '흉악하다': 30029, '스토커': 30030, '삼십': 30031, '미혼여성': 30032, '살의': 30033, '대주배': 30034, '정용진': 30035, '벌레': 30036, '말콤': 30037, '글래드웰': 30038, '어중간하다': 30039, '데스티네이션': 30040, '그로서리': 30041, '황진영': 30042, '이변': 30043, '창조과학': 30044, '유송': 30045, '점친': 30046, '선견지명': 30047, '한병도': 30048, '팜스빌': 30049, '손효주': 30050, '숭실': 30051, '커튼월': 30052, '리리': 30053, '게스트하우스': 30054, '지식나눔': 30055, '부방': 30056, '이상국': 30057, '불협화음': 30058, '몇십': 30059, '굴러가다': 30060, '박살': 30061, '식솔': 30062, '꼭두각시': 30063, '데리': 30064, 'choi': 30065, 'shin': 30066, 'crevis': 30067, 'jaya': 30068, '군림': 30069, '자유민주': 30070, '생각격': 30071, '서대문형무소': 30072, '옥사': 30073, '박정현': 30074, '김연아': 30075, '일장기': 30076, '도화지': 30077, '광복절': 30078, '역사교육': 30079, 'sbm': 30080, '미사일방어': 30081, 'thaad': 30082, '한티역': 30083, '유승우': 30084, '눈물나다': 30085, 'albert': 30086, 'aiml': 30087, '팝스타': 30088, '테러리스트': 30089, '시아파': 30090, '낳을': 30091, '교황': 30092, '계룡시': 30093, '인왕': 30094, '이인호': 30095, '하이퐁': 30096, '페트로나스': 30097, '특혜관세': 30098, '돌멩이': 30099, '벽보': 30100, '여성혐오': 30101, '매도담보': 30102, '빚내': 30103, '프리지아': 30104, '꽃집': 30105, '방희': 30106, '강경희': 30107, '창공': 30108, '관주': 30109, '곽형섭': 30110, '검정색': 30111, '와치맨': 30112, '전모': 30113, '격침': 30114, '피켓팅': 30115, '포크레인': 30116, '황룡': 30117, '농다리': 30118, '청량리동': 30119, '단선': 30120, '내부순환로': 30121, '동대문세무서': 30122, '장고': 30123, '우물': 30124, '픽쳐레일': 30125, '반침': 30126, 'ytd': 30127, '쾌유': 30128, '적기가': 30129, '코이카': 30130, 'koica': 30131, '원체': 30132, '솔깃하다': 30133, 'contango': 30134, '뽀': 30135, '무대뽀': 30136, '전국시대': 30137, '기마': 30138, '조총': 30139, '돌격': 30140, '궤멸': 30141, '우익': 30142, '오카모토': 30143, '유키오': 30144, '이용만': 30145, 'fitbit': 30146, 'charge': 30147, '하이킹': 30148, '펄스': 30149, 'hiit': 30150, 'spo': 30151, 'eov': 30152, 'disturb': 30153, '그래닛': 30154, '리플렉': 30155, '우븐': 30156, '홍콩도': 30157, '겹악재': 30158, 'oeld': 30159, '불가분': 30160, '스탠스': 30161, '이상진': 30162, '요르단': 30163, '암만': 30164, '가로수길': 30165, '애망빙': 30166, '쥴': 30167, '완도군': 30168, '메조': 30169, '요오드': 30170, '경복대': 30171, '시방서': 30172, '유수지': 30173, '하류': 30174, '국토관리청': 30175, '박명': 30176, '해비타트': 30177, '현가': 30178, '맹관': 30179, 'eng': 30180, '개방경제': 30181, '재야': 30182, '설렁탕': 30183, '생기지': 30184, '혁파': 30185, '이회창': 30186, '타일': 30187, 'screens': 30188, 'everywhere': 30189, '줴': 30190, '확진총': 30191, '송화': 30192, '대훈': 30193, '띤다': 30194, '화살표': 30195, 'defence': 30196, '싱아': 30197, '하리수': 30198, '미보': 30199, '조혜실': 30200, '톡시': 30201, '홍정기': 30202, '강성천': 30203, '서대전고': 30204, '지리학': 30205, '오레곤': 30206, '정보경': 30207, '한강유역환경청': 30208, '수원고': 30209, '유정열': 30210, '배재고': 30211, '특채': 30212, '견지해': 30213, 'evote': 30214, '백운역': 30215, '국회입법조사처': 30216, '상조업': 30217, '영공': 30218, 'fsc': 30219, '항모': 30220, '반나절': 30221, '중증일': 30222, '고용주': 30223, '취했던': 30224, '체청': 30225, '폐쇄입주': 30226, '곡성군': 30227, '만병통치약': 30228, '배경음악': 30229, '자켓': 30230, '추기': 30231, '년안': 30232, '도합': 30233, '편대': 30234, '산아이': 30235, '장석현': 30236, '풍요롭': 30237, '블라썸': 30238, '회용컵': 30239, 'ipcc': 30240, '우창': 30241, '실랑이': 30242, '주강': 30243, '삼각주': 30244, '삼각지': 30245, '반응속도': 30246, '음속': 30247, '판별': 30248, '사격장': 30249, '최대사거리': 30250, '포물선': 30251, '안정화시키다': 30252, '무게중심': 30253, '슈퍼맨': 30254, '초능력자': 30255, '급로': 30256, '하이실리콘': 30257, '처지다': 30258, 'kmh': 30259, '사립학교': 30260, '해남군': 30261, '박공': 30262, '퀀텀점프할': 30263, '코그': 30264, 'rpk': 30265, '국제민간항공기구': 30266, 'ask': 30267, '츨': 30268, '존립': 30269, '호감': 30270, '단공': 30271, '고약하다': 30272, '등치기': 30273, '엄단해': 30274, '우리들병원': 30275, '성역': 30276, '실책': 30277, '선성': 30278, '홀인원': 30279, '높혔다': 30280, '이동호': 30281, '히어로즈': 30282, 'spf': 30283, 'pa': 30284, '매끄럽다': 30285, 'ewg': 30286, '논코메': 30287, '도제': 30288, '이지피지': 30289, '코튼': 30290, '설화수': 30291, '퍼펙팅': 30292, '음영': 30293, '형광': 30294, '옷차림': 30295, '과식': 30296, '특효약': 30297, '릴렉싱': 30298, '로럴': 30299, '쫀쫀하': 30300, '쿨링감': 30301, '또렷하다': 30302, '우엉': 30303, '생강': 30304, '방황': 30305, '빙과': 30306, '필살기': 30307, '조작체계': 30308, '집법': 30309, '라이너': 30310, '아리따움': 30311, '배너': 30312, '병목': 30313, 'lms': 30314, 'tab': 30315, '스마트패드': 30316, '휜': 30317, '재혁': 30318, '무현': 30319, 'burning': 30320, '도크': 30321, '탱커': 30322, '어딜': 30323, '뒷이야기': 30324, '체인지업': 30325, '잔돈': 30326, '첵첵': 30327, '트레저': 30328, '지드래곤': 30329, '리사': 30330, '청소부': 30331, '촨잉구': 30332, '질병예방': 30333, '공안국': 30334, '옌볜': 30335, '자치주': 30336, '세팅해': 30337, '뒤안길': 30338, '에쏘': 30339, '찬밥': 30340, '필패': 30341, '범한': 30342, '불나방': 30343, '통추': 30344, '판막': 30345, '송경희': 30346, '스마트미디어': 30347, '고용호': 30348, '여행가이드': 30349, '구부리다': 30350, '하드커버': 30351, '변색': 30352, '버젓이': 30353, '도이췰란드': 30354, '위험천만': 30355, '부득부득': 30356, '본보기': 30357, '그릇되다': 30358, '통일교': 30359, '목차': 30360, '신혼집': 30361, '청순하다': 30362, '심은하': 30363, '내조': 30364, '미력': 30365, '함소원': 30366, '박명수': 30367, '시기하다': 30368, '미당': 30369, '쫓아오다': 30370, '몸싸움': 30371, '점퍼': 30372, '무언': 30373, '건가': 30374, '결기': 30375, '후지': 30376, '울먹이다': 30377, '이인희': 30378, '당착': 30379, '마려워': 30380, '예고편': 30381, '성나다': 30382, '카페테리아': 30383, '소조': 30384, '세지': 30385, '복귀전': 30386, '이정윤': 30387, '회유': 30388, '건음': 30389, '옮을': 30390, '마릴': 30391, '휴슨': 30392, '송신탑': 30393, '프린스턴': 30394, '스텔스': 30395, '맥킨': 30396, '한지상': 30397, '소프라노': 30398, '김순영': 30399, '김상현': 30400, '씰리': 30401, '이브자리': 30402, '지신': 30403, '튀김': 30404, '로메': 30405, '가공량': 30406, '퀴노아': 30407, '바질': 30408, '콥': 30409, '스무디': 30410, '농축액': 30411, '마요네즈': 30412, '머스타드': 30413, '녹두': 30414, '포화지방': 30415, '강병규': 30416, 'tworld': 30417, '투썸플레이스': 30418, '올케': 30419, 'qcy': 30420, '한끗': 30421, '독립국가연합': 30422, '유로본드': 30423, '스캐너': 30424, '미러': 30425, '봉환': 30426, '이병훈': 30427, '오봉': 30428, '애브비': 30429, '김남중': 30430, '강안': 30431, '메이킹': 30432, '칠성': 30433, '티머니': 30434, '전진영': 30435, '바이지': 30436, '부양가족': 30437, '청자': 30438, '황금기': 30439, '서영': 30440, '윤소하': 30441, '깜깜': 30442, '목포대': 30443, '수산기': 30444, '강정희': 30445, '미쉐린': 30446, '오동': 30447, '모종': 30448, '점증법': 30449, '간호장교': 30450, '추념': 30451, '자양': 30452, '트베르': 30453, '명비': 30454, '외해': 30455, '손진': 30456, '평이하다': 30457, '치레': 30458, '분권': 30459, '대통령제': 30460, '실종자': 30461, '구령': 30462, '가려진': 30463, '어디가': 30464, '글로스퍼랩스': 30465, '김태원': 30466, '전미라': 30467, '윤종신': 30468, '생사': 30469, '황석': 30470, '도표': 30471, '메인스트리트': 30472, '히스패닉': 30473, '훙차오공항': 30474, '왕페이': 30475, '베이징대': 30476, '공중위생학': 30477, '푸젠성': 30478, '네이멍구': 30479, '장쑤성': 30480, '쓰촨성': 30481, '저장성': 30482, '샨시성': 30483, '탄탄': 30484, '월내': 30485, '롤투롤': 30486, '표준모형': 30487, '자위': 30488, '금관': 30489, '매물도': 30490, '은하': 30491, '인플레': 30492, '소환조사': 30493, '결혼식장': 30494, '일사이': 30495, '삼선동': 30496, '후암동': 30497, '마천동': 30498, '광장동': 30499, '구산동': 30500, '금향': 30501, '동빙': 30502, '고동': 30503, '네띠앙': 30504, '도남동': 30505, '동홍동': 30506, '제이원': 30507, '도련': 30508, '삼화사': 30509, '남원읍': 30510, '서호동': 30511, '애월읍': 30512, '신엄리': 30513, '구좌읍': 30514, '성산읍': 30515, '코아루': 30516, '블루아': 30517, '신효동': 30518, '아프가니스탄': 30519, '싱크탱크': 30520, '최영애': 30521, '수비율': 30522, '영동대로': 30523, '개월내': 30524, '집살': 30525, '동의대': 30526, '쾌척': 30527, '재초': 30528, '각형': 30529, '썩다': 30530, '출장소': 30531, '완장': 30532, '후려치다': 30533, '김혜영': 30534, '짜깁다': 30535, '반론': 30536, '맨션': 30537, '고덕동': 30538, '라시': 30539, '첼리투스': 30540, '간간이': 30541, '연화': 30542, '화대': 30543, '서현동': 30544, '삼환': 30545, '구미동': 30546, '야당동': 30547, '자유로': 30548, '주엽동': 30549, '미동': 30550, '교자': 30551, '금암동': 30552, '양산동': 30553, '산본동': 30554, '인창동': 30555, '대명': 30556, '포일': 30557, '칸타빌': 30558, '산타': 30559, '독산동': 30560, '계룡': 30561, '사당동': 30562, '봉천동': 30563, '답십리동': 30564, '제기동': 30565, '골벽산': 30566, '창전동': 30567, '서강': 30568, '밤섬': 30569, '경희': 30570, '김대준': 30571, '에어라인': 30572, '부항': 30573, 'deleveraging': 30574, '명예훈장': 30575, '가능동': 30576, '잠깐': 30577, '변질': 30578, '병진': 30579, '하방경직성': 30580, '베이지': 30581, '인디애나주': 30582, '사우스벤드': 30583, '조연주': 30584, '슈퍼화요일': 30585, '풍향계': 30586, '중도파': 30587, '긍': 30588, '수직이착륙': 30589, 'evtol': 30590, '신재원': 30591, '앨리슨': 30592, '이착륙': 30593, '명찰': 30594, '빽': 30595, '심성': 30596, '견인차': 30597, '액티브할': 30598, '당청': 30599, '엄숙하다': 30600, '애덤': 30601, '시프': 30602, '루디': 30603, '레프': 30604, 'msnbc': 30605, '니나': 30606, '누군지': 30607, '승전': 30608, '자민련': 30609, '저학년': 30610, '내당동': 30611, 'hangzhou': 30612, 'netease': 30613, '연경': 30614, '조폐공사': 30615, '왕실': 30616, '바버': 30617, '왁스': 30618, '재킷': 30619, '제럴드': 30620, '서류철': 30621, '당파싸움': 30622, '당파': 30623, '이라고는': 30624, '싫어하다': 30625, '편식': 30626, '스피리': 30627, 'eat': 30628, '을씨년스럽다': 30629, '쥐떼': 30630, '들이키다': 30631, 'kgmp': 30632, '김장호': 30633, '춤판': 30634, '대기발령': 30635, '서슬': 30636, '퍼렇다': 30637, 'asiae': 30638, 'img': 30639, '범보': 30640, '정주리': 30641, '버드': 30642, '노들섬': 30643, '스튜어트': 30644, '캄렐리주맙': 30645, 'camrelizumab': 30646, '월지': 30647, 'knock': 30648, '반향': 30649, '포카': 30650, '큼직하다': 30651, '포크': 30652, '소시': 30653, '탱글탱글': 30654, '머스터드': 30655, '할라피뇨': 30656, '계란빵': 30657, '듬뿍': 30658, '빈곤': 30659, '김인태': 30660, '약현성당': 30661, '서소문': 30662, '강맹': 30663, '최영준': 30664, '손소독': 30665, '배식': 30666, '이니까': 30667, '분데스리가': 30668, '관직': 30669, '관용': 30670, '베풀다': 30671, '더러': 30672, '극빈': 30673, '녹다운': 30674, '아고다': 30675, '첵랍콕국제공항': 30676, '라라': 30677, '보물찾기': 30678, '테너': 30679, '안드레아': 30680, '토스카': 30681, '피사': 30682, '보채다': 30683, '베들레헴': 30684, '군사위성': 30685, '전시작전권': 30686, '플라이트': 30687, 'anasis': 30688, '에어버스사': 30689, '유로스타': 30690, '태양전지': 30691, '정보처리': 30692, '송도유원지': 30693, '순천만': 30694, '메디프론디비티': 30695, 'brain': 30696, '유영동': 30697, '약주': 30698, '주포': 30699, '줍다': 30700, '아낌없다': 30701, '과학관': 30702, '영해': 30703, 'cqi': 30704, '년잡': 30705, '에조': 30706, '거참': 30707, '여한': 30708, '최상수': 30709, '정협': 30710, '푸른빛': 30711, '호두나무': 30712, '휘거': 30713, '휨': 30714, '각고': 30715, '정종': 30716, '호미로': 30717, '요섭': 30718, '소훼된': 30719, '잠수함': 30720, '지칭': 30721, 'annie': 30722, '라성': 30723, '도상': 30724, '자연히': 30725, '이춘': 30726, '우메': 30727, '롄': 30728, '필사': 30729, '가판': 30730, '케이티앤지': 30731, '부적정': 30732, '프로파일러': 30733, '극구': 30734, '진안군': 30735, '소하동': 30736, '심지혜': 30737, '아너스': 30738, 'honors': 30739, '육불화황': 30740, '냉동기': 30741, 'hyperscale': 30742, 'graphic': 30743, 'client': 30744, 'ssdufs': 30745, 'emmc': 30746, '등임': 30747, '기비': 30748, '한타바이러스': 30749, '김준희': 30750, '총계': 30751, '상회사': 30752, '물처리': 30753, '광고대행사': 30754, '건조물': 30755, '사상구': 30756, '나은경': 30757, '이중화': 30758, '저조': 30759, '비트리': 30760, '치뤄지다': 30761, '왓슨': 30762, '이어트': 30763, '쿼터백': 30764, '이승건': 30765, '대윤': 30766, '북남관계': 30767, '줄달': 30768, '음치': 30769, '예리하다': 30770, '만단': 30771, '요새화': 30772, '문정인': 30773, '사행동': 30774, 'sipri': 30775, '끝장': 30776, '황등': 30777, '황등농': 30778, '안재욱': 30779, '연쇄살인': 30780, '셜록': 30781, '매혹': 30782, '구자': 30783, '휴학': 30784, '독후감': 30785, '교우': 30786, '김전': 30787, '길탁균': 30788, '백지상태': 30789, '박인환': 30790, '민회': 30791, '밑바탕': 30792, '언론플레이': 30793, '이따위': 30794, '좇아': 30795, '도식': 30796, '김지유': 30797, '매맷값': 30798, '청호': 30799, '종포': 30800, 'long': 30801, 'bed': 30802, '부평구청역': 30803, '군사연습': 30804, 'ffg': 30805, '초계기': 30806, '시금고': 30807, '은제': 30808, '출납': 30809, '강인규': 30810, '친친': 30811, '이우': 30812, '윤나': 30813, '냉담': 30814, '최유리': 30815, 'newlife': 30816, '인시': 30817, '신참': 30818, '토닥토닥': 30819, '등선': 30820, '브제': 30821, '산등': 30822, 'robotic': 30823, '장록': 30824, '성해': 30825, '효행': 30826, '경창': 30827, '김나래': 30828, 'ampas': 30829, '기함': 30830, '루빈': 30831, '숨막히다': 30832, '범벅': 30833, '코알라': 30834, '원불교': 30835, '황전면': 30836, '건천': 30837, '나무숲': 30838, '바라지': 30839, '타무라': 30840, '얼렁뚱땅': 30841, '정업': 30842, '비교우위': 30843, '군산의료원': 30844, '율포': 30845, '봇재': 30846, '금융조합': 30847, '백민': 30848, '충절사': 30849, '나철': 30850, '태백산맥': 30851, '녹돈': 30852, '통안': 30853, '김경진': 30854, '이용호': 30855, '임택': 30856, '비탈': 30857, '부조리': 30858, '가르침': 30859, '개천': 30860, '누명': 30861, '홍위병': 30862, '주승용': 30863, '표어': 30864, '귀어': 30865, '송귀근': 30866, '동분서주': 30867, '토젠': 30868, '군비': 30869, '현경면': 30870, '교육장': 30871, '농인': 30872, '농교육': 30873, '육묘': 30874, '상토': 30875, '신안군': 30876, '무안읍': 30877, '패쇄된': 30878, '존안': 30879, '항복': 30880, '고우리': 30881, '정보망': 30882, '치과의사': 30883, 'nims': 30884, '박인영': 30885, '상언': 30886, '조창': 30887, '스테인드글라스': 30888, '블로잉': 30889, 'koreacraft': 30890, '박정환': 30891, '대계': 30892, '인간계': 30893, '송지훈': 30894, '취중진담': 30895, '피겨스케이팅': 30896, '차준': 30897, '릴레함메르': 30898, '우옌': 30899, '탕롱': 30900, '의식주': 30901, '도자기': 30902, '빈딘': 30903, '카인': 30904, '난파선': 30905, '침몰': 30906, '빈쩌우': 30907, '나루터': 30908, '선문': 30909, '문호': 30910, '인도차이나': 30911, '오리엔테이션': 30912, 'mysc': 30913, 'merry': 30914, '시민교통': 30915, '사치품': 30916, '김규희': 30917, 'zero': 30918, '진보면': 30919, '이실': 30920, '미끄럼틀': 30921, '볼풀': 30922, '트렘플린': 30923, '모션': 30924, '슛팅': 30925, '개구': 30926, '윤경희': 30927, '김진호': 30928, '하나원': 30929, 'koribo': 30930, 'cut': 30931, '최원준': 30932, '헌혈증': 30933, '옥씨': 30934, '저개발국': 30935, '바입': 30936, '루원시티': 30937, '신용판매': 30938, '대통령령': 30939, '이성윤': 30940, '덕담': 30941, '가늠자': 30942, '서태지컴퍼니': 30943, '중부대학교': 30944, '대중음악': 30945, '변정민': 30946, '듀싱': 30947, '비투비': 30948, '서은광': 30949, '종묘': 30950, '미네르바': 30951, 'pls': 30952, '소미안': 30953, '무답': 30954, '부당성': 30955, '아사히신문': 30956, '히로시': 30957, '정중하다': 30958, '마코토': 30959, '확답': 30960, '동우회': 30961, '어째서': 30962, '집어치우다': 30963, '계속계속': 30964, '제멋대로': 30965, '헛소리': 30966, '꼭지': 30967, '가미': 30968, '꼴불견': 30969, '가긍': 30970, '산들': 30971, '팔삭': 30972, '둥이': 30973, '앵무새': 30974, '해대': 30975, '아둔하다': 30976, '청문': 30977, '행락': 30978, '김만덕': 30979, '애족': 30980, '케이웨더': 30981, '고기압': 30982, '차차': 30983, '형질': 30984, '김철웅': 30985, '코윈': 30986, '입박': 30987, 'neom': 30988, '이운용': 30989, '심사실': 30990, '사륜오토바이': 30991, '노점상': 30992, '산채': 30993, '나물': 30994, '마늘': 30995, '산더미': 30996, '국경절': 30997, '특설': 30998, '반점': 30999, '병아리': 31000, '허베이': 31001, '종주': 31002, '남동쪽': 31003, '청명': 31004, '불어오다': 31005, '산바람': 31006, '가시다': 31007, '산행때': 31008, '산속': 31009, '아랫쪽': 31010, '신록': 31011, '달전': 31012, '북링산': 31013, '행정구역': 31014, '촌락': 31015, '유락': 31016, '산길': 31017, '강화대교': 31018, '초지대교': 31019, '무자': 31020, '한농': 31021, '표고': 31022, '역농': 31023, '피아골': 31024, '땅끝애돈': 31025, '훈제': 31026, '옥죄': 31027, '장거리': 31028, '통일전': 31029, '선기': 31030, '악한': 31031, '똥개': 31032, '불망': 31033, '쥐락펴락': 31034, 'asean': 31035, '이혁': 31036, '불가결하다': 31037, '호위함': 31038, '출항': 31039, '정헌': 31040, '연등': 31041, '세븐럭': 31042, '월매': 31043, 'dps': 31044, '중간배당': 31045, '박성호': 31046, '이혜인': 31047, '송기욱': 31048, '성검사': 31049, '퍼팅': 31050, 'course': 31051, '템포': 31052, '러리': 31053, 'temporary': 31054, 'surface': 31055, 'ground': 31056, '그러므로': 31057, '블볼': 31058, '디봇': 31059, '사우스': 31060, '애봇': 31061, '데보라': 31062, '벅스': 31063, '즉답': 31064, '불충분': 31065, '양상현': 31066, '관학': 31067, '비급': 31068, '인부': 31069, '화조': 31070, '봉안': 31071, '오키나와': 31072, 'jal': 31073, '식겁': 31074, '쓰시마': 31075, '부주': 31076, 'rsu': 31077, '출근시간': 31078, '이상만': 31079, 'tko': 31080, '도미니크': 31081, '레슬링': 31082, '파이터': 31083, '뱀턴급': 31084, '피오르': 31085, '로렌': 31086, '페르티타': 31087, '베이비부머': 31088, '돌연사': 31089, '앤소니': 31090, '재향군인': 31091, 'vha': 31092, 'peer': 31093, 'reviewed': 31094, '노바티스': 31095, '앙골라': 31096, '나미비아': 31097, '튀니지': 31098, '콩고': 31099, '키르기스스탄': 31100, '순차적인': 31101, '속사': 31102, '캐물': 31103, '진인': 31104, '고한승': 31105, '이영호': 31106, '최치훈': 31107, '장충': 31108, '험난': 31109, '보궐': 31110, '최동훈': 31111, '청룡영화상': 31112, '팬미팅': 31113, '내레이션': 31114, '신민아': 31115, '범죄물': 31116, '김태리': 31117, '소지섭': 31118, '염정아': 31119, '이하늬': 31120, '조우진': 31121, '대야': 31122, '어획량': 31123, '임정엽': 31124, '김미리': 31125, '송지연': 31126, '인주': 31127, '직인': 31128, 'huya': 31129, '하이에나': 31130, '이대훈': 31131, '증폭기': 31132, '가능량': 31133, '세팅돼': 31134, '천종윤': 31135, '번잡': 31136, '충남교육청': 31137, '와룡선생': 31138, '이동현': 31139, '유플러': 31140, '김영준': 31141, '대우통신': 31142, 'gdpr': 31143, 'hipaa': 31144, '소방시설': 31145, '쿼스': 31146, 'pimco': 31147, '호아킴': 31148, '스파르탄': 31149, '도이체방크': 31150, '프랜시스': 31151, '브리지워터': 31152, '앨리언스': 31153, '번스타인': 31154, '바닥면적': 31155, '나락': 31156, '심부전증': 31157, '전자전': 31158, '전원공급기': 31159, '김석준': 31160, '무선인터넷': 31161, '연포': 31162, '깨침': 31163, '영도구': 31164, '폐교': 31165, '디자인학': 31166, '순창군': 31167, '미나리': 31168, '듬': 31169, '생협': 31170, '부천역': 31171, '미상': 31172, '관광열차': 31173, '갈매역': 31174, '급행열차': 31175, 'sr': 31176, 'vfx': 31177, '최재호': 31178, '이순철': 31179, '전금': 31180, '별관': 31181, '문일재': 31182, '정기영': 31183, '손광': 31184, '김창록': 31185, '황윤철': 31186, '이두호': 31187, '이윤학': 31188, '홍성표': 31189, '남환': 31190, '용퇴': 31191, '김석규': 31192, '면사무소': 31193, '식품위생': 31194, '졸자': 31195, '이정식': 31196, '녹조': 31197, '근정훈장': 31198, '디브이': 31199, 'nerdy': 31200, '폐쇄일': 31201, '김형근': 31202, '색안경': 31203, '장유': 31204, '에이제이': 31205, '화정': 31206, '완정': 31207, '왕십리': 31208, '당산동': 31209, '영등포동': 31210, 'fsb': 31211, 'letskorail': 31212, '홍승표': 31213, '입실': 31214, '꼬옥': 31215, '갸륵한': 31216, '지극': 31217, '효심': 31218, '감명': 31219, '병간호': 31220, '북미자유무역협정': 31221, 'nafta': 31222, '따라비': 31223, 'ustr': 31224, '구윤모': 31225, '노쇼': 31226, '위약금': 31227, '지언': 31228, 'national': 31229, 'bushfire': 31230, '캔버라': 31231, '뉴사우스웨일스': 31232, '빅토리아주': 31233, '헥타르': 31234, '쿠타': 31235, '구조선': 31236, '물든': 31237, '수천억': 31238, 'smp': 31239, '유재선': 31240, '구례군': 31241, '청등': 31242, '여대생': 31243, '계엄': 31244, '이영화': 31245, '청하면': 31246, '미술대전': 31247, '요순': 31248, '스태퍼드': 31249, 'fema': 31250, '정부조직': 31251, '콤바인': 31252, '한술': 31253, '로예': 31254, 'pgi': 31255, '이진아': 31256, '김진하': 31257, 'ping': 31258, '흥루': 31259, 'jiangsu': 31260, 'hengrui': 31261, 'aier': 31262, '문어': 31263, '염병': 31264, '낙엽': 31265, '양계': 31266, '배드민턴': 31267, '에어로빅': 31268, '보디빌딩': 31269, '청견': 31270, '교배': 31271, '파파야': 31272, '수곡면': 31273, '묘목': 31274, '문학사': 31275, '요강': 31276, '유회': 31277, '학군단': 31278, '출정': 31279, '춘계': 31280, '충북지사': 31281, '충남도청': 31282, '통합교육': 31283, '유스퀘어': 31284, '김영록': 31285, '전남지사': 31286, '서재필': 31287, '송하진': 31288, '전북지사': 31289, '창조경제': 31290, '핑': 31291, '김병근': 31292, '정일': 31293, '권태신': 31294, '전경련회관': 31295, '김세혁': 31296, '흑사병': 31297, '맥베스': 31298, '안토니': 31299, '클레오파트라': 31300, '물리학자': 31301, '케임브리지': 31302, '소프': 31303, '미적분': 31304, '끌어당기다': 31305, '바르트': 31306, '붓': 31307, '스페인독감': 31308, '자화상': 31309, 'portrait': 31310, '역경': 31311, '벌벌': 31312, 'summers': 31313, 'testament': 31314, '역작': 31315, '계모': 31316, '외딴': 31317, '별장': 31318, '숙녀': 31319, '김가영': 31320, '석사과정': 31321, '커뮤니케이션스': 31322, 'communications': 31323, 'clinically': 31324, 'accurate': 31325, 'alzheimer': 31326, 'multiplexed': 31327, 'sensing': 31328, 'biomarkers': 31329, 'plasma': 31330, '양전자': 31331, '블라젯': 31332, 'langmuir': 31333, 'blodgett': 31334, 'nanotube': 31335, '접합': 31336, 'junction': 31337, 'resistance': 31338, '과인': 31339, 'phosphorylated': 31340, '병리': 31341, 'mild': 31342, 'cognitive': 31343, 'impairment': 31344, '역설계': 31345, 'battery': 31346, '절전': 31347, 'rakuten': 31348, '광화문역': 31349, '에잇': 31350, '크로스오버': 31351, '문소리': 31352, '메가폰': 31353, '이동휘': 31354, '이연희': 31355, '유영': 31356, '예수정': 31357, '염혜': 31358, '앨리스': 31359, '퀴어': 31360, '조안': 31361, '최성은': 31362, '콩깍지': 31363, '최시원': 31364, '블링크': 31365, '이시영': 31366, '앤솔러지': 31367, '호러': 31368, '감독판': 31369, '김승수': 31370, '김택진': 31371, '서문': 31372, '산성': 31373, '흥원': 31374, '키도': 31375, '김광수': 31376, '압색': 31377, '엄단': 31378, '한정우': 31379, '거창': 31380, '대성고': 31381, '막중': 31382, '개문': 31383, '발차': 31384, '략': 31385, '배정은': 31386, '구실': 31387, '자당': 31388, '김윤경': 31389, '풍호': 31390, '북면': 31391, '소방정': 31392, '원거리': 31393, '구산면': 31394, '진전면': 31395, '의창구': 31396, '이상원': 31397, '정태선': 31398, '암담하다': 31399, '발효식품': 31400, '고물상': 31401, '조석': 31402, '퀵서비스': 31403, '서울광고': 31404, '신지식인': 31405, '공인경': 31406, '영지': 31407, '세터': 31408, '조재완': 31409, '형사소송법': 31410, '유아교육법': 31411, '사립학교법': 31412, '관리회계': 31413, '환호성': 31414, '산회': 31415, '천신만고': 31416, '괴었으': 31417, '유종': 31418, '오마하': 31419, '현인': 31420, '탈지': 31421, '사우스웨스트항공': 31422, '항공도': 31423, '젯츠': 31424, 'jets': 31425, 'dealogic': 31426, '박다영': 31427, '용해도': 31428, '생체이용률': 31429, '릭': 31430, 'cocrystal': 31431, 'sglt': 31432, '다형': 31433, '시부': 31434, '투철': 31435, '양진영': 31436, '진땀': 31437, '득남': 31438, '축가': 31439, '굿바이': 31440, '조은정': 31441, '행정행위': 31442, '진주시청': 31443, '전학': 31444, '오도': 31445, '불손하다': 31446, '승복': 31447, '개반': 31448, '전준': 31449, '조길형': 31450, '호암직동': 31451, '폭팔': 31452, '김관': 31453, '텍스': 31454, '롬': 31455, '새롬동': 31456, '직매': 31457, '종량제': 31458, '엔터테이너': 31459, '연애혁명': 31460, '슬하': 31461, '황혜영': 31462, '최혁': 31463, '김형민': 31464, '소야': 31465, '비아이지': 31466, '태강': 31467, '라다': 31468, '핫딜': 31469, '날일': 31470, '송도순': 31471, '은단': 31472, '신동진': 31473, '베베': 31474, '드개': 31475, '영해선': 31476, '잉법': 31477, '입법권': 31478, '레이브': 31479, '토너먼트': 31480, '파운더스컵': 31481, '김효주': 31482, '위민스': 31483, '박성현': 31484, '최하': 31485, '둘쨋': 31486, '헨더슨': 31487, '희영': 31488, '이븐파': 31489, '지은희': 31490, '삼향읍': 31491, '재즈': 31492, '통기타': 31493, '나상현': 31494, '거리공연': 31495, '남악신도시': 31496, '도선': 31497, '도리어': 31498, 'shell': 31499, 'shocked': 31500, 'markets': 31501, '대차대조표': 31502, '모기지': 31503, '페더러': 31504, '올랜도': 31505, '슬레이트': 31506, '파블릭': 31507, '존스트레이딩': 31508, '대수롭다': 31509, '배턴': 31510, '맹폭': 31511, '상용차': 31512, '탬': 31513, '압착': 31514, '특별시': 31515, '박원규': 31516, '모방': 31517, '감지기': 31518, '간행': 31519, '스사': 31520, '통칭': 31521, '법망': 31522, '석씨': 31523, '이경준': 31524, '밥줄': 31525, '껍데기': 31526, '라고만': 31527, '비현실적': 31528, '상해죄': 31529, '노동환': 31530, '사용자책임': 31531, '감정노동자': 31532, '지게': 31533, '먹이사슬': 31534, '굴레': 31535, '영석': 31536, '안종열': 31537, '인화': 31538, '사육': 31539, '독극물': 31540, '소한': 31541, '목격자': 31542, '한태일': 31543, '클라크': 31544, '상률': 31545, '암암리': 31546, '용산기지': 31547, '엘지': 31548, '험프리': 31549, '한미연합사령부': 31550, '군속': 31551, '랜탈': 31552, '렌탈료': 31553, '렌탈중': 31554, '구성훈': 31555, '최장수': 31556, '이철': 31557, '나날': 31558, 'op': 31559, '다고': 31560, '위급하다': 31561, '거점도시': 31562, '청풍': 31563, '대교구': 31564, '채홍호': 31565, '생활필수품': 31566, '퀀시': 31567, '지남': 31568, '장혜진': 31569, '커서': 31570, '이진숙': 31571, '자유형': 31572, '임병택': 31573, '상근예비역': 31574, '가발': 31575, '강스': 31576, '성가': 31577, '롤로': 31578, '어머님': 31579, '명망': 31580, '위신': 31581, '중요시': 31582, '형민': 31583, '윤여삼': 31584, '이상형': 31585, '김현기': 31586, '박영출': 31587, '외자운용원': 31588, '이경환': 31589, '주임': 31590, 'yangju': 31591, '법정공휴일': 31592, '반추': 31593, '버지니아주': 31594, '정비사': 31595, '가로변': 31596, '남기명': 31597, '전문교육': 31598, 'happened': 31599, '인신공격': 31600, '변덕': 31601, '마구잡이': 31602, '핵폭탄': 31603, '교서': 31604, '메스': 31605, '게양': 31606, '묵념': 31607, '김선미': 31608, '양안관계': 31609, '대만군': 31610, '순양함': 31611, '샤일': 31612, 'cg': 31613, '선거날': 31614, '휴전선': 31615, '겅솽': 31616, '무력통일': 31617, '피신': 31618, '망명': 31619, '흑산도': 31620, '거문도': 31621, '창년': 31622, '함안': 31623, '의령': 31624, '영암': 31625, '고창': 31626, '소나기': 31627, '북상': 31628, '충청도': 31629, 'lcpl': 31630, '베스킨라빈스': 31631, '익월': 31632, '후강퉁': 31633, '연혁': 31634, 'gwangjunamgu': 31635, '묵호': 31636, '금곡': 31637, '분토': 31638, '할배': 31639, '까스': 31640, '조성은': 31641, '송승연': 31642, 'ycc': 31643, 'rystad': 31644, 'downstream': 31645, 'upstream': 31646, '마땅': 31647, '마자': 31648, '만드': 31649, '척역': 31650, '곤욕': 31651, '미련': 31652, '증착': 31653, '호남고': 31654, '무주': 31655, '착시현상': 31656, '빵집': 31657, '율동': 31658, '로고송': 31659, '하늘아래': 31660, '무방': 31661, '체득': 31662, '목말': 31663, '영규': 31664, '서민이': 31665, '사다리': 31666, '김영모': 31667, '사동항': 31668, '범죄예방': 31669, '블소': 31670, '김창': 31671, 'gamevil': 31672, '이닝스': 31673, '김기준': 31674, '촉진자': 31675, 'unitas': 31676, '안무가': 31677, '설채현': 31678, '사진작가': 31679, '김중만': 31680, '심영순': 31681, '신수지': 31682, '최수진': 31683, '바리톤': 31684, '성악': 31685, '파스': 31686, '트렌비': 31687, '코카콜라': 31688, '텔라닥헬스': 31689, 'bcg': 31690, '황반': 31691, '관함': 31692, '강영석': 31693, '미리보기': 31694, '디지털대성': 31695, '보은군': 31696, '원카드': 31697, '가정은': 31698, '복지로': 31699, '맞고소': 31700, '토비': 31701, '유압': 31702, '정촌': 31703, '정촌면': 31704, '국가장학금': 31705, '해양에너지': 31706, 'hwasun': 31707, 'jninjae': 31708, '중심시가지': 31709, '익산역': 31710, '송학동': 31711, '인화동': 31712, '임차보증금': 31713, 'asp': 31714, '광섬유': 31715, '에덴': 31716, 'glow': 31717, 'eden': 31718, '방소': 31719, '불빛': 31720, 'don': 31721, 'girl': 31722, '연하남': 31723, '시집': 31724, '목마름': 31725, '원철': 31726, '신데렐라': 31727, '준태': 31728, '에요': 31729, '롤모델': 31730, '황숙': 31731, '이머징마켓': 31732, 'irsa': 31733, '디어': 31734, '이아': 31735, '페트': 31736, '애셋': 31737, '페데': 31738, '페레즈': 31739, '로저': 31740, '흠집': 31741, '못마땅': 31742, 'nokian': 31743, 'yokohama': 31744, '정보기기': 31745, '서신': 31746, '소행': 31747, 'apt': 31748, '종현': 31749, '첨부파일': 31750, '평안도': 31751, '우이동': 31752, '이중주': 31753, '촛불집회': 31754, '아랍에미레이트': 31755, '나집': 31756, '알알리': 31757, 'najeeb': 31758, 'al': 31759, 'ali': 31760, '판매정지': 31761, 'etc': 31762, 'neurobo': 31763, '이명선': 31764, '미송': 31765, 'peak': 31766, '박세라': 31767, '신판': 31768, '가고시마': 31769, '연세대학교': 31770, '머크': 31771, 'pml': 31772, '지역재단': 31773, '숙달': 31774, '병법': 31775, '잡담': 31776, '틀릭해': 31777, '고려개발': 31778, 'bvac': 31779, '트렌치': 31780, '이해당사자': 31781, '일본도': 31782, '서훈': 31783, '박병홍': 31784, '토르': 31785, 'torso': 31786, 'tec': 31787, '솜': 31788, '퀼팅': 31789, '조윤호': 31790, '수주로': 31791, '양강': 31792, '주건': 31793, '설주': 31794, '눈발': 31795, '영률': 31796, '집단민원': 31797, '광야': 31798, '후세인': 31799, '유신': 31800, '주서': 31801, '부암': 31802, '재래시장': 31803, '진가': 31804, '신길역': 31805, '탈선': 31806, '혈청학': 31807, '외평채': 31808, '김연준': 31809, '메이플스토리': 31810, '고세준': 31811, '하후돈': 31812, '채염': 31813, '리처드': 31814, '브랜슨': 31815, '버진그룹': 31816, '조스': 31817, 'ufo': 31818, '케이프커내버럴': 31819, '우주정거장': 31820, '시엘': 31821, '리밸런싱': 31822, '파동': 31823, '고섬': 31824, '수온': 31825, '조개류': 31826, '피낭류': 31827, '산과학': 31828, '소책자': 31829, '영양사': 31830, '주낙': 31831, '경주시장': 31832, '씨익': 31833, '손아귀': 31834, '복종': 31835, '진실로': 31836, '농간': 31837, '강물': 31838, '오만해': 31839, '김민식': 31840, '진보당': 31841, '중화민국': 31842, '친민당': 31843, '쑹': 31844, '닛케이': 31845, '키포인트': 31846, '대등하다': 31847, '민진당': 31848, '원대하다': 31849, '의궤': 31850, '제스처': 31851, 'onemedia': 31852, 'digicaster': 31853, 'homecaster': 31854, '실차': 31855, '뉴인텍': 31856, '병증': 31857, '이루': 31858, '씨젠제넥신': 31859, '오사카': 31860, '브루노': 31861, '자율학습': 31862, 'practice': 31863, '비포': 31864, '송승봉': 31865, '현정은': 31866, '선적분': 31867, '유지수': 31868, '배봉산': 31869, '아랜': 31870, '선그': 31871, '종반': 31872, '시외': 31873, '통행료': 31874, '하용': 31875, '플레이스토어': 31876, '내려받기': 31877, '아나바다': 31878, '배바': 31879, '무역의존도': 31880, '밸뷰': 31881, '가정학습': 31882, 'byd': 31883, '고영은': 31884, '설입': 31885, '야후코리아': 31886, '전자출판': 31887, '토키': 31888, '학번': 31889, '홍영표': 31890, '남수정': 31891, '동갑': 31892, '이원욱': 31893, '한정애': 31894, '김경협': 31895, '원병': 31896, '서대문': 31897, '동화면세점': 31898, '줄자': 31899, '재경기': 31900, '권처윤': 31901, '년후': 31902, '차박': 31903, '스틴': 31904, '김홍식': 31905, '프로폴리스': 31906, 'seminar': 31907, '규안': 31908, '한상현': 31909, '심정훈': 31910, '혜령': 31911, '파킨슨병': 31912, '경협주': 31913, '디엔에이': 31914, '경방': 31915, '승선': 31916, '현판': 31917, '전라도': 31918, '강원영동': 31919, '천문': 31920, '바닷물': 31921, '만조': 31922, '소방수': 31923, '남달현': 31924, '봄호': 31925, '서미영': 31926, '세린': 31927, '프로테아제': 31928, '갈색': 31929, '열선': 31930, '자유도': 31931, '대리주차': 31932, '발레파킹': 31933, '레지던스': 31934, '서른': 31935, '명원': 31936, '고덕역': 31937, '고덕로': 31938, '동남로': 31939, '고덕평생학습관': 31940, '린웨이': 31941, '배재': 31942, '고명': 31943, '옥수역': 31944, '동호대교': 31945, '금옥': 31946, '흥안대로': 31947, '인덕원역': 31948, '북동쪽': 31949, '형산': 31950, '남지원': 31951, '대전광역시': 31952, '월평동': 31953, '피티': 31954, '쩜': 31955, '볼링장': 31956, '뉴비': 31957, '연꽃': 31958, '토너': 31959, 'set': 31960, 'ois': 31961, 'distant': 31962, '염원': 31963, '펙사벡': 31964, '은상': 31965, '정육': 31966, '뿌리혹': 31967, '헤모글로빈': 31968, 'gras': 31969, '곽정은': 31970, '오케이': 31971, '퓨쳐켐': 31972, '전립선': 31973, '넥산': 31974, '빅씽크': 31975, '중공': 31976, '콘택트': 31977, '직캠': 31978, '네버': 31979, '호중': 31980, 'animal': 31981, 'rule': 31982, 'rfcc': 31983, '가격담합': 31984, '납사': 31985, '막후': 31986, '고사': 31987, '해결사': 31988, '로프트': 31989, '렸': 31990, '맹주로': 31991, '셰일오일': 31992, '클리어': 31993, '수십만': 31994, '지즈': 31995, '나노입자': 31996, '구장': 31997, '정운찬': 31998, '재작성': 31999, '꼴등': 32000, '일등': 32001, '뻥튀기': 32002, '핸디소프트': 32003, '민화협': 32004, '영식': 32005, '심보': 32006, '플라스미드': 32007, '강창율': 32008, 'chmp': 32009, '신현욱': 32010, '합헌': 32011, '권면': 32012, 'tracing': 32013, 'infodemic': 32014, 'miptv': 32015, 'mipcom': 32016, 'advanced': 32017, '네온': 32018, 'better': 32019, '서빙': 32020, '롤업': 32021, '김진홍': 32022, '폐쇄되던': 32023, '복싱': 32024, '케이티': 32025, '강병민': 32026, '루마': 32027, '난청': 32028, 'fab': 32029, '반창고': 32030, '아이핀': 32031, '광촉매': 32032, '가성환': 32033, '광운': 32034, '가윤': 32035, '원우': 32036, '정보공학': 32037, '박주영': 32038, '역법': 32039, '특례제도': 32040, '특례제': 32041, '래퍼드': 32042, '다래': 32043, '엘딘': 32044, '룬': 32045, '낙타': 32046, '시세로': 32047, '마포구청역': 32048, '월드컵경기장역': 32049, '려고': 32050, '일사천리': 32051, '버질': 32052, '아블로': 32053, 'lyst': 32054, '중간지점': 32055, '모에': 32056, '리모': 32057, '와플': 32058, '호안': 32059, '학암동': 32060, '자릿': 32061, '식히다': 32062, '양정동': 32063, '강화도': 32064, '패컬티': 32065, 'cpo': 32066, '김중훈': 32067, '공과대학': 32068, 'expert': 32069, '두수': 32070, '한가하다': 32071, '강선우': 32072, '약도': 32073, 'ncbi': 32074, 'atcc': 32075, '충진': 32076, '감속': 32077, '앞차': 32078, 'mde': 32079, '상암동': 32080, '은근': 32081, '추풍낙엽': 32082, '로열더치셸': 32083, '페라이트': 32084, '리필': 32085, '서울식': 32086, '한성기업': 32087, '졸스': 32088, '손덕': 32089, '모리셔스': 32090, '위험부담': 32091, '교원대': 32092, '공주교대': 32093, '전주교대': 32094, '전형도': 32095, '단시': 32096, '대학별': 32097, '특목고': 32098, '위수': 32099, 'tip': 32100, '홍성군': 32101, '초지': 32102, '능화': 32103, '교통신호': 32104, '도시문제': 32105, 'twin': 32106, '유지관리': 32107, 'maas': 32108, 'urban': 32109, 'aerial': 32110, 'building': 32111, 'modelling': 32112, '집품': 32113, 'bipv': 32114, '실증특례': 32115, '필링': 32116, '젬백스앤카엘': 32117, '젬백스링크': 32118, '난치': 32119, '혈액질환': 32120, '조혈': 32121, 'leukocyte': 32122, 'antigen': 32123, '형별': 32124, '정철웅': 32125, '황석희': 32126, '김호진': 32127, '대유': 32128, '제넥신코이뮨': 32129, '수지상세포': 32130, '문종구': 32131, '영전': 32132, '박성우': 32133, '텔레메틱스': 32134, '로직': 32135, '복선': 32136, '종말': 32137, 'relationship': 32138, '라이언': 32139, '프로파일링': 32140, '소수민족': 32141, '이뿌다': 32142, '남중국해': 32143, 'cgvgs': 32144, '콜마압': 32145, '타바': 32146, '배포량': 32147, '휴식시간': 32148, '가운': 32149, '쿨러': 32150, '승관': 32151, '응함': 32152, '알아채다': 32153, '잠실역': 32154, '송파대로': 32155, '잠실대교': 32156, '석촌호수': 32157, '버들': 32158, '도봉로': 32159, '노해로': 32160, '창동역': 32161, '쌍문역': 32162, '쌍문': 32163, '선덕': 32164, '가좌역': 32165, '공항철도': 32166, '성산로': 32167, '홍제천': 32168, '성서': 32169, '홍익디자인고': 32170, '호성': 32171, '모락로': 32172, '금정역': 32173, '모락산': 32174, '모락중': 32175, '건일': 32176, '서밋': 32177, '조홍래': 32178, 'klaytn': 32179, 'klay': 32180, '비앱': 32181, 'bapp': 32182, 'dapp': 32183, '화피': 32184, '본느': 32185, '위더스': 32186, '불면증': 32187, '이디어': 32188, '선글라스': 32189, '백화현상': 32190, '탄성': 32191, '안티바이러스': 32192, '과학로': 32193, '번길': 32194, '디앤비': 32195, 'tcb': 32196, '신선도': 32197, 'sku': 32198, '퍼뜨렸다': 32199, '김은진': 32200, 'forest': 32201, 'mt': 32202, '정자동': 32203, 'nms': 32204, '근력': 32205, 'csms': 32206, '낙스': 32207, '샤브샤브': 32208, '샤부샤부': 32209, '입춘': 32210, '이석': 32211, '갈마동': 32212, '다단계판매': 32213, '가정방문': 32214, '홍상': 32215, 'flry': 32216, '이창호': 32217, '농토': 32218, '밝아지다': 32219, '항생물질': 32220, '진켐': 32221, '싸이버': 32222, '로지텍': 32223, '베어스': 32224, '아키텍처': 32225, 'cloudmoa': 32226, 'managed': 32227, 'csp': 32228, '다차원': 32229, 'installer': 32230, 'hosts': 32231, '너리': 32232, '핑거': 32233, '겐트': 32234, 'gantry': 32235, 'paas': 32236, 'xaiops': 32237, '견주어': 32238, 'database': 32239, 'maxgauge': 32240, 'intermax': 32241, '크리티컬': 32242, '알칼리성': 32243, '블렌딩': 32244, '텍메드': 32245, 'loc': 32246, '벤틀리': 32247, '훈격': 32248, '낙태죄': 32249, '헌법불합치': 32250, 'corporate': 32251, 'responsibility': 32252, 'league': 32253, 'professionals': 32254, '용구성': 32255, 'reports': 32256, '격년': 32257, '웰크론': 32258, '남양시': 32259, '김태희': 32260, '이니셔티브': 32261, '은맨': 32262, '블루칩': 32263, '현금영수증': 32264, '해분': 32265, '상쇄해': 32266, 'fwd': 32267, '나무라다': 32268, '요도바시카메라': 32269, '빅쿠': 32270, 'wqxga': 32271, '대각선': 32272, '작부': 32273, '경첩': 32274, '히든': 32275, '와트시': 32276, 'wh': 32277, '기획처': 32278, '수종': 32279, '아파트투유': 32280, 'cnpc': 32281, 'spr': 32282, '악시코프': 32283, '이토': 32284, '칼메': 32285, 'rmat': 32286, 'lig': 32287, '최승': 32288, '대화고': 32289, '판곡': 32290, '교총': 32291, '수능특강': 32292, '미니시리즈': 32293, '샌디에이고': 32294, '강종구': 32295, '포아': 32296, '아이피': 32297, '당뇨병약': 32298, '메트포르민': 32299, '발암': 32300, '친형': 32301, '현식': 32302, '친누나': 32303, '직할': 32304, '매형': 32305, '무혐의': 32306, '조양': 32307, '수연': 32308, 'sq': 32309, 'tdi': 32310, '적혈구': 32311, 'erythropoietin': 32312, 'lppom': 32313, 'infion': 32314, '수라바야': 32315, '빈혈': 32316, 'bpom': 32317, '자킴': 32318, 'jakim': 32319, 'muis': 32320, '상피세포': 32321, 'epidermal': 32322, 'egf': 32323, '성장호르몬': 32324, 'caretropin': 32325, '루센': 32326, '낭보': 32327, '만수르': 32328, '곤봉': 32329, '말썽': 32330, '부린다': 32331, '갸웃': 32332, '거려': 32333, '빈약하다': 32334, '으스대던': 32335, '강성만': 32336, '차성수': 32337, '이성진': 32338, '공함': 32339, '신시': 32340, '협소': 32341, '항고소송': 32342, '황영조': 32343, '메달리스트': 32344, '신봉': 32345, '포커': 32346, '도신': 32347, '손절매': 32348, '수치화': 32349, 'cboe': 32350, 'neutral': 32351, '내재가치': 32352, '기왕': 32353, '인지상정': 32354, '되돌림': 32355, '나열하다': 32356, 'mywish': 32357, 'nmpa': 32358, '아니냔': 32359, '계제': 32360, '우타르프라데시': 32361, '그레이터': 32362, '안드라프라데시': 32363, '용융': 32364, '아연도금': 32365, '허리띠': 32366, '효창': 32367, 'loyal': 32368, 'hero': 32369, '인물화': 32370, '이적': 32371, '피파': 32372, '김포시': 32373, '잔뼈': 32374, '김민석': 32375, '박용찬': 32376, 'kbio': 32377, 'nexptm': 32378, 'fusion': 32379, 'nexmabtm': 32380, '베터': 32381, '맥랩': 32382, '로테이션': 32383, '협주': 32384, '오스카상': 32385, '비상식량': 32386, '방긋': 32387, '오류로': 32388, 'esc': 32389, '부적합': 32390, '블루핸즈': 32391, 'ema': 32392, 'ra': 32393, 'rheumatoid': 32394, 'arthritis': 32395, 'inflammatory': 32396, 'bowel': 32397, 'iqvia': 32398, '고스톱': 32399, 'gklnh': 32400, '김문수': 32401, '유신반대': 32402, '능인고': 32403, '법조인': 32404, '법관': 32405, '향판': 32406, '망인': 32407, '색유': 32408, '편취했다': 32409, '철처': 32410, '이수앱지스': 32411, 'itp': 32412, '여주시': 32413, '장현동': 32414, '장현': 32415, '튀어': 32416, '소방대': 32417, '통기다': 32418, '두건': 32419, '웨일': 32420, '브라우저': 32421, 'dyline': 32422, '온산읍': 32423, '몰리브덴': 32424, '바나듐': 32425, '중유': 32426, '질소': 32427, '산화물': 32428, '필즈': 32429, '이모지': 32430, '블리츠': 32431, '탁상': 32432, '지정도': 32433, '태백시': 32434, '논산시': 32435, '외동아들': 32436, '변혁': 32437, '본과': 32438, '박종현': 32439, '스레': 32440, '리크스': 32441, '함형': 32442, '고성동': 32443, '고층': 32444, '포웰': 32445, '북선': 32446, '광시': 32447, 'dynamic': 32448, 'video': 32449, 'standards': 32450, 'vesa': 32451, 'certified': 32452, 'displayhdr': 32453, 'rheinland': 32454, '젤로': 32455, '고광택': 32456, '차베스': 32457, '김상봉': 32458, '강성진': 32459, '김소영': 32460, '경공업': 32461, '뉴팩처링': 32462, '에서만큼': 32463, '청정도': 32464, 'ffu': 32465, '글쎄': 32466, '지역성': 32467, '광랜': 32468, 'vsb': 32469, 'zem': 32470, '빗줄기': 32471, '구시': 32472, 'cri': 32473, '톈': 32474, '프로파간다': 32475, '국광': 32476, 'raloxifene': 32477, '염산': 32478, '콜레칼시': 32479, '페롤': 32480, 'aet': 32481, '패취': 32482, '티시스': 32483, '코람코': 32484, '동업': 32485, '공상': 32486, '디씨': 32487, '노심초사': 32488, '패킷': 32489, '코위버': 32490, 'capexopex': 32491, '면책': 32492, '밤잠': 32493, '골다': 32494, '롱런': 32495, '녹원': 32496, '채정': 32497, '보라매동': 32498, '와르르': 32499, '김인환': 32500, '강변북로': 32501, 'pressure': 32502, 'ambulance': 32503, '링해': 32504, '와류': 32505, '스타렉스': 32506, '특장차': 32507, '린터': 32508, '상하이자동차': 32509, 'kbps': 32510, '로밍': 32511, '워크솝': 32512, 'atd': 32513, '국가보훈처장': 32514, '잡초': 32515, '최진명': 32516, '외생': 32517, 'arm': 32518, '윈윈할': 32519, 'bm': 32520, '넥실리스': 32521, 'built': 32522, '전기분해': 32523, '수저': 32524, '황색': 32525, '포도상구균': 32526, 'uvnano': 32527, '수관': 32528, 'thinq': 32529, '첼릭': 32530, '샘리': 32531, '회색조': 32532, '파스텔': 32533, '강성준': 32534, '알록달록': 32535, '아틀라시안': 32536, '애드온': 32537, 'startup': 32538, 'swit': 32539, '미디움': 32540, '종합정보시스템': 32541, '해시': 32542, 'hash': 32543, '무결': 32544, '식별자': 32545, '스노우맨': 32546, '퍼플': 32547, '아리아': 32548, 'wan': 32549, '블랙프라이데이': 32550, '에어포트': 32551, '최영한': 32552, '정창영': 32553, '갈림길': 32554, '한창수': 32555, '위도': 32556, '눈독': 32557, '료업': 32558, '요시': 32559, 'euromomo': 32560, 'ons': 32561, '잉글랜드': 32562, '웨일즈': 32563, '코이케': 32564, '인바디': 32565, '휴비츠': 32566, '연기면': 32567, '행복청': 32568, 'auri': 32569, '덴티스': 32570, '글람': 32571, '크래프톤': 32572, '인슐린': 32573, '플로우': 32574, '스튜어디스': 32575, '기상캐스터': 32576, '김상원': 32577, '녹색연합': 32578, '유석': 32579, '호원대': 32580, '권태홍': 32581, '임실': 32582, '최영': 32583, '종수': 32584, '균태': 32585, '규곤': 32586, 'fe': 32587, 'oss': 32588, '남현': 32589, '렌탈산업': 32590, '월배': 32591, '위니': 32592, 'sls': 32593, '유베': 32594, '앙츠': 32595, '투바': 32596, '안함': 32597, '쥐띠': 32598, '올드빈티': 32599, '득템': 32600, '응암': 32601, 'economic': 32602, 'supporting': 32603, 'gib': 32604, '스랩': 32605, '맹위': 32606, 'jbsusa': 32607, '컨스': 32608, '등식': 32609, '기계화': 32610, '기계로': 32611, '집집': 32612, '향초': 32613, '꽂히다': 32614, '젠텍랩': 32615, '짜장라면': 32616, '허민': 32617, 'phyu': 32618, 'mya': 32619, 'yan': 32620, 'aun': 32621, 'myin': 32622, '남광': 32623, '솔리테르': 32624, '픽스': 32625, '브로셔': 32626, 'gtc': 32627, '기린': 32628, '엑스페리아': 32629, 'mi': 32630, '가형': 32631, '프로페시': 32632, 'rimac': 32633, '페시': 32634, '빈부격차': 32635, '알레한드로': 32636, '곤살레스': 32637, '촬영소': 32638, '코스모스': 32639, 'synchro': 32640, '레일': 32641, '심미성': 32642, '기택': 32643, '기우': 32644, '문도': 32645, '상류층': 32646, '연탄배달': 32647, '사형선고': 32648, '발렌타인데이': 32649, '레이싱게임': 32650, '수집가': 32651, '강현주': 32652, '장근혁': 32653, '노산': 32654, '조교수': 32655, '이유리': 32656, '쇼박스': 32657, 'qcp': 32658, 'ibkc': 32659, '배팅': 32660, '저예산영화': 32661, '레오파트': 32662, '박스오피스': 32663, '펌핑': 32664, '노후하다': 32665, '창릉': 32666, '운정신도시': 32667, '전영수': 32668, '고착': 32669, '동탄신도시': 32670, '금기': 32671, '크레온': 32672, '어금니': 32673, 'isp': 32674, '일부인': 32675, '법제처': 32676, '명세': 32677, '스마트러닝': 32678, '잉글리쉬': 32679, '탑승권': 32680, '김이탁': 32681, '김봉겸': 32682, '일조사': 32683, '전집': 32684, '은박': 32685, '털실': 32686, '명화': 32687, '링북': 32688, '스탬핑': 32689, '일러스트': 32690, '코끼리': 32691, '끈끈이': 32692, '계룡로': 32693, '벽체': 32694, '상동동': 32695, '염치': 32696, 'nsclc': 32697, '펨브롤리주맙': 32698, '형질전환': 32699, 'tgf': 32700, '교육과학기술부': 32701, '벡토': 32702, '글리벡': 32703, '양제츠': 32704, '정치국원': 32705, '브러': 32706, '오하이오주': 32707, '영스타운': 32708, '로젠그렌': 32709, '로드아일랜드주': 32710, '슬랙': 32711, '기내식': 32712, '질린다': 32713, '공멸': 32714, '미국식품의약국': 32715, 'cgmp': 32716, '중정': 32717, 'pq': 32718, 'pre': 32719, 'qualification': 32720, '테믹': 32721, '졸리': 32722, '영창': 32723, '최성진': 32724, '한독': 32725, '안지혜': 32726, '인더케그': 32727, '신동찬': 32728, '다이빙': 32729, '김수지': 32730, 'fifa': 32731, '준우승': 32732, '외손녀': 32733, '홍치': 32734, '김예은': 32735, '혜제': 32736, '정성진': 32737, '체조': 32738, 'fn': 32739, '폭감': 32740, '소송비용': 32741, '대손충당금': 32742, '제로원': 32743, '화학사': 32744, '자지': 32745, '겸업': 32746, 'imform': 32747, '나들목': 32748, '추돌사고': 32749, '옐로': 32750, 'tag': 32751, 'along': 32752, '원매': 32753, '케어랩스': 32754, '굿닥': 32755, '바비': 32756, '처방전': 32757, '우협': 32758, '보통주식': 32759, '젠코': 32760, '전주여고': 32761, '앤룸': 32762, '정유림': 32763, '노르웨이숲': 32764, '오전동': 32765, '덕진동': 32766, '종바이러스': 32767, '능이': 32768, 'genedia': 32769, 'rdrp': 32770, 'albumin': 32771, 'inj': 32772, '간경변증': 32773, '혈증': 32774, '단백체학': 32775, '구법': 32776, '내약': 32777, '알러지': 32778, '두드러기': 32779, '졸레어': 32780, '맙': 32781, '우습다': 32782, '키누맙': 32783}\n"
          ],
          "name": "stdout"
        }
      ]
    },
    {
      "cell_type": "code",
      "metadata": {
        "colab": {
          "base_uri": "https://localhost:8080/"
        },
        "id": "tiwLLc0WEOf1",
        "outputId": "4f31de2c-4fe9-4ae1-fada-02e554f1ad50"
      },
      "source": [
        "#희귀 단어 비율(thredshold 이하로 나타나는 단어)\r\n",
        "threshold = 3\r\n",
        "total_cnt = len(tokenizer.word_index)\r\n",
        "rare_cnt = 0\r\n",
        "total_freq = 0\r\n",
        "rare_freq = 0\r\n",
        "cnt = 0\r\n",
        "\r\n",
        "for key, value in tokenizer.word_counts.items():    #(word, cnts)\r\n",
        "    total_freq += value\r\n",
        "\r\n",
        "    if(value < threshold):\r\n",
        "        rare_cnt += 1\r\n",
        "        rare_freq += value\r\n",
        "        if(cnt < 5):\r\n",
        "            print(\"word : \", key, value);\r\n",
        "            cnt += 1\r\n",
        "\r\n",
        "print(total_cnt, rare_cnt, rare_cnt/total_cnt, rare_freq / total_freq)"
      ],
      "execution_count": null,
      "outputs": [
        {
          "output_type": "stream",
          "text": [
            "word :  ns 1\n",
            "word :  홈앤쇼핑 2\n",
            "word :  sb 1\n",
            "word :  station 1\n",
            "word :  break 1\n",
            "32783 12346 0.376597626818778 0.006980600559813443\n"
          ],
          "name": "stdout"
        }
      ]
    },
    {
      "cell_type": "code",
      "metadata": {
        "colab": {
          "base_uri": "https://localhost:8080/"
        },
        "id": "KiCoMupWGpvy",
        "outputId": "f76c1f3d-40be-43f8-a6d0-724477b5b2d0"
      },
      "source": [
        "vocab_size = total_cnt - rare_cnt + 2\r\n",
        "vocab_size"
      ],
      "execution_count": null,
      "outputs": [
        {
          "output_type": "execute_result",
          "data": {
            "text/plain": [
              "20439"
            ]
          },
          "metadata": {
            "tags": []
          },
          "execution_count": 125
        }
      ]
    },
    {
      "cell_type": "code",
      "metadata": {
        "id": "G9bxjS8OIs_y"
      },
      "source": [
        "tokenizer = Tokenizer(vocab_size, oov_token = 'OOV')\r\n",
        "tokenizer.fit_on_texts(train['token'])\r\n",
        "train['token'] = tokenizer.texts_to_sequences(train['token'])"
      ],
      "execution_count": null,
      "outputs": []
    },
    {
      "cell_type": "code",
      "metadata": {
        "id": "Xq9iQIcjMPXY"
      },
      "source": [
        "#빈 샘플 제거\r\n",
        "drop_train = [index for index, sentence in enumerate(train['token']) if len(sentence) < 1]"
      ],
      "execution_count": null,
      "outputs": []
    },
    {
      "cell_type": "code",
      "metadata": {
        "colab": {
          "base_uri": "https://localhost:8080/"
        },
        "id": "jHuswKuoNXoH",
        "outputId": "80333c73-3888-4651-8f72-9b7e4d8d4da2"
      },
      "source": [
        "print(max(len(i) for i in train['token']))"
      ],
      "execution_count": null,
      "outputs": [
        {
          "output_type": "stream",
          "text": [
            "1069\n"
          ],
          "name": "stdout"
        }
      ]
    },
    {
      "cell_type": "code",
      "metadata": {
        "colab": {
          "base_uri": "https://localhost:8080/"
        },
        "id": "Jn2rZnnLMsgN",
        "outputId": "ffe24395-a896-4e99-c965-8e3a4b3421e8"
      },
      "source": [
        "x_train = train.drop(drop_train).copy()\r\n",
        "print(\"사라지고 남은 샘플 수 :\", len(x_train))"
      ],
      "execution_count": null,
      "outputs": [
        {
          "output_type": "stream",
          "text": [
            "사라지고 남은 샘플 수 : 118665\n"
          ],
          "name": "stdout"
        }
      ]
    },
    {
      "cell_type": "code",
      "metadata": {
        "colab": {
          "base_uri": "https://localhost:8080/",
          "height": 297
        },
        "id": "XZTUrmkxPGvN",
        "outputId": "0c4795c5-21a2-4ec2-d2ff-4b2ee711bfb2"
      },
      "source": [
        "print(sum(map(len, x_train['token']))/len(x_train))\r\n",
        "plt.hist([len(s) for s in x_train['token']], bins=50)\r\n",
        "plt.xlabel('length of samples')\r\n",
        "plt.ylabel('number of samples')\r\n",
        "plt.show()"
      ],
      "execution_count": null,
      "outputs": [
        {
          "output_type": "stream",
          "text": [
            "18.76253318164581\n"
          ],
          "name": "stdout"
        },
        {
          "output_type": "display_data",
          "data": {
            "image/png": "[encoded data removed]",
            "text/plain": [
              "<Figure size 432x288 with 1 Axes>"
            ]
          },
          "metadata": {
            "tags": []
          }
        }
      ]
    },
    {
      "cell_type": "code",
      "metadata": {
        "id": "yKuiWtPxQfI9"
      },
      "source": [
        "def below_threshold_len(max_len, nested_list):\r\n",
        "    cnt = 0\r\n",
        "    for s in nested_list:\r\n",
        "        if(len(s) <= max_len):\r\n",
        "            cnt += 1\r\n",
        "    print(\"전체 중 길이가 %s 이하인 샘플의 비율 : %s\"%(max_len, (cnt / len(nested_list))*100))"
      ],
      "execution_count": null,
      "outputs": []
    },
    {
      "cell_type": "code",
      "metadata": {
        "colab": {
          "base_uri": "https://localhost:8080/"
        },
        "id": "diogz97VQ_QU",
        "outputId": "e12a967b-8b97-4054-873b-07b99bdb46b4"
      },
      "source": [
        "max_len = 50\r\n",
        "below_threshold_len(max_len, x_train['token'])"
      ],
      "execution_count": null,
      "outputs": [
        {
          "output_type": "stream",
          "text": [
            "전체 중 길이가 50 이하인 샘플의 비율 : 96.79686512451018\n"
          ],
          "name": "stdout"
        }
      ]
    },
    {
      "cell_type": "code",
      "metadata": {
        "id": "EcLBIpj-RKm6"
      },
      "source": [
        "train_input = pad_sequences(x_train['token'], maxlen=max_len)"
      ],
      "execution_count": null,
      "outputs": []
    },
    {
      "cell_type": "code",
      "metadata": {
        "id": "hDH7YRp_R4iq"
      },
      "source": [
        "from tensorflow.keras.layers import Embedding, Dense, LSTM\r\n",
        "from tensorflow.keras.models import Sequential\r\n",
        "from tensorflow.keras.models import load_model\r\n",
        "from tensorflow.keras.callbacks import EarlyStopping, ModelCheckpoint"
      ],
      "execution_count": null,
      "outputs": []
    },
    {
      "cell_type": "code",
      "metadata": {
        "id": "jbuCSCFRR7lX"
      },
      "source": [
        "model = Sequential()\r\n",
        "model.add(Embedding(vocab_size, 100))\r\n",
        "model.add(LSTM(128))\r\n",
        "model.add(Dense(1, activation='sigmoid'))"
      ],
      "execution_count": null,
      "outputs": []
    },
    {
      "cell_type": "code",
      "metadata": {
        "id": "GxSBdz7sSIvo"
      },
      "source": [
        "es = EarlyStopping(monitor='val_loss', mode='min', verbose=1, patience=5)\r\n",
        "mc = ModelCheckpoint('best_model.h5', monitor='val_acc', mode='max', verbose=1, save_best_only=True)"
      ],
      "execution_count": null,
      "outputs": []
    },
    {
      "cell_type": "code",
      "metadata": {
        "id": "gJ8h0sHvSnCu"
      },
      "source": [
        "y_train =  x_train['info']"
      ],
      "execution_count": null,
      "outputs": []
    },
    {
      "cell_type": "code",
      "metadata": {
        "colab": {
          "base_uri": "https://localhost:8080/"
        },
        "id": "-6HE9ZfoSUvf",
        "outputId": "abebcd16-2276-4a76-ebd1-505ee4c3123a"
      },
      "source": [
        "model.compile(optimizer='rmsprop', loss='binary_crossentropy', metrics=['acc'])\r\n",
        "history = model.fit(train_input, y_train, epochs=15, callbacks=[es, mc], batch_size=60, validation_split=0.2)"
      ],
      "execution_count": null,
      "outputs": [
        {
          "output_type": "stream",
          "text": [
            "Epoch 1/15\n",
            "1583/1583 [==============================] - 24s 13ms/step - loss: 0.1543 - acc: 0.9341 - val_loss: 0.0349 - val_acc: 0.9833\n",
            "\n",
            "Epoch 00001: val_acc improved from -inf to 0.98331, saving model to best_model.h5\n",
            "Epoch 2/15\n",
            "1583/1583 [==============================] - 22s 14ms/step - loss: 0.0571 - acc: 0.9794 - val_loss: 0.0327 - val_acc: 0.9848\n",
            "\n",
            "Epoch 00002: val_acc improved from 0.98331 to 0.98483, saving model to best_model.h5\n",
            "Epoch 3/15\n",
            "1583/1583 [==============================] - 22s 14ms/step - loss: 0.0442 - acc: 0.9839 - val_loss: 0.0344 - val_acc: 0.9857\n",
            "\n",
            "Epoch 00003: val_acc improved from 0.98483 to 0.98567, saving model to best_model.h5\n",
            "Epoch 4/15\n",
            "1583/1583 [==============================] - 22s 14ms/step - loss: 0.0343 - acc: 0.9879 - val_loss: 0.0584 - val_acc: 0.9744\n",
            "\n",
            "Epoch 00004: val_acc did not improve from 0.98567\n",
            "Epoch 5/15\n",
            "1583/1583 [==============================] - 22s 14ms/step - loss: 0.0269 - acc: 0.9901 - val_loss: 0.0508 - val_acc: 0.9776\n",
            "\n",
            "Epoch 00005: val_acc did not improve from 0.98567\n",
            "Epoch 6/15\n",
            "1583/1583 [==============================] - 22s 14ms/step - loss: 0.0223 - acc: 0.9922 - val_loss: 0.0753 - val_acc: 0.9703\n",
            "\n",
            "Epoch 00006: val_acc did not improve from 0.98567\n",
            "Epoch 7/15\n",
            "1583/1583 [==============================] - 22s 14ms/step - loss: 0.0197 - acc: 0.9932 - val_loss: 0.0738 - val_acc: 0.9739\n",
            "\n",
            "Epoch 00007: val_acc did not improve from 0.98567\n",
            "Epoch 00007: early stopping\n"
          ],
          "name": "stdout"
        }
      ]
    },
    {
      "cell_type": "code",
      "metadata": {
        "id": "x21lwJLGVcyX"
      },
      "source": [
        "loaded_model = load_model('best_model.h5')"
      ],
      "execution_count": null,
      "outputs": []
    },
    {
      "cell_type": "code",
      "metadata": {
        "colab": {
          "base_uri": "https://localhost:8080/"
        },
        "id": "_4rQAXtvaqA7",
        "outputId": "8824b99e-027b-4a3b-b271-e3a2eb7ce16a"
      },
      "source": [
        "y_train.shape, x_train.shape, train_input.shape, lstm_pred.shape"
      ],
      "execution_count": null,
      "outputs": [
        {
          "output_type": "execute_result",
          "data": {
            "text/plain": [
              "((118665,), (118665, 8), (118665, 50), (118665, 1))"
            ]
          },
          "metadata": {
            "tags": []
          },
          "execution_count": 140
        }
      ]
    },
    {
      "cell_type": "code",
      "metadata": {
        "id": "o9CE_kCSVsNA"
      },
      "source": [
        "lstm_pred = loaded_model.predict(train_input)"
      ],
      "execution_count": null,
      "outputs": []
    },
    {
      "cell_type": "code",
      "metadata": {
        "colab": {
          "base_uri": "https://localhost:8080/"
        },
        "id": "QT1DpBHjdOqL",
        "outputId": "cd841eae-d6da-4a6e-bbce-2deb06081068"
      },
      "source": [
        "print(x_train.shape)\r\n",
        "print(pd.DataFrame(lstm_pred).shape)\r\n",
        "print(pd.concat([x_train.reset_index(drop=True), pd.DataFrame(lstm_pred)], axis=1).shape)"
      ],
      "execution_count": null,
      "outputs": [
        {
          "output_type": "stream",
          "text": [
            "(118665, 8)\n",
            "(118665, 1)\n",
            "(118665, 9)\n"
          ],
          "name": "stdout"
        }
      ]
    },
    {
      "cell_type": "code",
      "metadata": {
        "id": "fr7ibdS4WyzF"
      },
      "source": [
        "#x_train이 index드롭을 해서 인덱스가 맞지않은데, concat은 인덱스 기준으로 연결함. 그래서 reset 필요\r\n",
        "x_input = pd.concat([x_train.reset_index(drop=True), pd.DataFrame(lstm_pred, columns=['prev_pred'])], axis=1)"
      ],
      "execution_count": null,
      "outputs": []
    },
    {
      "cell_type": "code",
      "metadata": {
        "id": "XwOssGnxOcgG"
      },
      "source": [
        "x_input = x_input.drop(['n_id', 'title', 'content', 'token', 'info'], axis=1) #ord 여부도 확인"
      ],
      "execution_count": null,
      "outputs": []
    },
    {
      "cell_type": "code",
      "metadata": {
        "colab": {
          "base_uri": "https://localhost:8080/",
          "height": 402
        },
        "id": "mquUTqecS0dr",
        "outputId": "35d7b097-357a-4ee8-e8f8-94fab0242524"
      },
      "source": [
        "x_input"
      ],
      "execution_count": null,
      "outputs": [
        {
          "output_type": "execute_result",
          "data": {
            "text/html": [
              "<div>\n",
              "<style scoped>\n",
              "    .dataframe tbody tr th:only-of-type {\n",
              "        vertical-align: middle;\n",
              "    }\n",
              "\n",
              "    .dataframe tbody tr th {\n",
              "        vertical-align: top;\n",
              "    }\n",
              "\n",
              "    .dataframe thead th {\n",
              "        text-align: right;\n",
              "    }\n",
              "</style>\n",
              "<table border=\"1\" class=\"dataframe\">\n",
              "  <thead>\n",
              "    <tr style=\"text-align: right;\">\n",
              "      <th></th>\n",
              "      <th>date</th>\n",
              "      <th>ord</th>\n",
              "      <th>length</th>\n",
              "      <th>prev_pred</th>\n",
              "    </tr>\n",
              "  </thead>\n",
              "  <tbody>\n",
              "    <tr>\n",
              "      <th>0</th>\n",
              "      <td>20200605</td>\n",
              "      <td>1</td>\n",
              "      <td>42</td>\n",
              "      <td>0.008673</td>\n",
              "    </tr>\n",
              "    <tr>\n",
              "      <th>1</th>\n",
              "      <td>20200605</td>\n",
              "      <td>2</td>\n",
              "      <td>37</td>\n",
              "      <td>0.999990</td>\n",
              "    </tr>\n",
              "    <tr>\n",
              "      <th>2</th>\n",
              "      <td>20200605</td>\n",
              "      <td>3</td>\n",
              "      <td>33</td>\n",
              "      <td>0.999908</td>\n",
              "    </tr>\n",
              "    <tr>\n",
              "      <th>3</th>\n",
              "      <td>20200605</td>\n",
              "      <td>4</td>\n",
              "      <td>32</td>\n",
              "      <td>0.000026</td>\n",
              "    </tr>\n",
              "    <tr>\n",
              "      <th>4</th>\n",
              "      <td>20200626</td>\n",
              "      <td>1</td>\n",
              "      <td>20</td>\n",
              "      <td>0.003419</td>\n",
              "    </tr>\n",
              "    <tr>\n",
              "      <th>...</th>\n",
              "      <td>...</td>\n",
              "      <td>...</td>\n",
              "      <td>...</td>\n",
              "      <td>...</td>\n",
              "    </tr>\n",
              "    <tr>\n",
              "      <th>118660</th>\n",
              "      <td>20200117</td>\n",
              "      <td>48</td>\n",
              "      <td>35</td>\n",
              "      <td>0.999972</td>\n",
              "    </tr>\n",
              "    <tr>\n",
              "      <th>118661</th>\n",
              "      <td>20200117</td>\n",
              "      <td>49</td>\n",
              "      <td>23</td>\n",
              "      <td>0.999981</td>\n",
              "    </tr>\n",
              "    <tr>\n",
              "      <th>118662</th>\n",
              "      <td>20200117</td>\n",
              "      <td>50</td>\n",
              "      <td>23</td>\n",
              "      <td>0.999981</td>\n",
              "    </tr>\n",
              "    <tr>\n",
              "      <th>118663</th>\n",
              "      <td>20200117</td>\n",
              "      <td>51</td>\n",
              "      <td>27</td>\n",
              "      <td>0.999804</td>\n",
              "    </tr>\n",
              "    <tr>\n",
              "      <th>118664</th>\n",
              "      <td>20200117</td>\n",
              "      <td>52</td>\n",
              "      <td>27</td>\n",
              "      <td>0.999804</td>\n",
              "    </tr>\n",
              "  </tbody>\n",
              "</table>\n",
              "<p>118665 rows × 4 columns</p>\n",
              "</div>"
            ],
            "text/plain": [
              "            date  ord  length  prev_pred\n",
              "0       20200605    1      42   0.008673\n",
              "1       20200605    2      37   0.999990\n",
              "2       20200605    3      33   0.999908\n",
              "3       20200605    4      32   0.000026\n",
              "4       20200626    1      20   0.003419\n",
              "...          ...  ...     ...        ...\n",
              "118660  20200117   48      35   0.999972\n",
              "118661  20200117   49      23   0.999981\n",
              "118662  20200117   50      23   0.999981\n",
              "118663  20200117   51      27   0.999804\n",
              "118664  20200117   52      27   0.999804\n",
              "\n",
              "[118665 rows x 4 columns]"
            ]
          },
          "metadata": {
            "tags": []
          },
          "execution_count": 145
        }
      ]
    },
    {
      "cell_type": "code",
      "metadata": {
        "id": "qxdTeLYIYzoA"
      },
      "source": [
        "y_train = x_train['info']"
      ],
      "execution_count": null,
      "outputs": []
    },
    {
      "cell_type": "code",
      "metadata": {
        "id": "QFPT4HUuU7B8"
      },
      "source": [
        "from sklearn.model_selection import train_test_split\r\n",
        "\r\n",
        "x_train, x_test, y_train, y_test = train_test_split(x_input, y_train)"
      ],
      "execution_count": null,
      "outputs": []
    },
    {
      "cell_type": "code",
      "metadata": {
        "colab": {
          "base_uri": "https://localhost:8080/"
        },
        "id": "2aJ7piHYjoBf",
        "outputId": "c6f09fff-1410-4413-e05d-dd93093a109d"
      },
      "source": [
        "x_train.shape, x_test.shape, y_train.shape, y_test.shape"
      ],
      "execution_count": null,
      "outputs": [
        {
          "output_type": "execute_result",
          "data": {
            "text/plain": [
              "((88998, 4), (29667, 4), (88998,), (29667,))"
            ]
          },
          "metadata": {
            "tags": []
          },
          "execution_count": 148
        }
      ]
    },
    {
      "cell_type": "code",
      "metadata": {
        "colab": {
          "base_uri": "https://localhost:8080/"
        },
        "id": "as_3AFeGkG2x",
        "outputId": "3c4c6da0-6de5-4887-a4e8-90d542e2182c"
      },
      "source": [
        "x_train['date'] -= 20200000"
      ],
      "execution_count": null,
      "outputs": [
        {
          "output_type": "stream",
          "text": [
            "/usr/local/lib/python3.6/dist-packages/ipykernel_launcher.py:1: SettingWithCopyWarning: \n",
            "A value is trying to be set on a copy of a slice from a DataFrame.\n",
            "Try using .loc[row_indexer,col_indexer] = value instead\n",
            "\n",
            "See the caveats in the documentation: https://pandas.pydata.org/pandas-docs/stable/user_guide/indexing.html#returning-a-view-versus-a-copy\n",
            "  \"\"\"Entry point for launching an IPython kernel.\n"
          ],
          "name": "stderr"
        }
      ]
    },
    {
      "cell_type": "code",
      "metadata": {
        "colab": {
          "base_uri": "https://localhost:8080/",
          "height": 402
        },
        "id": "MN9PMBxMkdv8",
        "outputId": "1407589e-ed31-44b7-9bd4-0f033f8f99cd"
      },
      "source": [
        "x_train"
      ],
      "execution_count": null,
      "outputs": [
        {
          "output_type": "execute_result",
          "data": {
            "text/html": [
              "<div>\n",
              "<style scoped>\n",
              "    .dataframe tbody tr th:only-of-type {\n",
              "        vertical-align: middle;\n",
              "    }\n",
              "\n",
              "    .dataframe tbody tr th {\n",
              "        vertical-align: top;\n",
              "    }\n",
              "\n",
              "    .dataframe thead th {\n",
              "        text-align: right;\n",
              "    }\n",
              "</style>\n",
              "<table border=\"1\" class=\"dataframe\">\n",
              "  <thead>\n",
              "    <tr style=\"text-align: right;\">\n",
              "      <th></th>\n",
              "      <th>date</th>\n",
              "      <th>ord</th>\n",
              "      <th>length</th>\n",
              "      <th>prev_pred</th>\n",
              "    </tr>\n",
              "  </thead>\n",
              "  <tbody>\n",
              "    <tr>\n",
              "      <th>110405</th>\n",
              "      <td>513</td>\n",
              "      <td>25</td>\n",
              "      <td>137</td>\n",
              "      <td>0.007524</td>\n",
              "    </tr>\n",
              "    <tr>\n",
              "      <th>118191</th>\n",
              "      <td>403</td>\n",
              "      <td>11</td>\n",
              "      <td>52</td>\n",
              "      <td>0.000392</td>\n",
              "    </tr>\n",
              "    <tr>\n",
              "      <th>57000</th>\n",
              "      <td>525</td>\n",
              "      <td>64</td>\n",
              "      <td>32</td>\n",
              "      <td>0.999975</td>\n",
              "    </tr>\n",
              "    <tr>\n",
              "      <th>92778</th>\n",
              "      <td>109</td>\n",
              "      <td>30</td>\n",
              "      <td>23</td>\n",
              "      <td>0.999981</td>\n",
              "    </tr>\n",
              "    <tr>\n",
              "      <th>56462</th>\n",
              "      <td>410</td>\n",
              "      <td>126</td>\n",
              "      <td>32</td>\n",
              "      <td>0.999975</td>\n",
              "    </tr>\n",
              "    <tr>\n",
              "      <th>...</th>\n",
              "      <td>...</td>\n",
              "      <td>...</td>\n",
              "      <td>...</td>\n",
              "      <td>...</td>\n",
              "    </tr>\n",
              "    <tr>\n",
              "      <th>64810</th>\n",
              "      <td>113</td>\n",
              "      <td>34</td>\n",
              "      <td>39</td>\n",
              "      <td>0.999931</td>\n",
              "    </tr>\n",
              "    <tr>\n",
              "      <th>18702</th>\n",
              "      <td>511</td>\n",
              "      <td>24</td>\n",
              "      <td>15</td>\n",
              "      <td>0.988747</td>\n",
              "    </tr>\n",
              "    <tr>\n",
              "      <th>89817</th>\n",
              "      <td>527</td>\n",
              "      <td>13</td>\n",
              "      <td>37</td>\n",
              "      <td>0.999952</td>\n",
              "    </tr>\n",
              "    <tr>\n",
              "      <th>10193</th>\n",
              "      <td>326</td>\n",
              "      <td>6</td>\n",
              "      <td>113</td>\n",
              "      <td>0.001376</td>\n",
              "    </tr>\n",
              "    <tr>\n",
              "      <th>61185</th>\n",
              "      <td>420</td>\n",
              "      <td>265</td>\n",
              "      <td>61</td>\n",
              "      <td>0.999359</td>\n",
              "    </tr>\n",
              "  </tbody>\n",
              "</table>\n",
              "<p>88998 rows × 4 columns</p>\n",
              "</div>"
            ],
            "text/plain": [
              "        date  ord  length  prev_pred\n",
              "110405   513   25     137   0.007524\n",
              "118191   403   11      52   0.000392\n",
              "57000    525   64      32   0.999975\n",
              "92778    109   30      23   0.999981\n",
              "56462    410  126      32   0.999975\n",
              "...      ...  ...     ...        ...\n",
              "64810    113   34      39   0.999931\n",
              "18702    511   24      15   0.988747\n",
              "89817    527   13      37   0.999952\n",
              "10193    326    6     113   0.001376\n",
              "61185    420  265      61   0.999359\n",
              "\n",
              "[88998 rows x 4 columns]"
            ]
          },
          "metadata": {
            "tags": []
          },
          "execution_count": 150
        }
      ]
    },
    {
      "cell_type": "code",
      "metadata": {
        "id": "RO4Y0iwRju5d"
      },
      "source": [
        "#random forest\r\n",
        "from sklearn.ensemble import RandomForestClassifier\r\n",
        "\r\n",
        "model = RandomForestClassifier(n_estimators=100)\r\n",
        "model = model.fit(x_train, y_train)"
      ],
      "execution_count": null,
      "outputs": []
    },
    {
      "cell_type": "code",
      "metadata": {
        "colab": {
          "base_uri": "https://localhost:8080/"
        },
        "id": "MxHSwASblJ0X",
        "outputId": "8638de89-405e-4d44-9053-fef543552edc"
      },
      "source": [
        "print(\"train 점수 : \", model.score(x_train, y_train))\r\n",
        "print(\"test점수 : \", model.score(x_test, y_test))"
      ],
      "execution_count": null,
      "outputs": [
        {
          "output_type": "stream",
          "text": [
            "train 점수 :  1.0\n",
            "test점수 :  0.9911349310681903\n"
          ],
          "name": "stdout"
        }
      ]
    },
    {
      "cell_type": "code",
      "metadata": {
        "id": "IMvocX53ldG1"
      },
      "source": [
        "model = model.fit(x_test, y_test)"
      ],
      "execution_count": null,
      "outputs": []
    },
    {
      "cell_type": "markdown",
      "metadata": {
        "id": "QRinHGqCljJN"
      },
      "source": [
        "#####testset 전처리"
      ]
    },
    {
      "cell_type": "code",
      "metadata": {
        "colab": {
          "base_uri": "https://localhost:8080/"
        },
        "id": "e7qCwBPmlnUv",
        "outputId": "cc742d81-8149-4d76-c037-3bbe1f5c893a"
      },
      "source": [
        "test_csv.isnull().values.any()"
      ],
      "execution_count": null,
      "outputs": [
        {
          "output_type": "execute_result",
          "data": {
            "text/plain": [
              "False"
            ]
          },
          "metadata": {
            "tags": []
          },
          "execution_count": 154
        }
      ]
    },
    {
      "cell_type": "code",
      "metadata": {
        "id": "VYkrMKS2mWBT"
      },
      "source": [
        "def test_preprocessing(new_list):\r\n",
        "    stopwords = ['을', '를', '이', '가', '은', '는', '에', 'null']\r\n",
        "    res = []\r\n",
        "    for sentence in new_list:\r\n",
        "        sentence = re.sub('[^가-힣a-z]', ' ', sentence.lower()) #특수문자, 숫자 등 제거\r\n",
        "        sentence = okt.morphs(sentence, stem=True)  #형태소 분석\r\n",
        "        sentence = [word for word in sentence if not word in stopwords] #불용어 제거\r\n",
        "        encoded = tokenizer.texts_to_sequences([sentence])  #정수화\r\n",
        "        res.append(encoded)\r\n",
        "\r\n",
        "    return res"
      ],
      "execution_count": null,
      "outputs": []
    },
    {
      "cell_type": "code",
      "metadata": {
        "id": "OsdJCHP7f-mI"
      },
      "source": [
        "test_res = pd.DataFrame(data=test_preprocessing(test['content']), columns=['token'])"
      ],
      "execution_count": null,
      "outputs": []
    },
    {
      "cell_type": "code",
      "metadata": {
        "id": "vjkSaM-CgXzy"
      },
      "source": [
        "#길이 0인거\r\n",
        "index = 0\r\n",
        "drop_test=[]\r\n",
        "for sentence in test_res['token']:\r\n",
        "    if(len(sentence)<1):\r\n",
        "        drop_test.append(index)\r\n",
        "    index += 1"
      ],
      "execution_count": null,
      "outputs": []
    },
    {
      "cell_type": "code",
      "metadata": {
        "colab": {
          "base_uri": "https://localhost:8080/"
        },
        "id": "fc6-RT2Tm5Op",
        "outputId": "61af256e-ab71-4c6e-fab3-f136bb39bbe8"
      },
      "source": [
        "drop_test[:5]"
      ],
      "execution_count": null,
      "outputs": [
        {
          "output_type": "execute_result",
          "data": {
            "text/plain": [
              "[3917, 29937, 31326, 32535, 33511]"
            ]
          },
          "metadata": {
            "tags": []
          },
          "execution_count": 158
        }
      ]
    },
    {
      "cell_type": "code",
      "metadata": {
        "colab": {
          "base_uri": "https://localhost:8080/"
        },
        "id": "BrVT-1Y9cVUd",
        "outputId": "29fdcdcb-bb5d-4e2e-cf89-5bc554f952cf"
      },
      "source": [
        "sum(train_csv.iloc[drop_train, 5])  #len이 1이하인거는 다 0으로 판별하는것이 좋음을 train을 통해 알 수 있음"
      ],
      "execution_count": null,
      "outputs": [
        {
          "output_type": "execute_result",
          "data": {
            "text/plain": [
              "1"
            ]
          },
          "metadata": {
            "tags": []
          },
          "execution_count": 159
        }
      ]
    },
    {
      "cell_type": "code",
      "metadata": {
        "id": "64y1XOjCpIBj"
      },
      "source": [
        "test_padding = test_res.drop(drop_test)"
      ],
      "execution_count": null,
      "outputs": []
    },
    {
      "cell_type": "code",
      "metadata": {
        "colab": {
          "base_uri": "https://localhost:8080/",
          "height": 195
        },
        "id": "FCWz8C9EqkY-",
        "outputId": "43032683-6c96-448a-f1e5-69ced4ea4746"
      },
      "source": [
        "test_padding.head()"
      ],
      "execution_count": null,
      "outputs": [
        {
          "output_type": "execute_result",
          "data": {
            "text/html": [
              "<div>\n",
              "<style scoped>\n",
              "    .dataframe tbody tr th:only-of-type {\n",
              "        vertical-align: middle;\n",
              "    }\n",
              "\n",
              "    .dataframe tbody tr th {\n",
              "        vertical-align: top;\n",
              "    }\n",
              "\n",
              "    .dataframe thead th {\n",
              "        text-align: right;\n",
              "    }\n",
              "</style>\n",
              "<table border=\"1\" class=\"dataframe\">\n",
              "  <thead>\n",
              "    <tr style=\"text-align: right;\">\n",
              "      <th></th>\n",
              "      <th>token</th>\n",
              "    </tr>\n",
              "  </thead>\n",
              "  <tbody>\n",
              "    <tr>\n",
              "      <th>0</th>\n",
              "      <td>[3670, 3016, 109, 717, 2329, 3155, 5848, 293, ...</td>\n",
              "    </tr>\n",
              "    <tr>\n",
              "      <th>1</th>\n",
              "      <td>[305, 1, 76, 814, 717, 293, 1, 115, 7, 223, 65...</td>\n",
              "    </tr>\n",
              "    <tr>\n",
              "      <th>2</th>\n",
              "      <td>[171, 983, 293, 29, 24, 53, 1824, 64, 717, 29,...</td>\n",
              "    </tr>\n",
              "    <tr>\n",
              "      <th>3</th>\n",
              "      <td>[109, 3609, 422, 14, 197, 67, 3670, 3016, 7, 1...</td>\n",
              "    </tr>\n",
              "    <tr>\n",
              "      <th>4</th>\n",
              "      <td>[1, 814, 717, 1192, 280, 2, 293, 14, 157, 16, ...</td>\n",
              "    </tr>\n",
              "  </tbody>\n",
              "</table>\n",
              "</div>"
            ],
            "text/plain": [
              "                                               token\n",
              "0  [3670, 3016, 109, 717, 2329, 3155, 5848, 293, ...\n",
              "1  [305, 1, 76, 814, 717, 293, 1, 115, 7, 223, 65...\n",
              "2  [171, 983, 293, 29, 24, 53, 1824, 64, 717, 29,...\n",
              "3  [109, 3609, 422, 14, 197, 67, 3670, 3016, 7, 1...\n",
              "4  [1, 814, 717, 1192, 280, 2, 293, 14, 157, 16, ..."
            ]
          },
          "metadata": {
            "tags": []
          },
          "execution_count": 161
        }
      ]
    },
    {
      "cell_type": "code",
      "metadata": {
        "id": "x2DvkOIbelX3"
      },
      "source": [
        "test_padding = pad_sequences(test_padding['token'], maxlen=50)"
      ],
      "execution_count": null,
      "outputs": []
    },
    {
      "cell_type": "code",
      "metadata": {
        "colab": {
          "base_uri": "https://localhost:8080/"
        },
        "id": "uBF1VNqDttBk",
        "outputId": "d4d3c8c1-df90-4e5a-c371-e2fa70ba2e30"
      },
      "source": [
        "test_padding.shape"
      ],
      "execution_count": null,
      "outputs": [
        {
          "output_type": "execute_result",
          "data": {
            "text/plain": [
              "(142467, 50)"
            ]
          },
          "metadata": {
            "tags": []
          },
          "execution_count": 163
        }
      ]
    },
    {
      "cell_type": "code",
      "metadata": {
        "id": "FTF1_aNRtMK_"
      },
      "source": [
        "pre_pred = loaded_model.predict(test_padding)"
      ],
      "execution_count": null,
      "outputs": []
    },
    {
      "cell_type": "code",
      "metadata": {
        "id": "FSqqmaOivV8h"
      },
      "source": [
        "x_test = test.drop(drop_test)\r\n",
        "x_test_input = pd.concat([x_test.reset_index(drop=True), pd.DataFrame(pre_pred, columns=['pre_pred'])], axis=1)"
      ],
      "execution_count": null,
      "outputs": []
    },
    {
      "cell_type": "code",
      "metadata": {
        "colab": {
          "base_uri": "https://localhost:8080/"
        },
        "id": "IeGVe4xhyZM0",
        "outputId": "3ce48d47-18b5-496d-e855-8802011890fc"
      },
      "source": [
        "x_test_input.shape"
      ],
      "execution_count": null,
      "outputs": [
        {
          "output_type": "execute_result",
          "data": {
            "text/plain": [
              "(142467, 8)"
            ]
          },
          "metadata": {
            "tags": []
          },
          "execution_count": 176
        }
      ]
    },
    {
      "cell_type": "code",
      "metadata": {
        "colab": {
          "base_uri": "https://localhost:8080/"
        },
        "id": "QG2XvDMhygdx",
        "outputId": "ee5997c9-9dd1-45b1-b4be-e1d89a49ceb8"
      },
      "source": [
        "x_test_input.columns"
      ],
      "execution_count": null,
      "outputs": [
        {
          "output_type": "execute_result",
          "data": {
            "text/plain": [
              "Index(['n_id', 'date', 'title', 'content', 'ord', 'id', 'length', 'pre_pred'], dtype='object')"
            ]
          },
          "metadata": {
            "tags": []
          },
          "execution_count": 177
        }
      ]
    },
    {
      "cell_type": "code",
      "metadata": {
        "id": "qJ3jXPsSyiaf"
      },
      "source": [
        "x_test_input.drop(['n_id','title','content', 'id'], axis=1, inplace=True)"
      ],
      "execution_count": null,
      "outputs": []
    },
    {
      "cell_type": "code",
      "metadata": {
        "id": "iKp04nOwyzqb"
      },
      "source": [
        "x_test_input['date'] -= 20200000"
      ],
      "execution_count": null,
      "outputs": []
    },
    {
      "cell_type": "code",
      "metadata": {
        "colab": {
          "base_uri": "https://localhost:8080/",
          "height": 195
        },
        "id": "60bfgPapy08R",
        "outputId": "bc4ab954-f0c5-4749-8a2d-8b3b37c5766e"
      },
      "source": [
        "x_test_input.head()"
      ],
      "execution_count": null,
      "outputs": [
        {
          "output_type": "execute_result",
          "data": {
            "text/html": [
              "<div>\n",
              "<style scoped>\n",
              "    .dataframe tbody tr th:only-of-type {\n",
              "        vertical-align: middle;\n",
              "    }\n",
              "\n",
              "    .dataframe tbody tr th {\n",
              "        vertical-align: top;\n",
              "    }\n",
              "\n",
              "    .dataframe thead th {\n",
              "        text-align: right;\n",
              "    }\n",
              "</style>\n",
              "<table border=\"1\" class=\"dataframe\">\n",
              "  <thead>\n",
              "    <tr style=\"text-align: right;\">\n",
              "      <th></th>\n",
              "      <th>date</th>\n",
              "      <th>ord</th>\n",
              "      <th>length</th>\n",
              "      <th>pre_pred</th>\n",
              "    </tr>\n",
              "  </thead>\n",
              "  <tbody>\n",
              "    <tr>\n",
              "      <th>0</th>\n",
              "      <td>118</td>\n",
              "      <td>1</td>\n",
              "      <td>48</td>\n",
              "      <td>0.561077</td>\n",
              "    </tr>\n",
              "    <tr>\n",
              "      <th>1</th>\n",
              "      <td>118</td>\n",
              "      <td>2</td>\n",
              "      <td>76</td>\n",
              "      <td>0.003904</td>\n",
              "    </tr>\n",
              "    <tr>\n",
              "      <th>2</th>\n",
              "      <td>118</td>\n",
              "      <td>3</td>\n",
              "      <td>56</td>\n",
              "      <td>0.002353</td>\n",
              "    </tr>\n",
              "    <tr>\n",
              "      <th>3</th>\n",
              "      <td>118</td>\n",
              "      <td>4</td>\n",
              "      <td>76</td>\n",
              "      <td>0.002047</td>\n",
              "    </tr>\n",
              "    <tr>\n",
              "      <th>4</th>\n",
              "      <td>118</td>\n",
              "      <td>5</td>\n",
              "      <td>102</td>\n",
              "      <td>0.002509</td>\n",
              "    </tr>\n",
              "  </tbody>\n",
              "</table>\n",
              "</div>"
            ],
            "text/plain": [
              "   date  ord  length  pre_pred\n",
              "0   118    1      48  0.561077\n",
              "1   118    2      76  0.003904\n",
              "2   118    3      56  0.002353\n",
              "3   118    4      76  0.002047\n",
              "4   118    5     102  0.002509"
            ]
          },
          "metadata": {
            "tags": []
          },
          "execution_count": 180
        }
      ]
    },
    {
      "cell_type": "code",
      "metadata": {
        "colab": {
          "base_uri": "https://localhost:8080/"
        },
        "id": "tSJeUqlswJxl",
        "outputId": "484e876f-ce19-44d2-d9b2-da8189219a9c"
      },
      "source": [
        "x_test_input.isna().any()"
      ],
      "execution_count": null,
      "outputs": [
        {
          "output_type": "execute_result",
          "data": {
            "text/plain": [
              "date        False\n",
              "ord         False\n",
              "length      False\n",
              "pre_pred    False\n",
              "dtype: bool"
            ]
          },
          "metadata": {
            "tags": []
          },
          "execution_count": 181
        }
      ]
    },
    {
      "cell_type": "code",
      "metadata": {
        "id": "EjE7rdMksHyo"
      },
      "source": [
        "fianl_pred = model.predict(x_test_input)"
      ],
      "execution_count": null,
      "outputs": []
    },
    {
      "cell_type": "code",
      "metadata": {
        "colab": {
          "base_uri": "https://localhost:8080/"
        },
        "id": "W9lvliBe0LnP",
        "outputId": "cb1fb22b-2f92-4be7-cb6e-776c862b58b3"
      },
      "source": [
        "type(fianl_pred)"
      ],
      "execution_count": null,
      "outputs": [
        {
          "output_type": "execute_result",
          "data": {
            "text/plain": [
              "numpy.ndarray"
            ]
          },
          "metadata": {
            "tags": []
          },
          "execution_count": 183
        }
      ]
    },
    {
      "cell_type": "code",
      "metadata": {
        "id": "SiKErcgDzagn"
      },
      "source": [
        "final_csv = submission_csv.copy()"
      ],
      "execution_count": null,
      "outputs": []
    },
    {
      "cell_type": "code",
      "metadata": {
        "colab": {
          "base_uri": "https://localhost:8080/",
          "height": 195
        },
        "id": "Ig3lmMy-1ECf",
        "outputId": "be955cc3-74f8-4b76-f93e-08c406626a21"
      },
      "source": [
        "final_csv.head()"
      ],
      "execution_count": null,
      "outputs": [
        {
          "output_type": "execute_result",
          "data": {
            "text/html": [
              "<div>\n",
              "<style scoped>\n",
              "    .dataframe tbody tr th:only-of-type {\n",
              "        vertical-align: middle;\n",
              "    }\n",
              "\n",
              "    .dataframe tbody tr th {\n",
              "        vertical-align: top;\n",
              "    }\n",
              "\n",
              "    .dataframe thead th {\n",
              "        text-align: right;\n",
              "    }\n",
              "</style>\n",
              "<table border=\"1\" class=\"dataframe\">\n",
              "  <thead>\n",
              "    <tr style=\"text-align: right;\">\n",
              "      <th></th>\n",
              "      <th>id</th>\n",
              "      <th>info</th>\n",
              "    </tr>\n",
              "  </thead>\n",
              "  <tbody>\n",
              "    <tr>\n",
              "      <th>0</th>\n",
              "      <td>NEWS00237_1</td>\n",
              "      <td>0</td>\n",
              "    </tr>\n",
              "    <tr>\n",
              "      <th>1</th>\n",
              "      <td>NEWS00237_2</td>\n",
              "      <td>0</td>\n",
              "    </tr>\n",
              "    <tr>\n",
              "      <th>2</th>\n",
              "      <td>NEWS00237_3</td>\n",
              "      <td>0</td>\n",
              "    </tr>\n",
              "    <tr>\n",
              "      <th>3</th>\n",
              "      <td>NEWS00237_4</td>\n",
              "      <td>0</td>\n",
              "    </tr>\n",
              "    <tr>\n",
              "      <th>4</th>\n",
              "      <td>NEWS00237_5</td>\n",
              "      <td>0</td>\n",
              "    </tr>\n",
              "  </tbody>\n",
              "</table>\n",
              "</div>"
            ],
            "text/plain": [
              "            id  info\n",
              "0  NEWS00237_1     0\n",
              "1  NEWS00237_2     0\n",
              "2  NEWS00237_3     0\n",
              "3  NEWS00237_4     0\n",
              "4  NEWS00237_5     0"
            ]
          },
          "metadata": {
            "tags": []
          },
          "execution_count": 185
        }
      ]
    },
    {
      "cell_type": "code",
      "metadata": {
        "colab": {
          "base_uri": "https://localhost:8080/"
        },
        "id": "xOcEKfq-0Wlt",
        "outputId": "fead8550-9d43-415d-d686-86d543313dca"
      },
      "source": [
        "j = 0\r\n",
        "for i in range(0,len(final_csv)):\r\n",
        "    if(j not in drop_test):\r\n",
        "        final_csv['info'][i] = fianl_pred[j]\r\n",
        "        j += 1\r\n",
        "    else:\r\n",
        "        final_csv['info'][i] = 0"
      ],
      "execution_count": null,
      "outputs": [
        {
          "output_type": "stream",
          "text": [
            "/usr/local/lib/python3.6/dist-packages/ipykernel_launcher.py:4: SettingWithCopyWarning: \n",
            "A value is trying to be set on a copy of a slice from a DataFrame\n",
            "\n",
            "See the caveats in the documentation: https://pandas.pydata.org/pandas-docs/stable/user_guide/indexing.html#returning-a-view-versus-a-copy\n",
            "  after removing the cwd from sys.path.\n",
            "/usr/local/lib/python3.6/dist-packages/ipykernel_launcher.py:7: SettingWithCopyWarning: \n",
            "A value is trying to be set on a copy of a slice from a DataFrame\n",
            "\n",
            "See the caveats in the documentation: https://pandas.pydata.org/pandas-docs/stable/user_guide/indexing.html#returning-a-view-versus-a-copy\n",
            "  import sys\n"
          ],
          "name": "stderr"
        }
      ]
    },
    {
      "cell_type": "code",
      "metadata": {
        "id": "CvHcBnrO1tGD"
      },
      "source": [
        "final_csv.loc[:, [\"id\", \"info\"]].to_csv(\"submission_lstm_randomforest.csv\",index=False)"
      ],
      "execution_count": null,
      "outputs": []
    },
    {
      "cell_type": "markdown",
      "metadata": {
        "id": "h75Y937ylnyf"
      },
      "source": [
        "###dacon내용"
      ]
    },
    {
      "cell_type": "code",
      "metadata": {
        "colab": {
          "base_uri": "https://localhost:8080/"
        },
        "id": "XzFdryT5_g3p",
        "outputId": "f4cbfcad-74a1-4f7e-b05b-45bfc589e631"
      },
      "source": [
        "from tensorflow.keras.preprocessing.text import Tokenizer\r\n",
        "from tensorflow.keras.preprocessing.sequence import pad_sequences\r\n",
        "\r\n",
        "def text2sequence(train_text, max_len=100):\r\n",
        "    tokenizer = Tokenizer() #vectorizing 함수\r\n",
        "    tokenizer.fit_on_texts(train_text)  #각 단어에 점수 부여\r\n",
        "    train_x_seq = tokenizer.texts_to_sequences(train_text)  #각 토큰들에 정수부여\r\n",
        "    vocab_size = len(tokenizer.word_index) + 1\r\n",
        "    print('vocab_size : ', vocab_size)\r\n",
        "    x_train = pad_sequences(train_x_seq, maxlen = max_len)  #padding\r\n",
        "\r\n",
        "    return x_train, vocab_size, tokenizer\r\n",
        "\r\n",
        "train_x, vocac_size, vectorizer = text2sequence(train['token'], max_len=100)"
      ],
      "execution_count": null,
      "outputs": [
        {
          "output_type": "stream",
          "text": [
            "vocab_size :  44851\n"
          ],
          "name": "stdout"
        }
      ]
    },
    {
      "cell_type": "code",
      "metadata": {
        "id": "cwFufOsZKfil"
      },
      "source": [
        "type(train_x)"
      ],
      "execution_count": null,
      "outputs": []
    },
    {
      "cell_type": "code",
      "metadata": {
        "id": "Bgy-1YfkICJo"
      },
      "source": [
        "from keras.models import Sequential\r\n",
        "from keras.layers import Dense, Embedding\r\n",
        "from keras.layers import LSTM"
      ],
      "execution_count": null,
      "outputs": []
    },
    {
      "cell_type": "code",
      "metadata": {
        "id": "HVGp8ZX6HiPj"
      },
      "source": [
        "def LSTM(vocab_size, max_len=100):\r\n",
        "    model = Sequential()\r\n",
        "    model.add(Embedding(vocab_size, 128))\r\n",
        "    model.add(SpatialDropout1D(0.3))\r\n",
        "    model.add(LSTM(128, dropout=0.2, recurrent_dropout=0.2))\r\n",
        "    model.add(Dense(64, activation='relu'))\r\n",
        "    model.add(Dense(1, activation='sigmoid'))\r\n",
        "    model.compile(optimizer='adam', loss='binary_crossentropy', metrics='accuracy')\r\n",
        "    model.summary()\r\n",
        "\r\n",
        "    return model"
      ],
      "execution_count": null,
      "outputs": []
    },
    {
      "cell_type": "code",
      "metadata": {
        "id": "ssdJCJypJF6g"
      },
      "source": [
        "train\r\n",
        "model = LSTM(vocab_size)\r\n",
        "model.fit(train_x, train_csv['info'],\r\n",
        "          batch_size=batch_size,\r\n",
        "          epochs=15,\r\n",
        "          )"
      ],
      "execution_count": null,
      "outputs": []
    },
    {
      "cell_type": "markdown",
      "metadata": {
        "id": "_F-HhDNp28lA"
      },
      "source": [
        "#AutoML"
      ]
    },
    {
      "cell_type": "code",
      "metadata": {
        "id": "6dhUrZw32mK6"
      },
      "source": [
        "!pip install autokeras\r\n",
        "#!pip install git+https://github.com/keras-team/keras-tuner.git@1.0.2rc4"
      ],
      "execution_count": null,
      "outputs": []
    },
    {
      "cell_type": "code",
      "metadata": {
        "id": "p0UoljBy3WEV"
      },
      "source": [
        "import autokeras as ak"
      ],
      "execution_count": null,
      "outputs": []
    },
    {
      "cell_type": "code",
      "metadata": {
        "id": "69nV_ECv3eeS"
      },
      "source": [
        "train_cont = train_csv.content.values   #numpy\r\n",
        "train_y = train_csv['info'].values      #numpy"
      ],
      "execution_count": null,
      "outputs": []
    },
    {
      "cell_type": "code",
      "metadata": {
        "colab": {
          "base_uri": "https://localhost:8080/"
        },
        "id": "BZs1BmHM4ecF",
        "outputId": "bd16a3c8-5f0f-46ba-9df0-75916d6fd3fb"
      },
      "source": [
        "input_node = ak.TextInput()\r\n",
        "output_node = ak.TextToIntSequence()(input_node)\r\n",
        "output_node = ak.Embedding()(output_node)\r\n",
        "output_node = ak.ConvBlock(separable=True)(output_node)\r\n",
        "output_node = ak.ClassificationHead()(output_node)\r\n",
        "\r\n",
        "clf = ak.AutoModel(\r\n",
        "    inputs=input_node,\r\n",
        "    outputs = output_node,\r\n",
        "    overwrite = True,\r\n",
        "    max_trials = 5\r\n",
        ")\r\n",
        "clf.fit(train_cont, train_y, epochs=3)\r\n",
        "model = clf.export_model()"
      ],
      "execution_count": null,
      "outputs": [
        {
          "output_type": "stream",
          "text": [
            "Trial 5 Complete [00h 09m 01s]\n",
            "val_loss: 0.003356833243742585\n",
            "\n",
            "Best val_loss So Far: 0.0026177221443504095\n",
            "Total elapsed time: 00h 43m 18s\n",
            "INFO:tensorflow:Oracle triggered exit\n",
            "Epoch 1/5\n",
            "3711/3711 [==============================] - 119s 32ms/step - loss: 0.1118 - accuracy: 0.9553\n",
            "Epoch 2/5\n",
            "3711/3711 [==============================] - 118s 32ms/step - loss: 0.0455 - accuracy: 0.9839\n",
            "Epoch 3/5\n",
            "3711/3711 [==============================] - 120s 32ms/step - loss: 0.0267 - accuracy: 0.9902\n",
            "Epoch 4/5\n",
            "3711/3711 [==============================] - 120s 32ms/step - loss: 0.0174 - accuracy: 0.9936\n",
            "Epoch 5/5\n",
            "3711/3711 [==============================] - 119s 32ms/step - loss: 0.0115 - accuracy: 0.9958\n",
            "WARNING:tensorflow:From /usr/local/lib/python3.6/dist-packages/tensorflow/python/training/tracking/tracking.py:111: Model.state_updates (from tensorflow.python.keras.engine.training) is deprecated and will be removed in a future version.\n",
            "Instructions for updating:\n",
            "This property should not be used in TensorFlow 2.0, as updates are applied automatically.\n",
            "WARNING:tensorflow:From /usr/local/lib/python3.6/dist-packages/tensorflow/python/training/tracking/tracking.py:111: Layer.updates (from tensorflow.python.keras.engine.base_layer) is deprecated and will be removed in a future version.\n",
            "Instructions for updating:\n",
            "This property should not be used in TensorFlow 2.0, as updates are applied automatically.\n",
            "INFO:tensorflow:Assets written to: ./auto_model/best_model/assets\n"
          ],
          "name": "stdout"
        }
      ]
    },
    {
      "cell_type": "code",
      "metadata": {
        "id": "-KcgB6vRHoOY"
      },
      "source": [
        "model.summary()"
      ],
      "execution_count": null,
      "outputs": []
    },
    {
      "cell_type": "code",
      "metadata": {
        "id": "1UOUYlBMN_0-"
      },
      "source": [
        "pred_test = model.predict(test_csv.content.values)\r\n",
        "submission_csv.loc[:, 'info'] = np.where(pred_test>0.5, 1,0).reshape(-1)"
      ],
      "execution_count": null,
      "outputs": []
    },
    {
      "cell_type": "code",
      "metadata": {
        "colab": {
          "base_uri": "https://localhost:8080/",
          "height": 195
        },
        "id": "rOJWFqqfOaDf",
        "outputId": "b97d44d5-7be0-43b4-c20e-664e21a04a4a"
      },
      "source": [
        "submission_csv.loc[:,[\"id\", \"info\"]].to_csv(\"sample_submission.csv\", index=False)"
      ],
      "execution_count": null,
      "outputs": [
        {
          "output_type": "execute_result",
          "data": {
            "text/html": [
              "<div>\n",
              "<style scoped>\n",
              "    .dataframe tbody tr th:only-of-type {\n",
              "        vertical-align: middle;\n",
              "    }\n",
              "\n",
              "    .dataframe tbody tr th {\n",
              "        vertical-align: top;\n",
              "    }\n",
              "\n",
              "    .dataframe thead th {\n",
              "        text-align: right;\n",
              "    }\n",
              "</style>\n",
              "<table border=\"1\" class=\"dataframe\">\n",
              "  <thead>\n",
              "    <tr style=\"text-align: right;\">\n",
              "      <th></th>\n",
              "      <th>id</th>\n",
              "      <th>info</th>\n",
              "    </tr>\n",
              "  </thead>\n",
              "  <tbody>\n",
              "    <tr>\n",
              "      <th>0</th>\n",
              "      <td>NEWS00237_1</td>\n",
              "      <td>0</td>\n",
              "    </tr>\n",
              "    <tr>\n",
              "      <th>1</th>\n",
              "      <td>NEWS00237_2</td>\n",
              "      <td>0</td>\n",
              "    </tr>\n",
              "    <tr>\n",
              "      <th>2</th>\n",
              "      <td>NEWS00237_3</td>\n",
              "      <td>0</td>\n",
              "    </tr>\n",
              "    <tr>\n",
              "      <th>3</th>\n",
              "      <td>NEWS00237_4</td>\n",
              "      <td>0</td>\n",
              "    </tr>\n",
              "    <tr>\n",
              "      <th>4</th>\n",
              "      <td>NEWS00237_5</td>\n",
              "      <td>0</td>\n",
              "    </tr>\n",
              "  </tbody>\n",
              "</table>\n",
              "</div>"
            ],
            "text/plain": [
              "            id  info\n",
              "0  NEWS00237_1     0\n",
              "1  NEWS00237_2     0\n",
              "2  NEWS00237_3     0\n",
              "3  NEWS00237_4     0\n",
              "4  NEWS00237_5     0"
            ]
          },
          "metadata": {
            "tags": []
          },
          "execution_count": 20
        }
      ]
    },
    {
      "cell_type": "code",
      "metadata": {
        "colab": {
          "base_uri": "https://localhost:8080/"
        },
        "id": "IFq_B0NWQain",
        "outputId": "f4fa55d3-7166-40fe-d0e4-7070206f160c"
      },
      "source": [
        "#모델 저장\r\n",
        "from tensorflow import keras\r\n",
        "from keras.models import load_model\r\n",
        "model.save('AInews_auto_model')"
      ],
      "execution_count": null,
      "outputs": [
        {
          "output_type": "stream",
          "text": [
            "INFO:tensorflow:Assets written to: AInews_auto_model/assets\n"
          ],
          "name": "stdout"
        }
      ]
    },
    {
      "cell_type": "markdown",
      "metadata": {
        "id": "LvFAUzgHBpnl"
      },
      "source": [
        "### 2"
      ]
    },
    {
      "cell_type": "code",
      "metadata": {
        "id": "yGwJ_UKV-m6X"
      },
      "source": [
        "!pip install pycaret"
      ],
      "execution_count": null,
      "outputs": []
    },
    {
      "cell_type": "code",
      "metadata": {
        "id": "n0DcigkA-E4k"
      },
      "source": [
        "from pycaret.classification import *"
      ],
      "execution_count": null,
      "outputs": []
    },
    {
      "cell_type": "code",
      "metadata": {
        "id": "sZfjKn-SSS5R"
      },
      "source": [
        "os.chdir(\"/content/drive/MyDrive/Dacon/AInews\")"
      ],
      "execution_count": null,
      "outputs": []
    },
    {
      "cell_type": "code",
      "metadata": {
        "colab": {
          "base_uri": "https://localhost:8080/",
          "height": 35
        },
        "id": "9vYRrn1hTDND",
        "outputId": "f8e2f6c4-ecb9-4c7b-e0d6-510ee0fb4f2f"
      },
      "source": [
        "os.getcwd()"
      ],
      "execution_count": null,
      "outputs": [
        {
          "output_type": "execute_result",
          "data": {
            "application/vnd.google.colaboratory.intrinsic+json": {
              "type": "string"
            },
            "text/plain": [
              "'/content/drive/My Drive/Dacon/AInews'"
            ]
          },
          "metadata": {
            "tags": []
          },
          "execution_count": 29
        }
      ]
    },
    {
      "cell_type": "code",
      "metadata": {
        "id": "KkQ0UFaGRy6G"
      },
      "source": [
        "#모델 가져오기\r\n",
        "from keras.models import load_model\r\n",
        "import autokeras as ak\r\n",
        "model = load_model(\"AInews_auto_model\", custom_objects=ak.CUSTOM_OBJECTS)"
      ],
      "execution_count": null,
      "outputs": []
    },
    {
      "cell_type": "code",
      "metadata": {
        "id": "pqj4HKNHWVrq"
      },
      "source": [
        "#모델 가져온거 예측\r\n",
        "predict_target = model.predict(train_csv.content.values)"
      ],
      "execution_count": null,
      "outputs": []
    },
    {
      "cell_type": "code",
      "metadata": {
        "colab": {
          "base_uri": "https://localhost:8080/"
        },
        "id": "nhXQ2jdFWrzr",
        "outputId": "3d6dc975-e66a-4adf-cc25-c613139e17e9"
      },
      "source": [
        "predict_target.shape"
      ],
      "execution_count": null,
      "outputs": [
        {
          "output_type": "execute_result",
          "data": {
            "text/plain": [
              "(118745, 1)"
            ]
          },
          "metadata": {
            "tags": []
          },
          "execution_count": 39
        }
      ]
    },
    {
      "cell_type": "code",
      "metadata": {
        "colab": {
          "base_uri": "https://localhost:8080/"
        },
        "id": "fRffoSocYwEl",
        "outputId": "5d00104b-1c86-4cf6-847f-6be8933fbe72"
      },
      "source": [
        "train_csv.columns"
      ],
      "execution_count": null,
      "outputs": [
        {
          "output_type": "execute_result",
          "data": {
            "text/plain": [
              "Index(['n_id', 'date', 'title', 'content', 'ord', 'info', 'length'], dtype='object')"
            ]
          },
          "metadata": {
            "tags": []
          },
          "execution_count": 58
        }
      ]
    },
    {
      "cell_type": "code",
      "metadata": {
        "id": "yBIfKrUuW9VE"
      },
      "source": [
        "#preprocessing (drop)\r\n",
        "train = train_csv.drop([\"title\", \"n_id\", \"content\"], axis=1)\r\n",
        "train['pre_target'] = predict_target"
      ],
      "execution_count": null,
      "outputs": []
    },
    {
      "cell_type": "code",
      "metadata": {
        "colab": {
          "base_uri": "https://localhost:8080/",
          "height": 402
        },
        "id": "xB8yfeBbZrH0",
        "outputId": "d25a4e9b-a6a9-4ada-b8e8-0608543238af"
      },
      "source": [
        "train"
      ],
      "execution_count": null,
      "outputs": [
        {
          "output_type": "execute_result",
          "data": {
            "text/html": [
              "<div>\n",
              "<style scoped>\n",
              "    .dataframe tbody tr th:only-of-type {\n",
              "        vertical-align: middle;\n",
              "    }\n",
              "\n",
              "    .dataframe tbody tr th {\n",
              "        vertical-align: top;\n",
              "    }\n",
              "\n",
              "    .dataframe thead th {\n",
              "        text-align: right;\n",
              "    }\n",
              "</style>\n",
              "<table border=\"1\" class=\"dataframe\">\n",
              "  <thead>\n",
              "    <tr style=\"text-align: right;\">\n",
              "      <th></th>\n",
              "      <th>date</th>\n",
              "      <th>ord</th>\n",
              "      <th>info</th>\n",
              "      <th>length</th>\n",
              "      <th>pre_target</th>\n",
              "    </tr>\n",
              "  </thead>\n",
              "  <tbody>\n",
              "    <tr>\n",
              "      <th>0</th>\n",
              "      <td>20200605</td>\n",
              "      <td>1</td>\n",
              "      <td>0</td>\n",
              "      <td>42</td>\n",
              "      <td>2.314312e-13</td>\n",
              "    </tr>\n",
              "    <tr>\n",
              "      <th>1</th>\n",
              "      <td>20200605</td>\n",
              "      <td>2</td>\n",
              "      <td>1</td>\n",
              "      <td>37</td>\n",
              "      <td>9.999919e-01</td>\n",
              "    </tr>\n",
              "    <tr>\n",
              "      <th>2</th>\n",
              "      <td>20200605</td>\n",
              "      <td>3</td>\n",
              "      <td>1</td>\n",
              "      <td>33</td>\n",
              "      <td>9.998140e-01</td>\n",
              "    </tr>\n",
              "    <tr>\n",
              "      <th>3</th>\n",
              "      <td>20200605</td>\n",
              "      <td>4</td>\n",
              "      <td>0</td>\n",
              "      <td>32</td>\n",
              "      <td>2.023665e-30</td>\n",
              "    </tr>\n",
              "    <tr>\n",
              "      <th>4</th>\n",
              "      <td>20200626</td>\n",
              "      <td>1</td>\n",
              "      <td>0</td>\n",
              "      <td>20</td>\n",
              "      <td>9.292672e-06</td>\n",
              "    </tr>\n",
              "    <tr>\n",
              "      <th>...</th>\n",
              "      <td>...</td>\n",
              "      <td>...</td>\n",
              "      <td>...</td>\n",
              "      <td>...</td>\n",
              "      <td>...</td>\n",
              "    </tr>\n",
              "    <tr>\n",
              "      <th>118740</th>\n",
              "      <td>20200117</td>\n",
              "      <td>48</td>\n",
              "      <td>1</td>\n",
              "      <td>35</td>\n",
              "      <td>1.000000e+00</td>\n",
              "    </tr>\n",
              "    <tr>\n",
              "      <th>118741</th>\n",
              "      <td>20200117</td>\n",
              "      <td>49</td>\n",
              "      <td>1</td>\n",
              "      <td>23</td>\n",
              "      <td>1.000000e+00</td>\n",
              "    </tr>\n",
              "    <tr>\n",
              "      <th>118742</th>\n",
              "      <td>20200117</td>\n",
              "      <td>50</td>\n",
              "      <td>1</td>\n",
              "      <td>23</td>\n",
              "      <td>1.000000e+00</td>\n",
              "    </tr>\n",
              "    <tr>\n",
              "      <th>118743</th>\n",
              "      <td>20200117</td>\n",
              "      <td>51</td>\n",
              "      <td>1</td>\n",
              "      <td>27</td>\n",
              "      <td>1.000000e+00</td>\n",
              "    </tr>\n",
              "    <tr>\n",
              "      <th>118744</th>\n",
              "      <td>20200117</td>\n",
              "      <td>52</td>\n",
              "      <td>1</td>\n",
              "      <td>27</td>\n",
              "      <td>1.000000e+00</td>\n",
              "    </tr>\n",
              "  </tbody>\n",
              "</table>\n",
              "<p>118745 rows × 5 columns</p>\n",
              "</div>"
            ],
            "text/plain": [
              "            date  ord  info  length    pre_target\n",
              "0       20200605    1     0      42  2.314312e-13\n",
              "1       20200605    2     1      37  9.999919e-01\n",
              "2       20200605    3     1      33  9.998140e-01\n",
              "3       20200605    4     0      32  2.023665e-30\n",
              "4       20200626    1     0      20  9.292672e-06\n",
              "...          ...  ...   ...     ...           ...\n",
              "118740  20200117   48     1      35  1.000000e+00\n",
              "118741  20200117   49     1      23  1.000000e+00\n",
              "118742  20200117   50     1      23  1.000000e+00\n",
              "118743  20200117   51     1      27  1.000000e+00\n",
              "118744  20200117   52     1      27  1.000000e+00\n",
              "\n",
              "[118745 rows x 5 columns]"
            ]
          },
          "metadata": {
            "tags": []
          },
          "execution_count": 69
        }
      ]
    },
    {
      "cell_type": "code",
      "metadata": {
        "colab": {
          "base_uri": "https://localhost:8080/",
          "height": 352
        },
        "id": "CPyN7GZuXX3X",
        "outputId": "474b5d7f-d2c2-462c-92ea-4da04dfbcf2b"
      },
      "source": [
        "plt.figure(figsize=(20,10))\r\n",
        "sns.countplot(data = train_csv[['date', 'info']], x='date', hue='info')"
      ],
      "execution_count": null,
      "outputs": [
        {
          "output_type": "execute_result",
          "data": {
            "text/plain": [
              "<matplotlib.axes._subplots.AxesSubplot at 0x7fdc08d4eeb8>"
            ]
          },
          "metadata": {
            "tags": []
          },
          "execution_count": 67
        },
        {
          "output_type": "display_data",
          "data": {
            "image/png": "[encoded data removed]",
            "text/plain": [
              "<Figure size 1440x720 with 1 Axes>"
            ]
          },
          "metadata": {
            "tags": []
          }
        }
      ]
    },
    {
      "cell_type": "code",
      "metadata": {
        "id": "hTEeUZ5z-VCT"
      },
      "source": [
        "clf = setup(data = train, target = 'info')"
      ],
      "execution_count": null,
      "outputs": []
    },
    {
      "cell_type": "code",
      "metadata": {
        "colab": {
          "base_uri": "https://localhost:8080/",
          "height": 911
        },
        "id": "w6AdDyAw-q2N",
        "outputId": "b1abe59b-a806-44f0-8357-091145e67076"
      },
      "source": [
        "best_3 = compare_models(sort = 'Accuracy', n_select=3)"
      ],
      "execution_count": null,
      "outputs": [
        {
          "output_type": "display_data",
          "data": {
            "text/html": [
              "<div>\n",
              "<style scoped>\n",
              "    .dataframe tbody tr th:only-of-type {\n",
              "        vertical-align: middle;\n",
              "    }\n",
              "\n",
              "    .dataframe tbody tr th {\n",
              "        vertical-align: top;\n",
              "    }\n",
              "\n",
              "    .dataframe thead th {\n",
              "        text-align: right;\n",
              "    }\n",
              "</style>\n",
              "<table border=\"1\" class=\"dataframe\">\n",
              "  <thead>\n",
              "    <tr style=\"text-align: right;\">\n",
              "      <th></th>\n",
              "      <th>Model</th>\n",
              "      <th>Accuracy</th>\n",
              "      <th>AUC</th>\n",
              "      <th>Recall</th>\n",
              "      <th>Prec.</th>\n",
              "      <th>F1</th>\n",
              "      <th>Kappa</th>\n",
              "      <th>MCC</th>\n",
              "      <th>TT (Sec)</th>\n",
              "    </tr>\n",
              "  </thead>\n",
              "  <tbody>\n",
              "    <tr>\n",
              "      <th>rf</th>\n",
              "      <td>Random Forest Classifier</td>\n",
              "      <td>0.9927</td>\n",
              "      <td>0.9994</td>\n",
              "      <td>0.9891</td>\n",
              "      <td>0.9926</td>\n",
              "      <td>0.9908</td>\n",
              "      <td>0.9848</td>\n",
              "      <td>0.9848</td>\n",
              "      <td>4.641</td>\n",
              "    </tr>\n",
              "    <tr>\n",
              "      <th>xgboost</th>\n",
              "      <td>Extreme Gradient Boosting</td>\n",
              "      <td>0.9927</td>\n",
              "      <td>0.9997</td>\n",
              "      <td>0.9899</td>\n",
              "      <td>0.9917</td>\n",
              "      <td>0.9908</td>\n",
              "      <td>0.9847</td>\n",
              "      <td>0.9847</td>\n",
              "      <td>7.816</td>\n",
              "    </tr>\n",
              "    <tr>\n",
              "      <th>et</th>\n",
              "      <td>Extra Trees Classifier</td>\n",
              "      <td>0.9925</td>\n",
              "      <td>0.9995</td>\n",
              "      <td>0.9890</td>\n",
              "      <td>0.9920</td>\n",
              "      <td>0.9905</td>\n",
              "      <td>0.9843</td>\n",
              "      <td>0.9843</td>\n",
              "      <td>2.829</td>\n",
              "    </tr>\n",
              "    <tr>\n",
              "      <th>lightgbm</th>\n",
              "      <td>Light Gradient Boosting Machine</td>\n",
              "      <td>0.9917</td>\n",
              "      <td>0.9997</td>\n",
              "      <td>0.9896</td>\n",
              "      <td>0.9894</td>\n",
              "      <td>0.9895</td>\n",
              "      <td>0.9826</td>\n",
              "      <td>0.9826</td>\n",
              "      <td>0.574</td>\n",
              "    </tr>\n",
              "    <tr>\n",
              "      <th>catboost</th>\n",
              "      <td>CatBoost Classifier</td>\n",
              "      <td>0.9915</td>\n",
              "      <td>0.9997</td>\n",
              "      <td>0.9888</td>\n",
              "      <td>0.9896</td>\n",
              "      <td>0.9892</td>\n",
              "      <td>0.9821</td>\n",
              "      <td>0.9821</td>\n",
              "      <td>25.534</td>\n",
              "    </tr>\n",
              "    <tr>\n",
              "      <th>gbc</th>\n",
              "      <td>Gradient Boosting Classifier</td>\n",
              "      <td>0.9908</td>\n",
              "      <td>0.9996</td>\n",
              "      <td>0.9874</td>\n",
              "      <td>0.9894</td>\n",
              "      <td>0.9884</td>\n",
              "      <td>0.9808</td>\n",
              "      <td>0.9808</td>\n",
              "      <td>4.876</td>\n",
              "    </tr>\n",
              "    <tr>\n",
              "      <th>dt</th>\n",
              "      <td>Decision Tree Classifier</td>\n",
              "      <td>0.9893</td>\n",
              "      <td>0.9888</td>\n",
              "      <td>0.9865</td>\n",
              "      <td>0.9864</td>\n",
              "      <td>0.9865</td>\n",
              "      <td>0.9776</td>\n",
              "      <td>0.9776</td>\n",
              "      <td>0.181</td>\n",
              "    </tr>\n",
              "    <tr>\n",
              "      <th>ada</th>\n",
              "      <td>Ada Boost Classifier</td>\n",
              "      <td>0.9890</td>\n",
              "      <td>0.9995</td>\n",
              "      <td>0.9842</td>\n",
              "      <td>0.9881</td>\n",
              "      <td>0.9861</td>\n",
              "      <td>0.9770</td>\n",
              "      <td>0.9770</td>\n",
              "      <td>1.611</td>\n",
              "    </tr>\n",
              "    <tr>\n",
              "      <th>qda</th>\n",
              "      <td>Quadratic Discriminant Analysis</td>\n",
              "      <td>0.9794</td>\n",
              "      <td>0.9940</td>\n",
              "      <td>0.9664</td>\n",
              "      <td>0.9813</td>\n",
              "      <td>0.9738</td>\n",
              "      <td>0.9568</td>\n",
              "      <td>0.9568</td>\n",
              "      <td>0.075</td>\n",
              "    </tr>\n",
              "    <tr>\n",
              "      <th>nb</th>\n",
              "      <td>Naive Bayes</td>\n",
              "      <td>0.9785</td>\n",
              "      <td>0.9929</td>\n",
              "      <td>0.9635</td>\n",
              "      <td>0.9818</td>\n",
              "      <td>0.9725</td>\n",
              "      <td>0.9548</td>\n",
              "      <td>0.9549</td>\n",
              "      <td>0.069</td>\n",
              "    </tr>\n",
              "    <tr>\n",
              "      <th>ridge</th>\n",
              "      <td>Ridge Classifier</td>\n",
              "      <td>0.9601</td>\n",
              "      <td>0.0000</td>\n",
              "      <td>0.8994</td>\n",
              "      <td>0.9999</td>\n",
              "      <td>0.9470</td>\n",
              "      <td>0.9151</td>\n",
              "      <td>0.9184</td>\n",
              "      <td>0.071</td>\n",
              "    </tr>\n",
              "    <tr>\n",
              "      <th>lda</th>\n",
              "      <td>Linear Discriminant Analysis</td>\n",
              "      <td>0.9601</td>\n",
              "      <td>0.9940</td>\n",
              "      <td>0.8994</td>\n",
              "      <td>0.9999</td>\n",
              "      <td>0.9470</td>\n",
              "      <td>0.9151</td>\n",
              "      <td>0.9184</td>\n",
              "      <td>0.117</td>\n",
              "    </tr>\n",
              "    <tr>\n",
              "      <th>knn</th>\n",
              "      <td>K Neighbors Classifier</td>\n",
              "      <td>0.8340</td>\n",
              "      <td>0.9032</td>\n",
              "      <td>0.8324</td>\n",
              "      <td>0.7680</td>\n",
              "      <td>0.7989</td>\n",
              "      <td>0.6579</td>\n",
              "      <td>0.6595</td>\n",
              "      <td>0.537</td>\n",
              "    </tr>\n",
              "    <tr>\n",
              "      <th>lr</th>\n",
              "      <td>Logistic Regression</td>\n",
              "      <td>0.6039</td>\n",
              "      <td>0.4860</td>\n",
              "      <td>0.0000</td>\n",
              "      <td>0.0000</td>\n",
              "      <td>0.0000</td>\n",
              "      <td>0.0000</td>\n",
              "      <td>0.0000</td>\n",
              "      <td>0.431</td>\n",
              "    </tr>\n",
              "    <tr>\n",
              "      <th>svm</th>\n",
              "      <td>SVM - Linear Kernel</td>\n",
              "      <td>0.5000</td>\n",
              "      <td>0.0000</td>\n",
              "      <td>0.5000</td>\n",
              "      <td>0.1980</td>\n",
              "      <td>0.2837</td>\n",
              "      <td>0.0000</td>\n",
              "      <td>0.0000</td>\n",
              "      <td>2.613</td>\n",
              "    </tr>\n",
              "  </tbody>\n",
              "</table>\n",
              "</div>"
            ],
            "text/plain": [
              "                                    Model  Accuracy     AUC  Recall   Prec.  \\\n",
              "rf               Random Forest Classifier    0.9927  0.9994  0.9891  0.9926   \n",
              "xgboost         Extreme Gradient Boosting    0.9927  0.9997  0.9899  0.9917   \n",
              "et                 Extra Trees Classifier    0.9925  0.9995  0.9890  0.9920   \n",
              "lightgbm  Light Gradient Boosting Machine    0.9917  0.9997  0.9896  0.9894   \n",
              "catboost              CatBoost Classifier    0.9915  0.9997  0.9888  0.9896   \n",
              "gbc          Gradient Boosting Classifier    0.9908  0.9996  0.9874  0.9894   \n",
              "dt               Decision Tree Classifier    0.9893  0.9888  0.9865  0.9864   \n",
              "ada                  Ada Boost Classifier    0.9890  0.9995  0.9842  0.9881   \n",
              "qda       Quadratic Discriminant Analysis    0.9794  0.9940  0.9664  0.9813   \n",
              "nb                            Naive Bayes    0.9785  0.9929  0.9635  0.9818   \n",
              "ridge                    Ridge Classifier    0.9601  0.0000  0.8994  0.9999   \n",
              "lda          Linear Discriminant Analysis    0.9601  0.9940  0.8994  0.9999   \n",
              "knn                K Neighbors Classifier    0.8340  0.9032  0.8324  0.7680   \n",
              "lr                    Logistic Regression    0.6039  0.4860  0.0000  0.0000   \n",
              "svm                   SVM - Linear Kernel    0.5000  0.0000  0.5000  0.1980   \n",
              "\n",
              "              F1   Kappa     MCC  TT (Sec)  \n",
              "rf        0.9908  0.9848  0.9848     4.641  \n",
              "xgboost   0.9908  0.9847  0.9847     7.816  \n",
              "et        0.9905  0.9843  0.9843     2.829  \n",
              "lightgbm  0.9895  0.9826  0.9826     0.574  \n",
              "catboost  0.9892  0.9821  0.9821    25.534  \n",
              "gbc       0.9884  0.9808  0.9808     4.876  \n",
              "dt        0.9865  0.9776  0.9776     0.181  \n",
              "ada       0.9861  0.9770  0.9770     1.611  \n",
              "qda       0.9738  0.9568  0.9568     0.075  \n",
              "nb        0.9725  0.9548  0.9549     0.069  \n",
              "ridge     0.9470  0.9151  0.9184     0.071  \n",
              "lda       0.9470  0.9151  0.9184     0.117  \n",
              "knn       0.7989  0.6579  0.6595     0.537  \n",
              "lr        0.0000  0.0000  0.0000     0.431  \n",
              "svm       0.2837  0.0000  0.0000     2.613  "
            ]
          },
          "metadata": {
            "tags": []
          }
        }
      ]
    },
    {
      "cell_type": "code",
      "metadata": {
        "colab": {
          "base_uri": "https://localhost:8080/",
          "height": 254
        },
        "id": "gOd9Gyg2-w9Z",
        "outputId": "9d8a54f1-6a91-45ea-86f2-143b6aaa41d4"
      },
      "source": [
        "blended = blend_models(estimator_list = best_3, fold = 5, method='hard')"
      ],
      "execution_count": null,
      "outputs": [
        {
          "output_type": "display_data",
          "data": {
            "text/html": [
              "<div>\n",
              "<style scoped>\n",
              "    .dataframe tbody tr th:only-of-type {\n",
              "        vertical-align: middle;\n",
              "    }\n",
              "\n",
              "    .dataframe tbody tr th {\n",
              "        vertical-align: top;\n",
              "    }\n",
              "\n",
              "    .dataframe thead th {\n",
              "        text-align: right;\n",
              "    }\n",
              "</style>\n",
              "<table border=\"1\" class=\"dataframe\">\n",
              "  <thead>\n",
              "    <tr style=\"text-align: right;\">\n",
              "      <th></th>\n",
              "      <th>Accuracy</th>\n",
              "      <th>AUC</th>\n",
              "      <th>Recall</th>\n",
              "      <th>Prec.</th>\n",
              "      <th>F1</th>\n",
              "      <th>Kappa</th>\n",
              "      <th>MCC</th>\n",
              "    </tr>\n",
              "  </thead>\n",
              "  <tbody>\n",
              "    <tr>\n",
              "      <th>0</th>\n",
              "      <td>0.9922</td>\n",
              "      <td>0.0</td>\n",
              "      <td>0.9880</td>\n",
              "      <td>0.9924</td>\n",
              "      <td>0.9902</td>\n",
              "      <td>0.9838</td>\n",
              "      <td>0.9838</td>\n",
              "    </tr>\n",
              "    <tr>\n",
              "      <th>1</th>\n",
              "      <td>0.9930</td>\n",
              "      <td>0.0</td>\n",
              "      <td>0.9888</td>\n",
              "      <td>0.9934</td>\n",
              "      <td>0.9911</td>\n",
              "      <td>0.9853</td>\n",
              "      <td>0.9853</td>\n",
              "    </tr>\n",
              "    <tr>\n",
              "      <th>2</th>\n",
              "      <td>0.9934</td>\n",
              "      <td>0.0</td>\n",
              "      <td>0.9909</td>\n",
              "      <td>0.9924</td>\n",
              "      <td>0.9916</td>\n",
              "      <td>0.9862</td>\n",
              "      <td>0.9862</td>\n",
              "    </tr>\n",
              "    <tr>\n",
              "      <th>3</th>\n",
              "      <td>0.9925</td>\n",
              "      <td>0.0</td>\n",
              "      <td>0.9901</td>\n",
              "      <td>0.9909</td>\n",
              "      <td>0.9905</td>\n",
              "      <td>0.9843</td>\n",
              "      <td>0.9843</td>\n",
              "    </tr>\n",
              "    <tr>\n",
              "      <th>4</th>\n",
              "      <td>0.9933</td>\n",
              "      <td>0.0</td>\n",
              "      <td>0.9889</td>\n",
              "      <td>0.9940</td>\n",
              "      <td>0.9915</td>\n",
              "      <td>0.9859</td>\n",
              "      <td>0.9859</td>\n",
              "    </tr>\n",
              "    <tr>\n",
              "      <th>Mean</th>\n",
              "      <td>0.9929</td>\n",
              "      <td>0.0</td>\n",
              "      <td>0.9893</td>\n",
              "      <td>0.9926</td>\n",
              "      <td>0.9910</td>\n",
              "      <td>0.9851</td>\n",
              "      <td>0.9851</td>\n",
              "    </tr>\n",
              "    <tr>\n",
              "      <th>SD</th>\n",
              "      <td>0.0004</td>\n",
              "      <td>0.0</td>\n",
              "      <td>0.0010</td>\n",
              "      <td>0.0011</td>\n",
              "      <td>0.0006</td>\n",
              "      <td>0.0009</td>\n",
              "      <td>0.0009</td>\n",
              "    </tr>\n",
              "  </tbody>\n",
              "</table>\n",
              "</div>"
            ],
            "text/plain": [
              "      Accuracy  AUC  Recall   Prec.      F1   Kappa     MCC\n",
              "0       0.9922  0.0  0.9880  0.9924  0.9902  0.9838  0.9838\n",
              "1       0.9930  0.0  0.9888  0.9934  0.9911  0.9853  0.9853\n",
              "2       0.9934  0.0  0.9909  0.9924  0.9916  0.9862  0.9862\n",
              "3       0.9925  0.0  0.9901  0.9909  0.9905  0.9843  0.9843\n",
              "4       0.9933  0.0  0.9889  0.9940  0.9915  0.9859  0.9859\n",
              "Mean    0.9929  0.0  0.9893  0.9926  0.9910  0.9851  0.9851\n",
              "SD      0.0004  0.0  0.0010  0.0011  0.0006  0.0009  0.0009"
            ]
          },
          "metadata": {
            "tags": []
          }
        }
      ]
    },
    {
      "cell_type": "code",
      "metadata": {
        "colab": {
          "base_uri": "https://localhost:8080/",
          "height": 77
        },
        "id": "udQN4WCejlBb",
        "outputId": "92f5852e-f1c7-4f1e-81a4-63221842c12e"
      },
      "source": [
        "pred_holdout = predict_model(blended)"
      ],
      "execution_count": null,
      "outputs": [
        {
          "output_type": "display_data",
          "data": {
            "text/html": [
              "<div>\n",
              "<style scoped>\n",
              "    .dataframe tbody tr th:only-of-type {\n",
              "        vertical-align: middle;\n",
              "    }\n",
              "\n",
              "    .dataframe tbody tr th {\n",
              "        vertical-align: top;\n",
              "    }\n",
              "\n",
              "    .dataframe thead th {\n",
              "        text-align: right;\n",
              "    }\n",
              "</style>\n",
              "<table border=\"1\" class=\"dataframe\">\n",
              "  <thead>\n",
              "    <tr style=\"text-align: right;\">\n",
              "      <th></th>\n",
              "      <th>Model</th>\n",
              "      <th>Accuracy</th>\n",
              "      <th>AUC</th>\n",
              "      <th>Recall</th>\n",
              "      <th>Prec.</th>\n",
              "      <th>F1</th>\n",
              "      <th>Kappa</th>\n",
              "      <th>MCC</th>\n",
              "    </tr>\n",
              "  </thead>\n",
              "  <tbody>\n",
              "    <tr>\n",
              "      <th>0</th>\n",
              "      <td>Voting Classifier</td>\n",
              "      <td>0.9925</td>\n",
              "      <td>0.9918</td>\n",
              "      <td>0.9887</td>\n",
              "      <td>0.9921</td>\n",
              "      <td>0.9904</td>\n",
              "      <td>0.9842</td>\n",
              "      <td>0.9842</td>\n",
              "    </tr>\n",
              "  </tbody>\n",
              "</table>\n",
              "</div>"
            ],
            "text/plain": [
              "               Model  Accuracy     AUC  Recall   Prec.      F1   Kappa     MCC\n",
              "0  Voting Classifier    0.9925  0.9918  0.9887  0.9921  0.9904  0.9842  0.9842"
            ]
          },
          "metadata": {
            "tags": []
          }
        }
      ]
    },
    {
      "cell_type": "code",
      "metadata": {
        "id": "Ax_dxDNrjtZ7"
      },
      "source": [
        "final_model = finalize_model(blended)"
      ],
      "execution_count": null,
      "outputs": []
    },
    {
      "cell_type": "markdown",
      "metadata": {
        "id": "vqG-26I5j0aX"
      },
      "source": [
        "##Test (auto->auto)"
      ]
    },
    {
      "cell_type": "code",
      "metadata": {
        "id": "a-s8H9gnj3wS"
      },
      "source": [
        "pred_test = model.predict(test_csv.content.values)"
      ],
      "execution_count": null,
      "outputs": []
    },
    {
      "cell_type": "code",
      "metadata": {
        "colab": {
          "base_uri": "https://localhost:8080/"
        },
        "id": "SkOo4ye3kfVx",
        "outputId": "e267f21e-9a0f-46bc-f42c-1a21f59aff4c"
      },
      "source": [
        "pred_test.shape"
      ],
      "execution_count": null,
      "outputs": [
        {
          "output_type": "execute_result",
          "data": {
            "text/plain": [
              "(142565, 1)"
            ]
          },
          "metadata": {
            "tags": []
          },
          "execution_count": 154
        }
      ]
    },
    {
      "cell_type": "code",
      "metadata": {
        "colab": {
          "base_uri": "https://localhost:8080/"
        },
        "id": "SeNtFNjZk5DH",
        "outputId": "55b43ca1-17d4-4b3b-868f-db387fe861f6"
      },
      "source": [
        "test_csv.columns"
      ],
      "execution_count": null,
      "outputs": [
        {
          "output_type": "execute_result",
          "data": {
            "text/plain": [
              "Index(['n_id', 'date', 'title', 'content', 'ord', 'id'], dtype='object')"
            ]
          },
          "metadata": {
            "tags": []
          },
          "execution_count": 156
        }
      ]
    },
    {
      "cell_type": "code",
      "metadata": {
        "id": "DqY7kM95lg5k"
      },
      "source": [
        "train_csv['length'] = train_csv['content'].apply(lambda x : len(x))"
      ],
      "execution_count": null,
      "outputs": []
    },
    {
      "cell_type": "code",
      "metadata": {
        "id": "SzFmVQBzk_Uz"
      },
      "source": [
        "test_2nd_input = test_csv.drop([\"n_id\", \"title\", \"content\", \"id\"],axis=1)\r\n",
        "test_2nd_input['length'] = test_csv['content'].apply(lambda x : len(x))\r\n",
        "test_2nd_input['pre_target'] = pred_test"
      ],
      "execution_count": null,
      "outputs": []
    },
    {
      "cell_type": "code",
      "metadata": {
        "colab": {
          "base_uri": "https://localhost:8080/",
          "height": 195
        },
        "id": "g4FJnd2NlWGK",
        "outputId": "ab12a951-b73a-495f-a0dc-16a1e737df53"
      },
      "source": [
        "test_2nd_input.head()"
      ],
      "execution_count": null,
      "outputs": [
        {
          "output_type": "execute_result",
          "data": {
            "text/html": [
              "<div>\n",
              "<style scoped>\n",
              "    .dataframe tbody tr th:only-of-type {\n",
              "        vertical-align: middle;\n",
              "    }\n",
              "\n",
              "    .dataframe tbody tr th {\n",
              "        vertical-align: top;\n",
              "    }\n",
              "\n",
              "    .dataframe thead th {\n",
              "        text-align: right;\n",
              "    }\n",
              "</style>\n",
              "<table border=\"1\" class=\"dataframe\">\n",
              "  <thead>\n",
              "    <tr style=\"text-align: right;\">\n",
              "      <th></th>\n",
              "      <th>date</th>\n",
              "      <th>ord</th>\n",
              "      <th>length</th>\n",
              "      <th>pre_target</th>\n",
              "    </tr>\n",
              "  </thead>\n",
              "  <tbody>\n",
              "    <tr>\n",
              "      <th>0</th>\n",
              "      <td>20200118</td>\n",
              "      <td>1</td>\n",
              "      <td>48</td>\n",
              "      <td>9.014326e-10</td>\n",
              "    </tr>\n",
              "    <tr>\n",
              "      <th>1</th>\n",
              "      <td>20200118</td>\n",
              "      <td>2</td>\n",
              "      <td>76</td>\n",
              "      <td>1.758290e-16</td>\n",
              "    </tr>\n",
              "    <tr>\n",
              "      <th>2</th>\n",
              "      <td>20200118</td>\n",
              "      <td>3</td>\n",
              "      <td>56</td>\n",
              "      <td>2.487765e-11</td>\n",
              "    </tr>\n",
              "    <tr>\n",
              "      <th>3</th>\n",
              "      <td>20200118</td>\n",
              "      <td>4</td>\n",
              "      <td>76</td>\n",
              "      <td>1.613616e-11</td>\n",
              "    </tr>\n",
              "    <tr>\n",
              "      <th>4</th>\n",
              "      <td>20200118</td>\n",
              "      <td>5</td>\n",
              "      <td>102</td>\n",
              "      <td>2.195861e-17</td>\n",
              "    </tr>\n",
              "  </tbody>\n",
              "</table>\n",
              "</div>"
            ],
            "text/plain": [
              "       date  ord  length    pre_target\n",
              "0  20200118    1      48  9.014326e-10\n",
              "1  20200118    2      76  1.758290e-16\n",
              "2  20200118    3      56  2.487765e-11\n",
              "3  20200118    4      76  1.613616e-11\n",
              "4  20200118    5     102  2.195861e-17"
            ]
          },
          "metadata": {
            "tags": []
          },
          "execution_count": 164
        }
      ]
    },
    {
      "cell_type": "code",
      "metadata": {
        "id": "e_3gMkNbl29u"
      },
      "source": [
        "prediction = predict_model(final_model, data = test_2nd_input)"
      ],
      "execution_count": null,
      "outputs": []
    },
    {
      "cell_type": "code",
      "metadata": {
        "colab": {
          "base_uri": "https://localhost:8080/",
          "height": 402
        },
        "id": "YGNL38T-l_2y",
        "outputId": "3292da4d-5b9f-4434-e851-ac18864c44a5"
      },
      "source": [
        "prediction"
      ],
      "execution_count": null,
      "outputs": [
        {
          "output_type": "execute_result",
          "data": {
            "text/html": [
              "<div>\n",
              "<style scoped>\n",
              "    .dataframe tbody tr th:only-of-type {\n",
              "        vertical-align: middle;\n",
              "    }\n",
              "\n",
              "    .dataframe tbody tr th {\n",
              "        vertical-align: top;\n",
              "    }\n",
              "\n",
              "    .dataframe thead th {\n",
              "        text-align: right;\n",
              "    }\n",
              "</style>\n",
              "<table border=\"1\" class=\"dataframe\">\n",
              "  <thead>\n",
              "    <tr style=\"text-align: right;\">\n",
              "      <th></th>\n",
              "      <th>date</th>\n",
              "      <th>ord</th>\n",
              "      <th>length</th>\n",
              "      <th>pre_target</th>\n",
              "      <th>Label</th>\n",
              "    </tr>\n",
              "  </thead>\n",
              "  <tbody>\n",
              "    <tr>\n",
              "      <th>0</th>\n",
              "      <td>20200118</td>\n",
              "      <td>1</td>\n",
              "      <td>48</td>\n",
              "      <td>9.014326e-10</td>\n",
              "      <td>0</td>\n",
              "    </tr>\n",
              "    <tr>\n",
              "      <th>1</th>\n",
              "      <td>20200118</td>\n",
              "      <td>2</td>\n",
              "      <td>76</td>\n",
              "      <td>1.758290e-16</td>\n",
              "      <td>0</td>\n",
              "    </tr>\n",
              "    <tr>\n",
              "      <th>2</th>\n",
              "      <td>20200118</td>\n",
              "      <td>3</td>\n",
              "      <td>56</td>\n",
              "      <td>2.487765e-11</td>\n",
              "      <td>0</td>\n",
              "    </tr>\n",
              "    <tr>\n",
              "      <th>3</th>\n",
              "      <td>20200118</td>\n",
              "      <td>4</td>\n",
              "      <td>76</td>\n",
              "      <td>1.613616e-11</td>\n",
              "      <td>0</td>\n",
              "    </tr>\n",
              "    <tr>\n",
              "      <th>4</th>\n",
              "      <td>20200118</td>\n",
              "      <td>5</td>\n",
              "      <td>102</td>\n",
              "      <td>2.195861e-17</td>\n",
              "      <td>0</td>\n",
              "    </tr>\n",
              "    <tr>\n",
              "      <th>...</th>\n",
              "      <td>...</td>\n",
              "      <td>...</td>\n",
              "      <td>...</td>\n",
              "      <td>...</td>\n",
              "      <td>...</td>\n",
              "    </tr>\n",
              "    <tr>\n",
              "      <th>142560</th>\n",
              "      <td>20200521</td>\n",
              "      <td>72</td>\n",
              "      <td>35</td>\n",
              "      <td>1.000000e+00</td>\n",
              "      <td>1</td>\n",
              "    </tr>\n",
              "    <tr>\n",
              "      <th>142561</th>\n",
              "      <td>20200521</td>\n",
              "      <td>73</td>\n",
              "      <td>23</td>\n",
              "      <td>1.000000e+00</td>\n",
              "      <td>1</td>\n",
              "    </tr>\n",
              "    <tr>\n",
              "      <th>142562</th>\n",
              "      <td>20200521</td>\n",
              "      <td>74</td>\n",
              "      <td>23</td>\n",
              "      <td>1.000000e+00</td>\n",
              "      <td>1</td>\n",
              "    </tr>\n",
              "    <tr>\n",
              "      <th>142563</th>\n",
              "      <td>20200521</td>\n",
              "      <td>75</td>\n",
              "      <td>27</td>\n",
              "      <td>1.000000e+00</td>\n",
              "      <td>1</td>\n",
              "    </tr>\n",
              "    <tr>\n",
              "      <th>142564</th>\n",
              "      <td>20200521</td>\n",
              "      <td>76</td>\n",
              "      <td>27</td>\n",
              "      <td>1.000000e+00</td>\n",
              "      <td>1</td>\n",
              "    </tr>\n",
              "  </tbody>\n",
              "</table>\n",
              "<p>142565 rows × 5 columns</p>\n",
              "</div>"
            ],
            "text/plain": [
              "            date  ord  length    pre_target  Label\n",
              "0       20200118    1      48  9.014326e-10      0\n",
              "1       20200118    2      76  1.758290e-16      0\n",
              "2       20200118    3      56  2.487765e-11      0\n",
              "3       20200118    4      76  1.613616e-11      0\n",
              "4       20200118    5     102  2.195861e-17      0\n",
              "...          ...  ...     ...           ...    ...\n",
              "142560  20200521   72      35  1.000000e+00      1\n",
              "142561  20200521   73      23  1.000000e+00      1\n",
              "142562  20200521   74      23  1.000000e+00      1\n",
              "142563  20200521   75      27  1.000000e+00      1\n",
              "142564  20200521   76      27  1.000000e+00      1\n",
              "\n",
              "[142565 rows x 5 columns]"
            ]
          },
          "metadata": {
            "tags": []
          },
          "execution_count": 166
        }
      ]
    },
    {
      "cell_type": "code",
      "metadata": {
        "id": "vtZVwa_6mELH"
      },
      "source": [
        "submission_csv.loc[:,\"info\"] = prediction.loc[:,\"Label\"]"
      ],
      "execution_count": null,
      "outputs": []
    },
    {
      "cell_type": "code",
      "metadata": {
        "id": "Wwp1ISkemqkE"
      },
      "source": [
        "submission_csv.loc[:,[\"id\",\"info\"]].to_csv(\"submission2.csv\",index=False)"
      ],
      "execution_count": null,
      "outputs": []
    },
    {
      "cell_type": "markdown",
      "metadata": {
        "id": "s4Wc-YI6hykV"
      },
      "source": [
        "#sth else"
      ]
    },
    {
      "cell_type": "code",
      "metadata": {
        "id": "ruT8NNcap0mH"
      },
      "source": [
        "#결과 비교 함수\r\n",
        "def cmp_result(old, new):\r\n",
        "    tmp = pd.concat([old['info'], new['info']], axis=1, keys=[\"o_info\", \"n_info\"])\r\n",
        "    print(round(len(tmp.loc[tmp['o_info']==tmp['n_info']]) / len(tmp) * 100,3))"
      ],
      "execution_count": null,
      "outputs": []
    },
    {
      "cell_type": "code",
      "metadata": {
        "colab": {
          "base_uri": "https://localhost:8080/"
        },
        "id": "Le203zwj2INw",
        "outputId": "941544c7-6d3f-4820-e775-af6aebc2f5e3"
      },
      "source": [
        "cmp_result(pd.read_csv(file_dir+\"/submission2.csv\"), submission_conv1d)"
      ],
      "execution_count": null,
      "outputs": [
        {
          "output_type": "stream",
          "text": [
            "95.284\n"
          ],
          "name": "stdout"
        }
      ]
    },
    {
      "cell_type": "code",
      "metadata": {
        "colab": {
          "base_uri": "https://localhost:8080/"
        },
        "id": "5YwhmYwyq0fS",
        "outputId": "7a7cc35a-4a47-4c1b-d0f8-7e940472db5c"
      },
      "source": [
        "cmp_result(sample, pd.read_csv(file_dir + \"/submission2.csv\"))"
      ],
      "execution_count": null,
      "outputs": [
        {
          "output_type": "stream",
          "text": [
            "93.347\n"
          ],
          "name": "stdout"
        }
      ]
    },
    {
      "cell_type": "markdown",
      "metadata": {
        "id": "ExFB6hsRMkJ9"
      },
      "source": [
        "#dacon Bert"
      ]
    },
    {
      "cell_type": "code",
      "metadata": {
        "colab": {
          "base_uri": "https://localhost:8080/"
        },
        "id": "8aoWZlS3MjKz",
        "outputId": "06752ac6-7ead-43a6-81ae-0b1a935e4a64"
      },
      "source": [
        "!pip install keras-bert"
      ],
      "execution_count": null,
      "outputs": [
        {
          "output_type": "stream",
          "text": [
            "Collecting keras-bert\n",
            "  Downloading https://files.pythonhosted.org/packages/e2/7f/95fabd29f4502924fa3f09ff6538c5a7d290dfef2c2fe076d3d1a16e08f0/keras-bert-0.86.0.tar.gz\n",
            "Requirement already satisfied: numpy in /usr/local/lib/python3.6/dist-packages (from keras-bert) (1.19.4)\n",
            "Requirement already satisfied: Keras>=2.4.3 in /usr/local/lib/python3.6/dist-packages (from keras-bert) (2.4.3)\n",
            "Collecting keras-transformer>=0.38.0\n",
            "  Downloading https://files.pythonhosted.org/packages/89/6c/d6f0c164f4cc16fbc0d0fea85f5526e87a7d2df7b077809e422a7e626150/keras-transformer-0.38.0.tar.gz\n",
            "Requirement already satisfied: pyyaml in /usr/local/lib/python3.6/dist-packages (from Keras>=2.4.3->keras-bert) (3.13)\n",
            "Requirement already satisfied: h5py in /usr/local/lib/python3.6/dist-packages (from Keras>=2.4.3->keras-bert) (2.10.0)\n",
            "Requirement already satisfied: scipy>=0.14 in /usr/local/lib/python3.6/dist-packages (from Keras>=2.4.3->keras-bert) (1.4.1)\n",
            "Collecting keras-pos-embd>=0.11.0\n",
            "  Downloading https://files.pythonhosted.org/packages/09/70/b63ed8fc660da2bb6ae29b9895401c628da5740c048c190b5d7107cadd02/keras-pos-embd-0.11.0.tar.gz\n",
            "Collecting keras-multi-head>=0.27.0\n",
            "  Downloading https://files.pythonhosted.org/packages/e6/32/45adf2549450aca7867deccfa04af80a0ab1ca139af44b16bc669e0e09cd/keras-multi-head-0.27.0.tar.gz\n",
            "Collecting keras-layer-normalization>=0.14.0\n",
            "  Downloading https://files.pythonhosted.org/packages/a4/0e/d1078df0494bac9ce1a67954e5380b6e7569668f0f3b50a9531c62c1fc4a/keras-layer-normalization-0.14.0.tar.gz\n",
            "Collecting keras-position-wise-feed-forward>=0.6.0\n",
            "  Downloading https://files.pythonhosted.org/packages/e3/59/f0faa1037c033059e7e9e7758e6c23b4d1c0772cd48de14c4b6fd4033ad5/keras-position-wise-feed-forward-0.6.0.tar.gz\n",
            "Collecting keras-embed-sim>=0.8.0\n",
            "  Downloading https://files.pythonhosted.org/packages/57/ef/61a1e39082c9e1834a2d09261d4a0b69f7c818b359216d4e1912b20b1c86/keras-embed-sim-0.8.0.tar.gz\n",
            "Requirement already satisfied: six in /usr/local/lib/python3.6/dist-packages (from h5py->Keras>=2.4.3->keras-bert) (1.15.0)\n",
            "Collecting keras-self-attention==0.46.0\n",
            "  Downloading https://files.pythonhosted.org/packages/15/6b/c804924a056955fa1f3ff767945187103cfc851ba9bd0fc5a6c6bc18e2eb/keras-self-attention-0.46.0.tar.gz\n",
            "Building wheels for collected packages: keras-bert, keras-transformer, keras-pos-embd, keras-multi-head, keras-layer-normalization, keras-position-wise-feed-forward, keras-embed-sim, keras-self-attention\n",
            "  Building wheel for keras-bert (setup.py) ... \u001b[?25l\u001b[?25hdone\n",
            "  Created wheel for keras-bert: filename=keras_bert-0.86.0-cp36-none-any.whl size=34145 sha256=f511409ac86051fcab18a61f02bc8afc506cba01f8b0aef6269ce1eb84759736\n",
            "  Stored in directory: /root/.cache/pip/wheels/66/f0/b1/748128b58562fc9e31b907bb5e2ab6a35eb37695e83911236b\n",
            "  Building wheel for keras-transformer (setup.py) ... \u001b[?25l\u001b[?25hdone\n",
            "  Created wheel for keras-transformer: filename=keras_transformer-0.38.0-cp36-none-any.whl size=12944 sha256=03f541d920430e8015a2503bf0e0f2d05a28e974dd151d523843bac4a79e79a6\n",
            "  Stored in directory: /root/.cache/pip/wheels/e5/fb/3a/37b2b9326c799aa010ae46a04ddb04f320d8c77c0b7e837f4e\n",
            "  Building wheel for keras-pos-embd (setup.py) ... \u001b[?25l\u001b[?25hdone\n",
            "  Created wheel for keras-pos-embd: filename=keras_pos_embd-0.11.0-cp36-none-any.whl size=7553 sha256=8fde3164a5946d20c2d5a49bec0786cfa962310cdb00b75579c6c8d63e1bf5a1\n",
            "  Stored in directory: /root/.cache/pip/wheels/5b/a1/a0/ce6b1d49ba1a9a76f592e70cf297b05c96bc9f418146761032\n",
            "  Building wheel for keras-multi-head (setup.py) ... \u001b[?25l\u001b[?25hdone\n",
            "  Created wheel for keras-multi-head: filename=keras_multi_head-0.27.0-cp36-none-any.whl size=15612 sha256=f62bfc0724f93f2fb407557aa8f1564a17680812108e98bf4061965aa132ad4b\n",
            "  Stored in directory: /root/.cache/pip/wheels/b5/b4/49/0a0c27dcb93c13af02fea254ff51d1a43a924dd4e5b7a7164d\n",
            "  Building wheel for keras-layer-normalization (setup.py) ... \u001b[?25l\u001b[?25hdone\n",
            "  Created wheel for keras-layer-normalization: filename=keras_layer_normalization-0.14.0-cp36-none-any.whl size=5267 sha256=60dcc668e63dcb87956dffc92db85f96b4fafe05682c7181873f4ba34a4306b1\n",
            "  Stored in directory: /root/.cache/pip/wheels/54/80/22/a638a7d406fd155e507aa33d703e3fa2612b9eb7bb4f4fe667\n",
            "  Building wheel for keras-position-wise-feed-forward (setup.py) ... \u001b[?25l\u001b[?25hdone\n",
            "  Created wheel for keras-position-wise-feed-forward: filename=keras_position_wise_feed_forward-0.6.0-cp36-none-any.whl size=5625 sha256=bf0a9edc418576ae843e93c8c78500bda45ceec2ca1658dbeb166dcb4343c5f3\n",
            "  Stored in directory: /root/.cache/pip/wheels/39/e2/e2/3514fef126a00574b13bc0b9e23891800158df3a3c19c96e3b\n",
            "  Building wheel for keras-embed-sim (setup.py) ... \u001b[?25l\u001b[?25hdone\n",
            "  Created wheel for keras-embed-sim: filename=keras_embed_sim-0.8.0-cp36-none-any.whl size=4559 sha256=1e9431c7017a915b4bf6ad13ea2b348859574e9d30897a51cee3c02bf01dd55c\n",
            "  Stored in directory: /root/.cache/pip/wheels/49/45/8b/c111f6cc8bec253e984677de73a6f4f5d2f1649f42aac191c8\n",
            "  Building wheel for keras-self-attention (setup.py) ... \u001b[?25l\u001b[?25hdone\n",
            "  Created wheel for keras-self-attention: filename=keras_self_attention-0.46.0-cp36-none-any.whl size=17278 sha256=ff60abc427a8826999d0318c76535326eb500e602d00545b5a43778c5cc460f3\n",
            "  Stored in directory: /root/.cache/pip/wheels/d2/2e/80/fec4c05eb23c8e13b790e26d207d6e0ffe8013fad8c6bdd4d2\n",
            "Successfully built keras-bert keras-transformer keras-pos-embd keras-multi-head keras-layer-normalization keras-position-wise-feed-forward keras-embed-sim keras-self-attention\n",
            "Installing collected packages: keras-pos-embd, keras-self-attention, keras-multi-head, keras-layer-normalization, keras-position-wise-feed-forward, keras-embed-sim, keras-transformer, keras-bert\n",
            "Successfully installed keras-bert-0.86.0 keras-embed-sim-0.8.0 keras-layer-normalization-0.14.0 keras-multi-head-0.27.0 keras-pos-embd-0.11.0 keras-position-wise-feed-forward-0.6.0 keras-self-attention-0.46.0 keras-transformer-0.38.0\n"
          ],
          "name": "stdout"
        }
      ]
    },
    {
      "cell_type": "code",
      "metadata": {
        "id": "mdIJozKXMqdf"
      },
      "source": [
        "import pickle\r\n",
        "\r\n",
        "import keras as keras\r\n",
        "from keras.models import load_model\r\n",
        "from keras import backend as K\r\n",
        "from keras import Input, Model, optimizers\r\n",
        "\r\n",
        "import codecs\r\n",
        "from tqdm import tqdm\r\n",
        "import shutil"
      ],
      "execution_count": null,
      "outputs": []
    },
    {
      "cell_type": "code",
      "metadata": {
        "id": "nso4vC38NwhK"
      },
      "source": [
        "from keras_bert import load_trained_model_from_checkpoint, load_vocabulary\r\n",
        "from keras_bert import Tokenizer\r\n",
        "from keras_bert import AdamWarmup, calc_train_steps"
      ],
      "execution_count": null,
      "outputs": []
    },
    {
      "cell_type": "code",
      "metadata": {
        "id": "GzHOjSR_N5xj"
      },
      "source": [
        "def copytree(src, dst, symlinks=False, ignore = None):\r\n",
        "    for item in os.listdir(src):\r\n",
        "        s = os.path.join(src, item)\r\n",
        "        d = os.path.join(dst, item)\r\n",
        "        if os.path.isdir(s):\r\n",
        "            shutil.copytree(s, d, symlinks, ignore)\r\n",
        "        else:\r\n",
        "            shutil.copy2(s, d)"
      ],
      "execution_count": null,
      "outputs": []
    },
    {
      "cell_type": "code",
      "metadata": {
        "id": "-VQG5-9TnCFW"
      },
      "source": [
        "path = '/content/drive/MyDrive/Colab Notebooks/AI야, 진짜 뉴스를 찾아줘!'"
      ],
      "execution_count": null,
      "outputs": []
    },
    {
      "cell_type": "code",
      "metadata": {
        "id": "g4dWHcwonHGY"
      },
      "source": [
        "import warnings\r\n",
        "warnings.filterwarnings(action='ignore')"
      ],
      "execution_count": null,
      "outputs": []
    },
    {
      "cell_type": "code",
      "metadata": {
        "id": "k7-z2MplRnRr"
      },
      "source": [
        "SEQ_LEN = 128\r\n",
        "batch_size = 16\r\n",
        "epochs = 3\r\n",
        "lr = 1e-5\r\n",
        "\r\n",
        "config_path = os.path.join(path, 'bert_config.json')\r\n",
        "checkpoint_path = os.path.join(path, 'bert_model.ckpt')\r\n",
        "vaocab_path = os.path.join(path, 'vocab.txt')\r\n",
        "\r\n",
        "data_col = 'content'\r\n",
        "label_col = 'info'"
      ],
      "execution_count": null,
      "outputs": []
    },
    {
      "cell_type": "code",
      "metadata": {
        "id": "3WoeQF1Wlow9"
      },
      "source": [
        "token_dict = {}\r\n",
        "\r\n",
        "with codecs.open(vaocab_path, 'r', encoding='utf-8') as reader:\r\n",
        "    for line in reader:\r\n",
        "        token = line.strip()\r\n",
        "        if \"_\" in token:\r\n",
        "            token = token.replace(\"-\", \"\")\r\n",
        "            token = \"##\" + token\r\n",
        "        token_dict[token] = len(token_dict)"
      ],
      "execution_count": null,
      "outputs": []
    },
    {
      "cell_type": "code",
      "metadata": {
        "id": "pR5-6V2xm0C1"
      },
      "source": [
        "token_dict"
      ],
      "execution_count": null,
      "outputs": []
    },
    {
      "cell_type": "code",
      "metadata": {
        "id": "Yl7Ka8k1tvDX"
      },
      "source": [
        "#위의 tokenizer를 그대로 사용하면 자모분리가 되어 tokenizer를 상속하여 정의\r\n",
        "\r\n",
        "class inherit_Tokenizer(Tokenizer):\r\n",
        "    def _tokenize(self, text):\r\n",
        "        if not self._cased:\r\n",
        "            text = text\r\n",
        "\r\n",
        "            text = text.lower()\r\n",
        "        \r\n",
        "        spaced = ''\r\n",
        "        for ch in text:\r\n",
        "            if self._is_punctuation(ch) or self._is_cjk_character(ch):\r\n",
        "                spaced += ' ' + ch + ' '\r\n",
        "            elif self._is_space(ch):\r\n",
        "                spaced += ' '\r\n",
        "            else:\r\n",
        "                spaced += ch\r\n",
        "            \r\n",
        "        tokens = []\r\n",
        "        for word in spaced.strip().split():\r\n",
        "            tokens += self._word_piece_tokenize(word)\r\n",
        "        return tokens"
      ],
      "execution_count": null,
      "outputs": []
    },
    {
      "cell_type": "code",
      "metadata": {
        "id": "wQSSQlVT3vpn"
      },
      "source": [
        "tokenizer = inherit_Tokenizer(token_dict)"
      ],
      "execution_count": null,
      "outputs": []
    },
    {
      "cell_type": "code",
      "metadata": {
        "colab": {
          "base_uri": "https://localhost:8080/"
        },
        "id": "eDWhuzPTdIKL",
        "outputId": "f81377fc-b454-434a-dc7d-c7f42e703216"
      },
      "source": [
        "tokenizer.tokenize('이거 어떻게 하는 걸까?')"
      ],
      "execution_count": null,
      "outputs": [
        {
          "output_type": "execute_result",
          "data": {
            "text/plain": [
              "['[CLS]', '이', '##거', '어', '##떻', '##게', '하', '##는', '걸', '##까', '?', '[SEP]']"
            ]
          },
          "metadata": {
            "tags": []
          },
          "execution_count": 15
        }
      ]
    },
    {
      "cell_type": "code",
      "metadata": {
        "id": "1zlyEqebGtyv"
      },
      "source": [
        "tokenizer.encode(test_csv[data_col][0])"
      ],
      "execution_count": null,
      "outputs": []
    },
    {
      "cell_type": "code",
      "metadata": {
        "id": "RyWa3CIeHPlp"
      },
      "source": [
        "def convert_data(data_df):\r\n",
        "    global tokenizer\r\n",
        "    indices, targets = [], []\r\n",
        "    for i in tqdm(range(len(data_df))):\r\n",
        "        ids, segments = tokenizer.encode(data_df[data_col][i], max_len=SEQ_LEN)\r\n",
        "        indices.append(ids)\r\n",
        "        targets.append(data_df[label_col][i])\r\n",
        "\r\n",
        "    items = list(zip(indices, targets))\r\n",
        "\r\n",
        "    indices, targets = zip(*items)\r\n",
        "    indices = np.array(indices)\r\n",
        "    return [indices, np.zeros_like(indices)], np.array(targets)\r\n",
        "\r\n",
        "def load_data(pandas_dataframe):\r\n",
        "    data_df = pandas_dataframe\r\n",
        "    data_df[data_col] = data_df[data_col].astype(str)\r\n",
        "\r\n",
        "    data_x, data_y = convert_data(data_df)\r\n",
        "\r\n",
        "    return data_x, data_y"
      ],
      "execution_count": null,
      "outputs": []
    },
    {
      "cell_type": "code",
      "metadata": {
        "colab": {
          "base_uri": "https://localhost:8080/"
        },
        "id": "FxcmTy6JJKVp",
        "outputId": "c82dd4e3-32df-4022-861c-87cd3487259b"
      },
      "source": [
        "train_x, train_y = load_data(train_csv)"
      ],
      "execution_count": null,
      "outputs": [
        {
          "output_type": "stream",
          "text": [
            "100%|██████████| 118745/118745 [00:15<00:00, 7564.90it/s]\n"
          ],
          "name": "stderr"
        }
      ]
    },
    {
      "cell_type": "code",
      "metadata": {
        "id": "fRQymyThJfX6"
      },
      "source": [
        "train_x"
      ],
      "execution_count": null,
      "outputs": []
    },
    {
      "cell_type": "markdown",
      "metadata": {
        "id": "gy1LiZBYKBi9"
      },
      "source": [
        "BERT의 Input은 Token + Segment + Position으로 정해짐\r\n",
        "\r\n",
        "Token은 train_x[0]이고 Segement은 train_x[1]임\r\n",
        "\r\n",
        "Seg는 앞문장 / 뒷문장 구분해주는 역할을 함 fine-tuning을 하기 때문에 모두 0으로 매칭이 됨(뒤에 문장은 안씀) Position은 Bert내에서 Position Embedding이 automatically 됨"
      ]
    },
    {
      "cell_type": "code",
      "metadata": {
        "id": "ZBIknFJeKE06"
      },
      "source": [
        "def sentence_convert_data(data):\r\n",
        "    global tokenizer\r\n",
        "    indices = []\r\n",
        "    for i in tqdm(range(len(data))):\r\n",
        "        print(tokenizer.tokenize(data[i]))\r\n",
        "        ids, segments = tokenizer.encode(data[i], max_len=SEQ_LEN)\r\n",
        "        indices.append(ids)\r\n",
        "\r\n",
        "    items = indices\r\n",
        "    indices= np.array(indices)\r\n",
        "    return [indices, np.zeros_like(indices)]\r\n",
        "\r\n",
        "def sentence_load_data(sentences):\r\n",
        "    data_x = sentence_convert_data(sentences)\r\n",
        "    return data_x"
      ],
      "execution_count": null,
      "outputs": []
    },
    {
      "cell_type": "code",
      "metadata": {
        "id": "HI2vce8AKym0"
      },
      "source": [
        "sentence_load_data(['이게 왜 이제서야 될까', '눈 아프다'])"
      ],
      "execution_count": null,
      "outputs": []
    },
    {
      "cell_type": "code",
      "metadata": {
        "id": "3zuNofW3LBjh"
      },
      "source": [
        "#모델\r\n",
        "layer_num = 12\r\n",
        "model = load_trained_model_from_checkpoint(\r\n",
        "    config_path,\r\n",
        "    checkpoint_path,\r\n",
        "    training = True,\r\n",
        "    trainable = True,\r\n",
        "    seq_len = SEQ_LEN\r\n",
        ")"
      ],
      "execution_count": null,
      "outputs": []
    },
    {
      "cell_type": "code",
      "metadata": {
        "id": "S_Xen_RRL17I"
      },
      "source": [
        "model.summary()"
      ],
      "execution_count": null,
      "outputs": []
    },
    {
      "cell_type": "code",
      "metadata": {
        "id": "xjq31UuXL9sf"
      },
      "source": [
        "tf.keras.utils.plot_model(model, show_shapes=True, dpi=48)"
      ],
      "execution_count": null,
      "outputs": []
    },
    {
      "cell_type": "code",
      "metadata": {
        "id": "S2zkkNX8MFBM"
      },
      "source": [
        "def get_bert_finetuning_model(model):\r\n",
        "    inputs = model.inputs[:2]\r\n",
        "    dense = model.layers[-3].output\r\n",
        "\r\n",
        "    outputs = keras.layers.Dense(1, activation= 'sigmoid', kernel_initializer=keras.initializers.TruncatedNormal(stddev=0.02),\r\n",
        "                                 name = 'real_output')(dense)\r\n",
        "    bert_model = keras.models.Model(inputs, outputs)\r\n",
        "    Adam = keras.optimizers.Adam(lr=0.00001)\r\n",
        "    bert_model.compile(\r\n",
        "        optimizer = Adam,\r\n",
        "        loss = 'binary_crossentropy',\r\n",
        "        metrics = ['accuracy']\r\n",
        "    )\r\n",
        "\r\n",
        "    return bert_model"
      ],
      "execution_count": null,
      "outputs": []
    },
    {
      "cell_type": "code",
      "metadata": {
        "id": "4n9Fxst0M-UI"
      },
      "source": [
        "from IPython.display import SVG\r\n",
        "from keras.utils import model_to_dot"
      ],
      "execution_count": null,
      "outputs": []
    },
    {
      "cell_type": "code",
      "metadata": {
        "id": "ZDhEQR8qNGv-"
      },
      "source": [
        "SVG(model_to_dot(get_bert_finetuning_model(model), dpi = 65).create(prog='dot', format='svg'))"
      ],
      "execution_count": null,
      "outputs": []
    },
    {
      "cell_type": "code",
      "metadata": {
        "colab": {
          "background_save": true,
          "base_uri": "https://localhost:8080/"
        },
        "id": "QA8OA0xZNuau",
        "outputId": "5aa3a217-2b04-4ad5-b70d-b5399111b7b9"
      },
      "source": [
        "bert_model = get_bert_finetuning_model(model)\r\n",
        "history = bert_model.fit(train_x, train_y, epochs=8, batch_size=16, verbose=1, shuffle = False)\r\n",
        "bert_model.save_weights(path+ '/bert1.h5')"
      ],
      "execution_count": null,
      "outputs": [
        {
          "output_type": "stream",
          "text": [
            "Epoch 1/8\n",
            "7422/7422 [==============================] - 4782s 642ms/step - loss: 0.1359 - accuracy: 0.9474\n",
            "Epoch 2/8\n",
            "7422/7422 [==============================] - 4782s 644ms/step - loss: 0.1006 - accuracy: 0.9650\n",
            "Epoch 3/8\n",
            "7422/7422 [==============================] - 4698s 633ms/step - loss: 0.0757 - accuracy: 0.9720\n",
            "Epoch 4/8\n",
            "7422/7422 [==============================] - 4698s 633ms/step - loss: 0.0621 - accuracy: 0.9766\n",
            "Epoch 5/8\n",
            " 527/7422 [=>............................] - ETA: 1:13:09 - loss: 0.0893 - accuracy: 0.9764"
          ],
          "name": "stdout"
        },
        {
          "output_type": "error",
          "ename": "KeyboardInterrupt",
          "evalue": "ignored",
          "traceback": [
            "\u001b[0;31m---------------------------------------------------------------------------\u001b[0m",
            "\u001b[0;31mKeyboardInterrupt\u001b[0m                         Traceback (most recent call last)",
            "\u001b[0;32m<ipython-input-28-e2263a1f6e65>\u001b[0m in \u001b[0;36m<module>\u001b[0;34m()\u001b[0m\n\u001b[1;32m      1\u001b[0m \u001b[0mbert_model\u001b[0m \u001b[0;34m=\u001b[0m \u001b[0mget_bert_finetuning_model\u001b[0m\u001b[0;34m(\u001b[0m\u001b[0mmodel\u001b[0m\u001b[0;34m)\u001b[0m\u001b[0;34m\u001b[0m\u001b[0;34m\u001b[0m\u001b[0m\n\u001b[0;32m----> 2\u001b[0;31m \u001b[0mhistory\u001b[0m \u001b[0;34m=\u001b[0m \u001b[0mbert_model\u001b[0m\u001b[0;34m.\u001b[0m\u001b[0mfit\u001b[0m\u001b[0;34m(\u001b[0m\u001b[0mtrain_x\u001b[0m\u001b[0;34m,\u001b[0m \u001b[0mtrain_y\u001b[0m\u001b[0;34m,\u001b[0m \u001b[0mepochs\u001b[0m\u001b[0;34m=\u001b[0m\u001b[0;36m8\u001b[0m\u001b[0;34m,\u001b[0m \u001b[0mbatch_size\u001b[0m\u001b[0;34m=\u001b[0m\u001b[0;36m16\u001b[0m\u001b[0;34m,\u001b[0m \u001b[0mverbose\u001b[0m\u001b[0;34m=\u001b[0m\u001b[0;36m1\u001b[0m\u001b[0;34m,\u001b[0m \u001b[0mshuffle\u001b[0m \u001b[0;34m=\u001b[0m \u001b[0;32mFalse\u001b[0m\u001b[0;34m)\u001b[0m\u001b[0;34m\u001b[0m\u001b[0;34m\u001b[0m\u001b[0m\n\u001b[0m\u001b[1;32m      3\u001b[0m \u001b[0mbert_model\u001b[0m\u001b[0;34m.\u001b[0m\u001b[0msave_weights\u001b[0m\u001b[0;34m(\u001b[0m\u001b[0mpath\u001b[0m\u001b[0;34m+\u001b[0m \u001b[0;34m'/bert1.h5'\u001b[0m\u001b[0;34m)\u001b[0m\u001b[0;34m\u001b[0m\u001b[0;34m\u001b[0m\u001b[0m\n",
            "\u001b[0;32m/usr/local/lib/python3.6/dist-packages/tensorflow/python/keras/engine/training.py\u001b[0m in \u001b[0;36mfit\u001b[0;34m(self, x, y, batch_size, epochs, verbose, callbacks, validation_split, validation_data, shuffle, class_weight, sample_weight, initial_epoch, steps_per_epoch, validation_steps, validation_batch_size, validation_freq, max_queue_size, workers, use_multiprocessing)\u001b[0m\n\u001b[1;32m   1098\u001b[0m                 _r=1):\n\u001b[1;32m   1099\u001b[0m               \u001b[0mcallbacks\u001b[0m\u001b[0;34m.\u001b[0m\u001b[0mon_train_batch_begin\u001b[0m\u001b[0;34m(\u001b[0m\u001b[0mstep\u001b[0m\u001b[0;34m)\u001b[0m\u001b[0;34m\u001b[0m\u001b[0;34m\u001b[0m\u001b[0m\n\u001b[0;32m-> 1100\u001b[0;31m               \u001b[0mtmp_logs\u001b[0m \u001b[0;34m=\u001b[0m \u001b[0mself\u001b[0m\u001b[0;34m.\u001b[0m\u001b[0mtrain_function\u001b[0m\u001b[0;34m(\u001b[0m\u001b[0miterator\u001b[0m\u001b[0;34m)\u001b[0m\u001b[0;34m\u001b[0m\u001b[0;34m\u001b[0m\u001b[0m\n\u001b[0m\u001b[1;32m   1101\u001b[0m               \u001b[0;32mif\u001b[0m \u001b[0mdata_handler\u001b[0m\u001b[0;34m.\u001b[0m\u001b[0mshould_sync\u001b[0m\u001b[0;34m:\u001b[0m\u001b[0;34m\u001b[0m\u001b[0;34m\u001b[0m\u001b[0m\n\u001b[1;32m   1102\u001b[0m                 \u001b[0mcontext\u001b[0m\u001b[0;34m.\u001b[0m\u001b[0masync_wait\u001b[0m\u001b[0;34m(\u001b[0m\u001b[0;34m)\u001b[0m\u001b[0;34m\u001b[0m\u001b[0;34m\u001b[0m\u001b[0m\n",
            "\u001b[0;32m/usr/local/lib/python3.6/dist-packages/tensorflow/python/eager/def_function.py\u001b[0m in \u001b[0;36m__call__\u001b[0;34m(self, *args, **kwds)\u001b[0m\n\u001b[1;32m    826\u001b[0m     \u001b[0mtracing_count\u001b[0m \u001b[0;34m=\u001b[0m \u001b[0mself\u001b[0m\u001b[0;34m.\u001b[0m\u001b[0mexperimental_get_tracing_count\u001b[0m\u001b[0;34m(\u001b[0m\u001b[0;34m)\u001b[0m\u001b[0;34m\u001b[0m\u001b[0;34m\u001b[0m\u001b[0m\n\u001b[1;32m    827\u001b[0m     \u001b[0;32mwith\u001b[0m \u001b[0mtrace\u001b[0m\u001b[0;34m.\u001b[0m\u001b[0mTrace\u001b[0m\u001b[0;34m(\u001b[0m\u001b[0mself\u001b[0m\u001b[0;34m.\u001b[0m\u001b[0m_name\u001b[0m\u001b[0;34m)\u001b[0m \u001b[0;32mas\u001b[0m \u001b[0mtm\u001b[0m\u001b[0;34m:\u001b[0m\u001b[0;34m\u001b[0m\u001b[0;34m\u001b[0m\u001b[0m\n\u001b[0;32m--> 828\u001b[0;31m       \u001b[0mresult\u001b[0m \u001b[0;34m=\u001b[0m \u001b[0mself\u001b[0m\u001b[0;34m.\u001b[0m\u001b[0m_call\u001b[0m\u001b[0;34m(\u001b[0m\u001b[0;34m*\u001b[0m\u001b[0margs\u001b[0m\u001b[0;34m,\u001b[0m \u001b[0;34m**\u001b[0m\u001b[0mkwds\u001b[0m\u001b[0;34m)\u001b[0m\u001b[0;34m\u001b[0m\u001b[0;34m\u001b[0m\u001b[0m\n\u001b[0m\u001b[1;32m    829\u001b[0m       \u001b[0mcompiler\u001b[0m \u001b[0;34m=\u001b[0m \u001b[0;34m\"xla\"\u001b[0m \u001b[0;32mif\u001b[0m \u001b[0mself\u001b[0m\u001b[0;34m.\u001b[0m\u001b[0m_experimental_compile\u001b[0m \u001b[0;32melse\u001b[0m \u001b[0;34m\"nonXla\"\u001b[0m\u001b[0;34m\u001b[0m\u001b[0;34m\u001b[0m\u001b[0m\n\u001b[1;32m    830\u001b[0m       \u001b[0mnew_tracing_count\u001b[0m \u001b[0;34m=\u001b[0m \u001b[0mself\u001b[0m\u001b[0;34m.\u001b[0m\u001b[0mexperimental_get_tracing_count\u001b[0m\u001b[0;34m(\u001b[0m\u001b[0;34m)\u001b[0m\u001b[0;34m\u001b[0m\u001b[0;34m\u001b[0m\u001b[0m\n",
            "\u001b[0;32m/usr/local/lib/python3.6/dist-packages/tensorflow/python/eager/def_function.py\u001b[0m in \u001b[0;36m_call\u001b[0;34m(self, *args, **kwds)\u001b[0m\n\u001b[1;32m    853\u001b[0m       \u001b[0;31m# In this case we have created variables on the first call, so we run the\u001b[0m\u001b[0;34m\u001b[0m\u001b[0;34m\u001b[0m\u001b[0;34m\u001b[0m\u001b[0m\n\u001b[1;32m    854\u001b[0m       \u001b[0;31m# defunned version which is guaranteed to never create variables.\u001b[0m\u001b[0;34m\u001b[0m\u001b[0;34m\u001b[0m\u001b[0;34m\u001b[0m\u001b[0m\n\u001b[0;32m--> 855\u001b[0;31m       \u001b[0;32mreturn\u001b[0m \u001b[0mself\u001b[0m\u001b[0;34m.\u001b[0m\u001b[0m_stateless_fn\u001b[0m\u001b[0;34m(\u001b[0m\u001b[0;34m*\u001b[0m\u001b[0margs\u001b[0m\u001b[0;34m,\u001b[0m \u001b[0;34m**\u001b[0m\u001b[0mkwds\u001b[0m\u001b[0;34m)\u001b[0m  \u001b[0;31m# pylint: disable=not-callable\u001b[0m\u001b[0;34m\u001b[0m\u001b[0;34m\u001b[0m\u001b[0m\n\u001b[0m\u001b[1;32m    856\u001b[0m     \u001b[0;32melif\u001b[0m \u001b[0mself\u001b[0m\u001b[0;34m.\u001b[0m\u001b[0m_stateful_fn\u001b[0m \u001b[0;32mis\u001b[0m \u001b[0;32mnot\u001b[0m \u001b[0;32mNone\u001b[0m\u001b[0;34m:\u001b[0m\u001b[0;34m\u001b[0m\u001b[0;34m\u001b[0m\u001b[0m\n\u001b[1;32m    857\u001b[0m       \u001b[0;31m# Release the lock early so that multiple threads can perform the call\u001b[0m\u001b[0;34m\u001b[0m\u001b[0;34m\u001b[0m\u001b[0;34m\u001b[0m\u001b[0m\n",
            "\u001b[0;32m/usr/local/lib/python3.6/dist-packages/tensorflow/python/eager/function.py\u001b[0m in \u001b[0;36m__call__\u001b[0;34m(self, *args, **kwargs)\u001b[0m\n\u001b[1;32m   2941\u001b[0m        filtered_flat_args) = self._maybe_define_function(args, kwargs)\n\u001b[1;32m   2942\u001b[0m     return graph_function._call_flat(\n\u001b[0;32m-> 2943\u001b[0;31m         filtered_flat_args, captured_inputs=graph_function.captured_inputs)  # pylint: disable=protected-access\n\u001b[0m\u001b[1;32m   2944\u001b[0m \u001b[0;34m\u001b[0m\u001b[0m\n\u001b[1;32m   2945\u001b[0m   \u001b[0;34m@\u001b[0m\u001b[0mproperty\u001b[0m\u001b[0;34m\u001b[0m\u001b[0;34m\u001b[0m\u001b[0m\n",
            "\u001b[0;32m/usr/local/lib/python3.6/dist-packages/tensorflow/python/eager/function.py\u001b[0m in \u001b[0;36m_call_flat\u001b[0;34m(self, args, captured_inputs, cancellation_manager)\u001b[0m\n\u001b[1;32m   1917\u001b[0m       \u001b[0;31m# No tape is watching; skip to running the function.\u001b[0m\u001b[0;34m\u001b[0m\u001b[0;34m\u001b[0m\u001b[0;34m\u001b[0m\u001b[0m\n\u001b[1;32m   1918\u001b[0m       return self._build_call_outputs(self._inference_function.call(\n\u001b[0;32m-> 1919\u001b[0;31m           ctx, args, cancellation_manager=cancellation_manager))\n\u001b[0m\u001b[1;32m   1920\u001b[0m     forward_backward = self._select_forward_and_backward_functions(\n\u001b[1;32m   1921\u001b[0m         \u001b[0margs\u001b[0m\u001b[0;34m,\u001b[0m\u001b[0;34m\u001b[0m\u001b[0;34m\u001b[0m\u001b[0m\n",
            "\u001b[0;32m/usr/local/lib/python3.6/dist-packages/tensorflow/python/eager/function.py\u001b[0m in \u001b[0;36mcall\u001b[0;34m(self, ctx, args, cancellation_manager)\u001b[0m\n\u001b[1;32m    558\u001b[0m               \u001b[0minputs\u001b[0m\u001b[0;34m=\u001b[0m\u001b[0margs\u001b[0m\u001b[0;34m,\u001b[0m\u001b[0;34m\u001b[0m\u001b[0;34m\u001b[0m\u001b[0m\n\u001b[1;32m    559\u001b[0m               \u001b[0mattrs\u001b[0m\u001b[0;34m=\u001b[0m\u001b[0mattrs\u001b[0m\u001b[0;34m,\u001b[0m\u001b[0;34m\u001b[0m\u001b[0;34m\u001b[0m\u001b[0m\n\u001b[0;32m--> 560\u001b[0;31m               ctx=ctx)\n\u001b[0m\u001b[1;32m    561\u001b[0m         \u001b[0;32melse\u001b[0m\u001b[0;34m:\u001b[0m\u001b[0;34m\u001b[0m\u001b[0;34m\u001b[0m\u001b[0m\n\u001b[1;32m    562\u001b[0m           outputs = execute.execute_with_cancellation(\n",
            "\u001b[0;32m/usr/local/lib/python3.6/dist-packages/tensorflow/python/eager/execute.py\u001b[0m in \u001b[0;36mquick_execute\u001b[0;34m(op_name, num_outputs, inputs, attrs, ctx, name)\u001b[0m\n\u001b[1;32m     58\u001b[0m     \u001b[0mctx\u001b[0m\u001b[0;34m.\u001b[0m\u001b[0mensure_initialized\u001b[0m\u001b[0;34m(\u001b[0m\u001b[0;34m)\u001b[0m\u001b[0;34m\u001b[0m\u001b[0;34m\u001b[0m\u001b[0m\n\u001b[1;32m     59\u001b[0m     tensors = pywrap_tfe.TFE_Py_Execute(ctx._handle, device_name, op_name,\n\u001b[0;32m---> 60\u001b[0;31m                                         inputs, attrs, num_outputs)\n\u001b[0m\u001b[1;32m     61\u001b[0m   \u001b[0;32mexcept\u001b[0m \u001b[0mcore\u001b[0m\u001b[0;34m.\u001b[0m\u001b[0m_NotOkStatusException\u001b[0m \u001b[0;32mas\u001b[0m \u001b[0me\u001b[0m\u001b[0;34m:\u001b[0m\u001b[0;34m\u001b[0m\u001b[0;34m\u001b[0m\u001b[0m\n\u001b[1;32m     62\u001b[0m     \u001b[0;32mif\u001b[0m \u001b[0mname\u001b[0m \u001b[0;32mis\u001b[0m \u001b[0;32mnot\u001b[0m \u001b[0;32mNone\u001b[0m\u001b[0;34m:\u001b[0m\u001b[0;34m\u001b[0m\u001b[0;34m\u001b[0m\u001b[0m\n",
            "\u001b[0;31mKeyboardInterrupt\u001b[0m: "
          ]
        }
      ]
    },
    {
      "cell_type": "code",
      "metadata": {
        "id": "bQkDdBw1gTWI"
      },
      "source": [
        ""
      ],
      "execution_count": null,
      "outputs": []
    }
  ]
}