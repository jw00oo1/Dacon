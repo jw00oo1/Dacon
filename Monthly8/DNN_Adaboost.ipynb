{
  "nbformat": 4,
  "nbformat_minor": 0,
  "metadata": {
    "colab": {
      "name": "11/2",
      "provenance": [],
      "authorship_tag": "ABX9TyMEEdC+W2khr2v91JM3cIAv",
      "include_colab_link": true
    },
    "kernelspec": {
      "name": "python3",
      "display_name": "Python 3"
    }
  },
  "cells": [
    {
      "cell_type": "markdown",
      "metadata": {
        "id": "view-in-github",
        "colab_type": "text"
      },
      "source": [
        "<a href=\"https://colab.research.google.com/github/jw00oo1/Dacon/blob/main/11_2.ipynb\" target=\"_parent\"><img src=\"https://colab.research.google.com/assets/colab-badge.svg\" alt=\"Open In Colab\"/></a>"
      ]
    },
    {
      "cell_type": "code",
      "metadata": {
        "id": "7FD7NQV9i7Iy"
      },
      "source": [
        "import pandas as pd\n",
        "import numpy as np\n",
        "import tensorflow as tf\n",
        "import sklearn\n",
        "import matplotlib.pyplot as plt\n",
        "import os\n",
        "import tensorflow.keras.layers as layers\n",
        "from pathlib import Path"
      ],
      "execution_count": null,
      "outputs": []
    },
    {
      "cell_type": "code",
      "metadata": {
        "id": "E1lg0nKbi_mY"
      },
      "source": [
        "path = Path(os.getcwd()) / 'data'\n",
        "if not os.path.isdir(path):\n",
        "    os.mkdir(path)"
      ],
      "execution_count": null,
      "outputs": []
    },
    {
      "cell_type": "code",
      "metadata": {
        "id": "U9bZPQZujwqX"
      },
      "source": [
        "train_csv = pd.read_csv(path / 'train.csv')\n",
        "test_csv = pd.read_csv(path / 'test_x.csv')\n",
        "submission_csv = pd.read_csv(path / 'sample_submission.csv')\n",
        "\n",
        "train = train_csv.drop('index', axis=1)\n",
        "test = test_csv.drop('index', axis=1)"
      ],
      "execution_count": null,
      "outputs": []
    },
    {
      "cell_type": "code",
      "metadata": {
        "id": "JW1m27dBmppX"
      },
      "source": [
        "from sklearn.model_selection import train_test_split\n",
        "\n",
        "train_y = train['voted']\n",
        "train_x = train.drop('voted', axis=1)\n"
      ],
      "execution_count": null,
      "outputs": []
    },
    {
      "cell_type": "code",
      "metadata": {
        "id": "7LIr86WYp5Hr",
        "colab": {
          "base_uri": "https://localhost:8080/"
        },
        "outputId": "50ff16da-bf24-4e79-8b8b-1176504fd981"
      },
      "source": [
        "pd.set_option('display.max_rows',len(train))\n",
        "train.dtypes\n",
        "#age_group, race, religion, gender"
      ],
      "execution_count": null,
      "outputs": [
        {
          "output_type": "execute_result",
          "data": {
            "text/plain": [
              "QaA           float64\n",
              "QaE             int64\n",
              "QbA           float64\n",
              "QbE             int64\n",
              "QcA           float64\n",
              "QcE             int64\n",
              "QdA           float64\n",
              "QdE             int64\n",
              "QeA           float64\n",
              "QeE             int64\n",
              "QfA           float64\n",
              "QfE             int64\n",
              "QgA           float64\n",
              "QgE             int64\n",
              "QhA           float64\n",
              "QhE             int64\n",
              "QiA           float64\n",
              "QiE             int64\n",
              "QjA           float64\n",
              "QjE             int64\n",
              "QkA           float64\n",
              "QkE             int64\n",
              "QlA           float64\n",
              "QlE             int64\n",
              "QmA           float64\n",
              "QmE           float64\n",
              "QnA           float64\n",
              "QnE           float64\n",
              "QoA           float64\n",
              "QoE           float64\n",
              "QpA           float64\n",
              "QpE           float64\n",
              "QqA           float64\n",
              "QqE           float64\n",
              "QrA           float64\n",
              "QrE           float64\n",
              "QsA           float64\n",
              "QsE           float64\n",
              "QtA           float64\n",
              "QtE           float64\n",
              "age_group      object\n",
              "education     float64\n",
              "engnat        float64\n",
              "familysize    float64\n",
              "gender         object\n",
              "hand          float64\n",
              "married       float64\n",
              "race           object\n",
              "religion       object\n",
              "tp01          float64\n",
              "tp02          float64\n",
              "tp03          float64\n",
              "tp04          float64\n",
              "tp05          float64\n",
              "tp06          float64\n",
              "tp07          float64\n",
              "tp08          float64\n",
              "tp09          float64\n",
              "tp10          float64\n",
              "urban         float64\n",
              "voted         float64\n",
              "wf_01         float64\n",
              "wf_02         float64\n",
              "wf_03         float64\n",
              "wr_01         float64\n",
              "wr_02         float64\n",
              "wr_03         float64\n",
              "wr_04         float64\n",
              "wr_05         float64\n",
              "wr_06         float64\n",
              "wr_07         float64\n",
              "wr_08         float64\n",
              "wr_09         float64\n",
              "wr_10         float64\n",
              "wr_11         float64\n",
              "wr_12         float64\n",
              "wr_13         float64\n",
              "dtype: object"
            ]
          },
          "metadata": {
            "tags": []
          },
          "execution_count": 5
        }
      ]
    },
    {
      "cell_type": "code",
      "metadata": {
        "id": "xOhl5E80mdOr"
      },
      "source": [
        "train_x = train_x.to_numpy()\n",
        "train_y = train_y.to_numpy()\n",
        "train_x, val_x, train_y, val_y = train_test_split(train_x, train_y, test_size=0.2)"
      ],
      "execution_count": null,
      "outputs": []
    },
    {
      "cell_type": "markdown",
      "metadata": {
        "id": "exFjdQqdv-eD"
      },
      "source": [
        "#data처리"
      ]
    },
    {
      "cell_type": "code",
      "metadata": {
        "id": "E70-LLTKNcTh",
        "colab": {
          "base_uri": "https://localhost:8080/"
        },
        "outputId": "aab145fd-65fb-40f2-f19c-540309d6ff14"
      },
      "source": [
        "print(train['gender'].isnull().values.any())\n",
        "print(test['gender'].isnull().values.any())"
      ],
      "execution_count": null,
      "outputs": [
        {
          "output_type": "stream",
          "text": [
            "True\n",
            "False\n"
          ],
          "name": "stdout"
        }
      ]
    },
    {
      "cell_type": "code",
      "metadata": {
        "id": "7z1jcl0fH12g",
        "colab": {
          "base_uri": "https://localhost:8080/"
        },
        "outputId": "6d696f4b-4af2-4b8f-dbc3-d85eace42918"
      },
      "source": [
        "train.shape"
      ],
      "execution_count": null,
      "outputs": [
        {
          "output_type": "execute_result",
          "data": {
            "text/plain": [
              "(19406, 77)"
            ]
          },
          "metadata": {
            "tags": []
          },
          "execution_count": 8
        }
      ]
    },
    {
      "cell_type": "code",
      "metadata": {
        "id": "ZRrM1M0wP3iU"
      },
      "source": [
        "print(train.isnull().sum(axis=0))"
      ],
      "execution_count": null,
      "outputs": []
    },
    {
      "cell_type": "code",
      "metadata": {
        "id": "XJaICJANPPTr"
      },
      "source": [
        "#nan이 들어간 열 하나 제거\n",
        "train = train.dropna()\n",
        "#nan이 마지막 8개인가 컬 wf 인가 하나씩밖에없음"
      ],
      "execution_count": null,
      "outputs": []
    },
    {
      "cell_type": "code",
      "metadata": {
        "id": "Pi2AjrqmH93w",
        "colab": {
          "base_uri": "https://localhost:8080/"
        },
        "outputId": "0ac8ae67-ffe4-48eb-9421-be0e6a441a54"
      },
      "source": [
        "train.shape"
      ],
      "execution_count": null,
      "outputs": [
        {
          "output_type": "execute_result",
          "data": {
            "text/plain": [
              "(19405, 77)"
            ]
          },
          "metadata": {
            "tags": []
          },
          "execution_count": 10
        }
      ]
    },
    {
      "cell_type": "code",
      "metadata": {
        "id": "VzhRXypgHNLL"
      },
      "source": [
        "#pandas to numpy with categorical\n",
        "def df_to_np(dataframe):\n",
        "    \"\"\"pandas to numpy with categorical\"\"\"\n",
        "    dataframe = dataframe.copy()\n",
        "    np_x = pd.get_dummies(dataframe, columns=['age_group', 'gender', 'race', 'religion'])\n",
        "    np_y = []\n",
        "    if 'voted' in np_x:\n",
        "        np_y = np_x['voted']\n",
        "        np_x = np_x.drop('voted', axis = 1)\n",
        "    return np_x, np_y"
      ],
      "execution_count": null,
      "outputs": []
    },
    {
      "cell_type": "code",
      "metadata": {
        "id": "F2mUBGjUIJ40"
      },
      "source": [
        "train_x, train_y = df_to_np(train)\n",
        "train_y = train_y - 1"
      ],
      "execution_count": null,
      "outputs": []
    },
    {
      "cell_type": "code",
      "metadata": {
        "id": "NwXCecWBU9z8"
      },
      "source": [
        "#정규화\n",
        "def normalize(dataset):\n",
        "    norm = (dataset - dataset.mean(axis=0)) / (dataset.std(axis=0))\n",
        "    return norm"
      ],
      "execution_count": null,
      "outputs": []
    },
    {
      "cell_type": "code",
      "metadata": {
        "id": "4MK4YiDpV8x7"
      },
      "source": [
        "time = train_x.iloc[:,1]\n",
        "ans = train_x.iloc[:,0]\n",
        "for i in range(2,40):\n",
        "    if i%2:\n",
        "        time = pd.concat([time, train.iloc[:,i]], axis=1)\n",
        "    else :\n",
        "        ans = pd.concat([ans, train.iloc[:,i]],axis=1)"
      ],
      "execution_count": null,
      "outputs": []
    },
    {
      "cell_type": "code",
      "metadata": {
        "id": "ZulNunJBXptx"
      },
      "source": [
        "normalize(time)"
      ],
      "execution_count": null,
      "outputs": []
    },
    {
      "cell_type": "code",
      "metadata": {
        "id": "WShVe07-Wk7K"
      },
      "source": [
        "norm_train = pd.concat([train_x.iloc[:,40:], normalize(time), ans], axis=1)"
      ],
      "execution_count": null,
      "outputs": []
    },
    {
      "cell_type": "code",
      "metadata": {
        "id": "KTbQfqVkXGGT"
      },
      "source": [
        "norm_train.iloc[1,:]"
      ],
      "execution_count": null,
      "outputs": []
    },
    {
      "cell_type": "code",
      "metadata": {
        "id": "ZOxNTygkI4bG"
      },
      "source": [
        "#not norm\n",
        "train_x = train_x.iloc[:,40:]"
      ],
      "execution_count": null,
      "outputs": []
    },
    {
      "cell_type": "code",
      "metadata": {
        "id": "bji0NhkxI2en",
        "colab": {
          "base_uri": "https://localhost:8080/"
        },
        "outputId": "caec7df1-7ab2-4e8b-ee7d-2dfce5b2b2c0"
      },
      "source": [
        "train_x, val_x, train_y, val_y = train_test_split(train_x, train_y, test_size=0.2)\n",
        "print(train_x.shape, val_x.shape, train_y.shape, val_y.shape)"
      ],
      "execution_count": null,
      "outputs": [
        {
          "output_type": "stream",
          "text": [
            "(12419, 60) (3105, 60) (12419,) (3105,)\n"
          ],
          "name": "stdout"
        }
      ]
    },
    {
      "cell_type": "markdown",
      "metadata": {
        "id": "CBhizTpnUkqz"
      },
      "source": [
        "#DNN"
      ]
    },
    {
      "cell_type": "code",
      "metadata": {
        "id": "pT4CA8vD2c1E"
      },
      "source": [
        "leaky_relu = tf.nn.leaky_relu\n",
        "model = tf.keras.Sequential([\n",
        "                             layers.Input(shape=(60,)),\n",
        "                             layers.Dense(128, activation= 'elu'),\n",
        "                             layers.Dropout(0.4),\n",
        "                             layers.Dense(64, activation='elu'),\n",
        "                             layers.Dropout(0.4),\n",
        "                             layers.Dense(64, activation='elu'),\n",
        "                             layers.Dropout(0.4),\n",
        "                             layers.Dense(32, activation='elu'),\n",
        "                             layers.Dense(1, activation='sigmoid')\n",
        "\n",
        "])\n",
        "\n",
        "model.compile(optimizer = tf.keras.optimizers.Adam(),\n",
        "              loss='binary_crossentropy',\n",
        "              metrics=[tf.keras.metrics.AUC()])"
      ],
      "execution_count": null,
      "outputs": []
    },
    {
      "cell_type": "code",
      "metadata": {
        "id": "9lY6izHv5kif"
      },
      "source": [
        "model.fit(train_x, train_y, epochs=100, batch_size=32, validation_data=(val_x, val_y))"
      ],
      "execution_count": null,
      "outputs": []
    },
    {
      "cell_type": "code",
      "metadata": {
        "id": "rVcx3O_UHFmr"
      },
      "source": [
        ""
      ],
      "execution_count": null,
      "outputs": []
    },
    {
      "cell_type": "markdown",
      "metadata": {
        "id": "B8mB1hoGcWVy"
      },
      "source": [
        "#Adaboost"
      ]
    },
    {
      "cell_type": "code",
      "metadata": {
        "id": "dnOgM1lXch3C"
      },
      "source": [
        "from sklearn.tree import DecisionTreeClassifier\n",
        "from sklearn.ensemble import AdaBoostClassifier"
      ],
      "execution_count": null,
      "outputs": []
    },
    {
      "cell_type": "code",
      "metadata": {
        "id": "T3RR65iecYOZ"
      },
      "source": [
        "model = AdaBoostClassifier(n_estimators=5, random_state=42)"
      ],
      "execution_count": null,
      "outputs": []
    },
    {
      "cell_type": "code",
      "metadata": {
        "id": "prM8iKfrcx2u",
        "colab": {
          "base_uri": "https://localhost:8080/"
        },
        "outputId": "7da0cd14-dc07-4d4f-9fee-3d7b3d024045"
      },
      "source": [
        "model.fit(train_x, train_y)"
      ],
      "execution_count": null,
      "outputs": [
        {
          "output_type": "execute_result",
          "data": {
            "text/plain": [
              "AdaBoostClassifier(algorithm='SAMME.R', base_estimator=None, learning_rate=1.0,\n",
              "                   n_estimators=5, random_state=42)"
            ]
          },
          "metadata": {
            "tags": []
          },
          "execution_count": 152
        }
      ]
    },
    {
      "cell_type": "code",
      "metadata": {
        "id": "9vSuPARXdStP",
        "colab": {
          "base_uri": "https://localhost:8080/"
        },
        "outputId": "3241486f-5a3e-420f-e319-3824e4050aa2"
      },
      "source": [
        "print(model.score(train_x, train_y))"
      ],
      "execution_count": null,
      "outputs": [
        {
          "output_type": "stream",
          "text": [
            "0.6762694133741047\n"
          ],
          "name": "stdout"
        }
      ]
    },
    {
      "cell_type": "markdown",
      "metadata": {
        "id": "ugYX7DCSnNBC"
      },
      "source": [
        "#1. tensorflow - managing formed data"
      ]
    },
    {
      "cell_type": "code",
      "metadata": {
        "id": "tNl2UgFKk3bH"
      },
      "source": [
        "from tensorflow import feature_column\n",
        "from tensorflow.keras import layers\n",
        "from sklearn.model_selection import train_test_split"
      ],
      "execution_count": null,
      "outputs": []
    },
    {
      "cell_type": "code",
      "metadata": {
        "id": "sWany3k9nfFZ",
        "colab": {
          "base_uri": "https://localhost:8080/"
        },
        "outputId": "f7280a69-2c19-4fbb-dc1f-5fd7541c76df"
      },
      "source": [
        "t_train, t_val = train_test_split(train, test_size=0.2)\n",
        "print(len(t_train), ': 학습 데이터 수')\n",
        "print(len(t_val) , ': val 데이터 수')"
      ],
      "execution_count": null,
      "outputs": [
        {
          "output_type": "stream",
          "text": [
            "36425 : 학습 데이터 수\n",
            "9107 : val 데이터 수\n"
          ],
          "name": "stdout"
        }
      ]
    },
    {
      "cell_type": "code",
      "metadata": {
        "id": "YxwBOfCqoDtG",
        "colab": {
          "base_uri": "https://localhost:8080/"
        },
        "outputId": "12fc8e7e-196e-4b38-d8d2-a4e9282df04a"
      },
      "source": [
        "if 'voted' not in test:\n",
        "    print('no')\n",
        "else :\n",
        "    print('yes')\n",
        "\n",
        "#multi col - set.issubset"
      ],
      "execution_count": null,
      "outputs": [
        {
          "output_type": "stream",
          "text": [
            "no\n"
          ],
          "name": "stdout"
        }
      ]
    },
    {
      "cell_type": "code",
      "metadata": {
        "id": "_kn2HAHwot1c"
      },
      "source": [
        "#pandas to tf.data\n",
        "def df_to_dataset(dataframe, shuffle=True, batch_size=32):\n",
        "    dataframe = dataframe.copy()\n",
        "    labels = dataframe.pop('voted')\n",
        "    ds = tf.data.Dataset.from_tensor_slices((dict(dataframe), labels))\n",
        "    if shuffle:\n",
        "        ds = ds.shuffle(buffer_size=len(dataframe))\n",
        "    ds = ds.batch(batch_size)\n",
        "    return ds"
      ],
      "execution_count": null,
      "outputs": []
    },
    {
      "cell_type": "code",
      "metadata": {
        "id": "Spn49vD8wvys",
        "colab": {
          "base_uri": "https://localhost:8080/"
        },
        "outputId": "dbb03f58-c22d-4d0a-c49f-c8e734348751"
      },
      "source": [
        "batch_size = 5\n",
        "train_ds = df_to_dataset(t_train, batch_size=batch_size)\n",
        "val_ds = df_to_dataset(t_val, shuffle=False, batch_size=batch_size)"
      ],
      "execution_count": null,
      "outputs": [
        {
          "output_type": "stream",
          "text": [
            "26747    2\n",
            "16616    2\n",
            "170      2\n",
            "5331     2\n",
            "20913    1\n",
            "        ..\n",
            "21859    2\n",
            "1412     2\n",
            "27984    1\n",
            "9221     2\n",
            "13973    1\n",
            "Name: voted, Length: 36425, dtype: int64\n",
            "10878    2\n",
            "25103    2\n",
            "41150    2\n",
            "31352    1\n",
            "40189    1\n",
            "        ..\n",
            "1268     2\n",
            "6550     2\n",
            "10706    2\n",
            "35329    2\n",
            "37965    2\n",
            "Name: voted, Length: 9107, dtype: int64\n"
          ],
          "name": "stdout"
        }
      ]
    },
    {
      "cell_type": "code",
      "metadata": {
        "id": "B3cOcAoDx5Qi"
      },
      "source": [
        "col_name = []\n",
        "for feature_batch, label_batch in train_ds.take(1):\n",
        "    col_name = list(feature_batch.keys())\n",
        "col_name.remove('age_group')\n",
        "col_name.remove('race')\n",
        "col_name.remove('gender')\n",
        "col_name.remove('religion')"
      ],
      "execution_count": null,
      "outputs": []
    },
    {
      "cell_type": "code",
      "metadata": {
        "id": "gUI2q0LQ0mM6"
      },
      "source": [
        "feature_cols = []\n",
        "for header in co_name:\n",
        "    feature_cols.append(feature_column.numeric_column(header))\n",
        "\n",
        "categorical = feature_column.categorical_column_with_vocabulary_list(\n",
        "    \n",
        ")"
      ],
      "execution_count": null,
      "outputs": []
    }
  ]
}
